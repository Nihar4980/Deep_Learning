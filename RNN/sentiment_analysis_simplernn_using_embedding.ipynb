{
 "cells": [
  {
   "cell_type": "code",
   "execution_count": 1,
   "id": "45fce639",
   "metadata": {},
   "outputs": [],
   "source": [
    "from keras.datasets import imdb\n",
    "from keras.preprocessing.text import Tokenizer\n",
    "from keras.utils import pad_sequences\n",
    "from keras import Sequential\n",
    "from keras.layers import Dense,SimpleRNN,Embedding,Flatten"
   ]
  },
  {
   "cell_type": "code",
   "execution_count": 2,
   "id": "656a41fb",
   "metadata": {},
   "outputs": [],
   "source": [
    "import numpy as np\n",
    "\n",
    "docs = ['go india',\n",
    "\t\t'india india',\n",
    "\t\t'hip hip hurray',\n",
    "\t\t'jeetega bhai jeetega india jeetega',\n",
    "\t\t'bharat mata ki jai',\n",
    "\t\t'kohli kohli',\n",
    "\t\t'sachin sachin',\n",
    "\t\t'dhoni dhoni',\n",
    "\t\t'modi ji ki jai',\n",
    "\t\t'inquilab zindabad']"
   ]
  },
  {
   "cell_type": "code",
   "execution_count": 4,
   "id": "25a551e8",
   "metadata": {},
   "outputs": [],
   "source": [
    "from keras.preprocessing.text import Tokenizer\n",
    "tokenizer = Tokenizer(oov_token='<nothing>')\n",
    "# oov_token = we replace new word that are not present in our dataset as nothing"
   ]
  },
  {
   "cell_type": "code",
   "execution_count": 5,
   "id": "68fd7d7b",
   "metadata": {},
   "outputs": [],
   "source": [
    "tokenizer.fit_on_texts(docs)"
   ]
  },
  {
   "cell_type": "code",
   "execution_count": 6,
   "id": "167ae2ab",
   "metadata": {},
   "outputs": [
    {
     "data": {
      "text/plain": [
       "{'<nothing>': 1,\n",
       " 'india': 2,\n",
       " 'jeetega': 3,\n",
       " 'hip': 4,\n",
       " 'ki': 5,\n",
       " 'jai': 6,\n",
       " 'kohli': 7,\n",
       " 'sachin': 8,\n",
       " 'dhoni': 9,\n",
       " 'go': 10,\n",
       " 'hurray': 11,\n",
       " 'bhai': 12,\n",
       " 'bharat': 13,\n",
       " 'mata': 14,\n",
       " 'modi': 15,\n",
       " 'ji': 16,\n",
       " 'inquilab': 17,\n",
       " 'zindabad': 18}"
      ]
     },
     "execution_count": 6,
     "metadata": {},
     "output_type": "execute_result"
    }
   ],
   "source": [
    "tokenizer.word_index \n",
    "# unique word and how many times it is assigned"
   ]
  },
  {
   "cell_type": "code",
   "execution_count": 8,
   "id": "d882264b",
   "metadata": {},
   "outputs": [
    {
     "data": {
      "text/plain": [
       "OrderedDict([('go', 1),\n",
       "             ('india', 4),\n",
       "             ('hip', 2),\n",
       "             ('hurray', 1),\n",
       "             ('jeetega', 3),\n",
       "             ('bhai', 1),\n",
       "             ('bharat', 1),\n",
       "             ('mata', 1),\n",
       "             ('ki', 2),\n",
       "             ('jai', 2),\n",
       "             ('kohli', 2),\n",
       "             ('sachin', 2),\n",
       "             ('dhoni', 2),\n",
       "             ('modi', 1),\n",
       "             ('ji', 1),\n",
       "             ('inquilab', 1),\n",
       "             ('zindabad', 1)])"
      ]
     },
     "execution_count": 8,
     "metadata": {},
     "output_type": "execute_result"
    }
   ],
   "source": [
    "tokenizer.word_counts\n",
    "\n",
    "# word count"
   ]
  },
  {
   "cell_type": "code",
   "execution_count": 9,
   "id": "a0075db1",
   "metadata": {},
   "outputs": [
    {
     "data": {
      "text/plain": [
       "10"
      ]
     },
     "execution_count": 9,
     "metadata": {},
     "output_type": "execute_result"
    }
   ],
   "source": [
    "#Total number of rows\n",
    "tokenizer.document_count"
   ]
  },
  {
   "cell_type": "code",
   "execution_count": 10,
   "id": "a87d3e3a",
   "metadata": {},
   "outputs": [
    {
     "data": {
      "text/plain": [
       "[[10, 2],\n",
       " [2, 2],\n",
       " [4, 4, 11],\n",
       " [3, 12, 3, 2, 3],\n",
       " [13, 14, 5, 6],\n",
       " [7, 7],\n",
       " [8, 8],\n",
       " [9, 9],\n",
       " [15, 16, 5, 6],\n",
       " [17, 18]]"
      ]
     },
     "execution_count": 10,
     "metadata": {},
     "output_type": "execute_result"
    }
   ],
   "source": [
    "sequences = tokenizer.texts_to_sequences(docs)\n",
    "sequences"
   ]
  },
  {
   "cell_type": "code",
   "execution_count": 11,
   "id": "6929af05",
   "metadata": {},
   "outputs": [],
   "source": [
    "from keras.utils import pad_sequences"
   ]
  },
  {
   "cell_type": "code",
   "execution_count": 12,
   "id": "ee251f50",
   "metadata": {},
   "outputs": [],
   "source": [
    "sequences_post = pad_sequences(sequences,padding='post')"
   ]
  },
  {
   "cell_type": "code",
   "execution_count": 13,
   "id": "ce9b69a8",
   "metadata": {},
   "outputs": [
    {
     "data": {
      "text/plain": [
       "array([[10,  2,  0,  0,  0],\n",
       "       [ 2,  2,  0,  0,  0],\n",
       "       [ 4,  4, 11,  0,  0],\n",
       "       [ 3, 12,  3,  2,  3],\n",
       "       [13, 14,  5,  6,  0],\n",
       "       [ 7,  7,  0,  0,  0],\n",
       "       [ 8,  8,  0,  0,  0],\n",
       "       [ 9,  9,  0,  0,  0],\n",
       "       [15, 16,  5,  6,  0],\n",
       "       [17, 18,  0,  0,  0]])"
      ]
     },
     "execution_count": 13,
     "metadata": {},
     "output_type": "execute_result"
    }
   ],
   "source": [
    "sequences_post"
   ]
  },
  {
   "cell_type": "code",
   "execution_count": 14,
   "id": "e712344a",
   "metadata": {},
   "outputs": [
    {
     "data": {
      "text/plain": [
       "array([[ 0,  0,  0, 10,  2],\n",
       "       [ 0,  0,  0,  2,  2],\n",
       "       [ 0,  0,  4,  4, 11],\n",
       "       [ 3, 12,  3,  2,  3],\n",
       "       [ 0, 13, 14,  5,  6],\n",
       "       [ 0,  0,  0,  7,  7],\n",
       "       [ 0,  0,  0,  8,  8],\n",
       "       [ 0,  0,  0,  9,  9],\n",
       "       [ 0, 15, 16,  5,  6],\n",
       "       [ 0,  0,  0, 17, 18]])"
      ]
     },
     "execution_count": 14,
     "metadata": {},
     "output_type": "execute_result"
    }
   ],
   "source": [
    "sequences_pre = pad_sequences(sequences,padding='pre')\n",
    "sequences_pre"
   ]
  },
  {
   "cell_type": "code",
   "execution_count": 13,
   "id": "6815947c",
   "metadata": {},
   "outputs": [
    {
     "name": "stdout",
     "output_type": "stream",
     "text": [
      "Model: \"sequential\"\n",
      "_________________________________________________________________\n",
      " Layer (type)                Output Shape              Param #   \n",
      "=================================================================\n",
      " embedding (Embedding)       (None, 5, 2)              34        \n",
      "                                                                 \n",
      "=================================================================\n",
      "Total params: 34\n",
      "Trainable params: 34\n",
      "Non-trainable params: 0\n",
      "_________________________________________________________________\n"
     ]
    }
   ],
   "source": [
    "model = Sequential()\n",
    "model.add(Embedding(17,output_dim=2,input_length=5))\n",
    "\n",
    "model.compile('adam','accuracy')\n",
    "\n",
    "model.summary()"
   ]
  },
  {
   "cell_type": "code",
   "execution_count": 14,
   "id": "1e172bc1",
   "metadata": {},
   "outputs": [
    {
     "name": "stdout",
     "output_type": "stream",
     "text": [
      "1/1 [==============================] - 0s 74ms/step\n",
      "[[[-0.00666513  0.01738321]\n",
      "  [-0.04922694  0.01444939]\n",
      "  [-0.01688384  0.00870061]\n",
      "  [-0.01688384  0.00870061]\n",
      "  [-0.01688384  0.00870061]]\n",
      "\n",
      " [[-0.04922694  0.01444939]\n",
      "  [-0.04922694  0.01444939]\n",
      "  [-0.01688384  0.00870061]\n",
      "  [-0.01688384  0.00870061]\n",
      "  [-0.01688384  0.00870061]]\n",
      "\n",
      " [[-0.03856826 -0.04991071]\n",
      "  [-0.03856826 -0.04991071]\n",
      "  [ 0.03341254 -0.03566463]\n",
      "  [-0.01688384  0.00870061]\n",
      "  [-0.01688384  0.00870061]]\n",
      "\n",
      " [[-0.04244253 -0.02586235]\n",
      "  [ 0.02696044 -0.04690727]\n",
      "  [-0.04244253 -0.02586235]\n",
      "  [-0.04922694  0.01444939]\n",
      "  [-0.04244253 -0.02586235]]\n",
      "\n",
      " [[ 0.04798038 -0.0377639 ]\n",
      "  [-0.00474184 -0.01168557]\n",
      "  [ 0.01238568 -0.0217575 ]\n",
      "  [-0.04312894 -0.04867965]\n",
      "  [-0.01688384  0.00870061]]\n",
      "\n",
      " [[ 0.00488174 -0.03200697]\n",
      "  [ 0.00488174 -0.03200697]\n",
      "  [-0.01688384  0.00870061]\n",
      "  [-0.01688384  0.00870061]\n",
      "  [-0.01688384  0.00870061]]\n",
      "\n",
      " [[-0.04981227  0.03949412]\n",
      "  [-0.04981227  0.03949412]\n",
      "  [-0.01688384  0.00870061]\n",
      "  [-0.01688384  0.00870061]\n",
      "  [-0.01688384  0.00870061]]\n",
      "\n",
      " [[ 0.00300163  0.01744557]\n",
      "  [ 0.00300163  0.01744557]\n",
      "  [-0.01688384  0.00870061]\n",
      "  [-0.01688384  0.00870061]\n",
      "  [-0.01688384  0.00870061]]\n",
      "\n",
      " [[-0.00893494  0.03059994]\n",
      "  [-0.00908737 -0.01406051]\n",
      "  [ 0.01238568 -0.0217575 ]\n",
      "  [-0.04312894 -0.04867965]\n",
      "  [-0.01688384  0.00870061]]\n",
      "\n",
      " [[ 0.00298107  0.0061933 ]\n",
      "  [ 0.          0.        ]\n",
      "  [-0.01688384  0.00870061]\n",
      "  [-0.01688384  0.00870061]\n",
      "  [-0.01688384  0.00870061]]]\n"
     ]
    }
   ],
   "source": [
    "pred = model.predict(sequences_post)\n",
    "print(pred)"
   ]
  },
  {
   "cell_type": "markdown",
   "id": "877557da",
   "metadata": {},
   "source": [
    "# Building Sentimental Analysis using embedding"
   ]
  },
  {
   "cell_type": "code",
   "execution_count": 15,
   "id": "848423f4",
   "metadata": {},
   "outputs": [
    {
     "name": "stdout",
     "output_type": "stream",
     "text": [
      "Downloading data from https://storage.googleapis.com/tensorflow/tf-keras-datasets/imdb.npz\n",
      "17464789/17464789 [==============================] - 3s 0us/step\n"
     ]
    }
   ],
   "source": [
    "(X_train,y_train),(X_test,y_test) = imdb.load_data()"
   ]
  },
  {
   "cell_type": "code",
   "execution_count": 16,
   "id": "ba25c017",
   "metadata": {},
   "outputs": [
    {
     "data": {
      "text/plain": [
       "[1,\n",
       " 14,\n",
       " 22,\n",
       " 16,\n",
       " 43,\n",
       " 530,\n",
       " 973,\n",
       " 1622,\n",
       " 1385,\n",
       " 65,\n",
       " 458,\n",
       " 4468,\n",
       " 66,\n",
       " 3941,\n",
       " 4,\n",
       " 173,\n",
       " 36,\n",
       " 256,\n",
       " 5,\n",
       " 25,\n",
       " 100,\n",
       " 43,\n",
       " 838,\n",
       " 112,\n",
       " 50,\n",
       " 670,\n",
       " 22665,\n",
       " 9,\n",
       " 35,\n",
       " 480,\n",
       " 284,\n",
       " 5,\n",
       " 150,\n",
       " 4,\n",
       " 172,\n",
       " 112,\n",
       " 167,\n",
       " 21631,\n",
       " 336,\n",
       " 385,\n",
       " 39,\n",
       " 4,\n",
       " 172,\n",
       " 4536,\n",
       " 1111,\n",
       " 17,\n",
       " 546,\n",
       " 38,\n",
       " 13,\n",
       " 447,\n",
       " 4,\n",
       " 192,\n",
       " 50,\n",
       " 16,\n",
       " 6,\n",
       " 147,\n",
       " 2025,\n",
       " 19,\n",
       " 14,\n",
       " 22,\n",
       " 4,\n",
       " 1920,\n",
       " 4613,\n",
       " 469,\n",
       " 4,\n",
       " 22,\n",
       " 71,\n",
       " 87,\n",
       " 12,\n",
       " 16,\n",
       " 43,\n",
       " 530,\n",
       " 38,\n",
       " 76,\n",
       " 15,\n",
       " 13,\n",
       " 1247,\n",
       " 4,\n",
       " 22,\n",
       " 17,\n",
       " 515,\n",
       " 17,\n",
       " 12,\n",
       " 16,\n",
       " 626,\n",
       " 18,\n",
       " 19193,\n",
       " 5,\n",
       " 62,\n",
       " 386,\n",
       " 12,\n",
       " 8,\n",
       " 316,\n",
       " 8,\n",
       " 106,\n",
       " 5,\n",
       " 4,\n",
       " 2223,\n",
       " 5244,\n",
       " 16,\n",
       " 480,\n",
       " 66,\n",
       " 3785,\n",
       " 33,\n",
       " 4,\n",
       " 130,\n",
       " 12,\n",
       " 16,\n",
       " 38,\n",
       " 619,\n",
       " 5,\n",
       " 25,\n",
       " 124,\n",
       " 51,\n",
       " 36,\n",
       " 135,\n",
       " 48,\n",
       " 25,\n",
       " 1415,\n",
       " 33,\n",
       " 6,\n",
       " 22,\n",
       " 12,\n",
       " 215,\n",
       " 28,\n",
       " 77,\n",
       " 52,\n",
       " 5,\n",
       " 14,\n",
       " 407,\n",
       " 16,\n",
       " 82,\n",
       " 10311,\n",
       " 8,\n",
       " 4,\n",
       " 107,\n",
       " 117,\n",
       " 5952,\n",
       " 15,\n",
       " 256,\n",
       " 4,\n",
       " 31050,\n",
       " 7,\n",
       " 3766,\n",
       " 5,\n",
       " 723,\n",
       " 36,\n",
       " 71,\n",
       " 43,\n",
       " 530,\n",
       " 476,\n",
       " 26,\n",
       " 400,\n",
       " 317,\n",
       " 46,\n",
       " 7,\n",
       " 4,\n",
       " 12118,\n",
       " 1029,\n",
       " 13,\n",
       " 104,\n",
       " 88,\n",
       " 4,\n",
       " 381,\n",
       " 15,\n",
       " 297,\n",
       " 98,\n",
       " 32,\n",
       " 2071,\n",
       " 56,\n",
       " 26,\n",
       " 141,\n",
       " 6,\n",
       " 194,\n",
       " 7486,\n",
       " 18,\n",
       " 4,\n",
       " 226,\n",
       " 22,\n",
       " 21,\n",
       " 134,\n",
       " 476,\n",
       " 26,\n",
       " 480,\n",
       " 5,\n",
       " 144,\n",
       " 30,\n",
       " 5535,\n",
       " 18,\n",
       " 51,\n",
       " 36,\n",
       " 28,\n",
       " 224,\n",
       " 92,\n",
       " 25,\n",
       " 104,\n",
       " 4,\n",
       " 226,\n",
       " 65,\n",
       " 16,\n",
       " 38,\n",
       " 1334,\n",
       " 88,\n",
       " 12,\n",
       " 16,\n",
       " 283,\n",
       " 5,\n",
       " 16,\n",
       " 4472,\n",
       " 113,\n",
       " 103,\n",
       " 32,\n",
       " 15,\n",
       " 16,\n",
       " 5345,\n",
       " 19,\n",
       " 178,\n",
       " 32]"
      ]
     },
     "execution_count": 16,
     "metadata": {},
     "output_type": "execute_result"
    }
   ],
   "source": [
    "X_train[0]"
   ]
  },
  {
   "cell_type": "code",
   "execution_count": 17,
   "id": "41d88dd1",
   "metadata": {},
   "outputs": [
    {
     "data": {
      "text/plain": [
       "2494"
      ]
     },
     "execution_count": 17,
     "metadata": {},
     "output_type": "execute_result"
    }
   ],
   "source": [
    "# find max length\n",
    "max([len(i) for i in X_train])"
   ]
  },
  {
   "cell_type": "code",
   "execution_count": 18,
   "id": "aceec77a",
   "metadata": {},
   "outputs": [
    {
     "data": {
      "text/plain": [
       "11"
      ]
     },
     "execution_count": 18,
     "metadata": {},
     "output_type": "execute_result"
    }
   ],
   "source": [
    "min([len(i) for i in X_train])"
   ]
  },
  {
   "cell_type": "code",
   "execution_count": 19,
   "id": "57340b82",
   "metadata": {},
   "outputs": [
    {
     "data": {
      "text/plain": [
       "(25000,)"
      ]
     },
     "execution_count": 19,
     "metadata": {},
     "output_type": "execute_result"
    }
   ],
   "source": [
    "X_train.shape"
   ]
  },
  {
   "cell_type": "code",
   "execution_count": 20,
   "id": "c77fd728",
   "metadata": {},
   "outputs": [
    {
     "data": {
      "text/plain": [
       "88586"
      ]
     },
     "execution_count": 20,
     "metadata": {},
     "output_type": "execute_result"
    }
   ],
   "source": [
    "# Total number of word presnt in X_train\n",
    "max([max(i) for i in X_train])  "
   ]
  },
  {
   "cell_type": "code",
   "execution_count": 21,
   "id": "def55168",
   "metadata": {},
   "outputs": [
    {
     "data": {
      "text/plain": [
       "88586"
      ]
     },
     "execution_count": 21,
     "metadata": {},
     "output_type": "execute_result"
    }
   ],
   "source": [
    "# Total number of word present in X_train\n",
    "x = []\n",
    "\n",
    "for i in X_train:\n",
    "    for j in i:\n",
    "        x.append(j)\n",
    "max(x)"
   ]
  },
  {
   "cell_type": "code",
   "execution_count": 22,
   "id": "fcadb63b",
   "metadata": {},
   "outputs": [
    {
     "data": {
      "text/plain": [
       "88585"
      ]
     },
     "execution_count": 22,
     "metadata": {},
     "output_type": "execute_result"
    }
   ],
   "source": [
    "len(set(x))"
   ]
  },
  {
   "cell_type": "code",
   "execution_count": 18,
   "id": "6dd7cfca",
   "metadata": {},
   "outputs": [],
   "source": [
    "X_train = pad_sequences(X_train,padding='post',maxlen=50)\n",
    "X_test = pad_sequences(X_test,padding='post',maxlen=50)"
   ]
  },
  {
   "cell_type": "code",
   "execution_count": 19,
   "id": "6c187285",
   "metadata": {},
   "outputs": [
    {
     "data": {
      "text/plain": [
       "(25000, 50)"
      ]
     },
     "execution_count": 19,
     "metadata": {},
     "output_type": "execute_result"
    }
   ],
   "source": [
    "X_train.shape"
   ]
  },
  {
   "cell_type": "code",
   "execution_count": 20,
   "id": "29bfda11",
   "metadata": {},
   "outputs": [
    {
     "name": "stdout",
     "output_type": "stream",
     "text": [
      "Model: \"sequential\"\n",
      "_________________________________________________________________\n",
      " Layer (type)                Output Shape              Param #   \n",
      "=================================================================\n",
      " embedding (Embedding)       (None, 50, 2)             177170    \n",
      "                                                                 \n",
      " simple_rnn (SimpleRNN)      (None, 32)                1120      \n",
      "                                                                 \n",
      " dense (Dense)               (None, 1)                 33        \n",
      "                                                                 \n",
      "=================================================================\n",
      "Total params: 178,323\n",
      "Trainable params: 178,323\n",
      "Non-trainable params: 0\n",
      "_________________________________________________________________\n"
     ]
    }
   ],
   "source": [
    "model = Sequential()\n",
    "model.add(Embedding(88585,output_dim=2,input_length=50))\n",
    "model.add(SimpleRNN(32,return_sequences=False))\n",
    "model.add(Dense(1,activation='sigmoid'))\n",
    "\n",
    "model.summary()"
   ]
  },
  {
   "cell_type": "code",
   "execution_count": 21,
   "id": "a4cbf520",
   "metadata": {},
   "outputs": [
    {
     "name": "stdout",
     "output_type": "stream",
     "text": [
      "Epoch 1/20\n",
      "782/782 [==============================] - 81s 94ms/step - loss: 0.6077 - accuracy: 0.6410 - val_loss: 0.4548 - val_accuracy: 0.7927\n",
      "Epoch 2/20\n",
      "782/782 [==============================] - 75s 95ms/step - loss: 0.3595 - accuracy: 0.8460 - val_loss: 0.4238 - val_accuracy: 0.8064\n",
      "Epoch 3/20\n",
      "782/782 [==============================] - 74s 95ms/step - loss: 0.2440 - accuracy: 0.9052 - val_loss: 0.4708 - val_accuracy: 0.7981\n",
      "Epoch 4/20\n",
      "782/782 [==============================] - 82s 105ms/step - loss: 0.1649 - accuracy: 0.9400 - val_loss: 0.5137 - val_accuracy: 0.7704\n",
      "Epoch 5/20\n",
      "782/782 [==============================] - 75s 96ms/step - loss: 0.1175 - accuracy: 0.9594 - val_loss: 0.6569 - val_accuracy: 0.7850\n",
      "Epoch 6/20\n",
      "782/782 [==============================] - 82s 105ms/step - loss: 0.0816 - accuracy: 0.9744 - val_loss: 0.7219 - val_accuracy: 0.7826\n",
      "Epoch 7/20\n",
      "782/782 [==============================] - 80s 102ms/step - loss: 0.0584 - accuracy: 0.9822 - val_loss: 0.7359 - val_accuracy: 0.7812\n",
      "Epoch 8/20\n",
      "782/782 [==============================] - 81s 104ms/step - loss: 0.0474 - accuracy: 0.9851 - val_loss: 0.9502 - val_accuracy: 0.7736\n",
      "Epoch 9/20\n",
      "782/782 [==============================] - 81s 103ms/step - loss: 0.0373 - accuracy: 0.9885 - val_loss: 0.8623 - val_accuracy: 0.7577\n",
      "Epoch 10/20\n",
      "782/782 [==============================] - 83s 106ms/step - loss: 0.0310 - accuracy: 0.9900 - val_loss: 1.1607 - val_accuracy: 0.7662\n",
      "Epoch 11/20\n",
      "782/782 [==============================] - 80s 103ms/step - loss: 0.0295 - accuracy: 0.9904 - val_loss: 1.3088 - val_accuracy: 0.7620\n",
      "Epoch 12/20\n",
      "782/782 [==============================] - 76s 97ms/step - loss: 0.0217 - accuracy: 0.9934 - val_loss: 1.1692 - val_accuracy: 0.7610\n",
      "Epoch 13/20\n",
      "782/782 [==============================] - 73s 93ms/step - loss: 0.0187 - accuracy: 0.9944 - val_loss: 1.2813 - val_accuracy: 0.7637\n",
      "Epoch 14/20\n",
      "782/782 [==============================] - 75s 95ms/step - loss: 0.0220 - accuracy: 0.9928 - val_loss: 1.0757 - val_accuracy: 0.7630\n",
      "Epoch 15/20\n",
      "782/782 [==============================] - 80s 102ms/step - loss: 0.0204 - accuracy: 0.9936 - val_loss: 1.1114 - val_accuracy: 0.7564\n",
      "Epoch 16/20\n",
      "782/782 [==============================] - 72s 93ms/step - loss: 0.0147 - accuracy: 0.9952 - val_loss: 1.5763 - val_accuracy: 0.7581\n",
      "Epoch 17/20\n",
      "782/782 [==============================] - 75s 95ms/step - loss: 0.0140 - accuracy: 0.9954 - val_loss: 1.3845 - val_accuracy: 0.7638\n",
      "Epoch 18/20\n",
      "782/782 [==============================] - 72s 92ms/step - loss: 0.0155 - accuracy: 0.9952 - val_loss: 1.2381 - val_accuracy: 0.7533\n",
      "Epoch 19/20\n",
      "782/782 [==============================] - 74s 95ms/step - loss: 0.0212 - accuracy: 0.9925 - val_loss: 1.4394 - val_accuracy: 0.7602\n",
      "Epoch 20/20\n",
      "782/782 [==============================] - 73s 93ms/step - loss: 0.0139 - accuracy: 0.9955 - val_loss: 1.3582 - val_accuracy: 0.7574\n"
     ]
    }
   ],
   "source": [
    "model.compile(loss='binary_crossentropy',optimizer='adam',metrics=['accuracy'])\n",
    "\n",
    "history = model.fit(X_train,y_train,epochs=20,validation_data=(X_test,y_test))"
   ]
  },
  {
   "cell_type": "code",
   "execution_count": 22,
   "id": "adb1c953",
   "metadata": {},
   "outputs": [
    {
     "ename": "ModuleNotFoundError",
     "evalue": "No module named 'matplotlib'",
     "output_type": "error",
     "traceback": [
      "\u001b[1;31m---------------------------------------------------------------------------\u001b[0m",
      "\u001b[1;31mModuleNotFoundError\u001b[0m                       Traceback (most recent call last)",
      "Cell \u001b[1;32mIn[22], line 1\u001b[0m\n\u001b[1;32m----> 1\u001b[0m \u001b[38;5;28;01mimport\u001b[39;00m \u001b[38;5;21;01mmatplotlib\u001b[39;00m\u001b[38;5;21;01m.\u001b[39;00m\u001b[38;5;21;01mpyplot\u001b[39;00m \u001b[38;5;28;01mas\u001b[39;00m \u001b[38;5;21;01mplt\u001b[39;00m\n\u001b[0;32m      2\u001b[0m plt\u001b[38;5;241m.\u001b[39mplot(history\u001b[38;5;241m.\u001b[39mhistory[\u001b[38;5;124m'\u001b[39m\u001b[38;5;124maccuracy\u001b[39m\u001b[38;5;124m'\u001b[39m],color\u001b[38;5;241m=\u001b[39m\u001b[38;5;124m'\u001b[39m\u001b[38;5;124mred\u001b[39m\u001b[38;5;124m'\u001b[39m,label\u001b[38;5;241m=\u001b[39m\u001b[38;5;124m'\u001b[39m\u001b[38;5;124mtrain\u001b[39m\u001b[38;5;124m'\u001b[39m)\n\u001b[0;32m      3\u001b[0m plt\u001b[38;5;241m.\u001b[39mplot(history\u001b[38;5;241m.\u001b[39mhistory[\u001b[38;5;124m'\u001b[39m\u001b[38;5;124mval_accuracy\u001b[39m\u001b[38;5;124m'\u001b[39m],color\u001b[38;5;241m=\u001b[39m\u001b[38;5;124m'\u001b[39m\u001b[38;5;124mblue\u001b[39m\u001b[38;5;124m'\u001b[39m,label\u001b[38;5;241m=\u001b[39m\u001b[38;5;124m'\u001b[39m\u001b[38;5;124mvalidation\u001b[39m\u001b[38;5;124m'\u001b[39m)\n",
      "\u001b[1;31mModuleNotFoundError\u001b[0m: No module named 'matplotlib'"
     ]
    }
   ],
   "source": [
    "import matplotlib.pyplot as plt\n",
    "plt.plot(history.history['accuracy'],color='red',label='train')\n",
    "plt.plot(history.history['val_accuracy'],color='blue',label='validation')\n",
    "plt.legend()\n",
    "plt.show()"
   ]
  },
  {
   "cell_type": "code",
   "execution_count": null,
   "id": "7f28667e",
   "metadata": {},
   "outputs": [],
   "source": [
    "plt.plot(history.history['loss'],color='red',label='train')\n",
    "plt.plot(history.history['val_loss'],color='blue',label='validation')\n",
    "plt.legend()\n",
    "plt.show()"
   ]
  },
  {
   "cell_type": "code",
   "execution_count": null,
   "id": "d3139709",
   "metadata": {},
   "outputs": [],
   "source": []
  }
 ],
 "metadata": {
  "kernelspec": {
   "display_name": "Python 3 (ipykernel)",
   "language": "python",
   "name": "python3"
  },
  "language_info": {
   "codemirror_mode": {
    "name": "ipython",
    "version": 3
   },
   "file_extension": ".py",
   "mimetype": "text/x-python",
   "name": "python",
   "nbconvert_exporter": "python",
   "pygments_lexer": "ipython3",
   "version": "3.9.18"
  }
 },
 "nbformat": 4,
 "nbformat_minor": 5
}
