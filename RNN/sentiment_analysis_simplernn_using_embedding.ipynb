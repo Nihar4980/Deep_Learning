{
 "cells": [
  {
   "cell_type": "code",
   "execution_count": 1,
   "id": "45fce639",
   "metadata": {},
   "outputs": [],
   "source": [
    "from keras.datasets import imdb\n",
    "from keras.preprocessing.text import Tokenizer\n",
    "from keras.utils import pad_sequences\n",
    "from keras import Sequential\n",
    "from keras.layers import Dense,SimpleRNN,Embedding,Flatten"
   ]
  },
  {
   "cell_type": "code",
   "execution_count": 2,
   "id": "656a41fb",
   "metadata": {},
   "outputs": [],
   "source": [
    "import numpy as np\n",
    "\n",
    "docs = ['go india',\n",
    "\t\t'india india',\n",
    "\t\t'hip hip hurray',\n",
    "\t\t'jeetega bhai jeetega india jeetega',\n",
    "\t\t'bharat mata ki jai',\n",
    "\t\t'kohli kohli',\n",
    "\t\t'sachin sachin',\n",
    "\t\t'dhoni dhoni',\n",
    "\t\t'modi ji ki jai',\n",
    "\t\t'inquilab zindabad']"
   ]
  },
  {
   "cell_type": "code",
   "execution_count": 3,
   "id": "25a551e8",
   "metadata": {},
   "outputs": [],
   "source": [
    "from keras.preprocessing.text import Tokenizer\n",
    "tokenizer = Tokenizer()\n",
    "# oov_token = we replace new word that are not present in our dataset as nothing"
   ]
  },
  {
   "cell_type": "code",
   "execution_count": 4,
   "id": "68fd7d7b",
   "metadata": {},
   "outputs": [],
   "source": [
    "tokenizer.fit_on_texts(docs)"
   ]
  },
  {
   "cell_type": "code",
   "execution_count": 5,
   "id": "167ae2ab",
   "metadata": {},
   "outputs": [
    {
     "data": {
      "text/plain": [
       "{'india': 1,\n",
       " 'jeetega': 2,\n",
       " 'hip': 3,\n",
       " 'ki': 4,\n",
       " 'jai': 5,\n",
       " 'kohli': 6,\n",
       " 'sachin': 7,\n",
       " 'dhoni': 8,\n",
       " 'go': 9,\n",
       " 'hurray': 10,\n",
       " 'bhai': 11,\n",
       " 'bharat': 12,\n",
       " 'mata': 13,\n",
       " 'modi': 14,\n",
       " 'ji': 15,\n",
       " 'inquilab': 16,\n",
       " 'zindabad': 17}"
      ]
     },
     "execution_count": 5,
     "metadata": {},
     "output_type": "execute_result"
    }
   ],
   "source": [
    "tokenizer.word_index"
   ]
  },
  {
   "cell_type": "code",
   "execution_count": 6,
   "id": "d882264b",
   "metadata": {},
   "outputs": [
    {
     "data": {
      "text/plain": [
       "OrderedDict([('go', 1),\n",
       "             ('india', 4),\n",
       "             ('hip', 2),\n",
       "             ('hurray', 1),\n",
       "             ('jeetega', 3),\n",
       "             ('bhai', 1),\n",
       "             ('bharat', 1),\n",
       "             ('mata', 1),\n",
       "             ('ki', 2),\n",
       "             ('jai', 2),\n",
       "             ('kohli', 2),\n",
       "             ('sachin', 2),\n",
       "             ('dhoni', 2),\n",
       "             ('modi', 1),\n",
       "             ('ji', 1),\n",
       "             ('inquilab', 1),\n",
       "             ('zindabad', 1)])"
      ]
     },
     "execution_count": 6,
     "metadata": {},
     "output_type": "execute_result"
    }
   ],
   "source": [
    "tokenizer.word_counts"
   ]
  },
  {
   "cell_type": "code",
   "execution_count": 7,
   "id": "a0075db1",
   "metadata": {},
   "outputs": [
    {
     "data": {
      "text/plain": [
       "10"
      ]
     },
     "execution_count": 7,
     "metadata": {},
     "output_type": "execute_result"
    }
   ],
   "source": [
    "#Total number of rows\n",
    "tokenizer.document_count"
   ]
  },
  {
   "cell_type": "code",
   "execution_count": 8,
   "id": "a87d3e3a",
   "metadata": {},
   "outputs": [
    {
     "data": {
      "text/plain": [
       "[[9, 1],\n",
       " [1, 1],\n",
       " [3, 3, 10],\n",
       " [2, 11, 2, 1, 2],\n",
       " [12, 13, 4, 5],\n",
       " [6, 6],\n",
       " [7, 7],\n",
       " [8, 8],\n",
       " [14, 15, 4, 5],\n",
       " [16, 17]]"
      ]
     },
     "execution_count": 8,
     "metadata": {},
     "output_type": "execute_result"
    }
   ],
   "source": [
    "sequences = tokenizer.texts_to_sequences(docs)\n",
    "sequences"
   ]
  },
  {
   "cell_type": "code",
   "execution_count": 9,
   "id": "6929af05",
   "metadata": {},
   "outputs": [],
   "source": [
    "from keras.utils import pad_sequences"
   ]
  },
  {
   "cell_type": "code",
   "execution_count": 10,
   "id": "ee251f50",
   "metadata": {},
   "outputs": [],
   "source": [
    "sequences_post = pad_sequences(sequences,padding='post')"
   ]
  },
  {
   "cell_type": "code",
   "execution_count": 11,
   "id": "ce9b69a8",
   "metadata": {},
   "outputs": [
    {
     "data": {
      "text/plain": [
       "array([[ 9,  1,  0,  0,  0],\n",
       "       [ 1,  1,  0,  0,  0],\n",
       "       [ 3,  3, 10,  0,  0],\n",
       "       [ 2, 11,  2,  1,  2],\n",
       "       [12, 13,  4,  5,  0],\n",
       "       [ 6,  6,  0,  0,  0],\n",
       "       [ 7,  7,  0,  0,  0],\n",
       "       [ 8,  8,  0,  0,  0],\n",
       "       [14, 15,  4,  5,  0],\n",
       "       [16, 17,  0,  0,  0]])"
      ]
     },
     "execution_count": 11,
     "metadata": {},
     "output_type": "execute_result"
    }
   ],
   "source": [
    "sequences_post"
   ]
  },
  {
   "cell_type": "code",
   "execution_count": 12,
   "id": "e712344a",
   "metadata": {},
   "outputs": [
    {
     "data": {
      "text/plain": [
       "array([[ 0,  0,  0,  9,  1],\n",
       "       [ 0,  0,  0,  1,  1],\n",
       "       [ 0,  0,  3,  3, 10],\n",
       "       [ 2, 11,  2,  1,  2],\n",
       "       [ 0, 12, 13,  4,  5],\n",
       "       [ 0,  0,  0,  6,  6],\n",
       "       [ 0,  0,  0,  7,  7],\n",
       "       [ 0,  0,  0,  8,  8],\n",
       "       [ 0, 14, 15,  4,  5],\n",
       "       [ 0,  0,  0, 16, 17]])"
      ]
     },
     "execution_count": 12,
     "metadata": {},
     "output_type": "execute_result"
    }
   ],
   "source": [
    "sequences_pre = pad_sequences(sequences,padding='pre')\n",
    "sequences_pre"
   ]
  },
  {
   "cell_type": "code",
   "execution_count": 13,
   "id": "6815947c",
   "metadata": {},
   "outputs": [
    {
     "name": "stdout",
     "output_type": "stream",
     "text": [
      "Model: \"sequential\"\n",
      "_________________________________________________________________\n",
      " Layer (type)                Output Shape              Param #   \n",
      "=================================================================\n",
      " embedding (Embedding)       (None, 5, 2)              34        \n",
      "                                                                 \n",
      "=================================================================\n",
      "Total params: 34\n",
      "Trainable params: 34\n",
      "Non-trainable params: 0\n",
      "_________________________________________________________________\n"
     ]
    }
   ],
   "source": [
    "model = Sequential()\n",
    "model.add(Embedding(17,output_dim=2,input_length=5))\n",
    "\n",
    "model.compile('adam','accuracy')\n",
    "\n",
    "model.summary()"
   ]
  },
  {
   "cell_type": "code",
   "execution_count": 14,
   "id": "1e172bc1",
   "metadata": {},
   "outputs": [
    {
     "name": "stdout",
     "output_type": "stream",
     "text": [
      "1/1 [==============================] - 0s 74ms/step\n",
      "[[[-0.00666513  0.01738321]\n",
      "  [-0.04922694  0.01444939]\n",
      "  [-0.01688384  0.00870061]\n",
      "  [-0.01688384  0.00870061]\n",
      "  [-0.01688384  0.00870061]]\n",
      "\n",
      " [[-0.04922694  0.01444939]\n",
      "  [-0.04922694  0.01444939]\n",
      "  [-0.01688384  0.00870061]\n",
      "  [-0.01688384  0.00870061]\n",
      "  [-0.01688384  0.00870061]]\n",
      "\n",
      " [[-0.03856826 -0.04991071]\n",
      "  [-0.03856826 -0.04991071]\n",
      "  [ 0.03341254 -0.03566463]\n",
      "  [-0.01688384  0.00870061]\n",
      "  [-0.01688384  0.00870061]]\n",
      "\n",
      " [[-0.04244253 -0.02586235]\n",
      "  [ 0.02696044 -0.04690727]\n",
      "  [-0.04244253 -0.02586235]\n",
      "  [-0.04922694  0.01444939]\n",
      "  [-0.04244253 -0.02586235]]\n",
      "\n",
      " [[ 0.04798038 -0.0377639 ]\n",
      "  [-0.00474184 -0.01168557]\n",
      "  [ 0.01238568 -0.0217575 ]\n",
      "  [-0.04312894 -0.04867965]\n",
      "  [-0.01688384  0.00870061]]\n",
      "\n",
      " [[ 0.00488174 -0.03200697]\n",
      "  [ 0.00488174 -0.03200697]\n",
      "  [-0.01688384  0.00870061]\n",
      "  [-0.01688384  0.00870061]\n",
      "  [-0.01688384  0.00870061]]\n",
      "\n",
      " [[-0.04981227  0.03949412]\n",
      "  [-0.04981227  0.03949412]\n",
      "  [-0.01688384  0.00870061]\n",
      "  [-0.01688384  0.00870061]\n",
      "  [-0.01688384  0.00870061]]\n",
      "\n",
      " [[ 0.00300163  0.01744557]\n",
      "  [ 0.00300163  0.01744557]\n",
      "  [-0.01688384  0.00870061]\n",
      "  [-0.01688384  0.00870061]\n",
      "  [-0.01688384  0.00870061]]\n",
      "\n",
      " [[-0.00893494  0.03059994]\n",
      "  [-0.00908737 -0.01406051]\n",
      "  [ 0.01238568 -0.0217575 ]\n",
      "  [-0.04312894 -0.04867965]\n",
      "  [-0.01688384  0.00870061]]\n",
      "\n",
      " [[ 0.00298107  0.0061933 ]\n",
      "  [ 0.          0.        ]\n",
      "  [-0.01688384  0.00870061]\n",
      "  [-0.01688384  0.00870061]\n",
      "  [-0.01688384  0.00870061]]]\n"
     ]
    }
   ],
   "source": [
    "pred = model.predict(sequences_post)\n",
    "print(pred)"
   ]
  },
  {
   "cell_type": "markdown",
   "id": "877557da",
   "metadata": {},
   "source": [
    "# Building Sentimental Analysis using embedding"
   ]
  },
  {
   "cell_type": "code",
   "execution_count": 15,
   "id": "848423f4",
   "metadata": {},
   "outputs": [],
   "source": [
    "(X_train,y_train),(X_test,y_test) = imdb.load_data()"
   ]
  },
  {
   "cell_type": "code",
   "execution_count": 16,
   "id": "ba25c017",
   "metadata": {},
   "outputs": [
    {
     "data": {
      "text/plain": [
       "[1,\n",
       " 14,\n",
       " 22,\n",
       " 16,\n",
       " 43,\n",
       " 530,\n",
       " 973,\n",
       " 1622,\n",
       " 1385,\n",
       " 65,\n",
       " 458,\n",
       " 4468,\n",
       " 66,\n",
       " 3941,\n",
       " 4,\n",
       " 173,\n",
       " 36,\n",
       " 256,\n",
       " 5,\n",
       " 25,\n",
       " 100,\n",
       " 43,\n",
       " 838,\n",
       " 112,\n",
       " 50,\n",
       " 670,\n",
       " 22665,\n",
       " 9,\n",
       " 35,\n",
       " 480,\n",
       " 284,\n",
       " 5,\n",
       " 150,\n",
       " 4,\n",
       " 172,\n",
       " 112,\n",
       " 167,\n",
       " 21631,\n",
       " 336,\n",
       " 385,\n",
       " 39,\n",
       " 4,\n",
       " 172,\n",
       " 4536,\n",
       " 1111,\n",
       " 17,\n",
       " 546,\n",
       " 38,\n",
       " 13,\n",
       " 447,\n",
       " 4,\n",
       " 192,\n",
       " 50,\n",
       " 16,\n",
       " 6,\n",
       " 147,\n",
       " 2025,\n",
       " 19,\n",
       " 14,\n",
       " 22,\n",
       " 4,\n",
       " 1920,\n",
       " 4613,\n",
       " 469,\n",
       " 4,\n",
       " 22,\n",
       " 71,\n",
       " 87,\n",
       " 12,\n",
       " 16,\n",
       " 43,\n",
       " 530,\n",
       " 38,\n",
       " 76,\n",
       " 15,\n",
       " 13,\n",
       " 1247,\n",
       " 4,\n",
       " 22,\n",
       " 17,\n",
       " 515,\n",
       " 17,\n",
       " 12,\n",
       " 16,\n",
       " 626,\n",
       " 18,\n",
       " 19193,\n",
       " 5,\n",
       " 62,\n",
       " 386,\n",
       " 12,\n",
       " 8,\n",
       " 316,\n",
       " 8,\n",
       " 106,\n",
       " 5,\n",
       " 4,\n",
       " 2223,\n",
       " 5244,\n",
       " 16,\n",
       " 480,\n",
       " 66,\n",
       " 3785,\n",
       " 33,\n",
       " 4,\n",
       " 130,\n",
       " 12,\n",
       " 16,\n",
       " 38,\n",
       " 619,\n",
       " 5,\n",
       " 25,\n",
       " 124,\n",
       " 51,\n",
       " 36,\n",
       " 135,\n",
       " 48,\n",
       " 25,\n",
       " 1415,\n",
       " 33,\n",
       " 6,\n",
       " 22,\n",
       " 12,\n",
       " 215,\n",
       " 28,\n",
       " 77,\n",
       " 52,\n",
       " 5,\n",
       " 14,\n",
       " 407,\n",
       " 16,\n",
       " 82,\n",
       " 10311,\n",
       " 8,\n",
       " 4,\n",
       " 107,\n",
       " 117,\n",
       " 5952,\n",
       " 15,\n",
       " 256,\n",
       " 4,\n",
       " 31050,\n",
       " 7,\n",
       " 3766,\n",
       " 5,\n",
       " 723,\n",
       " 36,\n",
       " 71,\n",
       " 43,\n",
       " 530,\n",
       " 476,\n",
       " 26,\n",
       " 400,\n",
       " 317,\n",
       " 46,\n",
       " 7,\n",
       " 4,\n",
       " 12118,\n",
       " 1029,\n",
       " 13,\n",
       " 104,\n",
       " 88,\n",
       " 4,\n",
       " 381,\n",
       " 15,\n",
       " 297,\n",
       " 98,\n",
       " 32,\n",
       " 2071,\n",
       " 56,\n",
       " 26,\n",
       " 141,\n",
       " 6,\n",
       " 194,\n",
       " 7486,\n",
       " 18,\n",
       " 4,\n",
       " 226,\n",
       " 22,\n",
       " 21,\n",
       " 134,\n",
       " 476,\n",
       " 26,\n",
       " 480,\n",
       " 5,\n",
       " 144,\n",
       " 30,\n",
       " 5535,\n",
       " 18,\n",
       " 51,\n",
       " 36,\n",
       " 28,\n",
       " 224,\n",
       " 92,\n",
       " 25,\n",
       " 104,\n",
       " 4,\n",
       " 226,\n",
       " 65,\n",
       " 16,\n",
       " 38,\n",
       " 1334,\n",
       " 88,\n",
       " 12,\n",
       " 16,\n",
       " 283,\n",
       " 5,\n",
       " 16,\n",
       " 4472,\n",
       " 113,\n",
       " 103,\n",
       " 32,\n",
       " 15,\n",
       " 16,\n",
       " 5345,\n",
       " 19,\n",
       " 178,\n",
       " 32]"
      ]
     },
     "execution_count": 16,
     "metadata": {},
     "output_type": "execute_result"
    }
   ],
   "source": [
    "X_train[0]"
   ]
  },
  {
   "cell_type": "code",
   "execution_count": 17,
   "id": "41d88dd1",
   "metadata": {},
   "outputs": [
    {
     "data": {
      "text/plain": [
       "2494"
      ]
     },
     "execution_count": 17,
     "metadata": {},
     "output_type": "execute_result"
    }
   ],
   "source": [
    "# find max length\n",
    "max([len(i) for i in X_train])"
   ]
  },
  {
   "cell_type": "code",
   "execution_count": 18,
   "id": "aceec77a",
   "metadata": {},
   "outputs": [
    {
     "data": {
      "text/plain": [
       "11"
      ]
     },
     "execution_count": 18,
     "metadata": {},
     "output_type": "execute_result"
    }
   ],
   "source": [
    "min([len(i) for i in X_train])"
   ]
  },
  {
   "cell_type": "code",
   "execution_count": 19,
   "id": "57340b82",
   "metadata": {},
   "outputs": [
    {
     "data": {
      "text/plain": [
       "(25000,)"
      ]
     },
     "execution_count": 19,
     "metadata": {},
     "output_type": "execute_result"
    }
   ],
   "source": [
    "X_train.shape"
   ]
  },
  {
   "cell_type": "code",
   "execution_count": 20,
   "id": "c77fd728",
   "metadata": {},
   "outputs": [
    {
     "data": {
      "text/plain": [
       "88586"
      ]
     },
     "execution_count": 20,
     "metadata": {},
     "output_type": "execute_result"
    }
   ],
   "source": [
    "# Total number of word presnt in X_train\n",
    "max([max(i) for i in X_train])  "
   ]
  },
  {
   "cell_type": "code",
   "execution_count": 21,
   "id": "def55168",
   "metadata": {},
   "outputs": [
    {
     "data": {
      "text/plain": [
       "88586"
      ]
     },
     "execution_count": 21,
     "metadata": {},
     "output_type": "execute_result"
    }
   ],
   "source": [
    "# Total number of word present in X_train\n",
    "x = []\n",
    "\n",
    "for i in X_train:\n",
    "    for j in i:\n",
    "        x.append(j)\n",
    "max(x)"
   ]
  },
  {
   "cell_type": "code",
   "execution_count": 22,
   "id": "fcadb63b",
   "metadata": {},
   "outputs": [
    {
     "data": {
      "text/plain": [
       "88585"
      ]
     },
     "execution_count": 22,
     "metadata": {},
     "output_type": "execute_result"
    }
   ],
   "source": [
    "len(set(x))"
   ]
  },
  {
   "cell_type": "code",
   "execution_count": 23,
   "id": "6dd7cfca",
   "metadata": {},
   "outputs": [],
   "source": [
    "X_train = pad_sequences(X_train,padding='post',maxlen=50)\n",
    "X_test = pad_sequences(X_test,padding='post',maxlen=50)"
   ]
  },
  {
   "cell_type": "code",
   "execution_count": 24,
   "id": "6c187285",
   "metadata": {},
   "outputs": [
    {
     "data": {
      "text/plain": [
       "(25000, 50)"
      ]
     },
     "execution_count": 24,
     "metadata": {},
     "output_type": "execute_result"
    }
   ],
   "source": [
    "X_train.shape"
   ]
  },
  {
   "cell_type": "code",
   "execution_count": 25,
   "id": "29bfda11",
   "metadata": {},
   "outputs": [
    {
     "name": "stdout",
     "output_type": "stream",
     "text": [
      "Model: \"sequential_1\"\n",
      "_________________________________________________________________\n",
      " Layer (type)                Output Shape              Param #   \n",
      "=================================================================\n",
      " embedding_1 (Embedding)     (None, 50, 2)             177170    \n",
      "                                                                 \n",
      " simple_rnn (SimpleRNN)      (None, 32)                1120      \n",
      "                                                                 \n",
      " dense (Dense)               (None, 1)                 33        \n",
      "                                                                 \n",
      "=================================================================\n",
      "Total params: 178,323\n",
      "Trainable params: 178,323\n",
      "Non-trainable params: 0\n",
      "_________________________________________________________________\n"
     ]
    }
   ],
   "source": [
    "model = Sequential()\n",
    "model.add(Embedding(88585,output_dim=2,input_length=50))\n",
    "model.add(SimpleRNN(32,return_sequences=False))\n",
    "model.add(Dense(1,activation='sigmoid'))\n",
    "\n",
    "model.summary()"
   ]
  },
  {
   "cell_type": "code",
   "execution_count": null,
   "id": "a4cbf520",
   "metadata": {},
   "outputs": [
    {
     "name": "stdout",
     "output_type": "stream",
     "text": [
      "Epoch 1/20\n",
      "782/782 [==============================] - 86s 101ms/step - loss: 0.6113 - accuracy: 0.6312 - val_loss: 0.4396 - val_accuracy: 0.7996\n",
      "Epoch 2/20\n",
      "782/782 [==============================] - 73s 93ms/step - loss: 0.3655 - accuracy: 0.8425 - val_loss: 0.4284 - val_accuracy: 0.8114\n",
      "Epoch 3/20\n",
      "782/782 [==============================] - 68s 87ms/step - loss: 0.2447 - accuracy: 0.9067 - val_loss: 0.6145 - val_accuracy: 0.7816\n",
      "Epoch 4/20\n",
      "782/782 [==============================] - 73s 94ms/step - loss: 0.1750 - accuracy: 0.9377 - val_loss: 0.5407 - val_accuracy: 0.7946\n",
      "Epoch 5/20\n",
      "782/782 [==============================] - 73s 94ms/step - loss: 0.1238 - accuracy: 0.9578 - val_loss: 0.5623 - val_accuracy: 0.7893\n",
      "Epoch 6/20\n",
      "782/782 [==============================] - 73s 93ms/step - loss: 0.0889 - accuracy: 0.9715 - val_loss: 0.6553 - val_accuracy: 0.7809\n",
      "Epoch 7/20\n",
      "782/782 [==============================] - 75s 96ms/step - loss: 0.0705 - accuracy: 0.9774 - val_loss: 0.7421 - val_accuracy: 0.7784\n",
      "Epoch 8/20\n",
      "782/782 [==============================] - 74s 95ms/step - loss: 0.0576 - accuracy: 0.9808 - val_loss: 0.7839 - val_accuracy: 0.7743\n",
      "Epoch 9/20\n",
      "782/782 [==============================] - 73s 94ms/step - loss: 0.0378 - accuracy: 0.9886 - val_loss: 1.0731 - val_accuracy: 0.7644\n",
      "Epoch 10/20\n",
      "782/782 [==============================] - 74s 94ms/step - loss: 0.0366 - accuracy: 0.9885 - val_loss: 0.8970 - val_accuracy: 0.7672\n",
      "Epoch 11/20\n",
      "782/782 [==============================] - 77s 99ms/step - loss: 0.0319 - accuracy: 0.9897 - val_loss: 1.1217 - val_accuracy: 0.7601\n",
      "Epoch 12/20\n",
      "782/782 [==============================] - 78s 100ms/step - loss: 0.0251 - accuracy: 0.9921 - val_loss: 1.1432 - val_accuracy: 0.7580\n",
      "Epoch 13/20\n",
      "782/782 [==============================] - 77s 98ms/step - loss: 0.0230 - accuracy: 0.9926 - val_loss: 1.1754 - val_accuracy: 0.7617\n",
      "Epoch 14/20\n",
      "782/782 [==============================] - 72s 93ms/step - loss: 0.0209 - accuracy: 0.9929 - val_loss: 1.2731 - val_accuracy: 0.7592\n",
      "Epoch 15/20\n",
      "782/782 [==============================] - 73s 93ms/step - loss: 0.0195 - accuracy: 0.9935 - val_loss: 1.1878 - val_accuracy: 0.7540\n",
      "Epoch 16/20\n",
      "782/782 [==============================] - 74s 95ms/step - loss: 0.0173 - accuracy: 0.9947 - val_loss: 1.3187 - val_accuracy: 0.7557\n",
      "Epoch 17/20\n",
      "782/782 [==============================] - 71s 91ms/step - loss: 0.0218 - accuracy: 0.9932 - val_loss: 1.2947 - val_accuracy: 0.7593\n",
      "Epoch 18/20\n",
      "782/782 [==============================] - 72s 92ms/step - loss: 0.0174 - accuracy: 0.9950 - val_loss: 1.0617 - val_accuracy: 0.7528\n",
      "Epoch 19/20\n",
      "782/782 [==============================] - 75s 95ms/step - loss: 0.0154 - accuracy: 0.9956 - val_loss: 1.2403 - val_accuracy: 0.7541\n",
      "Epoch 20/20\n",
      "584/782 [=====================>........] - ETA: 14s - loss: 0.0108 - accuracy: 0.9968"
     ]
    }
   ],
   "source": [
    "model.compile(loss='binary_crossentropy',optimizer='adam',metrics=['accuracy'])\n",
    "\n",
    "history = model.fit(X_train,y_train,epochs=20,validation_data=(X_test,y_test))"
   ]
  },
  {
   "cell_type": "code",
   "execution_count": null,
   "id": "adb1c953",
   "metadata": {},
   "outputs": [],
   "source": [
    "import matplotlib.pyplot as plt\n",
    "plt.plot(history.history['accuracy'],color='red',label='train')\n",
    "plt.plot(history.history['val_accuracy'],color='blue',label='validation')\n",
    "plt.legend()\n",
    "plt.show()"
   ]
  },
  {
   "cell_type": "code",
   "execution_count": null,
   "id": "7f28667e",
   "metadata": {},
   "outputs": [],
   "source": [
    "plt.plot(history.history['loss'],color='red',label='train')\n",
    "plt.plot(history.history['val_loss'],color='blue',label='validation')\n",
    "plt.legend()\n",
    "plt.show()"
   ]
  },
  {
   "cell_type": "code",
   "execution_count": null,
   "id": "d3139709",
   "metadata": {},
   "outputs": [],
   "source": []
  }
 ],
 "metadata": {
  "kernelspec": {
   "display_name": "python 3.9(tensorflow)",
   "language": "python",
   "name": "tensorflow"
  },
  "language_info": {
   "codemirror_mode": {
    "name": "ipython",
    "version": 3
   },
   "file_extension": ".py",
   "mimetype": "text/x-python",
   "name": "python",
   "nbconvert_exporter": "python",
   "pygments_lexer": "ipython3",
   "version": "3.9.12"
  }
 },
 "nbformat": 4,
 "nbformat_minor": 5
}
