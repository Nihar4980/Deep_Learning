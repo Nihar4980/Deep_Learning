{
 "cells": [
  {
   "cell_type": "code",
   "execution_count": 1,
   "id": "1097712f",
   "metadata": {},
   "outputs": [],
   "source": [
    "# import libraries\n",
    "from keras import Sequential\n",
    "from keras.layers import Dense,SimpleRNN"
   ]
  },
  {
   "cell_type": "code",
   "execution_count": 2,
   "id": "ea9adac3",
   "metadata": {},
   "outputs": [
    {
     "name": "stdout",
     "output_type": "stream",
     "text": [
      "Model: \"sequential\"\n",
      "_________________________________________________________________\n",
      " Layer (type)                Output Shape              Param #   \n",
      "=================================================================\n",
      " simple_rnn (SimpleRNN)      (None, 3)                 27        \n",
      "                                                                 \n",
      " dense (Dense)               (None, 1)                 4         \n",
      "                                                                 \n",
      "=================================================================\n",
      "Total params: 31\n",
      "Trainable params: 31\n",
      "Non-trainable params: 0\n",
      "_________________________________________________________________\n"
     ]
    }
   ],
   "source": [
    "model = Sequential()\n",
    "\n",
    "model.add(SimpleRNN(3,input_shape=(4,5)))\n",
    "# Here input are in 3 timestamps and 5 features with 3 node or neuron\n",
    "model.add(Dense(1,activation='sigmoid'))\n",
    "\n",
    "# weights = 5*3 + 3*3(RNN output goes to input) + 3 (final 3 node output) = 27\n",
    "# bias = 3 (# nodes in hidden layer) + 1 (# node in output layer) = 4\n",
    "\n",
    "model.summary()"
   ]
  },
  {
   "cell_type": "code",
   "execution_count": 3,
   "id": "8e609274",
   "metadata": {},
   "outputs": [
    {
     "name": "stdout",
     "output_type": "stream",
     "text": [
      "(5, 3)\n"
     ]
    },
    {
     "data": {
      "text/plain": [
       "array([[ 0.6817629 ,  0.11006689, -0.6570222 ],\n",
       "       [-0.6304117 , -0.2874201 , -0.20613092],\n",
       "       [ 0.80021805,  0.34709305, -0.784986  ],\n",
       "       [-0.67445046,  0.7375861 , -0.24980295],\n",
       "       [ 0.01867104,  0.29226404,  0.02207005]], dtype=float32)"
      ]
     },
     "execution_count": 3,
     "metadata": {},
     "output_type": "execute_result"
    }
   ],
   "source": [
    "# Input layer shape & weights \n",
    "print(model.get_weights()[0].shape)\n",
    "model.get_weights()[0]"
   ]
  },
  {
   "cell_type": "code",
   "execution_count": 4,
   "id": "6c967efc",
   "metadata": {},
   "outputs": [
    {
     "name": "stdout",
     "output_type": "stream",
     "text": [
      "(3, 3)\n"
     ]
    },
    {
     "data": {
      "text/plain": [
       "array([[-0.57719827, -0.03458394, -0.8158714 ],\n",
       "       [ 0.21283133, -0.9709436 , -0.10941282],\n",
       "       [-0.78838134, -0.23679587,  0.5677875 ]], dtype=float32)"
      ]
     },
     "execution_count": 4,
     "metadata": {},
     "output_type": "execute_result"
    }
   ],
   "source": [
    "# Recurrent network weight and shape\n",
    "print(model.get_weights()[1].shape)\n",
    "model.get_weights()[1]"
   ]
  },
  {
   "cell_type": "code",
   "execution_count": 5,
   "id": "6efce1ae",
   "metadata": {},
   "outputs": [
    {
     "name": "stdout",
     "output_type": "stream",
     "text": [
      "(3,)\n"
     ]
    },
    {
     "data": {
      "text/plain": [
       "array([0., 0., 0.], dtype=float32)"
      ]
     },
     "execution_count": 5,
     "metadata": {},
     "output_type": "execute_result"
    }
   ],
   "source": [
    "# hidden layer bias and shape\n",
    "print(model.get_weights()[2].shape)\n",
    "model.get_weights()[2]"
   ]
  },
  {
   "cell_type": "code",
   "execution_count": 6,
   "id": "78e1a0dd",
   "metadata": {},
   "outputs": [
    {
     "name": "stdout",
     "output_type": "stream",
     "text": [
      "(5, 3)\n"
     ]
    },
    {
     "data": {
      "text/plain": [
       "array([[-0.6830162 ],\n",
       "       [-0.03780985],\n",
       "       [-0.8984993 ]], dtype=float32)"
      ]
     },
     "execution_count": 6,
     "metadata": {},
     "output_type": "execute_result"
    }
   ],
   "source": [
    "# hidden layer output to next layer shape & weights \n",
    "print(model.get_weights()[0].shape)\n",
    "model.get_weights()[3]"
   ]
  },
  {
   "cell_type": "code",
   "execution_count": 7,
   "id": "63301c3d",
   "metadata": {},
   "outputs": [
    {
     "name": "stdout",
     "output_type": "stream",
     "text": [
      "(1,)\n"
     ]
    },
    {
     "data": {
      "text/plain": [
       "array([0.], dtype=float32)"
      ]
     },
     "execution_count": 7,
     "metadata": {},
     "output_type": "execute_result"
    }
   ],
   "source": [
    "# output layer bias and shape\n",
    "print(model.get_weights()[4].shape)\n",
    "model.get_weights()[4]"
   ]
  },
  {
   "cell_type": "code",
   "execution_count": null,
   "id": "3824b016",
   "metadata": {},
   "outputs": [],
   "source": []
  }
 ],
 "metadata": {
  "kernelspec": {
   "display_name": "python 3.9(tensorflow)",
   "language": "python",
   "name": "tensorflow"
  },
  "language_info": {
   "codemirror_mode": {
    "name": "ipython",
    "version": 3
   },
   "file_extension": ".py",
   "mimetype": "text/x-python",
   "name": "python",
   "nbconvert_exporter": "python",
   "pygments_lexer": "ipython3",
   "version": "3.9.12"
  }
 },
 "nbformat": 4,
 "nbformat_minor": 5
}
