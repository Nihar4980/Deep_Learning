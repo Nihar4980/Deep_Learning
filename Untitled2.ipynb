{
 "cells": [
  {
   "cell_type": "code",
   "execution_count": 7,
   "id": "dac214f5",
   "metadata": {},
   "outputs": [],
   "source": [
    "import numpy as np"
   ]
  },
  {
   "cell_type": "code",
   "execution_count": 6,
   "id": "5b51df64",
   "metadata": {},
   "outputs": [
    {
     "ename": "NameError",
     "evalue": "name 'X' is not defined",
     "output_type": "error",
     "traceback": [
      "\u001b[1;31m---------------------------------------------------------------------------\u001b[0m",
      "\u001b[1;31mNameError\u001b[0m                                 Traceback (most recent call last)",
      "Cell \u001b[1;32mIn[6], line 20\u001b[0m\n\u001b[0;32m     18\u001b[0m     \u001b[38;5;28;01mreturn\u001b[39;00m fun\n\u001b[0;32m     19\u001b[0m \u001b[38;5;28;01mfor\u001b[39;00m cnt \u001b[38;5;129;01min\u001b[39;00m \u001b[38;5;28mrange\u001b[39m (\u001b[38;5;241m1\u001b[39m, max_iter\u001b[38;5;241m+\u001b[39m\u001b[38;5;241m1\u001b[39m):\n\u001b[1;32m---> 20\u001b[0m     fun \u001b[38;5;241m=\u001b[39m Sphere(X)\n\u001b[0;32m     21\u001b[0m     \u001b[38;5;66;03m#print('The function values are \\n',fun)\u001b[39;00m\n\u001b[0;32m     22\u001b[0m \n\u001b[0;32m     23\u001b[0m \u001b[38;5;66;03m#Probability Calculation\u001b[39;00m\n\u001b[0;32m     24\u001b[0m     prob \u001b[38;5;241m=\u001b[39m (\u001b[38;5;241m1\u001b[39m\u001b[38;5;241m/\u001b[39mfun)\u001b[38;5;241m/\u001b[39m\u001b[38;5;28msum\u001b[39m(\u001b[38;5;241m1\u001b[39m\u001b[38;5;241m/\u001b[39mfun)\n",
      "\u001b[1;31mNameError\u001b[0m: name 'X' is not defined"
     ]
    }
   ],
   "source": [
    "#sampling intervals\n",
    "UB = 5.12\n",
    "LB = -5.12\n",
    "R = 0.97\n",
    "C = 7\n",
    "max_iter = 10\n",
    "rand = np.random.uniform(0,1)\n",
    "var = 2\n",
    "\n",
    "def generate_random_matrix(rows, cols, lower_bound, upper_bound):\n",
    "    return np.random.uniform(lower_bound, upper_bound, (rows, cols))\n",
    "\n",
    "X = generate_random_matrix(, upper_bound, (rows, cols)\n",
    "#Function Calculation\n",
    "def Sphere(X):\n",
    "    for i in range(C):\n",
    "        fun[i] = X[i, 0]**2 + X[i, 1]**2\n",
    "        #print(f\"fun[{i}, 0] = {fun[i, 0]}\")\n",
    "    return fun\n",
    "for cnt in range (1, max_iter+1):\n",
    "    fun = Sphere(X)\n",
    "    #print('The function values are \\n',fun)\n",
    "\n",
    "#Probability Calculation\n",
    "    prob = (1/fun)/sum(1/fun)\n",
    "    #print('The corresponding probabilities are \\n',prob)\n",
    "\n",
    "#Roulette Wheel Approach\n",
    "    cumsum = np.cumsum(prob)\n",
    "    #print(cumsum)\n",
    "    g_ran = np.random.random(C)\n",
    "    print(g_ran)\n",
    "    d = {}\n",
    "    arr = []\n",
    "    for i in range(len(g_ran)):\n",
    "        #print(i)\n",
    "        for j,k in enumerate(cumsum):\n",
    "            #print(j,k)\n",
    "            if g_ran[i] >= k:\n",
    "                d[g_ran[i]] = j+1\n",
    "            # elif g_ran[i] < k:\n",
    "            #     d[g_ran[i]] = j\n",
    "    #print(d)\n",
    "    arr = np.array(list(d.values()))\n",
    "    print('The array is', arr)\n",
    "\n",
    "    X_up = X[arr]\n",
    "\n",
    "#Range\n",
    "    Original_Range = UB-LB\n",
    "    New_Range = Original_Range*R\n",
    "    New_LB = -(New_Range/2)\n",
    "    #print(New_LB)\n",
    "    New_UB = +(New_Range/2)\n",
    "    #print(New_UB)\n",
    "\n",
    "#New Bounds\n",
    "    New_Bounds_LB = np.ones([C, 2])\n",
    "    New_Bounds_UB = np.ones([C, 2])\n",
    "    LB_New = np.ones([C, 2])\n",
    "    UB_New = np.ones([C, 2])\n",
    "    for i in range(len(X_up)):\n",
    "        for j in range(var):\n",
    "            New_Bounds_LB[i,j] = X_up[i,j] + New_LB\n",
    "            New_Bounds_LB[i,j] = max(New_Bounds_LB[i,j],LB)\n",
    "            New_Bounds_UB[i,j] = X_up[i,j] + New_UB\n",
    "            New_Bounds_UB[i,j] = min(New_Bounds_UB[i,j],UB)\n",
    "\n",
    "#print(New_Bounds_LB, '\\n', New_Bounds_UB)\n",
    "\n",
    "#New Variable set\n",
    "    #rand_up = random.uniform(0,1)\n",
    "    #for i in range(C):\n",
    "        #for j in range(var):\n",
    "            #X_up[i,j] = New_Bounds_LB[i,j]+(New_Bounds_UB[i,j]-New_Bounds_LB[i,j])*rand_up\n",
    "    #X = X_up\n",
    "\n",
    "    rand_up = random.uniform(0, 1)\n",
    "    X_up = np.zeros_like(New_Bounds_LB)  # Ensure X_up has the same shape as New_Bounds_LB\n",
    "    for i in range(New_Bounds_LB.shape[0]):  # Loop over the available rows\n",
    "        for j in range(var):\n",
    "            X_up[i, j] = New_Bounds_LB[i, j] + (New_Bounds_UB[i, j] - New_Bounds_LB[i, j]) * rand_up\n",
    "            X = X_up\n",
    "    #print(Sphere(X))\n",
    "\n",
    "\n",
    "\n",
    "\n"
   ]
  },
  {
   "cell_type": "code",
   "execution_count": 8,
   "id": "2187b972",
   "metadata": {},
   "outputs": [
    {
     "data": {
      "text/plain": [
       "{0.34730243: 0,\n",
       " 0.52556095: 0,\n",
       " 0.84580246: 4,\n",
       " 0.7083085: 1,\n",
       " 0.85625692: 4,\n",
       " 0.28912465: 0,\n",
       " 0.33136193: 0}"
      ]
     },
     "execution_count": 8,
     "metadata": {},
     "output_type": "execute_result"
    }
   ],
   "source": [
    "import numpy as np\n",
    "cumsum = np.array([0.61848979, 0.71115265, 0.74552652, 0.785559  , 0.88105477,\n",
    "       0.94109802, 1.        ])\n",
    "g_ran = np.array([0.34730243, 0.52556095, 0.84580246, 0.7083085 , 0.85625692,\n",
    "       0.28912465, 0.33136193])\n",
    "d = {}\n",
    "arr = []\n",
    "for i in range(len(g_ran)):\n",
    "        for j,k in enumerate(cumsum):\n",
    "            #print(j,k)\n",
    "            if g_ran[i] <= k:\n",
    "                d[g_ran[i]] = j\n",
    "                break\n",
    "                \n",
    "d"
   ]
  },
  {
   "cell_type": "code",
   "execution_count": 9,
   "id": "1fd2e973",
   "metadata": {},
   "outputs": [
    {
     "name": "stdout",
     "output_type": "stream",
     "text": [
      "0.34730243\n",
      "0.52556095\n",
      "0.84580246\n",
      "0.7083085\n",
      "0.85625692\n",
      "0.28912465\n",
      "0.33136193\n"
     ]
    }
   ],
   "source": [
    "for i in range(7):\n",
    "    print(g_ran[i])"
   ]
  },
  {
   "cell_type": "code",
   "execution_count": null,
   "id": "77ad3b88",
   "metadata": {},
   "outputs": [],
   "source": []
  }
 ],
 "metadata": {
  "kernelspec": {
   "display_name": "Python 3 (ipykernel)",
   "language": "python",
   "name": "python3"
  },
  "language_info": {
   "codemirror_mode": {
    "name": "ipython",
    "version": 3
   },
   "file_extension": ".py",
   "mimetype": "text/x-python",
   "name": "python",
   "nbconvert_exporter": "python",
   "pygments_lexer": "ipython3",
   "version": "3.11.5"
  }
 },
 "nbformat": 4,
 "nbformat_minor": 5
}
