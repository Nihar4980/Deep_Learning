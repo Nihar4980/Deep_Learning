{
 "cells": [
  {
   "cell_type": "markdown",
   "id": "34aedf73-aa83-44fb-91e9-e4f409600c1a",
   "metadata": {},
   "source": [
    "# PyTorch Computer Vision "
   ]
  },
  {
   "cell_type": "markdown",
   "id": "f46d4fe2-f9bc-4898-855f-df316e1e5b99",
   "metadata": {},
   "source": [
    "## 0. Computer vision libaries in PyTorch\n",
    "\n",
    "* 'torchvision' - base domain library for pyTorch computer Vision\n",
    "* 'torchvision.datasets ' - get datasets and data loading functions for computer vision here\n",
    "* 'torchvision.models' - get pretrained computer vision models that you can leverage your own problems\n",
    "* 'torchvision.transforms' -  functions for manipulating your vision data (image) to be suitable for use with an ML model\n",
    "* 'torch.utils.data.Dataset' - Base dataset class for PyTorch.\n",
    "* 'torch.utils.data.DataLoader' - creates a Python iterable over a dataset   "
   ]
  },
  {
   "cell_type": "code",
   "execution_count": 1,
   "id": "daa4b1b4-3c52-48db-97d3-9f8a7de7c540",
   "metadata": {},
   "outputs": [
    {
     "name": "stdout",
     "output_type": "stream",
     "text": [
      "2.2.0+cu118\n",
      "0.17.0+cu118\n"
     ]
    }
   ],
   "source": [
    "# Import PyTorch\n",
    "import torch\n",
    "from torch import nn\n",
    "\n",
    "# Import torchvision\n",
    "import torchvision\n",
    "from torchvision import datasets\n",
    "from torchvision import transforms\n",
    "from torchvision.transforms import ToTensor\n",
    "\n",
    "\n",
    "# import matplotlib for visualization\n",
    "import matplotlib.pyplot as plt\n",
    "\n",
    "# Check version\n",
    "print(torch.__version__)\n",
    "print(torchvision.__version__)\n"
   ]
  },
  {
   "cell_type": "markdown",
   "id": "275581ef-8d54-4a23-b0ef-8f75908445cb",
   "metadata": {},
   "source": [
    "## 1. Getting dataset\n",
    "\n",
    "* Fashion MNIST\n",
    "* ImageNet"
   ]
  },
  {
   "cell_type": "code",
   "execution_count": 2,
   "id": "ccfbd453-8b24-49c6-b97e-7e0627e9302b",
   "metadata": {},
   "outputs": [],
   "source": [
    "# Setup training data\n",
    "from torchvision import datasets\n",
    "\n",
    "train_data = datasets.FashionMNIST(root = \"data\", # where to download data to?\n",
    "                                  train= True, # do we want the traing dataset\n",
    "                                  download= True, # do we want to download yes/no?\n",
    "                                  transform = torchvision.transforms.ToTensor(), # how do we transform the data\n",
    "                                  target_transform = None # How do we transform the labels/targets/\n",
    "                                  )\n",
    "test_data = datasets.FashionMNIST(root = \"data\", # where to download data to?\n",
    "                                  train= False, # do we want the traing dataset\n",
    "                                  download= True, # do we want to download yes/no?\n",
    "                                  transform = torchvision.transforms.ToTensor(), # how do we transform the data\n",
    "                                  target_transform = None # How do we transform the labels/targets/\n",
    "                                  )"
   ]
  },
  {
   "cell_type": "code",
   "execution_count": 3,
   "id": "e35a8c47-3032-43a4-9dab-19eca3ee95b6",
   "metadata": {},
   "outputs": [
    {
     "data": {
      "text/plain": [
       "(60000, 10000)"
      ]
     },
     "execution_count": 3,
     "metadata": {},
     "output_type": "execute_result"
    }
   ],
   "source": [
    "len(train_data), len(test_data)"
   ]
  },
  {
   "cell_type": "code",
   "execution_count": 4,
   "id": "0c9edf18-5330-480d-9f52-a0c339278ca0",
   "metadata": {},
   "outputs": [
    {
     "data": {
      "text/plain": [
       "tensor([[[0.0000, 0.0000, 0.0000, 0.0000, 0.0000, 0.0000, 0.0000, 0.0000,\n",
       "          0.0000, 0.0000, 0.0000, 0.0000, 0.0000, 0.0000, 0.0000, 0.0000,\n",
       "          0.0000, 0.0000, 0.0000, 0.0000, 0.0000, 0.0000, 0.0000, 0.0000,\n",
       "          0.0000, 0.0000, 0.0000, 0.0000],\n",
       "         [0.0000, 0.0000, 0.0000, 0.0000, 0.0000, 0.0000, 0.0000, 0.0000,\n",
       "          0.0000, 0.0000, 0.0000, 0.0000, 0.0000, 0.0000, 0.0000, 0.0000,\n",
       "          0.0000, 0.0000, 0.0000, 0.0000, 0.0000, 0.0000, 0.0000, 0.0000,\n",
       "          0.0000, 0.0000, 0.0000, 0.0000],\n",
       "         [0.0000, 0.0000, 0.0000, 0.0000, 0.0000, 0.0000, 0.0000, 0.0000,\n",
       "          0.0000, 0.0000, 0.0000, 0.0000, 0.0000, 0.0000, 0.0000, 0.0000,\n",
       "          0.0000, 0.0000, 0.0000, 0.0000, 0.0000, 0.0000, 0.0000, 0.0000,\n",
       "          0.0000, 0.0000, 0.0000, 0.0000],\n",
       "         [0.0000, 0.0000, 0.0000, 0.0000, 0.0000, 0.0000, 0.0000, 0.0000,\n",
       "          0.0000, 0.0000, 0.0000, 0.0000, 0.0039, 0.0000, 0.0000, 0.0510,\n",
       "          0.2863, 0.0000, 0.0000, 0.0039, 0.0157, 0.0000, 0.0000, 0.0000,\n",
       "          0.0000, 0.0039, 0.0039, 0.0000],\n",
       "         [0.0000, 0.0000, 0.0000, 0.0000, 0.0000, 0.0000, 0.0000, 0.0000,\n",
       "          0.0000, 0.0000, 0.0000, 0.0000, 0.0118, 0.0000, 0.1412, 0.5333,\n",
       "          0.4980, 0.2431, 0.2118, 0.0000, 0.0000, 0.0000, 0.0039, 0.0118,\n",
       "          0.0157, 0.0000, 0.0000, 0.0118],\n",
       "         [0.0000, 0.0000, 0.0000, 0.0000, 0.0000, 0.0000, 0.0000, 0.0000,\n",
       "          0.0000, 0.0000, 0.0000, 0.0000, 0.0235, 0.0000, 0.4000, 0.8000,\n",
       "          0.6902, 0.5255, 0.5647, 0.4824, 0.0902, 0.0000, 0.0000, 0.0000,\n",
       "          0.0000, 0.0471, 0.0392, 0.0000],\n",
       "         [0.0000, 0.0000, 0.0000, 0.0000, 0.0000, 0.0000, 0.0000, 0.0000,\n",
       "          0.0000, 0.0000, 0.0000, 0.0000, 0.0000, 0.0000, 0.6078, 0.9255,\n",
       "          0.8118, 0.6980, 0.4196, 0.6118, 0.6314, 0.4275, 0.2510, 0.0902,\n",
       "          0.3020, 0.5098, 0.2824, 0.0588],\n",
       "         [0.0000, 0.0000, 0.0000, 0.0000, 0.0000, 0.0000, 0.0000, 0.0000,\n",
       "          0.0000, 0.0000, 0.0000, 0.0039, 0.0000, 0.2706, 0.8118, 0.8745,\n",
       "          0.8549, 0.8471, 0.8471, 0.6392, 0.4980, 0.4745, 0.4784, 0.5725,\n",
       "          0.5529, 0.3451, 0.6745, 0.2588],\n",
       "         [0.0000, 0.0000, 0.0000, 0.0000, 0.0000, 0.0000, 0.0000, 0.0000,\n",
       "          0.0000, 0.0039, 0.0039, 0.0039, 0.0000, 0.7843, 0.9098, 0.9098,\n",
       "          0.9137, 0.8980, 0.8745, 0.8745, 0.8431, 0.8353, 0.6431, 0.4980,\n",
       "          0.4824, 0.7686, 0.8980, 0.0000],\n",
       "         [0.0000, 0.0000, 0.0000, 0.0000, 0.0000, 0.0000, 0.0000, 0.0000,\n",
       "          0.0000, 0.0000, 0.0000, 0.0000, 0.0000, 0.7176, 0.8824, 0.8471,\n",
       "          0.8745, 0.8941, 0.9216, 0.8902, 0.8784, 0.8706, 0.8784, 0.8667,\n",
       "          0.8745, 0.9608, 0.6784, 0.0000],\n",
       "         [0.0000, 0.0000, 0.0000, 0.0000, 0.0000, 0.0000, 0.0000, 0.0000,\n",
       "          0.0000, 0.0000, 0.0000, 0.0000, 0.0000, 0.7569, 0.8941, 0.8549,\n",
       "          0.8353, 0.7765, 0.7059, 0.8314, 0.8235, 0.8275, 0.8353, 0.8745,\n",
       "          0.8627, 0.9529, 0.7922, 0.0000],\n",
       "         [0.0000, 0.0000, 0.0000, 0.0000, 0.0000, 0.0000, 0.0000, 0.0000,\n",
       "          0.0000, 0.0039, 0.0118, 0.0000, 0.0471, 0.8588, 0.8627, 0.8314,\n",
       "          0.8549, 0.7529, 0.6627, 0.8902, 0.8157, 0.8549, 0.8784, 0.8314,\n",
       "          0.8863, 0.7725, 0.8196, 0.2039],\n",
       "         [0.0000, 0.0000, 0.0000, 0.0000, 0.0000, 0.0000, 0.0000, 0.0000,\n",
       "          0.0000, 0.0000, 0.0235, 0.0000, 0.3882, 0.9569, 0.8706, 0.8627,\n",
       "          0.8549, 0.7961, 0.7765, 0.8667, 0.8431, 0.8353, 0.8706, 0.8627,\n",
       "          0.9608, 0.4667, 0.6549, 0.2196],\n",
       "         [0.0000, 0.0000, 0.0000, 0.0000, 0.0000, 0.0000, 0.0000, 0.0000,\n",
       "          0.0000, 0.0157, 0.0000, 0.0000, 0.2157, 0.9255, 0.8941, 0.9020,\n",
       "          0.8941, 0.9412, 0.9098, 0.8353, 0.8549, 0.8745, 0.9176, 0.8510,\n",
       "          0.8510, 0.8196, 0.3608, 0.0000],\n",
       "         [0.0000, 0.0000, 0.0039, 0.0157, 0.0235, 0.0275, 0.0078, 0.0000,\n",
       "          0.0000, 0.0000, 0.0000, 0.0000, 0.9294, 0.8863, 0.8510, 0.8745,\n",
       "          0.8706, 0.8588, 0.8706, 0.8667, 0.8471, 0.8745, 0.8980, 0.8431,\n",
       "          0.8549, 1.0000, 0.3020, 0.0000],\n",
       "         [0.0000, 0.0118, 0.0000, 0.0000, 0.0000, 0.0000, 0.0000, 0.0000,\n",
       "          0.0000, 0.2431, 0.5686, 0.8000, 0.8941, 0.8118, 0.8353, 0.8667,\n",
       "          0.8549, 0.8157, 0.8275, 0.8549, 0.8784, 0.8745, 0.8588, 0.8431,\n",
       "          0.8784, 0.9569, 0.6235, 0.0000],\n",
       "         [0.0000, 0.0000, 0.0000, 0.0000, 0.0706, 0.1725, 0.3216, 0.4196,\n",
       "          0.7412, 0.8941, 0.8627, 0.8706, 0.8510, 0.8863, 0.7843, 0.8039,\n",
       "          0.8275, 0.9020, 0.8784, 0.9176, 0.6902, 0.7373, 0.9804, 0.9725,\n",
       "          0.9137, 0.9333, 0.8431, 0.0000],\n",
       "         [0.0000, 0.2235, 0.7333, 0.8157, 0.8784, 0.8667, 0.8784, 0.8157,\n",
       "          0.8000, 0.8392, 0.8157, 0.8196, 0.7843, 0.6235, 0.9608, 0.7569,\n",
       "          0.8078, 0.8745, 1.0000, 1.0000, 0.8667, 0.9176, 0.8667, 0.8275,\n",
       "          0.8627, 0.9098, 0.9647, 0.0000],\n",
       "         [0.0118, 0.7922, 0.8941, 0.8784, 0.8667, 0.8275, 0.8275, 0.8392,\n",
       "          0.8039, 0.8039, 0.8039, 0.8627, 0.9412, 0.3137, 0.5882, 1.0000,\n",
       "          0.8980, 0.8667, 0.7373, 0.6039, 0.7490, 0.8235, 0.8000, 0.8196,\n",
       "          0.8706, 0.8941, 0.8824, 0.0000],\n",
       "         [0.3843, 0.9137, 0.7765, 0.8235, 0.8706, 0.8980, 0.8980, 0.9176,\n",
       "          0.9765, 0.8627, 0.7608, 0.8431, 0.8510, 0.9451, 0.2549, 0.2863,\n",
       "          0.4157, 0.4588, 0.6588, 0.8588, 0.8667, 0.8431, 0.8510, 0.8745,\n",
       "          0.8745, 0.8784, 0.8980, 0.1137],\n",
       "         [0.2941, 0.8000, 0.8314, 0.8000, 0.7569, 0.8039, 0.8275, 0.8824,\n",
       "          0.8471, 0.7255, 0.7725, 0.8078, 0.7765, 0.8353, 0.9412, 0.7647,\n",
       "          0.8902, 0.9608, 0.9373, 0.8745, 0.8549, 0.8314, 0.8196, 0.8706,\n",
       "          0.8627, 0.8667, 0.9020, 0.2627],\n",
       "         [0.1882, 0.7961, 0.7176, 0.7608, 0.8353, 0.7725, 0.7255, 0.7451,\n",
       "          0.7608, 0.7529, 0.7922, 0.8392, 0.8588, 0.8667, 0.8627, 0.9255,\n",
       "          0.8824, 0.8471, 0.7804, 0.8078, 0.7294, 0.7098, 0.6941, 0.6745,\n",
       "          0.7098, 0.8039, 0.8078, 0.4510],\n",
       "         [0.0000, 0.4784, 0.8588, 0.7569, 0.7020, 0.6706, 0.7176, 0.7686,\n",
       "          0.8000, 0.8235, 0.8353, 0.8118, 0.8275, 0.8235, 0.7843, 0.7686,\n",
       "          0.7608, 0.7490, 0.7647, 0.7490, 0.7765, 0.7529, 0.6902, 0.6118,\n",
       "          0.6549, 0.6941, 0.8235, 0.3608],\n",
       "         [0.0000, 0.0000, 0.2902, 0.7412, 0.8314, 0.7490, 0.6863, 0.6745,\n",
       "          0.6863, 0.7098, 0.7255, 0.7373, 0.7412, 0.7373, 0.7569, 0.7765,\n",
       "          0.8000, 0.8196, 0.8235, 0.8235, 0.8275, 0.7373, 0.7373, 0.7608,\n",
       "          0.7529, 0.8471, 0.6667, 0.0000],\n",
       "         [0.0078, 0.0000, 0.0000, 0.0000, 0.2588, 0.7843, 0.8706, 0.9294,\n",
       "          0.9373, 0.9490, 0.9647, 0.9529, 0.9569, 0.8667, 0.8627, 0.7569,\n",
       "          0.7490, 0.7020, 0.7137, 0.7137, 0.7098, 0.6902, 0.6510, 0.6588,\n",
       "          0.3882, 0.2275, 0.0000, 0.0000],\n",
       "         [0.0000, 0.0000, 0.0000, 0.0000, 0.0000, 0.0000, 0.0000, 0.1569,\n",
       "          0.2392, 0.1725, 0.2824, 0.1608, 0.1373, 0.0000, 0.0000, 0.0000,\n",
       "          0.0000, 0.0000, 0.0000, 0.0000, 0.0000, 0.0000, 0.0000, 0.0000,\n",
       "          0.0000, 0.0000, 0.0000, 0.0000],\n",
       "         [0.0000, 0.0000, 0.0000, 0.0000, 0.0000, 0.0000, 0.0000, 0.0000,\n",
       "          0.0000, 0.0000, 0.0000, 0.0000, 0.0000, 0.0000, 0.0000, 0.0000,\n",
       "          0.0000, 0.0000, 0.0000, 0.0000, 0.0000, 0.0000, 0.0000, 0.0000,\n",
       "          0.0000, 0.0000, 0.0000, 0.0000],\n",
       "         [0.0000, 0.0000, 0.0000, 0.0000, 0.0000, 0.0000, 0.0000, 0.0000,\n",
       "          0.0000, 0.0000, 0.0000, 0.0000, 0.0000, 0.0000, 0.0000, 0.0000,\n",
       "          0.0000, 0.0000, 0.0000, 0.0000, 0.0000, 0.0000, 0.0000, 0.0000,\n",
       "          0.0000, 0.0000, 0.0000, 0.0000]]])"
      ]
     },
     "execution_count": 4,
     "metadata": {},
     "output_type": "execute_result"
    }
   ],
   "source": [
    "# see the first training example\n",
    "image, label = train_data[0]\n",
    "image\n"
   ]
  },
  {
   "cell_type": "code",
   "execution_count": 5,
   "id": "4c68ca0a-5e35-45d5-8e39-3056032ca7fb",
   "metadata": {},
   "outputs": [
    {
     "data": {
      "text/plain": [
       "9"
      ]
     },
     "execution_count": 5,
     "metadata": {},
     "output_type": "execute_result"
    }
   ],
   "source": [
    "label"
   ]
  },
  {
   "cell_type": "code",
   "execution_count": 6,
   "id": "7be9f69e-aa69-4d6a-af81-c6dd4064307f",
   "metadata": {},
   "outputs": [
    {
     "data": {
      "text/plain": [
       "['T-shirt/top',\n",
       " 'Trouser',\n",
       " 'Pullover',\n",
       " 'Dress',\n",
       " 'Coat',\n",
       " 'Sandal',\n",
       " 'Shirt',\n",
       " 'Sneaker',\n",
       " 'Bag',\n",
       " 'Ankle boot']"
      ]
     },
     "execution_count": 6,
     "metadata": {},
     "output_type": "execute_result"
    }
   ],
   "source": [
    "class_names = train_data.classes\n",
    "class_names"
   ]
  },
  {
   "cell_type": "code",
   "execution_count": 7,
   "id": "74823954-aacd-47dc-9fa6-89503866f14a",
   "metadata": {},
   "outputs": [
    {
     "data": {
      "text/plain": [
       "tensor([9, 0, 0,  ..., 3, 0, 5])"
      ]
     },
     "execution_count": 7,
     "metadata": {},
     "output_type": "execute_result"
    }
   ],
   "source": [
    "train_data.targets"
   ]
  },
  {
   "cell_type": "code",
   "execution_count": 8,
   "id": "a164920e-e6e6-477e-913d-6e8438aab3fd",
   "metadata": {},
   "outputs": [
    {
     "data": {
      "text/plain": [
       "(torch.Size([1, 28, 28]), 9)"
      ]
     },
     "execution_count": 8,
     "metadata": {},
     "output_type": "execute_result"
    }
   ],
   "source": [
    "# Check the shape of our image -> [color channels, height, width]\n",
    "\n",
    "image.shape, label"
   ]
  },
  {
   "cell_type": "code",
   "execution_count": 9,
   "id": "79982523-b288-4444-901a-d578cddf03ad",
   "metadata": {},
   "outputs": [
    {
     "data": {
      "image/png": "[encoded data removed]",
      "text/plain": [
       "<Figure size 640x480 with 1 Axes>"
      ]
     },
     "metadata": {},
     "output_type": "display_data"
    }
   ],
   "source": [
    "plt.imshow(image.squeeze())\n",
    "plt.title(label);"
   ]
  },
  {
   "cell_type": "code",
   "execution_count": 10,
   "id": "8668ee16-ca46-4f05-93ff-a2c253275297",
   "metadata": {},
   "outputs": [
    {
     "data": {
      "image/png": "[encoded data removed]",
      "text/plain": [
       "<Figure size 640x480 with 1 Axes>"
      ]
     },
     "metadata": {},
     "output_type": "display_data"
    }
   ],
   "source": [
    "plt.imshow(image.squeeze(), cmap ='gray')\n",
    "plt.title(label);"
   ]
  },
  {
   "cell_type": "code",
   "execution_count": 11,
   "id": "01f4025a-8832-4c39-acd1-c561be5f91f2",
   "metadata": {},
   "outputs": [
    {
     "data": {
      "image/png": "[encoded data removed]",
      "text/plain": [
       "<Figure size 640x480 with 1 Axes>"
      ]
     },
     "metadata": {},
     "output_type": "display_data"
    }
   ],
   "source": [
    "plt.imshow(image.squeeze(), cmap ='gray')\n",
    "plt.title(class_names[label]);\n",
    "plt.axis(False);\n"
   ]
  },
  {
   "cell_type": "code",
   "execution_count": 12,
   "id": "0264de84-ba2e-4bb8-97bd-572533551d7a",
   "metadata": {},
   "outputs": [
    {
     "data": {
      "image/png": "[encoded data removed]",
      "text/plain": [
       "<Figure size 900x900 with 16 Axes>"
      ]
     },
     "metadata": {},
     "output_type": "display_data"
    }
   ],
   "source": [
    "# Plot more image\n",
    "class_names = train_data.classes\n",
    "torch.manual_seed(42)\n",
    "fig = plt.figure(figsize=(9,9))\n",
    "rows, cols = 4, 4\n",
    "\n",
    "for  i in range(1,rows * cols +1):\n",
    "    random_idx = torch.randint(0, len(train_data), size=[1]).item()\n",
    "    image, label = train_data[random_idx]\n",
    "    fig.add_subplot(rows, cols, i)\n",
    "    plt.imshow(image.squeeze(), cmap ='gray')\n",
    "    plt.title(class_names[label]);\n",
    "    plt.axis(False);\n",
    "                                         "
   ]
  },
  {
   "cell_type": "code",
   "execution_count": 13,
   "id": "158120c8-9170-42f8-aeea-0dc208f60b9e",
   "metadata": {},
   "outputs": [
    {
     "data": {
      "text/plain": [
       "(Dataset FashionMNIST\n",
       "     Number of datapoints: 60000\n",
       "     Root location: data\n",
       "     Split: Train\n",
       "     StandardTransform\n",
       " Transform: ToTensor(),\n",
       " Dataset FashionMNIST\n",
       "     Number of datapoints: 10000\n",
       "     Root location: data\n",
       "     Split: Test\n",
       "     StandardTransform\n",
       " Transform: ToTensor())"
      ]
     },
     "execution_count": 13,
     "metadata": {},
     "output_type": "execute_result"
    }
   ],
   "source": [
    "train_data, test_data"
   ]
  },
  {
   "cell_type": "markdown",
   "id": "7b01f39c-4ba2-4138-84a4-56566aecfb30",
   "metadata": {},
   "source": [
    "## \n",
    "2. Prepare Dataloader\n",
    "\n",
    "Right now, our data is in the form of PyTorch Datasets.\n",
    "\n",
    "DataLoader turns our dataset into a Python iterable,\n",
    "\n",
    "More specifically, we want to turn our data into batches (or mini-batches).\n",
    "\n",
    "Why would we do this?\n",
    "\n",
    "1. It is more computionally efficient, as in, your \n",
    "Computation hardware may not be able to look (store in memory) at 60000 images in one hit.\n",
    "So we break it down to 32 images at a time (batch size of 32).\n",
    "\n",
    "2. It gives our neural network more chances to update its gradients per epoch.\n",
    "\n",
    "https://pytorch.org/tutorials/beginner/basics/data_tutorial.html"
   ]
  },
  {
   "cell_type": "code",
   "execution_count": 14,
   "id": "32568f3d-adf8-4f65-981e-a0b330d1ca3f",
   "metadata": {},
   "outputs": [
    {
     "data": {
      "text/plain": [
       "(<torch.utils.data.dataloader.DataLoader at 0x20f1111d4c0>,\n",
       " <torch.utils.data.dataloader.DataLoader at 0x20f1111de20>)"
      ]
     },
     "execution_count": 14,
     "metadata": {},
     "output_type": "execute_result"
    }
   ],
   "source": [
    "from torch.utils.data import DataLoader\n",
    "\n",
    "# setup the batch size hyperparameter\n",
    "BATCH_SIZE = 32\n",
    "\n",
    "# Turn dataset into iterable (batches)\n",
    "train_dataloader = DataLoader(train_data, batch_size=BATCH_SIZE, shuffle=True)\n",
    "\n",
    "test_dataloader = DataLoader(test_data, batch_size=BATCH_SIZE, shuffle=False)\n",
    "train_dataloader, test_dataloader"
   ]
  },
  {
   "cell_type": "code",
   "execution_count": 15,
   "id": "36d76a9a-f4c2-4177-b23c-ccf12ba51edf",
   "metadata": {},
   "outputs": [
    {
     "name": "stdout",
     "output_type": "stream",
     "text": [
      "DataLoaders: (<torch.utils.data.dataloader.DataLoader object at 0x0000020F1111D4C0>, <torch.utils.data.dataloader.DataLoader object at 0x0000020F1111DE20>)\n",
      "Length df traindataloader: 1875 batches of 32 ...\n",
      "Length df testdataloader: 313 batches of 32 ...\n"
     ]
    }
   ],
   "source": [
    "# let's check out what we we have created\n",
    "\n",
    "print(f\"DataLoaders: {train_dataloader, test_dataloader}\")\n",
    "\n",
    "print(f\"Length df traindataloader: {len(train_dataloader)} batches of {BATCH_SIZE} ...\")\n",
    "print(f\"Length df testdataloader: {len(test_dataloader)} batches of {BATCH_SIZE} ...\")"
   ]
  },
  {
   "cell_type": "code",
   "execution_count": 16,
   "id": "632f9e62-da15-41b4-a929-621676d2a641",
   "metadata": {},
   "outputs": [
    {
     "data": {
      "text/plain": [
       "(torch.Size([32, 1, 28, 28]), torch.Size([32]))"
      ]
     },
     "execution_count": 16,
     "metadata": {},
     "output_type": "execute_result"
    }
   ],
   "source": [
    "# check out what inside training Dataloader\n",
    "\n",
    "train_features_batch, train_label_batch = next(iter(train_dataloader))\n",
    "\n",
    "train_features_batch.shape, train_label_batch.shape"
   ]
  },
  {
   "cell_type": "code",
   "execution_count": 17,
   "id": "29395154-fc9b-47d1-af6f-504c56404a3f",
   "metadata": {},
   "outputs": [
    {
     "data": {
      "image/png": "[encoded data removed]",
      "text/plain": [
       "<Figure size 640x480 with 1 Axes>"
      ]
     },
     "metadata": {},
     "output_type": "display_data"
    },
    {
     "name": "stdout",
     "output_type": "stream",
     "text": [
      "Image size: torch.Size([1, 28, 28])\n",
      "label : 6, label size: torch.Size([])\n"
     ]
    }
   ],
   "source": [
    "# Show a sample\n",
    "torch.manual_seed(42)\n",
    "random_idx = torch.randint(0, len(train_features_batch), [1]).item()\n",
    "img, label = train_features_batch[random_idx], train_label_batch[random_idx]\n",
    "plt.imshow(img.squeeze(), cmap='gray')\n",
    "plt.title(class_names[label])\n",
    "plt.axis(False)\n",
    "plt.show()\n",
    "print(f\"Image size: {img.shape}\")\n",
    "print(f\"label : {label}, label size: {label.shape}\")\n"
   ]
  },
  {
   "cell_type": "markdown",
   "id": "9cab5b2f-b0c0-432b-8de3-4d114cb7ec91",
   "metadata": {},
   "source": [
    "# 3. Model 0: Build a basline model\n",
    "\n",
    "When starting to building a series of machine learning modelling ,\n",
    "It is best practice to start with a baseline model.\n",
    "\n",
    "A baseline model is a simple model you will try and imporve upon with subsequent models/Experiements.\n",
    "\n",
    "In othert words: start simply and add complexity when necessary."
   ]
  },
  {
   "cell_type": "code",
   "execution_count": 18,
   "id": "62e390fd-be71-4695-a9c6-a48b7fa15a15",
   "metadata": {},
   "outputs": [
    {
     "name": "stdout",
     "output_type": "stream",
     "text": [
      "Shape before flattening: torch.Size([1, 28, 28]) -> [color_channels, height, width]\n",
      "Shape after flattening: torch.Size([1, 784]) -> [color_channels, height * width]\n"
     ]
    }
   ],
   "source": [
    "# creating a flatten layer\n",
    "flatten_model = nn.Flatten()\n",
    "\n",
    "# Get a single sample\n",
    "x = train_features_batch[0]\n",
    "#print(x.shape)\n",
    "\n",
    "# Flatten the sample\n",
    "output = flatten_model(x) # perform forward pass\n",
    "\n",
    "# Print out what happened\n",
    "print(f\"Shape before flattening: {x.shape} -> [color_channels, height, width]\")\n",
    "print(f\"Shape after flattening: {output.shape} -> [color_channels, height * width]\")"
   ]
  },
  {
   "cell_type": "code",
   "execution_count": 19,
   "id": "cf5d8d01-b781-4eaa-8896-94a766d9942d",
   "metadata": {},
   "outputs": [],
   "source": [
    "#output.squeeze()"
   ]
  },
  {
   "cell_type": "code",
   "execution_count": 20,
   "id": "828332cd-50e6-44ba-a744-1149c22df446",
   "metadata": {},
   "outputs": [],
   "source": [
    "# Building a model\n",
    "\n",
    "class FashionMNISTModelV0(nn.Module):\n",
    "    def __init__(self, \n",
    "                 input_shape: int,\n",
    "                 hidden_units: int,\n",
    "                 output_shape: int):\n",
    "        super().__init__()\n",
    "        self.layer_stack = nn.Sequential(\n",
    "            nn.Flatten(),\n",
    "            nn.Linear(in_features= input_shape,out_features=hidden_units),\n",
    "            nn.Linear(in_features= hidden_units,out_features=hidden_units),\n",
    "            nn.Linear(in_features= hidden_units,out_features=output_shape)\n",
    "        )\n",
    "    def forward(self, x):\n",
    "        return self.layer_stack(x)\n",
    "            \n",
    "            "
   ]
  },
  {
   "cell_type": "code",
   "execution_count": 21,
   "id": "bb65900a-21ee-45c8-8182-816eb6a547e6",
   "metadata": {},
   "outputs": [
    {
     "data": {
      "text/plain": [
       "FashionMNISTModelV0(\n",
       "  (layer_stack): Sequential(\n",
       "    (0): Flatten(start_dim=1, end_dim=-1)\n",
       "    (1): Linear(in_features=784, out_features=10, bias=True)\n",
       "    (2): Linear(in_features=10, out_features=10, bias=True)\n",
       "    (3): Linear(in_features=10, out_features=10, bias=True)\n",
       "  )\n",
       ")"
      ]
     },
     "execution_count": 21,
     "metadata": {},
     "output_type": "execute_result"
    }
   ],
   "source": [
    "torch.manual_seed(42)\n",
    "\n",
    "# setup model with input parameters\n",
    "model_0 = FashionMNISTModelV0(\n",
    "    input_shape= 784, # that is 28 * 28\n",
    "    hidden_units = 10, # how many units in the hidden layer\n",
    "    output_shape=len(class_names) # one for every class\n",
    "    ).to(\"cpu\")\n",
    "model_0"
   ]
  },
  {
   "cell_type": "code",
   "execution_count": 22,
   "id": "e515e7db-ace4-4675-9b6f-206a1bc46b3a",
   "metadata": {},
   "outputs": [
    {
     "data": {
      "text/plain": [
       "device(type='cpu')"
      ]
     },
     "execution_count": 22,
     "metadata": {},
     "output_type": "execute_result"
    }
   ],
   "source": [
    "next(model_0.parameters()).device"
   ]
  },
  {
   "cell_type": "code",
   "execution_count": 23,
   "id": "996f8e43-163c-46ec-9ad7-807199427056",
   "metadata": {},
   "outputs": [
    {
     "data": {
      "text/plain": [
       "tensor([[ 0.2826,  0.0491, -0.0742, -0.1099, -0.0071,  0.1045, -0.3287,  0.0522,\n",
       "          0.3119, -0.3001]], grad_fn=<AddmmBackward0>)"
      ]
     },
     "execution_count": 23,
     "metadata": {},
     "output_type": "execute_result"
    }
   ],
   "source": [
    "dummy_x = torch.rand([1,1,28,28])\n",
    "model_0(dummy_x)"
   ]
  },
  {
   "cell_type": "markdown",
   "id": "bcb83098-5354-4a8c-936d-59b2bb793b63",
   "metadata": {},
   "source": [
    "# 3.1 Setup loss, optimizer and evaluation metrics\n",
    "* Loss Function: Since we are working with multi-class data, our loss function will be nn.CrossEntropyLoss()\n",
    "* Optimizer- our optimizer 'torch.optim.SGD()' (stochastic gradient descent)\n",
    "* Evaluation metric - Since we are working on a classification problem, let's use accuracy as our evaluation metrics"
   ]
  },
  {
   "cell_type": "code",
   "execution_count": 24,
   "id": "245a3f68-b253-4db7-ac6b-ce16bf7eb78f",
   "metadata": {},
   "outputs": [],
   "source": [
    "def accuracy_fn(y_true, y_pred):\n",
    "    \"\"\" Calculate accuracy between truth labels and predictions.\n",
    "\n",
    "    Args:\n",
    "        y_true (torch.Tensor): Truth labels for predictions.\n",
    "        y_pred (torch.Tensor): Predictions to be compared to predictions.\n",
    "\n",
    "    Returns:\n",
    "        [torch.float]: Accuracy value between y_true and y_pred, e.g. 99.9999\n",
    "    \"\"\"\n",
    "    correct = torch.eq(y_true, y_pred).sum().item()\n",
    "\n",
    "    acc = (correct/len(y_pred)) * 100\n",
    "    return acc"
   ]
  },
  {
   "cell_type": "code",
   "execution_count": 25,
   "id": "5706dcc5-46f9-4e44-b0de-8f019d8e42f4",
   "metadata": {},
   "outputs": [],
   "source": [
    "# Setup loss function and optimizer\n",
    "loss_fn = nn.CrossEntropyLoss()\n",
    "optimizer = torch.optim.SGD(params = model_0.parameters(), lr = 0.1)"
   ]
  },
  {
   "cell_type": "markdown",
   "id": "a5cffe7e-4204-4ba4-95c5-a56775b8e4ac",
   "metadata": {},
   "source": [
    "### 3.2 creating a function to time our experiments\n",
    "\n",
    "machine learning is very experimental.\n",
    "\n",
    "Two of the main things you will often want to track are:\n",
    "1. Model's performance (loss and accuracy values etc)\n",
    "2. How fast it runs\n",
    "\n",
    "https://docs.python.org/3/library/timeit.html"
   ]
  },
  {
   "cell_type": "code",
   "execution_count": 26,
   "id": "755c4730-de7c-478d-aaa7-13430ca4b4a8",
   "metadata": {},
   "outputs": [],
   "source": [
    "from timeit import default_timer as timer\n",
    "\n",
    "def print_train_time(start: float,\n",
    "                    end: float,\n",
    "                    device : torch.device = None):\n",
    "    \"\"\" Prints difference between start and end time.\"\"\"\n",
    "    total_time = end - start\n",
    "\n",
    "    print(f\"trin time on {device}: {total_time:.3f} seconds\")\n",
    "    return total_time\n",
    "    \n",
    "    "
   ]
  },
  {
   "cell_type": "code",
   "execution_count": 27,
   "id": "cc530ce0-3391-43b5-a6f6-2b9b13f6d541",
   "metadata": {},
   "outputs": [
    {
     "name": "stdout",
     "output_type": "stream",
     "text": [
      "trin time on cpu: 0.000 seconds\n"
     ]
    },
    {
     "data": {
      "text/plain": [
       "1.4000000000180535e-05"
      ]
     },
     "execution_count": 27,
     "metadata": {},
     "output_type": "execute_result"
    }
   ],
   "source": [
    "start_time = timer()\n",
    "# some code...\n",
    "end_time = timer()\n",
    "print_train_time(start=start_time, end=end_time, device='cpu')"
   ]
  },
  {
   "cell_type": "markdown",
   "id": "6fcc7946-dcf8-40ee-9777-17a8ccb63aed",
   "metadata": {},
   "source": [
    "### UPTOHERE: 3.3 creating a trainin g loop and training model on batches of data...\n",
    "### Highlight that optimizer will update a model's parameters once per batch rather then ones per epoch...."
   ]
  },
  {
   "cell_type": "markdown",
   "id": "89d133c8-f868-457c-a942-4d2556e3203d",
   "metadata": {},
   "source": [
    "# 3.3 creating a trainin g loop and training model on batches of data\n",
    "\n",
    "1. loop through epochs.\n",
    "2. loop through the training batches, perform training steps, calculate the train loss *per batch*\n",
    "3. loop through testing batches, perform testing steps, calculate the test loss *per batch*\n",
    "4. Print out what's happening\n",
    "5. time it all \n",
    "\n",
    " \n",
    " https://github.com/tqdm/tqdm"
   ]
  },
  {
   "cell_type": "code",
   "execution_count": 28,
   "id": "fb0471aa-f55e-4b23-ad9c-268afb3ff834",
   "metadata": {},
   "outputs": [
    {
     "name": "stderr",
     "output_type": "stream",
     "text": [
      "100%|██████████████████████████████████████████████████████████████████████| 10000/10000 [00:00<00:00, 10005496.18it/s]\n"
     ]
    }
   ],
   "source": [
    "from tqdm import tqdm\n",
    "for i in tqdm(range(10000)):\n",
    "    pass"
   ]
  },
  {
   "cell_type": "code",
   "execution_count": 29,
   "id": "ac4f886b-d115-481a-ba3e-7f1dcce810fe",
   "metadata": {},
   "outputs": [
    {
     "data": {
      "application/vnd.jupyter.widget-view+json": {
       "model_id": "701337bc5bed4cf2901b07b007bb213b",
       "version_major": 2,
       "version_minor": 0
      },
      "text/plain": [
       "  0%|          | 0/3 [00:00<?, ?it/s]"
      ]
     },
     "metadata": {},
     "output_type": "display_data"
    },
    {
     "name": "stdout",
     "output_type": "stream",
     "text": [
      "Epoch: 0\n",
      "-----\n",
      "Looked at 0/60000 smaples.\n",
      "Looked at 12800/60000 smaples.\n",
      "Looked at 25600/60000 smaples.\n",
      "Looked at 38400/60000 smaples.\n",
      "Looked at 51200/60000 smaples.\n",
      "\n",
      " Train loss: 0.6355| Train Accuracy: 77.11| Test loss 0.5304| Test Accuracy: 80.79\n",
      "Epoch: 1\n",
      "-----\n",
      "Looked at 0/60000 smaples.\n",
      "Looked at 12800/60000 smaples.\n",
      "Looked at 25600/60000 smaples.\n",
      "Looked at 38400/60000 smaples.\n",
      "Looked at 51200/60000 smaples.\n",
      "\n",
      " Train loss: 0.4999| Train Accuracy: 82.39| Test loss 0.4911| Test Accuracy: 82.63\n",
      "Epoch: 2\n",
      "-----\n",
      "Looked at 0/60000 smaples.\n",
      "Looked at 12800/60000 smaples.\n",
      "Looked at 25600/60000 smaples.\n",
      "Looked at 38400/60000 smaples.\n",
      "Looked at 51200/60000 smaples.\n",
      "\n",
      " Train loss: 0.4741| Train Accuracy: 83.28| Test loss 0.4989| Test Accuracy: 82.86\n",
      "trin time on cpu: 177.934 seconds\n"
     ]
    },
    {
     "data": {
      "text/plain": [
       "177.9341547"
      ]
     },
     "execution_count": 29,
     "metadata": {},
     "output_type": "execute_result"
    }
   ],
   "source": [
    "# Import tqdm for progress bar\n",
    "from tqdm.auto import tqdm\n",
    "\n",
    "# Set the seed and start the timer\n",
    "torch.manual_seed(42)\n",
    "train_time_start_on_cpu = timer()\n",
    "\n",
    "# set the number of epochs (we will keep this small for faster training time)\n",
    "epochs = 3\n",
    "\n",
    "# create training and test loop\n",
    "for epoch in tqdm(range(epochs)):\n",
    "    print(f\"Epoch: {epoch}\\n-----\")\n",
    "    # Training\n",
    "    train_loss, train_acc = 0, 0\n",
    "    # Add a loop to loop the training batches\n",
    "    for batch, (X, y) in enumerate(train_dataloader):\n",
    "        model_0.train()\n",
    "\n",
    "        # 1. Forward Pass\n",
    "        y_pred = model_0(X)\n",
    "\n",
    "        \n",
    "        # 2. Calculate loss (per batch)\n",
    "        loss = loss_fn(y_pred, y)\n",
    "        train_loss += loss # accumulate train loss\n",
    "\n",
    "        # 3. Calcuate accuracy\n",
    "        train_acc += accuracy_fn(y_true=y, y_pred= y_pred.argmax(dim=1))\n",
    "        \n",
    "        # 4. Optimizer zero grad\n",
    "        optimizer.zero_grad()\n",
    "\n",
    "        # 5. Loss backward\n",
    "        loss.backward()\n",
    "\n",
    "        # 6. Optimizer Step (Grdient desecent)\n",
    "        optimizer.step()\n",
    "\n",
    "        # Print out what's happening\n",
    "        if batch % 400 == 0:\n",
    "            print(f\"Looked at {batch * len(X)}/{len(train_dataloader.dataset)} smaples.\")\n",
    "\n",
    "    # Devide total train loss by length of train dataloader\n",
    "    train_loss /= len(train_dataloader)\n",
    "\n",
    "    # Calculate the test acc \n",
    "    train_acc /= len(train_dataloader)\n",
    "\n",
    "\n",
    "    ## Testing\n",
    "    test_loss, test_acc = 0, 0\n",
    "    model_0.eval()\n",
    "    with torch.inference_mode():\n",
    "        for X_test, y_test in test_dataloader:\n",
    "            # 1. forward Pass\n",
    "            test_pred = model_0(X_test)\n",
    "\n",
    "            # 2. Calculate loss (accumulatively)\n",
    "            test_loss += loss_fn(test_pred, y_test)\n",
    "\n",
    "            # 3. Calcuate accuracy\n",
    "            test_acc += accuracy_fn(y_true=y_test, y_pred= test_pred.argmax(dim=1))   \n",
    "\n",
    "        # Calculate test loss\n",
    "        test_loss /= len(test_dataloader)\n",
    "\n",
    "        # Calculate the test acc \n",
    "        test_acc /= len(test_dataloader)\n",
    "\n",
    "    # Print out what's happening\n",
    "    print(f\"\\n Train loss: {train_loss:.4f}| Train Accuracy: {train_acc:.2f}| Test loss {test_loss:.4f}| Test Accuracy: {test_acc:.2f}\") \n",
    "\n",
    "train_time_end_on_cpu = timer()\n",
    "print_train_time(start=train_time_start_on_cpu,\n",
    "                 end=train_time_end_on_cpu, \n",
    "                 device=str(next(model_0.parameters()).device ))\n"
   ]
  },
  {
   "cell_type": "code",
   "execution_count": 30,
   "id": "82665acb-a546-452c-b6f2-72bf4c88a644",
   "metadata": {},
   "outputs": [
    {
     "data": {
      "text/plain": [
       "1875"
      ]
     },
     "execution_count": 30,
     "metadata": {},
     "output_type": "execute_result"
    }
   ],
   "source": [
    "len(train_dataloader)"
   ]
  },
  {
   "cell_type": "code",
   "execution_count": 31,
   "id": "290df8d9-c7b3-4561-9298-9aad7b5f756a",
   "metadata": {},
   "outputs": [
    {
     "data": {
      "text/plain": [
       "'cpu'"
      ]
     },
     "execution_count": 31,
     "metadata": {},
     "output_type": "execute_result"
    }
   ],
   "source": [
    "str(next(model_0.parameters()).device )"
   ]
  },
  {
   "cell_type": "markdown",
   "id": "55ed72ee-e913-45be-904c-3fdaa6e70f0f",
   "metadata": {},
   "source": [
    "# 4. Make Predictions and get Model_0 results\n"
   ]
  },
  {
   "cell_type": "code",
   "execution_count": 49,
   "id": "541e4b4e-535a-47e9-af9e-58d226f72faa",
   "metadata": {},
   "outputs": [
    {
     "data": {
      "application/vnd.jupyter.widget-view+json": {
       "model_id": "22b533e9b8994a5ea0dd8f26d078604a",
       "version_major": 2,
       "version_minor": 0
      },
      "text/plain": [
       "  0%|          | 0/313 [00:00<?, ?it/s]"
      ]
     },
     "metadata": {},
     "output_type": "display_data"
    },
    {
     "data": {
      "text/plain": [
       "{'model_name': 'FashionMNISTModelV0',\n",
       " 'model_loss': 0.49889200925827026,\n",
       " 'model_acc': 82.85742811501598}"
      ]
     },
     "execution_count": 49,
     "metadata": {},
     "output_type": "execute_result"
    }
   ],
   "source": [
    "torch.manual_seed(42)\n",
    "\n",
    "def eval_model(model: torch.nn.Module,\n",
    "              data_loader: torch.utils.data.DataLoader,\n",
    "              loss_fn: torch.nn.Module,\n",
    "              accuracy_fn,\n",
    "              device):\n",
    "    \"\"\" Returns a dictionary containing the results of model predicting on data_loader.\"\"\"\n",
    "\n",
    "    loss, acc = 0 , 0\n",
    "    model.eval()\n",
    "    with torch.inference_mode():\n",
    "        for X, y in tqdm(data_loader):\n",
    "            # Put data on target device\n",
    "            X, y = X.to(device), y.to(device)\n",
    "            # Make prediction\n",
    "            y_pred = model(X)\n",
    "    \n",
    "            # Accumulate the loss and acc values per batch\n",
    "            loss += loss_fn(y_pred, y)\n",
    "            acc += accuracy_fn(y_true=y,\n",
    "                               y_pred = y_pred.argmax(dim=1))\n",
    "        # Scale loss and acc to find the average loss/acc per batch\n",
    "        loss /= len(data_loader)\n",
    "        acc /= len(data_loader)\n",
    "\n",
    "    return {\"model_name\" : model.__class__.__name__, # only works whwn model was created with a class\n",
    "            \"model_loss\" : loss.item(),\n",
    "            \"model_acc\" : acc}\n",
    "\n",
    "# Calculate model_0 results on test datasets\n",
    "model_0_results = eval_model(model=model_0,\n",
    "                            data_loader=test_dataloader,\n",
    "                            loss_fn=loss_fn,\n",
    "                            accuracy_fn=accuracy_fn,\n",
    "                            device = 'cpu')\n",
    "model_0_results"
   ]
  },
  {
   "cell_type": "markdown",
   "id": "6b0d124a-7516-4af2-9543-d310492611e8",
   "metadata": {},
   "source": [
    "### 5. Setup device agnostic-code (for using a GPU if there is one)"
   ]
  },
  {
   "cell_type": "code",
   "execution_count": 33,
   "id": "36c89e5e-f593-4ebb-a321-0eea9718825d",
   "metadata": {},
   "outputs": [
    {
     "name": "stdout",
     "output_type": "stream",
     "text": [
      "Sat Aug 24 15:41:12 2024       \n",
      "+-----------------------------------------------------------------------------+\n",
      "| NVIDIA-SMI 522.30       Driver Version: 522.30       CUDA Version: 11.8     |\n",
      "|-------------------------------+----------------------+----------------------+\n",
      "| GPU  Name            TCC/WDDM | Bus-Id        Disp.A | Volatile Uncorr. ECC |\n",
      "| Fan  Temp  Perf  Pwr:Usage/Cap|         Memory-Usage | GPU-Util  Compute M. |\n",
      "|                               |                      |               MIG M. |\n",
      "|===============================+======================+======================|\n",
      "|   0  NVIDIA GeForce ... WDDM  | 00000000:01:00.0 Off |                  N/A |\n",
      "| N/A   44C    P8    15W /  N/A |      0MiB /  8192MiB |      0%      Default |\n",
      "|                               |                      |                  N/A |\n",
      "+-------------------------------+----------------------+----------------------+\n",
      "                                                                               \n",
      "+-----------------------------------------------------------------------------+\n",
      "| Processes:                                                                  |\n",
      "|  GPU   GI   CI        PID   Type   Process name                  GPU Memory |\n",
      "|        ID   ID                                                   Usage      |\n",
      "|=============================================================================|\n",
      "|  No running processes found                                                 |\n",
      "+-----------------------------------------------------------------------------+\n"
     ]
    }
   ],
   "source": [
    "!nvidia-smi"
   ]
  },
  {
   "cell_type": "code",
   "execution_count": 34,
   "id": "ac952ca5-5180-4168-b3d3-b83fb7cdd6e2",
   "metadata": {},
   "outputs": [
    {
     "data": {
      "text/plain": [
       "True"
      ]
     },
     "execution_count": 34,
     "metadata": {},
     "output_type": "execute_result"
    }
   ],
   "source": [
    "torch.cuda.is_available()"
   ]
  },
  {
   "cell_type": "code",
   "execution_count": 35,
   "id": "de6f3a11-fe03-43fa-a9f1-f36c8efd4d09",
   "metadata": {},
   "outputs": [
    {
     "data": {
      "text/plain": [
       "'cuda'"
      ]
     },
     "execution_count": 35,
     "metadata": {},
     "output_type": "execute_result"
    }
   ],
   "source": [
    "device = 'cuda' if torch.cuda.is_available() else 'cpu'\n",
    "device"
   ]
  },
  {
   "cell_type": "markdown",
   "id": "d2403194-0c00-430d-a104-a9aaf2dff8af",
   "metadata": {},
   "source": [
    "### 6. Model_1 : Building a better model with non-linearity\n",
    "\n"
   ]
  },
  {
   "cell_type": "code",
   "execution_count": 36,
   "id": "8741cb1f-a565-4f5f-b9e1-22aa9d6aa0f7",
   "metadata": {},
   "outputs": [],
   "source": [
    "# create a model with non-linear and linear layers\n",
    "class FashionMNISTModelV1(nn.Module):\n",
    "    def __init__(self,\n",
    "                 input_shape: int,\n",
    "                 hidden_units: int,\n",
    "                 output_shape: int):\n",
    "        super().__init__()\n",
    "        self.layer_stack = nn.Sequential(\n",
    "            nn.Flatten(), # flatten inputs into a single vector\n",
    "            nn.Linear(in_features=input_shape, out_features= hidden_units),\n",
    "            nn.ReLU(),\n",
    "            nn.Linear(in_features=hidden_units, out_features= hidden_units),\n",
    "            nn.ReLU(),\n",
    "            nn.Linear(in_features=hidden_units, out_features= output_shape))\n",
    "\n",
    "    def forward(self, x: torch.Tensor):\n",
    "        return self.layer_stack(x)        \n",
    "                 "
   ]
  },
  {
   "cell_type": "code",
   "execution_count": 37,
   "id": "f8b2cab9-a724-4101-bc1c-89a9171f531a",
   "metadata": {},
   "outputs": [
    {
     "data": {
      "text/plain": [
       "FashionMNISTModelV1(\n",
       "  (layer_stack): Sequential(\n",
       "    (0): Flatten(start_dim=1, end_dim=-1)\n",
       "    (1): Linear(in_features=784, out_features=10, bias=True)\n",
       "    (2): ReLU()\n",
       "    (3): Linear(in_features=10, out_features=10, bias=True)\n",
       "    (4): ReLU()\n",
       "    (5): Linear(in_features=10, out_features=10, bias=True)\n",
       "  )\n",
       ")"
      ]
     },
     "execution_count": 37,
     "metadata": {},
     "output_type": "execute_result"
    }
   ],
   "source": [
    "# Create an instance of model_1\n",
    "\n",
    "torch.manual_seed(42)\n",
    "\n",
    "model_1 = FashionMNISTModelV1(input_shape= 784, # this is the output of flatten after our 28*28\n",
    "                             hidden_units= 10,\n",
    "                             output_shape= len(class_names)).to(device) # send to the GPU if it's available\n",
    "model_1"
   ]
  },
  {
   "cell_type": "code",
   "execution_count": 38,
   "id": "9622e983-ae32-464b-9510-73278abcf60f",
   "metadata": {},
   "outputs": [
    {
     "data": {
      "text/plain": [
       "device(type='cuda', index=0)"
      ]
     },
     "execution_count": 38,
     "metadata": {},
     "output_type": "execute_result"
    }
   ],
   "source": [
    "next(model_1.parameters()).device"
   ]
  },
  {
   "cell_type": "code",
   "execution_count": 39,
   "id": "3e2fb1bc-1b56-4e64-937e-6fb0a628c202",
   "metadata": {},
   "outputs": [
    {
     "name": "stdout",
     "output_type": "stream",
     "text": [
      "Sat Aug 24 15:41:12 2024       \n",
      "+-----------------------------------------------------------------------------+\n",
      "| NVIDIA-SMI 522.30       Driver Version: 522.30       CUDA Version: 11.8     |\n",
      "|-------------------------------+----------------------+----------------------+\n",
      "| GPU  Name            TCC/WDDM | Bus-Id        Disp.A | Volatile Uncorr. ECC |\n",
      "| Fan  Temp  Perf  Pwr:Usage/Cap|         Memory-Usage | GPU-Util  Compute M. |\n",
      "|                               |                      |               MIG M. |\n",
      "|===============================+======================+======================|\n",
      "|   0  NVIDIA GeForce ... WDDM  | 00000000:01:00.0 Off |                  N/A |\n",
      "| N/A   45C    P0    34W /  N/A |    138MiB /  8192MiB |      2%      Default |\n",
      "|                               |                      |                  N/A |\n",
      "+-------------------------------+----------------------+----------------------+\n",
      "                                                                               \n",
      "+-----------------------------------------------------------------------------+\n",
      "| Processes:                                                                  |\n",
      "|  GPU   GI   CI        PID   Type   Process name                  GPU Memory |\n",
      "|        ID   ID                                                   Usage      |\n",
      "|=============================================================================|\n",
      "|    0   N/A  N/A     27680      C   ...conda3\\envs\\tf\\python.exe    N/A      |\n",
      "+-----------------------------------------------------------------------------+\n"
     ]
    }
   ],
   "source": [
    "!nvidia-smi"
   ]
  },
  {
   "cell_type": "code",
   "execution_count": 40,
   "id": "f430e63a-cbc2-4b6a-a13d-45f81043248a",
   "metadata": {},
   "outputs": [],
   "source": [
    "# Creating loss function and Optimizer\n",
    "\n",
    "loss_fn = nn.CrossEntropyLoss() # measure how wrong our model is\n",
    "\n",
    "optimizer = torch.optim.SGD(params= model_1.parameters(), lr = 0.1) # tries to update our model's parameters to reduce the loss\n"
   ]
  },
  {
   "cell_type": "markdown",
   "id": "f765fbe7-61d9-42b3-992f-5e9af7c478d1",
   "metadata": {},
   "source": [
    "### 6.2 Functionizing training and evaluation/testing loops\n",
    "\n",
    "Let's create a function for:\n",
    "  * training loop- train_step()\n",
    "  * testing loop- test_step()"
   ]
  },
  {
   "cell_type": "code",
   "execution_count": 41,
   "id": "4d5c1279-a7b1-492a-9bdf-7c03105dafe8",
   "metadata": {},
   "outputs": [],
   "source": [
    "def train_step(model: torch.nn.Module,\n",
    "               data_loader: torch.utils.data.DataLoader,\n",
    "               loss_fn: torch.nn.Module,\n",
    "               optimizer: torch.optim.Optimizer,\n",
    "               accuracy_fn,\n",
    "               device: torch.device = device ):\n",
    "    \"\"\" Performs a training with a model trying to learn on data_loader\"\"\"\n",
    "    \n",
    "    # Training\n",
    "    train_loss, train_acc = 0, 0\n",
    "\n",
    "    # Put model into training mode\n",
    "    model.train()\n",
    "    \n",
    "    # Add a loop to loop the training batches\n",
    "    for batch, (X, y) in enumerate(data_loader):\n",
    "        # Put data on target device\n",
    "        X, y = X.to(device), y.to(device)\n",
    "       \n",
    "        # 1. Forward Pass\n",
    "        y_pred = model(X)\n",
    "    \n",
    "        # 2. Calculate loss (per batch)\n",
    "        loss = loss_fn(y_pred, y)\n",
    "        train_loss += loss # accumulate train loss\n",
    "    \n",
    "        # 3. Calcuate accuracy\n",
    "        train_acc += accuracy_fn(y_true=y, y_pred= y_pred.argmax(dim=1)) # go from logits -> prediction label \n",
    "        \n",
    "        # 4. Optimizer zero grad\n",
    "        optimizer.zero_grad()\n",
    "    \n",
    "        # 5. Loss backward\n",
    "        loss.backward()\n",
    "    \n",
    "        # 6. Optimizer Step (Grdient desecent)\n",
    "        optimizer.step()\n",
    "    \n",
    "    # Devide total train loss by length of train dataloader\n",
    "    train_loss /= len(data_loader)\n",
    "    \n",
    "    # Calculate the test acc \n",
    "    train_acc /= len(data_loader)\n",
    "    # Print out what's happening\n",
    "    print(f\"Train loss: {train_loss:.5f}| Train Accuracy: {train_acc:.2f}\")\n",
    "\n"
   ]
  },
  {
   "cell_type": "code",
   "execution_count": 42,
   "id": "eab11285-609f-4d45-8cfd-b5d4112b64c5",
   "metadata": {},
   "outputs": [],
   "source": [
    "def test_step(model: torch.nn.Module,\n",
    "               data_loader: torch.utils.data.DataLoader,\n",
    "               loss_fn: torch.nn.Module,\n",
    "               accuracy_fn,\n",
    "               device: torch.device = device ):\n",
    "    \n",
    "     \"\"\" Performs a testing with a model trying to learn on data_loader\"\"\"\n",
    "     ## Testing\n",
    "     test_loss, test_acc = 0, 0\n",
    "     model.eval()\n",
    "     with torch.inference_mode():\n",
    "        for X_test, y_test in data_loader:\n",
    "            # Put data on target device\n",
    "            X_test, y_test = X_test.to(device), y_test.to(device)\n",
    "            # 1. forward Pass\n",
    "            test_pred = model(X_test)\n",
    "    \n",
    "            # 2. Calculate loss (accumulatively)\n",
    "            test_loss += loss_fn(test_pred, y_test)\n",
    "    \n",
    "            # 3. Calcuate accuracy\n",
    "            test_acc += accuracy_fn(y_true=y_test, y_pred= test_pred.argmax(dim=1))  # go from logits -> prediction label \n",
    "    \n",
    "        # Calculate test loss\n",
    "        test_loss /= len(data_loader)\n",
    "    \n",
    "        # Calculate the test acc \n",
    "        test_acc /= len(data_loader)\n",
    "    \n",
    "        # Print out what's happening\n",
    "        print(f\"Test loss {test_loss:.5f}| Test Accuracy: {test_acc:.2f}\") "
   ]
  },
  {
   "cell_type": "code",
   "execution_count": 43,
   "id": "fb15f31e-1d96-4cf3-89c3-181ec68c44a1",
   "metadata": {},
   "outputs": [
    {
     "data": {
      "application/vnd.jupyter.widget-view+json": {
       "model_id": "768c4166ffca4f12ba0b74369dc2a0e0",
       "version_major": 2,
       "version_minor": 0
      },
      "text/plain": [
       "  0%|          | 0/100 [00:00<?, ?it/s]"
      ]
     },
     "metadata": {},
     "output_type": "display_data"
    },
    {
     "name": "stdout",
     "output_type": "stream",
     "text": [
      "Epoch: 0\n",
      "------------------------------------\n",
      "Train loss: 0.66768| Train Accuracy: 75.88\n",
      "Test loss 0.50100| Test Accuracy: 82.09\n",
      "Epoch: 1\n",
      "------------------------------------\n",
      "Train loss: 0.48335| Train Accuracy: 82.86\n",
      "Test loss 0.49603| Test Accuracy: 82.43\n",
      "Epoch: 2\n",
      "------------------------------------\n",
      "Train loss: 0.44929| Train Accuracy: 83.89\n",
      "Test loss 0.49073| Test Accuracy: 82.62\n",
      "Epoch: 3\n",
      "------------------------------------\n",
      "Train loss: 0.43032| Train Accuracy: 84.54\n",
      "Test loss 0.45669| Test Accuracy: 83.51\n",
      "Epoch: 4\n",
      "------------------------------------\n",
      "Train loss: 0.41983| Train Accuracy: 84.83\n",
      "Test loss 0.46542| Test Accuracy: 83.49\n",
      "Epoch: 5\n",
      "------------------------------------\n",
      "Train loss: 0.40924| Train Accuracy: 85.17\n",
      "Test loss 0.45525| Test Accuracy: 83.85\n",
      "Epoch: 6\n",
      "------------------------------------\n",
      "Train loss: 0.40088| Train Accuracy: 85.64\n",
      "Test loss 0.45992| Test Accuracy: 83.91\n",
      "Epoch: 7\n",
      "------------------------------------\n",
      "Train loss: 0.39638| Train Accuracy: 85.74\n",
      "Test loss 0.48325| Test Accuracy: 83.72\n",
      "Epoch: 8\n",
      "------------------------------------\n",
      "Train loss: 0.39037| Train Accuracy: 85.95\n",
      "Test loss 0.41489| Test Accuracy: 85.35\n",
      "Epoch: 9\n",
      "------------------------------------\n",
      "Train loss: 0.38641| Train Accuracy: 85.97\n",
      "Test loss 0.42407| Test Accuracy: 84.68\n",
      "Epoch: 10\n",
      "------------------------------------\n",
      "Train loss: 0.38279| Train Accuracy: 86.15\n",
      "Test loss 0.42944| Test Accuracy: 84.90\n",
      "Epoch: 11\n",
      "------------------------------------\n",
      "Train loss: 0.37779| Train Accuracy: 86.26\n",
      "Test loss 0.44317| Test Accuracy: 84.38\n",
      "Epoch: 12\n",
      "------------------------------------\n",
      "Train loss: 0.37539| Train Accuracy: 86.47\n",
      "Test loss 0.41659| Test Accuracy: 85.33\n",
      "Epoch: 13\n",
      "------------------------------------\n",
      "Train loss: 0.37187| Train Accuracy: 86.47\n",
      "Test loss 0.43793| Test Accuracy: 84.79\n",
      "Epoch: 14\n",
      "------------------------------------\n",
      "Train loss: 0.36951| Train Accuracy: 86.57\n",
      "Test loss 0.43770| Test Accuracy: 84.50\n",
      "Epoch: 15\n",
      "------------------------------------\n",
      "Train loss: 0.36895| Train Accuracy: 86.58\n",
      "Test loss 0.47380| Test Accuracy: 84.11\n",
      "Epoch: 16\n",
      "------------------------------------\n",
      "Train loss: 0.36488| Train Accuracy: 86.69\n",
      "Test loss 0.44931| Test Accuracy: 84.34\n",
      "Epoch: 17\n",
      "------------------------------------\n",
      "Train loss: 0.36237| Train Accuracy: 86.92\n",
      "Test loss 0.49518| Test Accuracy: 83.53\n",
      "Epoch: 18\n",
      "------------------------------------\n",
      "Train loss: 0.36142| Train Accuracy: 86.84\n",
      "Test loss 0.45720| Test Accuracy: 84.27\n",
      "Epoch: 19\n",
      "------------------------------------\n",
      "Train loss: 0.35880| Train Accuracy: 87.00\n",
      "Test loss 0.42992| Test Accuracy: 85.48\n",
      "Epoch: 20\n",
      "------------------------------------\n",
      "Train loss: 0.35603| Train Accuracy: 87.03\n",
      "Test loss 0.40732| Test Accuracy: 85.38\n",
      "Epoch: 21\n",
      "------------------------------------\n",
      "Train loss: 0.35527| Train Accuracy: 87.05\n",
      "Test loss 0.46506| Test Accuracy: 83.95\n",
      "Epoch: 22\n",
      "------------------------------------\n",
      "Train loss: 0.35566| Train Accuracy: 87.00\n",
      "Test loss 0.41519| Test Accuracy: 85.43\n",
      "Epoch: 23\n",
      "------------------------------------\n",
      "Train loss: 0.35291| Train Accuracy: 87.21\n",
      "Test loss 0.41165| Test Accuracy: 85.78\n",
      "Epoch: 24\n",
      "------------------------------------\n",
      "Train loss: 0.35311| Train Accuracy: 87.20\n",
      "Test loss 0.43367| Test Accuracy: 85.04\n",
      "Epoch: 25\n",
      "------------------------------------\n",
      "Train loss: 0.35005| Train Accuracy: 87.39\n",
      "Test loss 0.43079| Test Accuracy: 85.50\n",
      "Epoch: 26\n",
      "------------------------------------\n",
      "Train loss: 0.34868| Train Accuracy: 87.26\n",
      "Test loss 0.41357| Test Accuracy: 85.87\n",
      "Epoch: 27\n",
      "------------------------------------\n",
      "Train loss: 0.34830| Train Accuracy: 87.29\n",
      "Test loss 0.44636| Test Accuracy: 84.59\n",
      "Epoch: 28\n",
      "------------------------------------\n",
      "Train loss: 0.34750| Train Accuracy: 87.32\n",
      "Test loss 0.43807| Test Accuracy: 85.25\n",
      "Epoch: 29\n",
      "------------------------------------\n",
      "Train loss: 0.34400| Train Accuracy: 87.44\n",
      "Test loss 0.42751| Test Accuracy: 85.42\n",
      "Epoch: 30\n",
      "------------------------------------\n",
      "Train loss: 0.34331| Train Accuracy: 87.43\n",
      "Test loss 0.45018| Test Accuracy: 85.21\n",
      "Epoch: 31\n",
      "------------------------------------\n",
      "Train loss: 0.34277| Train Accuracy: 87.50\n",
      "Test loss 0.41607| Test Accuracy: 85.72\n",
      "Epoch: 32\n",
      "------------------------------------\n",
      "Train loss: 0.34241| Train Accuracy: 87.62\n",
      "Test loss 0.43383| Test Accuracy: 85.32\n",
      "Epoch: 33\n",
      "------------------------------------\n",
      "Train loss: 0.34097| Train Accuracy: 87.48\n",
      "Test loss 0.43296| Test Accuracy: 85.05\n",
      "Epoch: 34\n",
      "------------------------------------\n",
      "Train loss: 0.34107| Train Accuracy: 87.56\n",
      "Test loss 0.46392| Test Accuracy: 84.46\n",
      "Epoch: 35\n",
      "------------------------------------\n",
      "Train loss: 0.34112| Train Accuracy: 87.71\n",
      "Test loss 0.44256| Test Accuracy: 85.09\n",
      "Epoch: 36\n",
      "------------------------------------\n",
      "Train loss: 0.33887| Train Accuracy: 87.64\n",
      "Test loss 0.44355| Test Accuracy: 84.97\n",
      "Epoch: 37\n",
      "------------------------------------\n",
      "Train loss: 0.33668| Train Accuracy: 87.75\n",
      "Test loss 0.47448| Test Accuracy: 84.64\n",
      "Epoch: 38\n",
      "------------------------------------\n",
      "Train loss: 0.33776| Train Accuracy: 87.68\n",
      "Test loss 0.42757| Test Accuracy: 85.45\n",
      "Epoch: 39\n",
      "------------------------------------\n",
      "Train loss: 0.33598| Train Accuracy: 87.74\n",
      "Test loss 0.42656| Test Accuracy: 85.57\n",
      "Epoch: 40\n",
      "------------------------------------\n",
      "Train loss: 0.33613| Train Accuracy: 87.75\n",
      "Test loss 0.42469| Test Accuracy: 85.60\n",
      "Epoch: 41\n",
      "------------------------------------\n",
      "Train loss: 0.33618| Train Accuracy: 87.66\n",
      "Test loss 0.45872| Test Accuracy: 84.83\n",
      "Epoch: 42\n",
      "------------------------------------\n",
      "Train loss: 0.33363| Train Accuracy: 87.82\n",
      "Test loss 0.43055| Test Accuracy: 85.63\n",
      "Epoch: 43\n",
      "------------------------------------\n",
      "Train loss: 0.33603| Train Accuracy: 87.73\n",
      "Test loss 0.46080| Test Accuracy: 84.64\n",
      "Epoch: 44\n",
      "------------------------------------\n",
      "Train loss: 0.33304| Train Accuracy: 87.77\n",
      "Test loss 0.43843| Test Accuracy: 85.32\n",
      "Epoch: 45\n",
      "------------------------------------\n",
      "Train loss: 0.33161| Train Accuracy: 87.95\n",
      "Test loss 0.43572| Test Accuracy: 85.75\n",
      "Epoch: 46\n",
      "------------------------------------\n",
      "Train loss: 0.33276| Train Accuracy: 87.84\n",
      "Test loss 0.44853| Test Accuracy: 84.91\n",
      "Epoch: 47\n",
      "------------------------------------\n",
      "Train loss: 0.33154| Train Accuracy: 87.86\n",
      "Test loss 0.47089| Test Accuracy: 84.26\n",
      "Epoch: 48\n",
      "------------------------------------\n",
      "Train loss: 0.33137| Train Accuracy: 88.06\n",
      "Test loss 0.44649| Test Accuracy: 85.26\n",
      "Epoch: 49\n",
      "------------------------------------\n",
      "Train loss: 0.33112| Train Accuracy: 87.93\n",
      "Test loss 0.44754| Test Accuracy: 85.53\n",
      "Epoch: 50\n",
      "------------------------------------\n",
      "Train loss: 0.32887| Train Accuracy: 88.01\n",
      "Test loss 0.45427| Test Accuracy: 85.03\n",
      "Epoch: 51\n",
      "------------------------------------\n",
      "Train loss: 0.33008| Train Accuracy: 87.91\n",
      "Test loss 0.43909| Test Accuracy: 85.01\n",
      "Epoch: 52\n",
      "------------------------------------\n",
      "Train loss: 0.32876| Train Accuracy: 88.09\n",
      "Test loss 0.46425| Test Accuracy: 84.29\n",
      "Epoch: 53\n",
      "------------------------------------\n",
      "Train loss: 0.32733| Train Accuracy: 88.19\n",
      "Test loss 0.43735| Test Accuracy: 85.43\n",
      "Epoch: 54\n",
      "------------------------------------\n",
      "Train loss: 0.32856| Train Accuracy: 87.94\n",
      "Test loss 0.43919| Test Accuracy: 85.42\n",
      "Epoch: 55\n",
      "------------------------------------\n",
      "Train loss: 0.32717| Train Accuracy: 88.06\n",
      "Test loss 0.47573| Test Accuracy: 84.47\n",
      "Epoch: 56\n",
      "------------------------------------\n",
      "Train loss: 0.32918| Train Accuracy: 88.08\n",
      "Test loss 0.44362| Test Accuracy: 85.13\n",
      "Epoch: 57\n",
      "------------------------------------\n",
      "Train loss: 0.32682| Train Accuracy: 87.97\n",
      "Test loss 0.44168| Test Accuracy: 85.02\n",
      "Epoch: 58\n",
      "------------------------------------\n",
      "Train loss: 0.32675| Train Accuracy: 88.23\n",
      "Test loss 0.46092| Test Accuracy: 84.49\n",
      "Epoch: 59\n",
      "------------------------------------\n",
      "Train loss: 0.32760| Train Accuracy: 88.17\n",
      "Test loss 0.43692| Test Accuracy: 85.64\n",
      "Epoch: 60\n",
      "------------------------------------\n",
      "Train loss: 0.32496| Train Accuracy: 88.12\n",
      "Test loss 0.45292| Test Accuracy: 84.86\n",
      "Epoch: 61\n",
      "------------------------------------\n",
      "Train loss: 0.32488| Train Accuracy: 88.17\n",
      "Test loss 0.48979| Test Accuracy: 83.75\n",
      "Epoch: 62\n",
      "------------------------------------\n",
      "Train loss: 0.32330| Train Accuracy: 88.20\n",
      "Test loss 0.45008| Test Accuracy: 85.20\n",
      "Epoch: 63\n",
      "------------------------------------\n",
      "Train loss: 0.32575| Train Accuracy: 88.19\n",
      "Test loss 0.44226| Test Accuracy: 85.54\n",
      "Epoch: 64\n",
      "------------------------------------\n",
      "Train loss: 0.32514| Train Accuracy: 88.10\n",
      "Test loss 0.43598| Test Accuracy: 85.99\n",
      "Epoch: 65\n",
      "------------------------------------\n",
      "Train loss: 0.32404| Train Accuracy: 88.22\n",
      "Test loss 0.44645| Test Accuracy: 85.22\n",
      "Epoch: 66\n",
      "------------------------------------\n",
      "Train loss: 0.32221| Train Accuracy: 88.34\n",
      "Test loss 0.44628| Test Accuracy: 85.76\n",
      "Epoch: 67\n",
      "------------------------------------\n",
      "Train loss: 0.32118| Train Accuracy: 88.26\n",
      "Test loss 0.44579| Test Accuracy: 85.54\n",
      "Epoch: 68\n",
      "------------------------------------\n",
      "Train loss: 0.32293| Train Accuracy: 88.33\n",
      "Test loss 0.44519| Test Accuracy: 85.49\n",
      "Epoch: 69\n",
      "------------------------------------\n",
      "Train loss: 0.32322| Train Accuracy: 88.21\n",
      "Test loss 0.46988| Test Accuracy: 84.68\n",
      "Epoch: 70\n",
      "------------------------------------\n",
      "Train loss: 0.32296| Train Accuracy: 88.18\n",
      "Test loss 0.45740| Test Accuracy: 85.29\n",
      "Epoch: 71\n",
      "------------------------------------\n",
      "Train loss: 0.32126| Train Accuracy: 88.33\n",
      "Test loss 0.46403| Test Accuracy: 84.50\n",
      "Epoch: 72\n",
      "------------------------------------\n",
      "Train loss: 0.32159| Train Accuracy: 88.19\n",
      "Test loss 0.45332| Test Accuracy: 85.10\n",
      "Epoch: 73\n",
      "------------------------------------\n",
      "Train loss: 0.32126| Train Accuracy: 88.32\n",
      "Test loss 0.46455| Test Accuracy: 84.73\n",
      "Epoch: 74\n",
      "------------------------------------\n",
      "Train loss: 0.32157| Train Accuracy: 88.28\n",
      "Test loss 0.47351| Test Accuracy: 84.74\n",
      "Epoch: 75\n",
      "------------------------------------\n",
      "Train loss: 0.32001| Train Accuracy: 88.39\n",
      "Test loss 0.46173| Test Accuracy: 84.69\n",
      "Epoch: 76\n",
      "------------------------------------\n",
      "Train loss: 0.31871| Train Accuracy: 88.51\n",
      "Test loss 0.44597| Test Accuracy: 85.35\n",
      "Epoch: 77\n",
      "------------------------------------\n",
      "Train loss: 0.32101| Train Accuracy: 88.34\n",
      "Test loss 0.47081| Test Accuracy: 84.84\n",
      "Epoch: 78\n",
      "------------------------------------\n",
      "Train loss: 0.31943| Train Accuracy: 88.43\n",
      "Test loss 0.48122| Test Accuracy: 84.42\n",
      "Epoch: 79\n",
      "------------------------------------\n",
      "Train loss: 0.31936| Train Accuracy: 88.33\n",
      "Test loss 0.46522| Test Accuracy: 84.80\n",
      "Epoch: 80\n",
      "------------------------------------\n",
      "Train loss: 0.31929| Train Accuracy: 88.47\n",
      "Test loss 0.45526| Test Accuracy: 85.06\n",
      "Epoch: 81\n",
      "------------------------------------\n",
      "Train loss: 0.31757| Train Accuracy: 88.40\n",
      "Test loss 0.52074| Test Accuracy: 83.42\n",
      "Epoch: 82\n",
      "------------------------------------\n",
      "Train loss: 0.32052| Train Accuracy: 88.50\n",
      "Test loss 0.47739| Test Accuracy: 85.02\n",
      "Epoch: 83\n",
      "------------------------------------\n",
      "Train loss: 0.31757| Train Accuracy: 88.58\n",
      "Test loss 0.44733| Test Accuracy: 85.73\n",
      "Epoch: 84\n",
      "------------------------------------\n",
      "Train loss: 0.31767| Train Accuracy: 88.37\n",
      "Test loss 0.48108| Test Accuracy: 84.11\n",
      "Epoch: 85\n",
      "------------------------------------\n",
      "Train loss: 0.31914| Train Accuracy: 88.33\n",
      "Test loss 0.49686| Test Accuracy: 84.40\n",
      "Epoch: 86\n",
      "------------------------------------\n",
      "Train loss: 0.31689| Train Accuracy: 88.44\n",
      "Test loss 0.45568| Test Accuracy: 85.26\n",
      "Epoch: 87\n",
      "------------------------------------\n",
      "Train loss: 0.31698| Train Accuracy: 88.37\n",
      "Test loss 0.45431| Test Accuracy: 85.55\n",
      "Epoch: 88\n",
      "------------------------------------\n",
      "Train loss: 0.31810| Train Accuracy: 88.34\n",
      "Test loss 0.46120| Test Accuracy: 84.49\n",
      "Epoch: 89\n",
      "------------------------------------\n",
      "Train loss: 0.31662| Train Accuracy: 88.45\n",
      "Test loss 0.46293| Test Accuracy: 84.86\n",
      "Epoch: 90\n",
      "------------------------------------\n",
      "Train loss: 0.31760| Train Accuracy: 88.44\n",
      "Test loss 0.47590| Test Accuracy: 84.54\n",
      "Epoch: 91\n",
      "------------------------------------\n",
      "Train loss: 0.31798| Train Accuracy: 88.45\n",
      "Test loss 0.46704| Test Accuracy: 84.35\n",
      "Epoch: 92\n",
      "------------------------------------\n",
      "Train loss: 0.31555| Train Accuracy: 88.52\n",
      "Test loss 0.48007| Test Accuracy: 85.06\n",
      "Epoch: 93\n",
      "------------------------------------\n",
      "Train loss: 0.31638| Train Accuracy: 88.54\n",
      "Test loss 0.45569| Test Accuracy: 85.26\n",
      "Epoch: 94\n",
      "------------------------------------\n",
      "Train loss: 0.31380| Train Accuracy: 88.66\n",
      "Test loss 0.46622| Test Accuracy: 84.91\n",
      "Epoch: 95\n",
      "------------------------------------\n",
      "Train loss: 0.31541| Train Accuracy: 88.44\n",
      "Test loss 0.46208| Test Accuracy: 85.41\n",
      "Epoch: 96\n",
      "------------------------------------\n",
      "Train loss: 0.31489| Train Accuracy: 88.50\n",
      "Test loss 0.47607| Test Accuracy: 84.88\n",
      "Epoch: 97\n",
      "------------------------------------\n",
      "Train loss: 0.31506| Train Accuracy: 88.58\n",
      "Test loss 0.45855| Test Accuracy: 85.41\n",
      "Epoch: 98\n",
      "------------------------------------\n",
      "Train loss: 0.31406| Train Accuracy: 88.57\n",
      "Test loss 0.49248| Test Accuracy: 84.75\n",
      "Epoch: 99\n",
      "------------------------------------\n",
      "Train loss: 0.31467| Train Accuracy: 88.54\n",
      "Test loss 0.47844| Test Accuracy: 84.26\n",
      "trin time on cuda: 2272.666 seconds\n"
     ]
    },
    {
     "data": {
      "text/plain": [
       "2272.6661643"
      ]
     },
     "execution_count": 43,
     "metadata": {},
     "output_type": "execute_result"
    }
   ],
   "source": [
    "# Measure time\n",
    "train_time_start_on_cpu = timer()\n",
    "\n",
    "# randm seed\n",
    "torch.manual_seed(42)\n",
    "torch.cuda.manual_seed(42)\n",
    "\n",
    "# Set epochs\n",
    "epochs = 100\n",
    "\n",
    "# create training and test loop\n",
    "for epoch in tqdm(range(epochs)):\n",
    "    print(f\"Epoch: {epoch}\\n------------------------------------\")\n",
    "    train_step(model=model_1,\n",
    "               data_loader= train_dataloader,\n",
    "               loss_fn= loss_fn,\n",
    "               optimizer= optimizer,\n",
    "               accuracy_fn= accuracy_fn,\n",
    "               device = device )\n",
    "    test_step(model= model_1,\n",
    "               data_loader= test_dataloader,\n",
    "               loss_fn= loss_fn,\n",
    "               accuracy_fn= accuracy_fn,\n",
    "               device = device )\n",
    "\n",
    "train_time_end_on_cpu = timer()\n",
    "print_train_time(start=train_time_start_on_cpu,\n",
    "                 end=train_time_end_on_cpu, \n",
    "                 device = device )\n",
    "    "
   ]
  },
  {
   "cell_type": "markdown",
   "id": "2dc2b307-b2ef-4166-bb72-52b68e77e139",
   "metadata": {},
   "source": [
    "> ** Note:** Sometimes, depending on your data/hardware you might find that your model trains faster on CPU than GPU\n",
    ">\n",
    "> Why is this?\n",
    ">\n",
    "> 1. It could be that the overhead for copying data/model to and form the GPU outweighs the compute benefits offered by the GPU.\n",
    "> 2. The hardware you're using has a better CPU in terms compute capbility than the GPU.\n",
    "> 3. https://horace.io/brrr_intro.html"
   ]
  },
  {
   "cell_type": "code",
   "execution_count": 44,
   "id": "9c0a3c56-428f-44c3-8104-e62b29a1c0f7",
   "metadata": {},
   "outputs": [
    {
     "data": {
      "text/plain": [
       "{'model_name': 'FashionMNISTModelV0',\n",
       " 'model_loss': 0.49889200925827026,\n",
       " 'model_acc': 82.85742811501598}"
      ]
     },
     "execution_count": 44,
     "metadata": {},
     "output_type": "execute_result"
    }
   ],
   "source": [
    "# Model_0 results\n",
    "model_0_results"
   ]
  },
  {
   "cell_type": "code",
   "execution_count": 50,
   "id": "3f1ad8be-0191-4f65-a113-4a37172ed43d",
   "metadata": {},
   "outputs": [
    {
     "data": {
      "application/vnd.jupyter.widget-view+json": {
       "model_id": "fe35439fc40348e0a0e29ae0accbab2e",
       "version_major": 2,
       "version_minor": 0
      },
      "text/plain": [
       "  0%|          | 0/313 [00:00<?, ?it/s]"
      ]
     },
     "metadata": {},
     "output_type": "display_data"
    },
    {
     "data": {
      "text/plain": [
       "{'model_name': 'FashionMNISTModelV1',\n",
       " 'model_loss': 0.47843894362449646,\n",
       " 'model_acc': 84.25519169329074}"
      ]
     },
     "execution_count": 50,
     "metadata": {},
     "output_type": "execute_result"
    }
   ],
   "source": [
    "# Calculate model_0 results on test datasets\n",
    "model_0_results = eval_model(model=model_1,\n",
    "                            data_loader=test_dataloader,\n",
    "                            loss_fn=loss_fn,\n",
    "                            accuracy_fn=accuracy_fn,\n",
    "                            device = device)\n",
    "model_0_results"
   ]
  },
  {
   "cell_type": "code",
   "execution_count": null,
   "id": "82231380-40cf-43dd-a201-351209006341",
   "metadata": {},
   "outputs": [],
   "source": []
  },
  {
   "cell_type": "code",
   "execution_count": null,
   "id": "9c6c8926-515a-4e02-a4f7-03dbfa6bc501",
   "metadata": {},
   "outputs": [],
   "source": []
  },
  {
   "cell_type": "code",
   "execution_count": null,
   "id": "0ad79330-8e5d-4837-910e-220fd3b3fb3f",
   "metadata": {},
   "outputs": [],
   "source": []
  },
  {
   "cell_type": "code",
   "execution_count": null,
   "id": "45d83d97-9547-4e37-854c-340aa6e947b4",
   "metadata": {},
   "outputs": [],
   "source": []
  },
  {
   "cell_type": "code",
   "execution_count": null,
   "id": "9c2da9cb-55a6-4d6c-b0cd-9a7a7221a36c",
   "metadata": {},
   "outputs": [],
   "source": []
  }
 ],
 "metadata": {
  "kernelspec": {
   "display_name": "Python 3 (ipykernel)",
   "language": "python",
   "name": "python3"
  },
  "language_info": {
   "codemirror_mode": {
    "name": "ipython",
    "version": 3
   },
   "file_extension": ".py",
   "mimetype": "text/x-python",
   "name": "python",
   "nbconvert_exporter": "python",
   "pygments_lexer": "ipython3",
   "version": "3.9.18"
  }
 },
 "nbformat": 4,
 "nbformat_minor": 5
}
