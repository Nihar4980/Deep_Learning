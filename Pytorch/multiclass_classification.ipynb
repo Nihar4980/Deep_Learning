{
 "cells": [
  {
   "cell_type": "code",
   "execution_count": null,
   "id": "1a180cc7-4e73-4612-8310-049cef42a068",
   "metadata": {},
   "outputs": [],
   "source": [
    "import torch"
   ]
  },
  {
   "cell_type": "code",
   "execution_count": null,
   "id": "2de1c546-e178-4d64-a89d-6ff4a1dcf2b4",
   "metadata": {},
   "outputs": [],
   "source": [
    "A = torch.arange(-10,10,1)\n",
    "A"
   ]
  },
  {
   "cell_type": "code",
   "execution_count": null,
   "id": "fdb9b4c2-1e87-4a4d-8f47-f71f257410b2",
   "metadata": {},
   "outputs": [],
   "source": [
    "import matplotlib.pyplot as plt"
   ]
  },
  {
   "cell_type": "code",
   "execution_count": null,
   "id": "a9012bc6-4795-4861-a6e8-2342436b68c8",
   "metadata": {},
   "outputs": [],
   "source": [
    "plt.plot(A)"
   ]
  },
  {
   "cell_type": "code",
   "execution_count": null,
   "id": "d1d5cb29-a308-4bdd-bc91-5c4adf28cd28",
   "metadata": {},
   "outputs": [],
   "source": [
    "plt.plot(torch.relu(A))"
   ]
  },
  {
   "cell_type": "code",
   "execution_count": null,
   "id": "700c167b-bea5-4a03-a624-5e7d2649414b",
   "metadata": {},
   "outputs": [],
   "source": [
    "def relu(x):\n",
    "    return torch.maximum(torch.tensor(0), x)"
   ]
  },
  {
   "cell_type": "code",
   "execution_count": null,
   "id": "5ada34f5-6676-463c-bf03-04e3b84aa4c3",
   "metadata": {},
   "outputs": [],
   "source": [
    "relu(A)"
   ]
  },
  {
   "cell_type": "code",
   "execution_count": null,
   "id": "cadba00b-8f09-4b2a-a146-46dff20b51fa",
   "metadata": {},
   "outputs": [],
   "source": [
    "def sigmoid(x):\n",
    "    return (1 / ( 1 + torch.exp(-x)))"
   ]
  },
  {
   "cell_type": "code",
   "execution_count": null,
   "id": "b830664b-937c-4ee2-9026-37fff09c6f08",
   "metadata": {},
   "outputs": [],
   "source": [
    "sigmoid(A)"
   ]
  },
  {
   "cell_type": "code",
   "execution_count": null,
   "id": "5583e486-ddf0-4eb8-8c27-fc6a6f64b9f5",
   "metadata": {},
   "outputs": [],
   "source": [
    "plt.plot(sigmoid(A))"
   ]
  },
  {
   "cell_type": "code",
   "execution_count": null,
   "id": "fff51e2f-02e8-4b14-be18-ca5dc79720ac",
   "metadata": {},
   "outputs": [],
   "source": [
    "from sklearn.datasets import make_blobs # https://scikit-learn.org/stable/modules/generated/sklearn.datasets.make_blobs.html\n",
    "from sklearn.model_selection import train_test_split\n",
    "\n",
    "\n",
    "# Set the hyperparameters for data creation\n",
    "NUM_CLASSES = 4\n",
    "NUM_FEATURES = 2\n",
    "RANDOM_SEED = 42\n",
    "\n",
    "\n",
    "# 1. Create Multiclass data\n",
    "X_blob, y_blob = make_blobs(n_samples=1000,\n",
    "                            n_features = NUM_FEATURES,\n",
    "                            centers=NUM_CLASSES,\n",
    "                            cluster_std=1.5,\n",
    "                            random_state=RANDOM_SEED)\n",
    "# 2. Turn data into tensors\n",
    "X_blob = torch.from_numpy(X_blob).type(torch.float)\n",
    "y_blob = torch.from_numpy(y_blob).type(torch.LongTensor)\n",
    "\n",
    "# 3. Split into train and test\n",
    "\n",
    "X_blob_train, X_blob_test, y_blob_train, y_blob_test = train_test_split(X_blob, y_blob, test_size=0.2, random_state=RANDOM_SEED)\n",
    "\n",
    "\n",
    "# 4. Plot data (visualize)\n",
    "\n",
    "plt.figure(figsize=(10,7))\n",
    "\n",
    "plt.scatter(X_blob[:,0], X_blob[:,1], c=y_blob, cmap= plt.cm.RdYlBu)"
   ]
  },
  {
   "cell_type": "code",
   "execution_count": null,
   "id": "9d30aed7-d218-4eba-baff-4818802c1030",
   "metadata": {},
   "outputs": [],
   "source": [
    "X_blob_test"
   ]
  },
  {
   "cell_type": "markdown",
   "id": "2f353516-29bf-4ec4-92f4-5102ccdcffdc",
   "metadata": {},
   "source": [
    "# 8.2 Building a multi-class classification model in PyTorch"
   ]
  },
  {
   "cell_type": "code",
   "execution_count": null,
   "id": "fe08bc19-982c-40cd-8077-51deac770488",
   "metadata": {},
   "outputs": [],
   "source": [
    "# Craete device aganstic code\n",
    "device = \"cuda\" if torch.cuda.is_available() else \"cpu\"\n",
    "device"
   ]
  },
  {
   "cell_type": "code",
   "execution_count": null,
   "id": "fd8f032f-6a5b-400d-ad57-b964ad384bf1",
   "metadata": {},
   "outputs": [],
   "source": [
    "# Build a multi-class classification model\n",
    "from torch import nn \n",
    "class BlobModel(nn.Module):\n",
    "    def __init__(self, input_features, output_features, hidden_units = 8):\n",
    "        \"\"\"Intializes multi-class classification model.\n",
    "        Args:\n",
    "            Input Features (int): Number of input feature to the model\n",
    "            Output feature (int): Numb er of of output features (nuymber of output classes)\n",
    "            hidden_units (int): Number of hidden units between layers, defaults 8 \n",
    "            \n",
    "            Return:\n",
    "            \n",
    "            Examples:\n",
    "            \"\"\"\n",
    "        super().__init__()\n",
    "        self.linear_layer_stack = nn.Sequential(\n",
    "            nn.Linear(in_features=input_features, out_features=hidden_units),\n",
    "            #nn.ReLU(),\n",
    "            nn.Linear(in_features=hidden_units, out_features=hidden_units),\n",
    "            #nn.ReLU(),\n",
    "            nn.Linear(in_features=hidden_units, out_features=output_features))\n",
    "    def forward(self, x):\n",
    "        return self.linear_layer_stack(x)\n",
    "        \n",
    "        "
   ]
  },
  {
   "cell_type": "code",
   "execution_count": null,
   "id": "7902f5b7-c820-492d-8f28-9a36b8798bd5",
   "metadata": {},
   "outputs": [],
   "source": [
    "X_blob_train.shape, y_blob_train.shape, X_blob_train.shape[1]"
   ]
  },
  {
   "cell_type": "code",
   "execution_count": null,
   "id": "1bf8fcf5-d318-435e-a4d8-c80d3691ef57",
   "metadata": {},
   "outputs": [],
   "source": [
    "len(y_blob_train.unique())"
   ]
  },
  {
   "cell_type": "code",
   "execution_count": null,
   "id": "06c28faf-cf52-4332-88f1-caecd3f44e9f",
   "metadata": {},
   "outputs": [],
   "source": [
    "# create an instance of BlobModel and send it to the target device\n",
    "model_1 = BlobModel(input_features=X_blob_train.shape[1], output_features=len(y_blob_train.unique())).to(device)\n",
    "model_1\n"
   ]
  },
  {
   "cell_type": "code",
   "execution_count": null,
   "id": "022657bb-fac8-4cca-936b-e888c89de86f",
   "metadata": {},
   "outputs": [],
   "source": [
    "next(model_1.parameters()).device"
   ]
  },
  {
   "cell_type": "code",
   "execution_count": null,
   "id": "73029d38-7d1f-447b-bde1-cefe8cbe1bd6",
   "metadata": {},
   "outputs": [],
   "source": [
    "# Create a loss function of crossentropy\n",
    "loss_fn = nn.CrossEntropyLoss()\n",
    "# create a optimizer\n",
    "optimizer = torch.optim.SGD(params = model_1.parameters(), \n",
    "                            lr = 0.1) # learning rate is a hyperparameter you can change"
   ]
  },
  {
   "cell_type": "markdown",
   "id": "148bedfd-c330-422f-b43e-d801d10df9b4",
   "metadata": {},
   "source": [
    "## 8.4  getting prediction probablilites for a multi-class pytorch model\n",
    "In order to evaluate  and train and test our model, we need to convert our model's outputs (logits) to prediction probabilities and then to prediction labels.\n",
    "\n",
    "Logits -> Pred probs -> Pred labels"
   ]
  },
  {
   "cell_type": "code",
   "execution_count": null,
   "id": "d2331690-2fa8-4441-b1d0-ee241a99480f",
   "metadata": {},
   "outputs": [],
   "source": [
    "X_blob_train, X_blob_test, y_blob_train, y_blob_test = X_blob_train.to(device), X_blob_test.to(device), y_blob_train.to(device), y_blob_test.to(device)\n",
    "model_1.eval()\n",
    "with torch.inference_mode():\n",
    "    y_logits = model_1(X_blob_test)\n",
    "\n",
    "y_logits[:10]"
   ]
  },
  {
   "cell_type": "code",
   "execution_count": null,
   "id": "73fb5688-7c01-40df-b519-7dcc7297bfcc",
   "metadata": {},
   "outputs": [],
   "source": [
    "y_blob_test[:10]"
   ]
  },
  {
   "cell_type": "code",
   "execution_count": null,
   "id": "70b8082b-acb1-4a81-bed9-aaea8ef52700",
   "metadata": {},
   "outputs": [],
   "source": [
    "# convert our model's logit output to prediction probablities\n",
    "y_pred_probs = torch.softmax(y_logits, dim=1)\n",
    "print(y_logits[:5])\n",
    "print(y_pred_probs[:5])"
   ]
  },
  {
   "cell_type": "code",
   "execution_count": null,
   "id": "877e120d-e4bb-4e8a-98b2-8eb61d7a77bc",
   "metadata": {},
   "outputs": [],
   "source": [
    "y_pred = torch.argmax(y_pred_probs, dim=1)\n",
    "y_pred[:5]\n"
   ]
  },
  {
   "cell_type": "code",
   "execution_count": null,
   "id": "9d6e5501-959f-4cf4-bab4-da6a3b95d115",
   "metadata": {},
   "outputs": [],
   "source": [
    "y_blob_test[:5]"
   ]
  },
  {
   "cell_type": "code",
   "execution_count": null,
   "id": "d3f0d693-871b-454b-82d1-6c8ef4d20a21",
   "metadata": {},
   "outputs": [],
   "source": [
    "y_pred_probs.argmax(dim=1)\n",
    "# [ torch.sum(i).tolist() for i in y_pred_probs]"
   ]
  },
  {
   "cell_type": "markdown",
   "id": "8bab0be2-98f2-4a8f-a8c3-01f4227d7b24",
   "metadata": {},
   "source": [
    "## 8.5 Creating a training loop and testing loop for a multi-class classification model"
   ]
  },
  {
   "cell_type": "code",
   "execution_count": null,
   "id": "35d03b08-f8cd-45de-9956-4945c3993b9c",
   "metadata": {},
   "outputs": [],
   "source": [
    "def accuracy_fn(y_true, y_pred):\n",
    "    correct = torch.eq(y_true, y_pred).sum().item()\n",
    "\n",
    "    acc = (correct/len(y_pred)) * 100\n",
    "    return acc"
   ]
  },
  {
   "cell_type": "code",
   "execution_count": null,
   "id": "e2249b73-64ba-439e-a17c-9c13adc46baa",
   "metadata": {},
   "outputs": [],
   "source": [
    "y_blob_train.dtype"
   ]
  },
  {
   "cell_type": "code",
   "execution_count": null,
   "id": "e01c63fb-85b7-42ff-814f-35babfcaab8f",
   "metadata": {},
   "outputs": [],
   "source": [
    "# Fit the multi-class model to the data\n",
    "torch.manual_seed(42)\n",
    "torch.cuda.manual_seed(42)\n",
    "\n",
    "X_blob_train, X_blob_test, y_blob_train, y_blob_test = X_blob_train.to(device), X_blob_test.to(device), y_blob_train.to(device), y_blob_test.to(device)\n",
    "# Set the number of epochs\n",
    "epochs = 100\n",
    "\n",
    "for epoch in range(epochs):\n",
    "    ### Training\n",
    "    model_1.train()\n",
    "    \n",
    "    y_logits = model_1(X_blob_train)\n",
    "    y_pred_prob = torch.softmax(y_logits, dim=1) #.argmax(dim=1)\n",
    "    y_pred = torch.argmax(y_pred_prob, dim=1)\n",
    "\n",
    "    loss = loss_fn(y_logits, y_blob_train)\n",
    "    acc = accuracy_fn(y_true=y_blob_train, y_pred=y_pred)\n",
    "\n",
    "    optimizer.zero_grad()\n",
    "    loss.backward()\n",
    "    optimizer.step()\n",
    "\n",
    "    ### Testing\n",
    "    model_1.eval()\n",
    "    with torch.inference_mode():\n",
    "        test_logits = model_1(X_blob_test)\n",
    "        test_pred = torch.softmax(test_logits, dim=1).argmax(dim=1)\n",
    "        test_loss = loss_fn(test_logits, y_blob_test)\n",
    "        test_acc = accuracy_fn(y_true=y_blob_test, y_pred=test_pred)\n",
    "\n",
    "    # print out what's happening\n",
    "    if epoch % 10 == 0:\n",
    "            print(f\"Epoch: {epoch} | Loss: {loss:.5f} | Accuracy: {acc:.2f}% | Test loss: {test_loss:.5f} | Test Accuarcy: {test_acc:.2f}%\")\n",
    "    \n",
    "   \n",
    "    "
   ]
  },
  {
   "cell_type": "markdown",
   "id": "b3897ab1-afba-419b-a27c-8e5c98d42d39",
   "metadata": {},
   "source": [
    "### 8.6 Making and evaluting predictions with a PyTorch multi-class model"
   ]
  },
  {
   "cell_type": "code",
   "execution_count": null,
   "id": "69cb177c-e092-4cb1-878b-06b2684d434c",
   "metadata": {},
   "outputs": [],
   "source": [
    "model_1.eval()\n",
    "with torch.inference_mode():\n",
    "    y_logits = model_1(X_blob_test)\n",
    "y_pred = torch.softmax(y_logits, dim=1).argmax(dim=1)\n",
    "y_pred"
   ]
  },
  {
   "cell_type": "code",
   "execution_count": null,
   "id": "176a00fc-4e79-46d8-9de5-c97f89fcb50c",
   "metadata": {},
   "outputs": [],
   "source": [
    "y_blob_test"
   ]
  },
  {
   "cell_type": "code",
   "execution_count": null,
   "id": "d03d3b71-80cc-4557-ac3c-444253d2e2cb",
   "metadata": {},
   "outputs": [],
   "source": [
    "## 4. Make predictions and evaluate the model\n",
    "\n",
    "# Model isn't learning anything\n",
    "import numpy as np\n",
    "def plot_decision_boundary(model: torch.nn.Module, X: torch.Tensor, y: torch.Tensor):\n",
    "    \"\"\"Plots decision boundaries of model predicting on X in comparison to y.\n",
    "\n",
    "    Source - https://madewithml.com/courses/foundations/neural-networks/ (with modifications)\n",
    "    \"\"\"\n",
    "    # Put everything to CPU (works better with NumPy + Matplotlib)\n",
    "    model.to(\"cpu\")\n",
    "    X, y = X.to(\"cpu\"), y.to(\"cpu\")\n",
    "\n",
    "    # Setup prediction boundaries and grid\n",
    "    x_min, x_max = X[:, 0].min() - 0.1, X[:, 0].max() + 0.1\n",
    "    y_min, y_max = X[:, 1].min() - 0.1, X[:, 1].max() + 0.1\n",
    "    xx, yy = np.meshgrid(np.linspace(x_min, x_max, 101), np.linspace(y_min, y_max, 101))\n",
    "\n",
    "    # Make features\n",
    "    X_to_pred_on = torch.from_numpy(np.column_stack((xx.ravel(), yy.ravel()))).float()\n",
    "\n",
    "    # Make predictions\n",
    "    model.eval()\n",
    "    with torch.inference_mode():\n",
    "        y_logits = model(X_to_pred_on)\n",
    "\n",
    "    # Test for multi-class or binary and adjust logits to prediction labels\n",
    "    if len(torch.unique(y)) > 2:\n",
    "        y_pred = torch.softmax(y_logits, dim=1).argmax(dim=1)  # mutli-class\n",
    "    else:\n",
    "        y_pred = torch.round(torch.sigmoid(y_logits))  # binary\n",
    "\n",
    "    # Reshape preds and plot\n",
    "    y_pred = y_pred.reshape(xx.shape).detach().numpy()\n",
    "    plt.contourf(xx, yy, y_pred, cmap=plt.cm.RdYlBu, alpha=0.7)\n",
    "    plt.scatter(X[:, 0], X[:, 1], c=y, s=40, cmap=plt.cm.RdYlBu)\n",
    "    plt.xlim(xx.min(), xx.max())\n",
    "    plt.ylim(yy.min(), yy.max())"
   ]
  },
  {
   "cell_type": "code",
   "execution_count": null,
   "id": "404a2659-cd5b-4ad3-b4e8-6289bac3d913",
   "metadata": {},
   "outputs": [],
   "source": [
    "plt.figure(figsize=(12,6))\n",
    "plt.subplot(1,2,1)\n",
    "plt.title(\"Train\")\n",
    "plot_decision_boundary(model_1, X_blob_train, y_blob_train) \n",
    "\n",
    "plt.subplot(1,2,2)\n",
    "plt.title(\"Test\")\n",
    "plot_decision_boundary(model_1, X_blob_test, y_blob_test) \n"
   ]
  },
  {
   "cell_type": "markdown",
   "id": "dcf58f51-c2cf-4dd2-91f7-3edb6c563095",
   "metadata": {},
   "source": [
    "## 9. A few more classification metrics... (to evaluate our classification model)\n",
    "\n",
    "* Accuracy - out of 100 samples, how many does our model get right?\n",
    "* Precision \n",
    "* Recall\n",
    "* F1-score\n",
    "* Confusion matrix\n",
    "* Classification report"
   ]
  },
  {
   "cell_type": "code",
   "execution_count": null,
   "id": "1788088d-3175-4471-9083-b2de4e8cb0ab",
   "metadata": {},
   "outputs": [],
   "source": [
    "def accuracy_fn(y_true, y_pred):\n",
    "    correct = torch.eq(y_true, y_pred).sum().item()\n",
    "\n",
    "    acc = (correct/len(y_pred)) * 100\n",
    "    return acc"
   ]
  },
  {
   "cell_type": "code",
   "execution_count": null,
   "id": "462982d3-cc75-46eb-8b16-4c57c30a4502",
   "metadata": {},
   "outputs": [],
   "source": [
    "(torch.eq(y_blob_test, y_pred).sum()/len(y_pred) *100).item()"
   ]
  },
  {
   "cell_type": "code",
   "execution_count": null,
   "id": "322db072-4488-4f2b-bdb8-c249d02e92a3",
   "metadata": {},
   "outputs": [],
   "source": [
    "#!pip install torchmetrics"
   ]
  },
  {
   "cell_type": "code",
   "execution_count": null,
   "id": "e3b98f72-41b9-4b99-9b1e-9b9374939cfa",
   "metadata": {},
   "outputs": [],
   "source": [
    "import torchmetrics\n",
    "from torchmetrics import Accuracy"
   ]
  },
  {
   "cell_type": "code",
   "execution_count": null,
   "id": "b6de7099-cd0b-4838-a7e2-7b41bd52c838",
   "metadata": {},
   "outputs": [],
   "source": [
    "# Setup metric\n",
    "torchmetric_accuracy = Accuracy(task=\"multiclass\", num_classes=4).to(device)\n",
    "\n",
    "# Calculate accuracy\n",
    "torchmetric_accuracy(y_pred, y_blob_test)\n",
    "\n"
   ]
  },
  {
   "cell_type": "code",
   "execution_count": null,
   "id": "cf790ed2-c3e7-4428-bbf1-1fab36ffa9c7",
   "metadata": {},
   "outputs": [],
   "source": [
    "# Setup metric\n",
    "torchmetric_precision = torchmetrics.Precision(task=\"multiclass\", num_classes=4).to(device)\n",
    "\n",
    "# Calculate precision\n",
    "torchmetric_precision(y_pred, y_blob_test)"
   ]
  },
  {
   "cell_type": "code",
   "execution_count": null,
   "id": "b022e0dd-7116-4914-a2f1-757264dc64e8",
   "metadata": {},
   "outputs": [],
   "source": [
    "# Setup metric\n",
    "torchmetric_recall = torchmetrics.Recall(task=\"multiclass\", num_classes=4).to(device)\n",
    "\n",
    "# Calculate precision\n",
    "torchmetric_recall(y_pred, y_blob_test)"
   ]
  },
  {
   "cell_type": "code",
   "execution_count": null,
   "id": "f1295c72-7796-4d9f-b1bb-5a8afdb1cc94",
   "metadata": {},
   "outputs": [],
   "source": [
    "# Setup metric\n",
    "torchmetric_f1score = torchmetrics.F1Score(task=\"multiclass\", num_classes=4).to(device)\n",
    "\n",
    "# Calculate precision\n",
    "torchmetric_f1score(y_pred, y_blob_test)"
   ]
  },
  {
   "cell_type": "code",
   "execution_count": null,
   "id": "a5151f0e-a0d1-43c0-b747-b25bfc14c2b5",
   "metadata": {},
   "outputs": [],
   "source": [
    "# Setup metric\n",
    "torchmetric_confusion = torchmetrics.ConfusionMatrix(task=\"multiclass\", num_classes=4).to(device)\n",
    "\n",
    "# Calculate precision\n",
    "torchmetric_confusion(y_pred, y_blob_test)"
   ]
  },
  {
   "cell_type": "code",
   "execution_count": null,
   "id": "45b692e1-7998-4b84-9020-bcb4629e9f31",
   "metadata": {},
   "outputs": [],
   "source": [
    "auroc = torchmetrics.AUROC(task=\"multiclass\", num_classes=4)\n",
    "auroc(test_logits, y_blob_test)"
   ]
  },
  {
   "cell_type": "code",
   "execution_count": null,
   "id": "4b833f62-efc3-497a-a588-2c6daf12361d",
   "metadata": {},
   "outputs": [],
   "source": [
    "# # Setup metric\n",
    "# torchmetric_confusion = torchmetrics.ClassificationReport(task=\"multiclass\", num_classes=4).to(device)\n",
    "\n",
    "# # Calculate precision\n",
    "# torchmetric_confusion(y_pred, y_blob_test)"
   ]
  },
  {
   "cell_type": "code",
   "execution_count": null,
   "id": "4b712f86-6dd1-47a8-9a16-d358accc81cf",
   "metadata": {},
   "outputs": [],
   "source": [
    "from sklearn.metrics import classification_report\n",
    "\n",
    "# Compute classification report\n",
    "report = classification_report(y_pred.cpu(), y_blob_test.cpu(), target_names=['class_0', 'class_1', 'class_2', 'class_3'])  # Modify target_names as needed\n",
    "print(report)"
   ]
  },
  {
   "cell_type": "code",
   "execution_count": null,
   "id": "b997dd57-eed9-411c-b9e8-02ed97d90bdf",
   "metadata": {},
   "outputs": [],
   "source": [
    "#!pip install ignite"
   ]
  },
  {
   "cell_type": "code",
   "execution_count": null,
   "id": "1f09cfe8-6963-426d-b472-cac230be115c",
   "metadata": {},
   "outputs": [],
   "source": [
    "torch.tensor([9], device=device)"
   ]
  },
  {
   "cell_type": "code",
   "execution_count": null,
   "id": "45cf5505-17e6-4398-8b1e-2bbbd15c348b",
   "metadata": {},
   "outputs": [],
   "source": []
  }
 ],
 "metadata": {
  "kernelspec": {
   "display_name": "Python 3 (ipykernel)",
   "language": "python",
   "name": "python3"
  },
  "language_info": {
   "codemirror_mode": {
    "name": "ipython",
    "version": 3
   },
   "file_extension": ".py",
   "mimetype": "text/x-python",
   "name": "python",
   "nbconvert_exporter": "python",
   "pygments_lexer": "ipython3",
   "version": "3.9.18"
  }
 },
 "nbformat": 4,
 "nbformat_minor": 5
}
