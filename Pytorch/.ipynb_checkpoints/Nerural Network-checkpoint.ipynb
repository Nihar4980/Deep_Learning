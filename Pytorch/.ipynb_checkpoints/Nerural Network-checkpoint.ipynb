{
 "cells": [
  {
   "cell_type": "code",
   "execution_count": 1,
   "id": "4810f198-36f3-42f8-a5e6-23611d4186c2",
   "metadata": {},
   "outputs": [],
   "source": [
    "import torch\n",
    "import torch.nn as nn\n",
    "import torch.optim as optim\n",
    "import torch.nn.functional as F\n",
    "from torch.utils.data import DataLoader\n",
    "import torchvision.datasets as datasets\n",
    "import torchvision.transforms as transforms"
   ]
  },
  {
   "cell_type": "code",
   "execution_count": 4,
   "id": "1777e797-f757-4358-9e2b-1672bbf25994",
   "metadata": {},
   "outputs": [],
   "source": [
    "# create a fully connected network\n",
    "\n",
    "class NN(nn.Module):\n",
    "    def __init__(self, input_size, num_classes):  #28*28 = 784\n",
    "        super(NN, self).__init__()\n",
    "        self.fc1 = nn.Linear(input_size, 50)\n",
    "        self.fc2 = nn.Linear(50, num_classes)\n",
    "    \n",
    "    def forward(self, x):\n",
    "        x = F.relu(self.fc1(x))\n",
    "        x = self.fc2(x)\n",
    "        return x\n",
    "        "
   ]
  },
  {
   "cell_type": "code",
   "execution_count": 7,
   "id": "0ee56152-5013-4839-96e6-e6dbfc34b174",
   "metadata": {},
   "outputs": [
    {
     "data": {
      "text/plain": [
       "torch.Size([64, 10])"
      ]
     },
     "execution_count": 7,
     "metadata": {},
     "output_type": "execute_result"
    }
   ],
   "source": [
    "model = NN(784, 10)\n",
    "x = torch.randn(64, 784)\n",
    "model(x).shape"
   ]
  },
  {
   "cell_type": "code",
   "execution_count": 8,
   "id": "e2a7a8c5-1756-4798-931c-8bb0764cefab",
   "metadata": {},
   "outputs": [],
   "source": [
    "# Set device\n",
    "device = torch.device('cuda' if torch.cuda.is_available() else 'cpu')"
   ]
  },
  {
   "cell_type": "code",
   "execution_count": 36,
   "id": "453301d4-d5f2-474a-9d0e-4982fab004c2",
   "metadata": {},
   "outputs": [],
   "source": [
    "# Hyperparameter\n",
    "input_size = 784\n",
    "num_classes = 10\n",
    "learning_rate = 0.001\n",
    "batch_size = 64\n",
    "num_epochs = 10"
   ]
  },
  {
   "cell_type": "code",
   "execution_count": 12,
   "id": "5fac9ba7-d26b-4161-b688-dc833fc095da",
   "metadata": {},
   "outputs": [],
   "source": [
    "# load data\n",
    "train_dataset = datasets.MNIST(root='dataset/', train=True, transform=transforms.ToTensor(),download=True)\n",
    "train_loader = DataLoader(dataset=train_dataset, batch_size= batch_size, shuffle=True)\n",
    "\n",
    "test_dataset = datasets.MNIST(root='dataset/', train=False, transform=transforms.ToTensor(),download=True)\n",
    "test_loader = DataLoader(dataset=test_dataset, batch_size= batch_size, shuffle=True)"
   ]
  },
  {
   "cell_type": "code",
   "execution_count": 13,
   "id": "19ab196c-de4a-4134-8770-e5a6c3569fa7",
   "metadata": {},
   "outputs": [],
   "source": [
    "model = NN(input_size=input_size, num_classes=num_classes).to(device)"
   ]
  },
  {
   "cell_type": "code",
   "execution_count": 15,
   "id": "2a916927-52bc-4c78-97e1-90bf4c0c7d8c",
   "metadata": {},
   "outputs": [],
   "source": [
    "criterion = nn.CrossEntropyLoss()\n",
    "optimizer = optim.Adam(model.parameters(), lr = learning_rate)"
   ]
  },
  {
   "cell_type": "code",
   "execution_count": 18,
   "id": "412a102d-8fb3-4467-ad76-22a588ecc752",
   "metadata": {},
   "outputs": [
    {
     "data": {
      "text/plain": [
       "[Parameter containing:\n",
       " tensor([[ 0.0151, -0.0277,  0.0110,  ..., -0.0267, -0.0296, -0.0188],\n",
       "         [-0.0087,  0.0309,  0.0021,  ...,  0.0169, -0.0242,  0.0082],\n",
       "         [-0.0008,  0.0060,  0.0250,  ..., -0.0267,  0.0128, -0.0055],\n",
       "         ...,\n",
       "         [-0.0299, -0.0311,  0.0224,  ..., -0.0184, -0.0111, -0.0140],\n",
       "         [-0.0053, -0.0293,  0.0072,  ...,  0.0348,  0.0321, -0.0349],\n",
       "         [ 0.0037,  0.0350,  0.0193,  ...,  0.0212, -0.0357, -0.0235]],\n",
       "        device='cuda:0', requires_grad=True),\n",
       " Parameter containing:\n",
       " tensor([-0.0311,  0.0214, -0.0041,  0.0308,  0.0009, -0.0212,  0.0087, -0.0104,\n",
       "          0.0273,  0.0264, -0.0272, -0.0072,  0.0196,  0.0209, -0.0131, -0.0119,\n",
       "         -0.0246,  0.0113, -0.0122, -0.0092, -0.0065,  0.0002,  0.0127, -0.0313,\n",
       "          0.0340, -0.0157, -0.0124, -0.0264,  0.0243, -0.0155, -0.0062, -0.0005,\n",
       "         -0.0210, -0.0116,  0.0342,  0.0005, -0.0173,  0.0287, -0.0239, -0.0218,\n",
       "         -0.0168,  0.0032,  0.0131, -0.0348, -0.0016,  0.0190, -0.0099,  0.0273,\n",
       "          0.0194,  0.0268], device='cuda:0', requires_grad=True),\n",
       " Parameter containing:\n",
       " tensor([[-0.0175,  0.0904, -0.0024,  0.0965,  0.1136, -0.1351,  0.0042,  0.0856,\n",
       "           0.1135, -0.0579, -0.0940,  0.0134, -0.0776, -0.1019,  0.0174, -0.0430,\n",
       "          -0.0067, -0.0148,  0.0150, -0.0319,  0.0654,  0.0953,  0.0552, -0.0711,\n",
       "           0.0271,  0.0145,  0.0413,  0.0976,  0.0217,  0.1235, -0.1404, -0.0956,\n",
       "           0.0864, -0.0793,  0.1152,  0.0294,  0.0691, -0.0081, -0.1330,  0.0783,\n",
       "          -0.0896, -0.0382,  0.0607, -0.0314,  0.0571,  0.0065,  0.0536, -0.0407,\n",
       "           0.0262, -0.0026],\n",
       "         [ 0.1322,  0.0762, -0.0615,  0.0688, -0.0297, -0.1196,  0.0162, -0.0455,\n",
       "          -0.0803,  0.0599, -0.1244,  0.0847, -0.0667,  0.0566,  0.0946,  0.1267,\n",
       "          -0.0415,  0.0484, -0.0539, -0.0017, -0.0922,  0.0496, -0.1128, -0.1335,\n",
       "           0.0690, -0.0275, -0.0387, -0.0487, -0.0914,  0.0567,  0.1083, -0.0045,\n",
       "           0.0832, -0.0024, -0.0769, -0.1367, -0.0672,  0.0736,  0.0318,  0.0084,\n",
       "           0.0067,  0.1381, -0.0828, -0.0375,  0.0089, -0.0203, -0.0133,  0.0452,\n",
       "          -0.0793, -0.0910],\n",
       "         [-0.0147,  0.1307,  0.0936, -0.0236, -0.0471, -0.0326, -0.0199, -0.0499,\n",
       "          -0.0623, -0.0440, -0.1216,  0.0829,  0.1179,  0.0141,  0.1308, -0.0739,\n",
       "           0.1066, -0.0689,  0.1397,  0.0974,  0.0050,  0.0709, -0.0616,  0.0408,\n",
       "          -0.0301, -0.1141,  0.0957, -0.1228, -0.0902,  0.0171, -0.1011,  0.0680,\n",
       "          -0.0401,  0.0479, -0.1369,  0.0743, -0.1278, -0.1223,  0.0784, -0.1071,\n",
       "          -0.0310, -0.1176, -0.1389,  0.0058, -0.0534,  0.0485,  0.1315, -0.0736,\n",
       "           0.1392,  0.0579],\n",
       "         [-0.0557, -0.0331, -0.0548, -0.1108, -0.1015,  0.1094,  0.1194,  0.0852,\n",
       "           0.0871, -0.1369, -0.1302, -0.0574, -0.0709, -0.0068,  0.0295, -0.1029,\n",
       "          -0.1088,  0.0253, -0.0231, -0.0813, -0.0061, -0.1148,  0.0568,  0.1388,\n",
       "          -0.0817, -0.0246, -0.1409, -0.0772, -0.0180, -0.0657, -0.0286, -0.0690,\n",
       "          -0.0810, -0.0696, -0.1240,  0.1084, -0.0127,  0.0686,  0.0854, -0.0561,\n",
       "          -0.0725,  0.0040, -0.0031,  0.0916,  0.0687,  0.0940, -0.0370, -0.0915,\n",
       "           0.0333,  0.1241],\n",
       "         [ 0.0148,  0.0168, -0.1108, -0.1164, -0.0593,  0.0082,  0.0815, -0.1201,\n",
       "           0.0663, -0.0254, -0.1161,  0.1290,  0.1288, -0.0510, -0.0776, -0.0389,\n",
       "           0.0859, -0.0180, -0.0299,  0.0856, -0.1334,  0.0721,  0.0018,  0.1073,\n",
       "          -0.0964,  0.0999,  0.0184,  0.1125,  0.0397, -0.0689,  0.0545,  0.0554,\n",
       "          -0.0095,  0.0543, -0.0602, -0.1191, -0.0701,  0.0301,  0.1388,  0.0520,\n",
       "          -0.0526, -0.1359,  0.0168,  0.1153, -0.0893, -0.0913, -0.0172, -0.0660,\n",
       "          -0.0406,  0.0076],\n",
       "         [ 0.0026, -0.0821, -0.0233, -0.0761,  0.1204, -0.0981, -0.0805, -0.0687,\n",
       "           0.0678,  0.1358,  0.1208,  0.0519, -0.1376, -0.0081,  0.0173,  0.0817,\n",
       "           0.0563,  0.1162,  0.0066, -0.0084,  0.1344,  0.0999, -0.1387, -0.1396,\n",
       "          -0.0263,  0.0426, -0.1388, -0.1337,  0.0986,  0.0802,  0.0589,  0.0117,\n",
       "           0.1372, -0.0683, -0.0771, -0.0782, -0.1011, -0.1202,  0.0868,  0.1000,\n",
       "          -0.1055, -0.1363,  0.0996,  0.1288,  0.0909,  0.1063,  0.0111,  0.1079,\n",
       "           0.1210,  0.0127],\n",
       "         [ 0.0596, -0.0308, -0.0605,  0.0049, -0.0063, -0.0809, -0.0106, -0.1382,\n",
       "           0.0298, -0.1188,  0.1375,  0.0690,  0.0419,  0.0949,  0.0010,  0.0355,\n",
       "          -0.1379,  0.0873, -0.0200, -0.1160,  0.0073, -0.0054,  0.0455, -0.0275,\n",
       "           0.0290,  0.0434, -0.0197,  0.1217, -0.0409,  0.0254, -0.0305,  0.1306,\n",
       "           0.1242,  0.0725, -0.0781, -0.0187, -0.0976, -0.0561, -0.1233, -0.1230,\n",
       "           0.1295, -0.1215, -0.0093,  0.0075,  0.0433,  0.0990, -0.1200, -0.0735,\n",
       "           0.0295,  0.1400],\n",
       "         [-0.0859,  0.1374,  0.0424,  0.1410,  0.1031,  0.1273,  0.0814, -0.0729,\n",
       "          -0.1365,  0.0702, -0.0864,  0.1226, -0.1187,  0.0182,  0.0297,  0.0154,\n",
       "           0.0992,  0.1292, -0.1027, -0.1371, -0.0226, -0.0630,  0.0695,  0.0781,\n",
       "           0.0713, -0.1119, -0.0280,  0.0177,  0.0924,  0.0617, -0.0599,  0.0209,\n",
       "           0.1157,  0.0641, -0.0543,  0.0027, -0.0598,  0.1360,  0.0592, -0.0268,\n",
       "           0.0646,  0.0504, -0.1159,  0.0645,  0.0777,  0.0194,  0.0080, -0.0364,\n",
       "           0.1209,  0.0268],\n",
       "         [ 0.0660, -0.0904,  0.0621, -0.0963,  0.0405, -0.0355,  0.0946, -0.0814,\n",
       "          -0.1401, -0.1082,  0.1336, -0.1162,  0.1021,  0.0424, -0.0013,  0.0330,\n",
       "           0.0880,  0.0041,  0.0397,  0.0996,  0.0450,  0.0456, -0.0352, -0.0626,\n",
       "           0.1205,  0.1154, -0.0231,  0.0252, -0.0847,  0.1189,  0.0529, -0.0957,\n",
       "           0.0762,  0.1299, -0.0619, -0.1002, -0.0492, -0.0973,  0.0473, -0.1412,\n",
       "          -0.0727,  0.1307,  0.0331,  0.0303,  0.0723,  0.0611, -0.0118, -0.1290,\n",
       "          -0.0468,  0.0917],\n",
       "         [-0.0617,  0.0132,  0.1062, -0.0192, -0.0144, -0.0077,  0.0368,  0.1092,\n",
       "           0.0930, -0.0186, -0.0209,  0.1335,  0.1329, -0.0571,  0.0809, -0.0564,\n",
       "           0.1002, -0.1073, -0.1358,  0.0812, -0.0483,  0.0840, -0.0509, -0.0746,\n",
       "           0.1015,  0.0391, -0.0715,  0.1011, -0.0923, -0.0645,  0.1348, -0.1120,\n",
       "          -0.0790,  0.1036, -0.0563, -0.0805, -0.0516,  0.0949, -0.0815,  0.1014,\n",
       "          -0.0421,  0.0332, -0.0921,  0.0316, -0.1308,  0.0100, -0.0085, -0.0973,\n",
       "           0.0088,  0.0232]], device='cuda:0', requires_grad=True),\n",
       " Parameter containing:\n",
       " tensor([-0.0817,  0.1399,  0.1160, -0.0788, -0.1311, -0.1090, -0.1045, -0.0461,\n",
       "          0.0869, -0.0122], device='cuda:0', requires_grad=True)]"
      ]
     },
     "execution_count": 18,
     "metadata": {},
     "output_type": "execute_result"
    }
   ],
   "source": [
    "[i for i in model.parameters()]"
   ]
  },
  {
   "cell_type": "code",
   "execution_count": 37,
   "id": "6a4af53a-6c39-401c-8910-adef43c6d0cf",
   "metadata": {},
   "outputs": [],
   "source": [
    "# Train Network\n",
    "\n",
    "for epoch in range(num_epochs):\n",
    "    for batch_idx, (data, targets) in enumerate(train_loader):\n",
    "        # Data to cuda if possible\n",
    "        data = data.to(device=device)\n",
    "        targets = targets.to(device=device)\n",
    "        # print(data.shape)\n",
    "        # print(targets.shape)\n",
    "        # break\n",
    "\n",
    "        # Get to correct shape\n",
    "        data = data.reshape(data.shape[0],-1)\n",
    "\n",
    "        # forward\n",
    "        scores = model(data)\n",
    "        loss = criterion(scores, targets)\n",
    "\n",
    "        # backward\n",
    "        optimizer.zero_grad()\n",
    "        loss.backward()\n",
    "\n",
    "        # gradient descent or adm step\n",
    "        optimizer.step()\n",
    "          "
   ]
  },
  {
   "cell_type": "code",
   "execution_count": 33,
   "id": "3c6f292b-085c-475a-bd7b-26443a695622",
   "metadata": {},
   "outputs": [],
   "source": [
    "def check_accuracy(loader, model):\n",
    "    if loader.dataset.train:\n",
    "        print('Checking accuracy on training data')\n",
    "    else:\n",
    "        print('Checking accuracy on test data')\n",
    "    num_correct = 0\n",
    "    num_samples = 0\n",
    "    model.eval()\n",
    "\n",
    "    with torch.no_grad():\n",
    "        for x, y in loader:\n",
    "            x = x.to(device=device)\n",
    "            y = y.to(device=device)\n",
    "            x = x.reshape(x.shape[0], -1)\n",
    "            \n",
    "            scores = model(x)\n",
    "            # 64*10\n",
    "            _, prediction = scores.max(1)\n",
    "            num_correct += (prediction == y).sum()\n",
    "            num_samples += prediction.size(0)\n",
    "\n",
    "        print(f'Got {num_correct}/{num_samples} with accuracy {float(num_correct)/float(num_samples)*100:.2f}')\n",
    "    model.train()\n",
    "    "
   ]
  },
  {
   "cell_type": "code",
   "execution_count": 38,
   "id": "57aef92e-bbda-40a6-bcc4-91188c1809c6",
   "metadata": {},
   "outputs": [
    {
     "name": "stdout",
     "output_type": "stream",
     "text": [
      "Checking accuracy on training data\n",
      "Got 59147/60000 with accuracy 98.58\n"
     ]
    }
   ],
   "source": [
    "check_accuracy(train_loader, model)"
   ]
  },
  {
   "cell_type": "code",
   "execution_count": 39,
   "id": "d788cbb4-3077-4e5a-bf20-74462ddee9f8",
   "metadata": {},
   "outputs": [
    {
     "name": "stdout",
     "output_type": "stream",
     "text": [
      "Checking accuracy on test data\n",
      "Got 9707/10000 with accuracy 97.07\n"
     ]
    }
   ],
   "source": [
    "check_accuracy(test_loader, model)"
   ]
  },
  {
   "cell_type": "code",
   "execution_count": null,
   "id": "f4da82dc-e0f3-4d3c-8f75-068c12064c8d",
   "metadata": {},
   "outputs": [],
   "source": []
  }
 ],
 "metadata": {
  "kernelspec": {
   "display_name": "Python 3 (ipykernel)",
   "language": "python",
   "name": "python3"
  },
  "language_info": {
   "codemirror_mode": {
    "name": "ipython",
    "version": 3
   },
   "file_extension": ".py",
   "mimetype": "text/x-python",
   "name": "python",
   "nbconvert_exporter": "python",
   "pygments_lexer": "ipython3",
   "version": "3.9.18"
  }
 },
 "nbformat": 4,
 "nbformat_minor": 5
}
