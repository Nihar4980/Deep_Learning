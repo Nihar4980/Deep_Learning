{
 "cells": [
  {
   "cell_type": "code",
   "execution_count": 1,
   "id": "92ea044e-6ae5-4462-9bc9-1e641aa9c664",
   "metadata": {},
   "outputs": [
    {
     "data": {
      "text/plain": [
       "'2.2.0+cu118'"
      ]
     },
     "execution_count": 1,
     "metadata": {},
     "output_type": "execute_result"
    }
   ],
   "source": [
    "import torch\n",
    "torch.__version__"
   ]
  },
  {
   "cell_type": "code",
   "execution_count": 2,
   "id": "7e19ccdd-482e-43ab-936d-a74ff849ca5a",
   "metadata": {},
   "outputs": [
    {
     "data": {
      "text/plain": [
       "True"
      ]
     },
     "execution_count": 2,
     "metadata": {},
     "output_type": "execute_result"
    }
   ],
   "source": [
    "torch.cuda.is_available()"
   ]
  },
  {
   "cell_type": "code",
   "execution_count": 3,
   "id": "de0873a2-f09e-4e62-b709-3bb3c11d0f7c",
   "metadata": {},
   "outputs": [
    {
     "data": {
      "text/plain": [
       "'NVIDIA GeForce RTX 3070 Laptop GPU'"
      ]
     },
     "execution_count": 3,
     "metadata": {},
     "output_type": "execute_result"
    }
   ],
   "source": [
    "torch.cuda.get_device_name()"
   ]
  },
  {
   "cell_type": "code",
   "execution_count": 4,
   "id": "c53e6b0f-dacf-447a-af3e-29ae1cd51379",
   "metadata": {},
   "outputs": [],
   "source": [
    "# using empty\n",
    "a = torch.empty(2, 3)"
   ]
  },
  {
   "cell_type": "code",
   "execution_count": 5,
   "id": "dc599e43-2eae-44bd-88ed-a615a9680305",
   "metadata": {},
   "outputs": [
    {
     "data": {
      "text/plain": [
       "torch.Tensor"
      ]
     },
     "execution_count": 5,
     "metadata": {},
     "output_type": "execute_result"
    }
   ],
   "source": [
    "type(a)"
   ]
  },
  {
   "cell_type": "code",
   "execution_count": 6,
   "id": "53bb9dc4-b893-40db-8d6d-2d1a2915e851",
   "metadata": {},
   "outputs": [
    {
     "data": {
      "text/plain": [
       "tensor([[0., 0., 0.],\n",
       "        [0., 0., 0.]])"
      ]
     },
     "execution_count": 6,
     "metadata": {},
     "output_type": "execute_result"
    }
   ],
   "source": [
    "torch.zeros(2,3)"
   ]
  },
  {
   "cell_type": "code",
   "execution_count": 7,
   "id": "d69aa9eb-2946-4074-89c6-59c51731dfa2",
   "metadata": {},
   "outputs": [
    {
     "data": {
      "text/plain": [
       "tensor([[1., 1., 1.],\n",
       "        [1., 1., 1.]])"
      ]
     },
     "execution_count": 7,
     "metadata": {},
     "output_type": "execute_result"
    }
   ],
   "source": [
    "torch.ones(2,3)"
   ]
  },
  {
   "cell_type": "code",
   "execution_count": 8,
   "id": "4a15d016-c347-430e-ad8f-f5dfbf507492",
   "metadata": {},
   "outputs": [
    {
     "data": {
      "text/plain": [
       "tensor([[0.0557, 0.7709, 0.5153],\n",
       "        [0.5613, 0.4716, 0.5679]])"
      ]
     },
     "execution_count": 8,
     "metadata": {},
     "output_type": "execute_result"
    }
   ],
   "source": [
    "torch.rand(2,3)"
   ]
  },
  {
   "cell_type": "code",
   "execution_count": 9,
   "id": "65113ef9-ae33-4de1-85f5-0d9c84715629",
   "metadata": {},
   "outputs": [
    {
     "data": {
      "text/plain": [
       "tensor([[0.1117, 0.8158, 0.2626],\n",
       "        [0.4839, 0.6765, 0.7539]])"
      ]
     },
     "execution_count": 9,
     "metadata": {},
     "output_type": "execute_result"
    }
   ],
   "source": [
    "torch.manual_seed(100)\n",
    "torch.rand(2,3)"
   ]
  },
  {
   "cell_type": "code",
   "execution_count": 10,
   "id": "bf7a9323-b5c4-4ef4-9371-1afbf4a92ce5",
   "metadata": {},
   "outputs": [
    {
     "data": {
      "text/plain": [
       "tensor([[1, 2, 3],\n",
       "        [4, 5, 6]])"
      ]
     },
     "execution_count": 10,
     "metadata": {},
     "output_type": "execute_result"
    }
   ],
   "source": [
    "torch.tensor([[1,2,3], [4,5,6]])"
   ]
  },
  {
   "cell_type": "code",
   "execution_count": 11,
   "id": "d3892b50-eb47-45e9-9b27-9156fa7536b6",
   "metadata": {},
   "outputs": [
    {
     "data": {
      "text/plain": [
       "tensor([0, 1, 2, 3, 4, 5, 6, 7, 8, 9])"
      ]
     },
     "execution_count": 11,
     "metadata": {},
     "output_type": "execute_result"
    }
   ],
   "source": [
    "torch.arange(0,10)"
   ]
  },
  {
   "cell_type": "code",
   "execution_count": 12,
   "id": "b9824ae3-17a0-489b-84d5-9538d53e6d1f",
   "metadata": {},
   "outputs": [
    {
     "data": {
      "text/plain": [
       "tensor([ 0.0000,  2.2222,  4.4444,  6.6667,  8.8889, 11.1111, 13.3333, 15.5556,\n",
       "        17.7778, 20.0000])"
      ]
     },
     "execution_count": 12,
     "metadata": {},
     "output_type": "execute_result"
    }
   ],
   "source": [
    "torch.linspace(0, 20, 10)"
   ]
  },
  {
   "cell_type": "code",
   "execution_count": 13,
   "id": "7ccc8e7c-46fe-4b99-9304-75caedb34ec7",
   "metadata": {},
   "outputs": [
    {
     "data": {
      "text/plain": [
       "tensor([[1., 0., 0., 0., 0.],\n",
       "        [0., 1., 0., 0., 0.],\n",
       "        [0., 0., 1., 0., 0.],\n",
       "        [0., 0., 0., 1., 0.],\n",
       "        [0., 0., 0., 0., 1.]])"
      ]
     },
     "execution_count": 13,
     "metadata": {},
     "output_type": "execute_result"
    }
   ],
   "source": [
    "torch.eye(5)"
   ]
  },
  {
   "cell_type": "code",
   "execution_count": 14,
   "id": "c99fde71-48cf-4a32-80a1-9cc4b0372481",
   "metadata": {},
   "outputs": [
    {
     "data": {
      "text/plain": [
       "tensor([[5, 5, 5],\n",
       "        [5, 5, 5],\n",
       "        [5, 5, 5]])"
      ]
     },
     "execution_count": 14,
     "metadata": {},
     "output_type": "execute_result"
    }
   ],
   "source": [
    "torch.full((3,3), 5)"
   ]
  },
  {
   "cell_type": "code",
   "execution_count": 15,
   "id": "81a8a3d3-063e-4ed6-8d8d-0fd54b816fff",
   "metadata": {},
   "outputs": [
    {
     "data": {
      "text/plain": [
       "torch.Size([2, 3])"
      ]
     },
     "execution_count": 15,
     "metadata": {},
     "output_type": "execute_result"
    }
   ],
   "source": [
    "x = torch.tensor([[1,2,3], [4,5,6]])\n",
    "x.shape"
   ]
  },
  {
   "cell_type": "code",
   "execution_count": 16,
   "id": "810264d7-e120-4a4e-97be-dfc7067df493",
   "metadata": {},
   "outputs": [
    {
     "data": {
      "text/plain": [
       "tensor([[0, 0, 0],\n",
       "        [0, 0, 0]])"
      ]
     },
     "execution_count": 16,
     "metadata": {},
     "output_type": "execute_result"
    }
   ],
   "source": [
    "torch.empty_like(x)"
   ]
  },
  {
   "cell_type": "code",
   "execution_count": 17,
   "id": "cfde59b6-6aa3-4a33-b1c3-a091c7341e3b",
   "metadata": {},
   "outputs": [
    {
     "data": {
      "text/plain": [
       "tensor([[0, 0, 0],\n",
       "        [0, 0, 0]])"
      ]
     },
     "execution_count": 17,
     "metadata": {},
     "output_type": "execute_result"
    }
   ],
   "source": [
    "torch.zeros_like(x)"
   ]
  },
  {
   "cell_type": "code",
   "execution_count": 18,
   "id": "0f105386-ef0d-4e01-bf68-76be44753c5e",
   "metadata": {},
   "outputs": [
    {
     "data": {
      "text/plain": [
       "tensor([[1, 1, 1],\n",
       "        [1, 1, 1]])"
      ]
     },
     "execution_count": 18,
     "metadata": {},
     "output_type": "execute_result"
    }
   ],
   "source": [
    "torch.ones_like(x)"
   ]
  },
  {
   "cell_type": "code",
   "execution_count": 19,
   "id": "1f6b1581-6e50-4888-9fd8-3e9e044bbd56",
   "metadata": {},
   "outputs": [
    {
     "data": {
      "text/plain": [
       "tensor([[0.1015, 0.6642, 0.9736],\n",
       "        [0.6941, 0.3464, 0.9751]], dtype=torch.float64)"
      ]
     },
     "execution_count": 19,
     "metadata": {},
     "output_type": "execute_result"
    }
   ],
   "source": [
    "torch.rand_like(x.to(torch.float64))"
   ]
  },
  {
   "cell_type": "code",
   "execution_count": 20,
   "id": "52f7926f-0b21-4c29-8ade-c941bb14fe2b",
   "metadata": {},
   "outputs": [
    {
     "name": "stdout",
     "output_type": "stream",
     "text": [
      "Random Tensor:\n",
      "tensor([[0.2239, 0.3023],\n",
      "        [0.1784, 0.8238],\n",
      "        [0.5557, 0.9770]])\n"
     ]
    }
   ],
   "source": [
    "# Create a tensor of shape (3, 2)\n",
    "input_tensor = torch.zeros(3, 2)\n",
    "\n",
    "# Generate a tensor with the same shape as input_tensor, filled with random values\n",
    "random_tensor = torch.rand_like(input_tensor)\n",
    "\n",
    "print(\"Random Tensor:\")\n",
    "print(random_tensor)\n"
   ]
  },
  {
   "cell_type": "code",
   "execution_count": 21,
   "id": "a7bf03fa-5f32-4d48-83f5-356164899052",
   "metadata": {},
   "outputs": [
    {
     "data": {
      "text/plain": [
       "tensor([[1, 2, 3],\n",
       "        [4, 5, 6]])"
      ]
     },
     "execution_count": 21,
     "metadata": {},
     "output_type": "execute_result"
    }
   ],
   "source": [
    "x"
   ]
  },
  {
   "cell_type": "code",
   "execution_count": 22,
   "id": "4d4949db-833b-46f9-ba2c-2bb5103d8784",
   "metadata": {},
   "outputs": [
    {
     "data": {
      "text/plain": [
       "torch.int64"
      ]
     },
     "execution_count": 22,
     "metadata": {},
     "output_type": "execute_result"
    }
   ],
   "source": [
    "x.dtype"
   ]
  },
  {
   "cell_type": "code",
   "execution_count": 23,
   "id": "80ca6bf1-8c46-46ae-929b-f510a53eafb9",
   "metadata": {},
   "outputs": [
    {
     "name": "stderr",
     "output_type": "stream",
     "text": [
      "C:\\Users\\Nihar\\AppData\\Local\\Temp\\ipykernel_22860\\2167296389.py:1: DeprecationWarning: an integer is required (got type float).  Implicit conversion to integers using __int__ is deprecated, and may be removed in a future version of Python.\n",
      "  torch.tensor([1.0,2.0,3.0], dtype = torch.int32)\n"
     ]
    },
    {
     "data": {
      "text/plain": [
       "tensor([1, 2, 3], dtype=torch.int32)"
      ]
     },
     "execution_count": 23,
     "metadata": {},
     "output_type": "execute_result"
    }
   ],
   "source": [
    "torch.tensor([1.0,2.0,3.0], dtype = torch.int32)"
   ]
  },
  {
   "cell_type": "code",
   "execution_count": 24,
   "id": "2068d010-2e64-4875-9747-43d66b4a1f86",
   "metadata": {},
   "outputs": [
    {
     "data": {
      "text/plain": [
       "tensor([1., 2., 3.])"
      ]
     },
     "execution_count": 24,
     "metadata": {},
     "output_type": "execute_result"
    }
   ],
   "source": [
    "torch.tensor([1,2,3], dtype = torch.float32)"
   ]
  },
  {
   "cell_type": "code",
   "execution_count": 25,
   "id": "4fad7b21-7874-4db2-bc7d-b8260f1c917c",
   "metadata": {},
   "outputs": [
    {
     "data": {
      "text/plain": [
       "tensor([[1., 2., 3.],\n",
       "        [4., 5., 6.]], dtype=torch.float64)"
      ]
     },
     "execution_count": 25,
     "metadata": {},
     "output_type": "execute_result"
    }
   ],
   "source": [
    "x.to(float)"
   ]
  },
  {
   "cell_type": "code",
   "execution_count": 26,
   "id": "34fdb6f6-de6f-46b0-8a22-fe0d8c7bd52e",
   "metadata": {},
   "outputs": [
    {
     "data": {
      "text/plain": [
       "tensor([[3, 4, 5],\n",
       "        [6, 7, 8]])"
      ]
     },
     "execution_count": 26,
     "metadata": {},
     "output_type": "execute_result"
    }
   ],
   "source": [
    "x+2"
   ]
  },
  {
   "cell_type": "code",
   "execution_count": 27,
   "id": "20dcb661-ef1a-47eb-ab03-17151123506d",
   "metadata": {},
   "outputs": [
    {
     "data": {
      "text/plain": [
       "tensor([[-1,  0,  1],\n",
       "        [ 2,  3,  4]])"
      ]
     },
     "execution_count": 27,
     "metadata": {},
     "output_type": "execute_result"
    }
   ],
   "source": [
    "x-2"
   ]
  },
  {
   "cell_type": "code",
   "execution_count": 28,
   "id": "835813a8-e53b-4245-9dc5-e308db1e481c",
   "metadata": {},
   "outputs": [
    {
     "data": {
      "text/plain": [
       "tensor([[ 2,  4,  6],\n",
       "        [ 8, 10, 12]])"
      ]
     },
     "execution_count": 28,
     "metadata": {},
     "output_type": "execute_result"
    }
   ],
   "source": [
    "x*2"
   ]
  },
  {
   "cell_type": "code",
   "execution_count": 29,
   "id": "dd691ae7-bac7-4c64-8740-5a96d3ceba3a",
   "metadata": {},
   "outputs": [
    {
     "data": {
      "text/plain": [
       "tensor([[0.5000, 1.0000, 1.5000],\n",
       "        [2.0000, 2.5000, 3.0000]])"
      ]
     },
     "execution_count": 29,
     "metadata": {},
     "output_type": "execute_result"
    }
   ],
   "source": [
    "x/2"
   ]
  },
  {
   "cell_type": "code",
   "execution_count": 30,
   "id": "923924d2-a8d9-4f17-9c48-c410dbec40bb",
   "metadata": {},
   "outputs": [
    {
     "data": {
      "text/plain": [
       "tensor([[ 33,  66, 100],\n",
       "        [133, 166, 200]])"
      ]
     },
     "execution_count": 30,
     "metadata": {},
     "output_type": "execute_result"
    }
   ],
   "source": [
    "(x*100)//3"
   ]
  },
  {
   "cell_type": "code",
   "execution_count": 31,
   "id": "73f3a3f6-a508-40f1-a0b3-e5a687b4edc7",
   "metadata": {},
   "outputs": [
    {
     "data": {
      "text/plain": [
       "tensor([[1, 0, 0],\n",
       "        [1, 0, 0]])"
      ]
     },
     "execution_count": 31,
     "metadata": {},
     "output_type": "execute_result"
    }
   ],
   "source": [
    "((x*100)//3)%2"
   ]
  },
  {
   "cell_type": "code",
   "execution_count": 32,
   "id": "3cbb5e24-1b97-42aa-8f02-bebf106f41bf",
   "metadata": {},
   "outputs": [
    {
     "data": {
      "text/plain": [
       "tensor([[ 1,  4,  9],\n",
       "        [16, 25, 36]])"
      ]
     },
     "execution_count": 32,
     "metadata": {},
     "output_type": "execute_result"
    }
   ],
   "source": [
    "x**2"
   ]
  },
  {
   "cell_type": "code",
   "execution_count": 33,
   "id": "cb1f5596-cc9f-45c6-85f8-8d746a560f76",
   "metadata": {},
   "outputs": [
    {
     "data": {
      "text/plain": [
       "tensor([[3, 0, 1],\n",
       "        [6, 7, 4]])"
      ]
     },
     "execution_count": 33,
     "metadata": {},
     "output_type": "execute_result"
    }
   ],
   "source": [
    "x^2"
   ]
  },
  {
   "cell_type": "code",
   "execution_count": 34,
   "id": "fc5c2352-e661-4cad-a513-f1bf8f80a98c",
   "metadata": {},
   "outputs": [
    {
     "data": {
      "text/plain": [
       "tensor([[1, 2, 3],\n",
       "        [4, 5, 6]])"
      ]
     },
     "execution_count": 34,
     "metadata": {},
     "output_type": "execute_result"
    }
   ],
   "source": [
    "x"
   ]
  },
  {
   "cell_type": "code",
   "execution_count": 35,
   "id": "9625f435-2148-40af-83fa-31ef07ff6fda",
   "metadata": {},
   "outputs": [
    {
     "data": {
      "text/plain": [
       "tensor([[11,  8,  9],\n",
       "        [14, 15, 12]])"
      ]
     },
     "execution_count": 35,
     "metadata": {},
     "output_type": "execute_result"
    }
   ],
   "source": [
    "x^10"
   ]
  },
  {
   "cell_type": "code",
   "execution_count": 36,
   "id": "05aa4fed-5d07-46b3-8244-36afc49d3742",
   "metadata": {},
   "outputs": [
    {
     "data": {
      "text/plain": [
       "tensor([[3, 0, 1],\n",
       "        [6, 7, 4]])"
      ]
     },
     "execution_count": 36,
     "metadata": {},
     "output_type": "execute_result"
    }
   ],
   "source": [
    "x^2"
   ]
  },
  {
   "cell_type": "code",
   "execution_count": 37,
   "id": "f0848b23-bdbd-4f5d-9ddd-c64d4867bacd",
   "metadata": {},
   "outputs": [
    {
     "data": {
      "text/plain": [
       "tensor([[0.0000, 0.3010, 0.4771],\n",
       "        [0.6021, 0.6990, 0.7782]])"
      ]
     },
     "execution_count": 37,
     "metadata": {},
     "output_type": "execute_result"
    }
   ],
   "source": [
    "torch.log10(x)"
   ]
  },
  {
   "cell_type": "code",
   "execution_count": 38,
   "id": "c0a93d77-1809-4b48-9dad-a3de81e0720b",
   "metadata": {},
   "outputs": [
    {
     "data": {
      "text/plain": [
       "tensor([[0.0000, 1.0000, 1.5850],\n",
       "        [2.0000, 2.3219, 2.5850]])"
      ]
     },
     "execution_count": 38,
     "metadata": {},
     "output_type": "execute_result"
    }
   ],
   "source": [
    "torch.log2(x)"
   ]
  },
  {
   "cell_type": "code",
   "execution_count": 39,
   "id": "47e0cd8a-4372-43f3-927f-5fe02323a960",
   "metadata": {},
   "outputs": [
    {
     "data": {
      "text/plain": [
       "tensor([[2, 1, 0],\n",
       "        [7, 6, 5]])"
      ]
     },
     "execution_count": 39,
     "metadata": {},
     "output_type": "execute_result"
    }
   ],
   "source": [
    "x^3"
   ]
  },
  {
   "cell_type": "code",
   "execution_count": 40,
   "id": "c8503482-7dc9-4529-815f-3808be49748e",
   "metadata": {},
   "outputs": [
    {
     "data": {
      "text/plain": [
       "tensor([[5, 6, 7],\n",
       "        [0, 1, 2]])"
      ]
     },
     "execution_count": 40,
     "metadata": {},
     "output_type": "execute_result"
    }
   ],
   "source": [
    "x^4"
   ]
  },
  {
   "cell_type": "code",
   "execution_count": 42,
   "id": "153d7fcc-da42-46ab-88fd-d439a1995a6d",
   "metadata": {},
   "outputs": [
    {
     "data": {
      "text/plain": [
       "tensor([[4, 7, 6],\n",
       "        [1, 0, 3]])"
      ]
     },
     "execution_count": 42,
     "metadata": {},
     "output_type": "execute_result"
    }
   ],
   "source": [
    "x^5"
   ]
  },
  {
   "cell_type": "code",
   "execution_count": 46,
   "id": "c441aa61-4f74-4c3a-b14d-5c4957969d58",
   "metadata": {},
   "outputs": [
    {
     "data": {
      "text/plain": [
       "tensor([ 1, -2,  3, -4])"
      ]
     },
     "execution_count": 46,
     "metadata": {},
     "output_type": "execute_result"
    }
   ],
   "source": [
    "c = torch.tensor([1, -2, 3, -4])\n",
    "c"
   ]
  },
  {
   "cell_type": "code",
   "execution_count": 44,
   "id": "3bf2e4ae-38aa-424e-b92d-c0403b57a770",
   "metadata": {},
   "outputs": [
    {
     "data": {
      "text/plain": [
       "tensor([1, 2, 3, 4])"
      ]
     },
     "execution_count": 44,
     "metadata": {},
     "output_type": "execute_result"
    }
   ],
   "source": [
    "# abs\n",
    "torch.abs(c)"
   ]
  },
  {
   "cell_type": "code",
   "execution_count": 45,
   "id": "98ad725c-bed9-4e96-a3a7-e0df5cb74fa7",
   "metadata": {},
   "outputs": [
    {
     "data": {
      "text/plain": [
       "tensor([-1,  2, -3,  4])"
      ]
     },
     "execution_count": 45,
     "metadata": {},
     "output_type": "execute_result"
    }
   ],
   "source": [
    "# negative\n",
    "torch.neg(c)"
   ]
  },
  {
   "cell_type": "code",
   "execution_count": 47,
   "id": "8905c916-6a16-4fb5-98b7-fed9f5b28530",
   "metadata": {},
   "outputs": [
    {
     "data": {
      "text/plain": [
       "tensor([ 1,  4,  9, 16])"
      ]
     },
     "execution_count": 47,
     "metadata": {},
     "output_type": "execute_result"
    }
   ],
   "source": [
    "torch.pow(c,2)"
   ]
  },
  {
   "cell_type": "code",
   "execution_count": 48,
   "id": "4060bba9-9577-4656-a3ef-23ec4d670d0e",
   "metadata": {},
   "outputs": [
    {
     "data": {
      "text/plain": [
       "tensor([1.9000, 2.3000, 3.7000, 4.4000])"
      ]
     },
     "execution_count": 48,
     "metadata": {},
     "output_type": "execute_result"
    }
   ],
   "source": [
    "d = torch.tensor([1.9, 2.3, 3.7, 4.4])\n",
    "d"
   ]
  },
  {
   "cell_type": "code",
   "execution_count": 49,
   "id": "abe2d3e2-9ff4-42bd-9941-3e88599bced4",
   "metadata": {},
   "outputs": [
    {
     "data": {
      "text/plain": [
       "tensor([2., 2., 4., 4.])"
      ]
     },
     "execution_count": 49,
     "metadata": {},
     "output_type": "execute_result"
    }
   ],
   "source": [
    "#round\n",
    "torch.round(d)"
   ]
  },
  {
   "cell_type": "code",
   "execution_count": 50,
   "id": "472643a7-77b4-4aa9-a041-b8e6a297ff40",
   "metadata": {},
   "outputs": [
    {
     "data": {
      "text/plain": [
       "tensor([2., 3., 4., 5.])"
      ]
     },
     "execution_count": 50,
     "metadata": {},
     "output_type": "execute_result"
    }
   ],
   "source": [
    "# ceil\n",
    "torch.ceil(d)"
   ]
  },
  {
   "cell_type": "code",
   "execution_count": 58,
   "id": "7a346168-6da7-47a8-94e9-97dd869dfb73",
   "metadata": {},
   "outputs": [
    {
     "data": {
      "text/plain": [
       "tensor([1., 2., 3., 4.])"
      ]
     },
     "execution_count": 58,
     "metadata": {},
     "output_type": "execute_result"
    }
   ],
   "source": [
    "# floor\n",
    "torch.floor(d)"
   ]
  },
  {
   "cell_type": "code",
   "execution_count": 57,
   "id": "0ce6296d-e90d-4171-98b4-c44c52a97df3",
   "metadata": {},
   "outputs": [
    {
     "data": {
      "text/plain": [
       "tensor([2.0000, 2.3000, 3.7000, 4.0000])"
      ]
     },
     "execution_count": 57,
     "metadata": {},
     "output_type": "execute_result"
    }
   ],
   "source": [
    "# clamp\n",
    "torch.clamp(d,2, 4)"
   ]
  },
  {
   "cell_type": "code",
   "execution_count": 67,
   "id": "6073df0a-51b4-42af-82d8-f39036fa198d",
   "metadata": {},
   "outputs": [
    {
     "data": {
      "text/plain": [
       "tensor([[3., 9., 4.],\n",
       "        [0., 5., 7.]])"
      ]
     },
     "execution_count": 67,
     "metadata": {},
     "output_type": "execute_result"
    }
   ],
   "source": [
    "# Reduction\n",
    "\n",
    "e = torch.randint(size=(2,3), low=0, high=10, dtype = torch.float32)\n",
    "e"
   ]
  },
  {
   "cell_type": "code",
   "execution_count": 68,
   "id": "e5c562b2-eba1-4181-bd21-eb7b5e04aacc",
   "metadata": {},
   "outputs": [
    {
     "data": {
      "text/plain": [
       "tensor(28.)"
      ]
     },
     "execution_count": 68,
     "metadata": {},
     "output_type": "execute_result"
    }
   ],
   "source": [
    "# sum\n",
    "torch.sum(e)"
   ]
  },
  {
   "cell_type": "code",
   "execution_count": 69,
   "id": "b8aa8c69-6f77-47ff-be42-e4a128e92568",
   "metadata": {},
   "outputs": [
    {
     "data": {
      "text/plain": [
       "tensor([ 3., 14., 11.])"
      ]
     },
     "execution_count": 69,
     "metadata": {},
     "output_type": "execute_result"
    }
   ],
   "source": [
    "torch.sum(e, dim= 0)"
   ]
  },
  {
   "cell_type": "code",
   "execution_count": 70,
   "id": "9b6f8842-6cee-4fde-bdc7-ff9c36d18ee3",
   "metadata": {},
   "outputs": [
    {
     "data": {
      "text/plain": [
       "tensor([16., 12.])"
      ]
     },
     "execution_count": 70,
     "metadata": {},
     "output_type": "execute_result"
    }
   ],
   "source": [
    "torch.sum(e, dim= 1)"
   ]
  },
  {
   "cell_type": "code",
   "execution_count": 71,
   "id": "e505b7a9-9a96-4a3b-826b-c9c2bc951b16",
   "metadata": {},
   "outputs": [
    {
     "data": {
      "text/plain": [
       "tensor(4.6667)"
      ]
     },
     "execution_count": 71,
     "metadata": {},
     "output_type": "execute_result"
    }
   ],
   "source": [
    "torch.mean(e)"
   ]
  },
  {
   "cell_type": "code",
   "execution_count": 72,
   "id": "7ca00ec1-cf31-4837-8525-83f56a7c4536",
   "metadata": {},
   "outputs": [
    {
     "data": {
      "text/plain": [
       "tensor([1.5000, 7.0000, 5.5000])"
      ]
     },
     "execution_count": 72,
     "metadata": {},
     "output_type": "execute_result"
    }
   ],
   "source": [
    "torch.mean(e, dim= 0)"
   ]
  },
  {
   "cell_type": "code",
   "execution_count": 73,
   "id": "9c090798-73bb-4d55-ba46-ee3682a96f1c",
   "metadata": {},
   "outputs": [
    {
     "data": {
      "text/plain": [
       "tensor(4.)"
      ]
     },
     "execution_count": 73,
     "metadata": {},
     "output_type": "execute_result"
    }
   ],
   "source": [
    "# median\n",
    "torch.median(e)"
   ]
  },
  {
   "cell_type": "code",
   "execution_count": 74,
   "id": "6bd109f7-2bae-44fd-adaa-6a4699157f61",
   "metadata": {},
   "outputs": [
    {
     "data": {
      "text/plain": [
       "torch.return_types.median(\n",
       "values=tensor([0., 5., 4.]),\n",
       "indices=tensor([1, 1, 0]))"
      ]
     },
     "execution_count": 74,
     "metadata": {},
     "output_type": "execute_result"
    }
   ],
   "source": [
    "torch.median(e, dim= 0)"
   ]
  },
  {
   "cell_type": "code",
   "execution_count": 75,
   "id": "a14a994a-d56e-42ae-9eb6-587a0699d0b4",
   "metadata": {},
   "outputs": [
    {
     "data": {
      "text/plain": [
       "tensor(0.)"
      ]
     },
     "execution_count": 75,
     "metadata": {},
     "output_type": "execute_result"
    }
   ],
   "source": [
    "torch.prod(e)"
   ]
  },
  {
   "cell_type": "code",
   "execution_count": 76,
   "id": "ff927ae1-390b-4d04-a031-93e4621022a9",
   "metadata": {},
   "outputs": [
    {
     "data": {
      "text/plain": [
       "tensor(9.8667)"
      ]
     },
     "execution_count": 76,
     "metadata": {},
     "output_type": "execute_result"
    }
   ],
   "source": [
    "torch.var(e)"
   ]
  },
  {
   "cell_type": "code",
   "execution_count": 77,
   "id": "becc9fe7-383b-4e6e-a836-0809b77e6929",
   "metadata": {},
   "outputs": [
    {
     "data": {
      "text/plain": [
       "tensor(3.1411)"
      ]
     },
     "execution_count": 77,
     "metadata": {},
     "output_type": "execute_result"
    }
   ],
   "source": [
    "torch.std(e)"
   ]
  },
  {
   "cell_type": "code",
   "execution_count": 78,
   "id": "15b31360-a2fd-40b1-b9ea-1240bc4fd247",
   "metadata": {},
   "outputs": [
    {
     "data": {
      "text/plain": [
       "tensor(1)"
      ]
     },
     "execution_count": 78,
     "metadata": {},
     "output_type": "execute_result"
    }
   ],
   "source": [
    "torch.argmax(e)"
   ]
  },
  {
   "cell_type": "code",
   "execution_count": 79,
   "id": "3fdc88ba-fb8a-4dfb-a481-03ffe5927716",
   "metadata": {},
   "outputs": [
    {
     "data": {
      "text/plain": [
       "tensor(3)"
      ]
     },
     "execution_count": 79,
     "metadata": {},
     "output_type": "execute_result"
    }
   ],
   "source": [
    "torch.argmin(e)"
   ]
  },
  {
   "cell_type": "code",
   "execution_count": 81,
   "id": "bf5d4896-f57c-4d1b-9c09-3c2ede4ecc9f",
   "metadata": {},
   "outputs": [
    {
     "data": {
      "text/plain": [
       "tensor([[3., 0.],\n",
       "        [9., 5.],\n",
       "        [4., 7.]])"
      ]
     },
     "execution_count": 81,
     "metadata": {},
     "output_type": "execute_result"
    }
   ],
   "source": [
    "torch.transpose(e, 0, 1)"
   ]
  },
  {
   "cell_type": "code",
   "execution_count": 83,
   "id": "e4515600-a60f-4ee8-8b39-06d34053ae0b",
   "metadata": {},
   "outputs": [
    {
     "data": {
      "text/plain": [
       "tensor([12.5000,  8.5000])"
      ]
     },
     "execution_count": 83,
     "metadata": {},
     "output_type": "execute_result"
    }
   ],
   "source": [
    "torch.trapz(e)"
   ]
  },
  {
   "cell_type": "code",
   "execution_count": 92,
   "id": "058f0900-a2af-473b-99c8-df479e68378e",
   "metadata": {},
   "outputs": [
    {
     "data": {
      "text/plain": [
       "tensor([[16., 17.,  7.],\n",
       "        [ 7.,  4.,  2.],\n",
       "        [12.,  7.,  9.]])"
      ]
     },
     "execution_count": 92,
     "metadata": {},
     "output_type": "execute_result"
    }
   ],
   "source": [
    "# determinant\n",
    "h = torch.randint(size=(3,3),low = 1, high = 20, dtype= torch.float32)\n",
    "h"
   ]
  },
  {
   "cell_type": "code",
   "execution_count": 93,
   "id": "83e4567d-934a-4456-8ed3-c892fae3941a",
   "metadata": {},
   "outputs": [
    {
     "data": {
      "text/plain": [
       "tensor(-304.)"
      ]
     },
     "execution_count": 93,
     "metadata": {},
     "output_type": "execute_result"
    }
   ],
   "source": [
    "torch.det(h)"
   ]
  },
  {
   "cell_type": "code",
   "execution_count": 94,
   "id": "1ec2e8a5-7f65-44c7-8387-22087800f91e",
   "metadata": {},
   "outputs": [
    {
     "data": {
      "text/plain": [
       "tensor([[-0.0724,  0.3421, -0.0197],\n",
       "        [ 0.1283, -0.1974, -0.0559],\n",
       "        [-0.0033, -0.3026,  0.1809]])"
      ]
     },
     "execution_count": 94,
     "metadata": {},
     "output_type": "execute_result"
    }
   ],
   "source": [
    "torch.inverse(h)"
   ]
  },
  {
   "cell_type": "code",
   "execution_count": 96,
   "id": "b5cc74cd-ce4c-4ff4-b251-f7b1652c78e5",
   "metadata": {},
   "outputs": [],
   "source": [
    "i = torch.randint(size=(3,3),low = 1, high = 20, dtype= torch.float32)\n",
    "j = torch.randint(size=(3,3),low = 1, high = 20, dtype= torch.float32)"
   ]
  },
  {
   "cell_type": "code",
   "execution_count": 97,
   "id": "966212c6-7862-4dec-a7d3-2a152c9d906a",
   "metadata": {},
   "outputs": [
    {
     "data": {
      "text/plain": [
       "tensor([[False, False,  True],\n",
       "        [False,  True,  True],\n",
       "        [False, False, False]])"
      ]
     },
     "execution_count": 97,
     "metadata": {},
     "output_type": "execute_result"
    }
   ],
   "source": [
    "i>j"
   ]
  },
  {
   "cell_type": "code",
   "execution_count": 98,
   "id": "dd692b5b-9a6d-4fdc-9c44-e1a7794c86c5",
   "metadata": {},
   "outputs": [
    {
     "data": {
      "text/plain": [
       "tensor([[ True,  True, False],\n",
       "        [ True, False, False],\n",
       "        [ True,  True,  True]])"
      ]
     },
     "execution_count": 98,
     "metadata": {},
     "output_type": "execute_result"
    }
   ],
   "source": [
    "i<j"
   ]
  },
  {
   "cell_type": "code",
   "execution_count": 99,
   "id": "4d35e47e-693f-41b8-9f51-b38a65644f1e",
   "metadata": {},
   "outputs": [
    {
     "data": {
      "text/plain": [
       "tensor([[False, False, False],\n",
       "        [False, False, False],\n",
       "        [False, False, False]])"
      ]
     },
     "execution_count": 99,
     "metadata": {},
     "output_type": "execute_result"
    }
   ],
   "source": [
    "i==j"
   ]
  },
  {
   "cell_type": "code",
   "execution_count": 100,
   "id": "5cdae744-7d4d-4550-812e-35ac0b495a91",
   "metadata": {},
   "outputs": [
    {
     "data": {
      "text/plain": [
       "tensor([[True, True, True],\n",
       "        [True, True, True],\n",
       "        [True, True, True]])"
      ]
     },
     "execution_count": 100,
     "metadata": {},
     "output_type": "execute_result"
    }
   ],
   "source": [
    "i!=j"
   ]
  },
  {
   "cell_type": "code",
   "execution_count": 101,
   "id": "4103beeb-93fe-44f9-a6b6-3b65a3071303",
   "metadata": {},
   "outputs": [
    {
     "data": {
      "text/plain": [
       "tensor([[ True,  True, False],\n",
       "        [ True, False, False],\n",
       "        [ True,  True,  True]])"
      ]
     },
     "execution_count": 101,
     "metadata": {},
     "output_type": "execute_result"
    }
   ],
   "source": [
    "i<=j"
   ]
  },
  {
   "cell_type": "code",
   "execution_count": 102,
   "id": "eb5f34e9-3723-4f46-b5b0-4edd0b81cdf7",
   "metadata": {},
   "outputs": [
    {
     "data": {
      "text/plain": [
       "tensor([[False, False,  True],\n",
       "        [False,  True,  True],\n",
       "        [False, False, False]])"
      ]
     },
     "execution_count": 102,
     "metadata": {},
     "output_type": "execute_result"
    }
   ],
   "source": [
    "i>=j"
   ]
  },
  {
   "cell_type": "code",
   "execution_count": 104,
   "id": "9e3ec185-77a0-4a8c-baa2-799eea23818d",
   "metadata": {},
   "outputs": [
    {
     "data": {
      "text/plain": [
       "tensor([[ 7.,  8., 18.],\n",
       "        [ 4., 10., 18.],\n",
       "        [ 2.,  7., 10.]])"
      ]
     },
     "execution_count": 104,
     "metadata": {},
     "output_type": "execute_result"
    }
   ],
   "source": [
    "i"
   ]
  },
  {
   "cell_type": "code",
   "execution_count": 103,
   "id": "4894b0df-2dbd-4bf9-ae72-01ff45c549e3",
   "metadata": {},
   "outputs": [
    {
     "data": {
      "text/plain": [
       "tensor([[1.9459, 2.0794, 2.8904],\n",
       "        [1.3863, 2.3026, 2.8904],\n",
       "        [0.6931, 1.9459, 2.3026]])"
      ]
     },
     "execution_count": 103,
     "metadata": {},
     "output_type": "execute_result"
    }
   ],
   "source": [
    "# log\n",
    "torch.log(i)"
   ]
  },
  {
   "cell_type": "code",
   "execution_count": 105,
   "id": "dc6813fb-07e4-40ae-9e45-5a9d2d476fd3",
   "metadata": {},
   "outputs": [
    {
     "data": {
      "text/plain": [
       "tensor([[1.0966e+03, 2.9810e+03, 6.5660e+07],\n",
       "        [5.4598e+01, 2.2026e+04, 6.5660e+07],\n",
       "        [7.3891e+00, 1.0966e+03, 2.2026e+04]])"
      ]
     },
     "execution_count": 105,
     "metadata": {},
     "output_type": "execute_result"
    }
   ],
   "source": [
    "# exp\n",
    "torch.exp(i)"
   ]
  },
  {
   "cell_type": "code",
   "execution_count": 106,
   "id": "557734cf-fe1d-4c20-a5fd-b37974579955",
   "metadata": {},
   "outputs": [
    {
     "data": {
      "text/plain": [
       "tensor([[2.6458, 2.8284, 4.2426],\n",
       "        [2.0000, 3.1623, 4.2426],\n",
       "        [1.4142, 2.6458, 3.1623]])"
      ]
     },
     "execution_count": 106,
     "metadata": {},
     "output_type": "execute_result"
    }
   ],
   "source": [
    "# sqrt\n",
    "torch.sqrt(i)"
   ]
  },
  {
   "cell_type": "code",
   "execution_count": 107,
   "id": "6a51bd45-966d-455f-b99b-f2b435e88fa6",
   "metadata": {},
   "outputs": [
    {
     "data": {
      "text/plain": [
       "tensor([[0.9991, 0.9997, 1.0000],\n",
       "        [0.9820, 1.0000, 1.0000],\n",
       "        [0.8808, 0.9991, 1.0000]])"
      ]
     },
     "execution_count": 107,
     "metadata": {},
     "output_type": "execute_result"
    }
   ],
   "source": [
    "# sigmoid\n",
    "torch.sigmoid(i)"
   ]
  },
  {
   "cell_type": "code",
   "execution_count": 113,
   "id": "034f1d72-6850-4dc6-9b4f-a6b5d852f581",
   "metadata": {},
   "outputs": [
    {
     "data": {
      "text/plain": [
       "tensor([[9.4650e-01, 1.1420e-01, 4.9992e-01],\n",
       "        [4.7123e-02, 8.4379e-01, 4.9992e-01],\n",
       "        [6.3775e-03, 4.2010e-02, 1.6770e-04]])"
      ]
     },
     "execution_count": 113,
     "metadata": {},
     "output_type": "execute_result"
    }
   ],
   "source": [
    "# Softmax\n",
    "torch.softmax(i, dim=0)"
   ]
  },
  {
   "cell_type": "code",
   "execution_count": 114,
   "id": "d3cf86f1-9c25-48e0-aa22-bc540fe59aac",
   "metadata": {},
   "outputs": [
    {
     "data": {
      "text/plain": [
       "tensor([[ 7.,  8., 18.],\n",
       "        [ 4., 10., 18.],\n",
       "        [ 2.,  7., 10.]])"
      ]
     },
     "execution_count": 114,
     "metadata": {},
     "output_type": "execute_result"
    }
   ],
   "source": [
    "# relu\n",
    "torch.relu(i)"
   ]
  },
  {
   "cell_type": "markdown",
   "id": "486954a9-4b3e-4890-bc87-8ca6ffd53021",
   "metadata": {},
   "source": [
    "# Inplace Operation"
   ]
  },
  {
   "cell_type": "code",
   "execution_count": 120,
   "id": "1b98c838-333f-42e1-8275-49b1fa845431",
   "metadata": {},
   "outputs": [
    {
     "data": {
      "text/plain": [
       "tensor([[0.9436, 0.3904, 0.2499],\n",
       "        [0.3206, 0.9753, 0.7582]])"
      ]
     },
     "execution_count": 120,
     "metadata": {},
     "output_type": "execute_result"
    }
   ],
   "source": [
    "m = torch.rand(2,3)\n",
    "n = torch.rand(2,3)\n",
    "m"
   ]
  },
  {
   "cell_type": "code",
   "execution_count": 121,
   "id": "60b2f0cf-6db9-472e-92ce-bb9553a2e152",
   "metadata": {},
   "outputs": [
    {
     "data": {
      "text/plain": [
       "tensor([[1.6124, 0.6556, 0.4835],\n",
       "        [0.8263, 1.5441, 0.8216]])"
      ]
     },
     "execution_count": 121,
     "metadata": {},
     "output_type": "execute_result"
    }
   ],
   "source": [
    "m+n"
   ]
  },
  {
   "cell_type": "code",
   "execution_count": 118,
   "id": "d1bd324b-dd25-44b5-97c8-7ca071d1eb97",
   "metadata": {},
   "outputs": [
    {
     "data": {
      "text/plain": [
       "tensor([[1.4047, 0.8966, 1.3610],\n",
       "        [1.6774, 1.5705, 0.5734]])"
      ]
     },
     "execution_count": 118,
     "metadata": {},
     "output_type": "execute_result"
    }
   ],
   "source": [
    "m = m+n\n",
    "m"
   ]
  },
  {
   "cell_type": "code",
   "execution_count": 122,
   "id": "11eee73f-9e18-4c93-963f-e71d3c2b3944",
   "metadata": {},
   "outputs": [
    {
     "data": {
      "text/plain": [
       "tensor([[1.6124, 0.6556, 0.4835],\n",
       "        [0.8263, 1.5441, 0.8216]])"
      ]
     },
     "execution_count": 122,
     "metadata": {},
     "output_type": "execute_result"
    }
   ],
   "source": [
    "m.add_(n)"
   ]
  },
  {
   "cell_type": "code",
   "execution_count": 123,
   "id": "2ecd4614-84cb-45fc-9778-c2da70db4008",
   "metadata": {},
   "outputs": [
    {
     "data": {
      "text/plain": [
       "tensor([[1.6124, 0.6556, 0.4835],\n",
       "        [0.8263, 1.5441, 0.8216]])"
      ]
     },
     "execution_count": 123,
     "metadata": {},
     "output_type": "execute_result"
    }
   ],
   "source": [
    "torch.relu(m)"
   ]
  },
  {
   "cell_type": "code",
   "execution_count": 124,
   "id": "894bd169-e1eb-467f-854b-5890a61b5057",
   "metadata": {},
   "outputs": [
    {
     "data": {
      "text/plain": [
       "tensor([[1.6124, 0.6556, 0.4835],\n",
       "        [0.8263, 1.5441, 0.8216]])"
      ]
     },
     "execution_count": 124,
     "metadata": {},
     "output_type": "execute_result"
    }
   ],
   "source": [
    "m.relu_()"
   ]
  },
  {
   "cell_type": "code",
   "execution_count": 125,
   "id": "459149a6-417c-492b-8925-af3b8b04df67",
   "metadata": {},
   "outputs": [
    {
     "data": {
      "text/plain": [
       "tensor([[1.6124, 0.6556, 0.4835],\n",
       "        [0.8263, 1.5441, 0.8216]])"
      ]
     },
     "execution_count": 125,
     "metadata": {},
     "output_type": "execute_result"
    }
   ],
   "source": [
    "m"
   ]
  },
  {
   "cell_type": "code",
   "execution_count": 126,
   "id": "d4bdbef7-805b-4540-9de2-bacaff1d7ddf",
   "metadata": {},
   "outputs": [],
   "source": [
    "b = a"
   ]
  },
  {
   "cell_type": "code",
   "execution_count": 127,
   "id": "8ef46e29-791f-4c5d-914b-0bafdbc9a9f1",
   "metadata": {},
   "outputs": [
    {
     "data": {
      "text/plain": [
       "tensor([[-5.3310e-15,  1.7012e-42,  0.0000e+00],\n",
       "        [ 0.0000e+00,  0.0000e+00,  0.0000e+00]])"
      ]
     },
     "execution_count": 127,
     "metadata": {},
     "output_type": "execute_result"
    }
   ],
   "source": [
    "b"
   ]
  },
  {
   "cell_type": "code",
   "execution_count": 134,
   "id": "ba9d0994-65ed-4862-ab17-79c7abb22042",
   "metadata": {},
   "outputs": [
    {
     "data": {
      "text/plain": [
       "tensor([[-5.3310e-15,  1.7012e-42,  0.0000e+00],\n",
       "        [ 1.2000e+01,  0.0000e+00,  0.0000e+00]])"
      ]
     },
     "execution_count": 134,
     "metadata": {},
     "output_type": "execute_result"
    }
   ],
   "source": [
    "a[1][0] = 12\n",
    "a"
   ]
  },
  {
   "cell_type": "code",
   "execution_count": 130,
   "id": "9797251a-a43d-4a25-82d2-c9bae9044d27",
   "metadata": {},
   "outputs": [
    {
     "data": {
      "text/plain": [
       "tensor([[-5.3310e-15,  1.7012e-42,  0.0000e+00],\n",
       "        [ 1.0000e+00,  0.0000e+00,  0.0000e+00]])"
      ]
     },
     "execution_count": 130,
     "metadata": {},
     "output_type": "execute_result"
    }
   ],
   "source": [
    "b"
   ]
  },
  {
   "cell_type": "code",
   "execution_count": 131,
   "id": "aa0d3c30-90af-4422-a23f-b6283c6aec36",
   "metadata": {},
   "outputs": [
    {
     "data": {
      "text/plain": [
       "tensor([[-5.3310e-15,  1.7012e-42,  0.0000e+00],\n",
       "        [ 1.0000e+00,  0.0000e+00,  0.0000e+00]])"
      ]
     },
     "execution_count": 131,
     "metadata": {},
     "output_type": "execute_result"
    }
   ],
   "source": [
    "b = a.clone()\n",
    "b"
   ]
  },
  {
   "cell_type": "code",
   "execution_count": 135,
   "id": "ce552f0f-c345-4d69-88c8-83e6b4c1d25f",
   "metadata": {},
   "outputs": [
    {
     "data": {
      "text/plain": [
       "tensor([[-5.3310e-15,  1.7012e-42,  0.0000e+00],\n",
       "        [ 1.0000e+00,  0.0000e+00,  0.0000e+00]])"
      ]
     },
     "execution_count": 135,
     "metadata": {},
     "output_type": "execute_result"
    }
   ],
   "source": [
    "b"
   ]
  },
  {
   "cell_type": "code",
   "execution_count": 136,
   "id": "a2abe3fd-8651-44b2-af38-12c28f89954d",
   "metadata": {},
   "outputs": [
    {
     "data": {
      "text/plain": [
       "2130345892256"
      ]
     },
     "execution_count": 136,
     "metadata": {},
     "output_type": "execute_result"
    }
   ],
   "source": [
    "id(a)"
   ]
  },
  {
   "cell_type": "code",
   "execution_count": 137,
   "id": "76fe25a6-cf54-4b53-8aec-da6e492df367",
   "metadata": {},
   "outputs": [
    {
     "data": {
      "text/plain": [
       "2131283988784"
      ]
     },
     "execution_count": 137,
     "metadata": {},
     "output_type": "execute_result"
    }
   ],
   "source": [
    "id(b)"
   ]
  },
  {
   "cell_type": "code",
   "execution_count": 138,
   "id": "0d967e09-91e5-4c3b-a111-e8355dc1136d",
   "metadata": {},
   "outputs": [
    {
     "data": {
      "text/plain": [
       "True"
      ]
     },
     "execution_count": 138,
     "metadata": {},
     "output_type": "execute_result"
    }
   ],
   "source": [
    "torch.cuda.is_available()"
   ]
  },
  {
   "cell_type": "code",
   "execution_count": 139,
   "id": "5a94e0ff-65ac-4407-bd2a-23a7b1b2c71b",
   "metadata": {},
   "outputs": [],
   "source": [
    "device = torch.device('cuda')"
   ]
  },
  {
   "cell_type": "markdown",
   "id": "9f64f3c1-508b-4053-9ea6-c42023ed694c",
   "metadata": {},
   "source": [
    "# Tensor opertion on GPU"
   ]
  },
  {
   "cell_type": "code",
   "execution_count": 141,
   "id": "925ec1f3-c446-4f39-afac-2f5b872a6e9a",
   "metadata": {},
   "outputs": [
    {
     "data": {
      "text/plain": [
       "tensor([[0.8344, 0.7001, 0.5361],\n",
       "        [0.8883, 0.0220, 0.7938]], device='cuda:0')"
      ]
     },
     "execution_count": 141,
     "metadata": {},
     "output_type": "execute_result"
    }
   ],
   "source": [
    " torch.rand((2,3), device = device)"
   ]
  },
  {
   "cell_type": "code",
   "execution_count": 142,
   "id": "4bf5870d-6e72-4a83-962f-f2cab679513c",
   "metadata": {},
   "outputs": [
    {
     "data": {
      "text/plain": [
       "tensor([[-5.3310e-15,  1.7012e-42,  0.0000e+00],\n",
       "        [ 1.2000e+01,  0.0000e+00,  0.0000e+00]], device='cuda:0')"
      ]
     },
     "execution_count": 142,
     "metadata": {},
     "output_type": "execute_result"
    }
   ],
   "source": [
    "a.to(device)"
   ]
  },
  {
   "cell_type": "code",
   "execution_count": 144,
   "id": "c62ddcef-6db7-4199-b56a-57bbc469d034",
   "metadata": {},
   "outputs": [],
   "source": [
    "b = a.to(device)\n"
   ]
  },
  {
   "cell_type": "code",
   "execution_count": 145,
   "id": "f18f0b62-eb85-4a11-b4f4-31177b403d4f",
   "metadata": {},
   "outputs": [
    {
     "data": {
      "text/plain": [
       "tensor([[ 5.,  5.,  5.],\n",
       "        [17.,  5.,  5.]], device='cuda:0')"
      ]
     },
     "execution_count": 145,
     "metadata": {},
     "output_type": "execute_result"
    }
   ],
   "source": [
    "b+5"
   ]
  },
  {
   "cell_type": "code",
   "execution_count": 149,
   "id": "b12c233c-5594-4553-b6c4-89638739bd40",
   "metadata": {},
   "outputs": [
    {
     "name": "stdout",
     "output_type": "stream",
     "text": [
      "  59.6323 seconds\n",
      "  0.0010 seconds\n",
      "Speed: 59665.06583969466\n"
     ]
    }
   ],
   "source": [
    "import time\n",
    "\n",
    "size = 10000\n",
    "\n",
    "mat_c1 = torch.randn(size, size)\n",
    "mat_c2 = torch.randn(size, size)\n",
    "\n",
    "st = time.time()\n",
    "result_c = torch.matmul(mat_c1, mat_c2)\n",
    "\n",
    "cpu_time = time.time() - st\n",
    "\n",
    "print(f\" {cpu_time: .4f} seconds\")\n",
    "\n",
    "mat_g1 = mat_c1.to(device)\n",
    "mat_g2 = mat_c2.to(device)\n",
    "\n",
    "st = time.time()\n",
    "result_c = torch.matmul(mat_g1, mat_g2)\n",
    "\n",
    "gpu_time = time.time() - st\n",
    "\n",
    "print(f\" {gpu_time: .4f} seconds\")\n",
    "\n",
    "print(f\"Speed: {cpu_time/gpu_time}\")"
   ]
  },
  {
   "cell_type": "code",
   "execution_count": 150,
   "id": "bfaa7c89-1e8c-432b-ae58-bb0efd8930d8",
   "metadata": {},
   "outputs": [
    {
     "data": {
      "text/plain": [
       "tensor([[1., 1., 1., 1.],\n",
       "        [1., 1., 1., 1.],\n",
       "        [1., 1., 1., 1.],\n",
       "        [1., 1., 1., 1.]])"
      ]
     },
     "execution_count": 150,
     "metadata": {},
     "output_type": "execute_result"
    }
   ],
   "source": [
    "# Reshaping\n",
    "\n",
    "a = torch.ones(4,4)\n",
    "a"
   ]
  },
  {
   "cell_type": "code",
   "execution_count": 151,
   "id": "c97cfeea-9919-4891-89a3-b3f1cd2c5a49",
   "metadata": {},
   "outputs": [
    {
     "data": {
      "text/plain": [
       "tensor([[[[1., 1.],\n",
       "          [1., 1.]],\n",
       "\n",
       "         [[1., 1.],\n",
       "          [1., 1.]]],\n",
       "\n",
       "\n",
       "        [[[1., 1.],\n",
       "          [1., 1.]],\n",
       "\n",
       "         [[1., 1.],\n",
       "          [1., 1.]]]])"
      ]
     },
     "execution_count": 151,
     "metadata": {},
     "output_type": "execute_result"
    }
   ],
   "source": [
    "a.reshape(2,2,2,2)"
   ]
  },
  {
   "cell_type": "code",
   "execution_count": 152,
   "id": "45d6e1a2-939a-4dca-8d58-3c0c8409da5b",
   "metadata": {},
   "outputs": [
    {
     "data": {
      "text/plain": [
       "tensor([1., 1., 1., 1., 1., 1., 1., 1., 1., 1., 1., 1., 1., 1., 1., 1.])"
      ]
     },
     "execution_count": 152,
     "metadata": {},
     "output_type": "execute_result"
    }
   ],
   "source": [
    "a.flatten()"
   ]
  },
  {
   "cell_type": "code",
   "execution_count": 154,
   "id": "3129db5e-10ed-46e7-bb11-1b660ccf5bb6",
   "metadata": {},
   "outputs": [
    {
     "data": {
      "text/plain": [
       "tensor([[[0.5330, 0.3768, 0.2254, 0.6387],\n",
       "         [0.1616, 0.4012, 0.5106, 0.3696],\n",
       "         [0.6231, 0.1191, 0.1854, 0.0566]],\n",
       "\n",
       "        [[0.5113, 0.8340, 0.3405, 0.8644],\n",
       "         [0.9594, 0.7425, 0.7045, 0.1476],\n",
       "         [0.1044, 0.9013, 0.0787, 0.3159]]])"
      ]
     },
     "execution_count": 154,
     "metadata": {},
     "output_type": "execute_result"
    }
   ],
   "source": [
    "b = torch.rand(2,3,4)\n",
    "b"
   ]
  },
  {
   "cell_type": "code",
   "execution_count": 155,
   "id": "149f148f-acd3-4e6e-b2cb-f0f94ea9c53a",
   "metadata": {},
   "outputs": [
    {
     "data": {
      "text/plain": [
       "tensor([[[0.5330, 0.1616, 0.6231],\n",
       "         [0.5113, 0.9594, 0.1044]],\n",
       "\n",
       "        [[0.3768, 0.4012, 0.1191],\n",
       "         [0.8340, 0.7425, 0.9013]],\n",
       "\n",
       "        [[0.2254, 0.5106, 0.1854],\n",
       "         [0.3405, 0.7045, 0.0787]],\n",
       "\n",
       "        [[0.6387, 0.3696, 0.0566],\n",
       "         [0.8644, 0.1476, 0.3159]]])"
      ]
     },
     "execution_count": 155,
     "metadata": {},
     "output_type": "execute_result"
    }
   ],
   "source": [
    "# Permute\n",
    "b.permute(2,0,1) "
   ]
  },
  {
   "cell_type": "code",
   "execution_count": 157,
   "id": "c43ba2a8-4209-405d-97f9-65b2d45d9d11",
   "metadata": {},
   "outputs": [
    {
     "data": {
      "text/plain": [
       "torch.Size([4, 2, 3])"
      ]
     },
     "execution_count": 157,
     "metadata": {},
     "output_type": "execute_result"
    }
   ],
   "source": [
    "b.permute(2,0,1).shape"
   ]
  },
  {
   "cell_type": "code",
   "execution_count": 163,
   "id": "b5b596a9-35ec-43a8-924d-6c7aee3aebd4",
   "metadata": {},
   "outputs": [
    {
     "data": {
      "text/plain": [
       "torch.Size([1, 226, 226, 3])"
      ]
     },
     "execution_count": 163,
     "metadata": {},
     "output_type": "execute_result"
    }
   ],
   "source": [
    "c = torch.rand(226,226,3)\n",
    "c.unsqueeze(0).shape"
   ]
  },
  {
   "cell_type": "code",
   "execution_count": 164,
   "id": "262f84e9-7b7f-4bec-98f3-be390d35352f",
   "metadata": {},
   "outputs": [
    {
     "data": {
      "text/plain": [
       "torch.Size([226, 226, 3])"
      ]
     },
     "execution_count": 164,
     "metadata": {},
     "output_type": "execute_result"
    }
   ],
   "source": [
    "c.unsqueeze(0).squeeze(0).shape"
   ]
  },
  {
   "cell_type": "code",
   "execution_count": 166,
   "id": "a8b08b6c-bc7b-43f3-98a0-54f6df933777",
   "metadata": {},
   "outputs": [
    {
     "data": {
      "text/plain": [
       "torch.Size([20])"
      ]
     },
     "execution_count": 166,
     "metadata": {},
     "output_type": "execute_result"
    }
   ],
   "source": [
    "d = torch.rand(1,20)\n",
    "d.squeeze(0).shape"
   ]
  },
  {
   "cell_type": "code",
   "execution_count": 167,
   "id": "46ed2c58-cc89-4347-9cd9-7b7a20a91e62",
   "metadata": {},
   "outputs": [],
   "source": [
    "import numpy as np"
   ]
  },
  {
   "cell_type": "code",
   "execution_count": 168,
   "id": "185e6526-360e-486d-89e0-38a1eada2303",
   "metadata": {},
   "outputs": [
    {
     "data": {
      "text/plain": [
       "tensor([1, 2, 3])"
      ]
     },
     "execution_count": 168,
     "metadata": {},
     "output_type": "execute_result"
    }
   ],
   "source": [
    "a = torch.tensor([1,2,3])\n",
    "a"
   ]
  },
  {
   "cell_type": "code",
   "execution_count": 170,
   "id": "c7d9f11d-7d68-4f1d-800f-0a031bbcec7f",
   "metadata": {},
   "outputs": [
    {
     "data": {
      "text/plain": [
       "array([1, 2, 3], dtype=int64)"
      ]
     },
     "execution_count": 170,
     "metadata": {},
     "output_type": "execute_result"
    }
   ],
   "source": [
    "b = a.numpy()\n",
    "b"
   ]
  },
  {
   "cell_type": "code",
   "execution_count": 171,
   "id": "d29d10a2-e798-4898-b466-58bac5cd457a",
   "metadata": {},
   "outputs": [
    {
     "data": {
      "text/plain": [
       "tensor([1, 2, 3])"
      ]
     },
     "execution_count": 171,
     "metadata": {},
     "output_type": "execute_result"
    }
   ],
   "source": [
    "torch.from_numpy(b)\n"
   ]
  },
  {
   "cell_type": "code",
   "execution_count": null,
   "id": "eca721ee-885e-4408-b13f-6243854acd34",
   "metadata": {},
   "outputs": [],
   "source": []
  }
 ],
 "metadata": {
  "kernelspec": {
   "display_name": "Python 3 (ipykernel)",
   "language": "python",
   "name": "python3"
  },
  "language_info": {
   "codemirror_mode": {
    "name": "ipython",
    "version": 3
   },
   "file_extension": ".py",
   "mimetype": "text/x-python",
   "name": "python",
   "nbconvert_exporter": "python",
   "pygments_lexer": "ipython3",
   "version": "3.9.18"
  }
 },
 "nbformat": 4,
 "nbformat_minor": 5
}
