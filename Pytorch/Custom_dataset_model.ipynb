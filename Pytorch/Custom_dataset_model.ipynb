{
 "cells": [
  {
   "cell_type": "code",
   "execution_count": 11,
   "id": "85aaf909-bf78-478e-98a1-23abff53e8ae",
   "metadata": {},
   "outputs": [
    {
     "data": {
      "text/plain": [
       "(WindowsPath('data/pizza_steak_sushi/train'),\n",
       " WindowsPath('data/pizza_steak_sushi/test'))"
      ]
     },
     "execution_count": 11,
     "metadata": {},
     "output_type": "execute_result"
    }
   ],
   "source": [
    "from pathlib import Path\n",
    "\n",
    "# setup path to data folder\n",
    "data_path = Path(\"data/\")\n",
    "image_path = data_path/\"pizza_steak_sushi\"\n",
    "# Setup train and testing paths\n",
    "train_dir = image_path / 'train'\n",
    "test_dir = image_path / 'test'\n",
    "\n",
    "train_dir, test_dir"
   ]
  },
  {
   "cell_type": "code",
   "execution_count": 12,
   "id": "3f97991a-e664-46bc-97c7-d2d6c2a86af6",
   "metadata": {},
   "outputs": [],
   "source": [
    "import torch\n",
    "from torch.utils.data import DataLoader\n",
    "from torchvision import datasets, transforms"
   ]
  },
  {
   "cell_type": "code",
   "execution_count": 13,
   "id": "81d1d435-aa20-4705-a0b3-534931c45658",
   "metadata": {},
   "outputs": [],
   "source": [
    "# write a transform for image\n",
    "data_transform = transforms.Compose([\n",
    "\n",
    "    transforms.Resize(size= (64,64)),\n",
    "    transforms.ToTensor(),\n",
    "    transforms.Normalize( mean= [0.4914, 0.4822, 0.4465],\n",
    "        std = [0.2023, 0.1994, 0.2010]),\n",
    "])"
   ]
  },
  {
   "cell_type": "code",
   "execution_count": 14,
   "id": "9540c9b3-6f60-4b5a-8f9a-c770c8669bc6",
   "metadata": {},
   "outputs": [
    {
     "data": {
      "text/plain": [
       "(Dataset ImageFolder\n",
       "     Number of datapoints: 225\n",
       "     Root location: data\\pizza_steak_sushi\\train\n",
       "     StandardTransform\n",
       " Transform: Compose(\n",
       "                Resize(size=(64, 64), interpolation=bilinear, max_size=None, antialias=True)\n",
       "                ToTensor()\n",
       "                Normalize(mean=[0.4914, 0.4822, 0.4465], std=[0.2023, 0.1994, 0.201])\n",
       "            ),\n",
       " Dataset ImageFolder\n",
       "     Number of datapoints: 75\n",
       "     Root location: data\\pizza_steak_sushi\\test\n",
       "     StandardTransform\n",
       " Transform: Compose(\n",
       "                Resize(size=(64, 64), interpolation=bilinear, max_size=None, antialias=True)\n",
       "                ToTensor()\n",
       "                Normalize(mean=[0.4914, 0.4822, 0.4465], std=[0.2023, 0.1994, 0.201])\n",
       "            ))"
      ]
     },
     "execution_count": 14,
     "metadata": {},
     "output_type": "execute_result"
    }
   ],
   "source": [
    "# use ImageFolder to create the datasets(s)\n",
    "from torchvision import datasets\n",
    "train_data = datasets.ImageFolder(root=train_dir,\n",
    "                                  transform= data_transform,\n",
    "                                  target_transform=None)\n",
    "\n",
    "test_data = datasets.ImageFolder(root=test_dir,\n",
    "                                  transform= data_transform,\n",
    "                                  target_transform=None)\n",
    "\n",
    "train_data, test_data"
   ]
  },
  {
   "cell_type": "code",
   "execution_count": 15,
   "id": "07d95f40-61ef-4082-a3bb-ae1e7b853704",
   "metadata": {},
   "outputs": [
    {
     "data": {
      "text/plain": [
       "(<torch.utils.data.dataloader.DataLoader at 0x18f5f899ee0>,\n",
       " <torch.utils.data.dataloader.DataLoader at 0x18f5f899f10>)"
      ]
     },
     "execution_count": 15,
     "metadata": {},
     "output_type": "execute_result"
    }
   ],
   "source": [
    "# turn train and test datasets into DataLoader's\n",
    "import os\n",
    "\n",
    "from torch.utils.data import DataLoader\n",
    "BATCH_SIZE =32\n",
    "\n",
    "NUM_WORKERS = os.cpu_count()\n",
    "train_dataloader = DataLoader(dataset=train_data,\n",
    "                             batch_size=BATCH_SIZE,\n",
    "                             num_workers=NUM_WORKERS, \n",
    "                              shuffle=True)\n",
    "test_dataloader = DataLoader(dataset=test_data,\n",
    "                             batch_size=BATCH_SIZE,\n",
    "                             num_workers=NUM_WORKERS,\n",
    "                             shuffle = False)\n",
    "train_dataloader, test_dataloader"
   ]
  },
  {
   "cell_type": "code",
   "execution_count": 16,
   "id": "10bc4573-7ed5-4e98-b7d6-12c1270a4912",
   "metadata": {},
   "outputs": [
    {
     "data": {
      "text/plain": [
       "torch.Size([32, 3, 64, 64])"
      ]
     },
     "execution_count": 16,
     "metadata": {},
     "output_type": "execute_result"
    }
   ],
   "source": [
    "i, _ = next(iter(train_dataloader))\n",
    "i.shape"
   ]
  },
  {
   "cell_type": "code",
   "execution_count": 17,
   "id": "14e2fa6e-4e49-40c0-b83a-50d978a36fe3",
   "metadata": {},
   "outputs": [
    {
     "data": {
      "text/plain": [
       "['pizza', 'steak', 'sushi']"
      ]
     },
     "execution_count": 17,
     "metadata": {},
     "output_type": "execute_result"
    }
   ],
   "source": [
    "class_names = train_data.classes\n",
    "class_names"
   ]
  },
  {
   "cell_type": "markdown",
   "id": "098bbb60-be19-4406-b910-739e33d031b2",
   "metadata": {},
   "source": [
    "# 2 Create TinyVGG model class"
   ]
  },
  {
   "cell_type": "code",
   "execution_count": 18,
   "id": "0b6da288-b459-4130-b060-635a1414c697",
   "metadata": {},
   "outputs": [],
   "source": [
    "from torch import nn\n",
    "\n",
    "class TinyVGG(nn.Module):\n",
    "    \"\"\"\n",
    "    Model architecture coping TinyVGG from CNN Explainer.\n",
    "    \"\"\"\n",
    "    def __init__(self, input_shape: int,\n",
    "                 hidden_units: int,\n",
    "                 output_shape: int) -> None:\n",
    "        super().__init__()\n",
    "        self.conv_block_1 = nn.Sequential(\n",
    "            nn.Conv2d(in_channels=input_shape, \n",
    "                      out_channels=hidden_units,\n",
    "                      kernel_size=3,\n",
    "                      stride=1,\n",
    "                      padding=1),\n",
    "            nn.ReLU(),\n",
    "            nn.Conv2d(in_channels=hidden_units, \n",
    "                      out_channels=hidden_units,\n",
    "                      kernel_size=3,\n",
    "                      stride=1,\n",
    "                      padding=1),\n",
    "            nn.ReLU(),\n",
    "            nn.MaxPool2d(kernel_size= 2,\n",
    "                         stride= 2))\n",
    "        self.conv_block_2 = nn.Sequential(\n",
    "            nn.Conv2d(in_channels=hidden_units, \n",
    "                      out_channels=hidden_units,\n",
    "                      kernel_size=3,\n",
    "                      stride=1,\n",
    "                      padding=1),\n",
    "            nn.ReLU(),\n",
    "            nn.Conv2d(in_channels=hidden_units, \n",
    "                      out_channels=hidden_units,\n",
    "                      kernel_size=3,\n",
    "                      stride=1,\n",
    "                      padding=1),\n",
    "            nn.ReLU(),\n",
    "            nn.MaxPool2d(kernel_size= 2,\n",
    "                         stride= 2))\n",
    "        self.classifier = nn.Sequential(\n",
    "            nn.Flatten(),\n",
    "            nn.Linear(in_features= 2560,\n",
    "                      out_features= output_shape)\n",
    "        )\n",
    "\n",
    "    def forward(self, x):\n",
    "        x = self.conv_block_1(x)\n",
    "        #print(x.shape)\n",
    "        x = self.conv_block_2(x)\n",
    "        #print(x.shape)\n",
    "        x = self.classifier(x)\n",
    "        #print(x.shape)\n",
    "        return x\n",
    "        # return self.classifier(self.conv_block_2(self.conv_block_1(x))) # benefits from operator fusion\n",
    "        \n",
    "    \n",
    "    "
   ]
  },
  {
   "cell_type": "code",
   "execution_count": 19,
   "id": "01b8ee78-6931-4990-b845-0a5a46600a60",
   "metadata": {},
   "outputs": [
    {
     "data": {
      "text/plain": [
       "'cuda'"
      ]
     },
     "execution_count": 19,
     "metadata": {},
     "output_type": "execute_result"
    }
   ],
   "source": [
    "device = 'cuda' if torch.cuda.is_available() else 'cpu'\n",
    "device"
   ]
  },
  {
   "cell_type": "code",
   "execution_count": 20,
   "id": "efea195b-69ec-4c90-b4e0-8a1582879c15",
   "metadata": {},
   "outputs": [
    {
     "data": {
      "text/plain": [
       "TinyVGG(\n",
       "  (conv_block_1): Sequential(\n",
       "    (0): Conv2d(3, 10, kernel_size=(3, 3), stride=(1, 1), padding=(1, 1))\n",
       "    (1): ReLU()\n",
       "    (2): Conv2d(10, 10, kernel_size=(3, 3), stride=(1, 1), padding=(1, 1))\n",
       "    (3): ReLU()\n",
       "    (4): MaxPool2d(kernel_size=2, stride=2, padding=0, dilation=1, ceil_mode=False)\n",
       "  )\n",
       "  (conv_block_2): Sequential(\n",
       "    (0): Conv2d(10, 10, kernel_size=(3, 3), stride=(1, 1), padding=(1, 1))\n",
       "    (1): ReLU()\n",
       "    (2): Conv2d(10, 10, kernel_size=(3, 3), stride=(1, 1), padding=(1, 1))\n",
       "    (3): ReLU()\n",
       "    (4): MaxPool2d(kernel_size=2, stride=2, padding=0, dilation=1, ceil_mode=False)\n",
       "  )\n",
       "  (classifier): Sequential(\n",
       "    (0): Flatten(start_dim=1, end_dim=-1)\n",
       "    (1): Linear(in_features=2560, out_features=3, bias=True)\n",
       "  )\n",
       ")"
      ]
     },
     "execution_count": 20,
     "metadata": {},
     "output_type": "execute_result"
    }
   ],
   "source": [
    "torch.manual_seed(42)\n",
    "torch.cuda.manual_seed(42)\n",
    "model_0 = TinyVGG(input_shape=3,\n",
    "                 hidden_units=10,\n",
    "                 output_shape=len(class_names)).to(device)\n",
    "\n",
    "model_0"
   ]
  },
  {
   "cell_type": "code",
   "execution_count": 21,
   "id": "442d4656-0022-4abd-89f8-a9d0b37ae182",
   "metadata": {},
   "outputs": [
    {
     "data": {
      "text/plain": [
       "(torch.Size([32, 3, 64, 64]), torch.Size([32]))"
      ]
     },
     "execution_count": 21,
     "metadata": {},
     "output_type": "execute_result"
    }
   ],
   "source": [
    "# Try forward pass on a single image (to test the model)\n",
    "\n",
    "image_batch, label_batch = next(iter(train_dataloader))\n",
    "image_batch.shape, label_batch.shape"
   ]
  },
  {
   "cell_type": "code",
   "execution_count": 22,
   "id": "f5670f86-4cef-4f27-a786-ee5bb3a005f9",
   "metadata": {},
   "outputs": [
    {
     "data": {
      "text/plain": [
       "tensor([[0.1524, 0.1209, 0.0565],\n",
       "        [0.1201, 0.0974, 0.0527],\n",
       "        [0.1184, 0.1053, 0.0533],\n",
       "        [0.1098, 0.0826, 0.0588],\n",
       "        [0.1750, 0.1482, 0.0941],\n",
       "        [0.1344, 0.1057, 0.0900],\n",
       "        [0.1229, 0.1164, 0.0838],\n",
       "        [0.1286, 0.1410, 0.0794],\n",
       "        [0.1249, 0.0918, 0.0468],\n",
       "        [0.1347, 0.1543, 0.0574],\n",
       "        [0.1010, 0.0713, 0.0485],\n",
       "        [0.1318, 0.1502, 0.0693],\n",
       "        [0.1073, 0.1151, 0.0918],\n",
       "        [0.1443, 0.0868, 0.0683],\n",
       "        [0.1739, 0.1453, 0.0971],\n",
       "        [0.1335, 0.0923, 0.0610],\n",
       "        [0.0799, 0.0866, 0.0616],\n",
       "        [0.1376, 0.1237, 0.0605],\n",
       "        [0.1519, 0.0939, 0.0861],\n",
       "        [0.1088, 0.1037, 0.0599],\n",
       "        [0.1091, 0.0988, 0.0565],\n",
       "        [0.1180, 0.1137, 0.0862],\n",
       "        [0.1590, 0.1261, 0.0800],\n",
       "        [0.0999, 0.1012, 0.0510],\n",
       "        [0.1187, 0.0905, 0.0537],\n",
       "        [0.1192, 0.0940, 0.0600],\n",
       "        [0.1270, 0.1398, 0.0553],\n",
       "        [0.1116, 0.0834, 0.0699],\n",
       "        [0.0941, 0.0963, 0.0717],\n",
       "        [0.1414, 0.1025, 0.0022],\n",
       "        [0.1105, 0.1663, 0.0830],\n",
       "        [0.1399, 0.1237, 0.0705]], device='cuda:0', grad_fn=<AddmmBackward0>)"
      ]
     },
     "execution_count": 22,
     "metadata": {},
     "output_type": "execute_result"
    }
   ],
   "source": [
    "# Try forward pass\n",
    "\n",
    "model_0(image_batch.to(device))"
   ]
  },
  {
   "cell_type": "code",
   "execution_count": 23,
   "id": "eac135b1-92dc-41e0-92e2-5ce3c3e1a1a0",
   "metadata": {},
   "outputs": [],
   "source": [
    "try:\n",
    "    import torchinfo\n",
    "except:\n",
    "    !pip install  torchinfo\n",
    "    import torchinfo"
   ]
  },
  {
   "cell_type": "code",
   "execution_count": 24,
   "id": "4ff6f38a-8ba2-4a5a-b732-80c52d2c0f70",
   "metadata": {},
   "outputs": [
    {
     "data": {
      "text/plain": [
       "==========================================================================================\n",
       "Layer (type:depth-idx)                   Output Shape              Param #\n",
       "==========================================================================================\n",
       "TinyVGG                                  [1, 3]                    --\n",
       "├─Sequential: 1-1                        [1, 10, 32, 32]           --\n",
       "│    └─Conv2d: 2-1                       [1, 10, 64, 64]           280\n",
       "│    └─ReLU: 2-2                         [1, 10, 64, 64]           --\n",
       "│    └─Conv2d: 2-3                       [1, 10, 64, 64]           910\n",
       "│    └─ReLU: 2-4                         [1, 10, 64, 64]           --\n",
       "│    └─MaxPool2d: 2-5                    [1, 10, 32, 32]           --\n",
       "├─Sequential: 1-2                        [1, 10, 16, 16]           --\n",
       "│    └─Conv2d: 2-6                       [1, 10, 32, 32]           910\n",
       "│    └─ReLU: 2-7                         [1, 10, 32, 32]           --\n",
       "│    └─Conv2d: 2-8                       [1, 10, 32, 32]           910\n",
       "│    └─ReLU: 2-9                         [1, 10, 32, 32]           --\n",
       "│    └─MaxPool2d: 2-10                   [1, 10, 16, 16]           --\n",
       "├─Sequential: 1-3                        [1, 3]                    --\n",
       "│    └─Flatten: 2-11                     [1, 2560]                 --\n",
       "│    └─Linear: 2-12                      [1, 3]                    7,683\n",
       "==========================================================================================\n",
       "Total params: 10,693\n",
       "Trainable params: 10,693\n",
       "Non-trainable params: 0\n",
       "Total mult-adds (M): 6.75\n",
       "==========================================================================================\n",
       "Input size (MB): 0.05\n",
       "Forward/backward pass size (MB): 0.82\n",
       "Params size (MB): 0.04\n",
       "Estimated Total Size (MB): 0.91\n",
       "=========================================================================================="
      ]
     },
     "execution_count": 24,
     "metadata": {},
     "output_type": "execute_result"
    }
   ],
   "source": [
    "from torchinfo import summary\n",
    "\n",
    "summary(model_0, input_size=[1,3,64,64])"
   ]
  },
  {
   "cell_type": "code",
   "execution_count": 25,
   "id": "49c6160c-511f-4f64-b4c9-9e35e6ee6474",
   "metadata": {},
   "outputs": [],
   "source": [
    "def accuracy_fn(y_true, y_pred):\n",
    "    \"\"\" Calculate accuracy between truth labels and predictions.\n",
    "\n",
    "    Args:\n",
    "        y_true (torch.Tensor): Truth labels for predictions.\n",
    "        y_pred (torch.Tensor): Predictions to be compared to predictions.\n",
    "\n",
    "    Returns:\n",
    "        [torch.float]: Accuracy value between y_true and y_pred, e.g. 99.9999\n",
    "    \"\"\"\n",
    "    correct = torch.eq(y_true, y_pred).sum().item()\n",
    "\n",
    "    acc = (correct/len(y_pred)) * 100\n",
    "    return acc"
   ]
  },
  {
   "cell_type": "code",
   "execution_count": 26,
   "id": "0c5c1765-1688-4580-9a55-fc3e2146b4d8",
   "metadata": {},
   "outputs": [],
   "source": [
    "# Create a train step\n",
    "def train_step(model: torch.nn.Module,\n",
    "               data_loader: torch.utils.data.DataLoader,\n",
    "               loss_fn: torch.nn.Module,\n",
    "               optimizer: torch.optim.Optimizer,\n",
    "               accuracy_fn,\n",
    "               device: torch.device = device ):\n",
    "    \"\"\" Performs a training with a model trying to learn on data_loader\"\"\"\n",
    "    \n",
    "    # Training\n",
    "    train_loss, train_acc = 0, 0\n",
    "\n",
    "    # Put model into training mode\n",
    "    model.train()\n",
    "    \n",
    "    # Add a loop to loop the training batches\n",
    "    for batch, (X, y) in enumerate(data_loader):\n",
    "        # Put data on target device\n",
    "        X, y = X.to(device), y.to(device)\n",
    "       \n",
    "        # 1. Forward Pass\n",
    "        y_pred = model(X)\n",
    "    \n",
    "        # 2. Calculate loss (per batch)\n",
    "        loss = loss_fn(y_pred, y)\n",
    "        train_loss += loss.item() # accumulate train loss\n",
    "    \n",
    "        # 3. Calcuate accuracy\n",
    "        train_acc += accuracy_fn(y_true=y, y_pred= torch.argmax(torch.softmax(y_pred, dim=1), dim=1)) # go from logits -> prediction label \n",
    "        \n",
    "        # 4. Optimizer zero grad\n",
    "        optimizer.zero_grad()\n",
    "    \n",
    "        # 5. Loss backward\n",
    "        loss.backward()\n",
    "    \n",
    "        # 6. Optimizer Step (Grdient desecent)\n",
    "        optimizer.step()\n",
    "    \n",
    "    # Devide total train loss by length of train dataloader\n",
    "    train_loss /= len(data_loader)\n",
    "    \n",
    "    # Calculate the test acc \n",
    "    train_acc /= len(data_loader)\n",
    "    # Print out what's happening\n",
    "    return train_loss, train_acc\n",
    "    "
   ]
  },
  {
   "cell_type": "code",
   "execution_count": 27,
   "id": "625367e8-1c39-49b5-86f5-2163c654b1d3",
   "metadata": {},
   "outputs": [],
   "source": [
    "def test_step(model: torch.nn.Module,\n",
    "               data_loader: torch.utils.data.DataLoader,\n",
    "               loss_fn: torch.nn.Module,\n",
    "               accuracy_fn,\n",
    "               device: torch.device = device ):\n",
    "    \n",
    "     \"\"\" Performs a testing with a model trying to learn on data_loader\"\"\"\n",
    "     ## Testing\n",
    "     test_loss, test_acc = 0, 0\n",
    "     model.eval()\n",
    "     with torch.inference_mode():\n",
    "        for batch, (X_test, y_test) in enumerate(data_loader):\n",
    "            # Put data on target device\n",
    "            X_test, y_test = X_test.to(device), y_test.to(device)\n",
    "            # 1. forward Pass\n",
    "            test_pred = model(X_test)\n",
    "    \n",
    "            # 2. Calculate loss (accumulatively)\n",
    "            test_loss += loss_fn(test_pred, y_test).item()\n",
    "    \n",
    "            # 3. Calcuate accuracy\n",
    "            test_acc += accuracy_fn(y_true=y_test, y_pred= torch.argmax(torch.softmax(test_pred, dim=1), dim=1))  # go from logits -> prediction label \n",
    "    \n",
    "        # Calculate test loss\n",
    "        test_loss /= len(data_loader)\n",
    "    \n",
    "        # Calculate the test acc \n",
    "        test_acc /= len(data_loader)\n",
    "    \n",
    "        # Print out what's happening\n",
    "        return test_loss, test_acc"
   ]
  },
  {
   "cell_type": "code",
   "execution_count": 28,
   "id": "0d9a97fc-5ef3-4dde-8afb-ef6d622f5e12",
   "metadata": {},
   "outputs": [],
   "source": [
    "torch.manual_seed(42)\n",
    "\n",
    "def eval_model(model: torch.nn.Module,\n",
    "              data_loader: torch.utils.data.DataLoader,\n",
    "              loss_fn: torch.nn.Module,\n",
    "              accuracy_fn,\n",
    "              device):\n",
    "    \"\"\" Returns a dictionary containing the results of model predicting on data_loader.\"\"\"\n",
    "\n",
    "    loss, acc = 0 , 0\n",
    "    model.eval()\n",
    "    with torch.inference_mode():\n",
    "        for X, y in tqdm(data_loader):\n",
    "            # Put data on target device\n",
    "            X, y = X.to(device), y.to(device)\n",
    "            # Make prediction\n",
    "            y_pred = model(X)\n",
    "    \n",
    "            # Accumulate the loss and acc values per batch\n",
    "            loss += loss_fn(y_pred, y).item()\n",
    "            acc += accuracy_fn(y_true=y,\n",
    "                               y_pred = torch.argmax(torch.softmax(y_pred, dim=1), dim=1))\n",
    "        # Scale loss and acc to find the average loss/acc per batch\n",
    "        loss /= len(data_loader)\n",
    "        acc /= len(data_loader)\n",
    "\n",
    "    return {\"model_name\" : model.__class__.__name__, # only works whwn model was created with a class\n",
    "            \"model_loss\" : loss.item(),\n",
    "            \"model_acc\" : acc}\n",
    "\n"
   ]
  },
  {
   "cell_type": "code",
   "execution_count": 29,
   "id": "86192b91-6659-43e0-93b8-4947d123b014",
   "metadata": {},
   "outputs": [],
   "source": [
    "# Creating loss function and Optimizer\n",
    "\n",
    "loss_fn = nn.CrossEntropyLoss() # measure how wrong our model is\n",
    "\n",
    "optimizer = torch.optim.SGD(params= model_0.parameters(), lr = 0.1) "
   ]
  },
  {
   "cell_type": "code",
   "execution_count": 30,
   "id": "6d199708-78f5-402d-b658-7ca88c252058",
   "metadata": {},
   "outputs": [],
   "source": [
    "from timeit import default_timer as timer\n",
    "\n",
    "def print_train_time(start: float,\n",
    "                    end: float,\n",
    "                    device : torch.device = None):\n",
    "    \"\"\" Prints difference between start and end time.\"\"\"\n",
    "    total_time = end - start\n",
    "\n",
    "    print(f\"trin time on {device}: {total_time:.3f} seconds\")\n",
    "    return total_time"
   ]
  },
  {
   "cell_type": "code",
   "execution_count": null,
   "id": "ed8f967a-a88d-47b1-8eb2-c8a217a3c151",
   "metadata": {},
   "outputs": [
    {
     "data": {
      "application/vnd.jupyter.widget-view+json": {
       "model_id": "73e1a57182c847f5bbc26730fd1d711e",
       "version_major": 2,
       "version_minor": 0
      },
      "text/plain": [
       "  0%|          | 0/10 [00:00<?, ?it/s]"
      ]
     },
     "metadata": {},
     "output_type": "display_data"
    },
    {
     "name": "stdout",
     "output_type": "stream",
     "text": [
      "Epoch: 0\n",
      "------------------------------------\n"
     ]
    }
   ],
   "source": [
    "from tqdm.auto import tqdm\n",
    "# Measure time\n",
    "\n",
    "train_time_start_on_cpu = timer()\n",
    "\n",
    "# randm seed\n",
    "torch.manual_seed(42)\n",
    "torch.cuda.manual_seed(42)\n",
    "\n",
    "# Set epochs\n",
    "epochs = 10\n",
    "\n",
    "# create training and test loop\n",
    "for epoch in tqdm(range(epochs)):\n",
    "    print(f\"Epoch: {epoch}\\n------------------------------------\")\n",
    "    train_step(model=model_0,\n",
    "               data_loader= train_dataloader,\n",
    "               loss_fn= loss_fn,\n",
    "               optimizer= optimizer,\n",
    "               accuracy_fn= accuracy_fn,\n",
    "               device = device )\n",
    "    test_step(model= model_0,\n",
    "               data_loader= test_dataloader,\n",
    "               loss_fn= loss_fn,\n",
    "               accuracy_fn= accuracy_fn,\n",
    "               device = device )\n",
    "\n",
    "train_time_end_on_cpu = timer()\n",
    "total_train_time_model_0 = print_train_time(start=train_time_start_on_cpu,\n",
    "                 end=train_time_end_on_cpu, \n",
    "                 device = device )"
   ]
  },
  {
   "cell_type": "code",
   "execution_count": 1,
   "id": "a0f18233-490c-4a9d-a9e7-485df9df5ca1",
   "metadata": {},
   "outputs": [
    {
     "ename": "NameError",
     "evalue": "name 'torch' is not defined",
     "output_type": "error",
     "traceback": [
      "\u001b[1;31m---------------------------------------------------------------------------\u001b[0m",
      "\u001b[1;31mNameError\u001b[0m                                 Traceback (most recent call last)",
      "Cell \u001b[1;32mIn[1], line 4\u001b[0m\n\u001b[0;32m      1\u001b[0m \u001b[38;5;28;01mfrom\u001b[39;00m \u001b[38;5;21;01mtqdm\u001b[39;00m\u001b[38;5;21;01m.\u001b[39;00m\u001b[38;5;21;01mauto\u001b[39;00m \u001b[38;5;28;01mimport\u001b[39;00m tqdm\n\u001b[0;32m      3\u001b[0m \u001b[38;5;66;03m# 1. create a train function that takes in various model parameters + optimizer + loss\u001b[39;00m\n\u001b[1;32m----> 4\u001b[0m \u001b[38;5;28;01mdef\u001b[39;00m \u001b[38;5;21mtrain\u001b[39m(model: \u001b[43mtorch\u001b[49m\u001b[38;5;241m.\u001b[39mnn\u001b[38;5;241m.\u001b[39mModule,\n\u001b[0;32m      5\u001b[0m           train_dataloader : torch\u001b[38;5;241m.\u001b[39mutils\u001b[38;5;241m.\u001b[39mdata\u001b[38;5;241m.\u001b[39mDataLoader,\n\u001b[0;32m      6\u001b[0m           test_dataloader : torch\u001b[38;5;241m.\u001b[39mutils\u001b[38;5;241m.\u001b[39mdata\u001b[38;5;241m.\u001b[39mDataLoader,\n\u001b[0;32m      7\u001b[0m           optimizer: torch\u001b[38;5;241m.\u001b[39moptim\u001b[38;5;241m.\u001b[39mOptimizer,\n\u001b[0;32m      8\u001b[0m           loss_fn: torch\u001b[38;5;241m.\u001b[39mnn\u001b[38;5;241m.\u001b[39mModule,\n\u001b[0;32m      9\u001b[0m           accuracy_fn, epochs: \u001b[38;5;28mint\u001b[39m \u001b[38;5;241m=\u001b[39m \u001b[38;5;241m5\u001b[39m):\n\u001b[0;32m     10\u001b[0m     \u001b[38;5;66;03m# 2. Create empty results dictionary\u001b[39;00m\n\u001b[0;32m     11\u001b[0m     results \u001b[38;5;241m=\u001b[39m {\u001b[38;5;124m\"\u001b[39m\u001b[38;5;124mtrain_loss\u001b[39m\u001b[38;5;124m\"\u001b[39m: [],\n\u001b[0;32m     12\u001b[0m                \u001b[38;5;124m\"\u001b[39m\u001b[38;5;124mtrain_acc\u001b[39m\u001b[38;5;124m\"\u001b[39m: [],\n\u001b[0;32m     13\u001b[0m                \u001b[38;5;124m\"\u001b[39m\u001b[38;5;124mtest_loss\u001b[39m\u001b[38;5;124m\"\u001b[39m: [],\n\u001b[0;32m     14\u001b[0m                \u001b[38;5;124m\"\u001b[39m\u001b[38;5;124mtest_acc\u001b[39m\u001b[38;5;124m\"\u001b[39m: []}\n\u001b[0;32m     16\u001b[0m     \u001b[38;5;66;03m# 3. Loop through training and testing steps for a number of epochs\u001b[39;00m\n",
      "\u001b[1;31mNameError\u001b[0m: name 'torch' is not defined"
     ]
    }
   ],
   "source": [
    "from tqdm.auto import tqdm\n",
    "\n",
    "# 1. create a train function that takes in various model parameters + optimizer + loss\n",
    "def train(model: torch.nn.Module,\n",
    "          train_dataloader : torch.utils.data.DataLoader,\n",
    "          test_dataloader : torch.utils.data.DataLoader,\n",
    "          optimizer: torch.optim.Optimizer,\n",
    "          loss_fn: torch.nn.Module,\n",
    "          accuracy_fn, epochs: int = 5):\n",
    "    # 2. Create empty results dictionary\n",
    "    results = {\"train_loss\": [],\n",
    "               \"train_acc\": [],\n",
    "               \"test_loss\": [],\n",
    "               \"test_acc\": []}\n",
    "    \n",
    "    # 3. Loop through training and testing steps for a number of epochs\n",
    "    for epoch in tqdm(range(epochs)):\n",
    "        train_loss, train_acc = train_step(model=model_0,\n",
    "                                          data_loader=train_dataloader,\n",
    "                                          loss_fn=loss_fn,\n",
    "                                          accuracy_fn=accuracy_fn,\n",
    "                                          optimizer=optimizer,\n",
    "                                          device= device)\n",
    "        test_loss, test_acc = test_step(model=model_0,\n",
    "                                          data_loader=test_dataloader,\n",
    "                                          loss_fn=loss_fn,\n",
    "                                          accuracy_fn=accuracy_fn,\n",
    "                                          device= device)\n",
    "        # Print out what' happening\n",
    "        print(f\"Epoch: {epoch} | Train loss: {train_loss:.4f} | Train Accuracy: {train_acc:.4f} | Test loss : {test_loss:.4f}| Test Accuracy:{test_acc:.4f}\")\n",
    "    \n",
    "        # 5. update results dictonary\n",
    "        results[\"train_loss\"].append(train_loss)\n",
    "        results[\"train_acc\"].append(train_acc)\n",
    "        results[\"test_loss\"].append(test_loss)\n",
    "        results[\"test_acc\"].append(test_acc)\n",
    "\n",
    "    # 6. Return the filled results at the end of the epochs\n",
    "    return results\n",
    "        "
   ]
  },
  {
   "cell_type": "markdown",
   "id": "299cdc5d-00d5-45ca-a47d-269462ce1a3d",
   "metadata": {},
   "source": [
    "## 7.7 Train and evaluate model 0\n",
    "\n"
   ]
  },
  {
   "cell_type": "code",
   "execution_count": null,
   "id": "4d8d83e2-418b-40ec-9196-f547a34231b7",
   "metadata": {},
   "outputs": [],
   "source": []
  },
  {
   "cell_type": "code",
   "execution_count": null,
   "id": "bab2a3e0-1326-47f8-a000-1a59da22c8be",
   "metadata": {},
   "outputs": [],
   "source": [
    "# Set random seeds\n",
    "torch.manual_seed(42)\n",
    "torch.cuda.manual_seed(42)\n",
    "\n",
    "# set number of epochs\n",
    "NUM_EPOCHS = 5\n",
    "\n",
    "# Recreate an instnce of TinyVGG\n",
    "model_0 = TinyVGG(input_shape=3, # number of color channels of our target images\n",
    "                  hidden_units=10,\n",
    "                  output_shape=len(train_data.classes)).to(device)\n",
    "\n",
    "# Creating loss function and Optimizer\n",
    "\n",
    "loss_fn = nn.CrossEntropyLoss() # measure how wrong our model is\n",
    "\n",
    "optimizer = torch.optim.Adam(params= model_0.parameters(), lr = 0.001) \n",
    "\n",
    "# Start the timer\n",
    "from timeit import default_timer as timer\n",
    "start_time = timer()\n",
    "\n",
    "# Train model_0\n",
    "model_0_results = train(model=model_0,\n",
    "                       train_dataloader=train_dataloader,\n",
    "                       test_dataloader=test_dataloader,\n",
    "                       optimizer =optimizer,\n",
    "                       loss_fn = loss_fn,\n",
    "                       accuracy_fn=accuracy_fn, \n",
    "                       epochs= NUM_EPOCHS)\n",
    "\n",
    "# End the timer and print out how long it took\n",
    "end_time = timer()\n",
    "print(f\"Total training time: {end_time-start_time:.3f} seconds\")"
   ]
  },
  {
   "cell_type": "code",
   "execution_count": null,
   "id": "6835d8ad-ec8e-4f12-a107-66ea025e093a",
   "metadata": {},
   "outputs": [],
   "source": [
    "# Check the model_0_results keys\n",
    "model_0_results.keys()"
   ]
  },
  {
   "cell_type": "code",
   "execution_count": null,
   "id": "5c444aea-c384-45e6-83c1-4d1c1bf3536e",
   "metadata": {},
   "outputs": [],
   "source": [
    "import os\n",
    "import pathlib\n",
    "import torch\n",
    "\n",
    "from PIL import Image\n",
    "from torch.utils.data import Dataset\n",
    "from torchvision import transforms\n",
    "from typing import Tuple, Dict, List"
   ]
  },
  {
   "cell_type": "code",
   "execution_count": null,
   "id": "33f9b2db-d051-4df8-a443-8a20e9018649",
   "metadata": {},
   "outputs": [],
   "source": [
    "def plot_loss_curves(results: Dict[str, List[float]]):\n",
    "    \"\"\"Plots training curves of a results dictionary.\n",
    "\n",
    "    Args:\n",
    "        results (dict): dictionary containing list of values, e.g.\n",
    "            {\"train_loss\": [...],\n",
    "             \"train_acc\": [...],\n",
    "             \"test_loss\": [...],\n",
    "             \"test_acc\": [...]}\n",
    "    \"\"\"\n",
    "    \n",
    "    # Get the loss values of the results dictionary (training and test)\n",
    "    loss = results['train_loss']\n",
    "    test_loss = results['test_loss']\n",
    "\n",
    "    # Get the accuracy values of the results dictionary (training and test)\n",
    "    accuracy = results['train_acc']\n",
    "    test_accuracy = results['test_acc']\n",
    "\n",
    "    # Figure out how many epochs there were\n",
    "    epochs = range(len(results['train_loss']))\n",
    "\n",
    "    # Setup a plot \n",
    "    plt.figure(figsize=(15, 7))\n",
    "\n",
    "    # Plot loss\n",
    "    plt.subplot(1, 2, 1)\n",
    "    plt.plot(epochs, loss, label='train_loss')\n",
    "    plt.plot(epochs, test_loss, label='test_loss')\n",
    "    plt.title('Loss')\n",
    "    plt.xlabel('Epochs')\n",
    "    plt.legend()\n",
    "\n",
    "    # Plot accuracy\n",
    "    plt.subplot(1, 2, 2)\n",
    "    plt.plot(epochs, accuracy, label='train_accuracy')\n",
    "    plt.plot(epochs, test_accuracy, label='test_accuracy')\n",
    "    plt.title('Accuracy')\n",
    "    plt.xlabel('Epochs')\n",
    "    plt.legend();"
   ]
  },
  {
   "cell_type": "code",
   "execution_count": null,
   "id": "d7ed21a8-1d2f-4f70-9da9-95501d816e44",
   "metadata": {},
   "outputs": [],
   "source": [
    "import matplotlib.pyplot as plt\n",
    "plot_loss_curves(model_0_results);"
   ]
  },
  {
   "cell_type": "code",
   "execution_count": null,
   "id": "c5bcaaf2-858a-4729-8e13-b23c28256d68",
   "metadata": {},
   "outputs": [],
   "source": [
    "# Download custom image\n",
    "import requests\n",
    "\n",
    "# Setup custom image path\n",
    "custom_image_path = data_path / \"04-pizza-dad.jpeg\"\n",
    "\n",
    "# Download the image if it doesn't already exist\n",
    "if not custom_image_path.is_file():\n",
    "    with open(custom_image_path, \"wb\") as f:\n",
    "        # When downloading from GitHub, need to use the \"raw\" file link\n",
    "        request = requests.get(\"https://raw.githubusercontent.com/mrdbourke/pytorch-deep-learning/main/images/04-pizza-dad.jpeg\")\n",
    "        print(f\"Downloading {custom_image_path}...\")\n",
    "        f.write(request.content)\n",
    "else:\n",
    "    print(f\"{custom_image_path} already exists, skipping download.\")"
   ]
  },
  {
   "cell_type": "code",
   "execution_count": null,
   "id": "bdb95228-3c04-4509-b87a-a9a015d1e009",
   "metadata": {},
   "outputs": [],
   "source": [
    "import torchvision\n",
    "\n",
    "# Read in custom image\n",
    "custom_image_uint8 = torchvision.io.read_image(str(custom_image_path))\n",
    "\n",
    "# Print out image data\n",
    "print(f\"Custom image tensor:\\n{custom_image_uint8}\\n\")\n",
    "print(f\"Custom image shape: {custom_image_uint8.shape}\\n\")\n",
    "print(f\"Custom image dtype: {custom_image_uint8.dtype}\")"
   ]
  },
  {
   "cell_type": "code",
   "execution_count": null,
   "id": "96dd5b2b-2be9-4b89-9ebb-1d353737d2f0",
   "metadata": {},
   "outputs": [],
   "source": [
    "\n",
    "# Try to make a prediction on image in uint8 format (this will error)\n",
    "model_0.eval()\n",
    "with torch.inference_mode():\n",
    "    model_0(custom_image_uint8.to(device))"
   ]
  },
  {
   "cell_type": "code",
   "execution_count": null,
   "id": "3e21470c-c743-417a-be20-1953eebe07b8",
   "metadata": {},
   "outputs": [],
   "source": [
    "# Load in custom image and convert the tensor values to float32\n",
    "custom_image = torchvision.io.read_image(str(custom_image_path)).type(torch.float32)\n",
    "\n",
    "# Divide the image pixel values by 255 to get them between [0, 1]\n",
    "custom_image = custom_image / 255. \n",
    "\n",
    "# Print out image data\n",
    "print(f\"Custom image tensor:\\n{custom_image}\\n\")\n",
    "print(f\"Custom image shape: {custom_image.shape}\\n\")\n",
    "print(f\"Custom image dtype: {custom_image.dtype}\")"
   ]
  },
  {
   "cell_type": "code",
   "execution_count": null,
   "id": "1188a320-423b-4114-8a5d-e234268bf3d4",
   "metadata": {},
   "outputs": [],
   "source": [
    "# Plot custom image\n",
    "plt.imshow(custom_image.permute(1, 2, 0)) # need to permute image dimensions from CHW -> HWC otherwise matplotlib will error\n",
    "plt.title(f\"Image shape: {custom_image.shape}\")\n",
    "plt.axis(False);"
   ]
  },
  {
   "cell_type": "code",
   "execution_count": null,
   "id": "60199581-6f85-4100-a09d-ca9053ccd9df",
   "metadata": {},
   "outputs": [],
   "source": [
    "# Create transform pipleine to resize image\n",
    "custom_image_transform = transforms.Compose([\n",
    "    transforms.Resize((64, 64)),\n",
    "])\n",
    "\n",
    "# Transform target image\n",
    "custom_image_transformed = custom_image_transform(custom_image)\n",
    "\n",
    "# Print out original shape and new shape\n",
    "print(f\"Original shape: {custom_image.shape}\")\n",
    "print(f\"New shape: {custom_image_transformed.shape}\")"
   ]
  },
  {
   "cell_type": "code",
   "execution_count": null,
   "id": "161dfb8b-00fb-4c63-b90c-16ac6ff22975",
   "metadata": {},
   "outputs": [],
   "source": [
    "def pred_and_plot_image(model: torch.nn.Module, \n",
    "                        image_path: str, \n",
    "                        class_names: List[str] = None, \n",
    "                        transform=None,\n",
    "                        device: torch.device = device):\n",
    "    \"\"\"Makes a prediction on a target image and plots the image with its prediction.\"\"\"\n",
    "    \n",
    "    # 1. Load in image and convert the tensor values to float32\n",
    "    target_image = torchvision.io.read_image(str(image_path)).type(torch.float32)\n",
    "    \n",
    "    # 2. Divide the image pixel values by 255 to get them between [0, 1]\n",
    "    target_image = target_image / 255. \n",
    "    \n",
    "    # 3. Transform if necessary\n",
    "    if transform:\n",
    "        target_image = transform(target_image)\n",
    "    \n",
    "    # 4. Make sure the model is on the target device\n",
    "    model.to(device)\n",
    "    \n",
    "    # 5. Turn on model evaluation mode and inference mode\n",
    "    model.eval()\n",
    "    with torch.inference_mode():\n",
    "        # Add an extra dimension to the image\n",
    "        target_image = target_image.unsqueeze(dim=0)\n",
    "    \n",
    "        # Make a prediction on image with an extra dimension and send it to the target device\n",
    "        target_image_pred = model(target_image.to(device))\n",
    "        \n",
    "    # 6. Convert logits -> prediction probabilities (using torch.softmax() for multi-class classification)\n",
    "    target_image_pred_probs = torch.softmax(target_image_pred, dim=1)\n",
    "\n",
    "    # 7. Convert prediction probabilities -> prediction labels\n",
    "    target_image_pred_label = torch.argmax(target_image_pred_probs, dim=1)\n",
    "    \n",
    "    # 8. Plot the image alongside the prediction and prediction probability\n",
    "    plt.imshow(target_image.squeeze().permute(1, 2, 0)) # make sure it's the right size for matplotlib\n",
    "    if class_names:\n",
    "        title = f\"Pred: {class_names[target_image_pred_label.cpu()]} | Prob: {target_image_pred_probs.max().cpu():.3f}\"\n",
    "    else: \n",
    "        title = f\"Pred: {target_image_pred_label} | Prob: {target_image_pred_probs.max().cpu():.3f}\"\n",
    "    plt.title(title)\n",
    "    plt.axis(False);"
   ]
  },
  {
   "cell_type": "code",
   "execution_count": null,
   "id": "d3ddd4fa-7fa8-4f55-8e71-3d8b6bffe6a4",
   "metadata": {},
   "outputs": [],
   "source": [
    "# Pred on our custom image\n",
    "pred_and_plot_image(model=model_0,\n",
    "                    image_path=custom_image_path,\n",
    "                    class_names=class_names,\n",
    "                    transform=custom_image_transform,\n",
    "                    device=device)"
   ]
  },
  {
   "cell_type": "code",
   "execution_count": null,
   "id": "f796052b-9003-460c-a7d2-293b00716932",
   "metadata": {},
   "outputs": [],
   "source": []
  }
 ],
 "metadata": {
  "kernelspec": {
   "display_name": "Python 3 (ipykernel)",
   "language": "python",
   "name": "python3"
  },
  "language_info": {
   "codemirror_mode": {
    "name": "ipython",
    "version": 3
   },
   "file_extension": ".py",
   "mimetype": "text/x-python",
   "name": "python",
   "nbconvert_exporter": "python",
   "pygments_lexer": "ipython3",
   "version": "3.9.18"
  }
 },
 "nbformat": 4,
 "nbformat_minor": 5
}
