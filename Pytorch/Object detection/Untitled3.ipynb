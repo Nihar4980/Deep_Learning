{
 "cells": [
  {
   "cell_type": "code",
   "execution_count": 4,
   "id": "a954e92e-393d-485a-a5d1-a90c17afc38e",
   "metadata": {},
   "outputs": [],
   "source": [
    "import torch\n",
    "import torch.nn as nn"
   ]
  },
  {
   "cell_type": "code",
   "execution_count": 24,
   "id": "496efabe-aa6c-42bc-beb6-594a750b48d1",
   "metadata": {},
   "outputs": [],
   "source": [
    "conv = nn.Conv2d(64, 12, kernel_size=4, stride=1, groups=4)\n",
    "conv1 = nn.Conv2d(12, 12, kernel_size=1, stride=1, groups=1)"
   ]
  },
  {
   "cell_type": "code",
   "execution_count": 25,
   "id": "b2c1008d-8991-4f7b-a048-33a59c619ee5",
   "metadata": {},
   "outputs": [
    {
     "data": {
      "text/plain": [
       "torch.Size([1, 12, 221, 221])"
      ]
     },
     "execution_count": 25,
     "metadata": {},
     "output_type": "execute_result"
    }
   ],
   "source": [
    "x = torch.randn(1,64,224,224)\n",
    "conv1(conv(x)).shape"
   ]
  },
  {
   "cell_type": "code",
   "execution_count": null,
   "id": "abbc5792-761d-4524-bb9f-fdb2ef5b3607",
   "metadata": {},
   "outputs": [],
   "source": []
  }
 ],
 "metadata": {
  "kernelspec": {
   "display_name": "Python 3 (ipykernel)",
   "language": "python",
   "name": "python3"
  },
  "language_info": {
   "codemirror_mode": {
    "name": "ipython",
    "version": 3
   },
   "file_extension": ".py",
   "mimetype": "text/x-python",
   "name": "python",
   "nbconvert_exporter": "python",
   "pygments_lexer": "ipython3",
   "version": "3.9.18"
  }
 },
 "nbformat": 4,
 "nbformat_minor": 5
}
