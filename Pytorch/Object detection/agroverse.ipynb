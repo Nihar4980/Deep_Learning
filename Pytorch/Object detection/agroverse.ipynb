{
 "cells": [
  {
   "cell_type": "code",
   "execution_count": 2,
   "id": "c2920e92-a1c9-4928-bb67-52ab78b804ae",
   "metadata": {},
   "outputs": [],
   "source": [
    "# importing the zipfile module \n",
    "from zipfile import ZipFile \n",
    "  "
   ]
  },
  {
   "cell_type": "code",
   "execution_count": 4,
   "id": "70672d15-01aa-466a-af32-a7f2e70dbdf8",
   "metadata": {},
   "outputs": [],
   "source": [
    "with ZipFile(\"Data/Argoverse-HD-Full.zip\", 'r')as Object:\n",
    "    Object.extractall(path=\"Datasets\") \n",
    "Object.close() "
   ]
  },
  {
   "cell_type": "code",
   "execution_count": 39,
   "id": "8cadfd31-b3e6-4f2a-833c-1a325a48e04f",
   "metadata": {},
   "outputs": [
    {
     "name": "stdout",
     "output_type": "stream",
     "text": [
      "Renamed /home/nihar22951/Datasets/Agroverse/Argoverse-1.1/tracking to /home/nihar22951/Datasets/Agroverse/Argoverse-1.1/images\n"
     ]
    }
   ],
   "source": [
    "import os\n",
    "from pathlib import Path\n",
    "import json\n",
    "\n",
    "dataset_root = Path(r\"/home/nihar22951/Datasets/Agroverse\") #Or whatever your root path is.\n",
    "\n",
    "images_dir = dataset_root / \"Argoverse-1.1\" / \"images\"\n",
    "tracking_dir = dataset_root / \"Argoverse-1.1\" / \"tracking\"\n",
    "\n",
    "if tracking_dir.exists():\n",
    "    os.rename(tracking_dir, images_dir)\n",
    "    print(f\"Renamed {tracking_dir} to {images_dir}\")\n",
    "else:\n",
    "    print(f\"Warning: {tracking_dir} not found. Skipping rename.\")"
   ]
  },
  {
   "cell_type": "code",
   "execution_count": 34,
   "id": "1139f165-e663-4724-8a7d-e61df18c44d0",
   "metadata": {},
   "outputs": [],
   "source": [
    "# import cv2\n",
    "# import matplotlib.pyplot as plt\n",
    "# from pathlib import Path\n",
    "\n",
    "# def plot_image_with_boxes(image_path, label_path, img_width=1920, img_height=1200):\n",
    "#     \"\"\"Load an image and plot YOLO bounding boxes on it.\"\"\"\n",
    "    \n",
    "#     # Read image\n",
    "#     image = cv2.imread(str(image_path))\n",
    "#     image = cv2.cvtColor(image, cv2.COLOR_BGR2RGB)   # Convert BGR to RGB\n",
    "\n",
    "#     # Read YOLO labels\n",
    "#     if not Path(label_path).exists():\n",
    "#         print(f\"Label file {label_path} not found!\")\n",
    "#         return\n",
    "\n",
    "#     with open(label_path, \"r\") as f:\n",
    "#         lines = f.readlines()\n",
    "\n",
    "#     # Draw bounding boxes\n",
    "#     for line in lines:\n",
    "#         data = line.strip().split()\n",
    "#         cls, x_center, y_center, width, height = map(float, data)\n",
    "\n",
    "#         # Convert YOLO format (normalized) to pixel coordinates\n",
    "#         x_center *= img_width\n",
    "#         y_center *= img_height\n",
    "#         width *= img_width\n",
    "#         height *= img_height\n",
    "\n",
    "#         x_min = int(x_center - width / 2)\n",
    "#         y_min = int(y_center - height / 2)\n",
    "#         x_max = int(x_center + width / 2)\n",
    "#         y_max = int(y_center + height / 2)\n",
    "\n",
    "#         # Draw rectangle and label\n",
    "#         cv2.rectangle(image, (x_min, y_min), (x_max, y_max), (255, 0, 0), 3)\n",
    "#         cv2.putText(image, f\"Class {int(cls)}\", (x_min, y_min - 10),\n",
    "#                     cv2.FONT_HERSHEY_SIMPLEX, 0.6, (255, 0, 0), 2)\n",
    "\n",
    "#     # Show image with bounding boxes\n",
    "#     plt.figure(figsize=(10, 6))\n",
    "#     plt.imshow(image)\n",
    "#     plt.axis(\"off\")\n",
    "#     plt.show()\n",
    "\n",
    "# # Example usage\n",
    "# image_path = r\"/home/nihar22951/Datasets/Agroverse/Argoverse-1.1/images/train/0ef28d5c-ae34-370b-99e7-6709e1c4b929/ring_front_center/ring_front_center_315969338033780896.jpg\"\n",
    "# label_path = r\"/home/nihar22951/Datasets/Agroverse/Argoverse-1.1/labels/train/0ef28d5c-ae34-370b-99e7-6709e1c4b929/ring_front_center/ring_front_center_315969338033780896.txt\"\n",
    "# #label_path1 = \"D:/Object detction/datasets/Agroverse/Argoverse-HD/Argoverse-1.1/labels/train/0ef28d5c-ae34-370b-99e7-6709e1c4b929/ring_front_center/ring_front_center_315969338033780896.txt\"\n",
    "# plot_image_with_boxes(image_path, label_path)"
   ]
  },
  {
   "cell_type": "code",
   "execution_count": 13,
   "id": "15b7166d-0f77-439c-b217-b5baf87bb1f1",
   "metadata": {},
   "outputs": [],
   "source": [
    "a = json.load(open(\"/home/nihar22951/Online_detection/Online_detection/Datasets/Agroverse/Argoverse-HD/annotations/train.json\",\"rb\"))"
   ]
  },
  {
   "cell_type": "code",
   "execution_count": 18,
   "id": "b235afb1-257d-4d2f-b588-9118a9da6a3e",
   "metadata": {},
   "outputs": [],
   "source": [
    "path = Path(\"/home/nihar22951/Online_detection/Online_detection/Datasets/Agroverse/Argoverse-HD/annotations/train.json\")"
   ]
  },
  {
   "cell_type": "code",
   "execution_count": 22,
   "id": "d2a2e37c-9fd7-476c-93b1-9d724726d745",
   "metadata": {},
   "outputs": [
    {
     "data": {
      "text/plain": [
       "PosixPath('/home/nihar22951/Online_detection/Online_detection/Datasets/Agroverse')"
      ]
     },
     "execution_count": 22,
     "metadata": {},
     "output_type": "execute_result"
    }
   ],
   "source": [
    "path.parents[2]"
   ]
  },
  {
   "cell_type": "code",
   "execution_count": 1,
   "id": "545d46c7-db11-4a59-8f35-2942c1d8efda",
   "metadata": {},
   "outputs": [],
   "source": [
    "import os\n",
    "from pathlib import Path\n",
    "import json\n",
    "from tqdm import tqdm\n",
    "\n",
    "def argoverse2yolo(set):\n",
    "      \"\"\"Convert Argoverse dataset annotations to YOLO format for object detection tasks.\"\"\"\n",
    "      labels = {}\n",
    "      a = json.load(open(set, \"rb\"))\n",
    "      for annot in tqdm(a[\"annotations\"], desc=f\"Converting {set} to YOLOv5 format...\"):\n",
    "          img_id = annot[\"image_id\"]\n",
    "          img_name = a[\"images\"][img_id][\"name\"]\n",
    "          img_label_name = f\"{img_name[:-3]}txt\"\n",
    "\n",
    "          cls = annot[\"category_id\"]  # instance class id\n",
    "          x_center, y_center, width, height = annot[\"bbox\"]\n",
    "          # x_center = (x_center + width / 2) / 1920.0  # offset and scale\n",
    "          # y_center = (y_center + height / 2) / 1200.0  # offset and scale\n",
    "          # width /= 1920.0  # scale\n",
    "          # height /= 1200.0  # scale\n",
    "\n",
    "          img_dir = set.parents[2] / \"Argoverse-1.1\" / \"labels\" / a[\"seq_dirs\"][a[\"images\"][annot[\"image_id\"]][\"sid\"]]\n",
    "          if not img_dir.exists():\n",
    "              img_dir.mkdir(parents=True, exist_ok=True)\n",
    "\n",
    "          k = str(img_dir / img_label_name)\n",
    "          if k not in labels:\n",
    "              labels[k] = []\n",
    "          labels[k].append(f\"{cls} {x_center} {y_center} {width} {height}\\n\")\n",
    "\n",
    "      for k in labels:\n",
    "          with open(k, \"w\", encoding=\"utf-8\") as f:\n",
    "              f.writelines(labels[k])"
   ]
  },
  {
   "cell_type": "code",
   "execution_count": 2,
   "id": "bfbcd0c7-5881-4fcc-b47e-c19232acd9e1",
   "metadata": {},
   "outputs": [
    {
     "name": "stderr",
     "output_type": "stream",
     "text": [
      "Converting /home/nihar22951/Online_detection/Online_detection/Datasets/Agroverse/Argoverse-HD/annotations/train.json to YOLOv5 format...: 100%|██████████| 771774/771774 [00:12<00:00, 61659.12it/s]\n",
      "Converting /home/nihar22951/Online_detection/Online_detection/Datasets/Agroverse/Argoverse-HD/annotations/val.json to YOLOv5 format...: 100%|██████████| 253941/253941 [00:04<00:00, 61729.95it/s]\n"
     ]
    }
   ],
   "source": [
    "path = \"/home/nihar22951/Online_detection/Online_detection/Datasets/Agroverse\"\n",
    "dir = Path(path) \n",
    "# Convert\n",
    "annotations_dir = \"Argoverse-HD/annotations/\"\n",
    "for d in \"train.json\", \"val.json\":\n",
    "    argoverse2yolo(dir / annotations_dir / d)  # convert Argoverse annotations to YOLO labels\n",
    "\n"
   ]
  },
  {
   "cell_type": "code",
   "execution_count": 36,
   "id": "00039f09-3737-4e1a-ba36-7713bb16e368",
   "metadata": {},
   "outputs": [],
   "source": [
    "a = json.load(open(\"/home/nihar22951/Online_detection/Online_detection/Datasets/Agroverse/Argoverse-HD/annotations/train.json\",\"rb\"))"
   ]
  },
  {
   "cell_type": "code",
   "execution_count": 53,
   "id": "052d0d0f-f4cb-42fd-960b-355756ef1ac5",
   "metadata": {},
   "outputs": [
    {
     "data": {
      "text/plain": [
       "[{'id': 0, 'name': 'person'},\n",
       " {'id': 1, 'name': 'bicycle'},\n",
       " {'id': 2, 'name': 'car'},\n",
       " {'id': 3, 'name': 'motorcycle'},\n",
       " {'id': 4, 'name': 'bus'},\n",
       " {'id': 5, 'name': 'truck'},\n",
       " {'id': 6, 'name': 'traffic_light'},\n",
       " {'id': 7, 'name': 'stop_sign'}]"
      ]
     },
     "execution_count": 53,
     "metadata": {},
     "output_type": "execute_result"
    }
   ],
   "source": []
  },
  {
   "cell_type": "code",
   "execution_count": 6,
   "id": "eaf4151f-f453-4420-a191-5659167f0ba7",
   "metadata": {},
   "outputs": [
    {
     "data": {
      "text/plain": [
       "9"
      ]
     },
     "execution_count": 6,
     "metadata": {},
     "output_type": "execute_result"
    }
   ],
   "source": [
    "int(9.9)"
   ]
  },
  {
   "cell_type": "code",
   "execution_count": 7,
   "id": "10e4f1a7-c423-483a-830b-663f938c23bd",
   "metadata": {},
   "outputs": [
    {
     "data": {
      "text/plain": [
       "10"
      ]
     },
     "execution_count": 7,
     "metadata": {},
     "output_type": "execute_result"
    }
   ],
   "source": [
    "round(9.9)"
   ]
  },
  {
   "cell_type": "code",
   "execution_count": 8,
   "id": "cebe4de9-d6dd-4e9e-92aa-7cc5de3b506b",
   "metadata": {},
   "outputs": [
    {
     "data": {
      "text/plain": [
       "9"
      ]
     },
     "execution_count": 8,
     "metadata": {},
     "output_type": "execute_result"
    }
   ],
   "source": [
    "round(9.1)"
   ]
  },
  {
   "cell_type": "code",
   "execution_count": 10,
   "id": "60472fc8-95c2-4e06-8c11-04bb1206599c",
   "metadata": {},
   "outputs": [
    {
     "data": {
      "text/plain": [
       "int"
      ]
     },
     "execution_count": 10,
     "metadata": {},
     "output_type": "execute_result"
    }
   ],
   "source": [
    "type(round(9.5))"
   ]
  },
  {
   "cell_type": "code",
   "execution_count": null,
   "id": "8dc2f204-9707-445f-809a-445a460c584c",
   "metadata": {},
   "outputs": [],
   "source": []
  }
 ],
 "metadata": {
  "kernelspec": {
   "display_name": "nihar22951_environment",
   "language": "python",
   "name": "nihar22951_environment"
  },
  "language_info": {
   "codemirror_mode": {
    "name": "ipython",
    "version": 3
   },
   "file_extension": ".py",
   "mimetype": "text/x-python",
   "name": "python",
   "nbconvert_exporter": "python",
   "pygments_lexer": "ipython3",
   "version": "3.10.16"
  }
 },
 "nbformat": 4,
 "nbformat_minor": 5
}
