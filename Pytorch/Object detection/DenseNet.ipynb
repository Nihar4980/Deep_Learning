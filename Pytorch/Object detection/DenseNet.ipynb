{
 "cells": [
  {
   "cell_type": "code",
   "execution_count": 1,
   "id": "84bddd73-e222-4a47-9972-5fe626a681fe",
   "metadata": {},
   "outputs": [],
   "source": [
    "import torch\n",
    "import torch.nn as nn"
   ]
  },
  {
   "cell_type": "code",
   "execution_count": 2,
   "id": "d5a1e68b-ec11-4182-a974-7768091f523f",
   "metadata": {},
   "outputs": [],
   "source": [
    "import torch\n",
    "import torch.nn as nn\n",
    "import torch.nn.functional as F\n",
    "\n",
    "class DenseLayer(nn.Module):\n",
    "    def __init__(self, in_channels, growth_rate):\n",
    "        super(DenseLayer, self).__init__()\n",
    "        self.bn = nn.BatchNorm2d(growth_rate)\n",
    "        self.relu = nn.ReLU(inplace=True)\n",
    "        self.conv = nn.Conv2d(in_channels, growth_rate, kernel_size=3, padding=1, bias=False)\n",
    "        \n",
    "    def forward(self, x):\n",
    "        out = self.relu(self.bn(self.conv(x)))\n",
    "        return torch.cat([x, out], 1)"
   ]
  },
  {
   "cell_type": "code",
   "execution_count": 3,
   "id": "9342e4ed-8fca-42f9-8b6f-67019e3b161f",
   "metadata": {},
   "outputs": [],
   "source": [
    "class DenseBlock(nn.Module):\n",
    "    def __init__(self, num_layers, in_channels, growth_rate):\n",
    "        super(DenseBlock, self).__init__()\n",
    "        self.layers = nn.ModuleList([\n",
    "            DenseLayer(in_channels + i * growth_rate, growth_rate) \n",
    "            for i in range(num_layers)\n",
    "        ])\n",
    "        \n",
    "    def forward(self, x):\n",
    "        for layer in self.layers:\n",
    "            print(layer)\n",
    "            x = layer(x)\n",
    "        return x\n"
   ]
  },
  {
   "cell_type": "code",
   "execution_count": 4,
   "id": "ce14e565-5621-4eb5-b53b-588b6a48dd7c",
   "metadata": {},
   "outputs": [
    {
     "data": {
      "text/plain": [
       "torch.Size([1, 3, 224, 224])"
      ]
     },
     "execution_count": 4,
     "metadata": {},
     "output_type": "execute_result"
    }
   ],
   "source": [
    "x = torch.randn(1, 3, 224, 224)\n",
    "x.shape"
   ]
  },
  {
   "cell_type": "code",
   "execution_count": 5,
   "id": "6108b0f0-3c97-4380-98e2-838cd3b21032",
   "metadata": {},
   "outputs": [
    {
     "name": "stdout",
     "output_type": "stream",
     "text": [
      "DenseLayer(\n",
      "  (bn): BatchNorm2d(12, eps=1e-05, momentum=0.1, affine=True, track_running_stats=True)\n",
      "  (relu): ReLU(inplace=True)\n",
      "  (conv): Conv2d(3, 12, kernel_size=(3, 3), stride=(1, 1), padding=(1, 1), bias=False)\n",
      ")\n",
      "DenseLayer(\n",
      "  (bn): BatchNorm2d(12, eps=1e-05, momentum=0.1, affine=True, track_running_stats=True)\n",
      "  (relu): ReLU(inplace=True)\n",
      "  (conv): Conv2d(15, 12, kernel_size=(3, 3), stride=(1, 1), padding=(1, 1), bias=False)\n",
      ")\n",
      "DenseLayer(\n",
      "  (bn): BatchNorm2d(12, eps=1e-05, momentum=0.1, affine=True, track_running_stats=True)\n",
      "  (relu): ReLU(inplace=True)\n",
      "  (conv): Conv2d(27, 12, kernel_size=(3, 3), stride=(1, 1), padding=(1, 1), bias=False)\n",
      ")\n",
      "DenseLayer(\n",
      "  (bn): BatchNorm2d(12, eps=1e-05, momentum=0.1, affine=True, track_running_stats=True)\n",
      "  (relu): ReLU(inplace=True)\n",
      "  (conv): Conv2d(39, 12, kernel_size=(3, 3), stride=(1, 1), padding=(1, 1), bias=False)\n",
      ")\n"
     ]
    },
    {
     "data": {
      "text/plain": [
       "torch.Size([1, 51, 224, 224])"
      ]
     },
     "execution_count": 5,
     "metadata": {},
     "output_type": "execute_result"
    }
   ],
   "source": [
    "model = DenseBlock(4,3,12)\n",
    "out = model(x)\n",
    "out.shape"
   ]
  },
  {
   "cell_type": "code",
   "execution_count": 6,
   "id": "c116c1f5-9e4c-4cc9-a09d-a9522bbad80a",
   "metadata": {},
   "outputs": [],
   "source": [
    "import torch.nn.functional as F\n",
    "class TransitionLayer(nn.Module):\n",
    "    def __init__(self, in_channels, out_channels):\n",
    "        super(TransitionLayer, self).__init__()\n",
    "        self.bn = nn.BatchNorm2d(out_channels)\n",
    "        self.relu = nn.ReLU(inplace=True)\n",
    "        self.conv = nn.Conv2d(in_channels, out_channels, kernel_size=1, stride=1, bias=False)\n",
    "        self.pool = nn.AvgPool2d(kernel_size=2, stride=2)\n",
    "    \n",
    "    def forward(self, x):\n",
    "        x = self.pool(self.relu(self.bn(self.conv(x))))\n",
    "        return x\n"
   ]
  },
  {
   "cell_type": "code",
   "execution_count": 7,
   "id": "4175c94a-6895-41ab-bd5d-e6172247d08e",
   "metadata": {},
   "outputs": [
    {
     "data": {
      "text/plain": [
       "torch.Size([1, 6, 112, 112])"
      ]
     },
     "execution_count": 7,
     "metadata": {},
     "output_type": "execute_result"
    }
   ],
   "source": [
    "model = TransitionLayer(3, 6)\n",
    "out =model(x)\n",
    "out.shape"
   ]
  },
  {
   "cell_type": "code",
   "execution_count": 8,
   "id": "152914da-b77d-4a18-99c9-1bab98bf6a2a",
   "metadata": {},
   "outputs": [],
   "source": [
    "class DenseNet(nn.Module):\n",
    "    def __init__(self, growth_rate = 32, block_config=[6, 12, 24, 16], num_init_features=64, bn_size=4, num_classes=1000 ):\n",
    "        super(DenseNet, self).__init__()\n",
    "\n",
    "        # Initial Convolution\n",
    "        self.conv1 = nn.Conv2d(3, num_init_features, kernel_size=7, stride=2, padding=3, bias=False)\n",
    "        self.bn1 = nn.BatchNorm2d(num_init_features)\n",
    "        self.relu = nn.ReLU(inplace=True)\n",
    "        self.pool1 = nn.MaxPool2d(kernel_size=3, stride=2, padding=1)\n",
    "\n",
    "        # Dense Blocks and Trasition Layers\n",
    "        num_features = num_init_features\n",
    "        self.layers = nn.ModuleList()\n",
    "        for i, num_layers in enumerate(block_config):\n",
    "            block = DenseBlock(num_layers, num_features, growth_rate)\n",
    "            self.layers.append(block)\n",
    "            num_features += num_layers * growth_rate\n",
    "\n",
    "            if i != len(block_config) - 1:\n",
    "                self.layers.append(TransitionLayer(num_features, num_features//2))\n",
    "                num_features = num_features // 2\n",
    "            \n",
    "        # Final Batch Norm Layer\n",
    "        self.bn2 = nn.BatchNorm2d(num_features)\n",
    "        \n",
    "        # Fully Connected Layer for Classification\n",
    "        self.fc = nn.Linear(num_features, num_classes)\n",
    "\n",
    "    def forward(self, x):\n",
    "\n",
    "        x = self.pool1(self.relu(self.bn1(self.conv1(x))))\n",
    "\n",
    "        # Pass through the dense blocks and transition layers\n",
    "        for layer in self.layers:\n",
    "            x = layer(x)\n",
    "\n",
    "        # Final batch normalization and global average pooling\n",
    "        x = self.relu(self.bn2(x))\n",
    "        print(x.shape)\n",
    "        x = nn.AdaptiveAvgPool2d(1)(x)  # Global Average Pooling\n",
    "\n",
    "        # Flatten and pass through the fully connected layer\n",
    "        x = x.view(x.size(0), -1)\n",
    "        x = self.fc(x)\n",
    "\n",
    "        return x\n",
    "        "
   ]
  },
  {
   "cell_type": "code",
   "execution_count": 9,
   "id": "d4567986-8347-4978-9d7a-57ded36985b0",
   "metadata": {},
   "outputs": [],
   "source": [
    "block = {'DenseNet121':[6,12,24,16],\n",
    "         'DenseNet169':[6,12,32,32],\n",
    "         'DenseNet201':[6,12,48,32],\n",
    "         'DenseNet264':[6,12,64,48]\n",
    "        }\n",
    "         "
   ]
  },
  {
   "cell_type": "code",
   "execution_count": 10,
   "id": "1a721aa4-9c38-4ad9-9286-06082212b1d4",
   "metadata": {},
   "outputs": [
    {
     "name": "stdout",
     "output_type": "stream",
     "text": [
      "DenseNet(\n",
      "  (conv1): Conv2d(3, 64, kernel_size=(7, 7), stride=(2, 2), padding=(3, 3), bias=False)\n",
      "  (bn1): BatchNorm2d(64, eps=1e-05, momentum=0.1, affine=True, track_running_stats=True)\n",
      "  (relu): ReLU(inplace=True)\n",
      "  (pool1): MaxPool2d(kernel_size=3, stride=2, padding=1, dilation=1, ceil_mode=False)\n",
      "  (layers): ModuleList(\n",
      "    (0): DenseBlock(\n",
      "      (layers): ModuleList(\n",
      "        (0): DenseLayer(\n",
      "          (bn): BatchNorm2d(32, eps=1e-05, momentum=0.1, affine=True, track_running_stats=True)\n",
      "          (relu): ReLU(inplace=True)\n",
      "          (conv): Conv2d(64, 32, kernel_size=(3, 3), stride=(1, 1), padding=(1, 1), bias=False)\n",
      "        )\n",
      "        (1): DenseLayer(\n",
      "          (bn): BatchNorm2d(32, eps=1e-05, momentum=0.1, affine=True, track_running_stats=True)\n",
      "          (relu): ReLU(inplace=True)\n",
      "          (conv): Conv2d(96, 32, kernel_size=(3, 3), stride=(1, 1), padding=(1, 1), bias=False)\n",
      "        )\n",
      "        (2): DenseLayer(\n",
      "          (bn): BatchNorm2d(32, eps=1e-05, momentum=0.1, affine=True, track_running_stats=True)\n",
      "          (relu): ReLU(inplace=True)\n",
      "          (conv): Conv2d(128, 32, kernel_size=(3, 3), stride=(1, 1), padding=(1, 1), bias=False)\n",
      "        )\n",
      "        (3): DenseLayer(\n",
      "          (bn): BatchNorm2d(32, eps=1e-05, momentum=0.1, affine=True, track_running_stats=True)\n",
      "          (relu): ReLU(inplace=True)\n",
      "          (conv): Conv2d(160, 32, kernel_size=(3, 3), stride=(1, 1), padding=(1, 1), bias=False)\n",
      "        )\n",
      "        (4): DenseLayer(\n",
      "          (bn): BatchNorm2d(32, eps=1e-05, momentum=0.1, affine=True, track_running_stats=True)\n",
      "          (relu): ReLU(inplace=True)\n",
      "          (conv): Conv2d(192, 32, kernel_size=(3, 3), stride=(1, 1), padding=(1, 1), bias=False)\n",
      "        )\n",
      "        (5): DenseLayer(\n",
      "          (bn): BatchNorm2d(32, eps=1e-05, momentum=0.1, affine=True, track_running_stats=True)\n",
      "          (relu): ReLU(inplace=True)\n",
      "          (conv): Conv2d(224, 32, kernel_size=(3, 3), stride=(1, 1), padding=(1, 1), bias=False)\n",
      "        )\n",
      "      )\n",
      "    )\n",
      "    (1): TransitionLayer(\n",
      "      (bn): BatchNorm2d(128, eps=1e-05, momentum=0.1, affine=True, track_running_stats=True)\n",
      "      (relu): ReLU(inplace=True)\n",
      "      (conv): Conv2d(256, 128, kernel_size=(1, 1), stride=(1, 1), bias=False)\n",
      "      (pool): AvgPool2d(kernel_size=2, stride=2, padding=0)\n",
      "    )\n",
      "    (2): DenseBlock(\n",
      "      (layers): ModuleList(\n",
      "        (0): DenseLayer(\n",
      "          (bn): BatchNorm2d(32, eps=1e-05, momentum=0.1, affine=True, track_running_stats=True)\n",
      "          (relu): ReLU(inplace=True)\n",
      "          (conv): Conv2d(128, 32, kernel_size=(3, 3), stride=(1, 1), padding=(1, 1), bias=False)\n",
      "        )\n",
      "        (1): DenseLayer(\n",
      "          (bn): BatchNorm2d(32, eps=1e-05, momentum=0.1, affine=True, track_running_stats=True)\n",
      "          (relu): ReLU(inplace=True)\n",
      "          (conv): Conv2d(160, 32, kernel_size=(3, 3), stride=(1, 1), padding=(1, 1), bias=False)\n",
      "        )\n",
      "        (2): DenseLayer(\n",
      "          (bn): BatchNorm2d(32, eps=1e-05, momentum=0.1, affine=True, track_running_stats=True)\n",
      "          (relu): ReLU(inplace=True)\n",
      "          (conv): Conv2d(192, 32, kernel_size=(3, 3), stride=(1, 1), padding=(1, 1), bias=False)\n",
      "        )\n",
      "        (3): DenseLayer(\n",
      "          (bn): BatchNorm2d(32, eps=1e-05, momentum=0.1, affine=True, track_running_stats=True)\n",
      "          (relu): ReLU(inplace=True)\n",
      "          (conv): Conv2d(224, 32, kernel_size=(3, 3), stride=(1, 1), padding=(1, 1), bias=False)\n",
      "        )\n",
      "        (4): DenseLayer(\n",
      "          (bn): BatchNorm2d(32, eps=1e-05, momentum=0.1, affine=True, track_running_stats=True)\n",
      "          (relu): ReLU(inplace=True)\n",
      "          (conv): Conv2d(256, 32, kernel_size=(3, 3), stride=(1, 1), padding=(1, 1), bias=False)\n",
      "        )\n",
      "        (5): DenseLayer(\n",
      "          (bn): BatchNorm2d(32, eps=1e-05, momentum=0.1, affine=True, track_running_stats=True)\n",
      "          (relu): ReLU(inplace=True)\n",
      "          (conv): Conv2d(288, 32, kernel_size=(3, 3), stride=(1, 1), padding=(1, 1), bias=False)\n",
      "        )\n",
      "        (6): DenseLayer(\n",
      "          (bn): BatchNorm2d(32, eps=1e-05, momentum=0.1, affine=True, track_running_stats=True)\n",
      "          (relu): ReLU(inplace=True)\n",
      "          (conv): Conv2d(320, 32, kernel_size=(3, 3), stride=(1, 1), padding=(1, 1), bias=False)\n",
      "        )\n",
      "        (7): DenseLayer(\n",
      "          (bn): BatchNorm2d(32, eps=1e-05, momentum=0.1, affine=True, track_running_stats=True)\n",
      "          (relu): ReLU(inplace=True)\n",
      "          (conv): Conv2d(352, 32, kernel_size=(3, 3), stride=(1, 1), padding=(1, 1), bias=False)\n",
      "        )\n",
      "        (8): DenseLayer(\n",
      "          (bn): BatchNorm2d(32, eps=1e-05, momentum=0.1, affine=True, track_running_stats=True)\n",
      "          (relu): ReLU(inplace=True)\n",
      "          (conv): Conv2d(384, 32, kernel_size=(3, 3), stride=(1, 1), padding=(1, 1), bias=False)\n",
      "        )\n",
      "        (9): DenseLayer(\n",
      "          (bn): BatchNorm2d(32, eps=1e-05, momentum=0.1, affine=True, track_running_stats=True)\n",
      "          (relu): ReLU(inplace=True)\n",
      "          (conv): Conv2d(416, 32, kernel_size=(3, 3), stride=(1, 1), padding=(1, 1), bias=False)\n",
      "        )\n",
      "        (10): DenseLayer(\n",
      "          (bn): BatchNorm2d(32, eps=1e-05, momentum=0.1, affine=True, track_running_stats=True)\n",
      "          (relu): ReLU(inplace=True)\n",
      "          (conv): Conv2d(448, 32, kernel_size=(3, 3), stride=(1, 1), padding=(1, 1), bias=False)\n",
      "        )\n",
      "        (11): DenseLayer(\n",
      "          (bn): BatchNorm2d(32, eps=1e-05, momentum=0.1, affine=True, track_running_stats=True)\n",
      "          (relu): ReLU(inplace=True)\n",
      "          (conv): Conv2d(480, 32, kernel_size=(3, 3), stride=(1, 1), padding=(1, 1), bias=False)\n",
      "        )\n",
      "      )\n",
      "    )\n",
      "    (3): TransitionLayer(\n",
      "      (bn): BatchNorm2d(256, eps=1e-05, momentum=0.1, affine=True, track_running_stats=True)\n",
      "      (relu): ReLU(inplace=True)\n",
      "      (conv): Conv2d(512, 256, kernel_size=(1, 1), stride=(1, 1), bias=False)\n",
      "      (pool): AvgPool2d(kernel_size=2, stride=2, padding=0)\n",
      "    )\n",
      "    (4): DenseBlock(\n",
      "      (layers): ModuleList(\n",
      "        (0): DenseLayer(\n",
      "          (bn): BatchNorm2d(32, eps=1e-05, momentum=0.1, affine=True, track_running_stats=True)\n",
      "          (relu): ReLU(inplace=True)\n",
      "          (conv): Conv2d(256, 32, kernel_size=(3, 3), stride=(1, 1), padding=(1, 1), bias=False)\n",
      "        )\n",
      "        (1): DenseLayer(\n",
      "          (bn): BatchNorm2d(32, eps=1e-05, momentum=0.1, affine=True, track_running_stats=True)\n",
      "          (relu): ReLU(inplace=True)\n",
      "          (conv): Conv2d(288, 32, kernel_size=(3, 3), stride=(1, 1), padding=(1, 1), bias=False)\n",
      "        )\n",
      "        (2): DenseLayer(\n",
      "          (bn): BatchNorm2d(32, eps=1e-05, momentum=0.1, affine=True, track_running_stats=True)\n",
      "          (relu): ReLU(inplace=True)\n",
      "          (conv): Conv2d(320, 32, kernel_size=(3, 3), stride=(1, 1), padding=(1, 1), bias=False)\n",
      "        )\n",
      "        (3): DenseLayer(\n",
      "          (bn): BatchNorm2d(32, eps=1e-05, momentum=0.1, affine=True, track_running_stats=True)\n",
      "          (relu): ReLU(inplace=True)\n",
      "          (conv): Conv2d(352, 32, kernel_size=(3, 3), stride=(1, 1), padding=(1, 1), bias=False)\n",
      "        )\n",
      "        (4): DenseLayer(\n",
      "          (bn): BatchNorm2d(32, eps=1e-05, momentum=0.1, affine=True, track_running_stats=True)\n",
      "          (relu): ReLU(inplace=True)\n",
      "          (conv): Conv2d(384, 32, kernel_size=(3, 3), stride=(1, 1), padding=(1, 1), bias=False)\n",
      "        )\n",
      "        (5): DenseLayer(\n",
      "          (bn): BatchNorm2d(32, eps=1e-05, momentum=0.1, affine=True, track_running_stats=True)\n",
      "          (relu): ReLU(inplace=True)\n",
      "          (conv): Conv2d(416, 32, kernel_size=(3, 3), stride=(1, 1), padding=(1, 1), bias=False)\n",
      "        )\n",
      "        (6): DenseLayer(\n",
      "          (bn): BatchNorm2d(32, eps=1e-05, momentum=0.1, affine=True, track_running_stats=True)\n",
      "          (relu): ReLU(inplace=True)\n",
      "          (conv): Conv2d(448, 32, kernel_size=(3, 3), stride=(1, 1), padding=(1, 1), bias=False)\n",
      "        )\n",
      "        (7): DenseLayer(\n",
      "          (bn): BatchNorm2d(32, eps=1e-05, momentum=0.1, affine=True, track_running_stats=True)\n",
      "          (relu): ReLU(inplace=True)\n",
      "          (conv): Conv2d(480, 32, kernel_size=(3, 3), stride=(1, 1), padding=(1, 1), bias=False)\n",
      "        )\n",
      "        (8): DenseLayer(\n",
      "          (bn): BatchNorm2d(32, eps=1e-05, momentum=0.1, affine=True, track_running_stats=True)\n",
      "          (relu): ReLU(inplace=True)\n",
      "          (conv): Conv2d(512, 32, kernel_size=(3, 3), stride=(1, 1), padding=(1, 1), bias=False)\n",
      "        )\n",
      "        (9): DenseLayer(\n",
      "          (bn): BatchNorm2d(32, eps=1e-05, momentum=0.1, affine=True, track_running_stats=True)\n",
      "          (relu): ReLU(inplace=True)\n",
      "          (conv): Conv2d(544, 32, kernel_size=(3, 3), stride=(1, 1), padding=(1, 1), bias=False)\n",
      "        )\n",
      "        (10): DenseLayer(\n",
      "          (bn): BatchNorm2d(32, eps=1e-05, momentum=0.1, affine=True, track_running_stats=True)\n",
      "          (relu): ReLU(inplace=True)\n",
      "          (conv): Conv2d(576, 32, kernel_size=(3, 3), stride=(1, 1), padding=(1, 1), bias=False)\n",
      "        )\n",
      "        (11): DenseLayer(\n",
      "          (bn): BatchNorm2d(32, eps=1e-05, momentum=0.1, affine=True, track_running_stats=True)\n",
      "          (relu): ReLU(inplace=True)\n",
      "          (conv): Conv2d(608, 32, kernel_size=(3, 3), stride=(1, 1), padding=(1, 1), bias=False)\n",
      "        )\n",
      "        (12): DenseLayer(\n",
      "          (bn): BatchNorm2d(32, eps=1e-05, momentum=0.1, affine=True, track_running_stats=True)\n",
      "          (relu): ReLU(inplace=True)\n",
      "          (conv): Conv2d(640, 32, kernel_size=(3, 3), stride=(1, 1), padding=(1, 1), bias=False)\n",
      "        )\n",
      "        (13): DenseLayer(\n",
      "          (bn): BatchNorm2d(32, eps=1e-05, momentum=0.1, affine=True, track_running_stats=True)\n",
      "          (relu): ReLU(inplace=True)\n",
      "          (conv): Conv2d(672, 32, kernel_size=(3, 3), stride=(1, 1), padding=(1, 1), bias=False)\n",
      "        )\n",
      "        (14): DenseLayer(\n",
      "          (bn): BatchNorm2d(32, eps=1e-05, momentum=0.1, affine=True, track_running_stats=True)\n",
      "          (relu): ReLU(inplace=True)\n",
      "          (conv): Conv2d(704, 32, kernel_size=(3, 3), stride=(1, 1), padding=(1, 1), bias=False)\n",
      "        )\n",
      "        (15): DenseLayer(\n",
      "          (bn): BatchNorm2d(32, eps=1e-05, momentum=0.1, affine=True, track_running_stats=True)\n",
      "          (relu): ReLU(inplace=True)\n",
      "          (conv): Conv2d(736, 32, kernel_size=(3, 3), stride=(1, 1), padding=(1, 1), bias=False)\n",
      "        )\n",
      "        (16): DenseLayer(\n",
      "          (bn): BatchNorm2d(32, eps=1e-05, momentum=0.1, affine=True, track_running_stats=True)\n",
      "          (relu): ReLU(inplace=True)\n",
      "          (conv): Conv2d(768, 32, kernel_size=(3, 3), stride=(1, 1), padding=(1, 1), bias=False)\n",
      "        )\n",
      "        (17): DenseLayer(\n",
      "          (bn): BatchNorm2d(32, eps=1e-05, momentum=0.1, affine=True, track_running_stats=True)\n",
      "          (relu): ReLU(inplace=True)\n",
      "          (conv): Conv2d(800, 32, kernel_size=(3, 3), stride=(1, 1), padding=(1, 1), bias=False)\n",
      "        )\n",
      "        (18): DenseLayer(\n",
      "          (bn): BatchNorm2d(32, eps=1e-05, momentum=0.1, affine=True, track_running_stats=True)\n",
      "          (relu): ReLU(inplace=True)\n",
      "          (conv): Conv2d(832, 32, kernel_size=(3, 3), stride=(1, 1), padding=(1, 1), bias=False)\n",
      "        )\n",
      "        (19): DenseLayer(\n",
      "          (bn): BatchNorm2d(32, eps=1e-05, momentum=0.1, affine=True, track_running_stats=True)\n",
      "          (relu): ReLU(inplace=True)\n",
      "          (conv): Conv2d(864, 32, kernel_size=(3, 3), stride=(1, 1), padding=(1, 1), bias=False)\n",
      "        )\n",
      "        (20): DenseLayer(\n",
      "          (bn): BatchNorm2d(32, eps=1e-05, momentum=0.1, affine=True, track_running_stats=True)\n",
      "          (relu): ReLU(inplace=True)\n",
      "          (conv): Conv2d(896, 32, kernel_size=(3, 3), stride=(1, 1), padding=(1, 1), bias=False)\n",
      "        )\n",
      "        (21): DenseLayer(\n",
      "          (bn): BatchNorm2d(32, eps=1e-05, momentum=0.1, affine=True, track_running_stats=True)\n",
      "          (relu): ReLU(inplace=True)\n",
      "          (conv): Conv2d(928, 32, kernel_size=(3, 3), stride=(1, 1), padding=(1, 1), bias=False)\n",
      "        )\n",
      "        (22): DenseLayer(\n",
      "          (bn): BatchNorm2d(32, eps=1e-05, momentum=0.1, affine=True, track_running_stats=True)\n",
      "          (relu): ReLU(inplace=True)\n",
      "          (conv): Conv2d(960, 32, kernel_size=(3, 3), stride=(1, 1), padding=(1, 1), bias=False)\n",
      "        )\n",
      "        (23): DenseLayer(\n",
      "          (bn): BatchNorm2d(32, eps=1e-05, momentum=0.1, affine=True, track_running_stats=True)\n",
      "          (relu): ReLU(inplace=True)\n",
      "          (conv): Conv2d(992, 32, kernel_size=(3, 3), stride=(1, 1), padding=(1, 1), bias=False)\n",
      "        )\n",
      "      )\n",
      "    )\n",
      "    (5): TransitionLayer(\n",
      "      (bn): BatchNorm2d(512, eps=1e-05, momentum=0.1, affine=True, track_running_stats=True)\n",
      "      (relu): ReLU(inplace=True)\n",
      "      (conv): Conv2d(1024, 512, kernel_size=(1, 1), stride=(1, 1), bias=False)\n",
      "      (pool): AvgPool2d(kernel_size=2, stride=2, padding=0)\n",
      "    )\n",
      "    (6): DenseBlock(\n",
      "      (layers): ModuleList(\n",
      "        (0): DenseLayer(\n",
      "          (bn): BatchNorm2d(32, eps=1e-05, momentum=0.1, affine=True, track_running_stats=True)\n",
      "          (relu): ReLU(inplace=True)\n",
      "          (conv): Conv2d(512, 32, kernel_size=(3, 3), stride=(1, 1), padding=(1, 1), bias=False)\n",
      "        )\n",
      "        (1): DenseLayer(\n",
      "          (bn): BatchNorm2d(32, eps=1e-05, momentum=0.1, affine=True, track_running_stats=True)\n",
      "          (relu): ReLU(inplace=True)\n",
      "          (conv): Conv2d(544, 32, kernel_size=(3, 3), stride=(1, 1), padding=(1, 1), bias=False)\n",
      "        )\n",
      "        (2): DenseLayer(\n",
      "          (bn): BatchNorm2d(32, eps=1e-05, momentum=0.1, affine=True, track_running_stats=True)\n",
      "          (relu): ReLU(inplace=True)\n",
      "          (conv): Conv2d(576, 32, kernel_size=(3, 3), stride=(1, 1), padding=(1, 1), bias=False)\n",
      "        )\n",
      "        (3): DenseLayer(\n",
      "          (bn): BatchNorm2d(32, eps=1e-05, momentum=0.1, affine=True, track_running_stats=True)\n",
      "          (relu): ReLU(inplace=True)\n",
      "          (conv): Conv2d(608, 32, kernel_size=(3, 3), stride=(1, 1), padding=(1, 1), bias=False)\n",
      "        )\n",
      "        (4): DenseLayer(\n",
      "          (bn): BatchNorm2d(32, eps=1e-05, momentum=0.1, affine=True, track_running_stats=True)\n",
      "          (relu): ReLU(inplace=True)\n",
      "          (conv): Conv2d(640, 32, kernel_size=(3, 3), stride=(1, 1), padding=(1, 1), bias=False)\n",
      "        )\n",
      "        (5): DenseLayer(\n",
      "          (bn): BatchNorm2d(32, eps=1e-05, momentum=0.1, affine=True, track_running_stats=True)\n",
      "          (relu): ReLU(inplace=True)\n",
      "          (conv): Conv2d(672, 32, kernel_size=(3, 3), stride=(1, 1), padding=(1, 1), bias=False)\n",
      "        )\n",
      "        (6): DenseLayer(\n",
      "          (bn): BatchNorm2d(32, eps=1e-05, momentum=0.1, affine=True, track_running_stats=True)\n",
      "          (relu): ReLU(inplace=True)\n",
      "          (conv): Conv2d(704, 32, kernel_size=(3, 3), stride=(1, 1), padding=(1, 1), bias=False)\n",
      "        )\n",
      "        (7): DenseLayer(\n",
      "          (bn): BatchNorm2d(32, eps=1e-05, momentum=0.1, affine=True, track_running_stats=True)\n",
      "          (relu): ReLU(inplace=True)\n",
      "          (conv): Conv2d(736, 32, kernel_size=(3, 3), stride=(1, 1), padding=(1, 1), bias=False)\n",
      "        )\n",
      "        (8): DenseLayer(\n",
      "          (bn): BatchNorm2d(32, eps=1e-05, momentum=0.1, affine=True, track_running_stats=True)\n",
      "          (relu): ReLU(inplace=True)\n",
      "          (conv): Conv2d(768, 32, kernel_size=(3, 3), stride=(1, 1), padding=(1, 1), bias=False)\n",
      "        )\n",
      "        (9): DenseLayer(\n",
      "          (bn): BatchNorm2d(32, eps=1e-05, momentum=0.1, affine=True, track_running_stats=True)\n",
      "          (relu): ReLU(inplace=True)\n",
      "          (conv): Conv2d(800, 32, kernel_size=(3, 3), stride=(1, 1), padding=(1, 1), bias=False)\n",
      "        )\n",
      "        (10): DenseLayer(\n",
      "          (bn): BatchNorm2d(32, eps=1e-05, momentum=0.1, affine=True, track_running_stats=True)\n",
      "          (relu): ReLU(inplace=True)\n",
      "          (conv): Conv2d(832, 32, kernel_size=(3, 3), stride=(1, 1), padding=(1, 1), bias=False)\n",
      "        )\n",
      "        (11): DenseLayer(\n",
      "          (bn): BatchNorm2d(32, eps=1e-05, momentum=0.1, affine=True, track_running_stats=True)\n",
      "          (relu): ReLU(inplace=True)\n",
      "          (conv): Conv2d(864, 32, kernel_size=(3, 3), stride=(1, 1), padding=(1, 1), bias=False)\n",
      "        )\n",
      "        (12): DenseLayer(\n",
      "          (bn): BatchNorm2d(32, eps=1e-05, momentum=0.1, affine=True, track_running_stats=True)\n",
      "          (relu): ReLU(inplace=True)\n",
      "          (conv): Conv2d(896, 32, kernel_size=(3, 3), stride=(1, 1), padding=(1, 1), bias=False)\n",
      "        )\n",
      "        (13): DenseLayer(\n",
      "          (bn): BatchNorm2d(32, eps=1e-05, momentum=0.1, affine=True, track_running_stats=True)\n",
      "          (relu): ReLU(inplace=True)\n",
      "          (conv): Conv2d(928, 32, kernel_size=(3, 3), stride=(1, 1), padding=(1, 1), bias=False)\n",
      "        )\n",
      "        (14): DenseLayer(\n",
      "          (bn): BatchNorm2d(32, eps=1e-05, momentum=0.1, affine=True, track_running_stats=True)\n",
      "          (relu): ReLU(inplace=True)\n",
      "          (conv): Conv2d(960, 32, kernel_size=(3, 3), stride=(1, 1), padding=(1, 1), bias=False)\n",
      "        )\n",
      "        (15): DenseLayer(\n",
      "          (bn): BatchNorm2d(32, eps=1e-05, momentum=0.1, affine=True, track_running_stats=True)\n",
      "          (relu): ReLU(inplace=True)\n",
      "          (conv): Conv2d(992, 32, kernel_size=(3, 3), stride=(1, 1), padding=(1, 1), bias=False)\n",
      "        )\n",
      "      )\n",
      "    )\n",
      "  )\n",
      "  (bn2): BatchNorm2d(1024, eps=1e-05, momentum=0.1, affine=True, track_running_stats=True)\n",
      "  (fc): Linear(in_features=1024, out_features=1000, bias=True)\n",
      ")\n"
     ]
    }
   ],
   "source": [
    "model = DenseNet(growth_rate=32, block_config=[6, 12, 24, 16], num_init_features=64, num_classes=1000)\n",
    "print(model)"
   ]
  },
  {
   "cell_type": "code",
   "execution_count": 12,
   "id": "db37aa2c-5050-40b5-b2ee-b29bdf3b3443",
   "metadata": {},
   "outputs": [
    {
     "name": "stdout",
     "output_type": "stream",
     "text": [
      "DenseLayer(\n",
      "  (bn): BatchNorm2d(32, eps=1e-05, momentum=0.1, affine=True, track_running_stats=True)\n",
      "  (relu): ReLU(inplace=True)\n",
      "  (conv): Conv2d(64, 32, kernel_size=(3, 3), stride=(1, 1), padding=(1, 1), bias=False)\n",
      ")\n",
      "DenseLayer(\n",
      "  (bn): BatchNorm2d(32, eps=1e-05, momentum=0.1, affine=True, track_running_stats=True)\n",
      "  (relu): ReLU(inplace=True)\n",
      "  (conv): Conv2d(96, 32, kernel_size=(3, 3), stride=(1, 1), padding=(1, 1), bias=False)\n",
      ")\n",
      "DenseLayer(\n",
      "  (bn): BatchNorm2d(32, eps=1e-05, momentum=0.1, affine=True, track_running_stats=True)\n",
      "  (relu): ReLU(inplace=True)\n",
      "  (conv): Conv2d(128, 32, kernel_size=(3, 3), stride=(1, 1), padding=(1, 1), bias=False)\n",
      ")\n",
      "DenseLayer(\n",
      "  (bn): BatchNorm2d(32, eps=1e-05, momentum=0.1, affine=True, track_running_stats=True)\n",
      "  (relu): ReLU(inplace=True)\n",
      "  (conv): Conv2d(160, 32, kernel_size=(3, 3), stride=(1, 1), padding=(1, 1), bias=False)\n",
      ")\n",
      "DenseLayer(\n",
      "  (bn): BatchNorm2d(32, eps=1e-05, momentum=0.1, affine=True, track_running_stats=True)\n",
      "  (relu): ReLU(inplace=True)\n",
      "  (conv): Conv2d(192, 32, kernel_size=(3, 3), stride=(1, 1), padding=(1, 1), bias=False)\n",
      ")\n",
      "DenseLayer(\n",
      "  (bn): BatchNorm2d(32, eps=1e-05, momentum=0.1, affine=True, track_running_stats=True)\n",
      "  (relu): ReLU(inplace=True)\n",
      "  (conv): Conv2d(224, 32, kernel_size=(3, 3), stride=(1, 1), padding=(1, 1), bias=False)\n",
      ")\n",
      "DenseLayer(\n",
      "  (bn): BatchNorm2d(32, eps=1e-05, momentum=0.1, affine=True, track_running_stats=True)\n",
      "  (relu): ReLU(inplace=True)\n",
      "  (conv): Conv2d(128, 32, kernel_size=(3, 3), stride=(1, 1), padding=(1, 1), bias=False)\n",
      ")\n",
      "DenseLayer(\n",
      "  (bn): BatchNorm2d(32, eps=1e-05, momentum=0.1, affine=True, track_running_stats=True)\n",
      "  (relu): ReLU(inplace=True)\n",
      "  (conv): Conv2d(160, 32, kernel_size=(3, 3), stride=(1, 1), padding=(1, 1), bias=False)\n",
      ")\n",
      "DenseLayer(\n",
      "  (bn): BatchNorm2d(32, eps=1e-05, momentum=0.1, affine=True, track_running_stats=True)\n",
      "  (relu): ReLU(inplace=True)\n",
      "  (conv): Conv2d(192, 32, kernel_size=(3, 3), stride=(1, 1), padding=(1, 1), bias=False)\n",
      ")\n",
      "DenseLayer(\n",
      "  (bn): BatchNorm2d(32, eps=1e-05, momentum=0.1, affine=True, track_running_stats=True)\n",
      "  (relu): ReLU(inplace=True)\n",
      "  (conv): Conv2d(224, 32, kernel_size=(3, 3), stride=(1, 1), padding=(1, 1), bias=False)\n",
      ")\n",
      "DenseLayer(\n",
      "  (bn): BatchNorm2d(32, eps=1e-05, momentum=0.1, affine=True, track_running_stats=True)\n",
      "  (relu): ReLU(inplace=True)\n",
      "  (conv): Conv2d(256, 32, kernel_size=(3, 3), stride=(1, 1), padding=(1, 1), bias=False)\n",
      ")\n",
      "DenseLayer(\n",
      "  (bn): BatchNorm2d(32, eps=1e-05, momentum=0.1, affine=True, track_running_stats=True)\n",
      "  (relu): ReLU(inplace=True)\n",
      "  (conv): Conv2d(288, 32, kernel_size=(3, 3), stride=(1, 1), padding=(1, 1), bias=False)\n",
      ")\n",
      "DenseLayer(\n",
      "  (bn): BatchNorm2d(32, eps=1e-05, momentum=0.1, affine=True, track_running_stats=True)\n",
      "  (relu): ReLU(inplace=True)\n",
      "  (conv): Conv2d(320, 32, kernel_size=(3, 3), stride=(1, 1), padding=(1, 1), bias=False)\n",
      ")\n",
      "DenseLayer(\n",
      "  (bn): BatchNorm2d(32, eps=1e-05, momentum=0.1, affine=True, track_running_stats=True)\n",
      "  (relu): ReLU(inplace=True)\n",
      "  (conv): Conv2d(352, 32, kernel_size=(3, 3), stride=(1, 1), padding=(1, 1), bias=False)\n",
      ")\n",
      "DenseLayer(\n",
      "  (bn): BatchNorm2d(32, eps=1e-05, momentum=0.1, affine=True, track_running_stats=True)\n",
      "  (relu): ReLU(inplace=True)\n",
      "  (conv): Conv2d(384, 32, kernel_size=(3, 3), stride=(1, 1), padding=(1, 1), bias=False)\n",
      ")\n",
      "DenseLayer(\n",
      "  (bn): BatchNorm2d(32, eps=1e-05, momentum=0.1, affine=True, track_running_stats=True)\n",
      "  (relu): ReLU(inplace=True)\n",
      "  (conv): Conv2d(416, 32, kernel_size=(3, 3), stride=(1, 1), padding=(1, 1), bias=False)\n",
      ")\n",
      "DenseLayer(\n",
      "  (bn): BatchNorm2d(32, eps=1e-05, momentum=0.1, affine=True, track_running_stats=True)\n",
      "  (relu): ReLU(inplace=True)\n",
      "  (conv): Conv2d(448, 32, kernel_size=(3, 3), stride=(1, 1), padding=(1, 1), bias=False)\n",
      ")\n",
      "DenseLayer(\n",
      "  (bn): BatchNorm2d(32, eps=1e-05, momentum=0.1, affine=True, track_running_stats=True)\n",
      "  (relu): ReLU(inplace=True)\n",
      "  (conv): Conv2d(480, 32, kernel_size=(3, 3), stride=(1, 1), padding=(1, 1), bias=False)\n",
      ")\n",
      "DenseLayer(\n",
      "  (bn): BatchNorm2d(32, eps=1e-05, momentum=0.1, affine=True, track_running_stats=True)\n",
      "  (relu): ReLU(inplace=True)\n",
      "  (conv): Conv2d(256, 32, kernel_size=(3, 3), stride=(1, 1), padding=(1, 1), bias=False)\n",
      ")\n",
      "DenseLayer(\n",
      "  (bn): BatchNorm2d(32, eps=1e-05, momentum=0.1, affine=True, track_running_stats=True)\n",
      "  (relu): ReLU(inplace=True)\n",
      "  (conv): Conv2d(288, 32, kernel_size=(3, 3), stride=(1, 1), padding=(1, 1), bias=False)\n",
      ")\n",
      "DenseLayer(\n",
      "  (bn): BatchNorm2d(32, eps=1e-05, momentum=0.1, affine=True, track_running_stats=True)\n",
      "  (relu): ReLU(inplace=True)\n",
      "  (conv): Conv2d(320, 32, kernel_size=(3, 3), stride=(1, 1), padding=(1, 1), bias=False)\n",
      ")\n",
      "DenseLayer(\n",
      "  (bn): BatchNorm2d(32, eps=1e-05, momentum=0.1, affine=True, track_running_stats=True)\n",
      "  (relu): ReLU(inplace=True)\n",
      "  (conv): Conv2d(352, 32, kernel_size=(3, 3), stride=(1, 1), padding=(1, 1), bias=False)\n",
      ")\n",
      "DenseLayer(\n",
      "  (bn): BatchNorm2d(32, eps=1e-05, momentum=0.1, affine=True, track_running_stats=True)\n",
      "  (relu): ReLU(inplace=True)\n",
      "  (conv): Conv2d(384, 32, kernel_size=(3, 3), stride=(1, 1), padding=(1, 1), bias=False)\n",
      ")\n",
      "DenseLayer(\n",
      "  (bn): BatchNorm2d(32, eps=1e-05, momentum=0.1, affine=True, track_running_stats=True)\n",
      "  (relu): ReLU(inplace=True)\n",
      "  (conv): Conv2d(416, 32, kernel_size=(3, 3), stride=(1, 1), padding=(1, 1), bias=False)\n",
      ")\n",
      "DenseLayer(\n",
      "  (bn): BatchNorm2d(32, eps=1e-05, momentum=0.1, affine=True, track_running_stats=True)\n",
      "  (relu): ReLU(inplace=True)\n",
      "  (conv): Conv2d(448, 32, kernel_size=(3, 3), stride=(1, 1), padding=(1, 1), bias=False)\n",
      ")\n",
      "DenseLayer(\n",
      "  (bn): BatchNorm2d(32, eps=1e-05, momentum=0.1, affine=True, track_running_stats=True)\n",
      "  (relu): ReLU(inplace=True)\n",
      "  (conv): Conv2d(480, 32, kernel_size=(3, 3), stride=(1, 1), padding=(1, 1), bias=False)\n",
      ")\n",
      "DenseLayer(\n",
      "  (bn): BatchNorm2d(32, eps=1e-05, momentum=0.1, affine=True, track_running_stats=True)\n",
      "  (relu): ReLU(inplace=True)\n",
      "  (conv): Conv2d(512, 32, kernel_size=(3, 3), stride=(1, 1), padding=(1, 1), bias=False)\n",
      ")\n",
      "DenseLayer(\n",
      "  (bn): BatchNorm2d(32, eps=1e-05, momentum=0.1, affine=True, track_running_stats=True)\n",
      "  (relu): ReLU(inplace=True)\n",
      "  (conv): Conv2d(544, 32, kernel_size=(3, 3), stride=(1, 1), padding=(1, 1), bias=False)\n",
      ")\n",
      "DenseLayer(\n",
      "  (bn): BatchNorm2d(32, eps=1e-05, momentum=0.1, affine=True, track_running_stats=True)\n",
      "  (relu): ReLU(inplace=True)\n",
      "  (conv): Conv2d(576, 32, kernel_size=(3, 3), stride=(1, 1), padding=(1, 1), bias=False)\n",
      ")\n",
      "DenseLayer(\n",
      "  (bn): BatchNorm2d(32, eps=1e-05, momentum=0.1, affine=True, track_running_stats=True)\n",
      "  (relu): ReLU(inplace=True)\n",
      "  (conv): Conv2d(608, 32, kernel_size=(3, 3), stride=(1, 1), padding=(1, 1), bias=False)\n",
      ")\n",
      "DenseLayer(\n",
      "  (bn): BatchNorm2d(32, eps=1e-05, momentum=0.1, affine=True, track_running_stats=True)\n",
      "  (relu): ReLU(inplace=True)\n",
      "  (conv): Conv2d(640, 32, kernel_size=(3, 3), stride=(1, 1), padding=(1, 1), bias=False)\n",
      ")\n",
      "DenseLayer(\n",
      "  (bn): BatchNorm2d(32, eps=1e-05, momentum=0.1, affine=True, track_running_stats=True)\n",
      "  (relu): ReLU(inplace=True)\n",
      "  (conv): Conv2d(672, 32, kernel_size=(3, 3), stride=(1, 1), padding=(1, 1), bias=False)\n",
      ")\n",
      "DenseLayer(\n",
      "  (bn): BatchNorm2d(32, eps=1e-05, momentum=0.1, affine=True, track_running_stats=True)\n",
      "  (relu): ReLU(inplace=True)\n",
      "  (conv): Conv2d(704, 32, kernel_size=(3, 3), stride=(1, 1), padding=(1, 1), bias=False)\n",
      ")\n",
      "DenseLayer(\n",
      "  (bn): BatchNorm2d(32, eps=1e-05, momentum=0.1, affine=True, track_running_stats=True)\n",
      "  (relu): ReLU(inplace=True)\n",
      "  (conv): Conv2d(736, 32, kernel_size=(3, 3), stride=(1, 1), padding=(1, 1), bias=False)\n",
      ")\n",
      "DenseLayer(\n",
      "  (bn): BatchNorm2d(32, eps=1e-05, momentum=0.1, affine=True, track_running_stats=True)\n",
      "  (relu): ReLU(inplace=True)\n",
      "  (conv): Conv2d(768, 32, kernel_size=(3, 3), stride=(1, 1), padding=(1, 1), bias=False)\n",
      ")\n",
      "DenseLayer(\n",
      "  (bn): BatchNorm2d(32, eps=1e-05, momentum=0.1, affine=True, track_running_stats=True)\n",
      "  (relu): ReLU(inplace=True)\n",
      "  (conv): Conv2d(800, 32, kernel_size=(3, 3), stride=(1, 1), padding=(1, 1), bias=False)\n",
      ")\n",
      "DenseLayer(\n",
      "  (bn): BatchNorm2d(32, eps=1e-05, momentum=0.1, affine=True, track_running_stats=True)\n",
      "  (relu): ReLU(inplace=True)\n",
      "  (conv): Conv2d(832, 32, kernel_size=(3, 3), stride=(1, 1), padding=(1, 1), bias=False)\n",
      ")\n",
      "DenseLayer(\n",
      "  (bn): BatchNorm2d(32, eps=1e-05, momentum=0.1, affine=True, track_running_stats=True)\n",
      "  (relu): ReLU(inplace=True)\n",
      "  (conv): Conv2d(864, 32, kernel_size=(3, 3), stride=(1, 1), padding=(1, 1), bias=False)\n",
      ")\n",
      "DenseLayer(\n",
      "  (bn): BatchNorm2d(32, eps=1e-05, momentum=0.1, affine=True, track_running_stats=True)\n",
      "  (relu): ReLU(inplace=True)\n",
      "  (conv): Conv2d(896, 32, kernel_size=(3, 3), stride=(1, 1), padding=(1, 1), bias=False)\n",
      ")\n",
      "DenseLayer(\n",
      "  (bn): BatchNorm2d(32, eps=1e-05, momentum=0.1, affine=True, track_running_stats=True)\n",
      "  (relu): ReLU(inplace=True)\n",
      "  (conv): Conv2d(928, 32, kernel_size=(3, 3), stride=(1, 1), padding=(1, 1), bias=False)\n",
      ")\n",
      "DenseLayer(\n",
      "  (bn): BatchNorm2d(32, eps=1e-05, momentum=0.1, affine=True, track_running_stats=True)\n",
      "  (relu): ReLU(inplace=True)\n",
      "  (conv): Conv2d(960, 32, kernel_size=(3, 3), stride=(1, 1), padding=(1, 1), bias=False)\n",
      ")\n",
      "DenseLayer(\n",
      "  (bn): BatchNorm2d(32, eps=1e-05, momentum=0.1, affine=True, track_running_stats=True)\n",
      "  (relu): ReLU(inplace=True)\n",
      "  (conv): Conv2d(992, 32, kernel_size=(3, 3), stride=(1, 1), padding=(1, 1), bias=False)\n",
      ")\n",
      "DenseLayer(\n",
      "  (bn): BatchNorm2d(32, eps=1e-05, momentum=0.1, affine=True, track_running_stats=True)\n",
      "  (relu): ReLU(inplace=True)\n",
      "  (conv): Conv2d(512, 32, kernel_size=(3, 3), stride=(1, 1), padding=(1, 1), bias=False)\n",
      ")\n",
      "DenseLayer(\n",
      "  (bn): BatchNorm2d(32, eps=1e-05, momentum=0.1, affine=True, track_running_stats=True)\n",
      "  (relu): ReLU(inplace=True)\n",
      "  (conv): Conv2d(544, 32, kernel_size=(3, 3), stride=(1, 1), padding=(1, 1), bias=False)\n",
      ")\n",
      "DenseLayer(\n",
      "  (bn): BatchNorm2d(32, eps=1e-05, momentum=0.1, affine=True, track_running_stats=True)\n",
      "  (relu): ReLU(inplace=True)\n",
      "  (conv): Conv2d(576, 32, kernel_size=(3, 3), stride=(1, 1), padding=(1, 1), bias=False)\n",
      ")\n",
      "DenseLayer(\n",
      "  (bn): BatchNorm2d(32, eps=1e-05, momentum=0.1, affine=True, track_running_stats=True)\n",
      "  (relu): ReLU(inplace=True)\n",
      "  (conv): Conv2d(608, 32, kernel_size=(3, 3), stride=(1, 1), padding=(1, 1), bias=False)\n",
      ")\n",
      "DenseLayer(\n",
      "  (bn): BatchNorm2d(32, eps=1e-05, momentum=0.1, affine=True, track_running_stats=True)\n",
      "  (relu): ReLU(inplace=True)\n",
      "  (conv): Conv2d(640, 32, kernel_size=(3, 3), stride=(1, 1), padding=(1, 1), bias=False)\n",
      ")\n",
      "DenseLayer(\n",
      "  (bn): BatchNorm2d(32, eps=1e-05, momentum=0.1, affine=True, track_running_stats=True)\n",
      "  (relu): ReLU(inplace=True)\n",
      "  (conv): Conv2d(672, 32, kernel_size=(3, 3), stride=(1, 1), padding=(1, 1), bias=False)\n",
      ")\n",
      "DenseLayer(\n",
      "  (bn): BatchNorm2d(32, eps=1e-05, momentum=0.1, affine=True, track_running_stats=True)\n",
      "  (relu): ReLU(inplace=True)\n",
      "  (conv): Conv2d(704, 32, kernel_size=(3, 3), stride=(1, 1), padding=(1, 1), bias=False)\n",
      ")\n",
      "DenseLayer(\n",
      "  (bn): BatchNorm2d(32, eps=1e-05, momentum=0.1, affine=True, track_running_stats=True)\n",
      "  (relu): ReLU(inplace=True)\n",
      "  (conv): Conv2d(736, 32, kernel_size=(3, 3), stride=(1, 1), padding=(1, 1), bias=False)\n",
      ")\n",
      "DenseLayer(\n",
      "  (bn): BatchNorm2d(32, eps=1e-05, momentum=0.1, affine=True, track_running_stats=True)\n",
      "  (relu): ReLU(inplace=True)\n",
      "  (conv): Conv2d(768, 32, kernel_size=(3, 3), stride=(1, 1), padding=(1, 1), bias=False)\n",
      ")\n",
      "DenseLayer(\n",
      "  (bn): BatchNorm2d(32, eps=1e-05, momentum=0.1, affine=True, track_running_stats=True)\n",
      "  (relu): ReLU(inplace=True)\n",
      "  (conv): Conv2d(800, 32, kernel_size=(3, 3), stride=(1, 1), padding=(1, 1), bias=False)\n",
      ")\n",
      "DenseLayer(\n",
      "  (bn): BatchNorm2d(32, eps=1e-05, momentum=0.1, affine=True, track_running_stats=True)\n",
      "  (relu): ReLU(inplace=True)\n",
      "  (conv): Conv2d(832, 32, kernel_size=(3, 3), stride=(1, 1), padding=(1, 1), bias=False)\n",
      ")\n",
      "DenseLayer(\n",
      "  (bn): BatchNorm2d(32, eps=1e-05, momentum=0.1, affine=True, track_running_stats=True)\n",
      "  (relu): ReLU(inplace=True)\n",
      "  (conv): Conv2d(864, 32, kernel_size=(3, 3), stride=(1, 1), padding=(1, 1), bias=False)\n",
      ")\n",
      "DenseLayer(\n",
      "  (bn): BatchNorm2d(32, eps=1e-05, momentum=0.1, affine=True, track_running_stats=True)\n",
      "  (relu): ReLU(inplace=True)\n",
      "  (conv): Conv2d(896, 32, kernel_size=(3, 3), stride=(1, 1), padding=(1, 1), bias=False)\n",
      ")\n",
      "DenseLayer(\n",
      "  (bn): BatchNorm2d(32, eps=1e-05, momentum=0.1, affine=True, track_running_stats=True)\n",
      "  (relu): ReLU(inplace=True)\n",
      "  (conv): Conv2d(928, 32, kernel_size=(3, 3), stride=(1, 1), padding=(1, 1), bias=False)\n",
      ")\n",
      "DenseLayer(\n",
      "  (bn): BatchNorm2d(32, eps=1e-05, momentum=0.1, affine=True, track_running_stats=True)\n",
      "  (relu): ReLU(inplace=True)\n",
      "  (conv): Conv2d(960, 32, kernel_size=(3, 3), stride=(1, 1), padding=(1, 1), bias=False)\n",
      ")\n",
      "DenseLayer(\n",
      "  (bn): BatchNorm2d(32, eps=1e-05, momentum=0.1, affine=True, track_running_stats=True)\n",
      "  (relu): ReLU(inplace=True)\n",
      "  (conv): Conv2d(992, 32, kernel_size=(3, 3), stride=(1, 1), padding=(1, 1), bias=False)\n",
      ")\n",
      "torch.Size([1, 1024, 7, 7])\n"
     ]
    },
    {
     "data": {
      "text/plain": [
       "tensor([[ 9.7668e-03, -3.7860e-01, -1.6391e-01,  1.9757e-01,  4.5972e-01,\n",
       "          1.1267e-01,  1.8375e-01, -4.2774e-01, -4.0939e-03, -2.3928e-01,\n",
       "          3.3555e-03, -4.2352e-01,  5.7110e-02,  8.7372e-02, -1.9397e-01,\n",
       "         -3.3644e-01,  2.7144e-01,  1.4336e-01,  7.1669e-02,  2.6144e-01,\n",
       "         -3.4123e-01, -4.0382e-02, -1.6076e-01, -4.7710e-02, -1.3829e-02,\n",
       "         -4.6253e-02, -2.3623e-01, -2.8203e-01,  6.8277e-02,  2.2514e-01,\n",
       "         -1.6119e-01, -2.5847e-01, -1.5928e-01, -3.7584e-02, -3.1216e-02,\n",
       "         -7.7512e-03,  1.8265e-02,  3.2286e-01, -2.6980e-01,  3.7404e-01,\n",
       "         -7.1474e-02,  1.4882e-01, -1.0024e-01,  2.3836e-01,  2.5924e-01,\n",
       "         -1.1057e-01,  2.0306e-01, -2.1849e-02, -1.2483e-01,  3.7845e-02,\n",
       "         -1.3788e-01, -2.3662e-01,  6.0554e-02, -4.8630e-01,  1.3196e-01,\n",
       "          3.6801e-02,  1.6690e-01, -1.7089e-02,  6.0908e-02,  1.4935e-01,\n",
       "          5.2179e-02, -1.1079e-01, -1.8786e-01, -2.0665e-01,  1.0402e-01,\n",
       "          9.6173e-02, -2.3212e-01,  3.2968e-01, -4.1695e-01,  6.2433e-02,\n",
       "          9.9391e-02, -2.5787e-02, -7.2615e-02,  3.0231e-01, -7.8184e-02,\n",
       "         -2.2161e-01, -4.0753e-02,  5.1094e-02,  1.6911e-01,  6.1948e-01,\n",
       "         -4.2772e-03,  3.6552e-01, -2.7769e-01,  5.8380e-01, -8.8275e-02,\n",
       "          7.8424e-02, -8.0113e-03,  1.4157e-02,  3.8462e-01,  1.9146e-01,\n",
       "          3.0710e-01, -2.5959e-01, -1.6256e-01,  3.5784e-01, -9.6320e-02,\n",
       "          2.7236e-01, -1.9979e-01, -2.9437e-01, -7.3437e-03,  5.9096e-01,\n",
       "         -1.4337e-01, -7.7164e-02,  8.0664e-03,  1.6584e-01, -1.0065e-01,\n",
       "         -1.9052e-01,  9.7681e-02, -8.5550e-02,  1.5435e-01,  1.1097e-02,\n",
       "          4.5834e-02, -1.1000e-01, -3.8453e-01,  1.9585e-01, -2.3380e-01,\n",
       "          4.3369e-01,  1.5497e-01, -2.7022e-01, -5.5530e-02, -1.7986e-02,\n",
       "          2.9536e-04,  2.9061e-01,  1.1113e-01,  1.8634e-01,  2.2506e-01,\n",
       "          1.1896e-01, -1.5778e-01,  6.2802e-02,  1.3311e-01,  1.3039e-01,\n",
       "         -2.1807e-01,  3.4831e-01, -3.2446e-01, -6.4252e-03,  2.5751e-01,\n",
       "         -6.3244e-02, -1.4332e-01, -2.8073e-01,  3.4533e-02, -1.2770e-01,\n",
       "         -2.5991e-02, -2.0468e-01, -2.1484e-01,  1.2214e-01, -2.5814e-01,\n",
       "         -1.8804e-01, -3.6830e-01, -6.3409e-02, -3.0967e-01,  1.2110e-01,\n",
       "          1.8297e-01,  2.9693e-01,  1.1366e-01, -5.3279e-01,  8.1839e-02,\n",
       "         -1.7502e-01,  2.6844e-01,  1.3893e-01,  5.2025e-02,  3.7467e-01,\n",
       "         -3.3828e-02,  6.4667e-02, -1.1601e-01,  2.0176e-02,  1.5487e-01,\n",
       "         -2.9539e-01,  5.9967e-02, -1.3270e-01,  7.2727e-02,  4.7190e-02,\n",
       "         -9.6783e-02,  1.1503e-01,  9.7703e-02, -2.5775e-02,  5.7285e-02,\n",
       "         -3.6639e-01,  3.5668e-01,  5.1641e-01, -1.2540e-01,  1.9005e-01,\n",
       "         -5.7466e-02,  4.4147e-01,  5.9163e-02,  2.8094e-02, -1.5837e-01,\n",
       "          4.6958e-02,  1.4975e-01, -1.7140e-01, -2.7624e-01,  8.4999e-02,\n",
       "          1.4255e-01,  7.7321e-03,  1.4651e-01, -3.3028e-02,  2.3449e-01,\n",
       "          3.5608e-02,  4.3520e-01,  2.1952e-01, -9.8540e-02, -2.7105e-01,\n",
       "          4.0689e-01,  1.7858e-01,  3.8243e-02, -5.4902e-01, -1.3416e-02,\n",
       "          3.1227e-01, -3.4935e-01,  3.3657e-01, -8.0412e-02,  4.8359e-01,\n",
       "          1.9177e-01,  7.6561e-02, -2.8800e-01, -2.4132e-01, -3.6717e-01,\n",
       "         -2.4124e-01,  4.6773e-01,  1.3196e-02,  2.0692e-01,  1.1661e-01,\n",
       "         -2.3408e-01, -6.6213e-02, -1.9500e-01,  1.2699e-01, -1.9682e-01,\n",
       "         -2.3571e-01,  3.5706e-02, -1.0198e-02, -1.6302e-01, -1.1754e-01,\n",
       "          1.0840e-01, -1.1821e-01,  9.1194e-03, -2.7152e-01,  3.1361e-01,\n",
       "          2.1644e-01,  2.7253e-02,  6.4476e-01, -1.2989e-02, -4.9444e-02,\n",
       "          2.2273e-01,  1.0142e-01, -4.1089e-02,  5.6495e-01, -2.5596e-01,\n",
       "          1.1992e-01, -2.2905e-02,  1.0429e-01,  2.6083e-01,  2.6945e-02,\n",
       "          2.0523e-01, -2.3524e-02,  1.8736e-01, -2.3269e-01, -1.0613e-01,\n",
       "         -2.4305e-01, -3.9060e-01, -3.9596e-02,  1.2620e-01,  1.7927e-01,\n",
       "         -4.6656e-01, -4.7692e-02, -2.4018e-01,  1.0959e-01,  1.9412e-01,\n",
       "         -2.5303e-01,  1.8385e-02, -1.0693e-01, -1.3510e-02,  1.4113e-01,\n",
       "          2.0206e-01, -1.8856e-01, -6.4458e-02, -1.4461e-01,  1.8843e-01,\n",
       "          3.1635e-02,  3.4431e-01,  1.9582e-01,  1.7021e-01, -9.5588e-02,\n",
       "         -2.2961e-01, -1.3931e-01,  1.9358e-01,  2.2152e-01,  1.5517e-01,\n",
       "          1.2602e-01, -4.4591e-02,  8.2155e-02,  8.7686e-02,  5.3515e-01,\n",
       "          3.6855e-01, -1.1822e-01, -1.5548e-01,  1.4434e-01,  3.7461e-02,\n",
       "         -3.3380e-02,  2.5663e-01,  3.5935e-01, -8.0798e-02, -3.3319e-01,\n",
       "          1.6130e-01,  3.5218e-01,  8.3528e-02,  2.6798e-01,  2.0819e-01,\n",
       "         -1.6261e-01,  6.5110e-02,  2.6135e-01,  2.1921e-01,  5.4195e-01,\n",
       "          2.2508e-01,  5.2887e-02, -5.2692e-02, -2.7745e-01,  2.3458e-01,\n",
       "         -2.7148e-01,  3.4072e-01, -4.5054e-01, -3.1342e-02,  1.9238e-01,\n",
       "         -7.6408e-02, -4.4830e-02,  8.6330e-02,  1.1874e-01,  1.8779e-01,\n",
       "          3.1817e-01,  5.1198e-02,  1.9634e-01, -7.5417e-02, -2.5347e-01,\n",
       "          1.9150e-01, -1.6771e-01,  5.9950e-02, -1.1112e-01,  6.1336e-02,\n",
       "          1.4834e-02,  5.3219e-02,  1.0982e-01,  5.2258e-01,  3.6912e-01,\n",
       "         -8.4694e-02, -6.4480e-02, -3.7201e-01, -9.7423e-02, -2.2188e-01,\n",
       "         -5.1784e-03,  3.1462e-01, -4.9289e-01,  2.3757e-02,  1.7398e-01,\n",
       "         -3.2998e-01,  1.9340e-01, -1.0608e-01,  4.1528e-01, -5.6720e-01,\n",
       "          1.8652e-01, -1.6419e-02,  2.1262e-01, -8.0780e-02, -4.0689e-02,\n",
       "         -3.3730e-01,  1.6932e-01, -7.2166e-02, -1.2386e-02,  2.9078e-02,\n",
       "         -3.2585e-02, -1.5159e-03, -1.4884e-01,  7.3041e-02, -1.5295e-01,\n",
       "         -1.3612e-01, -1.3074e-01,  2.9507e-01,  2.0148e-01,  1.4246e-01,\n",
       "          5.3882e-01,  1.0515e-01, -1.3768e-01, -3.9665e-02,  1.2112e-01,\n",
       "         -5.4387e-02, -2.2923e-01, -3.3420e-01, -2.5104e-01, -1.7669e-01,\n",
       "          2.6145e-01, -4.1437e-01,  1.2210e-01,  3.4358e-01, -1.5858e-01,\n",
       "         -1.5112e-01, -4.5650e-02, -1.1637e-01,  5.1442e-02,  5.3588e-01,\n",
       "          3.7495e-01,  7.7415e-02,  4.9129e-02, -3.8439e-02,  4.7888e-03,\n",
       "          8.4570e-02,  3.0423e-01, -3.9106e-01,  4.6043e-02,  3.9418e-02,\n",
       "         -2.5644e-02, -3.2118e-02, -2.9114e-01, -2.6540e-01, -2.8928e-01,\n",
       "         -3.2308e-01, -3.9601e-01, -2.4024e-01,  4.5938e-01,  7.0546e-02,\n",
       "         -5.8595e-01,  2.0655e-01,  5.8618e-02,  1.1245e-02,  4.0361e-02,\n",
       "         -5.6218e-02,  3.2164e-01, -1.7159e-01,  3.7672e-01,  1.4503e-01,\n",
       "          1.6672e-01, -1.8257e-01, -1.8256e-01,  7.2209e-02,  3.1364e-02,\n",
       "         -3.6802e-02,  3.4077e-02, -3.6425e-01,  8.1384e-02,  9.9164e-02,\n",
       "         -2.5440e-01, -1.9902e-03,  2.4164e-01,  9.7695e-02, -2.8864e-02,\n",
       "         -1.0104e-01, -3.7586e-01, -1.6407e-01,  1.9516e-01, -2.2058e-01,\n",
       "         -1.3517e-01,  2.6103e-01, -8.7321e-03,  1.6503e-01, -1.5389e-02,\n",
       "          1.9400e-01, -1.0621e-01, -1.5243e-01,  5.0451e-02,  8.5033e-02,\n",
       "          1.1991e-01,  5.5138e-02,  7.2044e-02,  9.8058e-02,  4.2781e-01,\n",
       "         -2.3993e-01, -8.8178e-02,  5.4322e-01, -2.8254e-01, -4.6361e-01,\n",
       "          2.2490e-02, -4.3149e-01,  2.4708e-01,  3.6384e-01, -2.4218e-01,\n",
       "          1.3770e-01, -4.1037e-02,  1.4352e-01,  9.5764e-02, -1.4777e-01,\n",
       "         -7.5789e-02, -6.1003e-02,  1.7431e-01,  1.7119e-01,  9.7455e-02,\n",
       "         -1.0478e-01,  1.0182e-01, -2.8691e-01, -6.9483e-02,  1.2267e-01,\n",
       "         -2.0696e-01, -8.2300e-02,  1.9410e-02, -4.9861e-01,  5.6367e-01,\n",
       "          2.0946e-01,  3.3054e-01,  3.4220e-01,  1.5149e-03,  2.6954e-01,\n",
       "         -3.4557e-01,  2.3208e-01, -1.6558e-01,  1.1434e-01, -1.5031e-01,\n",
       "          6.7576e-02,  4.3267e-01,  3.2987e-01, -5.1781e-02,  2.2983e-01,\n",
       "         -5.4233e-01,  2.5341e-01,  1.5481e-01, -2.4923e-01, -4.1857e-02,\n",
       "         -1.1910e-01,  2.0223e-01,  3.2594e-01, -1.9519e-01, -1.4610e-01,\n",
       "         -2.6301e-01, -5.6150e-01, -2.7514e-02,  4.2243e-02,  2.2976e-01,\n",
       "          5.5659e-02,  1.7390e-01, -4.3629e-01, -1.4281e-01, -8.8900e-02,\n",
       "          1.8169e-01,  4.9799e-01,  1.6645e-01, -5.9588e-02, -3.7891e-01,\n",
       "          2.5218e-01, -2.7147e-01,  1.3107e-01,  4.8591e-01, -1.2478e-02,\n",
       "         -1.7902e-01, -3.7335e-01, -9.3164e-02,  1.3151e-01,  1.8643e-02,\n",
       "         -1.7324e-01,  3.2543e-02,  1.8038e-01,  1.0111e-01,  1.8414e-02,\n",
       "          9.2738e-02, -5.1012e-02,  9.8927e-02,  5.0624e-01, -7.7286e-02,\n",
       "         -8.5452e-02,  7.7281e-02,  4.3140e-01, -1.8113e-01, -7.1271e-02,\n",
       "          2.9622e-02,  1.8596e-01, -2.2850e-01,  3.1321e-01, -8.0671e-02,\n",
       "          2.1015e-01, -1.7356e-02, -4.0393e-02, -3.1224e-01,  1.8986e-01,\n",
       "          3.6507e-02, -3.6388e-02,  1.3280e-01,  9.8140e-02,  2.8934e-01,\n",
       "          1.8737e-01, -3.0588e-01, -2.2622e-01,  6.6516e-02,  1.4985e-01,\n",
       "          2.3149e-01,  3.6484e-01,  1.4219e-01, -1.5066e-01, -3.8301e-03,\n",
       "          3.6438e-02,  2.4553e-01, -8.0863e-02, -1.9318e-01, -6.3151e-02,\n",
       "          9.3362e-02,  1.4142e-01, -3.9657e-02,  2.3132e-01, -5.0296e-02,\n",
       "          4.1388e-02, -7.4156e-02,  1.8733e-01, -3.5837e-01,  6.5993e-01,\n",
       "         -4.1042e-01,  8.0873e-02,  4.7830e-01,  9.5330e-02,  1.5462e-01,\n",
       "          1.8953e-01, -6.5612e-01, -1.2158e-01,  1.0773e-01, -1.4821e-01,\n",
       "         -6.1834e-01, -5.5237e-02, -1.1864e-01,  1.1757e-01,  1.2268e-01,\n",
       "          3.9956e-02,  1.9074e-01, -2.0611e-01,  5.4845e-02,  1.7759e-01,\n",
       "          5.7699e-03, -3.9172e-01, -2.6938e-01, -1.9517e-01, -1.3915e-01,\n",
       "         -2.5603e-01, -1.4976e-01, -1.2859e-01, -1.7776e-02,  8.1644e-02,\n",
       "         -2.1633e-01, -2.9969e-01,  7.4728e-02, -5.0702e-02,  3.6769e-01,\n",
       "          1.7614e-01,  4.1146e-01, -1.4604e-01, -2.8663e-01,  2.7395e-01,\n",
       "         -6.8120e-02,  1.3837e-01, -1.8537e-01, -1.0137e-01, -7.5609e-02,\n",
       "         -1.9624e-01, -1.2647e-01, -3.5049e-01,  2.8462e-01, -2.9262e-01,\n",
       "         -1.2708e-01,  4.9085e-02,  2.2203e-01, -1.0463e-01, -9.9008e-02,\n",
       "          1.2456e-01,  6.3956e-02, -5.6581e-01,  1.9781e-01,  6.2380e-02,\n",
       "         -2.0596e-01, -3.1161e-01, -1.4489e-01, -2.6722e-01, -1.7612e-01,\n",
       "         -2.3490e-01,  4.8579e-02, -2.7640e-01, -3.1689e-01,  4.6244e-01,\n",
       "         -4.7936e-03, -1.2517e-01, -4.7992e-02,  4.3846e-02,  1.2266e-01,\n",
       "          1.4881e-01, -2.2079e-01,  1.7854e-01, -8.8636e-03,  7.7620e-02,\n",
       "          2.6916e-01,  1.6689e-02, -8.9590e-02, -1.5538e-01, -7.3340e-02,\n",
       "          4.3096e-01,  2.3478e-01,  2.2273e-02,  1.5894e-01,  1.3401e-01,\n",
       "          4.2128e-02, -3.8488e-01, -3.3684e-01,  2.5180e-02,  3.1752e-01,\n",
       "         -4.5365e-01, -1.8329e-01, -1.4445e-01, -8.2362e-03,  2.0979e-01,\n",
       "          7.5398e-02,  2.1105e-01,  2.0597e-01,  1.4262e-02,  3.6506e-01,\n",
       "         -2.2448e-03, -2.2799e-02,  1.0030e-02, -1.7915e-01, -1.5346e-01,\n",
       "         -7.4686e-03,  8.9556e-02,  7.2438e-02,  2.0604e-01,  8.9202e-02,\n",
       "          1.1988e-01,  1.3588e-01, -2.2958e-01, -1.6829e-02, -4.8848e-01,\n",
       "          3.1642e-01, -4.9848e-01, -3.2444e-01,  8.6187e-02,  1.6551e-01,\n",
       "         -2.3119e-01, -2.5600e-01, -1.0505e-01, -3.0704e-01, -3.1137e-01,\n",
       "          2.3619e-01,  1.5545e-01,  1.4185e-01,  1.1001e-01,  4.8053e-02,\n",
       "         -2.5933e-01, -1.6602e-01, -1.1401e-01,  1.1748e-01,  3.1168e-01,\n",
       "          1.8450e-01,  6.8912e-02,  3.0017e-02, -1.1217e-02, -3.3428e-02,\n",
       "          4.9279e-01, -8.2520e-02, -1.1949e-01,  1.1988e-01, -4.4163e-01,\n",
       "          2.9761e-01, -4.4479e-02, -6.1391e-02, -7.7153e-02,  8.2959e-02,\n",
       "          8.6896e-02, -2.2408e-01, -2.1842e-01,  2.2116e-01, -4.3415e-01,\n",
       "         -2.5454e-01, -1.3809e-01, -4.2365e-02,  2.9926e-01,  1.5046e-01,\n",
       "          5.6036e-02,  3.0437e-01,  1.2037e-01, -3.1412e-01, -8.5808e-02,\n",
       "         -1.0684e-01, -3.0540e-01,  2.4183e-01,  5.2989e-02, -6.3078e-02,\n",
       "         -9.7672e-02, -2.8618e-01, -5.7476e-01,  3.3810e-01,  1.6430e-01,\n",
       "         -8.1832e-02, -3.4400e-01,  2.8328e-01,  2.3420e-01,  2.4005e-02,\n",
       "         -3.5734e-01,  8.2666e-02,  1.1351e-01, -1.5997e-01, -3.4124e-01,\n",
       "          9.4838e-02,  5.1708e-01, -7.3096e-02, -5.2062e-03,  1.6460e-01,\n",
       "         -4.4237e-01,  5.0847e-01,  3.4666e-02, -2.3948e-01,  3.9038e-01,\n",
       "          3.7832e-02,  1.3086e-01,  3.8896e-01, -1.2660e-01, -8.3348e-02,\n",
       "          2.4485e-02, -3.3816e-01,  1.6180e-01, -5.6441e-02, -4.0275e-02,\n",
       "         -2.6310e-01, -6.5114e-02,  2.3856e-01, -7.9945e-02,  1.4229e-02,\n",
       "         -3.5722e-01,  1.1467e-01,  3.8541e-02,  3.9514e-02, -3.6331e-01,\n",
       "          2.5359e-01, -1.5310e-02, -2.2140e-01, -1.3563e-02, -2.5022e-01,\n",
       "          2.8545e-01,  1.7621e-01,  1.8897e-01,  2.4257e-01,  1.7963e-01,\n",
       "         -2.6347e-01,  3.6592e-02,  2.8415e-01,  2.0088e-01, -3.8588e-01,\n",
       "          4.6667e-05, -1.1903e-01, -3.9359e-01, -1.7570e-01, -1.5985e-01,\n",
       "          6.0848e-03, -6.5344e-02,  3.8871e-01, -1.1915e-02, -2.5218e-01,\n",
       "          8.4566e-02,  1.8972e-01,  5.2114e-03, -1.5677e-01, -1.8240e-01,\n",
       "         -5.1814e-02, -1.3050e-02,  1.4135e-01, -3.9469e-01, -5.5948e-02,\n",
       "         -8.4176e-02, -8.0259e-02, -1.3391e-02, -6.4033e-01,  9.5135e-02,\n",
       "         -2.5827e-01, -7.1624e-02, -2.0717e-01, -2.5763e-01, -1.4691e-01,\n",
       "         -5.9270e-02, -1.3093e-01,  1.5563e-01, -2.4766e-01,  2.6529e-01,\n",
       "          5.8360e-01,  6.8834e-02,  5.3201e-01, -8.2175e-02,  2.0965e-01,\n",
       "          2.3747e-01, -7.4341e-02,  9.4223e-02, -9.4819e-03, -3.8287e-02,\n",
       "         -2.4646e-01, -7.9957e-02, -3.3460e-01, -5.9834e-02, -8.0018e-03,\n",
       "          1.6656e-01,  5.8688e-02, -9.6127e-02, -2.8212e-01,  2.7128e-01,\n",
       "          5.1187e-02, -1.4533e-01,  2.6320e-01,  2.6228e-01,  1.3351e-01,\n",
       "         -1.9504e-02, -4.8032e-01, -3.8820e-01, -1.3793e-02,  2.3408e-01,\n",
       "         -7.1174e-02, -1.6412e-01,  2.8503e-01, -2.4396e-02,  1.1824e-01,\n",
       "         -2.7606e-01,  2.0096e-01, -2.4351e-01,  4.5874e-01, -6.7064e-01,\n",
       "         -6.2768e-01, -5.0063e-02,  1.3853e-01, -4.8162e-01,  2.9063e-01,\n",
       "          2.4533e-03,  1.3808e-01, -1.8580e-02, -6.9755e-02, -8.6019e-02,\n",
       "          8.0025e-02,  1.6269e-01,  2.2862e-03,  3.9672e-01,  6.7041e-02,\n",
       "         -2.3599e-01, -1.5890e-01, -1.0970e-03,  2.6577e-01,  1.0828e-01,\n",
       "         -2.7696e-01, -3.1575e-01, -4.9061e-02,  1.0943e-01,  3.6883e-01,\n",
       "         -1.3091e-01,  2.4888e-02, -1.0979e-01,  1.4796e-01, -1.9725e-01,\n",
       "         -2.5954e-02, -2.3862e-01,  2.5316e-01,  1.9543e-01,  2.8035e-02,\n",
       "         -3.2503e-01, -5.3728e-02,  6.1899e-02,  5.9938e-02,  1.8315e-01,\n",
       "         -4.4103e-01, -3.6921e-01,  7.2659e-02,  2.3164e-02, -7.2749e-02,\n",
       "         -1.4921e-01,  4.0437e-02, -8.6879e-02,  9.5774e-02,  1.8172e-01,\n",
       "         -1.2921e-01, -4.3558e-01,  2.8864e-01, -8.8427e-02, -2.9523e-01,\n",
       "         -2.8355e-01,  1.2026e-03,  2.0878e-01,  2.1212e-01,  4.0389e-02,\n",
       "         -6.3841e-02,  5.9913e-02,  1.9246e-01,  2.3349e-01,  5.0093e-03,\n",
       "         -2.2253e-01,  3.3178e-02,  3.9924e-01,  2.3240e-02,  2.8399e-01,\n",
       "          3.8819e-01, -1.9283e-01, -7.6775e-02,  1.1110e-01,  3.9345e-01,\n",
       "         -3.1885e-02,  4.0382e-01,  2.0712e-02,  9.8728e-02,  1.2321e-01,\n",
       "          8.9316e-02, -4.3793e-01, -4.0394e-02, -5.6382e-02,  4.5454e-01,\n",
       "          3.9249e-02, -7.3532e-02, -3.3778e-01, -2.1776e-01, -6.0487e-01,\n",
       "         -6.1350e-02, -9.4636e-02, -2.7614e-01, -1.9343e-01, -1.2725e-01]],\n",
       "       grad_fn=<AddmmBackward0>)"
      ]
     },
     "execution_count": 12,
     "metadata": {},
     "output_type": "execute_result"
    }
   ],
   "source": [
    "out = model(x)\n",
    "out"
   ]
  },
  {
   "cell_type": "code",
   "execution_count": 34,
   "id": "a28448d2-154c-4fad-9428-13586fee428a",
   "metadata": {},
   "outputs": [
    {
     "data": {
      "text/plain": [
       "torch.Size([1, 3, 1, 1])"
      ]
     },
     "execution_count": 34,
     "metadata": {},
     "output_type": "execute_result"
    }
   ],
   "source": [
    "out = nn.AdaptiveAvgPool2d(1)(x)\n",
    "out.shape"
   ]
  },
  {
   "cell_type": "code",
   "execution_count": 33,
   "id": "d6419ca4-2ef8-4aef-bf56-31a7ec6e5a04",
   "metadata": {},
   "outputs": [
    {
     "data": {
      "text/plain": [
       "tensor([[-0.0015,  0.0068,  0.0008]])"
      ]
     },
     "execution_count": 33,
     "metadata": {},
     "output_type": "execute_result"
    }
   ],
   "source": [
    "out.view(out.size(0) ,-1)"
   ]
  },
  {
   "cell_type": "code",
   "execution_count": 32,
   "id": "06570c5b-9048-4db4-8e87-4b33b413e672",
   "metadata": {},
   "outputs": [
    {
     "data": {
      "text/plain": [
       "1"
      ]
     },
     "execution_count": 32,
     "metadata": {},
     "output_type": "execute_result"
    }
   ],
   "source": [
    "x.size(0)"
   ]
  },
  {
   "cell_type": "code",
   "execution_count": 9,
   "id": "f9cb3c98-f7e0-4b05-9c42-e76089e64cdd",
   "metadata": {},
   "outputs": [
    {
     "name": "stdout",
     "output_type": "stream",
     "text": [
      "0 6\n",
      "1 12\n",
      "2 32\n",
      "3 32\n"
     ]
    }
   ],
   "source": [
    "for i, j in enumerate(block['DenseNet169']):\n",
    "    print(i,j)"
   ]
  },
  {
   "cell_type": "code",
   "execution_count": 10,
   "id": "272bcb64-e792-42b0-9eb6-188cb7a77edc",
   "metadata": {},
   "outputs": [],
   "source": [
    "block_config=(6, 12, 24, 16)"
   ]
  },
  {
   "cell_type": "code",
   "execution_count": 12,
   "id": "42f8c467-97bd-4955-9ada-1ee838b708c0",
   "metadata": {},
   "outputs": [
    {
     "data": {
      "text/plain": [
       "3"
      ]
     },
     "execution_count": 12,
     "metadata": {},
     "output_type": "execute_result"
    }
   ],
   "source": [
    "len(block_config) -1"
   ]
  },
  {
   "cell_type": "code",
   "execution_count": 27,
   "id": "57243b28-0df7-4c69-a992-1c474500fcac",
   "metadata": {},
   "outputs": [
    {
     "data": {
      "text/plain": [
       "torch.Size([1, 3, 224, 224])"
      ]
     },
     "execution_count": 27,
     "metadata": {},
     "output_type": "execute_result"
    }
   ],
   "source": [
    "x.shape"
   ]
  },
  {
   "cell_type": "code",
   "execution_count": 29,
   "id": "fce1782b-330e-4281-9a0b-a4a1c6912517",
   "metadata": {},
   "outputs": [],
   "source": []
  },
  {
   "cell_type": "code",
   "execution_count": null,
   "id": "33869d52-f4d0-43d4-b4b4-27118dd85166",
   "metadata": {},
   "outputs": [],
   "source": []
  },
  {
   "cell_type": "code",
   "execution_count": null,
   "id": "79197f8a-549c-4d71-bdf8-499ca12f2af0",
   "metadata": {},
   "outputs": [],
   "source": []
  },
  {
   "cell_type": "code",
   "execution_count": 39,
   "id": "86779dce-6c61-4889-84a4-62c6cd92201b",
   "metadata": {},
   "outputs": [
    {
     "data": {
      "text/plain": [
       "[0, 1, 2, 3]"
      ]
     },
     "execution_count": 39,
     "metadata": {},
     "output_type": "execute_result"
    }
   ],
   "source": [
    "[ i for i in range(4)]\n"
   ]
  },
  {
   "cell_type": "code",
   "execution_count": 30,
   "id": "ca81b678-c43e-4b08-b81c-1459cb67df4d",
   "metadata": {},
   "outputs": [
    {
     "data": {
      "text/plain": [
       "torch.Size([1, 3, 224, 224])"
      ]
     },
     "execution_count": 30,
     "metadata": {},
     "output_type": "execute_result"
    }
   ],
   "source": [
    "\n",
    "x.shape"
   ]
  },
  {
   "cell_type": "code",
   "execution_count": 36,
   "id": "4134cb58-946b-4925-8b3d-fad2a48f3cde",
   "metadata": {},
   "outputs": [
    {
     "data": {
      "text/plain": [
       "torch.Size([1, 3, 224, 448])"
      ]
     },
     "execution_count": 36,
     "metadata": {},
     "output_type": "execute_result"
    }
   ],
   "source": [
    "torch.cat([x,x],-1).shape"
   ]
  },
  {
   "cell_type": "code",
   "execution_count": 9,
   "id": "a51275ec-4bc4-4561-b646-9d8c915c06f1",
   "metadata": {},
   "outputs": [
    {
     "data": {
      "text/plain": [
       "tensor([[[[15, 10,  9,  1],\n",
       "          [14, 10,  8, 14],\n",
       "          [ 8,  4, 12, 12],\n",
       "          [ 7, 10, 14, 12]]]])"
      ]
     },
     "execution_count": 9,
     "metadata": {},
     "output_type": "execute_result"
    }
   ],
   "source": [
    "torch.manual_seed(0)\n",
    "y = torch.randint(1,16, (4,4)).reshape(1,1,4,4)\n",
    "y\n"
   ]
  },
  {
   "cell_type": "code",
   "execution_count": 20,
   "id": "818ac284-ec10-40ab-aece-969a73fa8c6a",
   "metadata": {},
   "outputs": [
    {
     "data": {
      "text/plain": [
       "tensor([[[[0.6977, 0.8000, 0.1610, 0.2823],\n",
       "          [0.6816, 0.9152, 0.3971, 0.8742],\n",
       "          [0.4194, 0.5529, 0.9527, 0.0362],\n",
       "          [0.1852, 0.3734, 0.3051, 0.9320]]]])"
      ]
     },
     "execution_count": 20,
     "metadata": {},
     "output_type": "execute_result"
    }
   ],
   "source": [
    "y1 = torch.rand(16).reshape(1,1,4,4)\n",
    "y1"
   ]
  },
  {
   "cell_type": "code",
   "execution_count": 21,
   "id": "4435a7bc-bb5f-40b4-a69b-e8f8aef198a3",
   "metadata": {},
   "outputs": [
    {
     "data": {
      "text/plain": [
       "tensor([[[[0.7736, 0.4286],\n",
       "          [0.3827, 0.5565]]]])"
      ]
     },
     "execution_count": 21,
     "metadata": {},
     "output_type": "execute_result"
    }
   ],
   "source": [
    "class Pool(nn.Module):\n",
    "    def __init__(self):\n",
    "        super(Pool, self).__init__()\n",
    "        self.pool = nn.MaxPool2d(kernel_size=2, stride=2)\n",
    "        self.avg = nn.AvgPool2d(kernel_size=2, stride=2)\n",
    "        self.adaptive = nn.AdaptiveAvgPool2d(\n",
    "\n",
    "    def forward(self, x, pool ):\n",
    "        if pool == \"Max\":\n",
    "             return self.pool(x)\n",
    "        elif pool == \"Avg\":\n",
    "             return self.avg(x)\n",
    "        \n",
    "p = Pool()\n",
    "p(y1, \"Avg\")"
   ]
  },
  {
   "cell_type": "code",
   "execution_count": 15,
   "id": "4a67f576-f036-4087-a14f-5877a3217b74",
   "metadata": {},
   "outputs": [
    {
     "data": {
      "text/plain": [
       "torch.Size([1, 1, 4, 4])"
      ]
     },
     "execution_count": 15,
     "metadata": {},
     "output_type": "execute_result"
    }
   ],
   "source": [
    "y = torch.rand(1, 1, 4, 4)\n",
    "y.shape"
   ]
  },
  {
   "cell_type": "code",
   "execution_count": 17,
   "id": "fa03c287-b5df-4d11-8010-bf120380094b",
   "metadata": {},
   "outputs": [
    {
     "data": {
      "text/plain": [
       "tensor([[[[0.2387, 0.2952, 0.3596, 0.4927],\n",
       "          [0.2543, 0.0102, 0.7773, 0.5487],\n",
       "          [0.7067, 0.2236, 0.2989, 0.0781],\n",
       "          [0.0255, 0.8643, 0.2114, 0.2218]]]])"
      ]
     },
     "execution_count": 17,
     "metadata": {},
     "output_type": "execute_result"
    }
   ],
   "source": [
    "y"
   ]
  },
  {
   "cell_type": "code",
   "execution_count": 16,
   "id": "04b83ac4-2655-4564-b1b1-1970448e43bb",
   "metadata": {},
   "outputs": [
    {
     "data": {
      "text/plain": [
       "tensor([[[[0.2952, 0.7773],\n",
       "          [0.8643, 0.2989]]]])"
      ]
     },
     "execution_count": 16,
     "metadata": {},
     "output_type": "execute_result"
    }
   ],
   "source": [
    "pool = nn.MaxPool2d(kernel_size=2, stride=2)\n",
    "pool(y)"
   ]
  },
  {
   "cell_type": "code",
   "execution_count": 18,
   "id": "c1e632c2-76f9-4d80-80e4-1ca8a00d2002",
   "metadata": {},
   "outputs": [
    {
     "data": {
      "text/plain": [
       "tensor([[[[0.1996, 0.5446],\n",
       "          [0.4550, 0.2026]]]])"
      ]
     },
     "execution_count": 18,
     "metadata": {},
     "output_type": "execute_result"
    }
   ],
   "source": [
    "pool = nn.AvgPool2d(kernel_size=2, stride=2)\n",
    "pool(y)"
   ]
  },
  {
   "cell_type": "code",
   "execution_count": 19,
   "id": "b291fc47-ebc1-406b-ad1c-b38625782fb7",
   "metadata": {},
   "outputs": [
    {
     "data": {
      "text/plain": [
       "tensor([[[[0.1996, 0.5446],\n",
       "          [0.4550, 0.2026]]]])"
      ]
     },
     "execution_count": 19,
     "metadata": {},
     "output_type": "execute_result"
    }
   ],
   "source": [
    "pool = nn.AdaptiveAvgPool2d((2,2))\n",
    "pool(y)"
   ]
  },
  {
   "cell_type": "code",
   "execution_count": 20,
   "id": "d22461c7-4ba8-4556-9225-9ba20b0620a7",
   "metadata": {},
   "outputs": [
    {
     "data": {
      "text/plain": [
       "tensor([[[[0.3504]]]])"
      ]
     },
     "execution_count": 20,
     "metadata": {},
     "output_type": "execute_result"
    }
   ],
   "source": [
    "pool = nn.AdaptiveAvgPool2d((1,1))\n",
    "pool(y)"
   ]
  },
  {
   "cell_type": "code",
   "execution_count": 24,
   "id": "934cb8cf-518c-48b2-96ec-23d7ac808aad",
   "metadata": {},
   "outputs": [
    {
     "name": "stdout",
     "output_type": "stream",
     "text": [
      "Tensor: tensor([[[1, 2],\n",
      "         [3, 4]],\n",
      "\n",
      "        [[5, 6],\n",
      "         [7, 8]]])\n",
      "Sum over multiple dimensions: tensor([10, 26])\n"
     ]
    }
   ],
   "source": [
    "x = torch.tensor([[[1, 2], [3, 4]], [[5, 6], [7, 8]]])\n",
    "result = torch.sum(x, dim=(1, 2))  # Sum over dimensions 1 and 2\n",
    "print(\"Tensor:\", x)\n",
    "print(\"Sum over multiple dimensions:\", result)"
   ]
  },
  {
   "cell_type": "code",
   "execution_count": 22,
   "id": "4170bff7-33c8-42b3-95ba-697fb0434d1c",
   "metadata": {},
   "outputs": [
    {
     "data": {
      "text/plain": [
       "torch.Size([2, 2, 2])"
      ]
     },
     "execution_count": 22,
     "metadata": {},
     "output_type": "execute_result"
    }
   ],
   "source": [
    "x.shape"
   ]
  },
  {
   "cell_type": "code",
   "execution_count": 29,
   "id": "03694255-9b7c-4558-9f5b-07f5e22ec4ef",
   "metadata": {},
   "outputs": [
    {
     "data": {
      "text/plain": [
       "tensor(0.3504)"
      ]
     },
     "execution_count": 29,
     "metadata": {},
     "output_type": "execute_result"
    }
   ],
   "source": [
    "y.view(-1).sum()/len(y.view(-1))"
   ]
  },
  {
   "cell_type": "code",
   "execution_count": 31,
   "id": "5fba5b94-438a-4bdc-baf3-a149498faa67",
   "metadata": {},
   "outputs": [
    {
     "data": {
      "text/plain": [
       "tensor([[[1, 2],\n",
       "         [3, 4]],\n",
       "\n",
       "        [[5, 6],\n",
       "         [7, 8]]])"
      ]
     },
     "execution_count": 31,
     "metadata": {},
     "output_type": "execute_result"
    }
   ],
   "source": [
    "x"
   ]
  },
  {
   "cell_type": "code",
   "execution_count": 30,
   "id": "7bd1309f-391c-4e77-992d-08cdbf868f9e",
   "metadata": {},
   "outputs": [
    {
     "data": {
      "text/plain": [
       "tensor([1, 2, 3, 4, 5, 6, 7, 8])"
      ]
     },
     "execution_count": 30,
     "metadata": {},
     "output_type": "execute_result"
    }
   ],
   "source": [
    "x.view(-1)"
   ]
  },
  {
   "cell_type": "code",
   "execution_count": 32,
   "id": "5331a887-7911-4e4d-b022-3cd4861c3f8a",
   "metadata": {},
   "outputs": [
    {
     "data": {
      "text/plain": [
       "tensor([1, 2, 3, 4, 5, 6, 7, 8])"
      ]
     },
     "execution_count": 32,
     "metadata": {},
     "output_type": "execute_result"
    }
   ],
   "source": [
    "x.flatten()"
   ]
  },
  {
   "cell_type": "code",
   "execution_count": 33,
   "id": "8d48fd88-6120-4e66-ab90-fcc6ffb2cc6d",
   "metadata": {},
   "outputs": [
    {
     "data": {
      "text/plain": [
       "tensor([1, 2, 3, 4, 5, 6, 7, 8])"
      ]
     },
     "execution_count": 33,
     "metadata": {},
     "output_type": "execute_result"
    }
   ],
   "source": [
    "x.reshape(-1)"
   ]
  },
  {
   "cell_type": "code",
   "execution_count": 36,
   "id": "26cd91d3-5291-4142-9f8e-e0c475bc378b",
   "metadata": {},
   "outputs": [
    {
     "data": {
      "text/plain": [
       "tensor([1, 2, 3, 4, 5, 6, 7, 8])"
      ]
     },
     "execution_count": 36,
     "metadata": {},
     "output_type": "execute_result"
    }
   ],
   "source": [
    "x.ravel()"
   ]
  },
  {
   "cell_type": "code",
   "execution_count": 37,
   "id": "a6350730-0b81-493a-adb8-e1669ec650fe",
   "metadata": {},
   "outputs": [
    {
     "data": {
      "text/plain": [
       "True"
      ]
     },
     "execution_count": 37,
     "metadata": {},
     "output_type": "execute_result"
    }
   ],
   "source": [
    "x.is_contiguous()"
   ]
  },
  {
   "cell_type": "code",
   "execution_count": 11,
   "id": "1f840ad7-4b08-4691-ae74-1ed0947c6822",
   "metadata": {},
   "outputs": [
    {
     "data": {
      "text/plain": [
       "8"
      ]
     },
     "execution_count": 11,
     "metadata": {},
     "output_type": "execute_result"
    }
   ],
   "source": [
    "17//2"
   ]
  },
  {
   "cell_type": "code",
   "execution_count": 12,
   "id": "87c658c3-19d2-4437-b25b-8727fca15300",
   "metadata": {},
   "outputs": [
    {
     "data": {
      "text/plain": [
       "9.0"
      ]
     },
     "execution_count": 12,
     "metadata": {},
     "output_type": "execute_result"
    }
   ],
   "source": [
    "19.5//2\n"
   ]
  },
  {
   "cell_type": "code",
   "execution_count": null,
   "id": "f41808f7-7261-4ebf-8b96-77d2761c0263",
   "metadata": {},
   "outputs": [],
   "source": []
  }
 ],
 "metadata": {
  "kernelspec": {
   "display_name": "Python 3 (ipykernel)",
   "language": "python",
   "name": "python3"
  },
  "language_info": {
   "codemirror_mode": {
    "name": "ipython",
    "version": 3
   },
   "file_extension": ".py",
   "mimetype": "text/x-python",
   "name": "python",
   "nbconvert_exporter": "python",
   "pygments_lexer": "ipython3",
   "version": "3.9.18"
  }
 },
 "nbformat": 4,
 "nbformat_minor": 5
}
