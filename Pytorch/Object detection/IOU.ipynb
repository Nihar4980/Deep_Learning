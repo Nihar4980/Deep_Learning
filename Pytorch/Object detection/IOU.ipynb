{
 "cells": [
  {
   "cell_type": "code",
   "execution_count": 43,
   "id": "6c95f336-aace-4ace-90b1-922946abb343",
   "metadata": {},
   "outputs": [],
   "source": [
    "import math\n",
    "import torch\n",
    "def intersection_over_union(boxes_preds, boxes_labels, box_format=\"midpoint\",GIoU=False, UIoU= False, DIoU=False, CIoU=False, AIoU= False, ICIoU=False ,beta =1, eps=1e-7):\n",
    "    # boxes_preds shape is (N, 4) where N is the number of bboxes\n",
    "    # bboxes_labels shape is (N, 4)\n",
    "\n",
    "    if box_format==\"midpoint\":\n",
    "        box1_x1 = boxes_preds[..., 0:1] - boxes_preds[..., 2:3] / 2\n",
    "        box1_y1 = boxes_preds[..., 1:2] - boxes_preds[..., 3:4] / 2\n",
    "        box1_x2 = boxes_preds[..., 0:1] + boxes_preds[..., 2:3] / 2\n",
    "        box1_y2 = boxes_preds[..., 1:2] + boxes_preds[..., 3:4] / 2\n",
    "        box2_x1 = boxes_labels[..., 0:1] - boxes_labels[..., 2:3] / 2\n",
    "        box2_y1 = boxes_labels[..., 1:2] - boxes_labels[..., 3:4] / 2\n",
    "        box2_x2 = boxes_labels[..., 0:1] + boxes_labels[..., 2:3] / 2\n",
    "        box2_y2 = boxes_labels[..., 1:2] + boxes_labels[..., 3:4] / 2\n",
    "\n",
    "    elif box_format == \"corners\":\n",
    "        box1_x1 = boxes_preds[..., 0:1]\n",
    "        box1_y1 = boxes_preds[..., 1:2]\n",
    "        box1_x2 = boxes_preds[..., 2:3]\n",
    "        box1_y2 = boxes_preds[..., 3:4] # (N, 1)\n",
    "        box2_x1 = boxes_labels[..., 0:1]\n",
    "        box2_y1 = boxes_labels[..., 1:2]\n",
    "        box2_x2 = boxes_labels[..., 2:3]\n",
    "        box2_y2 = boxes_labels[..., 3:4]\n",
    "\n",
    "    x1 = box1_x1.max(box2_x1)\n",
    "    y1 = box1_y1.max(box2_y1)\n",
    "    x2 = box1_x2.min(box2_x2)\n",
    "    y2 = box1_y2.min(box2_y2)\n",
    "\n",
    "    w1, h1 = box1_x2 - box1_x1, box1_y2 - box1_y1 + eps\n",
    "    \n",
    "    w2, h2 = box2_x2 - box2_x1, box2_y2 - box2_y1 + eps\n",
    "    \n",
    "    \n",
    "\n",
    "    #.clamp(0) is for the case when they donot intersect\n",
    "    intersection = (x2 - x1).clamp(0) * (y2 - y1).clamp(0)\n",
    "\n",
    "    box1_area = abs((box1_x2 - box1_x1) * (box1_y1 - box1_y2))\n",
    "    box2_area = abs((box2_x2 - box2_x1) * (box2_y1 - box2_y2))\n",
    "\n",
    "    union = box1_area + box2_area - intersection\n",
    "\n",
    "    iou = intersection/(union + 1e-6)\n",
    "\n",
    "    if ICIoU or AIoU or CIoU or  DIoU or UIoU or GIoU :\n",
    "        cw = box1_x2.max(box2_x2) - box1_x1.min(box2_x1)  # convex (smallest enclosing box) width\n",
    "        ch = box1_y2.max(box2_y2) - box1_y1.min(box2_y1)  # convex height\n",
    "\n",
    "        c2 = cw.pow(2) + ch.pow(2) + eps  # convex diagonal squared\n",
    "            \n",
    "        rho2 = (\n",
    "                (box2_x1 + box2_x2 - box1_x1 - box1_x2).pow(2) + (box2_y1 + box2_y2 - box1_y1 - box1_y2).pow(2))/ 4  # center dist**2\n",
    "        \n",
    "        if CIoU or DIoU or ICIoU:  # Distance or Complete IoU https://arxiv.org/abs/1911.08287v1\n",
    "            \n",
    "            if CIoU:  # https://github.com/Zzh-tju/DIoU-SSD-pytorch/blob/master/utils/box/box_utils.py#L47\n",
    "                v = (4 / math.pi**2) * ((w2 / h2).atan() - (w1 / h1).atan()).pow(2)\n",
    "                \n",
    "                with torch.no_grad():\n",
    "                    alpha = v / (v - iou + (1 + eps))\n",
    "                if AIoU:\n",
    "                    A_Agt2 = (box1_x1 - box2_x1).pow(2) + (box1_y1 - box2_y1).pow(2)\n",
    "                    B_Bgt2 = (box1_x2 - box2_x2).pow(2) + (box1_y2 - box2_y2).pow(2)\n",
    "                    return iou - (rho2 / c2) + (v * alpha) + beta * ((A_Agt2 + B_Bgt2)/c2)   # AIoU\n",
    "                \n",
    "                return iou - (rho2 / c2) + (v * alpha)  # CIoU\n",
    "            elif ICIoU:\n",
    "                vv = (8 / math.pi**2) * (((w2 / w1).atan() - (math.pi/4)).pow(2)  - ((h2 / h1).atan() - (math.pi/4)).pow(2))\n",
    "                \n",
    "                with torch.no_grad():\n",
    "                    alpha = vv / (vv - iou + (1 + eps))\n",
    "                return iou - (rho2 / c2 + vv * alpha)  # ICIoU\n",
    "        \n",
    "                \n",
    "            return iou - (rho2 / c2)  # DIoU\n",
    "        c_area = cw * ch + eps  # convex area\n",
    "        giou = iou - (c_area - union) / c_area  # GIoU https://arxiv.org/pdf/1902.09630.pdf\n",
    "        if UIoU:\n",
    "            normalized_distance = c2/rho2\n",
    "\n",
    "            similarity = math.sqrt(min(box1_area, box1_area) / max(box1_area, box1_area)) if max(box1_area, box1_area) > 0 else 0\n",
    "            if iou == 0:  # Non-overlapping case\n",
    "                uiou = 0 + 0.5 * (1 - normalized_distance)\n",
    "            elif iou > 0 and giou < 0.98:  # Partial overlap\n",
    "                uiou = 0.5 + 0.48 * (1 + giou) / 2\n",
    "            else:  # One box inside another\n",
    "                uiou = 0.98 + 0.02 * ((1 / similarity ** 2) + (1 - normalized_distance)) / 2\n",
    "        \n",
    "            return uiou \n",
    "            \n",
    "        return giou\n",
    "    return iou  # IoU"
   ]
  },
  {
   "cell_type": "code",
   "execution_count": 44,
   "id": "37da16dd-fd44-480d-bfcb-e0f34af85f55",
   "metadata": {},
   "outputs": [],
   "source": [
    "box1 = torch.tensor([1,1,3,3])\n",
    "box2 = torch.tensor([2,2,4,4])"
   ]
  },
  {
   "cell_type": "code",
   "execution_count": 45,
   "id": "0634c09a-c85c-47cd-a798-ba5a13ef010f",
   "metadata": {},
   "outputs": [
    {
     "data": {
      "text/plain": [
       "tensor([0.1429])"
      ]
     },
     "execution_count": 45,
     "metadata": {},
     "output_type": "execute_result"
    }
   ],
   "source": [
    "iou = intersection_over_union(box1, box2, box_format=\"corners\",)\n",
    "iou"
   ]
  },
  {
   "cell_type": "code",
   "execution_count": 46,
   "id": "cb3f4ecd-26c9-47e7-81e5-3cf900e4c7fb",
   "metadata": {},
   "outputs": [
    {
     "data": {
      "text/plain": [
       "tensor([0.0317])"
      ]
     },
     "execution_count": 46,
     "metadata": {},
     "output_type": "execute_result"
    }
   ],
   "source": [
    "diou = intersection_over_union(box1, box2, box_format=\"corners\",DIoU=True)\n",
    "diou"
   ]
  },
  {
   "cell_type": "code",
   "execution_count": 47,
   "id": "89638b73-ba45-44d9-8bf7-0d1e06b1b059",
   "metadata": {},
   "outputs": [
    {
     "data": {
      "text/plain": [
       "tensor([-0.0794])"
      ]
     },
     "execution_count": 47,
     "metadata": {},
     "output_type": "execute_result"
    }
   ],
   "source": [
    "giou = intersection_over_union(box1, box2, box_format=\"corners\",GIoU=True)\n",
    "giou"
   ]
  },
  {
   "cell_type": "code",
   "execution_count": 48,
   "id": "1c3b7b20-0902-4c7f-81d4-ee9f4c7dea01",
   "metadata": {},
   "outputs": [
    {
     "data": {
      "text/plain": [
       "tensor([0.0317])"
      ]
     },
     "execution_count": 48,
     "metadata": {},
     "output_type": "execute_result"
    }
   ],
   "source": [
    "ciou = intersection_over_union(box1, box2, box_format=\"corners\",CIoU=True)\n",
    "ciou"
   ]
  },
  {
   "cell_type": "code",
   "execution_count": 49,
   "id": "433a827d-b72b-4089-ad16-2dcf65c7773c",
   "metadata": {},
   "outputs": [
    {
     "data": {
      "text/plain": [
       "tensor([0.0317])"
      ]
     },
     "execution_count": 49,
     "metadata": {},
     "output_type": "execute_result"
    }
   ],
   "source": [
    "iciou = intersection_over_union(box1, box2, box_format=\"corners\",ICIoU=True)\n",
    "iciou"
   ]
  },
  {
   "cell_type": "code",
   "execution_count": 50,
   "id": "017bc1c7-4d30-404c-8045-4b292dc2b702",
   "metadata": {},
   "outputs": [
    {
     "data": {
      "text/plain": [
       "tensor([-0.0794])"
      ]
     },
     "execution_count": 50,
     "metadata": {},
     "output_type": "execute_result"
    }
   ],
   "source": [
    "aiou = intersection_over_union(box1, box2, box_format=\"corners\",AIoU=True)\n",
    "aiou"
   ]
  },
  {
   "cell_type": "code",
   "execution_count": 53,
   "id": "e7e0d2bf-a0f8-4179-a48c-764d0c9d918b",
   "metadata": {},
   "outputs": [
    {
     "data": {
      "text/plain": [
       "tensor([0.7210])"
      ]
     },
     "execution_count": 53,
     "metadata": {},
     "output_type": "execute_result"
    }
   ],
   "source": [
    "uiou = intersection_over_union(box1, box2, box_format=\"corners\",UIoU=True)\n",
    "uiou"
   ]
  },
  {
   "cell_type": "code",
   "execution_count": null,
   "id": "e46a2c78-47bc-4095-bb7b-345d3802626b",
   "metadata": {},
   "outputs": [],
   "source": []
  },
  {
   "cell_type": "code",
   "execution_count": null,
   "id": "bf978c8c-2c2c-4c47-8b03-73223e11129a",
   "metadata": {},
   "outputs": [],
   "source": []
  },
  {
   "cell_type": "code",
   "execution_count": null,
   "id": "5224ffc8-4103-4783-ab9b-8790097aae2b",
   "metadata": {},
   "outputs": [],
   "source": []
  },
  {
   "cell_type": "code",
   "execution_count": null,
   "id": "8f9a2313-3075-4772-b3a0-e4bb7e33366c",
   "metadata": {},
   "outputs": [],
   "source": []
  }
 ],
 "metadata": {
  "kernelspec": {
   "display_name": "Python 3 (ipykernel)",
   "language": "python",
   "name": "python3"
  },
  "language_info": {
   "codemirror_mode": {
    "name": "ipython",
    "version": 3
   },
   "file_extension": ".py",
   "mimetype": "text/x-python",
   "name": "python",
   "nbconvert_exporter": "python",
   "pygments_lexer": "ipython3",
   "version": "3.9.18"
  }
 },
 "nbformat": 4,
 "nbformat_minor": 5
}
