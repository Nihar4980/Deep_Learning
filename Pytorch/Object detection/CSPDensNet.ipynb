{
 "cells": [
  {
   "cell_type": "code",
   "execution_count": 14,
   "id": "e6c220f8-16b7-4eab-be17-d315e4623920",
   "metadata": {},
   "outputs": [
    {
     "data": {
      "text/plain": [
       "torch.Size([1, 15, 224, 224])"
      ]
     },
     "execution_count": 14,
     "metadata": {},
     "output_type": "execute_result"
    }
   ],
   "source": [
    "import torch\n",
    "import torch.nn as nn\n",
    "import torch.nn.functional as F\n",
    "\n",
    "class DenseLayer(nn.Module):\n",
    "    expansion = 4\n",
    "    \n",
    "    def __init__(self, in_channels, growth_rate):\n",
    "        super(DenseLayer, self).__init__()\n",
    "        zip_channels = self.expansion * growth_rate\n",
    "\n",
    "        self.features = nn.Sequential(\n",
    "                            nn.Conv2d(in_channels, zip_channels, kernel_size=1, bias=False),\n",
    "                            nn.BatchNorm2d(zip_channels),\n",
    "                            nn.ReLU(inplace=True),\n",
    "                            nn.Conv2d(zip_channels, growth_rate, kernel_size=3, padding=1, bias=False),\n",
    "                            nn.BatchNorm2d(growth_rate),\n",
    "                            nn.ReLU(inplace=True),\n",
    "                            )    \n",
    "        \n",
    "    def forward(self, x):\n",
    "        out = self.features(x)\n",
    "        return torch.cat([x, out], dim= 1)\n",
    "\n",
    "\n",
    "x = torch.randn(1,3,224,224)\n",
    "model = DenseLayer(3,12)\n",
    "model(x).shape"
   ]
  },
  {
   "cell_type": "code",
   "execution_count": 23,
   "id": "20289521-d599-49c9-8334-b960f1d814b6",
   "metadata": {},
   "outputs": [
    {
     "data": {
      "text/plain": [
       "torch.Size([1, 51, 224, 224])"
      ]
     },
     "execution_count": 23,
     "metadata": {},
     "output_type": "execute_result"
    }
   ],
   "source": [
    "class DenseBlock(nn.Module):\n",
    "    def __init__(self, num_layers, in_channels, growth_rate):\n",
    "        super(DenseBlock, self).__init__()\n",
    "        self.layers = nn.ModuleList([\n",
    "            DenseLayer(in_channels + i * growth_rate, growth_rate) \n",
    "            for i in range(num_layers)\n",
    "        ])\n",
    "        \n",
    "    def forward(self, x):\n",
    "        for layer in self.layers:\n",
    "            #print(layer)\n",
    "            x = layer(x)\n",
    "        return x\n",
    "model = DenseBlock(4,3,12)\n",
    "model(x).shape"
   ]
  },
  {
   "cell_type": "code",
   "execution_count": 248,
   "id": "8cbd2cd2-272e-4e9e-8554-3a9d6a6d2dc6",
   "metadata": {},
   "outputs": [],
   "source": [
    "import torch.nn as nn\n",
    "\n",
    "class TransitionLayer(nn.Module):\n",
    "    def __init__(self, in_channels, out_channels, pool = False):\n",
    "        super(TransitionLayer, self).__init__()\n",
    "        self.layer = nn.Sequential(\n",
    "                nn.Conv2d(in_channels, out_channels, kernel_size=1, stride=1, bias=False),\n",
    "                nn.BatchNorm2d(out_channels),\n",
    "                nn.ReLU(inplace=True),\n",
    "                )\n",
    "        self.pool = pool\n",
    "        self.avg = nn.AvgPool2d(kernel_size=2, stride=2)\n",
    "\n",
    "    \n",
    "    def forward(self, x):\n",
    "        if self.pool:\n",
    "            return self.avg(self.layer(x))\n",
    "        else:\n",
    "            return self.layer(x)\n"
   ]
  },
  {
   "cell_type": "code",
   "execution_count": 249,
   "id": "3d69922e-9619-409e-848f-4cdc8fadb197",
   "metadata": {},
   "outputs": [],
   "source": [
    "class CSPBlock(nn.Module):\n",
    "    def __init__(self, num_layers, in_channels, growth_rate, split_ratio=0.5, pool=True):\n",
    "        super(CSPBlock, self).__init__()\n",
    "        self.split_channels = int(in_channels * split_ratio)\n",
    "        self.remaining_channels = in_channels - self.split_channels\n",
    "\n",
    "        # Split and dense processing\n",
    "        # DenseBlock with the split feature map as input\n",
    "        self.dense_block = DenseBlock(\n",
    "            num_layers=num_layers,\n",
    "            in_channels=self.split_channels,\n",
    "            growth_rate=growth_rate\n",
    "        )\n",
    "        \n",
    "        self.transition_first = TransitionLayer(self.split_channels  + num_layers * growth_rate, \n",
    "                                     self.split_channels)\n",
    "        \n",
    "        self.transition_last = TransitionLayer(in_channels, \n",
    "                                     in_channels)\n",
    "    def forward(self, x):\n",
    "        # Split the input into two parts\n",
    "        part1, part2 = torch.split(x, [self.split_channels, self.remaining_channels], dim=1)\n",
    "  \n",
    "        # Process one part through the dense block\n",
    "        part1 = self.dense_block(part1)\n",
    "\n",
    "        part1 = self.transition_first(part1)\n",
    "        #print(self.dense_block.layers[-1].conv.in_channels)\n",
    "        # Concatenate the processed part with the bypassed part\n",
    "        out = torch.cat([part1, part2], dim=1)\n",
    "        \n",
    "        # Apply the transition layer\n",
    "        out = self.transition_last(out)\n",
    "        return out"
   ]
  },
  {
   "cell_type": "code",
   "execution_count": 250,
   "id": "06ada558-edc2-46cb-b629-0fe0bbe7c36a",
   "metadata": {},
   "outputs": [
    {
     "data": {
      "text/plain": [
       "torch.Size([1, 64, 56, 56])"
      ]
     },
     "execution_count": 250,
     "metadata": {},
     "output_type": "execute_result"
    }
   ],
   "source": [
    "model = CSPBlock(4,64,12)\n",
    "x = torch.randn(1,64, 56, 56)\n",
    "x.shape"
   ]
  },
  {
   "cell_type": "code",
   "execution_count": 251,
   "id": "93b9a95d-3cf1-4739-bed2-3995ab3e125a",
   "metadata": {},
   "outputs": [
    {
     "data": {
      "text/plain": [
       "torch.Size([1, 64, 56, 56])"
      ]
     },
     "execution_count": 251,
     "metadata": {},
     "output_type": "execute_result"
    }
   ],
   "source": [
    "model(x).shape"
   ]
  },
  {
   "cell_type": "code",
   "execution_count": 261,
   "id": "344c37b6-be34-494e-86c8-95d0a8ea9260",
   "metadata": {},
   "outputs": [],
   "source": [
    "class CSPDenseNet(nn.Module):\n",
    "    def __init__(self, growth_rate = 32, block_config=[6, 12, 24, 16], num_init_features=64, split_ratio=0.5, num_classes=1000 ):\n",
    "        super(CSPDenseNet, self).__init__()\n",
    "\n",
    "        # Initial Convolution\n",
    "        self.base_layer = nn.Sequential(\n",
    "                nn.Conv2d(3, num_init_features, kernel_size=7, stride=2, padding=3, bias=False),\n",
    "                nn.BatchNorm2d(num_init_features),\n",
    "                nn.ReLU(inplace=True),\n",
    "                nn.MaxPool2d(kernel_size=3, stride=2, padding=1)\n",
    "                 )\n",
    "\n",
    "        # Dense Blocks and Trasition Layers\n",
    "        num_features = num_init_features\n",
    "        #self.csp_block = CSPBlock(block_config[0], num_features, growth_rate, split_ratio=split_ratio) \n",
    "\n",
    "    \n",
    "        self.layers = nn.ModuleList()\n",
    "        for i, num_layers in enumerate(block_config):\n",
    "            csp_block = CSPBlock(num_layers, num_features, growth_rate, split_ratio)\n",
    "            self.layers.append(csp_block)\n",
    "            \n",
    "\n",
    "            if i != len(block_config) - 1:\n",
    "                self.layers.append(TransitionLayer(num_features, num_features//2,pool=True))\n",
    "                num_features = num_features // 2\n",
    "            \n",
    "        # Final Batch Norm Layer\n",
    "\n",
    "        self.relu = nn.ReLU(inplace=True)\n",
    "        self.bn2 = nn.BatchNorm2d(num_features)\n",
    "        \n",
    "        # Fully Connected Layer for Classification\n",
    "        self.fc = nn.Linear(num_features, num_classes)\n",
    "\n",
    "    def forward(self, x):\n",
    "\n",
    "        x = self.base_layer(x)\n",
    "        # x = self.csp_block(x)\n",
    "        # print(x.shape)\n",
    "\n",
    "        # Pass through the dense blocks and transition layers\n",
    "        for layer in self.layers:\n",
    "            #print(layer)\n",
    "            x = layer(x)\n",
    "        print(x.shape)\n",
    "\n",
    "        # Final batch normalization and global average pooling\n",
    "        x = self.relu(self.bn2(x))\n",
    "        x = nn.AdaptiveAvgPool2d(1)(x)  # Global Average Pooling\n",
    "\n",
    "        # Flatten and pass through the fully connected layer\n",
    "        x = x.view(x.size(0), -1)\n",
    "        x = self.fc(x)\n",
    "\n",
    "        return x"
   ]
  },
  {
   "cell_type": "code",
   "execution_count": 262,
   "id": "f4313195-1618-45d1-ad59-adfc2fb81423",
   "metadata": {},
   "outputs": [],
   "source": [
    "block = {'CSPDenseNet121':[6,12,24,16],\n",
    "         'CSPDenseNet169':[6,12,32,32],\n",
    "         'CSPDenseNet201':[6,12,48,32],\n",
    "         'CSPDenseNet264':[6,12,64,48]\n",
    "        }"
   ]
  },
  {
   "cell_type": "code",
   "execution_count": 269,
   "id": "6772ff59-f649-453b-8a84-a38372615a27",
   "metadata": {},
   "outputs": [],
   "source": [
    "CSPDenseNet121 = CSPDenseNet(growth_rate=32, block_config=block['CSPDenseNet121'], num_init_features=64,split_ratio=0.5, num_classes=1000)"
   ]
  },
  {
   "cell_type": "code",
   "execution_count": 276,
   "id": "b53227e1-21f7-43c2-91ec-2cb0bd633b90",
   "metadata": {},
   "outputs": [
    {
     "data": {
      "text/plain": [
       "torch.Size([1, 3, 612, 612])"
      ]
     },
     "execution_count": 276,
     "metadata": {},
     "output_type": "execute_result"
    }
   ],
   "source": [
    "x = torch.randn(1, 3, 224,224)\n",
    "x.shape"
   ]
  },
  {
   "cell_type": "code",
   "execution_count": 277,
   "id": "efccbd29-ce8e-45fe-a291-d4b4c5003f0f",
   "metadata": {},
   "outputs": [
    {
     "name": "stdout",
     "output_type": "stream",
     "text": [
      "torch.Size([1, 8, 19, 19])\n"
     ]
    },
    {
     "data": {
      "text/plain": [
       "torch.Size([1, 1000])"
      ]
     },
     "execution_count": 277,
     "metadata": {},
     "output_type": "execute_result"
    }
   ],
   "source": [
    "CSPDenseNet121(x).shape"
   ]
  },
  {
   "cell_type": "code",
   "execution_count": 278,
   "id": "cddd6246-27c7-470c-8058-b22689f8d6d1",
   "metadata": {},
   "outputs": [
    {
     "name": "stdout",
     "output_type": "stream",
     "text": [
      "torch.Size([1, 8, 19, 19])\n"
     ]
    },
    {
     "data": {
      "text/plain": [
       "torch.Size([1, 1000])"
      ]
     },
     "execution_count": 278,
     "metadata": {},
     "output_type": "execute_result"
    }
   ],
   "source": [
    "CSPDenseNet169 = CSPDenseNet(growth_rate=32, block_config=block['CSPDenseNet169'], num_init_features=64, num_classes=1000)\n",
    "CSPDenseNet169(x).shape"
   ]
  },
  {
   "cell_type": "code",
   "execution_count": 279,
   "id": "478f0e2f-c910-433a-a872-ed01c29cd610",
   "metadata": {},
   "outputs": [
    {
     "name": "stdout",
     "output_type": "stream",
     "text": [
      "torch.Size([1, 8, 19, 19])\n"
     ]
    },
    {
     "data": {
      "text/plain": [
       "torch.Size([1, 1000])"
      ]
     },
     "execution_count": 279,
     "metadata": {},
     "output_type": "execute_result"
    }
   ],
   "source": [
    "CSPDenseNet201 = CSPDenseNet(growth_rate=32, block_config=block['CSPDenseNet201'], num_init_features=64, num_classes=1000)\n",
    "CSPDenseNet201(x).shape"
   ]
  },
  {
   "cell_type": "code",
   "execution_count": 280,
   "id": "ae98338b-0f99-4dde-b667-baa0c8ab7e53",
   "metadata": {},
   "outputs": [
    {
     "name": "stdout",
     "output_type": "stream",
     "text": [
      "torch.Size([1, 8, 19, 19])\n"
     ]
    },
    {
     "data": {
      "text/plain": [
       "torch.Size([1, 1000])"
      ]
     },
     "execution_count": 280,
     "metadata": {},
     "output_type": "execute_result"
    }
   ],
   "source": [
    "CSPDenseNet264 = CSPDenseNet(growth_rate=32, block_config=block['CSPDenseNet264'], num_init_features=64, num_classes=1000)\n",
    "CSPDenseNet264(x).shape"
   ]
  },
  {
   "cell_type": "code",
   "execution_count": 281,
   "id": "4da5e990-7dfb-4874-9420-b2d7bb3ff814",
   "metadata": {},
   "outputs": [
    {
     "data": {
      "text/plain": [
       "torch.Size([1, 64, 28, 28])"
      ]
     },
     "execution_count": 281,
     "metadata": {},
     "output_type": "execute_result"
    }
   ],
   "source": [
    "x = torch.randn(1,64,56,56)\n",
    "nn.AvgPool2d(kernel_size=2, stride=2)(x).shape"
   ]
  },
  {
   "cell_type": "code",
   "execution_count": null,
   "id": "429b8f57-4c0e-43fb-8aa6-21f87d2a8807",
   "metadata": {},
   "outputs": [],
   "source": []
  },
  {
   "cell_type": "code",
   "execution_count": null,
   "id": "b582f750-106b-43b5-936a-897506e5cfd3",
   "metadata": {},
   "outputs": [],
   "source": []
  },
  {
   "cell_type": "code",
   "execution_count": null,
   "id": "e7edceaa-d07a-43eb-9f25-a88ca3faa8d1",
   "metadata": {},
   "outputs": [],
   "source": []
  }
 ],
 "metadata": {
  "kernelspec": {
   "display_name": "Python 3 (ipykernel)",
   "language": "python",
   "name": "python3"
  },
  "language_info": {
   "codemirror_mode": {
    "name": "ipython",
    "version": 3
   },
   "file_extension": ".py",
   "mimetype": "text/x-python",
   "name": "python",
   "nbconvert_exporter": "python",
   "pygments_lexer": "ipython3",
   "version": "3.9.17"
  }
 },
 "nbformat": 4,
 "nbformat_minor": 5
}
