{
 "cells": [
  {
   "cell_type": "code",
   "execution_count": 2,
   "id": "f2c59f55-685e-462b-9acf-ca97a5ae5f18",
   "metadata": {},
   "outputs": [],
   "source": [
    "import torch\n",
    "import timm\n",
    "import torch.nn as nn\n",
    "from torch.nn.functional import pad\n",
    "from timm.models.layers import trunc_normal_, DropPath, to_2tuple\n",
    "from timm.models.registry import register_model\n",
    "import natten\n",
    "from natten import NeighborhoodAttention2D as NeighborhoodAttention\n",
    "import warnings\n",
    "warnings.filterwarnings('ignore')"
   ]
  },
  {
   "cell_type": "code",
   "execution_count": 7,
   "id": "554464a9-3bcc-43bf-916b-919664b26483",
   "metadata": {},
   "outputs": [
    {
     "name": "stdout",
     "output_type": "stream",
     "text": [
      "torch.Size([1, 224, 224, 3])\n"
     ]
    }
   ],
   "source": [
    "import torch\n",
    "from natten import NeighborhoodAttention2D as NeighborhoodAttention\n",
    "\n",
    "# Correct input shape: (batch_size, channels, height, width)\n",
    "x = torch.randn(1, 224, 224,3)\n",
    "\n",
    "# Correct argument order: dim, kernel_size, num_heads\n",
    "attn = NeighborhoodAttention(dim=3, kernel_size=7, num_heads=3, dilation=2)\n",
    "\n",
    "# Forward pass\n",
    "output = attn(x)\n",
    "print(output.shape)\n"
   ]
  },
  {
   "cell_type": "code",
   "execution_count": 8,
   "id": "d5cbf62a-b186-4b0e-bec5-ac3663085ae6",
   "metadata": {},
   "outputs": [],
   "source": [
    "class MLP(nn.Module):\n",
    "    def __init__(self, in_features, hidden_features, out_features, p=0.):\n",
    "        super().__init__()\n",
    "        self.fc1 = nn.Linear(in_features, hidden_features)\n",
    "        self.act = nn.GELU()\n",
    "        self.fc2 = nn.Linear(hidden_features, out_features)\n",
    "        self.drop = nn.Dropout(p)\n",
    "\n",
    "    def forward(self, x):\n",
    "        return self.fc2(self.drop(self.act(self.fc1(x)))) "
   ]
  },
  {
   "cell_type": "code",
   "execution_count": 9,
   "id": "99f68598-abe1-483b-ae8a-e033ba886d5a",
   "metadata": {},
   "outputs": [],
   "source": [
    "class NATransformerLayer(nn.Module):\n",
    "    def __init__(\n",
    "        self,\n",
    "        dim,\n",
    "        num_heads,\n",
    "        kernel_size=7,\n",
    "        dilation=1,\n",
    "        mlp_ratio=4.0,\n",
    "        qkv_bias=True,\n",
    "        qk_scale=None,\n",
    "        drop=0.0,\n",
    "        attn_drop=0.0,\n",
    "        drop_path=0.0,\n",
    "        act_layer=nn.GELU,\n",
    "        norm_layer=nn.LayerNorm,\n",
    "        **kwargs\n",
    "    ):\n",
    "        super().__init__()\n",
    "        self.dim = dim\n",
    "        self.num_heads = num_heads\n",
    "        self.mlp_ratio = mlp_ratio\n",
    "\n",
    "        self.norm1 = norm_layer(dim)\n",
    "        self.attn = NeighborhoodAttention(\n",
    "            dim,\n",
    "            kernel_size=kernel_size,\n",
    "            dilation=dilation,\n",
    "            num_heads=num_heads,\n",
    "            qkv_bias=qkv_bias,\n",
    "            qk_scale=qk_scale,\n",
    "            attn_drop=attn_drop,\n",
    "            proj_drop=drop,\n",
    "             **kwargs,\n",
    "        )\n",
    "\n",
    "        self.drop_path = DropPath(drop_path) if drop_path > 0.0 else nn.Identity()\n",
    "        self.norm2 = norm_layer(dim)\n",
    "        mlp_hidden_dim = int(dim * mlp_ratio)\n",
    "        self.mlp = MLP(\n",
    "            in_features=dim,\n",
    "            hidden_features=mlp_hidden_dim,\n",
    "            out_features=dim,\n",
    "            p=drop,\n",
    "        )\n",
    "\n",
    "    def forward(self, x):\n",
    "        shortcut = x\n",
    "        x = self.norm1(x)\n",
    "        x = self.attn(x)\n",
    "        x = shortcut + self.drop_path(x)\n",
    "        x = x + self.drop_path(self.mlp(self.norm2(x)))\n",
    "        return x"
   ]
  },
  {
   "cell_type": "code",
   "execution_count": 10,
   "id": "46da35f9-7b28-4b23-8fae-ec12088146d3",
   "metadata": {},
   "outputs": [],
   "source": [
    "attn = NATransformerLayer(\n",
    "                    dim=3,\n",
    "                    num_heads=3,\n",
    "                    kernel_size=7,\n",
    "                    dilation=2\n",
    "                )"
   ]
  },
  {
   "cell_type": "code",
   "execution_count": 11,
   "id": "d9fa52d5-130b-4528-94de-f512ffa0888c",
   "metadata": {},
   "outputs": [
    {
     "data": {
      "text/plain": [
       "tensor([[[[ 1.9316, -0.3682, -1.4846],\n",
       "          [-0.7695, -0.5473,  1.1452],\n",
       "          [-1.4589,  0.8057,  1.1884],\n",
       "          ...,\n",
       "          [ 1.5352, -0.7118,  0.3144],\n",
       "          [-2.2642, -0.4041, -0.4719],\n",
       "          [-0.6485, -0.3080,  0.4100]],\n",
       "\n",
       "         [[-0.4684,  0.5132,  1.2825],\n",
       "          [ 1.2969, -1.2949,  0.3700],\n",
       "          [-1.7419,  1.8532,  0.4206],\n",
       "          ...,\n",
       "          [ 0.6719, -0.9220,  0.2296],\n",
       "          [-2.3613,  1.3454,  0.5207],\n",
       "          [ 0.7159,  0.3065, -0.8544]],\n",
       "\n",
       "         [[ 0.9237,  1.0169, -0.1309],\n",
       "          [-0.7479,  1.1606, -1.7190],\n",
       "          [ 1.4196,  1.2865,  1.4908],\n",
       "          ...,\n",
       "          [ 0.1790,  1.0003, -0.5102],\n",
       "          [-1.8136,  0.9297,  1.3643],\n",
       "          [-1.8092,  0.2282, -0.9241]],\n",
       "\n",
       "         ...,\n",
       "\n",
       "         [[-0.9146,  0.8632, -0.6907],\n",
       "          [ 0.1677,  2.7600,  1.9142],\n",
       "          [-1.1307,  0.5557,  2.2026],\n",
       "          ...,\n",
       "          [-2.4982,  1.8171,  1.0978],\n",
       "          [ 1.4242,  0.3747,  1.1181],\n",
       "          [ 0.2308, -1.6158,  0.5441]],\n",
       "\n",
       "         [[ 1.1899,  0.2405,  0.6374],\n",
       "          [-0.5650,  1.0799, -0.0311],\n",
       "          [-1.0680,  1.2641,  0.6329],\n",
       "          ...,\n",
       "          [-2.3960,  1.1116, -0.2257],\n",
       "          [ 1.5247, -0.4253,  0.3697],\n",
       "          [ 0.2797,  1.1312,  0.6426]],\n",
       "\n",
       "         [[-1.0743,  0.5553,  0.6730],\n",
       "          [-1.0436,  0.6837, -1.3704],\n",
       "          [ 0.6012,  0.9011,  1.2276],\n",
       "          ...,\n",
       "          [ 2.2591, -0.8204,  1.2837],\n",
       "          [ 1.2604, -0.0995,  1.3121],\n",
       "          [ 1.3524,  0.3764,  0.5642]]]], grad_fn=<AddBackward0>)"
      ]
     },
     "execution_count": 11,
     "metadata": {},
     "output_type": "execute_result"
    }
   ],
   "source": [
    "attn(x)"
   ]
  },
  {
   "cell_type": "code",
   "execution_count": 13,
   "id": "d0f33d4c-2ff7-429a-98fd-9317a39a9254",
   "metadata": {},
   "outputs": [
    {
     "name": "stdout",
     "output_type": "stream",
     "text": [
      "3\n"
     ]
    }
   ],
   "source": [
    "dilations = [1, 2, 3, 4]  # List of dilation values\n",
    "i = 2  # Selecting the third element (index 2)\n",
    "\n",
    "dilation = 1 if dilations is None else dilations[i]\n",
    "print(dilation) "
   ]
  },
  {
   "cell_type": "code",
   "execution_count": 15,
   "id": "b4275df3-7109-4713-802a-9255d7dd8fab",
   "metadata": {},
   "outputs": [],
   "source": [
    "class PatchMerging(nn.Module):\n",
    "    \"\"\"\n",
    "    Based on Swin Transformer\n",
    "    https://arxiv.org/abs/2103.14030\n",
    "    https://github.com/microsoft/Swin-Transformer\n",
    "    \"\"\"\n",
    "\n",
    "    def __init__(self, dim, norm_layer=nn.LayerNorm):\n",
    "        super().__init__()\n",
    "        self.dim = dim\n",
    "        self.reduction = nn.Linear(4 * dim, 2 * dim, bias=False)\n",
    "        self.norm = norm_layer(4 * dim)\n",
    "\n",
    "    def forward(self, x):\n",
    "        B, H, W, C = x.shape\n",
    "\n",
    "        # padding\n",
    "        pad_input = (H % 2 == 1) or (W % 2 == 1)\n",
    "        if pad_input:\n",
    "            x = pad(x, (0, 0, 0, W % 2, 0, H % 2))\n",
    "            _, H, W, _ = x.shape\n",
    "            \n",
    "        x0 = x[:, 0::2, 0::2, :]  # B H/2 W/2 C\n",
    "        x1 = x[:, 1::2, 0::2, :]  # B H/2 W/2 C\n",
    "        x2 = x[:, 0::2, 1::2, :]  # B H/2 W/2 C\n",
    "        x3 = x[:, 1::2, 1::2, :]  # B H/2 W/2 C\n",
    "        x = torch.cat([x0, x1, x2, x3], -1)  # B H/2 W/2 4*C\n",
    "        x = x.view(B, (H + 1) // 2, (W + 1) // 2, 4 * C)  # B H/2 W/2 4*C\n",
    "\n",
    "        x = self.norm(x)\n",
    "        x = self.reduction(x)\n",
    "        return x"
   ]
  },
  {
   "cell_type": "code",
   "execution_count": 57,
   "id": "cb55090b-a92e-4d91-a6b3-9f822cb75d83",
   "metadata": {},
   "outputs": [
    {
     "data": {
      "text/plain": [
       "torch.Size([1, 112, 112, 6])"
      ]
     },
     "execution_count": 57,
     "metadata": {},
     "output_type": "execute_result"
    }
   ],
   "source": [
    "x = torch.randn(1,224,224,3)\n",
    "PatchMerging(3)(x).shape"
   ]
  },
  {
   "cell_type": "code",
   "execution_count": 17,
   "id": "b59185c2-8648-4f56-8c3f-1fa128144c68",
   "metadata": {},
   "outputs": [],
   "source": [
    "class BasicLayer(nn.Module):\n",
    "    \"\"\"\n",
    "    Based on Swin Transformer\n",
    "    https://arxiv.org/abs/2103.14030\n",
    "    https://github.com/microsoft/Swin-Transformer\n",
    "    \"\"\"\n",
    "\n",
    "    def __init__(\n",
    "        self,\n",
    "        dim,\n",
    "        depth,\n",
    "        num_heads,\n",
    "        kernel_size,\n",
    "        dilations=None,\n",
    "        mlp_ratio=4.0,\n",
    "        qkv_bias=True,\n",
    "        qk_scale=None,\n",
    "        drop=0.0,\n",
    "        attn_drop=0.0,\n",
    "        drop_path=0.0,\n",
    "        norm_layer=nn.LayerNorm,\n",
    "        downsample=None,\n",
    "    ):\n",
    "        super().__init__()\n",
    "        self.dim = dim\n",
    "        self.depth = depth\n",
    "        \n",
    "        # build blocks\n",
    "        self.blocks = nn.ModuleList(\n",
    "            [\n",
    "                NATransformerLayer(\n",
    "                    dim=dim,\n",
    "                    num_heads=num_heads,\n",
    "                    kernel_size=kernel_size,\n",
    "                    dilation=1 if dilations is None else dilations[i],\n",
    "                    mlp_ratio=mlp_ratio,\n",
    "                    qkv_bias=qkv_bias,\n",
    "                    qk_scale=qk_scale,\n",
    "                    drop=drop,\n",
    "                    attn_drop=attn_drop,\n",
    "                    drop_path=drop_path[i]\n",
    "                    if isinstance(drop_path, list)\n",
    "                    else drop_path,\n",
    "                    norm_layer=norm_layer,\n",
    "                )\n",
    "                for i in range(depth)\n",
    "            ]\n",
    "        )\n",
    "        # patch merging layer\n",
    "        if downsample is not None:\n",
    "            self.downsample = downsample(dim=dim, norm_layer=norm_layer)\n",
    "        else:\n",
    "            self.downsample = None\n",
    "    def forward(self, x):\n",
    "        for blk in self.blocks:\n",
    "            x = blk(x)\n",
    "        if self.downsample is not None:\n",
    "            x = self.downsample(x)\n",
    "        return x\n",
    "            "
   ]
  },
  {
   "cell_type": "code",
   "execution_count": 18,
   "id": "fa569c96-fb2b-407d-ac69-1cc3e765253d",
   "metadata": {},
   "outputs": [
    {
     "data": {
      "text/plain": [
       "torch.Size([1, 224, 224, 3])"
      ]
     },
     "execution_count": 18,
     "metadata": {},
     "output_type": "execute_result"
    }
   ],
   "source": [
    "x.shape"
   ]
  },
  {
   "cell_type": "code",
   "execution_count": 20,
   "id": "e74930ae-42ce-4537-8de1-f9410c809e2e",
   "metadata": {},
   "outputs": [],
   "source": [
    "basic = BasicLayer(3,4,3,7)"
   ]
  },
  {
   "cell_type": "code",
   "execution_count": 22,
   "id": "67f1b241-a2fd-4b0d-8e3a-0b224fe840f0",
   "metadata": {},
   "outputs": [
    {
     "data": {
      "text/plain": [
       "torch.Size([1, 224, 224, 3])"
      ]
     },
     "execution_count": 22,
     "metadata": {},
     "output_type": "execute_result"
    }
   ],
   "source": [
    "basic(x).shape"
   ]
  },
  {
   "cell_type": "code",
   "execution_count": 23,
   "id": "004ded29-fb25-483e-8a3f-8989034e7047",
   "metadata": {},
   "outputs": [
    {
     "data": {
      "text/plain": [
       "torch.Size([1, 224, 224, 3])"
      ]
     },
     "execution_count": 23,
     "metadata": {},
     "output_type": "execute_result"
    }
   ],
   "source": [
    "x.shape"
   ]
  },
  {
   "cell_type": "code",
   "execution_count": 24,
   "id": "ccb2378f-7165-44a1-a729-73d85d26834b",
   "metadata": {},
   "outputs": [
    {
     "data": {
      "text/plain": [
       "torch.Size([1, 3, 224, 224])"
      ]
     },
     "execution_count": 24,
     "metadata": {},
     "output_type": "execute_result"
    }
   ],
   "source": [
    "x.permute(0,3,1,2).shape"
   ]
  },
  {
   "cell_type": "code",
   "execution_count": null,
   "id": "aba8eaa4-f5d7-4004-aca2-aff6f9f31d4f",
   "metadata": {},
   "outputs": [],
   "source": []
  },
  {
   "cell_type": "code",
   "execution_count": 25,
   "id": "fb554543-5828-4f0f-8a85-c33233faea2f",
   "metadata": {},
   "outputs": [],
   "source": [
    "class PatchEmbed(nn.Module):\n",
    "    \"\"\"\n",
    "    From Swin Transformer\n",
    "    https://arxiv.org/abs/2103.14030\n",
    "    https://github.com/microsoft/Swin-Transformer\n",
    "    \"\"\"\n",
    "\n",
    "    def __init__(self, patch_size=4, in_chans=3, embed_dim=96, norm_layer=None):\n",
    "        super().__init__()\n",
    "        self.patch_size = to_2tuple(patch_size)\n",
    "\n",
    "        self.in_chans = in_chans\n",
    "        self.embed_dim = embed_dim\n",
    "\n",
    "        self.proj = nn.Conv2d(\n",
    "            in_chans, embed_dim, kernel_size=self.patch_size, stride=self.patch_size\n",
    "        )\n",
    "        self.norm = None if norm_layer is None else norm_layer(embed_dim)\n",
    "\n",
    "    def forward(self, x):\n",
    "        B, C, H, W = x.shape\n",
    "        if W % self.patch_size[1] != 0:\n",
    "            x = pad(x, (0, self.patch_size[1] - W % self.patch_size[1]))\n",
    "        if H % self.patch_size[0] != 0:\n",
    "            x = pad(x, (0, 0, 0, self.patch_size[0] - H % self.patch_size[0]))\n",
    "\n",
    "        x = self.proj(x)\n",
    "        x = x.permute(0, 2, 3, 1)\n",
    "        if self.norm is not None:\n",
    "            x = self.norm(x)\n",
    "        return x"
   ]
  },
  {
   "cell_type": "code",
   "execution_count": 59,
   "id": "fe046a3d-6150-4b14-8a92-cef39e18ebfb",
   "metadata": {},
   "outputs": [
    {
     "data": {
      "text/plain": [
       "torch.Size([1, 56, 56, 96])"
      ]
     },
     "execution_count": 59,
     "metadata": {},
     "output_type": "execute_result"
    }
   ],
   "source": [
    "patch = PatchEmbed()\n",
    "x = torch.randn(1,3,224,224)\n",
    "x = patch(x)\n",
    "x.shape"
   ]
  },
  {
   "cell_type": "code",
   "execution_count": 37,
   "id": "a1f9acf0-4a6a-4979-8e9d-042f1eec53a1",
   "metadata": {},
   "outputs": [],
   "source": [
    "import math\n",
    "class PositionalEncoding(nn.Module):\n",
    "    def __init__(self, dim, max_len=5000):\n",
    "        super(PositionalEncoding, self).__init__()\n",
    "\n",
    "        # Create a tensor of shape [max_len, dim] for encoding\n",
    "        pe = torch.zeros(max_len, dim)\n",
    "        position = torch.arange(0, max_len).float().unsqueeze(1)  # [max_len, 1]\n",
    "        div_term = torch.exp(torch.arange(0, dim, 2).float() * -(math.log(10000.0) / dim))  # [dim/2]\n",
    "\n",
    "        # Apply sin and cos functions for positional encoding\n",
    "        pe[:, 0::2] = torch.sin(position * div_term)  # even indices (sine)\n",
    "        pe[:, 1::2] = torch.cos(position * div_term)  # odd indices (cosine)\n",
    "\n",
    "        pe = pe.unsqueeze(0)  # Shape becomes [1, max_len, dim]\n",
    "        self.register_buffer('pe', pe)\n",
    "\n",
    "    def forward(self, x):\n",
    "        # Add positional encoding to the input tensor\n",
    "        return x + self.pe[:, :x.size(1),:]  # x.size(1) is the length of the sequence"
   ]
  },
  {
   "cell_type": "code",
   "execution_count": 65,
   "id": "ded62016-2250-4e41-9e11-b86a0680f3ff",
   "metadata": {},
   "outputs": [],
   "source": [
    "patch = PatchEmbed()\n",
    "x = torch.randn(1,3,224,224)\n",
    "_,_,H,W = x.shape\n",
    "x = patch(x)\n",
    "\n",
    "\n",
    "pos = PositionalEncoding(96, 56*56 )\n",
    "x = pos(x)"
   ]
  },
  {
   "cell_type": "code",
   "execution_count": 74,
   "id": "cb709f43-12fe-4a8b-b85e-45887ccc2fdd",
   "metadata": {},
   "outputs": [
    {
     "data": {
      "text/plain": [
       "torch.Size([1, 224, 224, 6])"
      ]
     },
     "execution_count": 74,
     "metadata": {},
     "output_type": "execute_result"
    }
   ],
   "source": [
    "patch = PatchEmbed()\n",
    "x = torch.randn(1,3,224,224)\n",
    "_,_,H,W = x.shape\n",
    "x = patch(x)\n",
    "\n",
    "\n",
    "pos = PositionalEncoding(96, 56*56 )\n",
    "x = pos(x)\n",
    "attn = NeighborhoodAttention(dim=96, kernel_size=7, num_heads=3, dilation=2)\n",
    "\n",
    "# Forward pass\n",
    "x = attn(x)\n",
    "x = x.view(1, 56, 56, 4, 4, 6)  # Split (96 → 16 * 6) into (4, 4, 6)\n",
    "\n",
    "# Step 2: Rearrange the dimensions to interleave the upsampling effect\n",
    "x = x.permute(0, 1, 3, 2, 4, 5).contiguous()  # (1, 56, 4, 56, 4, 6)\n",
    "\n",
    "# Step 3: Merge the expanded dimensions to get (1, 224, 224, 6)\n",
    "x = x.view(1, 56 * 4, 56 * 4, 6)\n",
    "x.shape"
   ]
  },
  {
   "cell_type": "code",
   "execution_count": 70,
   "id": "9fb68f75-cd26-4ca1-a871-76c155af278d",
   "metadata": {},
   "outputs": [
    {
     "data": {
      "text/plain": [
       "torch.Size([1, 224, 224, 896])"
      ]
     },
     "execution_count": 70,
     "metadata": {},
     "output_type": "execute_result"
    }
   ],
   "source": [
    "patch_size = 4\n",
    "x = nn.functional.interpolate(x.permute(0, 3, 1, 2), scale_factor=4, mode='bilinear', align_corners=False)\n",
    "x.shape"
   ]
  },
  {
   "cell_type": "code",
   "execution_count": 53,
   "id": "f01d9021-a8c1-45aa-8ce4-8615b0597a1c",
   "metadata": {},
   "outputs": [],
   "source": [
    "class DiNAT_s(nn.Module):\n",
    "    def __init__(\n",
    "        self,\n",
    "        img_size = 224,\n",
    "        patch_size=4,\n",
    "        in_chans=3,\n",
    "        num_classes=1000,\n",
    "        embed_dim=96,\n",
    "        depths=[2, 2, 6, 2],\n",
    "        num_heads=[3, 6, 12, 24],\n",
    "        kernel_size=7,\n",
    "        dilations=None,\n",
    "        mlp_ratio=4.0,\n",
    "        qkv_bias=True,\n",
    "        qk_scale=None,\n",
    "        drop_rate=0.0,\n",
    "        attn_drop_rate=0.0,\n",
    "        drop_path_rate=0.2,\n",
    "        norm_layer=nn.LayerNorm,\n",
    "        patch_norm=True,\n",
    "        **kwargs\n",
    "    ):\n",
    "        super().__init__()\n",
    "\n",
    "        self.num_classes = num_classes\n",
    "        self.num_layers = len(depths)\n",
    "        self.embed_dim = embed_dim\n",
    "        self.patch_norm = patch_norm\n",
    "        self.num_features = int(embed_dim * 2 ** (self.num_layers - 1))\n",
    "        self.mlp_ratio = mlp_ratio\n",
    "        n_patches = (img_size // patch_size) ** 2\n",
    "\n",
    "        # split image into non-overlapping patches\n",
    "        self.patch_embed = PatchEmbed(\n",
    "            patch_size=patch_size,\n",
    "            in_chans=in_chans,\n",
    "            embed_dim=embed_dim,\n",
    "            norm_layer=norm_layer if self.patch_norm else None,\n",
    "        )\n",
    "        self.position_encoding = PositionalEncoding(dim=embed_dim,\n",
    "                                                   max_len=n_patches)\n",
    "\n",
    "        self.pos_drop = nn.Dropout(p=drop_rate)\n",
    "\n",
    "        # stochastic depth\n",
    "        dpr = [\n",
    "            x.item() for x in torch.linspace(0, drop_path_rate, sum(depths))\n",
    "        ]  # stochastic depth decay rule\n",
    "\n",
    "        # build layers\n",
    "        self.layers = nn.ModuleList()\n",
    "        for i_layer in range(self.num_layers):\n",
    "            layer = BasicLayer(\n",
    "                dim=int(embed_dim * 2**i_layer),\n",
    "                depth=depths[i_layer],\n",
    "                num_heads=num_heads[i_layer],\n",
    "                kernel_size=kernel_size,\n",
    "                dilations=None if dilations is None else dilations[i_layer],\n",
    "                mlp_ratio=self.mlp_ratio,\n",
    "                qkv_bias=qkv_bias,\n",
    "                qk_scale=qk_scale,\n",
    "                drop=drop_rate,\n",
    "                attn_drop=attn_drop_rate,\n",
    "                drop_path=dpr[sum(depths[:i_layer]) : sum(depths[: i_layer + 1])],\n",
    "                norm_layer=norm_layer,\n",
    "                downsample=PatchMerging if (i_layer < self.num_layers - 1) else None,\n",
    "            )\n",
    "            self.layers.append(layer)\n",
    "\n",
    "        self.norm = norm_layer(self.num_features)\n",
    "   \n",
    "\n",
    "    def forward(self, x):\n",
    "        x = self.patch_embed(x)\n",
    "        x = self.position_encoding(x)\n",
    "        x = self.pos_drop(x)\n",
    "        print(x.shape)\n",
    "\n",
    "        for layer in self.layers:\n",
    "            x = layer(x)\n",
    "        return x\n"
   ]
  },
  {
   "cell_type": "code",
   "execution_count": 54,
   "id": "ddd17c4c-f152-40da-8e04-d016ad8dc5e7",
   "metadata": {},
   "outputs": [
    {
     "name": "stdout",
     "output_type": "stream",
     "text": [
      "torch.Size([1, 56, 56, 96])\n"
     ]
    },
    {
     "data": {
      "text/plain": [
       "torch.Size([1, 7, 7, 768])"
      ]
     },
     "execution_count": 54,
     "metadata": {},
     "output_type": "execute_result"
    }
   ],
   "source": [
    "dinat = DiNAT_s()\n",
    "x = torch.randn(1,3,224,224)\n",
    "dinat(x).shape"
   ]
  },
  {
   "cell_type": "code",
   "execution_count": null,
   "id": "b7cd885c-086d-4b48-a387-b14fd571a3ba",
   "metadata": {},
   "outputs": [],
   "source": []
  },
  {
   "cell_type": "code",
   "execution_count": null,
   "id": "b0667661-1129-4e85-9ff1-58ee26f655fb",
   "metadata": {},
   "outputs": [],
   "source": []
  }
 ],
 "metadata": {
  "kernelspec": {
   "display_name": "Python 3 (ipykernel)",
   "language": "python",
   "name": "python3"
  },
  "language_info": {
   "codemirror_mode": {
    "name": "ipython",
    "version": 3
   },
   "file_extension": ".py",
   "mimetype": "text/x-python",
   "name": "python",
   "nbconvert_exporter": "python",
   "pygments_lexer": "ipython3",
   "version": "3.9.17"
  }
 },
 "nbformat": 4,
 "nbformat_minor": 5
}
