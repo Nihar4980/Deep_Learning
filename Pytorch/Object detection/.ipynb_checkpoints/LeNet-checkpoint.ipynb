{
 "cells": [
  {
   "cell_type": "code",
   "execution_count": 2,
   "id": "794d4cbe-2683-4f2c-af73-db95768fc435",
   "metadata": {},
   "outputs": [],
   "source": [
    "import torch\n",
    "import torch.nn as nn\n",
    "from math import ceil"
   ]
  },
  {
   "cell_type": "code",
   "execution_count": 3,
   "id": "a105caad-4dd5-4a2c-bfb5-df62b63a6fea",
   "metadata": {},
   "outputs": [],
   "source": [
    "# LeNet architecture\n",
    "# 1X32X32 Input -> (5X5), s=1, p=0 -> avg pool s=2, p=0 -> (5X5), s=1, p=0 -> avg pool s=2, p=0\n",
    "# -> Conv 5X5 to 120 channels x Linear 84 X Linear 10"
   ]
  },
  {
   "cell_type": "code",
   "execution_count": 7,
   "id": "aa05a8b1-ea4f-40ef-b8a4-7492a3a6674d",
   "metadata": {},
   "outputs": [],
   "source": [
    " class LeNet(nn.Module):\n",
    "    def __init__(self):\n",
    "         super(LeNet, self).__init__()\n",
    "         self.relu = nn.ReLU()\n",
    "         self.pool = nn.AvgPool2d(kernel_size=2, stride=2)\n",
    "         self.conv1 = nn.Conv2d(in_channels=1, out_channels=6, kernel_size=5)\n",
    "         self.conv2 = nn.Conv2d(in_channels=6, out_channels=16, kernel_size=5)\n",
    "         self.conv3 = nn.Conv2d(in_channels=16, out_channels=120, kernel_size=5)\n",
    "         self.Linear1 = nn.Linear(120, 84)\n",
    "         self.Linaer2 = nn.Linear(84, 10)\n",
    "\n",
    "    def forward(self, x):\n",
    "        x = self.relu(self.conv1(x))\n",
    "        x = self.pool(x)\n",
    "        x = self.relu(self.conv2(x))\n",
    "        x = self.pool(x) \n",
    "        x = self.relu(self.conv3(x))\n",
    "        x = x.reshape(x.shape[0], -1)\n",
    "        x = self.relu(self.Linear1(x))\n",
    "        x = self.Linaer2(x)\n",
    "        return x\n",
    "    "
   ]
  },
  {
   "cell_type": "code",
   "execution_count": 8,
   "id": "918e2d49-b430-40af-a49d-87470b8ec8ee",
   "metadata": {},
   "outputs": [
    {
     "name": "stdout",
     "output_type": "stream",
     "text": [
      "torch.Size([64, 10])\n"
     ]
    }
   ],
   "source": [
    "x = torch.randn(64,1,32,32)\n",
    "model = LeNet()\n",
    "print(model(x).shape)"
   ]
  },
  {
   "cell_type": "code",
   "execution_count": null,
   "id": "a21c0ab4-51e6-476f-9a50-8f1d8f163522",
   "metadata": {},
   "outputs": [],
   "source": []
  }
 ],
 "metadata": {
  "kernelspec": {
   "display_name": "Python 3 (ipykernel)",
   "language": "python",
   "name": "python3"
  },
  "language_info": {
   "codemirror_mode": {
    "name": "ipython",
    "version": 3
   },
   "file_extension": ".py",
   "mimetype": "text/x-python",
   "name": "python",
   "nbconvert_exporter": "python",
   "pygments_lexer": "ipython3",
   "version": "3.9.18"
  }
 },
 "nbformat": 4,
 "nbformat_minor": 5
}
