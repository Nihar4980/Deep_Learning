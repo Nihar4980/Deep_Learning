{
 "cells": [
  {
   "cell_type": "code",
   "execution_count": 2,
   "id": "65a3a846-ccdb-4400-a171-eb6691b293da",
   "metadata": {},
   "outputs": [],
   "source": [
    "# Import Modules\n",
    "import torch\n",
    "import torch.nn as nn"
   ]
  },
  {
   "cell_type": "code",
   "execution_count": 11,
   "id": "dbf357f9-52a6-4325-8e0a-dd669e711e69",
   "metadata": {},
   "outputs": [],
   "source": [
    "''' A simple Convolution, Batch Normalization, and Activation Class'''\n",
    "\n",
    "class ConvBnAct(nn.Module):\n",
    "\n",
    "    def __init__(self, \n",
    "                 n_in,\n",
    "                 n_out, \n",
    "                 kernel_size = 3, \n",
    "                 stride = 1, \n",
    "                 padding = 0, \n",
    "                 groups = 1, \n",
    "                 bn = True, \n",
    "                 act = True, \n",
    "                 bias= False):\n",
    "\n",
    "        super(ConvBnAct, self).__init__()\n",
    "\n",
    "        self.conv = nn.Conv2d(in_channels=n_in, \n",
    "                              out_channels=n_out, \n",
    "                              kernel_size=kernel_size, \n",
    "                              stride=stride, \n",
    "                              padding=padding, \n",
    "                              groups=groups, \n",
    "                              bias=bias\n",
    "                             )\n",
    "        self.batch_norm = nn.BatchNorm2d(n_out) if bn else nn.Identity()\n",
    "        self.activation = nn.LeakyReLU() if act else nn.Identity()\n",
    "\n",
    "    def forward(self, x):\n",
    "\n",
    "        return self.activation(self.batch_norm(self.conv(x)))\n",
    "          "
   ]
  },
  {
   "cell_type": "code",
   "execution_count": 14,
   "id": "b6622656-741f-43cf-8602-6e98ea6afd58",
   "metadata": {},
   "outputs": [
    {
     "data": {
      "text/plain": [
       "torch.Size([1, 12, 222, 222])"
      ]
     },
     "execution_count": 14,
     "metadata": {},
     "output_type": "execute_result"
    }
   ],
   "source": [
    "x = torch.randn(1,3,224,224)\n",
    "model = ConvBnAct(3,12)\n",
    "model(x).shape"
   ]
  },
  {
   "cell_type": "code",
   "execution_count": null,
   "id": "dcf8ba1d-cd76-4e8b-b71f-7c81ac398e19",
   "metadata": {},
   "outputs": [],
   "source": []
  },
  {
   "cell_type": "code",
   "execution_count": null,
   "id": "7027ac5d-28cd-4d80-a3b1-3cafac079413",
   "metadata": {},
   "outputs": [],
   "source": []
  }
 ],
 "metadata": {
  "kernelspec": {
   "display_name": "Python 3 (ipykernel)",
   "language": "python",
   "name": "python3"
  },
  "language_info": {
   "codemirror_mode": {
    "name": "ipython",
    "version": 3
   },
   "file_extension": ".py",
   "mimetype": "text/x-python",
   "name": "python",
   "nbconvert_exporter": "python",
   "pygments_lexer": "ipython3",
   "version": "3.9.18"
  }
 },
 "nbformat": 4,
 "nbformat_minor": 5
}
