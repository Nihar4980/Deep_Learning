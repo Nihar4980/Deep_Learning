{
 "cells": [
  {
   "cell_type": "code",
   "execution_count": 20,
   "id": "a954e92e-393d-485a-a5d1-a90c17afc38e",
   "metadata": {},
   "outputs": [],
   "source": [
    "import torch\n",
    "import torch.nn as nn\n",
    "from torchvision import models"
   ]
  },
  {
   "cell_type": "code",
   "execution_count": 25,
   "id": "e47093c0-791d-4ea7-a826-83403ad07983",
   "metadata": {},
   "outputs": [],
   "source": [
    "class Yolov1(nn.Module):\n",
    "    def __init__(self,S=7, B=2, C=20):\n",
    "        super().__init__()\n",
    "        resnet = models.resnet152(pretrained=True)\n",
    "        self.backbone = nn.Sequential(*list(resnet.children())[:-2]) \n",
    "\n",
    "        # YOLO Detection Head (Example)\n",
    "        self.head = nn.Sequential(\n",
    "            nn.Flatten(),\n",
    "            nn.Linear(2048*7*7, 4096),\n",
    "            nn.Dropout(0.0),\n",
    "            nn.LeakyReLU(0.1),\n",
    "            nn.Linear(4096, S*S*(C+B*5))\n",
    "        )\n",
    "    def forward(self,x):\n",
    "        x = self.backbone(x)\n",
    "        x = self.head(x)\n",
    "        return x\n",
    "    "
   ]
  },
  {
   "cell_type": "code",
   "execution_count": 31,
   "id": "84803024-b137-4276-a9fc-e97317482469",
   "metadata": {},
   "outputs": [
    {
     "data": {
      "text/plain": [
       "torch.Size([1, 1470])"
      ]
     },
     "execution_count": 31,
     "metadata": {},
     "output_type": "execute_result"
    }
   ],
   "source": [
    "x = torch.rand(1,3,224,224)\n",
    "yolo = Yolov1()\n",
    "yolo(x).shape"
   ]
  },
  {
   "cell_type": "markdown",
   "id": "890561d9-e72d-4896-8c1b-95ac94fa0ca5",
   "metadata": {},
   "source": [
    "#===================================================#"
   ]
  },
  {
   "cell_type": "code",
   "execution_count": 34,
   "id": "d6c5a975-87ec-4a41-b76a-49a00d9698eb",
   "metadata": {},
   "outputs": [],
   "source": [
    "class Yolov3(nn.Module):\n",
    "    def __init__(self,S=7, B=2, C=20):\n",
    "        super().__init__()\n",
    "        resnet = models.resnet152(pretrained=True)\n",
    "        self.backbone = nn.Sequential(*list(resnet.children())[:-2]) \n",
    "\n",
    "        # YOLO Detection Head (Example)\n",
    "        self.head = nn.Sequential(\n",
    "            nn.Flatten(),\n",
    "            nn.Linear(2048*7*7, 4096),\n",
    "            nn.Dropout(0.0),\n",
    "            nn.LeakyReLU(0.1),\n",
    "            nn.Linear(4096, S*S*(C+B*5))\n",
    "        )\n",
    "    def forward(self,x):\n",
    "        x = self.backbone(x)\n",
    "        print(x.shape)"
   ]
  },
  {
   "cell_type": "code",
   "execution_count": 36,
   "id": "4fa7afa8-d500-409e-8049-43253d0ae3f3",
   "metadata": {},
   "outputs": [
    {
     "name": "stdout",
     "output_type": "stream",
     "text": [
      "torch.Size([1, 2048, 7, 7])\n"
     ]
    }
   ],
   "source": [
    "x = torch.rand(1,3,224,224)\n",
    "yolo = Yolov3()\n",
    "yolo(x)"
   ]
  },
  {
   "cell_type": "code",
   "execution_count": null,
   "id": "8fc36ff9-3e33-410c-b08b-484f6387483f",
   "metadata": {},
   "outputs": [],
   "source": [
    "class CNNBlock(nn.Module):\n",
    "    def __init__(self, in_channels, out_channels, bn_act = True, **kwargs):\n",
    "        super().__init__()\n",
    "        self.conv = nn.Conv2d(in_channels, out_channels, bias= not bn_act, **kwargs)\n",
    "        self.bn = nn.BatchNorm2d(out_channels)\n",
    "        self.act = nn.LeakyReLU(0.1)\n",
    "        self.use_bn_act = bn_act\n",
    "\n",
    "    def forward(self, x):\n",
    "        "
   ]
  },
  {
   "cell_type": "code",
   "execution_count": null,
   "id": "799cedf0-59f0-44f4-9ca8-6891700a2d2f",
   "metadata": {},
   "outputs": [],
   "source": [
    "class ScalePrediction(nn.Module):\n",
    "    def __init__(self, in_channels, num_classes):\n",
    "        super().__init__()\n",
    "        self.head = nn.Sequential(\n",
    "            nn.Flatten(),\n",
    "            nn.Linear(2048*7*7, 4096),\n",
    "            nn.Dropout(0.0),\n",
    "            nn.LeakyReLU(0.1),\n",
    "            nn.Linear(4096, S*S*(C+B*5))\n",
    "        )\n",
    "    def forward(self,x):\n",
    "        x = self.backbone(x)\n",
    "        print(x.shape)"
   ]
  },
  {
   "cell_type": "code",
   "execution_count": null,
   "id": "ed32450d-c2a8-4029-a787-ccef1fc77919",
   "metadata": {},
   "outputs": [],
   "source": []
  }
 ],
 "metadata": {
  "kernelspec": {
   "display_name": "Python 3 (ipykernel)",
   "language": "python",
   "name": "python3"
  },
  "language_info": {
   "codemirror_mode": {
    "name": "ipython",
    "version": 3
   },
   "file_extension": ".py",
   "mimetype": "text/x-python",
   "name": "python",
   "nbconvert_exporter": "python",
   "pygments_lexer": "ipython3",
   "version": "3.9.18"
  }
 },
 "nbformat": 4,
 "nbformat_minor": 5
}
