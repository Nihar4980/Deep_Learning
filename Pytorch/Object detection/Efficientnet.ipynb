{
 "cells": [
  {
   "cell_type": "code",
   "execution_count": 14,
   "id": "ed0ef8ad-dc16-47fb-bdfa-b24db8bbe18a",
   "metadata": {},
   "outputs": [],
   "source": [
    "import torch\n",
    "import torch.nn as nn\n",
    "from math import ceil"
   ]
  },
  {
   "cell_type": "code",
   "execution_count": 15,
   "id": "529f8710-ac33-456e-9e8c-7047a074b0f5",
   "metadata": {},
   "outputs": [],
   "source": [
    "base_model = [\n",
    "    # expand_ratio, channels, reapeats, stride, kernel_size\n",
    "    [1, 16, 1, 1, 3],\n",
    "    [6, 24, 2, 2, 3],\n",
    "    [6, 40, 2, 2, 5],\n",
    "    [6, 80, 3, 2, 3],\n",
    "    [6, 112, 3, 1, 5],\n",
    "    [6, 192, 4, 2, 5],\n",
    "    [6, 320, 1, 1, 3],\n",
    "]\n",
    "\n",
    "\n",
    "phi_values = {\n",
    "    # tuple of : (phi_value, resolution, drop_rate)\n",
    "    \"b0\": (0, 224, 0.2), # alpha, beta, gamma, depth = alpha **phi, width = beta **phi, resolution = gamma **phi\n",
    "    \"b1\": (0.5, 240, 0.2),\n",
    "    \"b2\": (1, 260, 0.3),\n",
    "    \"b3\": (2, 300, 0.3),\n",
    "    \"b4\": (3, 380, 0.4),\n",
    "    \"b5\": (4, 456, 0.4),\n",
    "    \"b6\": (5, 528, 0.5),\n",
    "    \"b7\": (6, 600, 0.5),\n",
    "}\n",
    "    \n",
    "    "
   ]
  },
  {
   "cell_type": "code",
   "execution_count": 16,
   "id": "a496dc83-29a2-4d97-bfc0-66448b5e7360",
   "metadata": {},
   "outputs": [
    {
     "data": {
      "text/plain": [
       "[[1, 16, 1, 1, 3],\n",
       " [6, 24, 2, 2, 3],\n",
       " [6, 40, 2, 2, 5],\n",
       " [6, 80, 3, 2, 3],\n",
       " [6, 112, 3, 1, 5],\n",
       " [6, 192, 4, 2, 5],\n",
       " [6, 320, 1, 1, 3]]"
      ]
     },
     "execution_count": 16,
     "metadata": {},
     "output_type": "execute_result"
    }
   ],
   "source": [
    "base_model"
   ]
  },
  {
   "cell_type": "code",
   "execution_count": 17,
   "id": "8723b60e-f563-4c37-a65e-0cc5693e39f8",
   "metadata": {},
   "outputs": [
    {
     "data": {
      "text/plain": [
       "{'b0': (0, 224, 0.2),\n",
       " 'b1': (0.5, 240, 0.2),\n",
       " 'b2': (1, 260, 0.3),\n",
       " 'b3': (2, 300, 0.3),\n",
       " 'b4': (3, 380, 0.4),\n",
       " 'b5': (4, 456, 0.4),\n",
       " 'b6': (5, 528, 0.5),\n",
       " 'b7': (6, 600, 0.5)}"
      ]
     },
     "execution_count": 17,
     "metadata": {},
     "output_type": "execute_result"
    }
   ],
   "source": [
    "phi_values"
   ]
  },
  {
   "cell_type": "code",
   "execution_count": 18,
   "id": "542e0d6e-c700-42e3-9ef9-9ffe5e1b1891",
   "metadata": {},
   "outputs": [],
   "source": [
    "class CNNBlock(nn.Module):\n",
    "    def __init__(self, in_channels, out_channels, kernel_size, stride, padding, groups=1\n",
    "                ):\n",
    "        super(CNNBlock, self).__init__()\n",
    "        self.cnn = nn.Conv2d(\n",
    "        in_channels,\n",
    "        out_channels,\n",
    "        kernel_size,\n",
    "        stride,\n",
    "        padding,\n",
    "        groups=groups,\n",
    "        bias=False,\n",
    "        )\n",
    "        self.bn = nn.BatchNorm2d(out_channels)\n",
    "        self.silu = nn.SiLU() # SiLU <-> Swish\n",
    "\n",
    "    def forward(self, x):\n",
    "        return self.silu(self.bn(self.cnn(x)))\n",
    "        "
   ]
  },
  {
   "cell_type": "code",
   "execution_count": 19,
   "id": "9b3effe0-8ece-4197-930a-1bfc05059a1f",
   "metadata": {},
   "outputs": [
    {
     "data": {
      "text/plain": [
       "CNNBlock(\n",
       "  (cnn): Conv2d(3, 9, kernel_size=(3, 3), stride=(1, 1), padding=(1, 1), groups=3, bias=False)\n",
       "  (bn): BatchNorm2d(9, eps=1e-05, momentum=0.1, affine=True, track_running_stats=True)\n",
       "  (silu): SiLU()\n",
       ")"
      ]
     },
     "execution_count": 19,
     "metadata": {},
     "output_type": "execute_result"
    }
   ],
   "source": [
    "x = torch.rand(1,3,224,224)\n",
    "y = CNNBlock(3,9,3,1,1,3)\n",
    "y"
   ]
  },
  {
   "cell_type": "code",
   "execution_count": 20,
   "id": "d33d72ff-a38d-4b25-a479-1c1f35c54351",
   "metadata": {},
   "outputs": [],
   "source": [
    "class SqueezeExcitation(nn.Module):\n",
    "    def __init__(self, in_channels, reduced_dim):\n",
    "        super(SqueezeExcitation, self).__init__()\n",
    "        self.se = nn.Sequential(\n",
    "            nn.AdaptiveAvgPool2d(1), # C x H X W -> C X 1 X 1\n",
    "            nn.Conv2d(in_channels,reduced_dim, 1),\n",
    "            nn.SiLU(),\n",
    "            nn.Conv2d(reduced_dim, in_channels, 1),\n",
    "            nn.Sigmoid(),\n",
    "        )\n",
    "    def forward(self, x):\n",
    "        return x * self.se(x)\n",
    "        \n",
    "    "
   ]
  },
  {
   "cell_type": "code",
   "execution_count": 21,
   "id": "df6f61f5-3dc0-422b-9567-828215791705",
   "metadata": {},
   "outputs": [
    {
     "data": {
      "text/plain": [
       "SqueezeExcitation(\n",
       "  (se): Sequential(\n",
       "    (0): AdaptiveAvgPool2d(output_size=1)\n",
       "    (1): Conv2d(3, 10, kernel_size=(1, 1), stride=(1, 1))\n",
       "    (2): SiLU()\n",
       "    (3): Conv2d(10, 3, kernel_size=(1, 1), stride=(1, 1))\n",
       "    (4): Sigmoid()\n",
       "  )\n",
       ")"
      ]
     },
     "execution_count": 21,
     "metadata": {},
     "output_type": "execute_result"
    }
   ],
   "source": [
    "y = SqueezeExcitation(3,10)\n",
    "y"
   ]
  },
  {
   "cell_type": "code",
   "execution_count": 22,
   "id": "5a7db2c3-736a-42d9-9571-2f585f1e59a8",
   "metadata": {},
   "outputs": [],
   "source": [
    "class InvertedResidualBlock(nn.Module):\n",
    "    def __init__(\n",
    "        self,\n",
    "        in_channels,\n",
    "        out_channels,\n",
    "        kernel_size,\n",
    "        stride,\n",
    "        padding,\n",
    "        expand_ratio,\n",
    "        reduction = 4,# Squeezeexcitation\n",
    "        survival_prob = 0.8, # for stochastic depth\n",
    "    ):\n",
    "        super(InvertedResidualBlock, self).__init__()\n",
    "        self.survival_prob = survival_prob\n",
    "        self.use_residual = in_channels == out_channels and stride == 1\n",
    "        hidden_dim = in_channels * expand_ratio\n",
    "        self.expand = in_channels != hidden_dim\n",
    "        reduced_dim = int(in_channels / reduction)\n",
    "\n",
    "        if self.expand:\n",
    "            self.expand_conv = CNNBlock(\n",
    "                in_channels, hidden_dim, kernel_size=3, stride=1, padding=1,\n",
    "            )\n",
    "\n",
    "        self.conv = nn.Sequential(CNNBlock(\n",
    "                hidden_dim, hidden_dim, kernel_size, stride, padding, groups=hidden_dim,\n",
    "                                         ),\n",
    "                SqueezeExcitation(hidden_dim, reduced_dim),\n",
    "                nn.Conv2d(hidden_dim, out_channels, 1, bias=False),\n",
    "                nn.BatchNorm2d(out_channels),                 \n",
    "                )\n",
    "\n",
    "    def stochastic_depth(self, x):\n",
    "        if not self.training:\n",
    "            return x\n",
    "\n",
    "        binary_tensor = torch.rand(x.shape[0], 1, 1, 1, device = x.device) < self.survival_prob\n",
    "\n",
    "        return torch.div(x, self.survival_prob) * binary_tensor\n",
    "\n",
    "\n",
    "    def forward(self, inputs):\n",
    "        x = self.expand_conv(inputs) if self.expand else inputs\n",
    "\n",
    "        if self.use_residual:\n",
    "            return self.stochastic_depth(self.conv(x)) + inputs\n",
    "\n",
    "        else:\n",
    "            return self.conv(x)\n",
    "        \n",
    "        "
   ]
  },
  {
   "cell_type": "code",
   "execution_count": 23,
   "id": "7487ae54-ff09-41b9-9da8-b7be1a7a2988",
   "metadata": {},
   "outputs": [
    {
     "data": {
      "text/plain": [
       "tensor([[[[0.2081, 0.2716, 1.1669,  ..., 0.8642, 0.4357, 0.8152],\n",
       "          [0.8216, 0.1873, 0.9800,  ..., 0.0937, 0.0792, 1.0125],\n",
       "          [0.1267, 0.3654, 1.2110,  ..., 0.9569, 0.8716, 0.3144],\n",
       "          ...,\n",
       "          [1.1247, 1.1034, 0.0519,  ..., 1.0487, 0.7342, 0.2173],\n",
       "          [0.5881, 1.0061, 1.0390,  ..., 0.8671, 0.2833, 0.1685],\n",
       "          [1.1557, 0.3699, 0.3324,  ..., 0.8595, 0.3806, 0.5475]],\n",
       "\n",
       "         [[0.8705, 1.1671, 0.3091,  ..., 0.9328, 1.1834, 0.2093],\n",
       "          [0.4212, 1.0990, 0.5080,  ..., 0.2636, 0.2648, 0.5986],\n",
       "          [0.2459, 0.2068, 0.0995,  ..., 0.1273, 1.1525, 0.3699],\n",
       "          ...,\n",
       "          [1.1806, 0.8299, 0.7076,  ..., 0.0062, 0.9014, 0.4465],\n",
       "          [0.0516, 0.3459, 0.8891,  ..., 0.9417, 1.0493, 0.1546],\n",
       "          [0.1275, 1.0843, 1.1652,  ..., 1.0008, 0.0526, 0.3162]],\n",
       "\n",
       "         [[0.9227, 0.6835, 0.4226,  ..., 0.1419, 0.8452, 0.7273],\n",
       "          [1.1931, 0.1847, 0.7868,  ..., 0.7125, 1.0765, 1.1192],\n",
       "          [0.4244, 0.4007, 1.0567,  ..., 0.8760, 0.4519, 0.3989],\n",
       "          ...,\n",
       "          [0.7888, 0.0354, 0.1472,  ..., 0.1551, 0.1588, 0.5212],\n",
       "          [0.5466, 0.6302, 1.0848,  ..., 0.3000, 1.0223, 0.0866],\n",
       "          [0.1184, 1.1919, 0.0662,  ..., 0.6058, 0.6289, 0.7960]]]])"
      ]
     },
     "execution_count": 23,
     "metadata": {},
     "output_type": "execute_result"
    }
   ],
   "source": [
    "b = torch.rand(x.shape[0], 1, 1, 1, device = x.device) < 0.8\n",
    "torch.div(x, 0.8) * b"
   ]
  },
  {
   "cell_type": "code",
   "execution_count": 24,
   "id": "fc261e5c-68b9-4943-8f04-1f1ea6f8dae7",
   "metadata": {},
   "outputs": [],
   "source": [
    "class EfficientNet(nn.Module):\n",
    "    def __init__(self, version, num_classes):\n",
    "        super(EfficientNet, self).__init__()\n",
    "        width_factor, depth_factor, dropout_rate = self.calculate_factors(version)\n",
    "\n",
    "        last_channels = ceil(1280 * width_factor)\n",
    "        self.pool = nn.AdaptiveAvgPool2d(1)\n",
    "        self.features = self.create_features(width_factor, depth_factor, last_channels)\n",
    "        self.classifier = nn.Sequential(\n",
    "            nn.Dropout(dropout_rate),\n",
    "            nn.Linear(last_channels, num_classes),\n",
    "        )\n",
    "        \n",
    "\n",
    "    def calculate_factors(self, version, alpha=1.2, beta=1.1):\n",
    "        phi, res, drop_rate = phi_values[version]\n",
    "        depth_factor = alpha ** phi\n",
    "        width_factor = beta ** phi\n",
    "\n",
    "        return width_factor, depth_factor, drop_rate\n",
    "    def create_features(self, width_factor, depth_factor, last_channels):\n",
    "        channels = int(32 * width_factor)\n",
    "        features = [CNNBlock(3, channels, 3, stride=2, padding=1)]\n",
    "        in_channels = channels\n",
    "\n",
    "        for expand_ratio, channels, reapeats, stride, kernel_size in base_model:\n",
    "            out_channels = 4 * ceil(int(channels*width_factor)/4)\n",
    "            layers_repeats = ceil(reapeats * depth_factor)\n",
    "\n",
    "            for layer in range(layers_repeats):\n",
    "                features.append(\n",
    "                    InvertedResidualBlock(\n",
    "                        in_channels,\n",
    "                        out_channels,\n",
    "                        expand_ratio = expand_ratio,\n",
    "                        stride = stride if layer == 0 else 1,\n",
    "                        kernel_size = kernel_size,\n",
    "                        padding= kernel_size//2, # if k=1: pad=0, k=3:pad=1, k=5:pad=2\n",
    "                    )\n",
    "                )\n",
    "                \n",
    "                in_channels = out_channels\n",
    "\n",
    "        features.append(\n",
    "            CNNBlock(in_channels, last_channels, kernel_size=1, stride=1, padding=0)\n",
    "        )\n",
    "        return nn.Sequential(*features)\n",
    "                \n",
    "    def forward(self, x):\n",
    "        x = self.pool(self.features(x))\n",
    "        return self.classifier(x.view(x.shape[0], -1))\n",
    "            \n",
    "        \n",
    "        \n",
    "    \n",
    "    \n",
    "        "
   ]
  },
  {
   "cell_type": "code",
   "execution_count": 25,
   "id": "20b2c8df-df43-4d49-a81f-e419b916391c",
   "metadata": {},
   "outputs": [],
   "source": [
    "def test():\n",
    "    device = \"cuda\" if torch.cuda.is_available() else \"cpu\"\n",
    "    version = \"b0\"\n",
    "    phi, res, drop_rate = phi_values[version]\n",
    "    num_examples, num_classes = 4, 10\n",
    "    x = torch.randn((num_examples, 3, res, res)).to(device)\n",
    "    model = EfficientNet(\n",
    "        version=version,\n",
    "        num_classes=num_classes,\n",
    "    ).to(device)\n",
    "\n",
    "    print(model(x).shape)  # (num_examples, num_classes)"
   ]
  },
  {
   "cell_type": "code",
   "execution_count": 26,
   "id": "660eb37b-315e-4ad1-9e47-cbc4358d5417",
   "metadata": {},
   "outputs": [
    {
     "name": "stdout",
     "output_type": "stream",
     "text": [
      "torch.Size([4, 10])\n"
     ]
    }
   ],
   "source": [
    "test()"
   ]
  },
  {
   "cell_type": "code",
   "execution_count": null,
   "id": "1cbc7396-6f28-465c-b4d3-d7bf0be35458",
   "metadata": {},
   "outputs": [],
   "source": []
  },
  {
   "cell_type": "code",
   "execution_count": null,
   "id": "d0244aa4-3664-4d2a-b9c9-0e78ebbf5fa3",
   "metadata": {},
   "outputs": [],
   "source": []
  }
 ],
 "metadata": {
  "kernelspec": {
   "display_name": "Python 3 (ipykernel)",
   "language": "python",
   "name": "python3"
  },
  "language_info": {
   "codemirror_mode": {
    "name": "ipython",
    "version": 3
   },
   "file_extension": ".py",
   "mimetype": "text/x-python",
   "name": "python",
   "nbconvert_exporter": "python",
   "pygments_lexer": "ipython3",
   "version": "3.9.18"
  }
 },
 "nbformat": 4,
 "nbformat_minor": 5
}
