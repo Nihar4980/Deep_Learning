{
 "cells": [
  {
   "cell_type": "code",
   "execution_count": 17,
   "id": "0bbbfbbf-cf3c-4a2b-81a5-f089249047a8",
   "metadata": {},
   "outputs": [
    {
     "data": {
      "text/plain": [
       "torch.Size([1, 147, 36])"
      ]
     },
     "execution_count": 17,
     "metadata": {},
     "output_type": "execute_result"
    }
   ],
   "source": [
    "import torch\n",
    "import torch.nn as nn\n",
    "x = torch.randn(1,3,24,24)\n",
    "x.shape\n",
    "unfold = nn.Unfold(kernel_size=7, dilation=3, stride=1)\n",
    "unfold(x).shape"
   ]
  },
  {
   "cell_type": "code",
   "execution_count": 13,
   "id": "3c09cb74-2d2f-4002-bf4e-80cef0a2546c",
   "metadata": {},
   "outputs": [
    {
     "data": {
      "text/plain": [
       "torch.Size([1, 3, 24, 24])"
      ]
     },
     "execution_count": 13,
     "metadata": {},
     "output_type": "execute_result"
    }
   ],
   "source": [
    "x = torch.randn(1,3,24,24)\n",
    "x.shape"
   ]
  },
  {
   "cell_type": "code",
   "execution_count": 19,
   "id": "4c35c796-b02d-4148-a661-b0c4bacabbd1",
   "metadata": {},
   "outputs": [
    {
     "data": {
      "text/plain": [
       "torch.Size([24, 24])"
      ]
     },
     "execution_count": 19,
     "metadata": {},
     "output_type": "execute_result"
    }
   ],
   "source": [
    " torch.einsum(\"bchw,bchw -> hw\",x,x).shape"
   ]
  },
  {
   "cell_type": "code",
   "execution_count": 14,
   "id": "cfb64d91-9962-455a-8728-484aa9731980",
   "metadata": {},
   "outputs": [
    {
     "data": {
      "text/plain": [
       "torch.Size([1, 147, 324])"
      ]
     },
     "execution_count": 14,
     "metadata": {},
     "output_type": "execute_result"
    }
   ],
   "source": [
    "unfold = nn.Unfold(kernel_size=7, dilation=1, stride=1)\n",
    "unfold(x).shape"
   ]
  },
  {
   "cell_type": "code",
   "execution_count": 5,
   "id": "70edd89d-b651-46b0-8792-8985e2119727",
   "metadata": {},
   "outputs": [],
   "source": [
    "import torch\n",
    "import torch.nn as nn\n",
    "import torch.nn.functional as F\n",
    "\n",
    "class NeighborhoodAttention2D(nn.Module):\n",
    "    \"\"\"Neighborhood Attention with Dilation in PyTorch (CUDA Accelerated).\"\"\"\n",
    "    \n",
    "    def __init__(self, dim, num_heads, kernel_size=7, dilation=1):\n",
    "        super().__init__()\n",
    "        self.dim = dim\n",
    "        self.num_heads = num_heads\n",
    "        self.kernel_size = kernel_size\n",
    "        self.dilation = dilation\n",
    "\n",
    "        # Query, Key, Value transformations\n",
    "        self.q_proj = nn.Linear(dim, dim, bias=False)\n",
    "        self.k_proj = nn.Linear(dim, dim, bias=False)\n",
    "        self.v_proj = nn.Linear(dim, dim, bias=False)\n",
    "        self.out_proj = nn.Linear(dim, dim, bias=False)\n",
    "\n",
    "    def forward(self, x):\n",
    "        \"\"\"\n",
    "        x: (B, C, H, W) Input tensor\n",
    "        Returns: (B, C, H, W) Processed output tensor\n",
    "        \"\"\"\n",
    "        B, C, H, W = x.shape\n",
    "        q = self.q_proj(x.permute(0, 2, 3, 1))  # (B, H, W, C)\n",
    "        k = self.k_proj(x.permute(0, 2, 3, 1))\n",
    "        v = self.v_proj(x.permute(0, 2, 3, 1))\n",
    "\n",
    "        # Extract local regions with dilation\n",
    "        unfold = nn.Unfold(kernel_size=self.kernel_size, dilation=self.dilation, stride=1).to(x.device)\n",
    "        k_unf = unfold(k.permute(0, 3, 1, 2))  # (B, C*K*K, H*W)\n",
    "        v_unf = unfold(v.permute(0, 3, 1, 2))  # (B, C*K*K, H*W)\n",
    "\n",
    "        k_unf = k_unf.view(B, C, self.kernel_size * self.kernel_size, H, W)\n",
    "        v_unf = v_unf.view(B, C, self.kernel_size * self.kernel_size, H, W)\n",
    "\n",
    "        # Compute attention scores\n",
    "        attn_scores = torch.einsum(\"bchw,bcjhw->bjhw\", q, k_unf)  # (B, K*K, H, W)\n",
    "        attn_scores = F.softmax(attn_scores, dim=1)\n",
    "\n",
    "        # Apply attention to values\n",
    "        out = torch.einsum(\"bjhw,bcjhw->bchw\", attn_scores, v_unf)\n",
    "\n",
    "        return self.out_proj(out.permute(0, 3, 1, 2))  # Restore shape (B, C, H, W)\n",
    "\n"
   ]
  },
  {
   "cell_type": "code",
   "execution_count": 6,
   "id": "80a034ad-f28d-44ce-bd5e-49bbe0841590",
   "metadata": {},
   "outputs": [
    {
     "name": "stdout",
     "output_type": "stream",
     "text": [
      "Extracted Patches Shape: torch.Size([1, 3, 49, 32, 32])\n"
     ]
    }
   ],
   "source": [
    "import torch\n",
    "import torch.nn.functional as F\n",
    "\n",
    "def extract_dilated_patches(x, kernel_size, dilation):\n",
    "    \"\"\"\n",
    "    Extracts dilated patches from a 4D input tensor using PyTorch.\n",
    "\n",
    "    Args:\n",
    "    - x: Input tensor of shape (B, C, H, W)\n",
    "    - kernel_size: Size of the attention window (e.g., 7 for 7x7)\n",
    "    - dilation: Dilation factor (e.g., 2, 4, etc.)\n",
    "\n",
    "    Returns:\n",
    "    - Extracted patches of shape (B, C, kernel_size*kernel_size, H, W)\n",
    "    \"\"\"\n",
    "    B, C, H, W = x.shape\n",
    "    padding = (kernel_size // 2) * dilation  # Same padding as in C++ code\n",
    "\n",
    "    # Unfold extracts sliding windows with dilation\n",
    "    x_unfolded = F.unfold(x, kernel_size, dilation=dilation, padding=padding)\n",
    "\n",
    "    # Reshape to (B, C, K*K, H, W)\n",
    "    num_patches = kernel_size * kernel_size\n",
    "    x_unfolded = x_unfolded.view(B, C, num_patches, H, W)\n",
    "    \n",
    "    return x_unfolded\n",
    "\n",
    "# Example Usage\n",
    "B, C, H, W = 1, 3, 32, 32  # Batch, Channels, Height, Width\n",
    "x = torch.randn(B, C, H, W).cuda()  # Move tensor to CUDA\n",
    "kernel_size = 7\n",
    "dilation = 2\n",
    "\n",
    "patches = extract_dilated_patches(x, kernel_size, dilation)\n",
    "print(\"Extracted Patches Shape:\", patches.shape)  # Expected: (B, C, K*K, H, W)\n"
   ]
  },
  {
   "cell_type": "code",
   "execution_count": 2,
   "id": "3b3006ea-d6fd-49e0-94d8-5164f875e5dc",
   "metadata": {},
   "outputs": [
    {
     "data": {
      "text/plain": [
       "torch.Size([1, 3, 24, 24])"
      ]
     },
     "execution_count": 2,
     "metadata": {},
     "output_type": "execute_result"
    }
   ],
   "source": [
    "import torch\n",
    "import torch.nn as nn\n",
    "x = torch.randn(1,3,24,24)\n",
    "x.shape"
   ]
  },
  {
   "cell_type": "code",
   "execution_count": 3,
   "id": "96b9badc-324f-4da4-abb1-a7daaed1d1b4",
   "metadata": {},
   "outputs": [
    {
     "name": "stdout",
     "output_type": "stream",
     "text": [
      "3\n",
      "6\n",
      "12\n",
      "12\n",
      "1\n",
      "10\n",
      "34\n",
      "0\n"
     ]
    }
   ],
   "source": [
    "#Import math Library\n",
    "import math\n",
    "\n",
    "#find the  the greatest common divisor of the two integers\n",
    "print (math.gcd(3, 6))\n",
    "print (math.gcd(6, 12))\n",
    "print (math.gcd(12, 36))\n",
    "print (math.gcd(-12, -36))\n",
    "print (math.gcd(5, 12))\n",
    "print (math.gcd(10, 0))\n",
    "print (math.gcd(0, 34))\n",
    "print (math.gcd(0, 0))"
   ]
  },
  {
   "cell_type": "code",
   "execution_count": 4,
   "id": "98d4f488-0623-4955-9307-43c454c21aa0",
   "metadata": {},
   "outputs": [],
   "source": [
    "class Detect(nn.Module):\n",
    "    # YOLO Detect head for detection models\n",
    "    dynamic = False  # force grid reconstruction\n",
    "    export = False  # export mode\n",
    "    shape = None\n",
    "    anchors = torch.empty(0)  # init\n",
    "    strides = torch.empty(0)  # init\n",
    "\n",
    "    def __init__(self, nc=80, ch=(), inplace=True):  # detection layer\n",
    "        super().__init__()\n",
    "        self.nc = nc  # number of classes"
   ]
  },
  {
   "cell_type": "code",
   "execution_count": null,
   "id": "f9e7b03c-1e60-4eb5-8d8f-4323cfeff171",
   "metadata": {},
   "outputs": [],
   "source": []
  },
  {
   "cell_type": "code",
   "execution_count": null,
   "id": "5103b167-8ac3-4a3a-ae7f-0328b6ccb1cc",
   "metadata": {},
   "outputs": [],
   "source": []
  },
  {
   "cell_type": "code",
   "execution_count": null,
   "id": "ee1b6b91-2438-4ee1-98dd-cf0589e59798",
   "metadata": {},
   "outputs": [],
   "source": []
  },
  {
   "cell_type": "code",
   "execution_count": null,
   "id": "905472c7-4b87-4293-8ef1-cd8c80d201a7",
   "metadata": {},
   "outputs": [],
   "source": []
  },
  {
   "cell_type": "code",
   "execution_count": null,
   "id": "a671afa3-5a30-4ffc-8c5a-7e4e3a54070b",
   "metadata": {},
   "outputs": [],
   "source": []
  },
  {
   "cell_type": "code",
   "execution_count": null,
   "id": "8ac0a318-ad4c-4cf3-b676-6436947d521f",
   "metadata": {},
   "outputs": [],
   "source": []
  },
  {
   "cell_type": "code",
   "execution_count": null,
   "id": "7e6c2bd4-ba1c-4a9c-ae7b-746ade432f43",
   "metadata": {},
   "outputs": [],
   "source": []
  },
  {
   "cell_type": "code",
   "execution_count": null,
   "id": "61b6760f-d2b0-4427-bdf5-98127f0a7e17",
   "metadata": {},
   "outputs": [],
   "source": []
  },
  {
   "cell_type": "code",
   "execution_count": null,
   "id": "f283106b-a847-4e2a-a199-a41c3d0811e5",
   "metadata": {},
   "outputs": [],
   "source": []
  },
  {
   "cell_type": "code",
   "execution_count": null,
   "id": "9e0148d8-bf71-4fed-afb4-65033eec7cea",
   "metadata": {},
   "outputs": [],
   "source": []
  },
  {
   "cell_type": "code",
   "execution_count": null,
   "id": "9ad1e5e2-ce08-4bdc-843d-4455d7096940",
   "metadata": {},
   "outputs": [],
   "source": []
  },
  {
   "cell_type": "code",
   "execution_count": null,
   "id": "37e71799-35ff-447d-8608-8a2c5ce579b5",
   "metadata": {},
   "outputs": [],
   "source": []
  },
  {
   "cell_type": "code",
   "execution_count": null,
   "id": "f95f526a-386a-4aa5-8041-66a0f3a1966d",
   "metadata": {},
   "outputs": [],
   "source": []
  }
 ],
 "metadata": {
  "kernelspec": {
   "display_name": "Python 3 (ipykernel)",
   "language": "python",
   "name": "python3"
  },
  "language_info": {
   "codemirror_mode": {
    "name": "ipython",
    "version": 3
   },
   "file_extension": ".py",
   "mimetype": "text/x-python",
   "name": "python",
   "nbconvert_exporter": "python",
   "pygments_lexer": "ipython3",
   "version": "3.9.18"
  }
 },
 "nbformat": 4,
 "nbformat_minor": 5
}
