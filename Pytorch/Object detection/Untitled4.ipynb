{
 "cells": [
  {
   "cell_type": "code",
   "execution_count": 17,
   "id": "0bbbfbbf-cf3c-4a2b-81a5-f089249047a8",
   "metadata": {},
   "outputs": [
    {
     "data": {
      "text/plain": [
       "torch.Size([1, 147, 36])"
      ]
     },
     "execution_count": 17,
     "metadata": {},
     "output_type": "execute_result"
    }
   ],
   "source": [
    "import torch\n",
    "import torch.nn as nn\n",
    "x = torch.randn(1,3,24,24)\n",
    "x.shape\n",
    "unfold = nn.Unfold(kernel_size=7, dilation=3, stride=1)\n",
    "unfold(x).shape"
   ]
  },
  {
   "cell_type": "code",
   "execution_count": 13,
   "id": "3c09cb74-2d2f-4002-bf4e-80cef0a2546c",
   "metadata": {},
   "outputs": [
    {
     "data": {
      "text/plain": [
       "torch.Size([1, 3, 24, 24])"
      ]
     },
     "execution_count": 13,
     "metadata": {},
     "output_type": "execute_result"
    }
   ],
   "source": [
    "x = torch.randn(1,3,24,24)\n",
    "x.shape"
   ]
  },
  {
   "cell_type": "code",
   "execution_count": 19,
   "id": "4c35c796-b02d-4148-a661-b0c4bacabbd1",
   "metadata": {},
   "outputs": [
    {
     "data": {
      "text/plain": [
       "torch.Size([24, 24])"
      ]
     },
     "execution_count": 19,
     "metadata": {},
     "output_type": "execute_result"
    }
   ],
   "source": [
    " torch.einsum(\"bchw,bchw -> hw\",x,x).shape"
   ]
  },
  {
   "cell_type": "code",
   "execution_count": 14,
   "id": "cfb64d91-9962-455a-8728-484aa9731980",
   "metadata": {},
   "outputs": [
    {
     "data": {
      "text/plain": [
       "torch.Size([1, 147, 324])"
      ]
     },
     "execution_count": 14,
     "metadata": {},
     "output_type": "execute_result"
    }
   ],
   "source": [
    "unfold = nn.Unfold(kernel_size=7, dilation=1, stride=1)\n",
    "unfold(x).shape"
   ]
  },
  {
   "cell_type": "code",
   "execution_count": 5,
   "id": "70edd89d-b651-46b0-8792-8985e2119727",
   "metadata": {},
   "outputs": [],
   "source": [
    "import torch\n",
    "import torch.nn as nn\n",
    "import torch.nn.functional as F\n",
    "\n",
    "class NeighborhoodAttention2D(nn.Module):\n",
    "    \"\"\"Neighborhood Attention with Dilation in PyTorch (CUDA Accelerated).\"\"\"\n",
    "    \n",
    "    def __init__(self, dim, num_heads, kernel_size=7, dilation=1):\n",
    "        super().__init__()\n",
    "        self.dim = dim\n",
    "        self.num_heads = num_heads\n",
    "        self.kernel_size = kernel_size\n",
    "        self.dilation = dilation\n",
    "\n",
    "        # Query, Key, Value transformations\n",
    "        self.q_proj = nn.Linear(dim, dim, bias=False)\n",
    "        self.k_proj = nn.Linear(dim, dim, bias=False)\n",
    "        self.v_proj = nn.Linear(dim, dim, bias=False)\n",
    "        self.out_proj = nn.Linear(dim, dim, bias=False)\n",
    "\n",
    "    def forward(self, x):\n",
    "        \"\"\"\n",
    "        x: (B, C, H, W) Input tensor\n",
    "        Returns: (B, C, H, W) Processed output tensor\n",
    "        \"\"\"\n",
    "        B, C, H, W = x.shape\n",
    "        q = self.q_proj(x.permute(0, 2, 3, 1))  # (B, H, W, C)\n",
    "        k = self.k_proj(x.permute(0, 2, 3, 1))\n",
    "        v = self.v_proj(x.permute(0, 2, 3, 1))\n",
    "\n",
    "        # Extract local regions with dilation\n",
    "        unfold = nn.Unfold(kernel_size=self.kernel_size, dilation=self.dilation, stride=1).to(x.device)\n",
    "        k_unf = unfold(k.permute(0, 3, 1, 2))  # (B, C*K*K, H*W)\n",
    "        v_unf = unfold(v.permute(0, 3, 1, 2))  # (B, C*K*K, H*W)\n",
    "\n",
    "        k_unf = k_unf.view(B, C, self.kernel_size * self.kernel_size, H, W)\n",
    "        v_unf = v_unf.view(B, C, self.kernel_size * self.kernel_size, H, W)\n",
    "\n",
    "        # Compute attention scores\n",
    "        attn_scores = torch.einsum(\"bchw,bcjhw->bjhw\", q, k_unf)  # (B, K*K, H, W)\n",
    "        attn_scores = F.softmax(attn_scores, dim=1)\n",
    "\n",
    "        # Apply attention to values\n",
    "        out = torch.einsum(\"bjhw,bcjhw->bchw\", attn_scores, v_unf)\n",
    "\n",
    "        return self.out_proj(out.permute(0, 3, 1, 2))  # Restore shape (B, C, H, W)\n",
    "\n"
   ]
  },
  {
   "cell_type": "code",
   "execution_count": 6,
   "id": "80a034ad-f28d-44ce-bd5e-49bbe0841590",
   "metadata": {},
   "outputs": [
    {
     "name": "stdout",
     "output_type": "stream",
     "text": [
      "Extracted Patches Shape: torch.Size([1, 3, 49, 32, 32])\n"
     ]
    }
   ],
   "source": [
    "import torch\n",
    "import torch.nn.functional as F\n",
    "\n",
    "def extract_dilated_patches(x, kernel_size, dilation):\n",
    "    \"\"\"\n",
    "    Extracts dilated patches from a 4D input tensor using PyTorch.\n",
    "\n",
    "    Args:\n",
    "    - x: Input tensor of shape (B, C, H, W)\n",
    "    - kernel_size: Size of the attention window (e.g., 7 for 7x7)\n",
    "    - dilation: Dilation factor (e.g., 2, 4, etc.)\n",
    "\n",
    "    Returns:\n",
    "    - Extracted patches of shape (B, C, kernel_size*kernel_size, H, W)\n",
    "    \"\"\"\n",
    "    B, C, H, W = x.shape\n",
    "    padding = (kernel_size // 2) * dilation  # Same padding as in C++ code\n",
    "\n",
    "    # Unfold extracts sliding windows with dilation\n",
    "    x_unfolded = F.unfold(x, kernel_size, dilation=dilation, padding=padding)\n",
    "\n",
    "    # Reshape to (B, C, K*K, H, W)\n",
    "    num_patches = kernel_size * kernel_size\n",
    "    x_unfolded = x_unfolded.view(B, C, num_patches, H, W)\n",
    "    \n",
    "    return x_unfolded\n",
    "\n",
    "# Example Usage\n",
    "B, C, H, W = 1, 3, 32, 32  # Batch, Channels, Height, Width\n",
    "x = torch.randn(B, C, H, W).cuda()  # Move tensor to CUDA\n",
    "kernel_size = 7\n",
    "dilation = 2\n",
    "\n",
    "patches = extract_dilated_patches(x, kernel_size, dilation)\n",
    "print(\"Extracted Patches Shape:\", patches.shape)  # Expected: (B, C, K*K, H, W)\n"
   ]
  },
  {
   "cell_type": "code",
   "execution_count": null,
   "id": "3b3006ea-d6fd-49e0-94d8-5164f875e5dc",
   "metadata": {},
   "outputs": [],
   "source": []
  }
 ],
 "metadata": {
  "kernelspec": {
   "display_name": "Python 3 (ipykernel)",
   "language": "python",
   "name": "python3"
  },
  "language_info": {
   "codemirror_mode": {
    "name": "ipython",
    "version": 3
   },
   "file_extension": ".py",
   "mimetype": "text/x-python",
   "name": "python",
   "nbconvert_exporter": "python",
   "pygments_lexer": "ipython3",
   "version": "3.9.18"
  }
 },
 "nbformat": 4,
 "nbformat_minor": 5
}
