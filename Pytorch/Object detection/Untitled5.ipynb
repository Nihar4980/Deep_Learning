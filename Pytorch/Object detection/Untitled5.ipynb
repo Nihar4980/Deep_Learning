{
 "cells": [
  {
   "cell_type": "code",
   "execution_count": 7,
   "id": "f2e75a78-364a-41ad-822e-9e4792061881",
   "metadata": {},
   "outputs": [],
   "source": [
    "import torch.nn as nn\n",
    "class NeighborhoodAttention(nn.Module): #It can only use static size as input,but you can define a new input size if you wish.\n",
    "    def __init__(self,input_size, dim, num_heads,window_size=7, qkv_bias=True, qk_scale=None, attn_drop=0., proj_drop=0.):\n",
    "        super().__init__()\n",
    "        assert window_size%2 == 1,'windowsize must be odd.'\n",
    "        self.dim = dim\n",
    "        self.window_size = window_size\n",
    "        self.num_heads = num_heads\n",
    "        head_dim = dim // num_heads\n",
    "        self.scale = qk_scale or head_dim ** -0.5\n",
    "        self.qkv = nn.Conv2d(dim,dim*3,1, bias=qkv_bias)\n",
    "        self.proj = nn.Conv2d(dim, dim, 1)\n",
    "        self.proj_drop = nn.Dropout(proj_drop)\n",
    "        self.attn_drop = nn.Dropout(attn_drop)\n",
    "        self.pad_idx = nn.ReplicationPad2d(self.window_size//2)\n",
    "        self.relative_bias = nn.Parameter(torch.zeros((2*self.window_size-1)**2,num_heads))\n",
    "        trunc_normal_(self.relative_bias, std=.02)\n",
    "        self.idx_h = torch.arange(0,window_size)\n",
    "        self.idx_w = torch.arange(0,window_size)\n",
    "        self.idx_k = ((self.idx_h.unsqueeze(-1) * (2*self.window_size-1)) + self.idx_w).view(-1)\n",
    "        self.set_input_size(input_size)\n",
    "\n",
    "    def forward(self, x):\n",
    "        x = self.attention(x)\n",
    "        x = self.proj(x)\n",
    "        x = self.proj_drop(x)\n",
    "        return x\n",
    "\n",
    "    def attention(self,x):\n",
    "        B,C,H,W = x.shape\n",
    "        assert H >= self.window_size and W >= self.window_size,'input size must not be smaller than window size'\n",
    "        qkv = self.qkv(x).view(B, 3,self.num_heads,C//self.num_heads,H*W).permute(1, 0, 2, 4, 3)\n",
    "        q, k, v = qkv[0], qkv[1], qkv[2]\n",
    "        q = q * self.scale\n",
    "        attn = q.unsqueeze(3) @ k[:,:,self.attn_idx].unsqueeze(2) #B,nh,L,1,K^2\n",
    "        attn = attn + self.relative_bias[self.bias_idx].permute(2, 0, 1).unsqueeze(2)\n",
    "        attn = attn.softmax(dim=-1)\n",
    "        attn = self.attn_drop(attn)\n",
    "        x = (attn @ v[:,:,self.attn_idx]).squeeze(3).transpose(-1,-2).contiguous().view(B,C,H,W)\n",
    "        return x\n",
    "        \n",
    "    def get_bias_idx(self,H,W):\n",
    "        num_repeat_h = torch.ones(self.window_size,dtype=torch.long)\n",
    "        num_repeat_w = torch.ones(self.window_size,dtype=torch.long)\n",
    "        num_repeat_h[self.window_size//2] = H-(self.window_size-1)\n",
    "        num_repeat_w[self.window_size//2] = W-(self.window_size-1)\n",
    "        bias_hw = (self.idx_h.repeat_interleave(num_repeat_h).unsqueeze(-1) * (2*self.window_size-1)) + self.idx_w.repeat_interleave(num_repeat_w)\n",
    "        bias_idx = bias_hw.unsqueeze(-1) + self.idx_k\n",
    "        return bias_idx.view(-1,self.window_size**2)\n",
    "\n",
    "      \n",
    "    def get_attn_idx(self,H,W):\n",
    "        H_ = H - (self.window_size - 1)\n",
    "        W_ = W - (self.window_size - 1)\n",
    "        attn_idx = torch.arange(0,H_*W_,dtype=torch.float).view(1,1,H_,W_)\n",
    "        attn_idx = self.pad_idx(attn_idx).view(-1).type(torch.long)\n",
    "        attn_idx = self.get_unfold_idx(H,W)[attn_idx]\n",
    "        return attn_idx\n",
    "    \n",
    "    def get_unfold_idx(self,H,W):\n",
    "        H_ = H-(self.window_size-1)\n",
    "        W_ = W-(self.window_size-1)\n",
    "        h_idx = torch.arange(W_).repeat(H_)\n",
    "        w_idx = torch.arange(H_).repeat_interleave(W_) * W\n",
    "        k_idx_1 = torch.arange(self.window_size).repeat(self.window_size)\n",
    "        k_idx_2 = torch.arange(self.window_size).repeat_interleave(self.window_size) * W\n",
    "        k_idx = k_idx_1 + k_idx_2\n",
    "        hw_idx = h_idx + w_idx\n",
    "        unfold_idx = hw_idx[:,None] + k_idx\n",
    "        return unfold_idx\n",
    "    def set_input_size(self,input_size):\n",
    "        H,W = input_size\n",
    "        self.H,self.W = H,W\n",
    "        assert H >= self.window_size and W >= self.window_size,'input size must not be smaller than window size'\n",
    "        attn_idx = self.get_attn_idx(H,W)\n",
    "        bias_idx = self.get_bias_idx(H,W)\n",
    "        self.register_buffer(\"attn_idx\", attn_idx)\n",
    "        self.register_buffer(\"bias_idx\",bias_idx)\n",
    "        "
   ]
  },
  {
   "cell_type": "code",
   "execution_count": 8,
   "id": "f6cb8b9b-eaa7-4191-a2ff-b1404264318d",
   "metadata": {},
   "outputs": [],
   "source": [
    "import torch\n",
    "from torch import nn\n",
    "from torch.nn import functional as F\n",
    "from timm.models.layers import DropPath, trunc_normal_\n",
    "\n",
    "class Channel_Layernorm(nn.Module):\n",
    "    def __init__(self, dim):\n",
    "        super().__init__()\n",
    "        self.ln = nn.LayerNorm(dim)\n",
    "    def forward(self, x):\n",
    "        x = x.permute(0, 2, 3, 1)\n",
    "        x = self.ln(x)\n",
    "        x = x.permute(0, 3, 1, 2)\n",
    "        return x\n",
    "    \n",
    "class Mlp(nn.Module):\n",
    "    def __init__(self, in_features, hidden_features=None, out_features=None, act_layer=nn.GELU, drop=0.):\n",
    "        super().__init__()\n",
    "        out_features = out_features or in_features\n",
    "        hidden_features = hidden_features or in_features\n",
    "        self.fc1 = nn.Conv2d(in_features, hidden_features,1)\n",
    "        self.act = act_layer()\n",
    "        self.fc2 = nn.Conv2d(hidden_features, out_features,1)\n",
    "        self.drop = nn.Dropout(drop)\n",
    "    def forward(self, x):\n",
    "        x = self.fc1(x)\n",
    "        x = self.act(x)\n",
    "        x = self.drop(x)\n",
    "        x = self.fc2(x)\n",
    "        x = self.drop(x)\n",
    "        return x"
   ]
  },
  {
   "cell_type": "code",
   "execution_count": 9,
   "id": "f7695bf9-14af-4c58-aa2e-34755d52a704",
   "metadata": {},
   "outputs": [],
   "source": [
    "class NATLayer(nn.Module):\n",
    "    def __init__(self,input_size, dim, num_heads,window_size=7,\n",
    "                 mlp_ratio=4., qkv_bias=True, qk_scale=None, drop=0., attn_drop=0., drop_path=0.,\n",
    "                 act_layer=nn.GELU, norm_layer=Channel_Layernorm, layer_scale=None):\n",
    "        super().__init__()\n",
    "        self.dim = dim\n",
    "        self.num_heads = num_heads\n",
    "        self.mlp_ratio = mlp_ratio\n",
    "        self.norm1 = norm_layer(dim)\n",
    "        self.attn = NeighborhoodAttention(input_size, dim, num_heads,window_size,qkv_bias, qk_scale, attn_drop, drop)\n",
    "        self.drop_path = DropPath(drop_path) if drop_path > 0. else nn.Identity()\n",
    "        self.norm2 = norm_layer(dim)\n",
    "        self.mlp = Mlp(in_features=dim, hidden_features=int(dim * mlp_ratio), act_layer=act_layer, drop=drop)\n",
    "        \n",
    "    def forward(self, x):\n",
    "        shortcut = x\n",
    "        x = self.norm1(x)\n",
    "        x = self.attn(x)\n",
    "        x = shortcut + self.drop_path(x)\n",
    "        x = x + self.drop_path(self.mlp(self.norm2(x)))\n",
    "        return x\n",
    "    \n",
    "    def set_input_size(self,input_size):\n",
    "        self.attn.set_input_size(input_size)"
   ]
  },
  {
   "cell_type": "code",
   "execution_count": 10,
   "id": "8902794c-2178-41fe-8b33-864ace644db8",
   "metadata": {},
   "outputs": [
    {
     "ename": "RuntimeError",
     "evalue": "The size of tensor a (3136) must match the size of tensor b (784) at non-singleton dimension 3",
     "output_type": "error",
     "traceback": [
      "\u001b[1;31m---------------------------------------------------------------------------\u001b[0m",
      "\u001b[1;31mRuntimeError\u001b[0m                              Traceback (most recent call last)",
      "Cell \u001b[1;32mIn[10], line 3\u001b[0m\n\u001b[0;32m      1\u001b[0m model \u001b[38;5;241m=\u001b[39m NATLayer((\u001b[38;5;241m28\u001b[39m,\u001b[38;5;241m28\u001b[39m),\u001b[38;5;241m128\u001b[39m,\u001b[38;5;241m4\u001b[39m)\n\u001b[0;32m      2\u001b[0m img \u001b[38;5;241m=\u001b[39m torch\u001b[38;5;241m.\u001b[39mrand(\u001b[38;5;241m2\u001b[39m,\u001b[38;5;241m128\u001b[39m,\u001b[38;5;241m56\u001b[39m,\u001b[38;5;241m56\u001b[39m)\n\u001b[1;32m----> 3\u001b[0m \u001b[43mmodel\u001b[49m\u001b[43m(\u001b[49m\u001b[43mimg\u001b[49m\u001b[43m)\u001b[49m\n",
      "File \u001b[1;32m~\\anaconda3\\envs\\tf\\lib\\site-packages\\torch\\nn\\modules\\module.py:1511\u001b[0m, in \u001b[0;36mModule._wrapped_call_impl\u001b[1;34m(self, *args, **kwargs)\u001b[0m\n\u001b[0;32m   1509\u001b[0m     \u001b[38;5;28;01mreturn\u001b[39;00m \u001b[38;5;28mself\u001b[39m\u001b[38;5;241m.\u001b[39m_compiled_call_impl(\u001b[38;5;241m*\u001b[39margs, \u001b[38;5;241m*\u001b[39m\u001b[38;5;241m*\u001b[39mkwargs)  \u001b[38;5;66;03m# type: ignore[misc]\u001b[39;00m\n\u001b[0;32m   1510\u001b[0m \u001b[38;5;28;01melse\u001b[39;00m:\n\u001b[1;32m-> 1511\u001b[0m     \u001b[38;5;28;01mreturn\u001b[39;00m \u001b[38;5;28mself\u001b[39m\u001b[38;5;241m.\u001b[39m_call_impl(\u001b[38;5;241m*\u001b[39margs, \u001b[38;5;241m*\u001b[39m\u001b[38;5;241m*\u001b[39mkwargs)\n",
      "File \u001b[1;32m~\\anaconda3\\envs\\tf\\lib\\site-packages\\torch\\nn\\modules\\module.py:1520\u001b[0m, in \u001b[0;36mModule._call_impl\u001b[1;34m(self, *args, **kwargs)\u001b[0m\n\u001b[0;32m   1515\u001b[0m \u001b[38;5;66;03m# If we don't have any hooks, we want to skip the rest of the logic in\u001b[39;00m\n\u001b[0;32m   1516\u001b[0m \u001b[38;5;66;03m# this function, and just call forward.\u001b[39;00m\n\u001b[0;32m   1517\u001b[0m \u001b[38;5;28;01mif\u001b[39;00m \u001b[38;5;129;01mnot\u001b[39;00m (\u001b[38;5;28mself\u001b[39m\u001b[38;5;241m.\u001b[39m_backward_hooks \u001b[38;5;129;01mor\u001b[39;00m \u001b[38;5;28mself\u001b[39m\u001b[38;5;241m.\u001b[39m_backward_pre_hooks \u001b[38;5;129;01mor\u001b[39;00m \u001b[38;5;28mself\u001b[39m\u001b[38;5;241m.\u001b[39m_forward_hooks \u001b[38;5;129;01mor\u001b[39;00m \u001b[38;5;28mself\u001b[39m\u001b[38;5;241m.\u001b[39m_forward_pre_hooks\n\u001b[0;32m   1518\u001b[0m         \u001b[38;5;129;01mor\u001b[39;00m _global_backward_pre_hooks \u001b[38;5;129;01mor\u001b[39;00m _global_backward_hooks\n\u001b[0;32m   1519\u001b[0m         \u001b[38;5;129;01mor\u001b[39;00m _global_forward_hooks \u001b[38;5;129;01mor\u001b[39;00m _global_forward_pre_hooks):\n\u001b[1;32m-> 1520\u001b[0m     \u001b[38;5;28;01mreturn\u001b[39;00m forward_call(\u001b[38;5;241m*\u001b[39margs, \u001b[38;5;241m*\u001b[39m\u001b[38;5;241m*\u001b[39mkwargs)\n\u001b[0;32m   1522\u001b[0m \u001b[38;5;28;01mtry\u001b[39;00m:\n\u001b[0;32m   1523\u001b[0m     result \u001b[38;5;241m=\u001b[39m \u001b[38;5;28;01mNone\u001b[39;00m\n",
      "Cell \u001b[1;32mIn[9], line 18\u001b[0m, in \u001b[0;36mNATLayer.forward\u001b[1;34m(self, x)\u001b[0m\n\u001b[0;32m     16\u001b[0m shortcut \u001b[38;5;241m=\u001b[39m x\n\u001b[0;32m     17\u001b[0m x \u001b[38;5;241m=\u001b[39m \u001b[38;5;28mself\u001b[39m\u001b[38;5;241m.\u001b[39mnorm1(x)\n\u001b[1;32m---> 18\u001b[0m x \u001b[38;5;241m=\u001b[39m \u001b[38;5;28;43mself\u001b[39;49m\u001b[38;5;241;43m.\u001b[39;49m\u001b[43mattn\u001b[49m\u001b[43m(\u001b[49m\u001b[43mx\u001b[49m\u001b[43m)\u001b[49m\n\u001b[0;32m     19\u001b[0m x \u001b[38;5;241m=\u001b[39m shortcut \u001b[38;5;241m+\u001b[39m \u001b[38;5;28mself\u001b[39m\u001b[38;5;241m.\u001b[39mdrop_path(x)\n\u001b[0;32m     20\u001b[0m x \u001b[38;5;241m=\u001b[39m x \u001b[38;5;241m+\u001b[39m \u001b[38;5;28mself\u001b[39m\u001b[38;5;241m.\u001b[39mdrop_path(\u001b[38;5;28mself\u001b[39m\u001b[38;5;241m.\u001b[39mmlp(\u001b[38;5;28mself\u001b[39m\u001b[38;5;241m.\u001b[39mnorm2(x)))\n",
      "File \u001b[1;32m~\\anaconda3\\envs\\tf\\lib\\site-packages\\torch\\nn\\modules\\module.py:1511\u001b[0m, in \u001b[0;36mModule._wrapped_call_impl\u001b[1;34m(self, *args, **kwargs)\u001b[0m\n\u001b[0;32m   1509\u001b[0m     \u001b[38;5;28;01mreturn\u001b[39;00m \u001b[38;5;28mself\u001b[39m\u001b[38;5;241m.\u001b[39m_compiled_call_impl(\u001b[38;5;241m*\u001b[39margs, \u001b[38;5;241m*\u001b[39m\u001b[38;5;241m*\u001b[39mkwargs)  \u001b[38;5;66;03m# type: ignore[misc]\u001b[39;00m\n\u001b[0;32m   1510\u001b[0m \u001b[38;5;28;01melse\u001b[39;00m:\n\u001b[1;32m-> 1511\u001b[0m     \u001b[38;5;28;01mreturn\u001b[39;00m \u001b[38;5;28mself\u001b[39m\u001b[38;5;241m.\u001b[39m_call_impl(\u001b[38;5;241m*\u001b[39margs, \u001b[38;5;241m*\u001b[39m\u001b[38;5;241m*\u001b[39mkwargs)\n",
      "File \u001b[1;32m~\\anaconda3\\envs\\tf\\lib\\site-packages\\torch\\nn\\modules\\module.py:1520\u001b[0m, in \u001b[0;36mModule._call_impl\u001b[1;34m(self, *args, **kwargs)\u001b[0m\n\u001b[0;32m   1515\u001b[0m \u001b[38;5;66;03m# If we don't have any hooks, we want to skip the rest of the logic in\u001b[39;00m\n\u001b[0;32m   1516\u001b[0m \u001b[38;5;66;03m# this function, and just call forward.\u001b[39;00m\n\u001b[0;32m   1517\u001b[0m \u001b[38;5;28;01mif\u001b[39;00m \u001b[38;5;129;01mnot\u001b[39;00m (\u001b[38;5;28mself\u001b[39m\u001b[38;5;241m.\u001b[39m_backward_hooks \u001b[38;5;129;01mor\u001b[39;00m \u001b[38;5;28mself\u001b[39m\u001b[38;5;241m.\u001b[39m_backward_pre_hooks \u001b[38;5;129;01mor\u001b[39;00m \u001b[38;5;28mself\u001b[39m\u001b[38;5;241m.\u001b[39m_forward_hooks \u001b[38;5;129;01mor\u001b[39;00m \u001b[38;5;28mself\u001b[39m\u001b[38;5;241m.\u001b[39m_forward_pre_hooks\n\u001b[0;32m   1518\u001b[0m         \u001b[38;5;129;01mor\u001b[39;00m _global_backward_pre_hooks \u001b[38;5;129;01mor\u001b[39;00m _global_backward_hooks\n\u001b[0;32m   1519\u001b[0m         \u001b[38;5;129;01mor\u001b[39;00m _global_forward_hooks \u001b[38;5;129;01mor\u001b[39;00m _global_forward_pre_hooks):\n\u001b[1;32m-> 1520\u001b[0m     \u001b[38;5;28;01mreturn\u001b[39;00m forward_call(\u001b[38;5;241m*\u001b[39margs, \u001b[38;5;241m*\u001b[39m\u001b[38;5;241m*\u001b[39mkwargs)\n\u001b[0;32m   1522\u001b[0m \u001b[38;5;28;01mtry\u001b[39;00m:\n\u001b[0;32m   1523\u001b[0m     result \u001b[38;5;241m=\u001b[39m \u001b[38;5;28;01mNone\u001b[39;00m\n",
      "Cell \u001b[1;32mIn[7], line 24\u001b[0m, in \u001b[0;36mNeighborhoodAttention.forward\u001b[1;34m(self, x)\u001b[0m\n\u001b[0;32m     23\u001b[0m \u001b[38;5;28;01mdef\u001b[39;00m \u001b[38;5;21mforward\u001b[39m(\u001b[38;5;28mself\u001b[39m, x):\n\u001b[1;32m---> 24\u001b[0m     x \u001b[38;5;241m=\u001b[39m \u001b[38;5;28;43mself\u001b[39;49m\u001b[38;5;241;43m.\u001b[39;49m\u001b[43mattention\u001b[49m\u001b[43m(\u001b[49m\u001b[43mx\u001b[49m\u001b[43m)\u001b[49m\n\u001b[0;32m     25\u001b[0m     x \u001b[38;5;241m=\u001b[39m \u001b[38;5;28mself\u001b[39m\u001b[38;5;241m.\u001b[39mproj(x)\n\u001b[0;32m     26\u001b[0m     x \u001b[38;5;241m=\u001b[39m \u001b[38;5;28mself\u001b[39m\u001b[38;5;241m.\u001b[39mproj_drop(x)\n",
      "Cell \u001b[1;32mIn[7], line 35\u001b[0m, in \u001b[0;36mNeighborhoodAttention.attention\u001b[1;34m(self, x)\u001b[0m\n\u001b[0;32m     33\u001b[0m q, k, v \u001b[38;5;241m=\u001b[39m qkv[\u001b[38;5;241m0\u001b[39m], qkv[\u001b[38;5;241m1\u001b[39m], qkv[\u001b[38;5;241m2\u001b[39m]\n\u001b[0;32m     34\u001b[0m q \u001b[38;5;241m=\u001b[39m q \u001b[38;5;241m*\u001b[39m \u001b[38;5;28mself\u001b[39m\u001b[38;5;241m.\u001b[39mscale\n\u001b[1;32m---> 35\u001b[0m attn \u001b[38;5;241m=\u001b[39m \u001b[43mq\u001b[49m\u001b[38;5;241;43m.\u001b[39;49m\u001b[43munsqueeze\u001b[49m\u001b[43m(\u001b[49m\u001b[38;5;241;43m3\u001b[39;49m\u001b[43m)\u001b[49m\u001b[43m \u001b[49m\u001b[38;5;241;43m@\u001b[39;49m\u001b[43m \u001b[49m\u001b[43mk\u001b[49m\u001b[43m[\u001b[49m\u001b[43m:\u001b[49m\u001b[43m,\u001b[49m\u001b[43m:\u001b[49m\u001b[43m,\u001b[49m\u001b[38;5;28;43mself\u001b[39;49m\u001b[38;5;241;43m.\u001b[39;49m\u001b[43mattn_idx\u001b[49m\u001b[43m]\u001b[49m\u001b[38;5;241;43m.\u001b[39;49m\u001b[43munsqueeze\u001b[49m\u001b[43m(\u001b[49m\u001b[38;5;241;43m2\u001b[39;49m\u001b[43m)\u001b[49m \u001b[38;5;66;03m#B,nh,L,1,K^2\u001b[39;00m\n\u001b[0;32m     36\u001b[0m attn \u001b[38;5;241m=\u001b[39m attn \u001b[38;5;241m+\u001b[39m \u001b[38;5;28mself\u001b[39m\u001b[38;5;241m.\u001b[39mrelative_bias[\u001b[38;5;28mself\u001b[39m\u001b[38;5;241m.\u001b[39mbias_idx]\u001b[38;5;241m.\u001b[39mpermute(\u001b[38;5;241m2\u001b[39m, \u001b[38;5;241m0\u001b[39m, \u001b[38;5;241m1\u001b[39m)\u001b[38;5;241m.\u001b[39munsqueeze(\u001b[38;5;241m2\u001b[39m)\n\u001b[0;32m     37\u001b[0m attn \u001b[38;5;241m=\u001b[39m attn\u001b[38;5;241m.\u001b[39msoftmax(dim\u001b[38;5;241m=\u001b[39m\u001b[38;5;241m-\u001b[39m\u001b[38;5;241m1\u001b[39m)\n",
      "\u001b[1;31mRuntimeError\u001b[0m: The size of tensor a (3136) must match the size of tensor b (784) at non-singleton dimension 3"
     ]
    }
   ],
   "source": [
    "model = NATLayer((28,28),128,4)\n",
    "img = torch.rand(2,128,56,56)\n",
    "model(img)"
   ]
  },
  {
   "cell_type": "code",
   "execution_count": null,
   "id": "7b69d7b9-b19d-44bb-8d24-7584400346e0",
   "metadata": {},
   "outputs": [],
   "source": []
  },
  {
   "cell_type": "code",
   "execution_count": null,
   "id": "3a8dba92-8290-4b44-9890-cabbbf7260d2",
   "metadata": {},
   "outputs": [],
   "source": []
  },
  {
   "cell_type": "code",
   "execution_count": null,
   "id": "f7af6f0e-24a1-4327-b3d1-ba5e474fc6b5",
   "metadata": {},
   "outputs": [],
   "source": []
  },
  {
   "cell_type": "code",
   "execution_count": null,
   "id": "4e989e72-9b45-44b6-bdd2-9ad41495d901",
   "metadata": {},
   "outputs": [],
   "source": []
  },
  {
   "cell_type": "code",
   "execution_count": 4,
   "id": "06c61db7-f74f-47ef-9128-970be517e0e4",
   "metadata": {},
   "outputs": [],
   "source": [
    "def test():\n",
    "    print('it is cpu')\n",
    "    model = NATLayer((28,28),128,4)\n",
    "    img = torch.rand(2,128,56,56)\n",
    "    try:\n",
    "        print(model(img).shape)\n",
    "    except:\n",
    "        print('error')\n",
    "        model.set_input_size((56,56))\n",
    "        print(model(img).shape)\n",
    "    print('cpu_success\\n')"
   ]
  },
  {
   "cell_type": "code",
   "execution_count": 5,
   "id": "70c510f9-89a1-4206-9749-a7c582f17370",
   "metadata": {},
   "outputs": [
    {
     "name": "stdout",
     "output_type": "stream",
     "text": [
      "it is cpu\n",
      "error\n",
      "torch.Size([2, 128, 56, 56])\n",
      "cpu_success\n",
      "\n"
     ]
    }
   ],
   "source": [
    "test()"
   ]
  },
  {
   "cell_type": "code",
   "execution_count": 6,
   "id": "e1adfc60-7bdc-40c4-ba37-1f05a1d1d099",
   "metadata": {},
   "outputs": [],
   "source": [
    "def test_cuda():\n",
    "    print('it is cuda')\n",
    "    model = NATLayer((28,28),128,4).cuda()\n",
    "    img = torch.rand(2,128,56,56).cuda()\n",
    "    try:\n",
    "        print(model(img).shape)\n",
    "    except:\n",
    "        print('error')\n",
    "        model.set_input_size((56,56))\n",
    "        print(model(img).shape)\n",
    "    print('success')\n",
    "    print('cuda_success\\n')"
   ]
  },
  {
   "cell_type": "code",
   "execution_count": 7,
   "id": "67732672-4d53-49d4-9884-0d49690ce69f",
   "metadata": {},
   "outputs": [
    {
     "name": "stdout",
     "output_type": "stream",
     "text": [
      "it is cuda\n",
      "error\n",
      "torch.Size([2, 128, 56, 56])\n",
      "success\n",
      "cuda_success\n",
      "\n"
     ]
    }
   ],
   "source": [
    "test_cuda()"
   ]
  },
  {
   "cell_type": "code",
   "execution_count": 2,
   "id": "f5ade8c7-8fb4-402f-bd63-461ad84f885b",
   "metadata": {},
   "outputs": [],
   "source": [
    "import torch\n",
    "import torch.nn as nn\n",
    "\n",
    "class NeighborhoodAttention(nn.Module):\n",
    "    def __init__(self, input_size, dim, num_heads, window_size=7, qkv_bias=True, qk_scale=None, attn_drop=0., proj_drop=0.):\n",
    "        super().__init__()\n",
    "        assert window_size % 2 == 1, 'Window size must be odd.'\n",
    "        \n",
    "        self.dim = dim\n",
    "        self.window_size = window_size\n",
    "        self.num_heads = num_heads\n",
    "        head_dim = dim // num_heads\n",
    "        self.scale = head_dim ** -0.5\n",
    "        \n",
    "        self.qkv = nn.Conv2d(dim, dim * 3, 1, bias=True)\n",
    "        self.proj = nn.Conv2d(dim, dim, 1)\n",
    "        self.proj_drop = nn.Dropout(proj_drop)\n",
    "        self.attn_drop = nn.Dropout(attn_drop)\n",
    "        self.pad_idx = nn.ReplicationPad2d(window_size // 2)\n",
    "        \n",
    "        self.relative_bias = nn.Parameter(torch.zeros((2 * window_size - 1) ** 2, num_heads))\n",
    "        nn.init.trunc_normal_(self.relative_bias, std=0.02)\n",
    "        \n",
    "        self.set_input_size(input_size)\n",
    "    \n",
    "    def forward(self, x):\n",
    "        x = self.attention(x)\n",
    "        x = self.proj(x)\n",
    "        return self.proj_drop(x)\n",
    "    \n",
    "    def attention(self, x):\n",
    "        B, C, H, W = x.shape\n",
    "        assert H >= self.window_size and W >= self.window_size, 'Input size must be at least window size'\n",
    "        \n",
    "        qkv = self.qkv(x).view(B, 3, self.num_heads, C // self.num_heads, H * W).permute(1, 0, 2, 4, 3)\n",
    "        q, k, v = qkv[0] * self.scale, qkv[1], qkv[2]\n",
    "        \n",
    "        attn = (q @ k[:, :, self.attn_idx].transpose(-1, -2))\n",
    "        attn += self.relative_bias[self.bias_idx].permute(2, 0, 1).unsqueeze(2)\n",
    "        attn = self.attn_drop(attn.softmax(dim=-1))\n",
    "        \n",
    "        return (attn @ v[:, :, self.attn_idx]).squeeze(3).transpose(-1, -2).contiguous().view(B, C, H, W)\n",
    "    \n",
    "    def set_input_size(self, input_size):\n",
    "        H, W = input_size\n",
    "        self.register_buffer(\"attn_idx\", self.get_attn_idx(H, W))\n",
    "        self.register_buffer(\"bias_idx\", self.get_bias_idx(H, W))\n",
    "    \n",
    "    def get_attn_idx(self, H, W):\n",
    "        attn_idx = torch.arange(0, (H - self.window_size + 1) * (W - self.window_size + 1)).view(1, 1, H - self.window_size + 1, W - self.window_size + 1)\n",
    "        return self.pad_idx(attn_idx.float()).view(-1).long()\n",
    "    \n",
    "    def get_bias_idx(self, H, W):\n",
    "        return torch.arange(self.window_size ** 2).repeat(H * W, 1)\n"
   ]
  },
  {
   "cell_type": "code",
   "execution_count": null,
   "id": "0c382b6d-4c58-424e-a81c-75893cc488eb",
   "metadata": {},
   "outputs": [],
   "source": []
  },
  {
   "cell_type": "code",
   "execution_count": 29,
   "id": "9e052e63-0976-4dd2-934e-93de5fe23212",
   "metadata": {},
   "outputs": [],
   "source": [
    "window_size =7\n",
    "H,W = 14,14"
   ]
  },
  {
   "cell_type": "code",
   "execution_count": 49,
   "id": "711177ad-9723-4f03-b8b8-c0a5863598a9",
   "metadata": {},
   "outputs": [
    {
     "data": {
      "text/plain": [
       "(tensor([0, 1, 2, 3, 4, 5, 6, 7, 0, 1, 2, 3, 4, 5, 6, 7, 0, 1, 2, 3, 4, 5, 6, 7,\n",
       "         0, 1, 2, 3, 4, 5, 6, 7, 0, 1, 2, 3, 4, 5, 6, 7, 0, 1, 2, 3, 4, 5, 6, 7,\n",
       "         0, 1, 2, 3, 4, 5, 6, 7, 0, 1, 2, 3, 4, 5, 6, 7]),\n",
       " tensor([ 0,  0,  0,  0,  0,  0,  0,  0, 14, 14, 14, 14, 14, 14, 14, 14, 28, 28,\n",
       "         28, 28, 28, 28, 28, 28, 42, 42, 42, 42, 42, 42, 42, 42, 56, 56, 56, 56,\n",
       "         56, 56, 56, 56, 70, 70, 70, 70, 70, 70, 70, 70, 84, 84, 84, 84, 84, 84,\n",
       "         84, 84, 98, 98, 98, 98, 98, 98, 98, 98]),\n",
       " tensor([  0,   1,   2,   3,   4,   5,   6,   7,  14,  15,  16,  17,  18,  19,\n",
       "          20,  21,  28,  29,  30,  31,  32,  33,  34,  35,  42,  43,  44,  45,\n",
       "          46,  47,  48,  49,  56,  57,  58,  59,  60,  61,  62,  63,  70,  71,\n",
       "          72,  73,  74,  75,  76,  77,  84,  85,  86,  87,  88,  89,  90,  91,\n",
       "          98,  99, 100, 101, 102, 103, 104, 105]))"
      ]
     },
     "execution_count": 49,
     "metadata": {},
     "output_type": "execute_result"
    }
   ],
   "source": [
    "H_ = H-(window_size-1)\n",
    "W_ = W-(window_size-1)\n",
    "h_idx = torch.arange(W_).repeat(H_)\n",
    "w_idx = torch.arange(H_).repeat_interleave(W_) * W\n",
    "hw_idx = h_idx + w_idx\n",
    "(h_idx, w_idx, hw_idx)\n",
    "# print(len(h_idx), len(w_idx), len(hw_idx))"
   ]
  },
  {
   "cell_type": "code",
   "execution_count": 50,
   "id": "c3b2bdfc-6885-4f8e-a682-642c3b00437f",
   "metadata": {},
   "outputs": [
    {
     "data": {
      "text/plain": [
       "(tensor([0, 1, 2, 3, 4, 5, 6, 0, 1, 2, 3, 4, 5, 6, 0, 1, 2, 3, 4, 5, 6, 0, 1, 2,\n",
       "         3, 4, 5, 6, 0, 1, 2, 3, 4, 5, 6, 0, 1, 2, 3, 4, 5, 6, 0, 1, 2, 3, 4, 5,\n",
       "         6]),\n",
       " tensor([ 0,  0,  0,  0,  0,  0,  0, 14, 14, 14, 14, 14, 14, 14, 28, 28, 28, 28,\n",
       "         28, 28, 28, 42, 42, 42, 42, 42, 42, 42, 56, 56, 56, 56, 56, 56, 56, 70,\n",
       "         70, 70, 70, 70, 70, 70, 84, 84, 84, 84, 84, 84, 84]),\n",
       " tensor([ 0,  1,  2,  3,  4,  5,  6, 14, 15, 16, 17, 18, 19, 20, 28, 29, 30, 31,\n",
       "         32, 33, 34, 42, 43, 44, 45, 46, 47, 48, 56, 57, 58, 59, 60, 61, 62, 70,\n",
       "         71, 72, 73, 74, 75, 76, 84, 85, 86, 87, 88, 89, 90]))"
      ]
     },
     "execution_count": 50,
     "metadata": {},
     "output_type": "execute_result"
    }
   ],
   "source": [
    "k_idx_1 = torch.arange(window_size).repeat(window_size)\n",
    "k_idx_2 = torch.arange(window_size).repeat_interleave(window_size) * W\n",
    "k_idx = k_idx_1 + k_idx_2\n",
    "(k_idx_1, k_idx_2, k_idx)\n",
    "# print(len(k_idx_1), len(k_idx_2), len(k_idx))"
   ]
  },
  {
   "cell_type": "code",
   "execution_count": 57,
   "id": "4dd51ced-74ba-400f-ba07-2630853a75f5",
   "metadata": {},
   "outputs": [
    {
     "data": {
      "text/plain": [
       "tensor([[  0,   1,   2,  ...,  88,  89,  90],\n",
       "        [  1,   2,   3,  ...,  89,  90,  91],\n",
       "        [  2,   3,   4,  ...,  90,  91,  92],\n",
       "        ...,\n",
       "        [103, 104, 105,  ..., 191, 192, 193],\n",
       "        [104, 105, 106,  ..., 192, 193, 194],\n",
       "        [105, 106, 107,  ..., 193, 194, 195]])"
      ]
     },
     "execution_count": 57,
     "metadata": {},
     "output_type": "execute_result"
    }
   ],
   "source": [
    "unfold_idx = hw_idx.unsqueeze(1) + k_idx #hw_idx[:,None] \n",
    "unfold_idx"
   ]
  },
  {
   "cell_type": "code",
   "execution_count": 62,
   "id": "a240959d-1749-40fd-8d16-a899648ffbdb",
   "metadata": {},
   "outputs": [
    {
     "data": {
      "text/plain": [
       "tensor([[[[ 0.,  1.,  2.,  3.,  4.,  5.,  6.,  7.],\n",
       "          [ 8.,  9., 10., 11., 12., 13., 14., 15.],\n",
       "          [16., 17., 18., 19., 20., 21., 22., 23.],\n",
       "          [24., 25., 26., 27., 28., 29., 30., 31.],\n",
       "          [32., 33., 34., 35., 36., 37., 38., 39.],\n",
       "          [40., 41., 42., 43., 44., 45., 46., 47.],\n",
       "          [48., 49., 50., 51., 52., 53., 54., 55.],\n",
       "          [56., 57., 58., 59., 60., 61., 62., 63.]]]])"
      ]
     },
     "execution_count": 62,
     "metadata": {},
     "output_type": "execute_result"
    }
   ],
   "source": [
    "attn_idx = torch.arange(0,H_*W_).float().view(1,1,H_,W_)\n",
    "attn_idx\n"
   ]
  },
  {
   "cell_type": "code",
   "execution_count": 65,
   "id": "41d92fbd-bd4a-4870-b70a-ea1eb62b9a8d",
   "metadata": {},
   "outputs": [
    {
     "data": {
      "text/plain": [
       "torch.Size([1, 1, 8, 8])"
      ]
     },
     "execution_count": 65,
     "metadata": {},
     "output_type": "execute_result"
    }
   ],
   "source": [
    "attn_idx.shape"
   ]
  },
  {
   "cell_type": "code",
   "execution_count": 64,
   "id": "2a22be58-8d5f-4621-8300-6298ec5f62e7",
   "metadata": {},
   "outputs": [
    {
     "data": {
      "text/plain": [
       "ReplicationPad2d((3, 3, 3, 3))"
      ]
     },
     "execution_count": 64,
     "metadata": {},
     "output_type": "execute_result"
    }
   ],
   "source": [
    "pad_idx = nn.ReplicationPad2d(window_size//2)\n",
    "pad_idx"
   ]
  },
  {
   "cell_type": "code",
   "execution_count": 71,
   "id": "af27dfd7-8000-49f0-a30e-23b8bd15992a",
   "metadata": {},
   "outputs": [
    {
     "data": {
      "text/plain": [
       "tensor([ 0,  0,  0,  0,  1,  2,  3,  4,  5,  6,  7,  7,  7,  7,  0,  0,  0,  0,\n",
       "         1,  2,  3,  4,  5,  6,  7,  7,  7,  7,  0,  0,  0,  0,  1,  2,  3,  4,\n",
       "         5,  6,  7,  7,  7,  7,  0,  0,  0,  0,  1,  2,  3,  4,  5,  6,  7,  7,\n",
       "         7,  7,  8,  8,  8,  8,  9, 10, 11, 12, 13, 14, 15, 15, 15, 15, 16, 16,\n",
       "        16, 16, 17, 18, 19, 20, 21, 22, 23, 23, 23, 23, 24, 24, 24, 24, 25, 26,\n",
       "        27, 28, 29, 30, 31, 31, 31, 31, 32, 32, 32, 32, 33, 34, 35, 36, 37, 38,\n",
       "        39, 39, 39, 39, 40, 40, 40, 40, 41, 42, 43, 44, 45, 46, 47, 47, 47, 47,\n",
       "        48, 48, 48, 48, 49, 50, 51, 52, 53, 54, 55, 55, 55, 55, 56, 56, 56, 56,\n",
       "        57, 58, 59, 60, 61, 62, 63, 63, 63, 63, 56, 56, 56, 56, 57, 58, 59, 60,\n",
       "        61, 62, 63, 63, 63, 63, 56, 56, 56, 56, 57, 58, 59, 60, 61, 62, 63, 63,\n",
       "        63, 63, 56, 56, 56, 56, 57, 58, 59, 60, 61, 62, 63, 63, 63, 63])"
      ]
     },
     "execution_count": 71,
     "metadata": {},
     "output_type": "execute_result"
    }
   ],
   "source": [
    "attn_idx = pad_idx(attn_idx).view(-1).type(torch.long)\n",
    "attn_idx"
   ]
  },
  {
   "cell_type": "code",
   "execution_count": 74,
   "id": "b4240804-4f42-460e-a5b4-181b6e72813a",
   "metadata": {},
   "outputs": [
    {
     "data": {
      "text/plain": [
       "tensor([[  0,   1,   2,  ...,  88,  89,  90],\n",
       "        [  0,   1,   2,  ...,  88,  89,  90],\n",
       "        [  0,   1,   2,  ...,  88,  89,  90],\n",
       "        ...,\n",
       "        [105, 106, 107,  ..., 193, 194, 195],\n",
       "        [105, 106, 107,  ..., 193, 194, 195],\n",
       "        [105, 106, 107,  ..., 193, 194, 195]])"
      ]
     },
     "execution_count": 74,
     "metadata": {},
     "output_type": "execute_result"
    }
   ],
   "source": [
    "attn_idx  = unfold_idx[attn_idx]\n",
    "attn_idx"
   ]
  },
  {
   "cell_type": "code",
   "execution_count": 79,
   "id": "8542325b-901f-4aa6-825d-169ad938713b",
   "metadata": {},
   "outputs": [
    {
     "data": {
      "text/plain": [
       "tensor([[ 0,  1,  2,  ..., 46, 47, 48],\n",
       "        [ 0,  1,  2,  ..., 46, 47, 48],\n",
       "        [ 0,  1,  2,  ..., 46, 47, 48],\n",
       "        ...,\n",
       "        [ 0,  1,  2,  ..., 46, 47, 48],\n",
       "        [ 0,  1,  2,  ..., 46, 47, 48],\n",
       "        [ 0,  1,  2,  ..., 46, 47, 48]])"
      ]
     },
     "execution_count": 79,
     "metadata": {},
     "output_type": "execute_result"
    }
   ],
   "source": [
    "bias = torch.arange(window_size ** 2).repeat(H * W, 1)\n",
    "bias"
   ]
  },
  {
   "cell_type": "code",
   "execution_count": 80,
   "id": "35bf4304-23ac-4ba5-aee2-9f9245a81c91",
   "metadata": {},
   "outputs": [
    {
     "data": {
      "text/plain": [
       "torch.Size([196, 49])"
      ]
     },
     "execution_count": 80,
     "metadata": {},
     "output_type": "execute_result"
    }
   ],
   "source": [
    "attn_idx.shape"
   ]
  },
  {
   "cell_type": "code",
   "execution_count": null,
   "id": "1b6f952e-972e-48ae-b54f-470ecae10070",
   "metadata": {},
   "outputs": [],
   "source": []
  }
 ],
 "metadata": {
  "kernelspec": {
   "display_name": "Python 3 (ipykernel)",
   "language": "python",
   "name": "python3"
  },
  "language_info": {
   "codemirror_mode": {
    "name": "ipython",
    "version": 3
   },
   "file_extension": ".py",
   "mimetype": "text/x-python",
   "name": "python",
   "nbconvert_exporter": "python",
   "pygments_lexer": "ipython3",
   "version": "3.9.17"
  }
 },
 "nbformat": 4,
 "nbformat_minor": 5
}
