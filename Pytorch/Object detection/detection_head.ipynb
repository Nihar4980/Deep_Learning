{
 "cells": [
  {
   "cell_type": "code",
   "execution_count": 33,
   "id": "a954e92e-393d-485a-a5d1-a90c17afc38e",
   "metadata": {},
   "outputs": [],
   "source": [
    "import torch\n",
    "import torch.nn as nn\n",
    "from torchvision import models\n",
    "import warnings\n",
    "warnings.filterwarnings(\"ignore\") "
   ]
  },
  {
   "cell_type": "code",
   "execution_count": 8,
   "id": "e47093c0-791d-4ea7-a826-83403ad07983",
   "metadata": {},
   "outputs": [],
   "source": [
    "class Yolov1(nn.Module):\n",
    "    def __init__(self,S=7, B=2, C=20):\n",
    "        super().__init__()\n",
    "        resnet = models.resnet152(pretrained=True)\n",
    "        self.backbone = nn.Sequential(*list(resnet.children())[:-2]) \n",
    "\n",
    "        # YOLO Detection Head (Example)\n",
    "        self.head = nn.Sequential(\n",
    "            nn.Flatten(),\n",
    "            nn.Linear(2048*7*7, 4096),\n",
    "            nn.Dropout(0.0),\n",
    "            nn.LeakyReLU(0.1),\n",
    "            nn.Linear(4096, S*S*(C+B*5))\n",
    "        )\n",
    "    def forward(self,x):\n",
    "        x = self.backbone(x)\n",
    "        x = self.head(x)\n",
    "        return x\n",
    "    "
   ]
  },
  {
   "cell_type": "code",
   "execution_count": 9,
   "id": "84803024-b137-4276-a9fc-e97317482469",
   "metadata": {},
   "outputs": [
    {
     "data": {
      "text/plain": [
       "torch.Size([1, 1470])"
      ]
     },
     "execution_count": 9,
     "metadata": {},
     "output_type": "execute_result"
    }
   ],
   "source": [
    "x = torch.rand(1,3,224,224)\n",
    "yolo = Yolov1()\n",
    "yolo(x).shape"
   ]
  },
  {
   "cell_type": "markdown",
   "id": "890561d9-e72d-4896-8c1b-95ac94fa0ca5",
   "metadata": {},
   "source": [
    "#=============================================================================================#"
   ]
  },
  {
   "cell_type": "code",
   "execution_count": 10,
   "id": "8fc36ff9-3e33-410c-b08b-484f6387483f",
   "metadata": {},
   "outputs": [],
   "source": [
    "class CNNBlock(nn.Module):\n",
    "    def __init__(self, in_channels, out_channels, bn_act = True, **kwargs):\n",
    "        super().__init__()\n",
    "        self.conv = nn.Conv2d(in_channels, out_channels, bias= not bn_act, **kwargs)\n",
    "        self.bn = nn.BatchNorm2d(out_channels)\n",
    "        self.act = nn.LeakyReLU(0.1)\n",
    "        self.use_bn_act = bn_act\n",
    "\n",
    "    def forward(self, x):\n",
    "        if self.use_bn_act:\n",
    "            return self.act(self.bn(self.conv(x)))\n",
    "        else:\n",
    "            return self.conv(x)             \n",
    "        "
   ]
  },
  {
   "cell_type": "code",
   "execution_count": 18,
   "id": "799cedf0-59f0-44f4-9ca8-6891700a2d2f",
   "metadata": {},
   "outputs": [],
   "source": [
    "class ScalePrediction(nn.Module):\n",
    "    def __init__(self, in_channels, num_classes):\n",
    "        super().__init__()\n",
    "        self.head = nn.Sequential(\n",
    "            CNNBlock(in_channels, 2*in_channels,kernel_size=3, padding=1),\n",
    "            CNNBlock(2*in_channels, (num_classes +5) *3, bn_act=False, kernel_size=1), #[po, x, y, w,h]\n",
    "        )\n",
    "        self.num_classes = num_classes\n",
    "    def forward(self,x):\n",
    "        x = self.head(x)\n",
    "        x = x.reshape(x.shape[0], 3, self.num_classes + 5, x.shape[2], x.shape[3])\n",
    "        x = x.permute(0,1,3,4,2)\n",
    "        return x"
   ]
  },
  {
   "cell_type": "code",
   "execution_count": 22,
   "id": "ed32450d-c2a8-4029-a787-ccef1fc77919",
   "metadata": {},
   "outputs": [
    {
     "data": {
      "text/plain": [
       "torch.Size([1, 64, 222, 222])"
      ]
     },
     "execution_count": 22,
     "metadata": {},
     "output_type": "execute_result"
    }
   ],
   "source": [
    "conv = CNNBlock(3,64,kernel_size=3)\n",
    "conv(x).shape"
   ]
  },
  {
   "cell_type": "code",
   "execution_count": 23,
   "id": "23d477ca-b477-4024-a9ec-52e8045fc0f6",
   "metadata": {},
   "outputs": [],
   "source": [
    "class Yolov3(nn.Module):\n",
    "    def __init__(self):\n",
    "        super().__init__()\n",
    "        resnet = models.resnet152(pretrained=True)\n",
    "        self.backbone = nn.Sequential(*list(resnet.children())[:-2]) \n",
    "\n",
    "        # YOLO Detection Head (Example)\n",
    "        self.head = ScalePrediction(2048, 20)\n",
    "    def forward(self,x):\n",
    "        x = self.backbone(x)\n",
    "        x = self.head(x)\n",
    "        return x"
   ]
  },
  {
   "cell_type": "code",
   "execution_count": 24,
   "id": "65ea4104-324f-4c63-97f0-b8435d8b00e2",
   "metadata": {},
   "outputs": [
    {
     "data": {
      "text/plain": [
       "torch.Size([1, 3, 7, 7, 25])"
      ]
     },
     "execution_count": 24,
     "metadata": {},
     "output_type": "execute_result"
    }
   ],
   "source": [
    "x = torch.rand(1,3,224,224)\n",
    "yolo = Yolov3()\n",
    "yolo(x).shape"
   ]
  },
  {
   "cell_type": "markdown",
   "id": "fa853c41-f99e-4e93-a3f1-05ae29b9d4ab",
   "metadata": {},
   "source": [
    "#==================================================================================================#"
   ]
  },
  {
   "cell_type": "code",
   "execution_count": null,
   "id": "537028e0-488d-49db-b150-de04f73eef5c",
   "metadata": {},
   "outputs": [],
   "source": [
    "class DFL(nn.Module):\n",
    "    \"\"\"\n",
    "    Integral module of Distribution Focal Loss (DFL).\n",
    "\n",
    "    Proposed in Generalized Focal Loss https://ieeexplore.ieee.org/document/9792391\n",
    "    \"\"\"\n",
    "\n",
    "    def __init__(self, c1=16):\n",
    "        \"\"\"Initialize a convolutional layer with a given number of input channels.\"\"\"\n",
    "        super().__init__()\n",
    "        self.conv = nn.Conv2d(c1, 1, 1, bias=False).requires_grad_(False)\n",
    "        x = torch.arange(c1, dtype=torch.float)\n",
    "        self.conv.weight.data[:] = nn.Parameter(x.view(1, c1, 1, 1))\n",
    "        self.c1 = c1\n",
    "\n",
    "    def forward(self, x):\n",
    "        \"\"\"Applies a transformer layer on input tensor 'x' and returns a tensor.\"\"\"\n",
    "        b, _, a = x.shape  # batch, channels, anchors\n",
    "        return self.conv(x.view(b, 4, self.c1, a).transpose(2, 1).softmax(1)).view(b, 4, a)\n",
    "        # return self.conv(x.view(b, self.c1, 4, a).softmax(1)).view(b, 4, a)"
   ]
  },
  {
   "cell_type": "code",
   "execution_count": 25,
   "id": "87558d21-1f20-47bd-9a50-97e1bd07310e",
   "metadata": {},
   "outputs": [],
   "source": [
    "import torch\n",
    "import torch.nn as nn\n",
    "import torch.optim as optim\n",
    "import numpy as np\n",
    "import random\n",
    "from collections import deque"
   ]
  },
  {
   "cell_type": "code",
   "execution_count": 26,
   "id": "3da37274-afbb-46e7-a24e-e01ed993ad6b",
   "metadata": {},
   "outputs": [],
   "source": [
    "memory = deque(maxlen=10000)"
   ]
  },
  {
   "cell_type": "code",
   "execution_count": 27,
   "id": "c7d29d7b-52d9-4511-ad4f-5ba4c3c15419",
   "metadata": {},
   "outputs": [
    {
     "data": {
      "text/plain": [
       "deque([], maxlen=10000)"
      ]
     },
     "execution_count": 27,
     "metadata": {},
     "output_type": "execute_result"
    }
   ],
   "source": [
    "memory"
   ]
  },
  {
   "cell_type": "code",
   "execution_count": 31,
   "id": "7ae5fafe-841d-484f-aed6-aa761264b764",
   "metadata": {},
   "outputs": [
    {
     "data": {
      "text/plain": [
       "deque([10, 10, 11, 1, 2, 3], maxlen=10000)"
      ]
     },
     "execution_count": 31,
     "metadata": {},
     "output_type": "execute_result"
    }
   ],
   "source": [
    "memory.extend([1,2,3])\n",
    "memory"
   ]
  },
  {
   "cell_type": "code",
   "execution_count": 32,
   "id": "a86824d7-a148-451b-8ecf-a98f4f8e8d8c",
   "metadata": {},
   "outputs": [
    {
     "data": {
      "text/plain": [
       "collections.deque"
      ]
     },
     "execution_count": 32,
     "metadata": {},
     "output_type": "execute_result"
    }
   ],
   "source": [
    "type(memory)"
   ]
  },
  {
   "cell_type": "code",
   "execution_count": null,
   "id": "969b995a-8bde-4fdb-941d-c641adea30af",
   "metadata": {},
   "outputs": [],
   "source": []
  }
 ],
 "metadata": {
  "kernelspec": {
   "display_name": "Python 3 (ipykernel)",
   "language": "python",
   "name": "python3"
  },
  "language_info": {
   "codemirror_mode": {
    "name": "ipython",
    "version": 3
   },
   "file_extension": ".py",
   "mimetype": "text/x-python",
   "name": "python",
   "nbconvert_exporter": "python",
   "pygments_lexer": "ipython3",
   "version": "3.9.18"
  }
 },
 "nbformat": 4,
 "nbformat_minor": 5
}
