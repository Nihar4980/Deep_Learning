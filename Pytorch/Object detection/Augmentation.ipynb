{
 "cells": [
  {
   "cell_type": "code",
   "execution_count": 1,
   "id": "e5c3fb2b-e2da-4de4-94fc-8503c67ec1df",
   "metadata": {},
   "outputs": [],
   "source": [
    "import albumentations as A\n",
    "import numpy as np"
   ]
  },
  {
   "cell_type": "code",
   "execution_count": 2,
   "id": "93219ea7-b109-480e-af56-3e1423b243b4",
   "metadata": {},
   "outputs": [],
   "source": [
    "import torch"
   ]
  },
  {
   "cell_type": "code",
   "execution_count": 3,
   "id": "a23e57c5-ffb4-4a9d-a762-96dec26144d8",
   "metadata": {},
   "outputs": [],
   "source": [
    "transform = A.Compose([\n",
    "    # Crop volume to a fixed size for memory efficiency\n",
    "    A.RandomCrop3D(size=(64, 128, 128), p=1.0),    \n",
    "    # Randomly remove cubic regions to simulate occlusions\n",
    "    A.CoarseDropout3D(\n",
    "        num_holes_range=(2, 6),\n",
    "        hole_depth_range=(0.1, 0.3),\n",
    "        hole_height_range=(0.1, 0.3),\n",
    "        hole_width_range=(0.1, 0.3),\n",
    "        p=0.5\n",
    "    ),    \n",
    "])"
   ]
  },
  {
   "cell_type": "code",
   "execution_count": 4,
   "id": "fd0ab234-f81c-4b9d-9f24-43b40f874095",
   "metadata": {},
   "outputs": [
    {
     "name": "stdout",
     "output_type": "stream",
     "text": [
      "Requirement already satisfied: albumentations in c:\\users\\nihar\\anaconda3\\envs\\tf\\lib\\site-packages (1.4.15)\n",
      "Collecting albumentations\n",
      "  Using cached albumentations-1.4.24-py3-none-any.whl.metadata (37 kB)\n",
      "Requirement already satisfied: numpy>=1.24.4 in c:\\users\\nihar\\anaconda3\\envs\\tf\\lib\\site-packages (from albumentations) (1.26.4)\n",
      "Requirement already satisfied: scipy>=1.10.0 in c:\\users\\nihar\\anaconda3\\envs\\tf\\lib\\site-packages (from albumentations) (1.13.1)\n",
      "Requirement already satisfied: PyYAML in c:\\users\\nihar\\anaconda3\\envs\\tf\\lib\\site-packages (from albumentations) (6.0.1)\n",
      "Requirement already satisfied: typing-extensions>=4.9.0 in c:\\users\\nihar\\anaconda3\\envs\\tf\\lib\\site-packages (from albumentations) (4.12.2)\n",
      "Requirement already satisfied: pydantic>=2.9.2 in c:\\users\\nihar\\anaconda3\\envs\\tf\\lib\\site-packages (from albumentations) (2.10.4)\n",
      "Collecting albucore==0.0.23 (from albumentations)\n",
      "  Using cached albucore-0.0.23-py3-none-any.whl.metadata (5.3 kB)\n",
      "Requirement already satisfied: eval-type-backport in c:\\users\\nihar\\anaconda3\\envs\\tf\\lib\\site-packages (from albumentations) (0.2.2)\n",
      "Requirement already satisfied: opencv-python-headless>=4.9.0.80 in c:\\users\\nihar\\anaconda3\\envs\\tf\\lib\\site-packages (from albumentations) (4.10.0.84)\n",
      "Requirement already satisfied: stringzilla>=3.10.4 in c:\\users\\nihar\\anaconda3\\envs\\tf\\lib\\site-packages (from albucore==0.0.23->albumentations) (3.11.3)\n",
      "Requirement already satisfied: simsimd>=5.9.2 in c:\\users\\nihar\\anaconda3\\envs\\tf\\lib\\site-packages (from albucore==0.0.23->albumentations) (6.2.1)\n",
      "Requirement already satisfied: annotated-types>=0.6.0 in c:\\users\\nihar\\anaconda3\\envs\\tf\\lib\\site-packages (from pydantic>=2.9.2->albumentations) (0.7.0)\n",
      "Requirement already satisfied: pydantic-core==2.27.2 in c:\\users\\nihar\\anaconda3\\envs\\tf\\lib\\site-packages (from pydantic>=2.9.2->albumentations) (2.27.2)\n",
      "Using cached albumentations-1.4.24-py3-none-any.whl (274 kB)\n",
      "Using cached albucore-0.0.23-py3-none-any.whl (14 kB)\n",
      "Installing collected packages: albucore, albumentations\n",
      "  Attempting uninstall: albucore\n",
      "    Found existing installation: albucore 0.0.16\n",
      "    Uninstalling albucore-0.0.16:\n",
      "      Successfully uninstalled albucore-0.0.16\n",
      "  Attempting uninstall: albumentations\n",
      "    Found existing installation: albumentations 1.4.15\n",
      "    Uninstalling albumentations-1.4.15:\n",
      "      Successfully uninstalled albumentations-1.4.15\n",
      "Successfully installed albucore-0.0.23 albumentations-1.4.24\n",
      "Note: you may need to restart the kernel to use updated packages.\n"
     ]
    },
    {
     "name": "stderr",
     "output_type": "stream",
     "text": [
      "\n",
      "[notice] A new release of pip is available: 24.2 -> 24.3.1\n",
      "[notice] To update, run: python.exe -m pip install --upgrade pip\n"
     ]
    }
   ],
   "source": [
    "\n"
   ]
  },
  {
   "cell_type": "code",
   "execution_count": 6,
   "id": "200b7a7f-e33e-4267-aff5-876d20b1a00e",
   "metadata": {},
   "outputs": [
    {
     "name": "stdout",
     "output_type": "stream",
     "text": [
      "Requirement already satisfied: pip in c:\\users\\nihar\\anaconda3\\envs\\tf\\lib\\site-packages (24.2)Note: you may need to restart the kernel to use updated packages.\n",
      "\n",
      "Collecting pip\n",
      "  Downloading pip-24.3.1-py3-none-any.whl.metadata (3.7 kB)\n",
      "Downloading pip-24.3.1-py3-none-any.whl (1.8 MB)\n",
      "   ---------------------------------------- 0.0/1.8 MB ? eta -:--:--\n",
      "   ---------------------------------------- 0.0/1.8 MB ? eta -:--:--\n",
      "   ---------------------------------------- 0.0/1.8 MB ? eta -:--:--\n",
      "   ---------------------------------------- 0.0/1.8 MB ? eta -:--:--\n",
      "   ----- ---------------------------------- 0.3/1.8 MB ? eta -:--:--\n",
      "   ----------- ---------------------------- 0.5/1.8 MB 799.2 kB/s eta 0:00:02\n",
      "   ----------- ---------------------------- 0.5/1.8 MB 799.2 kB/s eta 0:00:02\n",
      "   ----------- ---------------------------- 0.5/1.8 MB 799.2 kB/s eta 0:00:02\n",
      "   ----------------- ---------------------- 0.8/1.8 MB 568.6 kB/s eta 0:00:02\n",
      "   ----------------- ---------------------- 0.8/1.8 MB 568.6 kB/s eta 0:00:02\n",
      "   ----------------------- ---------------- 1.0/1.8 MB 565.4 kB/s eta 0:00:02\n",
      "   ----------------------- ---------------- 1.0/1.8 MB 565.4 kB/s eta 0:00:02\n",
      "   ----------------------- ---------------- 1.0/1.8 MB 565.4 kB/s eta 0:00:02\n",
      "   ---------------------------- ----------- 1.3/1.8 MB 520.1 kB/s eta 0:00:01\n",
      "   ---------------------------- ----------- 1.3/1.8 MB 520.1 kB/s eta 0:00:01\n",
      "   ---------------------------------- ----- 1.6/1.8 MB 527.5 kB/s eta 0:00:01\n",
      "   ---------------------------------- ----- 1.6/1.8 MB 527.5 kB/s eta 0:00:01\n",
      "   ---------------------------------- ----- 1.6/1.8 MB 527.5 kB/s eta 0:00:01\n",
      "   ---------------------------------------- 1.8/1.8 MB 522.6 kB/s eta 0:00:00\n",
      "Installing collected packages: pip\n",
      "  Attempting uninstall: pip\n",
      "    Found existing installation: pip 24.2\n",
      "    Uninstalling pip-24.2:\n",
      "      Successfully uninstalled pip-24.2\n",
      "Successfully installed pip-24.3.1\n"
     ]
    }
   ],
   "source": [
    " pip install --upgrade pip"
   ]
  },
  {
   "cell_type": "code",
   "execution_count": 7,
   "id": "ae7d9276-ec79-4c21-b679-f60d63917930",
   "metadata": {},
   "outputs": [
    {
     "name": "stdout",
     "output_type": "stream",
     "text": [
      "Requirement already satisfied: albumentations in c:\\users\\nihar\\anaconda3\\envs\\tf\\lib\\site-packages (1.4.24)\n",
      "Requirement already satisfied: numpy>=1.24.4 in c:\\users\\nihar\\anaconda3\\envs\\tf\\lib\\site-packages (from albumentations) (1.26.4)\n",
      "Requirement already satisfied: scipy>=1.10.0 in c:\\users\\nihar\\anaconda3\\envs\\tf\\lib\\site-packages (from albumentations) (1.13.1)\n",
      "Requirement already satisfied: PyYAML in c:\\users\\nihar\\anaconda3\\envs\\tf\\lib\\site-packages (from albumentations) (6.0.1)\n",
      "Requirement already satisfied: typing-extensions>=4.9.0 in c:\\users\\nihar\\anaconda3\\envs\\tf\\lib\\site-packages (from albumentations) (4.12.2)\n",
      "Requirement already satisfied: pydantic>=2.9.2 in c:\\users\\nihar\\anaconda3\\envs\\tf\\lib\\site-packages (from albumentations) (2.10.4)\n",
      "Requirement already satisfied: albucore==0.0.23 in c:\\users\\nihar\\anaconda3\\envs\\tf\\lib\\site-packages (from albumentations) (0.0.23)\n",
      "Requirement already satisfied: eval-type-backport in c:\\users\\nihar\\anaconda3\\envs\\tf\\lib\\site-packages (from albumentations) (0.2.2)\n",
      "Requirement already satisfied: opencv-python-headless>=4.9.0.80 in c:\\users\\nihar\\anaconda3\\envs\\tf\\lib\\site-packages (from albumentations) (4.10.0.84)\n",
      "Requirement already satisfied: stringzilla>=3.10.4 in c:\\users\\nihar\\anaconda3\\envs\\tf\\lib\\site-packages (from albucore==0.0.23->albumentations) (3.11.3)\n",
      "Requirement already satisfied: simsimd>=5.9.2 in c:\\users\\nihar\\anaconda3\\envs\\tf\\lib\\site-packages (from albucore==0.0.23->albumentations) (6.2.1)\n",
      "Requirement already satisfied: annotated-types>=0.6.0 in c:\\users\\nihar\\anaconda3\\envs\\tf\\lib\\site-packages (from pydantic>=2.9.2->albumentations) (0.7.0)\n",
      "Requirement already satisfied: pydantic-core==2.27.2 in c:\\users\\nihar\\anaconda3\\envs\\tf\\lib\\site-packages (from pydantic>=2.9.2->albumentations) (2.27.2)\n",
      "Note: you may need to restart the kernel to use updated packages.\n"
     ]
    }
   ],
   "source": [
    "pip install -U albumentations\n"
   ]
  },
  {
   "cell_type": "code",
   "execution_count": null,
   "id": "f46d5906-3dde-4427-be7a-c51883c4e463",
   "metadata": {},
   "outputs": [],
   "source": []
  }
 ],
 "metadata": {
  "kernelspec": {
   "display_name": "Python 3 (ipykernel)",
   "language": "python",
   "name": "python3"
  },
  "language_info": {
   "codemirror_mode": {
    "name": "ipython",
    "version": 3
   },
   "file_extension": ".py",
   "mimetype": "text/x-python",
   "name": "python",
   "nbconvert_exporter": "python",
   "pygments_lexer": "ipython3",
   "version": "3.9.18"
  }
 },
 "nbformat": 4,
 "nbformat_minor": 5
}
