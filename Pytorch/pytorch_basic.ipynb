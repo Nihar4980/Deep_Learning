{
 "cells": [
  {
   "cell_type": "code",
   "execution_count": 1,
   "id": "e021839e-697d-484f-bcea-b983de928513",
   "metadata": {},
   "outputs": [
    {
     "name": "stderr",
     "output_type": "stream",
     "text": [
      "C:\\Users\\Nihar\\AppData\\Local\\Temp\\ipykernel_18244\\2065005710.py:2: DeprecationWarning: \n",
      "Pyarrow will become a required dependency of pandas in the next major release of pandas (pandas 3.0),\n",
      "(to allow more performant data types, such as the Arrow string type, and better interoperability with other libraries)\n",
      "but was not found to be installed on your system.\n",
      "If this would cause problems for you,\n",
      "please provide us feedback at https://github.com/pandas-dev/pandas/issues/54466\n",
      "        \n",
      "  import pandas as pd\n"
     ]
    },
    {
     "name": "stdout",
     "output_type": "stream",
     "text": [
      "2.2.0+cu118\n"
     ]
    }
   ],
   "source": [
    "import torch\n",
    "import pandas as pd\n",
    "import numpy as np\n",
    "import matplotlib.pyplot as plt\n",
    "print(torch.__version__)"
   ]
  },
  {
   "cell_type": "code",
   "execution_count": 2,
   "id": "56489b2e-fc6d-4e05-9efb-5cf4926fe4cc",
   "metadata": {},
   "outputs": [
    {
     "data": {
      "text/plain": [
       "tensor(7)"
      ]
     },
     "execution_count": 2,
     "metadata": {},
     "output_type": "execute_result"
    }
   ],
   "source": [
    "# scalar\n",
    "scaler = torch.tensor(7)\n",
    "scaler"
   ]
  },
  {
   "cell_type": "code",
   "execution_count": 3,
   "id": "e719bcf9-d237-4c18-8688-b41ee4a4c22e",
   "metadata": {},
   "outputs": [
    {
     "data": {
      "text/plain": [
       "0"
      ]
     },
     "execution_count": 3,
     "metadata": {},
     "output_type": "execute_result"
    }
   ],
   "source": [
    "scaler.ndim"
   ]
  },
  {
   "cell_type": "code",
   "execution_count": 4,
   "id": "6a4da456-afca-479a-ad6d-3ae069eebe59",
   "metadata": {},
   "outputs": [
    {
     "data": {
      "text/plain": [
       "7"
      ]
     },
     "execution_count": 4,
     "metadata": {},
     "output_type": "execute_result"
    }
   ],
   "source": [
    "# Get tensor back as python int\n",
    "scaler.item()"
   ]
  },
  {
   "cell_type": "code",
   "execution_count": 5,
   "id": "d5573bb7-207e-4f38-8412-f5674791a86e",
   "metadata": {},
   "outputs": [
    {
     "data": {
      "text/plain": [
       "tensor([7, 7])"
      ]
     },
     "execution_count": 5,
     "metadata": {},
     "output_type": "execute_result"
    }
   ],
   "source": [
    "# Vector\n",
    "vector = torch.tensor([7, 7])\n",
    "vector"
   ]
  },
  {
   "cell_type": "code",
   "execution_count": 6,
   "id": "0ad4fef4-f996-464a-a5df-4e5b5b420bc3",
   "metadata": {},
   "outputs": [
    {
     "data": {
      "text/plain": [
       "1"
      ]
     },
     "execution_count": 6,
     "metadata": {},
     "output_type": "execute_result"
    }
   ],
   "source": [
    "vector.ndim"
   ]
  },
  {
   "cell_type": "code",
   "execution_count": 7,
   "id": "567d0bd5-e407-4237-887d-ab6b8c847e60",
   "metadata": {},
   "outputs": [
    {
     "data": {
      "text/plain": [
       "torch.Size([2])"
      ]
     },
     "execution_count": 7,
     "metadata": {},
     "output_type": "execute_result"
    }
   ],
   "source": [
    "vector.shape"
   ]
  },
  {
   "cell_type": "code",
   "execution_count": 8,
   "id": "13f8bbf0-f33d-4c19-a731-3c487c760486",
   "metadata": {},
   "outputs": [
    {
     "data": {
      "text/plain": [
       "tensor([[ 7,  8],\n",
       "        [ 9, 10]])"
      ]
     },
     "execution_count": 8,
     "metadata": {},
     "output_type": "execute_result"
    }
   ],
   "source": [
    "#Matrix\n",
    "\n",
    "MATRIX = torch.tensor([[7,8],\n",
    "                      [9,10]])\n",
    "MATRIX"
   ]
  },
  {
   "cell_type": "code",
   "execution_count": 9,
   "id": "3ae5d7d9-eb09-40e6-ab5c-d1ef5f315da2",
   "metadata": {},
   "outputs": [
    {
     "data": {
      "text/plain": [
       "2"
      ]
     },
     "execution_count": 9,
     "metadata": {},
     "output_type": "execute_result"
    }
   ],
   "source": [
    "MATRIX.ndim"
   ]
  },
  {
   "cell_type": "code",
   "execution_count": 10,
   "id": "ce10a77b-23cd-4843-8246-45a1e8b3e1b9",
   "metadata": {},
   "outputs": [
    {
     "data": {
      "text/plain": [
       "tensor([7, 8])"
      ]
     },
     "execution_count": 10,
     "metadata": {},
     "output_type": "execute_result"
    }
   ],
   "source": [
    "MATRIX[0]"
   ]
  },
  {
   "cell_type": "code",
   "execution_count": 11,
   "id": "7cd88549-487b-4d6d-9018-2f1e69d5d1b0",
   "metadata": {},
   "outputs": [
    {
     "data": {
      "text/plain": [
       "tensor([ 9, 10])"
      ]
     },
     "execution_count": 11,
     "metadata": {},
     "output_type": "execute_result"
    }
   ],
   "source": [
    "MATRIX[1]"
   ]
  },
  {
   "cell_type": "code",
   "execution_count": 12,
   "id": "00159fa1-edc3-4614-8875-802f36b2cf77",
   "metadata": {},
   "outputs": [
    {
     "data": {
      "text/plain": [
       "torch.Size([2, 2])"
      ]
     },
     "execution_count": 12,
     "metadata": {},
     "output_type": "execute_result"
    }
   ],
   "source": [
    "MATRIX.shape"
   ]
  },
  {
   "cell_type": "code",
   "execution_count": 13,
   "id": "5719793b-18a5-4607-8dc1-a6d25a3c918c",
   "metadata": {},
   "outputs": [
    {
     "data": {
      "text/plain": [
       "tensor([[[1, 2, 3],\n",
       "         [4, 5, 6],\n",
       "         [7, 8, 9]]])"
      ]
     },
     "execution_count": 13,
     "metadata": {},
     "output_type": "execute_result"
    }
   ],
   "source": [
    "# Tensor\n",
    "\n",
    "TENSOR = torch.tensor([[[1,2,3],\n",
    "                        [4,5,6],\n",
    "                        [7,8,9]]])\n",
    "TENSOR"
   ]
  },
  {
   "cell_type": "code",
   "execution_count": 14,
   "id": "e550a74e-5521-4e02-ab8e-f2227dbc15a5",
   "metadata": {},
   "outputs": [
    {
     "data": {
      "text/plain": [
       "torch.Size([1, 3, 3])"
      ]
     },
     "execution_count": 14,
     "metadata": {},
     "output_type": "execute_result"
    }
   ],
   "source": [
    "TENSOR.shape"
   ]
  },
  {
   "cell_type": "code",
   "execution_count": 15,
   "id": "a017b391-82ee-4268-be94-f47b178befdd",
   "metadata": {},
   "outputs": [
    {
     "data": {
      "text/plain": [
       "tensor([[0.9666, 0.5736, 0.9675, 0.0921],\n",
       "        [0.3403, 0.6602, 0.1584, 0.2663],\n",
       "        [0.7633, 0.4009, 0.0252, 0.7254]])"
      ]
     },
     "execution_count": 15,
     "metadata": {},
     "output_type": "execute_result"
    }
   ],
   "source": [
    "# RANDOM\n",
    "\n",
    "random_tensor = torch.rand(3,4)\n",
    "random_tensor"
   ]
  },
  {
   "cell_type": "code",
   "execution_count": 16,
   "id": "3d8f6ae0-4a86-47c7-9631-144ec8fcc2a0",
   "metadata": {},
   "outputs": [
    {
     "data": {
      "text/plain": [
       "2"
      ]
     },
     "execution_count": 16,
     "metadata": {},
     "output_type": "execute_result"
    }
   ],
   "source": [
    "random_tensor.ndim"
   ]
  },
  {
   "cell_type": "code",
   "execution_count": 17,
   "id": "20fce248-6915-4113-9b9f-be7659276605",
   "metadata": {},
   "outputs": [
    {
     "data": {
      "text/plain": [
       "tensor([0.9552, 0.9136, 0.9091,  ..., 0.5208, 0.8434, 0.6212])"
      ]
     },
     "execution_count": 17,
     "metadata": {},
     "output_type": "execute_result"
    }
   ],
   "source": [
    "random_tensor = torch.rand(1000000000)\n",
    "random_tensor"
   ]
  },
  {
   "cell_type": "code",
   "execution_count": 18,
   "id": "e72159fc-ead2-4454-9c7e-175ed1574f5c",
   "metadata": {},
   "outputs": [
    {
     "data": {
      "text/plain": [
       "torch.Size([1000000000])"
      ]
     },
     "execution_count": 18,
     "metadata": {},
     "output_type": "execute_result"
    }
   ],
   "source": [
    "random_tensor.shape"
   ]
  },
  {
   "cell_type": "code",
   "execution_count": 19,
   "id": "e0356775-074e-4c83-a559-6e757fc6a634",
   "metadata": {},
   "outputs": [
    {
     "data": {
      "text/plain": [
       "tensor([[0.8725, 0.5244, 0.9938, 0.1070],\n",
       "        [0.2381, 0.1699, 0.4231, 0.9849],\n",
       "        [0.5184, 0.2148, 0.3651, 0.6121]])"
      ]
     },
     "execution_count": 19,
     "metadata": {},
     "output_type": "execute_result"
    }
   ],
   "source": [
    "random_tensor = torch.rand(3,4)\n",
    "random_tensor"
   ]
  },
  {
   "cell_type": "code",
   "execution_count": 20,
   "id": "c31b55e9-4941-4d85-8a17-a0e76beb4a1a",
   "metadata": {},
   "outputs": [
    {
     "data": {
      "text/plain": [
       "2"
      ]
     },
     "execution_count": 20,
     "metadata": {},
     "output_type": "execute_result"
    }
   ],
   "source": [
    "random_tensor.ndim"
   ]
  },
  {
   "cell_type": "code",
   "execution_count": 21,
   "id": "75c19389-f7b8-43d0-ae8b-41471af72016",
   "metadata": {},
   "outputs": [],
   "source": [
    "# create a random trensor with similar to an image tensor\n",
    "\n",
    "random_image_size_tensor = torch.rand(size = (224, 224, 3)) # height, width, colour channels (red, Green , Blue) "
   ]
  },
  {
   "cell_type": "code",
   "execution_count": 22,
   "id": "545dc2f5-3b44-4724-9b39-dbc7bd8c9238",
   "metadata": {},
   "outputs": [
    {
     "data": {
      "text/plain": [
       "torch.Size([224, 224, 3])"
      ]
     },
     "execution_count": 22,
     "metadata": {},
     "output_type": "execute_result"
    }
   ],
   "source": [
    "random_image_size_tensor.shape"
   ]
  },
  {
   "cell_type": "code",
   "execution_count": 23,
   "id": "7458d5a9-1975-4e51-bc76-2b9a2973f84b",
   "metadata": {},
   "outputs": [
    {
     "data": {
      "text/plain": [
       "3"
      ]
     },
     "execution_count": 23,
     "metadata": {},
     "output_type": "execute_result"
    }
   ],
   "source": [
    "random_image_size_tensor.ndim"
   ]
  },
  {
   "cell_type": "code",
   "execution_count": 24,
   "id": "0cbb52b4-ef3d-44d7-b84d-9ab507062fcf",
   "metadata": {},
   "outputs": [
    {
     "data": {
      "text/plain": [
       "tensor([[[0.4221, 0.9174, 0.3882],\n",
       "         [0.9954, 0.2200, 0.2132],\n",
       "         [0.2251, 0.6439, 0.9334],\n",
       "         ...,\n",
       "         [0.9236, 0.6042, 0.2087],\n",
       "         [0.8196, 0.5997, 0.4493],\n",
       "         [0.3815, 0.9069, 0.1707]],\n",
       "\n",
       "        [[0.2278, 0.3744, 0.9779],\n",
       "         [0.9527, 0.3779, 0.2489],\n",
       "         [0.5469, 0.1977, 0.6134],\n",
       "         ...,\n",
       "         [0.0400, 0.3737, 0.7880],\n",
       "         [0.9771, 0.4032, 0.7314],\n",
       "         [0.3573, 0.3724, 0.0163]],\n",
       "\n",
       "        [[0.0049, 0.7017, 0.1783],\n",
       "         [0.9679, 0.7569, 0.4781],\n",
       "         [0.0875, 0.2029, 0.9466],\n",
       "         ...,\n",
       "         [0.3692, 0.0295, 0.8718],\n",
       "         [0.9895, 0.2799, 0.6657],\n",
       "         [0.7281, 0.7981, 0.6379]],\n",
       "\n",
       "        ...,\n",
       "\n",
       "        [[0.2499, 0.6371, 0.1962],\n",
       "         [0.6795, 0.9926, 0.7238],\n",
       "         [0.8749, 0.5573, 0.1749],\n",
       "         ...,\n",
       "         [0.5625, 0.3155, 0.5209],\n",
       "         [0.8939, 0.0625, 0.4873],\n",
       "         [0.6970, 0.5251, 0.8901]],\n",
       "\n",
       "        [[0.9649, 0.1291, 0.7526],\n",
       "         [0.5856, 0.2880, 0.2538],\n",
       "         [0.1912, 0.1570, 0.2085],\n",
       "         ...,\n",
       "         [0.9590, 0.9606, 0.0192],\n",
       "         [0.1394, 0.5781, 0.3617],\n",
       "         [0.0936, 0.9208, 0.8538]],\n",
       "\n",
       "        [[0.8529, 0.2263, 0.0227],\n",
       "         [0.5328, 0.7412, 0.1759],\n",
       "         [0.2495, 0.0988, 0.3340],\n",
       "         ...,\n",
       "         [0.7384, 0.7195, 0.8676],\n",
       "         [0.1481, 0.9038, 0.0902],\n",
       "         [0.7765, 0.3080, 0.0466]]])"
      ]
     },
     "execution_count": 24,
     "metadata": {},
     "output_type": "execute_result"
    }
   ],
   "source": [
    "random_image_size_tensor"
   ]
  },
  {
   "cell_type": "code",
   "execution_count": 25,
   "id": "bf5c9aaa-3ee0-43fe-935e-c3a60dcd76c5",
   "metadata": {},
   "outputs": [
    {
     "data": {
      "text/plain": [
       "tensor([[0., 0., 0., 0.],\n",
       "        [0., 0., 0., 0.],\n",
       "        [0., 0., 0., 0.]])"
      ]
     },
     "execution_count": 25,
     "metadata": {},
     "output_type": "execute_result"
    }
   ],
   "source": [
    "zeros = torch.zeros(3,4)\n",
    "zeros"
   ]
  },
  {
   "cell_type": "code",
   "execution_count": 26,
   "id": "217f60cc-993b-4af2-a6b7-38173bdf3430",
   "metadata": {},
   "outputs": [
    {
     "data": {
      "text/plain": [
       "tensor([[0., 0., 0., 0.],\n",
       "        [0., 0., 0., 0.],\n",
       "        [0., 0., 0., 0.]])"
      ]
     },
     "execution_count": 26,
     "metadata": {},
     "output_type": "execute_result"
    }
   ],
   "source": [
    "zeros*random_tensor"
   ]
  },
  {
   "cell_type": "code",
   "execution_count": 27,
   "id": "2b748b30-8ddd-487e-9414-adac63596dd0",
   "metadata": {},
   "outputs": [
    {
     "data": {
      "text/plain": [
       "tensor([[1., 1., 1., 1.],\n",
       "        [1., 1., 1., 1.],\n",
       "        [1., 1., 1., 1.]])"
      ]
     },
     "execution_count": 27,
     "metadata": {},
     "output_type": "execute_result"
    }
   ],
   "source": [
    "ones = torch.ones(3,4)\n",
    "ones"
   ]
  },
  {
   "cell_type": "code",
   "execution_count": 28,
   "id": "0a06d1c3-559b-41db-9276-2c37b263fccc",
   "metadata": {},
   "outputs": [
    {
     "data": {
      "text/plain": [
       "torch.float32"
      ]
     },
     "execution_count": 28,
     "metadata": {},
     "output_type": "execute_result"
    }
   ],
   "source": [
    "ones.dtype"
   ]
  },
  {
   "cell_type": "code",
   "execution_count": 29,
   "id": "3e9cae26-5d0d-4b9f-adcb-df2b0f625fc8",
   "metadata": {},
   "outputs": [
    {
     "name": "stderr",
     "output_type": "stream",
     "text": [
      "C:\\Users\\Nihar\\AppData\\Local\\Temp\\ipykernel_18244\\789399331.py:3: UserWarning: torch.range is deprecated and will be removed in a future release because its behavior is inconsistent with Python's range builtin. Instead, use torch.arange, which produces values in [start, end).\n",
      "  torch.range(0,10)\n"
     ]
    },
    {
     "data": {
      "text/plain": [
       "tensor([ 0.,  1.,  2.,  3.,  4.,  5.,  6.,  7.,  8.,  9., 10.])"
      ]
     },
     "execution_count": 29,
     "metadata": {},
     "output_type": "execute_result"
    }
   ],
   "source": [
    "# Range of tensor and tensorlike\n",
    "\n",
    "torch.range(0,10)"
   ]
  },
  {
   "cell_type": "code",
   "execution_count": 30,
   "id": "ff0ef893-2fa5-486a-878e-14cc56d9124f",
   "metadata": {},
   "outputs": [
    {
     "data": {
      "text/plain": [
       "tensor([ 0,  1,  2,  3,  4,  5,  6,  7,  8,  9, 10])"
      ]
     },
     "execution_count": 30,
     "metadata": {},
     "output_type": "execute_result"
    }
   ],
   "source": [
    "torch.arange(0,11)"
   ]
  },
  {
   "cell_type": "code",
   "execution_count": 31,
   "id": "3abff1ae-1653-44a8-af6a-3909b8e1608d",
   "metadata": {},
   "outputs": [
    {
     "data": {
      "text/plain": [
       "tensor([ 0,  5, 10, 15, 20, 25, 30, 35, 40, 45, 50, 55, 60, 65, 70, 75, 80, 85,\n",
       "        90, 95])"
      ]
     },
     "execution_count": 31,
     "metadata": {},
     "output_type": "execute_result"
    }
   ],
   "source": [
    "torch.arange(0,100,5)"
   ]
  },
  {
   "cell_type": "code",
   "execution_count": 32,
   "id": "1d3dac90-54c5-4962-85d4-795867ce6da4",
   "metadata": {},
   "outputs": [
    {
     "data": {
      "text/plain": [
       "tensor([[0., 0., 0., 0.],\n",
       "        [0., 0., 0., 0.],\n",
       "        [0., 0., 0., 0.]])"
      ]
     },
     "execution_count": 32,
     "metadata": {},
     "output_type": "execute_result"
    }
   ],
   "source": [
    "ten_zeros = torch.zeros_like(input=ones)\n",
    "ten_zeros"
   ]
  },
  {
   "cell_type": "code",
   "execution_count": 33,
   "id": "865aa547-e66a-49f5-a930-927a1523f338",
   "metadata": {},
   "outputs": [
    {
     "data": {
      "text/plain": [
       "torch.float32"
      ]
     },
     "execution_count": 33,
     "metadata": {},
     "output_type": "execute_result"
    }
   ],
   "source": [
    "# Tensor DataType\n",
    "\n",
    "float_32_tensor = torch.tensor([3.0, 6.0, 9.0])\n",
    "float_32_tensor.dtype"
   ]
  },
  {
   "cell_type": "code",
   "execution_count": 34,
   "id": "34429203-fca4-4aa1-990a-dcade05a187e",
   "metadata": {},
   "outputs": [
    {
     "data": {
      "text/plain": [
       "torch.float16"
      ]
     },
     "execution_count": 34,
     "metadata": {},
     "output_type": "execute_result"
    }
   ],
   "source": [
    "float_16_tensor = torch.tensor([3.0, 6.0, 9.0], dtype = torch.float16)\n",
    "float_16_tensor.dtype"
   ]
  },
  {
   "cell_type": "code",
   "execution_count": 35,
   "id": "2a1c2798-9c47-4082-8044-a4149ef12a8a",
   "metadata": {},
   "outputs": [
    {
     "data": {
      "text/plain": [
       "torch.float64"
      ]
     },
     "execution_count": 35,
     "metadata": {},
     "output_type": "execute_result"
    }
   ],
   "source": [
    "float_64_tensor = torch.tensor([3.0, 6.0, 9.0], dtype = torch.double)\n",
    "float_64_tensor.dtype"
   ]
  },
  {
   "cell_type": "code",
   "execution_count": 36,
   "id": "763676cb-b19f-421e-b318-f6c47718d387",
   "metadata": {},
   "outputs": [
    {
     "name": "stderr",
     "output_type": "stream",
     "text": [
      "C:\\Users\\Nihar\\AppData\\Local\\Temp\\ipykernel_18244\\2914693274.py:1: DeprecationWarning: an integer is required (got type float).  Implicit conversion to integers using __int__ is deprecated, and may be removed in a future version of Python.\n",
      "  float_16_tensor = torch.tensor([3.0, 6.0, 9.0], dtype = torch.short)\n"
     ]
    },
    {
     "data": {
      "text/plain": [
       "torch.int16"
      ]
     },
     "execution_count": 36,
     "metadata": {},
     "output_type": "execute_result"
    }
   ],
   "source": [
    "float_16_tensor = torch.tensor([3.0, 6.0, 9.0], dtype = torch.short)\n",
    "float_16_tensor.dtype"
   ]
  },
  {
   "cell_type": "code",
   "execution_count": 37,
   "id": "3557c9b3-1475-4c5f-b8cd-a8b784a8acc1",
   "metadata": {},
   "outputs": [
    {
     "data": {
      "text/plain": [
       "tensor([3., 6., 9.], device='cuda:0', dtype=torch.float64)"
      ]
     },
     "execution_count": 37,
     "metadata": {},
     "output_type": "execute_result"
    }
   ],
   "source": [
    "tensor = torch.tensor([3.0, 6.0, 9.0], dtype = torch.double, device='cuda')\n",
    "tensor"
   ]
  },
  {
   "cell_type": "code",
   "execution_count": 38,
   "id": "23af7693-6df4-45bb-83be-8c2c97ad6f22",
   "metadata": {},
   "outputs": [
    {
     "data": {
      "text/plain": [
       "tensor([3., 6., 9.], device='cuda:0', dtype=torch.float64)"
      ]
     },
     "execution_count": 38,
     "metadata": {},
     "output_type": "execute_result"
    }
   ],
   "source": [
    "tensor = torch.tensor([3.0, 6.0, 9.0], dtype = torch.double, device='cuda', requires_grad=False)\n",
    "tensor"
   ]
  },
  {
   "cell_type": "markdown",
   "id": "72239445-3180-4df1-83af-8e55d980250e",
   "metadata": {},
   "source": [
    "# ERROR\n",
    "- Not right datatype\n",
    "- not right shape\n",
    "- not on the right device"
   ]
  },
  {
   "cell_type": "code",
   "execution_count": 39,
   "id": "cdfcf156-fb81-43bb-8846-b89eac6de02d",
   "metadata": {},
   "outputs": [
    {
     "data": {
      "text/plain": [
       "tensor([3., 6., 9.], dtype=torch.float16)"
      ]
     },
     "execution_count": 39,
     "metadata": {},
     "output_type": "execute_result"
    }
   ],
   "source": [
    "float_16_tensor = float_32_tensor.type(torch.float16)\n",
    "float_16_tensor"
   ]
  },
  {
   "cell_type": "code",
   "execution_count": 40,
   "id": "8875681c-f7db-442a-b370-e93540dff1b0",
   "metadata": {},
   "outputs": [
    {
     "data": {
      "text/plain": [
       "tensor([3., 6., 9.], dtype=torch.float16)"
      ]
     },
     "execution_count": 40,
     "metadata": {},
     "output_type": "execute_result"
    }
   ],
   "source": [
    "float_16_tensor = float_32_tensor.type(torch.half)\n",
    "float_16_tensor"
   ]
  },
  {
   "cell_type": "code",
   "execution_count": 41,
   "id": "b921645e-7e55-4a45-9939-81baeb03f325",
   "metadata": {},
   "outputs": [
    {
     "name": "stderr",
     "output_type": "stream",
     "text": [
      "C:\\Users\\Nihar\\AppData\\Local\\Temp\\ipykernel_18244\\2785990277.py:1: DeprecationWarning: an integer is required (got type float).  Implicit conversion to integers using __int__ is deprecated, and may be removed in a future version of Python.\n",
      "  int_32_tensor = torch.tensor([3.0, 6.0, 9.0], dtype = torch.int)\n"
     ]
    },
    {
     "data": {
      "text/plain": [
       "torch.int32"
      ]
     },
     "execution_count": 41,
     "metadata": {},
     "output_type": "execute_result"
    }
   ],
   "source": [
    "int_32_tensor = torch.tensor([3.0, 6.0, 9.0], dtype = torch.int)\n",
    "int_32_tensor.dtype"
   ]
  },
  {
   "cell_type": "code",
   "execution_count": 42,
   "id": "b7094d6c-a76e-44ff-94b2-2624b12cf4f9",
   "metadata": {},
   "outputs": [
    {
     "name": "stderr",
     "output_type": "stream",
     "text": [
      "C:\\Users\\Nihar\\AppData\\Local\\Temp\\ipykernel_18244\\2613421198.py:1: DeprecationWarning: an integer is required (got type float).  Implicit conversion to integers using __int__ is deprecated, and may be removed in a future version of Python.\n",
      "  int_32_tensor = torch.tensor([3.0, 6.0, 9.0], dtype = torch.short)\n"
     ]
    },
    {
     "data": {
      "text/plain": [
       "torch.int16"
      ]
     },
     "execution_count": 42,
     "metadata": {},
     "output_type": "execute_result"
    }
   ],
   "source": [
    "int_32_tensor = torch.tensor([3.0, 6.0, 9.0], dtype = torch.short)\n",
    "int_32_tensor.dtype"
   ]
  },
  {
   "cell_type": "code",
   "execution_count": 43,
   "id": "75c3dda7-0a9c-43c6-b55c-1ead1ee0cd52",
   "metadata": {},
   "outputs": [
    {
     "name": "stderr",
     "output_type": "stream",
     "text": [
      "C:\\Users\\Nihar\\AppData\\Local\\Temp\\ipykernel_18244\\3013046536.py:1: DeprecationWarning: an integer is required (got type float).  Implicit conversion to integers using __int__ is deprecated, and may be removed in a future version of Python.\n",
      "  int_32_tensor = torch.tensor([3.0, 6.0, 9.0], dtype = torch.long)\n"
     ]
    },
    {
     "data": {
      "text/plain": [
       "torch.int64"
      ]
     },
     "execution_count": 43,
     "metadata": {},
     "output_type": "execute_result"
    }
   ],
   "source": [
    "int_32_tensor = torch.tensor([3.0, 6.0, 9.0], dtype = torch.long)\n",
    "int_32_tensor.dtype"
   ]
  },
  {
   "cell_type": "code",
   "execution_count": 44,
   "id": "b7281b85-d947-469c-a9eb-60a89eca405a",
   "metadata": {},
   "outputs": [
    {
     "data": {
      "text/plain": [
       "tensor([[0.5631, 0.8157, 0.6626, 0.9588],\n",
       "        [0.0399, 0.5327, 0.3418, 0.7744],\n",
       "        [0.2704, 0.6227, 0.6165, 0.4516]])"
      ]
     },
     "execution_count": 44,
     "metadata": {},
     "output_type": "execute_result"
    }
   ],
   "source": [
    "tensor = torch.rand(3,4)\n",
    "tensor"
   ]
  },
  {
   "cell_type": "code",
   "execution_count": 45,
   "id": "22e76457-758a-4044-8fb2-588f8ddfed30",
   "metadata": {},
   "outputs": [
    {
     "data": {
      "text/plain": [
       "torch.Size([3, 4])"
      ]
     },
     "execution_count": 45,
     "metadata": {},
     "output_type": "execute_result"
    }
   ],
   "source": [
    "tensor.shape"
   ]
  },
  {
   "cell_type": "code",
   "execution_count": 46,
   "id": "d8b7b56a-88d6-4678-b2c5-585d43bb9c2c",
   "metadata": {},
   "outputs": [
    {
     "data": {
      "text/plain": [
       "torch.float32"
      ]
     },
     "execution_count": 46,
     "metadata": {},
     "output_type": "execute_result"
    }
   ],
   "source": [
    "tensor.dtype"
   ]
  },
  {
   "cell_type": "code",
   "execution_count": 47,
   "id": "39167ea7-5d88-4180-bd3c-5ef83d47dc71",
   "metadata": {},
   "outputs": [
    {
     "data": {
      "text/plain": [
       "device(type='cpu')"
      ]
     },
     "execution_count": 47,
     "metadata": {},
     "output_type": "execute_result"
    }
   ],
   "source": [
    "tensor.device"
   ]
  },
  {
   "cell_type": "code",
   "execution_count": 48,
   "id": "472cb5ec-d287-4f5c-aec3-9ca6f2167a53",
   "metadata": {},
   "outputs": [
    {
     "data": {
      "text/plain": [
       "device(type='cuda', index=0)"
      ]
     },
     "execution_count": 48,
     "metadata": {},
     "output_type": "execute_result"
    }
   ],
   "source": [
    "tensor = torch.rand(3,4, device='cuda')\n",
    "tensor.device"
   ]
  },
  {
   "cell_type": "code",
   "execution_count": 49,
   "id": "b3276eca-39d3-41af-88c3-26739fe31ba2",
   "metadata": {},
   "outputs": [],
   "source": [
    "### manipulating Tensor (tensor operations)"
   ]
  },
  {
   "cell_type": "code",
   "execution_count": 50,
   "id": "7fe02e79-ddb5-4855-a978-aca9192316c1",
   "metadata": {},
   "outputs": [
    {
     "data": {
      "text/plain": [
       "tensor([11, 12, 13])"
      ]
     },
     "execution_count": 50,
     "metadata": {},
     "output_type": "execute_result"
    }
   ],
   "source": [
    "# create atensor and add 10\n",
    "tensor = torch.tensor([1,2,3,])\n",
    "tensor + 10"
   ]
  },
  {
   "cell_type": "code",
   "execution_count": 51,
   "id": "ceafcd89-c5e9-48dd-af59-f0a65661e3d0",
   "metadata": {},
   "outputs": [
    {
     "data": {
      "text/plain": [
       "tensor([10, 20, 30])"
      ]
     },
     "execution_count": 51,
     "metadata": {},
     "output_type": "execute_result"
    }
   ],
   "source": [
    "# Multiply tensor by 10\n",
    "\n",
    "tensor * 10"
   ]
  },
  {
   "cell_type": "code",
   "execution_count": 52,
   "id": "df59a9c5-9c4b-4a3c-94cd-f090d1c0b779",
   "metadata": {},
   "outputs": [
    {
     "data": {
      "text/plain": [
       "tensor([-9, -8, -7])"
      ]
     },
     "execution_count": 52,
     "metadata": {},
     "output_type": "execute_result"
    }
   ],
   "source": [
    "tensor - 10"
   ]
  },
  {
   "cell_type": "code",
   "execution_count": 53,
   "id": "48581664-b564-429f-a367-67f781140545",
   "metadata": {},
   "outputs": [
    {
     "data": {
      "text/plain": [
       "tensor([10, 20, 30])"
      ]
     },
     "execution_count": 53,
     "metadata": {},
     "output_type": "execute_result"
    }
   ],
   "source": [
    "torch.mul(tensor, 10)"
   ]
  },
  {
   "cell_type": "code",
   "execution_count": 54,
   "id": "aad623ce-333d-43b0-812b-940e84ffba40",
   "metadata": {},
   "outputs": [
    {
     "data": {
      "text/plain": [
       "tensor([11, 12, 13])"
      ]
     },
     "execution_count": 54,
     "metadata": {},
     "output_type": "execute_result"
    }
   ],
   "source": [
    "torch.add(tensor, 10)"
   ]
  },
  {
   "cell_type": "code",
   "execution_count": 55,
   "id": "41d18297-777d-4171-8716-e6f1f125fa78",
   "metadata": {},
   "outputs": [
    {
     "data": {
      "text/plain": [
       "tensor([-9, -8, -7])"
      ]
     },
     "execution_count": 55,
     "metadata": {},
     "output_type": "execute_result"
    }
   ],
   "source": [
    "torch.sub(tensor, 10)"
   ]
  },
  {
   "cell_type": "code",
   "execution_count": 56,
   "id": "461b191d-9149-4ecc-a706-8f71398e8860",
   "metadata": {},
   "outputs": [
    {
     "data": {
      "text/plain": [
       "tensor([1, 4, 9])"
      ]
     },
     "execution_count": 56,
     "metadata": {},
     "output_type": "execute_result"
    }
   ],
   "source": [
    "tensor * tensor"
   ]
  },
  {
   "cell_type": "code",
   "execution_count": 57,
   "id": "3b390b86-1754-427f-9256-00c6afbd5752",
   "metadata": {},
   "outputs": [
    {
     "name": "stdout",
     "output_type": "stream",
     "text": [
      "CPU times: total: 0 ns\n",
      "Wall time: 0 ns\n"
     ]
    },
    {
     "data": {
      "text/plain": [
       "tensor(14)"
      ]
     },
     "execution_count": 57,
     "metadata": {},
     "output_type": "execute_result"
    }
   ],
   "source": [
    "%%time\n",
    "value = 0\n",
    "for i in range(len(tensor)):\n",
    "    value += tensor[i] * tensor[i]\n",
    "value"
   ]
  },
  {
   "cell_type": "code",
   "execution_count": 58,
   "id": "91da70a9-4f4c-4fc0-b269-910251716070",
   "metadata": {},
   "outputs": [
    {
     "name": "stdout",
     "output_type": "stream",
     "text": [
      "CPU times: total: 0 ns\n",
      "Wall time: 2.31 ms\n"
     ]
    },
    {
     "data": {
      "text/plain": [
       "tensor(14)"
      ]
     },
     "execution_count": 58,
     "metadata": {},
     "output_type": "execute_result"
    }
   ],
   "source": [
    "%%time \n",
    "torch.matmul(tensor, tensor)"
   ]
  },
  {
   "cell_type": "code",
   "execution_count": 59,
   "id": "831359b8-7d3b-4258-b7f6-d39c0b6dce67",
   "metadata": {},
   "outputs": [],
   "source": [
    "import tqdm"
   ]
  },
  {
   "cell_type": "code",
   "execution_count": 60,
   "id": "7e126ae1-e06e-4351-b011-0713c27607c8",
   "metadata": {},
   "outputs": [
    {
     "data": {
      "application/vnd.jupyter.widget-view+json": {
       "model_id": "4c89f770deec4056b566185c2a4f2e89",
       "version_major": 2,
       "version_minor": 0
      },
      "text/plain": [
       "  0%|          | 0/10 [00:00<?, ?it/s]"
      ]
     },
     "metadata": {},
     "output_type": "display_data"
    }
   ],
   "source": [
    "from tqdm.notebook import tqdm_notebook\n",
    "import time\n",
    "for i in tqdm_notebook(range(10)):\n",
    "    time.sleep(0.5)"
   ]
  },
  {
   "cell_type": "code",
   "execution_count": 61,
   "id": "c8c1a979-8b70-4026-be91-5af66a9c1e6a",
   "metadata": {},
   "outputs": [],
   "source": [
    "A = torch.rand(3,3)\n",
    "B = torch.rand(3,3)"
   ]
  },
  {
   "cell_type": "code",
   "execution_count": 62,
   "id": "010bf909-88e8-4d3e-8605-b6878180343f",
   "metadata": {},
   "outputs": [
    {
     "data": {
      "text/plain": [
       "tensor([[0.1036, 0.9326, 0.2973],\n",
       "        [0.6698, 0.1146, 0.6822],\n",
       "        [0.3237, 0.0662, 0.8061]])"
      ]
     },
     "execution_count": 62,
     "metadata": {},
     "output_type": "execute_result"
    }
   ],
   "source": [
    "A"
   ]
  },
  {
   "cell_type": "code",
   "execution_count": 63,
   "id": "f61b6789-6cdf-45f5-bd65-14cc4c7f9304",
   "metadata": {},
   "outputs": [
    {
     "data": {
      "text/plain": [
       "tensor([[0.7793, 0.6318, 0.7472],\n",
       "        [0.7507, 0.4139, 0.9943],\n",
       "        [0.6305, 0.6776, 0.4900]])"
      ]
     },
     "execution_count": 63,
     "metadata": {},
     "output_type": "execute_result"
    }
   ],
   "source": [
    "B"
   ]
  },
  {
   "cell_type": "code",
   "execution_count": 64,
   "id": "f76f6a44-b0a5-4c0d-b26d-00bf3e2f08dc",
   "metadata": {},
   "outputs": [],
   "source": [
    "A_rows = len(A)\n",
    "A_cols = len(A[0])\n",
    "B_rows = len(B)\n",
    "B_cols = len(B[0])\n",
    "\n",
    "    # # Check if the matrices can be multiplied\n",
    "    # if A_cols != B_rows:\n",
    "    #     raise ValueError(\"Number of columns in A must be equal to number of rows in B\")"
   ]
  },
  {
   "cell_type": "code",
   "execution_count": 65,
   "id": "5ff5ec6c-b15c-4cc5-8f7f-6db386650734",
   "metadata": {},
   "outputs": [
    {
     "data": {
      "text/plain": [
       "tensor([[0, 0, 0],\n",
       "        [0, 0, 0],\n",
       "        [0, 0, 0]])"
      ]
     },
     "execution_count": 65,
     "metadata": {},
     "output_type": "execute_result"
    }
   ],
   "source": [
    "result = torch.tensor([[0] * B_cols for _ in range(A_rows)])\n",
    "result"
   ]
  },
  {
   "cell_type": "code",
   "execution_count": 66,
   "id": "d48ac35a-93e6-45b8-bb58-03f3c48430ba",
   "metadata": {},
   "outputs": [
    {
     "data": {
      "text/plain": [
       "tensor([[ 7, 10],\n",
       "        [15, 22]])"
      ]
     },
     "execution_count": 66,
     "metadata": {},
     "output_type": "execute_result"
    }
   ],
   "source": [
    "A = torch.tensor([[1, 2], [3,4]])\n",
    "B =A\n",
    "\n",
    "A_rows = len(A)\n",
    "A_cols = len(A[0])\n",
    "B_rows = len(B)\n",
    "B_cols = len(B[0])\n",
    "\n",
    "result = torch.tensor([[0] * B_cols for _ in range(A_rows)])\n",
    "for i in range(A_rows):\n",
    "    for j in range(B_cols):\n",
    "        sum = 0\n",
    "        for k in range(A_cols):\n",
    "            sum += A[i][k] * B[k][j]\n",
    "        result[i][j] = sum\n",
    "result      "
   ]
  },
  {
   "cell_type": "code",
   "execution_count": 67,
   "id": "bf8270fd-c3e1-4be2-a12c-b0d8f5d1be4b",
   "metadata": {},
   "outputs": [
    {
     "data": {
      "text/plain": [
       "tensor([[ 1,  4],\n",
       "        [ 9, 16]])"
      ]
     },
     "execution_count": 67,
     "metadata": {},
     "output_type": "execute_result"
    }
   ],
   "source": [
    "A*A # Elementwise multiplication"
   ]
  },
  {
   "cell_type": "code",
   "execution_count": 68,
   "id": "dc90b9be-0ac8-4e72-a2e7-d921fe5e96cf",
   "metadata": {},
   "outputs": [
    {
     "name": "stdout",
     "output_type": "stream",
     "text": [
      "tensor([1, 2])\n",
      "tensor([3, 4])\n"
     ]
    }
   ],
   "source": [
    "for i in range(A_rows):\n",
    "    print(A[i])"
   ]
  },
  {
   "cell_type": "code",
   "execution_count": 69,
   "id": "59b0a2db-ab7e-4917-b98a-ad66a11241c2",
   "metadata": {},
   "outputs": [
    {
     "data": {
      "text/plain": [
       "tensor([[ 7, 10],\n",
       "        [15, 22]])"
      ]
     },
     "execution_count": 69,
     "metadata": {},
     "output_type": "execute_result"
    }
   ],
   "source": [
    "torch.matmul(A,A)"
   ]
  },
  {
   "cell_type": "code",
   "execution_count": 70,
   "id": "d7538e20-05d5-4368-82c2-82484012e998",
   "metadata": {},
   "outputs": [
    {
     "data": {
      "text/plain": [
       "tensor([[ 7, 10],\n",
       "        [15, 22]])"
      ]
     },
     "execution_count": 70,
     "metadata": {},
     "output_type": "execute_result"
    }
   ],
   "source": [
    "torch.mm(A,A)"
   ]
  },
  {
   "cell_type": "code",
   "execution_count": 71,
   "id": "6be0b285-de6e-438c-9337-cfc35078eac4",
   "metadata": {},
   "outputs": [
    {
     "data": {
      "text/plain": [
       "tensor([[1, 3],\n",
       "        [2, 4]])"
      ]
     },
     "execution_count": 71,
     "metadata": {},
     "output_type": "execute_result"
    }
   ],
   "source": [
    "A.T"
   ]
  },
  {
   "cell_type": "code",
   "execution_count": 72,
   "id": "5399ca2e-d3c0-4249-a738-6276faffe894",
   "metadata": {},
   "outputs": [
    {
     "data": {
      "text/plain": [
       "tensor([[ 5, 11],\n",
       "        [11, 25]])"
      ]
     },
     "execution_count": 72,
     "metadata": {},
     "output_type": "execute_result"
    }
   ],
   "source": [
    "torch.mm(A,A.T)"
   ]
  },
  {
   "cell_type": "code",
   "execution_count": 73,
   "id": "f97b2dd0-8002-4201-8c72-4d039da90507",
   "metadata": {},
   "outputs": [
    {
     "data": {
      "text/plain": [
       "(torch.Size([2, 2]), torch.Size([2, 2]))"
      ]
     },
     "execution_count": 73,
     "metadata": {},
     "output_type": "execute_result"
    }
   ],
   "source": [
    "A.shape,A.T.shape"
   ]
  },
  {
   "cell_type": "markdown",
   "id": "8a093d95-958d-4b08-b199-377bf5d69347",
   "metadata": {},
   "source": [
    "# Tensor Aggregation"
   ]
  },
  {
   "cell_type": "code",
   "execution_count": 74,
   "id": "5e8834be-0154-40eb-a0a8-48c4745b7f12",
   "metadata": {},
   "outputs": [
    {
     "data": {
      "text/plain": [
       "tensor([ 0., 10., 20., 30., 40., 50., 60., 70., 80., 90.])"
      ]
     },
     "execution_count": 74,
     "metadata": {},
     "output_type": "execute_result"
    }
   ],
   "source": [
    "x = torch.arange(0, 100, 10,dtype=torch.float32)\n",
    "x"
   ]
  },
  {
   "cell_type": "code",
   "execution_count": 75,
   "id": "b677187c-b349-4e7a-9fcd-3365698e60a7",
   "metadata": {},
   "outputs": [
    {
     "data": {
      "text/plain": [
       "(tensor(90.), tensor(90.))"
      ]
     },
     "execution_count": 75,
     "metadata": {},
     "output_type": "execute_result"
    }
   ],
   "source": [
    "x.max(), torch.max(x)"
   ]
  },
  {
   "cell_type": "code",
   "execution_count": 76,
   "id": "c0562487-d8be-46eb-a8f0-7d98eb62d6f5",
   "metadata": {},
   "outputs": [
    {
     "data": {
      "text/plain": [
       "(tensor(0.), tensor(0.))"
      ]
     },
     "execution_count": 76,
     "metadata": {},
     "output_type": "execute_result"
    }
   ],
   "source": [
    "x.min(), torch.min(x)"
   ]
  },
  {
   "cell_type": "code",
   "execution_count": 78,
   "id": "ef171ac0-115b-4064-85ec-e3b409ae035d",
   "metadata": {},
   "outputs": [
    {
     "data": {
      "text/plain": [
       "(tensor(45.), tensor(45.))"
      ]
     },
     "execution_count": 78,
     "metadata": {},
     "output_type": "execute_result"
    }
   ],
   "source": [
    "x.mean(), torch.mean(x) # only mean are calculate on float32"
   ]
  },
  {
   "cell_type": "code",
   "execution_count": 79,
   "id": "6eb33e6c-909b-4884-aa70-b26625807d12",
   "metadata": {},
   "outputs": [
    {
     "data": {
      "text/plain": [
       "(tensor(450.), tensor(450.))"
      ]
     },
     "execution_count": 79,
     "metadata": {},
     "output_type": "execute_result"
    }
   ],
   "source": [
    "torch.sum(x), x.sum()"
   ]
  },
  {
   "cell_type": "code",
   "execution_count": 81,
   "id": "835130a1-c877-4697-b3b1-5718b12ab183",
   "metadata": {},
   "outputs": [
    {
     "data": {
      "text/plain": [
       "(tensor(0), tensor(0))"
      ]
     },
     "execution_count": 81,
     "metadata": {},
     "output_type": "execute_result"
    }
   ],
   "source": [
    "torch.argmin(x), x.argmin()"
   ]
  },
  {
   "cell_type": "code",
   "execution_count": 82,
   "id": "17379198-2216-4356-8620-d89ac73e1a0b",
   "metadata": {},
   "outputs": [
    {
     "data": {
      "text/plain": [
       "(tensor(9), tensor(9))"
      ]
     },
     "execution_count": 82,
     "metadata": {},
     "output_type": "execute_result"
    }
   ],
   "source": [
    "torch.argmax(x), x.argmax()"
   ]
  },
  {
   "cell_type": "code",
   "execution_count": 83,
   "id": "e244c415-4aab-4bd5-9cd5-f032043039ea",
   "metadata": {},
   "outputs": [
    {
     "data": {
      "text/plain": [
       "(tensor([1., 2., 3., 4., 5., 6., 7., 8., 9.]), torch.Size([9]))"
      ]
     },
     "execution_count": 83,
     "metadata": {},
     "output_type": "execute_result"
    }
   ],
   "source": [
    "x = torch.arange(1., 10.)\n",
    "x, x.shape"
   ]
  },
  {
   "cell_type": "code",
   "execution_count": 84,
   "id": "a9be8bfd-158f-4137-9a2a-88254fb6edde",
   "metadata": {},
   "outputs": [
    {
     "data": {
      "text/plain": [
       "(tensor([[1., 2., 3.],\n",
       "         [4., 5., 6.],\n",
       "         [7., 8., 9.]]),\n",
       " torch.Size([3, 3]))"
      ]
     },
     "execution_count": 84,
     "metadata": {},
     "output_type": "execute_result"
    }
   ],
   "source": [
    "x_reshaped = x.reshape(3,3)\n",
    "x_reshaped, x_reshaped.shape"
   ]
  },
  {
   "cell_type": "code",
   "execution_count": 86,
   "id": "b3981f3a-f321-4249-92f5-ba08bf604c03",
   "metadata": {},
   "outputs": [
    {
     "data": {
      "text/plain": [
       "tensor([[1., 2., 3., 4., 5., 6., 7., 8., 9.],\n",
       "        [1., 2., 3., 4., 5., 6., 7., 8., 9.],\n",
       "        [1., 2., 3., 4., 5., 6., 7., 8., 9.],\n",
       "        [1., 2., 3., 4., 5., 6., 7., 8., 9.]])"
      ]
     },
     "execution_count": 86,
     "metadata": {},
     "output_type": "execute_result"
    }
   ],
   "source": [
    "x_stacked = torch.stack([x,x,x,x],dim=0)\n",
    "x_stacked"
   ]
  },
  {
   "cell_type": "code",
   "execution_count": 87,
   "id": "58413058-0631-474d-8ad5-2ff4a5a7db29",
   "metadata": {},
   "outputs": [
    {
     "data": {
      "text/plain": [
       "tensor([[1., 1., 1., 1.],\n",
       "        [2., 2., 2., 2.],\n",
       "        [3., 3., 3., 3.],\n",
       "        [4., 4., 4., 4.],\n",
       "        [5., 5., 5., 5.],\n",
       "        [6., 6., 6., 6.],\n",
       "        [7., 7., 7., 7.],\n",
       "        [8., 8., 8., 8.],\n",
       "        [9., 9., 9., 9.]])"
      ]
     },
     "execution_count": 87,
     "metadata": {},
     "output_type": "execute_result"
    }
   ],
   "source": [
    "x_stacked = torch.stack([x,x,x,x],dim=1)\n",
    "x_stacked"
   ]
  },
  {
   "cell_type": "code",
   "execution_count": 88,
   "id": "37c68620-237c-461d-b134-d7e2f066d2e0",
   "metadata": {},
   "outputs": [
    {
     "data": {
      "text/plain": [
       "tensor([[[[[0., 0.]],\n",
       "\n",
       "          [[0., 0.]]]],\n",
       "\n",
       "\n",
       "\n",
       "        [[[[0., 0.]],\n",
       "\n",
       "          [[0., 0.]]]]])"
      ]
     },
     "execution_count": 88,
     "metadata": {},
     "output_type": "execute_result"
    }
   ],
   "source": [
    "x = torch.zeros(2,1,2,1,2)\n",
    "x"
   ]
  },
  {
   "cell_type": "code",
   "execution_count": 90,
   "id": "6ed7ac66-189a-4c3c-9b6c-5c67e48d90aa",
   "metadata": {},
   "outputs": [
    {
     "data": {
      "text/plain": [
       "torch.Size([2, 1, 2, 1, 2])"
      ]
     },
     "execution_count": 90,
     "metadata": {},
     "output_type": "execute_result"
    }
   ],
   "source": [
    "x.size()"
   ]
  },
  {
   "cell_type": "code",
   "execution_count": 94,
   "id": "33eb5391-b07b-4aa2-9d01-47cb62f4fdc9",
   "metadata": {},
   "outputs": [
    {
     "data": {
      "text/plain": [
       "(tensor([[[0., 0.],\n",
       "          [0., 0.]],\n",
       " \n",
       "         [[0., 0.],\n",
       "          [0., 0.]]]),\n",
       " torch.Size([2, 2, 2]))"
      ]
     },
     "execution_count": 94,
     "metadata": {},
     "output_type": "execute_result"
    }
   ],
   "source": [
    "y = torch.squeeze(x) # remove all single dimension\n",
    "y, y.size()"
   ]
  },
  {
   "cell_type": "code",
   "execution_count": 95,
   "id": "cfa3035c-d541-4b01-ba76-5a9006c960f8",
   "metadata": {},
   "outputs": [
    {
     "data": {
      "text/plain": [
       "(tensor([[[[[0., 0.]],\n",
       " \n",
       "           [[0., 0.]]]],\n",
       " \n",
       " \n",
       " \n",
       "         [[[[0., 0.]],\n",
       " \n",
       "           [[0., 0.]]]]]),\n",
       " torch.Size([2, 1, 2, 1, 2]))"
      ]
     },
     "execution_count": 95,
     "metadata": {},
     "output_type": "execute_result"
    }
   ],
   "source": [
    "y = torch.squeeze(x, 0)\n",
    "y, y.size()"
   ]
  },
  {
   "cell_type": "code",
   "execution_count": 96,
   "id": "e55e8a1c-3943-45d7-bf70-f68d4f2f2610",
   "metadata": {},
   "outputs": [
    {
     "data": {
      "text/plain": [
       "(tensor([[[[0., 0.]],\n",
       " \n",
       "          [[0., 0.]]],\n",
       " \n",
       " \n",
       "         [[[0., 0.]],\n",
       " \n",
       "          [[0., 0.]]]]),\n",
       " torch.Size([2, 2, 1, 2]))"
      ]
     },
     "execution_count": 96,
     "metadata": {},
     "output_type": "execute_result"
    }
   ],
   "source": [
    "y = torch.squeeze(x, 1)\n",
    "y, y.size()"
   ]
  },
  {
   "cell_type": "code",
   "execution_count": 98,
   "id": "56dab390-42c1-4138-9fbd-b2dde481805b",
   "metadata": {},
   "outputs": [
    {
     "data": {
      "text/plain": [
       "(tensor([[[[0., 0.]],\n",
       " \n",
       "          [[0., 0.]]],\n",
       " \n",
       " \n",
       "         [[[0., 0.]],\n",
       " \n",
       "          [[0., 0.]]]]),\n",
       " torch.Size([2, 2, 1, 2]))"
      ]
     },
     "execution_count": 98,
     "metadata": {},
     "output_type": "execute_result"
    }
   ],
   "source": [
    "y = torch.squeeze(x, 1)\n",
    "y, y.size()"
   ]
  },
  {
   "cell_type": "code",
   "execution_count": 99,
   "id": "055a8869-8f35-4aad-a354-ca2fcf28e5f2",
   "metadata": {},
   "outputs": [
    {
     "data": {
      "text/plain": [
       "(tensor([[[[[[0., 0.]],\n",
       " \n",
       "            [[0., 0.]]]]],\n",
       " \n",
       " \n",
       " \n",
       " \n",
       "         [[[[[0., 0.]],\n",
       " \n",
       "            [[0., 0.]]]]]]),\n",
       " torch.Size([2, 1, 1, 2, 1, 2]))"
      ]
     },
     "execution_count": 99,
     "metadata": {},
     "output_type": "execute_result"
    }
   ],
   "source": [
    "y = torch.unsqueeze(x, 1)\n",
    "y, y.size()"
   ]
  },
  {
   "cell_type": "code",
   "execution_count": 102,
   "id": "3924632e-fb12-49d4-bdf5-07f450c69b5f",
   "metadata": {},
   "outputs": [
    {
     "data": {
      "text/plain": [
       "torch.Size([224, 224, 3])"
      ]
     },
     "execution_count": 102,
     "metadata": {},
     "output_type": "execute_result"
    }
   ],
   "source": [
    "x = torch.rand(224, 224, 3) #Image: height, width and colour chhanel\n",
    "x.size()"
   ]
  },
  {
   "cell_type": "code",
   "execution_count": 104,
   "id": "01fc6d93-a1b4-4d74-bba6-1e2c75859377",
   "metadata": {},
   "outputs": [
    {
     "data": {
      "text/plain": [
       "torch.Size([3, 224, 224])"
      ]
     },
     "execution_count": 104,
     "metadata": {},
     "output_type": "execute_result"
    }
   ],
   "source": [
    "x_permute = x.permute(2,0,1)\n",
    "x_permute.size()"
   ]
  },
  {
   "cell_type": "code",
   "execution_count": 105,
   "id": "1f3aee40-1fa6-4c6c-a4a7-b8916195a498",
   "metadata": {},
   "outputs": [
    {
     "data": {
      "text/plain": [
       "tensor([[[0.7525, 0.8879, 0.9424],\n",
       "         [0.0016, 0.3758, 0.6077],\n",
       "         [0.6972, 0.9996, 0.6968],\n",
       "         ...,\n",
       "         [0.9236, 0.4343, 0.7424],\n",
       "         [0.6912, 0.0556, 0.3369],\n",
       "         [0.2483, 0.5742, 0.8244]],\n",
       "\n",
       "        [[0.5347, 0.3664, 0.2911],\n",
       "         [0.7735, 0.4203, 0.0867],\n",
       "         [0.9057, 0.2988, 0.9701],\n",
       "         ...,\n",
       "         [0.7261, 0.2017, 0.8517],\n",
       "         [0.4252, 0.3942, 0.4016],\n",
       "         [0.0688, 0.3904, 0.7307]],\n",
       "\n",
       "        [[0.1145, 0.7593, 0.5935],\n",
       "         [0.1637, 0.2563, 0.2080],\n",
       "         [0.3015, 0.5149, 0.5793],\n",
       "         ...,\n",
       "         [0.4282, 0.0535, 0.4203],\n",
       "         [0.6190, 0.5033, 0.0962],\n",
       "         [0.6878, 0.0546, 0.5178]],\n",
       "\n",
       "        ...,\n",
       "\n",
       "        [[0.9046, 0.0851, 0.8612],\n",
       "         [0.3488, 0.6781, 0.9949],\n",
       "         [0.9518, 0.1201, 0.0392],\n",
       "         ...,\n",
       "         [0.9103, 0.4690, 0.2525],\n",
       "         [0.9140, 0.3485, 0.3834],\n",
       "         [0.0553, 0.1993, 0.4076]],\n",
       "\n",
       "        [[0.8088, 0.4108, 0.4105],\n",
       "         [0.0868, 0.8029, 0.5356],\n",
       "         [0.6397, 0.2962, 0.4854],\n",
       "         ...,\n",
       "         [0.6483, 0.3884, 0.8808],\n",
       "         [0.6477, 0.1352, 0.4789],\n",
       "         [0.6193, 0.8540, 0.2621]],\n",
       "\n",
       "        [[0.5552, 0.2456, 0.0877],\n",
       "         [0.9623, 0.4063, 0.7542],\n",
       "         [0.9078, 0.3749, 0.7990],\n",
       "         ...,\n",
       "         [0.6644, 0.6503, 0.7224],\n",
       "         [0.8004, 0.3500, 0.5888],\n",
       "         [0.9176, 0.5183, 0.8420]]])"
      ]
     },
     "execution_count": 105,
     "metadata": {},
     "output_type": "execute_result"
    }
   ],
   "source": [
    "x"
   ]
  },
  {
   "cell_type": "code",
   "execution_count": 106,
   "id": "40557a2d-22a9-4984-9848-78d4fbf535b3",
   "metadata": {},
   "outputs": [
    {
     "data": {
      "text/plain": [
       "(tensor(100.), tensor(100.))"
      ]
     },
     "execution_count": 106,
     "metadata": {},
     "output_type": "execute_result"
    }
   ],
   "source": [
    "x[0,0,0] =100\n",
    "x[0,0,0],x_permute[0,0,0]"
   ]
  },
  {
   "cell_type": "code",
   "execution_count": 108,
   "id": "0d494792-9c22-4ad0-8e27-68ffd1fd3603",
   "metadata": {},
   "outputs": [
    {
     "data": {
      "text/plain": [
       "(tensor([[[1, 2, 3],\n",
       "          [4, 5, 6],\n",
       "          [7, 8, 9]]]),\n",
       " torch.Size([1, 3, 3]))"
      ]
     },
     "execution_count": 108,
     "metadata": {},
     "output_type": "execute_result"
    }
   ],
   "source": [
    "x = torch.arange(1,10).reshape(1,3,3)\n",
    "x, x.shape"
   ]
  },
  {
   "cell_type": "code",
   "execution_count": 109,
   "id": "3351aed4-59d7-4a22-a435-1756681ea152",
   "metadata": {},
   "outputs": [
    {
     "data": {
      "text/plain": [
       "tensor([[1, 2, 3],\n",
       "        [4, 5, 6],\n",
       "        [7, 8, 9]])"
      ]
     },
     "execution_count": 109,
     "metadata": {},
     "output_type": "execute_result"
    }
   ],
   "source": [
    "x[0]"
   ]
  },
  {
   "cell_type": "code",
   "execution_count": 111,
   "id": "b6378090-ffdc-48c3-bc29-a137d240e0cf",
   "metadata": {},
   "outputs": [
    {
     "data": {
      "text/plain": [
       "(tensor([1, 2, 3]), tensor([1, 2, 3]))"
      ]
     },
     "execution_count": 111,
     "metadata": {},
     "output_type": "execute_result"
    }
   ],
   "source": [
    "x[0][0], x[0,0]"
   ]
  },
  {
   "cell_type": "code",
   "execution_count": 112,
   "id": "92410f96-c11d-4b96-a9a9-1961ad523374",
   "metadata": {},
   "outputs": [
    {
     "data": {
      "text/plain": [
       "(tensor(1), tensor(1))"
      ]
     },
     "execution_count": 112,
     "metadata": {},
     "output_type": "execute_result"
    }
   ],
   "source": [
    "x[0][0][0], x[0,0,0]"
   ]
  },
  {
   "cell_type": "code",
   "execution_count": 116,
   "id": "9f302014-a1ff-4df0-b7c2-328fec39b10c",
   "metadata": {},
   "outputs": [
    {
     "data": {
      "text/plain": [
       "tensor([[[1, 2, 3],\n",
       "         [4, 5, 6]]])"
      ]
     },
     "execution_count": 116,
     "metadata": {},
     "output_type": "execute_result"
    }
   ],
   "source": [
    "x[:,0:2]"
   ]
  },
  {
   "cell_type": "code",
   "execution_count": 122,
   "id": "70415dd3-2785-4dac-b5ac-e83a257d9f5e",
   "metadata": {},
   "outputs": [
    {
     "data": {
      "text/plain": [
       "tensor([[2, 5, 8]])"
      ]
     },
     "execution_count": 122,
     "metadata": {},
     "output_type": "execute_result"
    }
   ],
   "source": [
    "x[:,:,1]"
   ]
  },
  {
   "cell_type": "code",
   "execution_count": 123,
   "id": "fc796fd2-bc51-4b5f-b485-5b7347f66772",
   "metadata": {},
   "outputs": [
    {
     "data": {
      "text/plain": [
       "tensor([5])"
      ]
     },
     "execution_count": 123,
     "metadata": {},
     "output_type": "execute_result"
    }
   ],
   "source": [
    "x[:,1,1]"
   ]
  },
  {
   "cell_type": "code",
   "execution_count": 133,
   "id": "912357d3-3a76-422e-90b3-d7295613378f",
   "metadata": {},
   "outputs": [
    {
     "name": "stdout",
     "output_type": "stream",
     "text": [
      "tensor([[0.8823, 0.9150, 0.3829, 0.9593],\n",
      "        [0.3904, 0.6009, 0.2566, 0.7936],\n",
      "        [0.9408, 0.1332, 0.9346, 0.5936]])\n",
      "\n",
      "\n",
      "tensor([[0.8694, 0.5677, 0.7411, 0.4294],\n",
      "        [0.8854, 0.5739, 0.2666, 0.6274],\n",
      "        [0.2696, 0.4414, 0.2969, 0.8317]])\n"
     ]
    }
   ],
   "source": [
    "torch.manual_seed(42)\n",
    "x = torch.rand(3,4)\n",
    "y = torch.rand(3,4)\n",
    "print(x)\n",
    "print('\\n')\n",
    "print(y)"
   ]
  },
  {
   "cell_type": "code",
   "execution_count": 134,
   "id": "3d610734-330c-4023-9913-4981348673a9",
   "metadata": {},
   "outputs": [],
   "source": [
    "import numpy as np"
   ]
  },
  {
   "cell_type": "code",
   "execution_count": 135,
   "id": "12e26eef-9b2b-4b81-b1a4-7c0de0097b2d",
   "metadata": {},
   "outputs": [
    {
     "data": {
      "text/plain": [
       "array([1., 2., 3., 4., 5., 6., 7.])"
      ]
     },
     "execution_count": 135,
     "metadata": {},
     "output_type": "execute_result"
    }
   ],
   "source": [
    "array = np.arange(1.0,8.0)\n",
    "array"
   ]
  },
  {
   "cell_type": "code",
   "execution_count": 141,
   "id": "f128aaee-911c-4487-8319-aadc15982c7f",
   "metadata": {},
   "outputs": [
    {
     "data": {
      "text/plain": [
       "tensor([1., 2., 3., 4., 5., 6., 7.], device='cuda:0')"
      ]
     },
     "execution_count": 141,
     "metadata": {},
     "output_type": "execute_result"
    }
   ],
   "source": [
    "tensor = torch.from_numpy(array).type(torch.float32).to('cuda')\n",
    "tensor"
   ]
  },
  {
   "cell_type": "code",
   "execution_count": 143,
   "id": "ff0fee46-a401-413f-ad43-0c4f50b88a5f",
   "metadata": {},
   "outputs": [
    {
     "data": {
      "text/plain": [
       "array([1., 1., 1., 1., 1., 1., 1., 1., 1., 1.], dtype=float32)"
      ]
     },
     "execution_count": 143,
     "metadata": {},
     "output_type": "execute_result"
    }
   ],
   "source": [
    "tensor = torch.ones(10)\n",
    "array = tensor.numpy()\n",
    "array"
   ]
  },
  {
   "cell_type": "code",
   "execution_count": 144,
   "id": "5b7163fa-9e67-4034-ac0d-ea3cebac1b9a",
   "metadata": {},
   "outputs": [
    {
     "data": {
      "text/plain": [
       "(tensor([2., 2., 2., 2., 2., 2., 2., 2., 2., 2.]),\n",
       " array([1., 1., 1., 1., 1., 1., 1., 1., 1., 1.], dtype=float32))"
      ]
     },
     "execution_count": 144,
     "metadata": {},
     "output_type": "execute_result"
    }
   ],
   "source": [
    "tensor = tensor + 1\n",
    "tensor, array"
   ]
  },
  {
   "cell_type": "code",
   "execution_count": 151,
   "id": "c4a67c03-6d51-424d-a3da-5208e2bf522c",
   "metadata": {},
   "outputs": [
    {
     "data": {
      "text/plain": [
       "tensor([[0.6790, 0.9155, 0.2418],\n",
       "        [0.1591, 0.7653, 0.2979],\n",
       "        [0.8035, 0.3813, 0.7860]])"
      ]
     },
     "execution_count": 151,
     "metadata": {},
     "output_type": "execute_result"
    }
   ],
   "source": [
    "torch.rand(3,3)\n"
   ]
  },
  {
   "cell_type": "markdown",
   "id": "54e866b4-c2e9-4c54-960f-caeef9d1405e",
   "metadata": {},
   "source": [
    "# Check for GPU access with PyTorch"
   ]
  },
  {
   "cell_type": "code",
   "execution_count": 152,
   "id": "3f24668b-b688-4586-8c4e-43b7a9587689",
   "metadata": {},
   "outputs": [
    {
     "data": {
      "text/plain": [
       "True"
      ]
     },
     "execution_count": 152,
     "metadata": {},
     "output_type": "execute_result"
    }
   ],
   "source": [
    "import torch\n",
    "torch.cuda.is_available()"
   ]
  },
  {
   "cell_type": "code",
   "execution_count": 159,
   "id": "5f3cb5b8-89d8-4f25-ab47-d318caebad58",
   "metadata": {},
   "outputs": [
    {
     "data": {
      "text/plain": [
       "'cuda'"
      ]
     },
     "execution_count": 159,
     "metadata": {},
     "output_type": "execute_result"
    }
   ],
   "source": [
    "device = 'cuda' if torch.cuda.is_available() else 'cpu'\n",
    "device"
   ]
  },
  {
   "cell_type": "code",
   "execution_count": 154,
   "id": "701dfcf3-de3c-474f-b139-5665127151bd",
   "metadata": {},
   "outputs": [
    {
     "data": {
      "text/plain": [
       "1"
      ]
     },
     "execution_count": 154,
     "metadata": {},
     "output_type": "execute_result"
    }
   ],
   "source": [
    "torch.cuda.device_count()"
   ]
  },
  {
   "cell_type": "code",
   "execution_count": 155,
   "id": "37fedd9a-bcf3-4e3b-af0d-e5024c7d684b",
   "metadata": {},
   "outputs": [],
   "source": [
    "cuda2 = torch.device('cuda:2')"
   ]
  },
  {
   "cell_type": "code",
   "execution_count": 156,
   "id": "782d5ebf-136a-45fa-9742-9966a70296ef",
   "metadata": {},
   "outputs": [
    {
     "data": {
      "text/plain": [
       "device(type='cuda', index=2)"
      ]
     },
     "execution_count": 156,
     "metadata": {},
     "output_type": "execute_result"
    }
   ],
   "source": [
    "cuda2"
   ]
  },
  {
   "cell_type": "code",
   "execution_count": 157,
   "id": "8aac53b8-9cfe-47de-a3ec-1ac6eb02ce3c",
   "metadata": {},
   "outputs": [
    {
     "ename": "RuntimeError",
     "evalue": "CUDA error: invalid device ordinal\nCUDA kernel errors might be asynchronously reported at some other API call, so the stacktrace below might be incorrect.\nFor debugging consider passing CUDA_LAUNCH_BLOCKING=1.\nCompile with `TORCH_USE_CUDA_DSA` to enable device-side assertions.\n",
     "output_type": "error",
     "traceback": [
      "\u001b[1;31m---------------------------------------------------------------------------\u001b[0m",
      "\u001b[1;31mRuntimeError\u001b[0m                              Traceback (most recent call last)",
      "Cell \u001b[1;32mIn[157], line 10\u001b[0m\n\u001b[0;32m      7\u001b[0m y \u001b[38;5;241m=\u001b[39m torch\u001b[38;5;241m.\u001b[39mtensor([\u001b[38;5;241m1.\u001b[39m, \u001b[38;5;241m2.\u001b[39m])\u001b[38;5;241m.\u001b[39mcuda()\n\u001b[0;32m      8\u001b[0m \u001b[38;5;66;03m# y.device is device(type='cuda', index=0)\u001b[39;00m\n\u001b[1;32m---> 10\u001b[0m \u001b[38;5;28;01mwith\u001b[39;00m torch\u001b[38;5;241m.\u001b[39mcuda\u001b[38;5;241m.\u001b[39mdevice(\u001b[38;5;241m1\u001b[39m):\n\u001b[0;32m     11\u001b[0m     \u001b[38;5;66;03m# allocates a tensor on GPU 1\u001b[39;00m\n\u001b[0;32m     12\u001b[0m     a \u001b[38;5;241m=\u001b[39m torch\u001b[38;5;241m.\u001b[39mtensor([\u001b[38;5;241m1.\u001b[39m, \u001b[38;5;241m2.\u001b[39m], device\u001b[38;5;241m=\u001b[39mcuda)\n\u001b[0;32m     14\u001b[0m     \u001b[38;5;66;03m# transfers a tensor from CPU to GPU 1\u001b[39;00m\n",
      "File \u001b[1;32m~\\anaconda3\\envs\\tf\\lib\\site-packages\\torch\\cuda\\__init__.py:374\u001b[0m, in \u001b[0;36mdevice.__enter__\u001b[1;34m(self)\u001b[0m\n\u001b[0;32m    373\u001b[0m \u001b[38;5;28;01mdef\u001b[39;00m \u001b[38;5;21m__enter__\u001b[39m(\u001b[38;5;28mself\u001b[39m):\n\u001b[1;32m--> 374\u001b[0m     \u001b[38;5;28mself\u001b[39m\u001b[38;5;241m.\u001b[39mprev_idx \u001b[38;5;241m=\u001b[39m \u001b[43mtorch\u001b[49m\u001b[38;5;241;43m.\u001b[39;49m\u001b[43mcuda\u001b[49m\u001b[38;5;241;43m.\u001b[39;49m\u001b[43m_exchange_device\u001b[49m\u001b[43m(\u001b[49m\u001b[38;5;28;43mself\u001b[39;49m\u001b[38;5;241;43m.\u001b[39;49m\u001b[43midx\u001b[49m\u001b[43m)\u001b[49m\n",
      "\u001b[1;31mRuntimeError\u001b[0m: CUDA error: invalid device ordinal\nCUDA kernel errors might be asynchronously reported at some other API call, so the stacktrace below might be incorrect.\nFor debugging consider passing CUDA_LAUNCH_BLOCKING=1.\nCompile with `TORCH_USE_CUDA_DSA` to enable device-side assertions.\n"
     ]
    }
   ],
   "source": [
    "cuda = torch.device('cuda')     # Default CUDA device\n",
    "cuda0 = torch.device('cuda:0')\n",
    "cuda2 = torch.device('cuda:2')  # GPU 2 (these are 0-indexed)\n",
    "\n",
    "x = torch.tensor([1., 2.], device=cuda0)\n",
    "# x.device is device(type='cuda', index=0)\n",
    "y = torch.tensor([1., 2.]).cuda()\n",
    "# y.device is device(type='cuda', index=0)\n",
    "\n",
    "with torch.cuda.device(1):\n",
    "    # allocates a tensor on GPU 1\n",
    "    a = torch.tensor([1., 2.], device=cuda)\n",
    "\n",
    "    # transfers a tensor from CPU to GPU 1\n",
    "    b = torch.tensor([1., 2.]).cuda()\n",
    "    # a.device and b.device are device(type='cuda', index=1)\n",
    "\n",
    "    # You can also use ``Tensor.to`` to transfer a tensor:\n",
    "    b2 = torch.tensor([1., 2.]).to(device=cuda)\n",
    "    # b.device and b2.device are device(type='cuda', index=1)\n",
    "\n",
    "    c = a + b\n",
    "    # c.device is device(type='cuda', index=1)\n",
    "\n",
    "    z = x + y\n",
    "    # z.device is device(type='cuda', index=0)\n",
    "\n",
    "    # even within a context, you can specify the device\n",
    "    # (or give a GPU index to the .cuda call)\n",
    "    d = torch.randn(2, device=cuda2)\n",
    "    e = torch.randn(2).to(cuda2)\n",
    "    f = torch.randn(2).cuda(cuda2)"
   ]
  },
  {
   "cell_type": "code",
   "execution_count": 158,
   "id": "aa82991e-6bb9-485e-968b-f15774c218f9",
   "metadata": {},
   "outputs": [
    {
     "name": "stderr",
     "output_type": "stream",
     "text": [
      "usage: ipykernel_launcher.py [-h] [--disable-cuda]\n",
      "ipykernel_launcher.py: error: unrecognized arguments: -f C:\\Users\\Nihar\\AppData\\Roaming\\jupyter\\runtime\\kernel-96c5d2e0-0ebe-44d0-97d0-9bd893194a1e.json\n"
     ]
    },
    {
     "ename": "SystemExit",
     "evalue": "2",
     "output_type": "error",
     "traceback": [
      "An exception has occurred, use %tb to see the full traceback.\n",
      "\u001b[1;31mSystemExit\u001b[0m\u001b[1;31m:\u001b[0m 2\n"
     ]
    },
    {
     "name": "stderr",
     "output_type": "stream",
     "text": [
      "C:\\Users\\Nihar\\anaconda3\\envs\\tf\\lib\\site-packages\\IPython\\core\\interactiveshell.py:3534: UserWarning: To exit: use 'exit', 'quit', or Ctrl-D.\n",
      "  warn(\"To exit: use 'exit', 'quit', or Ctrl-D.\", stacklevel=1)\n"
     ]
    }
   ],
   "source": [
    "import argparse\n",
    "import torch\n",
    "\n",
    "parser = argparse.ArgumentParser(description= 'Pytorch Example')\n",
    "parser.add_argument('--disable-cuda', action = 'store_true',\n",
    "                    help = 'Disable CUDA')\n",
    "args = parser.parse_args()\n",
    "args.device = None\n",
    "if not args.disable_cuda and torch.cuda.is_available():\n",
    "    args.device= torch.device('cuda')\n",
    "\n",
    "else:\n",
    "    args.device= torch.device('cpu')"
   ]
  },
  {
   "cell_type": "code",
   "execution_count": 160,
   "id": "fb6956c0-e366-4f67-a624-f34b901c56f5",
   "metadata": {},
   "outputs": [
    {
     "name": "stdout",
     "output_type": "stream",
     "text": [
      "tensor([1, 2, 3]) cpu\n"
     ]
    }
   ],
   "source": [
    "tensor = torch.tensor([1, 2, 3])\n",
    "\n",
    "print(tensor, tensor.device)"
   ]
  },
  {
   "cell_type": "code",
   "execution_count": 161,
   "id": "9537a2a1-1d1f-4f69-9fcf-ed01634d375a",
   "metadata": {},
   "outputs": [
    {
     "data": {
      "text/plain": [
       "tensor([1, 2, 3], device='cuda:0')"
      ]
     },
     "execution_count": 161,
     "metadata": {},
     "output_type": "execute_result"
    }
   ],
   "source": [
    "device = 'cuda' if torch.cuda.is_available() else 'cpu'\n",
    "tensor_to_gpu = tensor.to(device)\n",
    "tensor_to_gpu"
   ]
  },
  {
   "cell_type": "code",
   "execution_count": 162,
   "id": "a9415ebc-c157-4ab4-a7e9-ea2d075c4337",
   "metadata": {},
   "outputs": [
    {
     "ename": "TypeError",
     "evalue": "can't convert cuda:0 device type tensor to numpy. Use Tensor.cpu() to copy the tensor to host memory first.",
     "output_type": "error",
     "traceback": [
      "\u001b[1;31m---------------------------------------------------------------------------\u001b[0m",
      "\u001b[1;31mTypeError\u001b[0m                                 Traceback (most recent call last)",
      "Cell \u001b[1;32mIn[162], line 1\u001b[0m\n\u001b[1;32m----> 1\u001b[0m \u001b[43mtensor_to_gpu\u001b[49m\u001b[38;5;241;43m.\u001b[39;49m\u001b[43mnumpy\u001b[49m\u001b[43m(\u001b[49m\u001b[43m)\u001b[49m\n",
      "\u001b[1;31mTypeError\u001b[0m: can't convert cuda:0 device type tensor to numpy. Use Tensor.cpu() to copy the tensor to host memory first."
     ]
    }
   ],
   "source": [
    "tensor_to_gpu.numpy()"
   ]
  },
  {
   "cell_type": "code",
   "execution_count": 164,
   "id": "36f902e0-9a67-4275-a54b-cd0060100b87",
   "metadata": {},
   "outputs": [
    {
     "data": {
      "text/plain": [
       "array([1, 2, 3], dtype=int64)"
      ]
     },
     "execution_count": 164,
     "metadata": {},
     "output_type": "execute_result"
    }
   ],
   "source": [
    "tensor_to_gpu.cpu().numpy()"
   ]
  },
  {
   "cell_type": "code",
   "execution_count": null,
   "id": "5865bf77-1fc2-43d4-ab84-4c748a8b8c85",
   "metadata": {},
   "outputs": [],
   "source": []
  }
 ],
 "metadata": {
  "kernelspec": {
   "display_name": "Python 3 (ipykernel)",
   "language": "python",
   "name": "python3"
  },
  "language_info": {
   "codemirror_mode": {
    "name": "ipython",
    "version": 3
   },
   "file_extension": ".py",
   "mimetype": "text/x-python",
   "name": "python",
   "nbconvert_exporter": "python",
   "pygments_lexer": "ipython3",
   "version": "3.9.18"
  }
 },
 "nbformat": 4,
 "nbformat_minor": 5
}
