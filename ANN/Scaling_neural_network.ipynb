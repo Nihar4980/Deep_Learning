{
 "cells": [
  {
   "cell_type": "code",
   "execution_count": 3,
   "id": "18eca50f",
   "metadata": {},
   "outputs": [],
   "source": [
    "import numpy as np\n",
    "import pandas as pd\n",
    "import seaborn as sns"
   ]
  },
  {
   "cell_type": "code",
   "execution_count": 2,
   "id": "d15595b6",
   "metadata": {},
   "outputs": [
    {
     "data": {
      "text/html": [
       "<div>\n",
       "<style scoped>\n",
       "    .dataframe tbody tr th:only-of-type {\n",
       "        vertical-align: middle;\n",
       "    }\n",
       "\n",
       "    .dataframe tbody tr th {\n",
       "        vertical-align: top;\n",
       "    }\n",
       "\n",
       "    .dataframe thead th {\n",
       "        text-align: right;\n",
       "    }\n",
       "</style>\n",
       "<table border=\"1\" class=\"dataframe\">\n",
       "  <thead>\n",
       "    <tr style=\"text-align: right;\">\n",
       "      <th></th>\n",
       "      <th>Age</th>\n",
       "      <th>EstimatedSalary</th>\n",
       "      <th>Purchased</th>\n",
       "    </tr>\n",
       "  </thead>\n",
       "  <tbody>\n",
       "    <tr>\n",
       "      <th>0</th>\n",
       "      <td>19</td>\n",
       "      <td>19000</td>\n",
       "      <td>0</td>\n",
       "    </tr>\n",
       "    <tr>\n",
       "      <th>1</th>\n",
       "      <td>35</td>\n",
       "      <td>20000</td>\n",
       "      <td>0</td>\n",
       "    </tr>\n",
       "    <tr>\n",
       "      <th>2</th>\n",
       "      <td>26</td>\n",
       "      <td>43000</td>\n",
       "      <td>0</td>\n",
       "    </tr>\n",
       "    <tr>\n",
       "      <th>3</th>\n",
       "      <td>27</td>\n",
       "      <td>57000</td>\n",
       "      <td>0</td>\n",
       "    </tr>\n",
       "    <tr>\n",
       "      <th>4</th>\n",
       "      <td>19</td>\n",
       "      <td>76000</td>\n",
       "      <td>0</td>\n",
       "    </tr>\n",
       "  </tbody>\n",
       "</table>\n",
       "</div>"
      ],
      "text/plain": [
       "   Age  EstimatedSalary  Purchased\n",
       "0   19            19000          0\n",
       "1   35            20000          0\n",
       "2   26            43000          0\n",
       "3   27            57000          0\n",
       "4   19            76000          0"
      ]
     },
     "execution_count": 2,
     "metadata": {},
     "output_type": "execute_result"
    }
   ],
   "source": [
    "df = pd.read_csv('Social_Network_Ads.csv')\n",
    "df = df.iloc[:,2:]\n",
    "df.head()"
   ]
  },
  {
   "cell_type": "code",
   "execution_count": 5,
   "id": "cea67c05",
   "metadata": {},
   "outputs": [
    {
     "data": {
      "text/plain": [
       "<AxesSubplot:xlabel='Age', ylabel='EstimatedSalary'>"
      ]
     },
     "execution_count": 5,
     "metadata": {},
     "output_type": "execute_result"
    },
    {
     "data": {
      "image/png": "[encoded data removed]",
      "text/plain": [
       "<Figure size 432x288 with 1 Axes>"
      ]
     },
     "metadata": {
      "needs_background": "light"
     },
     "output_type": "display_data"
    }
   ],
   "source": [
    "sns.scatterplot(x=df.iloc[:,0],y=df.iloc[:,1])"
   ]
  },
  {
   "cell_type": "code",
   "execution_count": 6,
   "id": "e9031135",
   "metadata": {},
   "outputs": [],
   "source": [
    "X = df.iloc[:,0:2]\n",
    "y = df.iloc[:,-1]"
   ]
  },
  {
   "cell_type": "code",
   "execution_count": 7,
   "id": "e5889c0e",
   "metadata": {},
   "outputs": [],
   "source": [
    "from sklearn.model_selection import train_test_split\n",
    "X_train,X_test,y_train,y_test = train_test_split(X,y,test_size=0.2,random_state=2)"
   ]
  },
  {
   "cell_type": "code",
   "execution_count": 8,
   "id": "ef9445e1",
   "metadata": {},
   "outputs": [],
   "source": [
    "import tensorflow as tf\n",
    "from tensorflow import keras\n",
    "from keras import Sequential\n",
    "from keras.layers import Dense"
   ]
  },
  {
   "cell_type": "code",
   "execution_count": 9,
   "id": "f43568db",
   "metadata": {},
   "outputs": [
    {
     "name": "stdout",
     "output_type": "stream",
     "text": [
      "Model: \"sequential\"\n",
      "_________________________________________________________________\n",
      " Layer (type)                Output Shape              Param #   \n",
      "=================================================================\n",
      " dense (Dense)               (None, 128)               384       \n",
      "                                                                 \n",
      " dense_1 (Dense)             (None, 1)                 129       \n",
      "                                                                 \n",
      "=================================================================\n",
      "Total params: 513\n",
      "Trainable params: 513\n",
      "Non-trainable params: 0\n",
      "_________________________________________________________________\n"
     ]
    }
   ],
   "source": [
    "model = Sequential()\n",
    "\n",
    "model.add(Dense(128,activation='relu',input_dim=2))\n",
    "model.add(Dense(1,activation='sigmoid'))\n",
    "model.summary()"
   ]
  },
  {
   "cell_type": "code",
   "execution_count": 10,
   "id": "90f3ac10",
   "metadata": {},
   "outputs": [],
   "source": [
    "model.compile(optimizer='adam',loss='binary_crossentropy',metrics=['accuracy'])"
   ]
  },
  {
   "cell_type": "code",
   "execution_count": 11,
   "id": "1e61717e",
   "metadata": {},
   "outputs": [
    {
     "name": "stdout",
     "output_type": "stream",
     "text": [
      "Epoch 1/100\n",
      "10/10 [==============================] - 5s 41ms/step - loss: 826.7955 - accuracy: 0.5031 - val_loss: 450.6042 - val_accuracy: 0.4000\n",
      "Epoch 2/100\n",
      "10/10 [==============================] - 0s 12ms/step - loss: 329.7571 - accuracy: 0.6094 - val_loss: 90.1770 - val_accuracy: 0.6000\n",
      "Epoch 3/100\n",
      "10/10 [==============================] - 0s 10ms/step - loss: 223.4940 - accuracy: 0.4281 - val_loss: 310.3998 - val_accuracy: 0.6000\n",
      "Epoch 4/100\n",
      "10/10 [==============================] - 0s 10ms/step - loss: 171.1926 - accuracy: 0.4969 - val_loss: 84.0323 - val_accuracy: 0.6000\n",
      "Epoch 5/100\n",
      "10/10 [==============================] - 0s 10ms/step - loss: 56.4336 - accuracy: 0.5344 - val_loss: 36.9357 - val_accuracy: 0.6000\n",
      "Epoch 6/100\n",
      "10/10 [==============================] - 0s 10ms/step - loss: 36.2553 - accuracy: 0.5031 - val_loss: 61.4880 - val_accuracy: 0.6000\n",
      "Epoch 7/100\n",
      "10/10 [==============================] - 0s 10ms/step - loss: 66.1048 - accuracy: 0.5469 - val_loss: 34.1950 - val_accuracy: 0.6000\n",
      "Epoch 8/100\n",
      "10/10 [==============================] - 0s 8ms/step - loss: 57.8615 - accuracy: 0.5156 - val_loss: 23.5611 - val_accuracy: 0.4000\n",
      "Epoch 9/100\n",
      "10/10 [==============================] - 0s 12ms/step - loss: 96.5988 - accuracy: 0.4844 - val_loss: 45.9561 - val_accuracy: 0.6000\n",
      "Epoch 10/100\n",
      "10/10 [==============================] - 0s 16ms/step - loss: 64.7698 - accuracy: 0.6125 - val_loss: 60.0431 - val_accuracy: 0.6000\n",
      "Epoch 11/100\n",
      "10/10 [==============================] - 0s 13ms/step - loss: 31.4254 - accuracy: 0.5469 - val_loss: 57.9511 - val_accuracy: 0.4000\n",
      "Epoch 12/100\n",
      "10/10 [==============================] - 0s 10ms/step - loss: 53.2395 - accuracy: 0.4812 - val_loss: 67.1460 - val_accuracy: 0.6000\n",
      "Epoch 13/100\n",
      "10/10 [==============================] - 0s 11ms/step - loss: 62.8114 - accuracy: 0.5719 - val_loss: 74.3642 - val_accuracy: 0.6000\n",
      "Epoch 14/100\n",
      "10/10 [==============================] - 0s 11ms/step - loss: 26.2872 - accuracy: 0.5312 - val_loss: 94.9291 - val_accuracy: 0.4000\n",
      "Epoch 15/100\n",
      "10/10 [==============================] - 0s 10ms/step - loss: 66.7706 - accuracy: 0.4594 - val_loss: 91.7759 - val_accuracy: 0.6000\n",
      "Epoch 16/100\n",
      "10/10 [==============================] - 0s 11ms/step - loss: 63.9581 - accuracy: 0.5750 - val_loss: 43.3153 - val_accuracy: 0.6000\n",
      "Epoch 17/100\n",
      "10/10 [==============================] - 0s 9ms/step - loss: 69.0304 - accuracy: 0.5094 - val_loss: 50.4494 - val_accuracy: 0.4000\n",
      "Epoch 18/100\n",
      "10/10 [==============================] - 0s 11ms/step - loss: 49.2014 - accuracy: 0.5719 - val_loss: 34.0796 - val_accuracy: 0.6000\n",
      "Epoch 19/100\n",
      "10/10 [==============================] - 0s 11ms/step - loss: 24.5702 - accuracy: 0.5531 - val_loss: 47.3132 - val_accuracy: 0.4000\n",
      "Epoch 20/100\n",
      "10/10 [==============================] - 0s 10ms/step - loss: 73.7942 - accuracy: 0.5156 - val_loss: 115.6987 - val_accuracy: 0.4000\n",
      "Epoch 21/100\n",
      "10/10 [==============================] - 0s 10ms/step - loss: 100.0095 - accuracy: 0.5719 - val_loss: 73.0039 - val_accuracy: 0.4000\n",
      "Epoch 22/100\n",
      "10/10 [==============================] - 0s 10ms/step - loss: 89.7379 - accuracy: 0.5219 - val_loss: 16.1541 - val_accuracy: 0.4000\n",
      "Epoch 23/100\n",
      "10/10 [==============================] - 0s 10ms/step - loss: 103.0806 - accuracy: 0.5406 - val_loss: 37.1331 - val_accuracy: 0.4000\n",
      "Epoch 24/100\n",
      "10/10 [==============================] - 0s 10ms/step - loss: 93.6100 - accuracy: 0.4906 - val_loss: 108.1659 - val_accuracy: 0.6000\n",
      "Epoch 25/100\n",
      "10/10 [==============================] - 0s 10ms/step - loss: 96.0140 - accuracy: 0.5219 - val_loss: 69.9186 - val_accuracy: 0.6000\n",
      "Epoch 26/100\n",
      "10/10 [==============================] - 0s 10ms/step - loss: 88.1890 - accuracy: 0.5781 - val_loss: 110.9330 - val_accuracy: 0.6000\n",
      "Epoch 27/100\n",
      "10/10 [==============================] - 0s 10ms/step - loss: 96.1329 - accuracy: 0.5094 - val_loss: 18.7700 - val_accuracy: 0.4000\n",
      "Epoch 28/100\n",
      "10/10 [==============================] - 0s 9ms/step - loss: 35.2856 - accuracy: 0.5219 - val_loss: 93.8818 - val_accuracy: 0.4000\n",
      "Epoch 29/100\n",
      "10/10 [==============================] - 0s 10ms/step - loss: 102.0025 - accuracy: 0.5031 - val_loss: 100.5425 - val_accuracy: 0.4000\n",
      "Epoch 30/100\n",
      "10/10 [==============================] - 0s 9ms/step - loss: 66.3588 - accuracy: 0.4750 - val_loss: 141.7328 - val_accuracy: 0.6000\n",
      "Epoch 31/100\n",
      "10/10 [==============================] - 0s 9ms/step - loss: 94.2426 - accuracy: 0.5031 - val_loss: 93.0435 - val_accuracy: 0.6000\n",
      "Epoch 32/100\n",
      "10/10 [==============================] - 0s 10ms/step - loss: 44.7633 - accuracy: 0.4844 - val_loss: 31.3760 - val_accuracy: 0.6000\n",
      "Epoch 33/100\n",
      "10/10 [==============================] - 0s 10ms/step - loss: 37.0665 - accuracy: 0.4688 - val_loss: 132.3046 - val_accuracy: 0.6000\n",
      "Epoch 34/100\n",
      "10/10 [==============================] - 0s 10ms/step - loss: 93.1339 - accuracy: 0.5469 - val_loss: 128.7102 - val_accuracy: 0.6000\n",
      "Epoch 35/100\n",
      "10/10 [==============================] - 0s 10ms/step - loss: 59.6571 - accuracy: 0.5813 - val_loss: 44.8004 - val_accuracy: 0.4000\n",
      "Epoch 36/100\n",
      "10/10 [==============================] - 0s 10ms/step - loss: 49.6985 - accuracy: 0.5188 - val_loss: 54.5367 - val_accuracy: 0.6000\n",
      "Epoch 37/100\n",
      "10/10 [==============================] - 0s 8ms/step - loss: 26.1776 - accuracy: 0.5344 - val_loss: 1.9749 - val_accuracy: 0.6000\n",
      "Epoch 38/100\n",
      "10/10 [==============================] - 0s 11ms/step - loss: 43.2752 - accuracy: 0.4969 - val_loss: 82.1670 - val_accuracy: 0.6000\n",
      "Epoch 39/100\n",
      "10/10 [==============================] - 0s 10ms/step - loss: 32.0080 - accuracy: 0.5000 - val_loss: 9.0850 - val_accuracy: 0.3875\n",
      "Epoch 40/100\n",
      "10/10 [==============================] - 0s 10ms/step - loss: 71.2392 - accuracy: 0.4938 - val_loss: 191.6542 - val_accuracy: 0.6000\n",
      "Epoch 41/100\n",
      "10/10 [==============================] - 0s 9ms/step - loss: 74.0390 - accuracy: 0.5719 - val_loss: 64.9201 - val_accuracy: 0.4000\n",
      "Epoch 42/100\n",
      "10/10 [==============================] - 0s 10ms/step - loss: 31.9375 - accuracy: 0.4969 - val_loss: 50.2607 - val_accuracy: 0.6000\n",
      "Epoch 43/100\n",
      "10/10 [==============================] - 0s 11ms/step - loss: 86.8687 - accuracy: 0.5312 - val_loss: 46.2163 - val_accuracy: 0.4000\n",
      "Epoch 44/100\n",
      "10/10 [==============================] - 0s 9ms/step - loss: 79.3502 - accuracy: 0.5031 - val_loss: 127.9184 - val_accuracy: 0.4000\n",
      "Epoch 45/100\n",
      "10/10 [==============================] - 0s 10ms/step - loss: 82.9340 - accuracy: 0.4906 - val_loss: 15.3402 - val_accuracy: 0.6000\n",
      "Epoch 46/100\n",
      "10/10 [==============================] - 0s 13ms/step - loss: 30.3996 - accuracy: 0.5219 - val_loss: 46.1671 - val_accuracy: 0.6000\n",
      "Epoch 47/100\n",
      "10/10 [==============================] - 0s 12ms/step - loss: 66.0989 - accuracy: 0.5156 - val_loss: 111.4154 - val_accuracy: 0.4000\n",
      "Epoch 48/100\n",
      "10/10 [==============================] - 0s 9ms/step - loss: 41.9184 - accuracy: 0.5156 - val_loss: 60.4662 - val_accuracy: 0.4000\n",
      "Epoch 49/100\n",
      "10/10 [==============================] - 0s 10ms/step - loss: 54.8410 - accuracy: 0.4844 - val_loss: 77.9544 - val_accuracy: 0.6000\n",
      "Epoch 50/100\n",
      "10/10 [==============================] - 0s 9ms/step - loss: 61.3899 - accuracy: 0.5250 - val_loss: 55.1623 - val_accuracy: 0.4000\n",
      "Epoch 51/100\n",
      "10/10 [==============================] - 0s 9ms/step - loss: 37.7285 - accuracy: 0.5406 - val_loss: 48.5687 - val_accuracy: 0.4000\n",
      "Epoch 52/100\n",
      "10/10 [==============================] - 0s 11ms/step - loss: 33.5528 - accuracy: 0.4656 - val_loss: 62.2960 - val_accuracy: 0.6000\n",
      "Epoch 53/100\n",
      "10/10 [==============================] - 0s 9ms/step - loss: 54.9795 - accuracy: 0.6031 - val_loss: 44.7624 - val_accuracy: 0.6000\n",
      "Epoch 54/100\n",
      "10/10 [==============================] - 0s 10ms/step - loss: 26.7688 - accuracy: 0.5375 - val_loss: 58.5563 - val_accuracy: 0.6000\n",
      "Epoch 55/100\n",
      "10/10 [==============================] - 0s 9ms/step - loss: 31.6305 - accuracy: 0.5469 - val_loss: 43.6870 - val_accuracy: 0.6000\n",
      "Epoch 56/100\n",
      "10/10 [==============================] - 0s 10ms/step - loss: 35.8110 - accuracy: 0.4938 - val_loss: 1.4194 - val_accuracy: 0.6125\n",
      "Epoch 57/100\n"
     ]
    },
    {
     "name": "stdout",
     "output_type": "stream",
     "text": [
      "10/10 [==============================] - 0s 9ms/step - loss: 32.3772 - accuracy: 0.5594 - val_loss: 30.4514 - val_accuracy: 0.4000\n",
      "Epoch 58/100\n",
      "10/10 [==============================] - 0s 9ms/step - loss: 36.1714 - accuracy: 0.4875 - val_loss: 20.9634 - val_accuracy: 0.6000\n",
      "Epoch 59/100\n",
      "10/10 [==============================] - 0s 9ms/step - loss: 29.5721 - accuracy: 0.5406 - val_loss: 4.8301 - val_accuracy: 0.3750\n",
      "Epoch 60/100\n",
      "10/10 [==============================] - 0s 9ms/step - loss: 21.8648 - accuracy: 0.4938 - val_loss: 64.3754 - val_accuracy: 0.6000\n",
      "Epoch 61/100\n",
      "10/10 [==============================] - 0s 10ms/step - loss: 42.1667 - accuracy: 0.5594 - val_loss: 14.5030 - val_accuracy: 0.4000\n",
      "Epoch 62/100\n",
      "10/10 [==============================] - 0s 9ms/step - loss: 41.8479 - accuracy: 0.5375 - val_loss: 29.4401 - val_accuracy: 0.6000\n",
      "Epoch 63/100\n",
      "10/10 [==============================] - 0s 9ms/step - loss: 35.0039 - accuracy: 0.5531 - val_loss: 3.4336 - val_accuracy: 0.6000\n",
      "Epoch 64/100\n",
      "10/10 [==============================] - 0s 8ms/step - loss: 126.1764 - accuracy: 0.5469 - val_loss: 66.5040 - val_accuracy: 0.6000\n",
      "Epoch 65/100\n",
      "10/10 [==============================] - 0s 10ms/step - loss: 83.0088 - accuracy: 0.4781 - val_loss: 48.6691 - val_accuracy: 0.4000\n",
      "Epoch 66/100\n",
      "10/10 [==============================] - 0s 9ms/step - loss: 32.9280 - accuracy: 0.4844 - val_loss: 41.5692 - val_accuracy: 0.6000\n",
      "Epoch 67/100\n",
      "10/10 [==============================] - 0s 9ms/step - loss: 29.7879 - accuracy: 0.5531 - val_loss: 73.3530 - val_accuracy: 0.4000\n",
      "Epoch 68/100\n",
      "10/10 [==============================] - 0s 8ms/step - loss: 80.8671 - accuracy: 0.4844 - val_loss: 71.6691 - val_accuracy: 0.4000\n",
      "Epoch 69/100\n",
      "10/10 [==============================] - 0s 9ms/step - loss: 53.3767 - accuracy: 0.5281 - val_loss: 22.4569 - val_accuracy: 0.6000\n",
      "Epoch 70/100\n",
      "10/10 [==============================] - 0s 11ms/step - loss: 65.0301 - accuracy: 0.4656 - val_loss: 19.9233 - val_accuracy: 0.6000\n",
      "Epoch 71/100\n",
      "10/10 [==============================] - 0s 9ms/step - loss: 26.1733 - accuracy: 0.5344 - val_loss: 40.3149 - val_accuracy: 0.6000\n",
      "Epoch 72/100\n",
      "10/10 [==============================] - 0s 10ms/step - loss: 72.8712 - accuracy: 0.5781 - val_loss: 112.3146 - val_accuracy: 0.4000\n",
      "Epoch 73/100\n",
      "10/10 [==============================] - 0s 9ms/step - loss: 182.5729 - accuracy: 0.4656 - val_loss: 170.2574 - val_accuracy: 0.6000\n",
      "Epoch 74/100\n",
      "10/10 [==============================] - 0s 8ms/step - loss: 138.5410 - accuracy: 0.4906 - val_loss: 72.2139 - val_accuracy: 0.6000\n",
      "Epoch 75/100\n",
      "10/10 [==============================] - 0s 9ms/step - loss: 45.1986 - accuracy: 0.4531 - val_loss: 56.1706 - val_accuracy: 0.6000\n",
      "Epoch 76/100\n",
      "10/10 [==============================] - 0s 9ms/step - loss: 62.9965 - accuracy: 0.5594 - val_loss: 42.5397 - val_accuracy: 0.4000\n",
      "Epoch 77/100\n",
      "10/10 [==============================] - 0s 10ms/step - loss: 35.9721 - accuracy: 0.5156 - val_loss: 66.6856 - val_accuracy: 0.4000\n",
      "Epoch 78/100\n",
      "10/10 [==============================] - 0s 8ms/step - loss: 70.3396 - accuracy: 0.4469 - val_loss: 13.9742 - val_accuracy: 0.6000\n",
      "Epoch 79/100\n",
      "10/10 [==============================] - 0s 10ms/step - loss: 26.3346 - accuracy: 0.5656 - val_loss: 61.8208 - val_accuracy: 0.6000\n",
      "Epoch 80/100\n",
      "10/10 [==============================] - 0s 10ms/step - loss: 60.4272 - accuracy: 0.5719 - val_loss: 61.6111 - val_accuracy: 0.4000\n",
      "Epoch 81/100\n",
      "10/10 [==============================] - 0s 9ms/step - loss: 30.8345 - accuracy: 0.4781 - val_loss: 18.2298 - val_accuracy: 0.4000\n",
      "Epoch 82/100\n",
      "10/10 [==============================] - 0s 9ms/step - loss: 12.7194 - accuracy: 0.5312 - val_loss: 12.0941 - val_accuracy: 0.6000\n",
      "Epoch 83/100\n",
      "10/10 [==============================] - 0s 9ms/step - loss: 35.5587 - accuracy: 0.5031 - val_loss: 58.6813 - val_accuracy: 0.6000\n",
      "Epoch 84/100\n",
      "10/10 [==============================] - 0s 8ms/step - loss: 38.6584 - accuracy: 0.4844 - val_loss: 153.1748 - val_accuracy: 0.6000\n",
      "Epoch 85/100\n",
      "10/10 [==============================] - 0s 9ms/step - loss: 122.5411 - accuracy: 0.5156 - val_loss: 249.2828 - val_accuracy: 0.6000\n",
      "Epoch 86/100\n",
      "10/10 [==============================] - 0s 11ms/step - loss: 149.9283 - accuracy: 0.5094 - val_loss: 83.8021 - val_accuracy: 0.6000\n",
      "Epoch 87/100\n",
      "10/10 [==============================] - 0s 9ms/step - loss: 70.1659 - accuracy: 0.5531 - val_loss: 56.5993 - val_accuracy: 0.6000\n",
      "Epoch 88/100\n",
      "10/10 [==============================] - 0s 10ms/step - loss: 38.9978 - accuracy: 0.5281 - val_loss: 31.4687 - val_accuracy: 0.6000\n",
      "Epoch 89/100\n",
      "10/10 [==============================] - 0s 9ms/step - loss: 31.8976 - accuracy: 0.5344 - val_loss: 110.8725 - val_accuracy: 0.6000\n",
      "Epoch 90/100\n",
      "10/10 [==============================] - 0s 10ms/step - loss: 94.2573 - accuracy: 0.5344 - val_loss: 263.4544 - val_accuracy: 0.6000\n",
      "Epoch 91/100\n",
      "10/10 [==============================] - 0s 10ms/step - loss: 101.6405 - accuracy: 0.4875 - val_loss: 21.4879 - val_accuracy: 0.6000\n",
      "Epoch 92/100\n",
      "10/10 [==============================] - 0s 9ms/step - loss: 41.2371 - accuracy: 0.5281 - val_loss: 189.5304 - val_accuracy: 0.6000\n",
      "Epoch 93/100\n",
      "10/10 [==============================] - 0s 9ms/step - loss: 95.5221 - accuracy: 0.5844 - val_loss: 110.9727 - val_accuracy: 0.6000\n",
      "Epoch 94/100\n",
      "10/10 [==============================] - 0s 10ms/step - loss: 90.9013 - accuracy: 0.5469 - val_loss: 109.9060 - val_accuracy: 0.6000\n",
      "Epoch 95/100\n",
      "10/10 [==============================] - 0s 9ms/step - loss: 88.0969 - accuracy: 0.5281 - val_loss: 188.4585 - val_accuracy: 0.6000\n",
      "Epoch 96/100\n",
      "10/10 [==============================] - 0s 11ms/step - loss: 121.3830 - accuracy: 0.5031 - val_loss: 241.9908 - val_accuracy: 0.6000\n",
      "Epoch 97/100\n",
      "10/10 [==============================] - 0s 9ms/step - loss: 122.6578 - accuracy: 0.5406 - val_loss: 73.8183 - val_accuracy: 0.6000\n",
      "Epoch 98/100\n",
      "10/10 [==============================] - 0s 8ms/step - loss: 118.0914 - accuracy: 0.5281 - val_loss: 7.8356 - val_accuracy: 0.3875\n",
      "Epoch 99/100\n",
      "10/10 [==============================] - 0s 9ms/step - loss: 156.3526 - accuracy: 0.5781 - val_loss: 200.8587 - val_accuracy: 0.4000\n",
      "Epoch 100/100\n",
      "10/10 [==============================] - 0s 9ms/step - loss: 205.7986 - accuracy: 0.5406 - val_loss: 24.8804 - val_accuracy: 0.4000\n"
     ]
    }
   ],
   "source": [
    "history = model.fit(X_train,y_train,validation_data=(X_test,y_test),epochs=100)"
   ]
  },
  {
   "cell_type": "code",
   "execution_count": 12,
   "id": "5208fe41",
   "metadata": {},
   "outputs": [
    {
     "data": {
      "text/plain": [
       "[<matplotlib.lines.Line2D at 0x2273e7d1dc0>]"
      ]
     },
     "execution_count": 12,
     "metadata": {},
     "output_type": "execute_result"
    },
    {
     "data": {
      "image/png": "[encoded data removed]",
      "text/plain": [
       "<Figure size 432x288 with 1 Axes>"
      ]
     },
     "metadata": {
      "needs_background": "light"
     },
     "output_type": "display_data"
    }
   ],
   "source": [
    "import matplotlib.pyplot as plt\n",
    "plt.plot(history.history['val_accuracy'])"
   ]
  },
  {
   "cell_type": "markdown",
   "id": "e36f855a",
   "metadata": {},
   "source": [
    "# Applying scaling"
   ]
  },
  {
   "cell_type": "code",
   "execution_count": 13,
   "id": "d8ecf8d7",
   "metadata": {},
   "outputs": [],
   "source": [
    "from sklearn.preprocessing import StandardScaler\n",
    "scaler = StandardScaler()\n",
    "\n",
    "X_train_scaled = scaler.fit_transform(X_train)\n",
    "X_test_scaled = scaler.transform(X_test)"
   ]
  },
  {
   "cell_type": "code",
   "execution_count": 14,
   "id": "2e20b017",
   "metadata": {},
   "outputs": [
    {
     "data": {
      "text/plain": [
       "<AxesSubplot:>"
      ]
     },
     "execution_count": 14,
     "metadata": {},
     "output_type": "execute_result"
    },
    {
     "data": {
      "image/png": "[encoded data removed]",
      "text/plain": [
       "<Figure size 432x288 with 1 Axes>"
      ]
     },
     "metadata": {
      "needs_background": "light"
     },
     "output_type": "display_data"
    }
   ],
   "source": [
    "sns.scatterplot(x=X_train_scaled[:,0],y=X_train_scaled[:,1])"
   ]
  },
  {
   "cell_type": "code",
   "execution_count": 15,
   "id": "ae9d7a7e",
   "metadata": {},
   "outputs": [
    {
     "name": "stdout",
     "output_type": "stream",
     "text": [
      "Epoch 1/100\n",
      "10/10 [==============================] - 1s 26ms/step - loss: 0.6526 - accuracy: 0.7156 - val_loss: 0.6130 - val_accuracy: 0.8125\n",
      "Epoch 2/100\n",
      "10/10 [==============================] - 0s 10ms/step - loss: 0.5953 - accuracy: 0.7844 - val_loss: 0.5575 - val_accuracy: 0.7875\n",
      "Epoch 3/100\n",
      "10/10 [==============================] - 0s 10ms/step - loss: 0.5476 - accuracy: 0.8406 - val_loss: 0.5105 - val_accuracy: 0.7875\n",
      "Epoch 4/100\n",
      "10/10 [==============================] - 0s 10ms/step - loss: 0.5072 - accuracy: 0.8469 - val_loss: 0.4719 - val_accuracy: 0.8000\n",
      "Epoch 5/100\n",
      "10/10 [==============================] - 0s 10ms/step - loss: 0.4724 - accuracy: 0.8438 - val_loss: 0.4400 - val_accuracy: 0.8000\n",
      "Epoch 6/100\n",
      "10/10 [==============================] - 0s 11ms/step - loss: 0.4431 - accuracy: 0.8469 - val_loss: 0.4119 - val_accuracy: 0.8125\n",
      "Epoch 7/100\n",
      "10/10 [==============================] - 0s 10ms/step - loss: 0.4175 - accuracy: 0.8469 - val_loss: 0.3904 - val_accuracy: 0.8125\n",
      "Epoch 8/100\n",
      "10/10 [==============================] - 0s 9ms/step - loss: 0.3958 - accuracy: 0.8531 - val_loss: 0.3731 - val_accuracy: 0.8250\n",
      "Epoch 9/100\n",
      "10/10 [==============================] - 0s 10ms/step - loss: 0.3774 - accuracy: 0.8719 - val_loss: 0.3579 - val_accuracy: 0.8375\n",
      "Epoch 10/100\n",
      "10/10 [==============================] - 0s 10ms/step - loss: 0.3611 - accuracy: 0.8781 - val_loss: 0.3458 - val_accuracy: 0.8375\n",
      "Epoch 11/100\n",
      "10/10 [==============================] - 0s 10ms/step - loss: 0.3471 - accuracy: 0.8781 - val_loss: 0.3350 - val_accuracy: 0.8375\n",
      "Epoch 12/100\n",
      "10/10 [==============================] - 0s 10ms/step - loss: 0.3348 - accuracy: 0.8813 - val_loss: 0.3278 - val_accuracy: 0.8250\n",
      "Epoch 13/100\n",
      "10/10 [==============================] - 0s 9ms/step - loss: 0.3240 - accuracy: 0.8875 - val_loss: 0.3212 - val_accuracy: 0.8250\n",
      "Epoch 14/100\n",
      "10/10 [==============================] - 0s 11ms/step - loss: 0.3153 - accuracy: 0.8875 - val_loss: 0.3136 - val_accuracy: 0.8375\n",
      "Epoch 15/100\n",
      "10/10 [==============================] - 0s 9ms/step - loss: 0.3073 - accuracy: 0.8969 - val_loss: 0.3074 - val_accuracy: 0.8500\n",
      "Epoch 16/100\n",
      "10/10 [==============================] - 0s 11ms/step - loss: 0.3004 - accuracy: 0.9000 - val_loss: 0.3031 - val_accuracy: 0.8500\n",
      "Epoch 17/100\n",
      "10/10 [==============================] - 0s 10ms/step - loss: 0.2938 - accuracy: 0.8969 - val_loss: 0.3027 - val_accuracy: 0.8250\n",
      "Epoch 18/100\n",
      "10/10 [==============================] - 0s 9ms/step - loss: 0.2887 - accuracy: 0.8969 - val_loss: 0.2995 - val_accuracy: 0.8375\n",
      "Epoch 19/100\n",
      "10/10 [==============================] - 0s 9ms/step - loss: 0.2840 - accuracy: 0.9031 - val_loss: 0.2967 - val_accuracy: 0.8375\n",
      "Epoch 20/100\n",
      "10/10 [==============================] - 0s 10ms/step - loss: 0.2799 - accuracy: 0.9031 - val_loss: 0.2940 - val_accuracy: 0.8500\n",
      "Epoch 21/100\n",
      "10/10 [==============================] - 0s 12ms/step - loss: 0.2762 - accuracy: 0.8938 - val_loss: 0.2925 - val_accuracy: 0.8625\n",
      "Epoch 22/100\n",
      "10/10 [==============================] - 0s 14ms/step - loss: 0.2730 - accuracy: 0.8969 - val_loss: 0.2879 - val_accuracy: 0.8625\n",
      "Epoch 23/100\n",
      "10/10 [==============================] - 0s 11ms/step - loss: 0.2698 - accuracy: 0.9000 - val_loss: 0.2865 - val_accuracy: 0.8625\n",
      "Epoch 24/100\n",
      "10/10 [==============================] - 0s 10ms/step - loss: 0.2671 - accuracy: 0.9000 - val_loss: 0.2858 - val_accuracy: 0.8625\n",
      "Epoch 25/100\n",
      "10/10 [==============================] - 0s 11ms/step - loss: 0.2646 - accuracy: 0.9000 - val_loss: 0.2842 - val_accuracy: 0.8625\n",
      "Epoch 26/100\n",
      "10/10 [==============================] - 0s 14ms/step - loss: 0.2628 - accuracy: 0.9000 - val_loss: 0.2839 - val_accuracy: 0.8625\n",
      "Epoch 27/100\n",
      "10/10 [==============================] - 0s 13ms/step - loss: 0.2606 - accuracy: 0.9000 - val_loss: 0.2828 - val_accuracy: 0.8625\n",
      "Epoch 28/100\n",
      "10/10 [==============================] - 0s 10ms/step - loss: 0.2587 - accuracy: 0.8969 - val_loss: 0.2813 - val_accuracy: 0.8750\n",
      "Epoch 29/100\n",
      "10/10 [==============================] - 0s 10ms/step - loss: 0.2571 - accuracy: 0.9031 - val_loss: 0.2805 - val_accuracy: 0.8750\n",
      "Epoch 30/100\n",
      "10/10 [==============================] - 0s 11ms/step - loss: 0.2557 - accuracy: 0.9031 - val_loss: 0.2811 - val_accuracy: 0.8750\n",
      "Epoch 31/100\n",
      "10/10 [==============================] - 0s 10ms/step - loss: 0.2543 - accuracy: 0.9000 - val_loss: 0.2798 - val_accuracy: 0.8750\n",
      "Epoch 32/100\n",
      "10/10 [==============================] - 0s 10ms/step - loss: 0.2532 - accuracy: 0.9000 - val_loss: 0.2789 - val_accuracy: 0.8750\n",
      "Epoch 33/100\n",
      "10/10 [==============================] - 0s 11ms/step - loss: 0.2517 - accuracy: 0.9000 - val_loss: 0.2769 - val_accuracy: 0.8750\n",
      "Epoch 34/100\n",
      "10/10 [==============================] - 0s 10ms/step - loss: 0.2509 - accuracy: 0.9000 - val_loss: 0.2779 - val_accuracy: 0.8750\n",
      "Epoch 35/100\n",
      "10/10 [==============================] - 0s 10ms/step - loss: 0.2497 - accuracy: 0.9000 - val_loss: 0.2778 - val_accuracy: 0.8750\n",
      "Epoch 36/100\n",
      "10/10 [==============================] - 0s 9ms/step - loss: 0.2486 - accuracy: 0.9000 - val_loss: 0.2757 - val_accuracy: 0.8750\n",
      "Epoch 37/100\n",
      "10/10 [==============================] - 0s 9ms/step - loss: 0.2479 - accuracy: 0.9000 - val_loss: 0.2750 - val_accuracy: 0.8750\n",
      "Epoch 38/100\n",
      "10/10 [==============================] - 0s 10ms/step - loss: 0.2469 - accuracy: 0.9000 - val_loss: 0.2732 - val_accuracy: 0.8875\n",
      "Epoch 39/100\n",
      "10/10 [==============================] - 0s 11ms/step - loss: 0.2460 - accuracy: 0.9000 - val_loss: 0.2736 - val_accuracy: 0.8750\n",
      "Epoch 40/100\n",
      "10/10 [==============================] - 0s 11ms/step - loss: 0.2452 - accuracy: 0.9000 - val_loss: 0.2742 - val_accuracy: 0.8750\n",
      "Epoch 41/100\n",
      "10/10 [==============================] - 0s 15ms/step - loss: 0.2451 - accuracy: 0.9000 - val_loss: 0.2714 - val_accuracy: 0.8875\n",
      "Epoch 42/100\n",
      "10/10 [==============================] - 0s 10ms/step - loss: 0.2437 - accuracy: 0.9000 - val_loss: 0.2721 - val_accuracy: 0.8750\n",
      "Epoch 43/100\n",
      "10/10 [==============================] - 0s 9ms/step - loss: 0.2434 - accuracy: 0.9000 - val_loss: 0.2723 - val_accuracy: 0.8750\n",
      "Epoch 44/100\n",
      "10/10 [==============================] - 0s 10ms/step - loss: 0.2429 - accuracy: 0.9000 - val_loss: 0.2736 - val_accuracy: 0.8750\n",
      "Epoch 45/100\n",
      "10/10 [==============================] - 0s 8ms/step - loss: 0.2423 - accuracy: 0.9000 - val_loss: 0.2733 - val_accuracy: 0.8750\n",
      "Epoch 46/100\n",
      "10/10 [==============================] - 0s 11ms/step - loss: 0.2417 - accuracy: 0.9000 - val_loss: 0.2728 - val_accuracy: 0.8750\n",
      "Epoch 47/100\n",
      "10/10 [==============================] - 0s 9ms/step - loss: 0.2411 - accuracy: 0.9000 - val_loss: 0.2710 - val_accuracy: 0.8750\n",
      "Epoch 48/100\n",
      "10/10 [==============================] - 0s 11ms/step - loss: 0.2407 - accuracy: 0.9000 - val_loss: 0.2701 - val_accuracy: 0.8875\n",
      "Epoch 49/100\n",
      "10/10 [==============================] - 0s 13ms/step - loss: 0.2402 - accuracy: 0.9000 - val_loss: 0.2715 - val_accuracy: 0.8750\n",
      "Epoch 50/100\n",
      "10/10 [==============================] - 0s 12ms/step - loss: 0.2399 - accuracy: 0.9000 - val_loss: 0.2726 - val_accuracy: 0.8750\n",
      "Epoch 51/100\n",
      "10/10 [==============================] - 0s 11ms/step - loss: 0.2395 - accuracy: 0.9000 - val_loss: 0.2709 - val_accuracy: 0.8875\n",
      "Epoch 52/100\n",
      "10/10 [==============================] - 0s 12ms/step - loss: 0.2391 - accuracy: 0.9000 - val_loss: 0.2696 - val_accuracy: 0.8750\n",
      "Epoch 53/100\n",
      "10/10 [==============================] - 0s 9ms/step - loss: 0.2386 - accuracy: 0.9000 - val_loss: 0.2709 - val_accuracy: 0.8750\n",
      "Epoch 54/100\n",
      "10/10 [==============================] - 0s 9ms/step - loss: 0.2384 - accuracy: 0.9000 - val_loss: 0.2715 - val_accuracy: 0.8750\n",
      "Epoch 55/100\n",
      "10/10 [==============================] - 0s 8ms/step - loss: 0.2379 - accuracy: 0.9000 - val_loss: 0.2705 - val_accuracy: 0.8750\n",
      "Epoch 56/100\n",
      "10/10 [==============================] - 0s 8ms/step - loss: 0.2379 - accuracy: 0.9000 - val_loss: 0.2691 - val_accuracy: 0.8875\n",
      "Epoch 57/100\n",
      "10/10 [==============================] - 0s 9ms/step - loss: 0.2372 - accuracy: 0.9000 - val_loss: 0.2701 - val_accuracy: 0.8750\n",
      "Epoch 58/100\n"
     ]
    },
    {
     "name": "stdout",
     "output_type": "stream",
     "text": [
      "10/10 [==============================] - 0s 9ms/step - loss: 0.2374 - accuracy: 0.9031 - val_loss: 0.2675 - val_accuracy: 0.8875\n",
      "Epoch 59/100\n",
      "10/10 [==============================] - 0s 9ms/step - loss: 0.2367 - accuracy: 0.9031 - val_loss: 0.2711 - val_accuracy: 0.8750\n",
      "Epoch 60/100\n",
      "10/10 [==============================] - 0s 9ms/step - loss: 0.2366 - accuracy: 0.9000 - val_loss: 0.2703 - val_accuracy: 0.8750\n",
      "Epoch 61/100\n",
      "10/10 [==============================] - 0s 9ms/step - loss: 0.2360 - accuracy: 0.9000 - val_loss: 0.2711 - val_accuracy: 0.8750\n",
      "Epoch 62/100\n",
      "10/10 [==============================] - 0s 13ms/step - loss: 0.2360 - accuracy: 0.9000 - val_loss: 0.2731 - val_accuracy: 0.8750\n",
      "Epoch 63/100\n",
      "10/10 [==============================] - 0s 10ms/step - loss: 0.2354 - accuracy: 0.9000 - val_loss: 0.2695 - val_accuracy: 0.8750\n",
      "Epoch 64/100\n",
      "10/10 [==============================] - 0s 9ms/step - loss: 0.2357 - accuracy: 0.9031 - val_loss: 0.2663 - val_accuracy: 0.8750\n",
      "Epoch 65/100\n",
      "10/10 [==============================] - 0s 9ms/step - loss: 0.2350 - accuracy: 0.9031 - val_loss: 0.2669 - val_accuracy: 0.8750\n",
      "Epoch 66/100\n",
      "10/10 [==============================] - 0s 11ms/step - loss: 0.2349 - accuracy: 0.9031 - val_loss: 0.2694 - val_accuracy: 0.8750\n",
      "Epoch 67/100\n",
      "10/10 [==============================] - 0s 9ms/step - loss: 0.2345 - accuracy: 0.9031 - val_loss: 0.2683 - val_accuracy: 0.8750\n",
      "Epoch 68/100\n",
      "10/10 [==============================] - 0s 10ms/step - loss: 0.2343 - accuracy: 0.9031 - val_loss: 0.2691 - val_accuracy: 0.8750\n",
      "Epoch 69/100\n",
      "10/10 [==============================] - 0s 9ms/step - loss: 0.2341 - accuracy: 0.9031 - val_loss: 0.2683 - val_accuracy: 0.8750\n",
      "Epoch 70/100\n",
      "10/10 [==============================] - 0s 9ms/step - loss: 0.2340 - accuracy: 0.9031 - val_loss: 0.2685 - val_accuracy: 0.8750\n",
      "Epoch 71/100\n",
      "10/10 [==============================] - 0s 9ms/step - loss: 0.2339 - accuracy: 0.9031 - val_loss: 0.2680 - val_accuracy: 0.8750\n",
      "Epoch 72/100\n",
      "10/10 [==============================] - 0s 10ms/step - loss: 0.2334 - accuracy: 0.9031 - val_loss: 0.2695 - val_accuracy: 0.8750\n",
      "Epoch 73/100\n",
      "10/10 [==============================] - 0s 8ms/step - loss: 0.2331 - accuracy: 0.9094 - val_loss: 0.2680 - val_accuracy: 0.9125\n",
      "Epoch 74/100\n",
      "10/10 [==============================] - 0s 9ms/step - loss: 0.2330 - accuracy: 0.9062 - val_loss: 0.2677 - val_accuracy: 0.8750\n",
      "Epoch 75/100\n",
      "10/10 [==============================] - 0s 11ms/step - loss: 0.2330 - accuracy: 0.9062 - val_loss: 0.2643 - val_accuracy: 0.9250\n",
      "Epoch 76/100\n",
      "10/10 [==============================] - 0s 8ms/step - loss: 0.2336 - accuracy: 0.9031 - val_loss: 0.2685 - val_accuracy: 0.9250\n",
      "Epoch 77/100\n",
      "10/10 [==============================] - 0s 9ms/step - loss: 0.2324 - accuracy: 0.9094 - val_loss: 0.2679 - val_accuracy: 0.8875\n",
      "Epoch 78/100\n",
      "10/10 [==============================] - 0s 10ms/step - loss: 0.2322 - accuracy: 0.9062 - val_loss: 0.2674 - val_accuracy: 0.8750\n",
      "Epoch 79/100\n",
      "10/10 [==============================] - 0s 9ms/step - loss: 0.2321 - accuracy: 0.9094 - val_loss: 0.2643 - val_accuracy: 0.9250\n",
      "Epoch 80/100\n",
      "10/10 [==============================] - 0s 9ms/step - loss: 0.2317 - accuracy: 0.9094 - val_loss: 0.2656 - val_accuracy: 0.9000\n",
      "Epoch 81/100\n",
      "10/10 [==============================] - 0s 8ms/step - loss: 0.2316 - accuracy: 0.9094 - val_loss: 0.2663 - val_accuracy: 0.9125\n",
      "Epoch 82/100\n",
      "10/10 [==============================] - 0s 9ms/step - loss: 0.2312 - accuracy: 0.9094 - val_loss: 0.2667 - val_accuracy: 0.9125\n",
      "Epoch 83/100\n",
      "10/10 [==============================] - 0s 9ms/step - loss: 0.2310 - accuracy: 0.9094 - val_loss: 0.2677 - val_accuracy: 0.9125\n",
      "Epoch 84/100\n",
      "10/10 [==============================] - 0s 10ms/step - loss: 0.2309 - accuracy: 0.9094 - val_loss: 0.2666 - val_accuracy: 0.9250\n",
      "Epoch 85/100\n",
      "10/10 [==============================] - 0s 8ms/step - loss: 0.2308 - accuracy: 0.9094 - val_loss: 0.2664 - val_accuracy: 0.9250\n",
      "Epoch 86/100\n",
      "10/10 [==============================] - 0s 11ms/step - loss: 0.2306 - accuracy: 0.9094 - val_loss: 0.2668 - val_accuracy: 0.9250\n",
      "Epoch 87/100\n",
      "10/10 [==============================] - 0s 10ms/step - loss: 0.2304 - accuracy: 0.9094 - val_loss: 0.2676 - val_accuracy: 0.9125\n",
      "Epoch 88/100\n",
      "10/10 [==============================] - 0s 10ms/step - loss: 0.2305 - accuracy: 0.9094 - val_loss: 0.2654 - val_accuracy: 0.9125\n",
      "Epoch 89/100\n",
      "10/10 [==============================] - 0s 9ms/step - loss: 0.2301 - accuracy: 0.9094 - val_loss: 0.2659 - val_accuracy: 0.9250\n",
      "Epoch 90/100\n",
      "10/10 [==============================] - 0s 10ms/step - loss: 0.2298 - accuracy: 0.9094 - val_loss: 0.2657 - val_accuracy: 0.9125\n",
      "Epoch 91/100\n",
      "10/10 [==============================] - 0s 9ms/step - loss: 0.2296 - accuracy: 0.9062 - val_loss: 0.2650 - val_accuracy: 0.9250\n",
      "Epoch 92/100\n",
      "10/10 [==============================] - 0s 9ms/step - loss: 0.2299 - accuracy: 0.9062 - val_loss: 0.2662 - val_accuracy: 0.9250\n",
      "Epoch 93/100\n",
      "10/10 [==============================] - 0s 9ms/step - loss: 0.2295 - accuracy: 0.9094 - val_loss: 0.2638 - val_accuracy: 0.9375\n",
      "Epoch 94/100\n",
      "10/10 [==============================] - 0s 9ms/step - loss: 0.2291 - accuracy: 0.9094 - val_loss: 0.2627 - val_accuracy: 0.9375\n",
      "Epoch 95/100\n",
      "10/10 [==============================] - 0s 10ms/step - loss: 0.2291 - accuracy: 0.9094 - val_loss: 0.2646 - val_accuracy: 0.9250\n",
      "Epoch 96/100\n",
      "10/10 [==============================] - 0s 9ms/step - loss: 0.2289 - accuracy: 0.9094 - val_loss: 0.2634 - val_accuracy: 0.9250\n",
      "Epoch 97/100\n",
      "10/10 [==============================] - 0s 10ms/step - loss: 0.2290 - accuracy: 0.9094 - val_loss: 0.2668 - val_accuracy: 0.9250\n",
      "Epoch 98/100\n",
      "10/10 [==============================] - 0s 10ms/step - loss: 0.2293 - accuracy: 0.9094 - val_loss: 0.2645 - val_accuracy: 0.9250\n",
      "Epoch 99/100\n",
      "10/10 [==============================] - 0s 9ms/step - loss: 0.2285 - accuracy: 0.9094 - val_loss: 0.2650 - val_accuracy: 0.9250\n",
      "Epoch 100/100\n",
      "10/10 [==============================] - 0s 9ms/step - loss: 0.2295 - accuracy: 0.9094 - val_loss: 0.2700 - val_accuracy: 0.9000\n"
     ]
    }
   ],
   "source": [
    "model = Sequential()\n",
    "\n",
    "model.add(Dense(128,activation='relu',input_dim=2))\n",
    "model.add(Dense(1,activation='sigmoid'))\n",
    "\n",
    "model.compile(optimizer='adam',loss='binary_crossentropy',metrics=['accuracy'])\n",
    "\n",
    "history = model.fit(X_train_scaled,y_train,validation_data=(X_test_scaled,y_test),epochs=100)"
   ]
  },
  {
   "cell_type": "code",
   "execution_count": 16,
   "id": "87b4182d",
   "metadata": {},
   "outputs": [
    {
     "data": {
      "text/plain": [
       "[<matplotlib.lines.Line2D at 0x2278d7c8790>]"
      ]
     },
     "execution_count": 16,
     "metadata": {},
     "output_type": "execute_result"
    },
    {
     "data": {
      "image/png": "[encoded data removed]",
      "text/plain": [
       "<Figure size 432x288 with 1 Axes>"
      ]
     },
     "metadata": {
      "needs_background": "light"
     },
     "output_type": "display_data"
    }
   ],
   "source": [
    "import matplotlib.pyplot as plt\n",
    "plt.plot(history.history['val_accuracy'])"
   ]
  },
  {
   "cell_type": "code",
   "execution_count": null,
   "id": "16573fc6",
   "metadata": {},
   "outputs": [],
   "source": []
  }
 ],
 "metadata": {
  "kernelspec": {
   "display_name": "python 3.9(tensorflow)",
   "language": "python",
   "name": "tensorflow"
  },
  "language_info": {
   "codemirror_mode": {
    "name": "ipython",
    "version": 3
   },
   "file_extension": ".py",
   "mimetype": "text/x-python",
   "name": "python",
   "nbconvert_exporter": "python",
   "pygments_lexer": "ipython3",
   "version": "3.9.12"
  }
 },
 "nbformat": 4,
 "nbformat_minor": 5
}
