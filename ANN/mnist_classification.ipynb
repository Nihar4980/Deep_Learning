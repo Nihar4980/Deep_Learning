{
 "cells": [
  {
   "cell_type": "code",
   "execution_count": 1,
   "id": "f350c5ba",
   "metadata": {},
   "outputs": [],
   "source": [
    "import tensorflow\n",
    "from tensorflow import keras\n",
    "from tensorflow.keras import Sequential\n",
    "from tensorflow.keras.layers import Dense,Flatten"
   ]
  },
  {
   "cell_type": "code",
   "execution_count": 2,
   "id": "7874168d",
   "metadata": {},
   "outputs": [],
   "source": [
    "(X_train,y_train),(X_test,y_test) = keras.datasets.mnist.load_data()"
   ]
  },
  {
   "cell_type": "code",
   "execution_count": 3,
   "id": "79bbd027",
   "metadata": {},
   "outputs": [
    {
     "data": {
      "text/plain": [
       "array([[[0, 0, 0, ..., 0, 0, 0],\n",
       "        [0, 0, 0, ..., 0, 0, 0],\n",
       "        [0, 0, 0, ..., 0, 0, 0],\n",
       "        ...,\n",
       "        [0, 0, 0, ..., 0, 0, 0],\n",
       "        [0, 0, 0, ..., 0, 0, 0],\n",
       "        [0, 0, 0, ..., 0, 0, 0]],\n",
       "\n",
       "       [[0, 0, 0, ..., 0, 0, 0],\n",
       "        [0, 0, 0, ..., 0, 0, 0],\n",
       "        [0, 0, 0, ..., 0, 0, 0],\n",
       "        ...,\n",
       "        [0, 0, 0, ..., 0, 0, 0],\n",
       "        [0, 0, 0, ..., 0, 0, 0],\n",
       "        [0, 0, 0, ..., 0, 0, 0]],\n",
       "\n",
       "       [[0, 0, 0, ..., 0, 0, 0],\n",
       "        [0, 0, 0, ..., 0, 0, 0],\n",
       "        [0, 0, 0, ..., 0, 0, 0],\n",
       "        ...,\n",
       "        [0, 0, 0, ..., 0, 0, 0],\n",
       "        [0, 0, 0, ..., 0, 0, 0],\n",
       "        [0, 0, 0, ..., 0, 0, 0]],\n",
       "\n",
       "       ...,\n",
       "\n",
       "       [[0, 0, 0, ..., 0, 0, 0],\n",
       "        [0, 0, 0, ..., 0, 0, 0],\n",
       "        [0, 0, 0, ..., 0, 0, 0],\n",
       "        ...,\n",
       "        [0, 0, 0, ..., 0, 0, 0],\n",
       "        [0, 0, 0, ..., 0, 0, 0],\n",
       "        [0, 0, 0, ..., 0, 0, 0]],\n",
       "\n",
       "       [[0, 0, 0, ..., 0, 0, 0],\n",
       "        [0, 0, 0, ..., 0, 0, 0],\n",
       "        [0, 0, 0, ..., 0, 0, 0],\n",
       "        ...,\n",
       "        [0, 0, 0, ..., 0, 0, 0],\n",
       "        [0, 0, 0, ..., 0, 0, 0],\n",
       "        [0, 0, 0, ..., 0, 0, 0]],\n",
       "\n",
       "       [[0, 0, 0, ..., 0, 0, 0],\n",
       "        [0, 0, 0, ..., 0, 0, 0],\n",
       "        [0, 0, 0, ..., 0, 0, 0],\n",
       "        ...,\n",
       "        [0, 0, 0, ..., 0, 0, 0],\n",
       "        [0, 0, 0, ..., 0, 0, 0],\n",
       "        [0, 0, 0, ..., 0, 0, 0]]], dtype=uint8)"
      ]
     },
     "execution_count": 3,
     "metadata": {},
     "output_type": "execute_result"
    }
   ],
   "source": [
    "X_train"
   ]
  },
  {
   "cell_type": "code",
   "execution_count": 4,
   "id": "47d54530",
   "metadata": {},
   "outputs": [
    {
     "data": {
      "text/plain": [
       "(60000, 28, 28)"
      ]
     },
     "execution_count": 4,
     "metadata": {},
     "output_type": "execute_result"
    }
   ],
   "source": [
    "X_train.shape"
   ]
  },
  {
   "cell_type": "code",
   "execution_count": 5,
   "id": "0c866ea1",
   "metadata": {},
   "outputs": [
    {
     "data": {
      "text/plain": [
       "array([[[0, 0, 0, ..., 0, 0, 0],\n",
       "        [0, 0, 0, ..., 0, 0, 0],\n",
       "        [0, 0, 0, ..., 0, 0, 0],\n",
       "        ...,\n",
       "        [0, 0, 0, ..., 0, 0, 0],\n",
       "        [0, 0, 0, ..., 0, 0, 0],\n",
       "        [0, 0, 0, ..., 0, 0, 0]],\n",
       "\n",
       "       [[0, 0, 0, ..., 0, 0, 0],\n",
       "        [0, 0, 0, ..., 0, 0, 0],\n",
       "        [0, 0, 0, ..., 0, 0, 0],\n",
       "        ...,\n",
       "        [0, 0, 0, ..., 0, 0, 0],\n",
       "        [0, 0, 0, ..., 0, 0, 0],\n",
       "        [0, 0, 0, ..., 0, 0, 0]],\n",
       "\n",
       "       [[0, 0, 0, ..., 0, 0, 0],\n",
       "        [0, 0, 0, ..., 0, 0, 0],\n",
       "        [0, 0, 0, ..., 0, 0, 0],\n",
       "        ...,\n",
       "        [0, 0, 0, ..., 0, 0, 0],\n",
       "        [0, 0, 0, ..., 0, 0, 0],\n",
       "        [0, 0, 0, ..., 0, 0, 0]],\n",
       "\n",
       "       ...,\n",
       "\n",
       "       [[0, 0, 0, ..., 0, 0, 0],\n",
       "        [0, 0, 0, ..., 0, 0, 0],\n",
       "        [0, 0, 0, ..., 0, 0, 0],\n",
       "        ...,\n",
       "        [0, 0, 0, ..., 0, 0, 0],\n",
       "        [0, 0, 0, ..., 0, 0, 0],\n",
       "        [0, 0, 0, ..., 0, 0, 0]],\n",
       "\n",
       "       [[0, 0, 0, ..., 0, 0, 0],\n",
       "        [0, 0, 0, ..., 0, 0, 0],\n",
       "        [0, 0, 0, ..., 0, 0, 0],\n",
       "        ...,\n",
       "        [0, 0, 0, ..., 0, 0, 0],\n",
       "        [0, 0, 0, ..., 0, 0, 0],\n",
       "        [0, 0, 0, ..., 0, 0, 0]],\n",
       "\n",
       "       [[0, 0, 0, ..., 0, 0, 0],\n",
       "        [0, 0, 0, ..., 0, 0, 0],\n",
       "        [0, 0, 0, ..., 0, 0, 0],\n",
       "        ...,\n",
       "        [0, 0, 0, ..., 0, 0, 0],\n",
       "        [0, 0, 0, ..., 0, 0, 0],\n",
       "        [0, 0, 0, ..., 0, 0, 0]]], dtype=uint8)"
      ]
     },
     "execution_count": 5,
     "metadata": {},
     "output_type": "execute_result"
    }
   ],
   "source": [
    "X_train"
   ]
  },
  {
   "cell_type": "code",
   "execution_count": 6,
   "id": "a842f5b5",
   "metadata": {},
   "outputs": [
    {
     "data": {
      "text/plain": [
       "(10000, 28, 28)"
      ]
     },
     "execution_count": 6,
     "metadata": {},
     "output_type": "execute_result"
    }
   ],
   "source": [
    "X_test.shape"
   ]
  },
  {
   "cell_type": "code",
   "execution_count": 7,
   "id": "38995102",
   "metadata": {},
   "outputs": [
    {
     "data": {
      "text/plain": [
       "array([5, 0, 4, ..., 5, 6, 8], dtype=uint8)"
      ]
     },
     "execution_count": 7,
     "metadata": {},
     "output_type": "execute_result"
    }
   ],
   "source": [
    "y_train"
   ]
  },
  {
   "cell_type": "code",
   "execution_count": 8,
   "id": "d961a7b7",
   "metadata": {},
   "outputs": [
    {
     "data": {
      "text/plain": [
       "array([0, 1, 2, 3, 4, 5, 6, 7, 8, 9], dtype=uint8)"
      ]
     },
     "execution_count": 8,
     "metadata": {},
     "output_type": "execute_result"
    }
   ],
   "source": [
    "import numpy as np\n",
    "np.unique(y_train)"
   ]
  },
  {
   "cell_type": "code",
   "execution_count": 9,
   "id": "9148cb54",
   "metadata": {},
   "outputs": [
    {
     "data": {
      "text/plain": [
       "<matplotlib.image.AxesImage at 0x14f168b9d60>"
      ]
     },
     "execution_count": 9,
     "metadata": {},
     "output_type": "execute_result"
    },
    {
     "data": {
      "image/png": "[encoded data removed]",
      "text/plain": [
       "<Figure size 432x288 with 1 Axes>"
      ]
     },
     "metadata": {
      "needs_background": "light"
     },
     "output_type": "display_data"
    }
   ],
   "source": [
    "import matplotlib.pyplot as plt\n",
    "plt.imshow(X_train[0])"
   ]
  },
  {
   "cell_type": "code",
   "execution_count": 10,
   "id": "76ce0297",
   "metadata": {},
   "outputs": [],
   "source": [
    "X_train = X_train/255\n",
    "X_test = X_test/255"
   ]
  },
  {
   "cell_type": "code",
   "execution_count": 11,
   "id": "2a553d6e",
   "metadata": {},
   "outputs": [
    {
     "data": {
      "text/plain": [
       "array([[0.        , 0.        , 0.        , 0.        , 0.        ,\n",
       "        0.        , 0.        , 0.        , 0.        , 0.        ,\n",
       "        0.        , 0.        , 0.        , 0.        , 0.        ,\n",
       "        0.        , 0.        , 0.        , 0.        , 0.        ,\n",
       "        0.        , 0.        , 0.        , 0.        , 0.        ,\n",
       "        0.        , 0.        , 0.        ],\n",
       "       [0.        , 0.        , 0.        , 0.        , 0.        ,\n",
       "        0.        , 0.        , 0.        , 0.        , 0.        ,\n",
       "        0.        , 0.        , 0.        , 0.        , 0.        ,\n",
       "        0.        , 0.        , 0.        , 0.        , 0.        ,\n",
       "        0.        , 0.        , 0.        , 0.        , 0.        ,\n",
       "        0.        , 0.        , 0.        ],\n",
       "       [0.        , 0.        , 0.        , 0.        , 0.        ,\n",
       "        0.        , 0.        , 0.        , 0.        , 0.        ,\n",
       "        0.        , 0.        , 0.        , 0.        , 0.        ,\n",
       "        0.        , 0.        , 0.        , 0.        , 0.        ,\n",
       "        0.        , 0.        , 0.        , 0.        , 0.        ,\n",
       "        0.        , 0.        , 0.        ],\n",
       "       [0.        , 0.        , 0.        , 0.        , 0.        ,\n",
       "        0.        , 0.        , 0.        , 0.        , 0.        ,\n",
       "        0.        , 0.        , 0.        , 0.        , 0.        ,\n",
       "        0.        , 0.        , 0.        , 0.        , 0.        ,\n",
       "        0.        , 0.        , 0.        , 0.        , 0.        ,\n",
       "        0.        , 0.        , 0.        ],\n",
       "       [0.        , 0.        , 0.        , 0.        , 0.        ,\n",
       "        0.        , 0.        , 0.        , 0.        , 0.        ,\n",
       "        0.        , 0.        , 0.        , 0.        , 0.        ,\n",
       "        0.        , 0.        , 0.        , 0.        , 0.        ,\n",
       "        0.        , 0.        , 0.        , 0.        , 0.        ,\n",
       "        0.        , 0.        , 0.        ],\n",
       "       [0.        , 0.        , 0.        , 0.        , 0.        ,\n",
       "        0.        , 0.        , 0.        , 0.        , 0.        ,\n",
       "        0.        , 0.        , 0.01176471, 0.07058824, 0.07058824,\n",
       "        0.07058824, 0.49411765, 0.53333333, 0.68627451, 0.10196078,\n",
       "        0.65098039, 1.        , 0.96862745, 0.49803922, 0.        ,\n",
       "        0.        , 0.        , 0.        ],\n",
       "       [0.        , 0.        , 0.        , 0.        , 0.        ,\n",
       "        0.        , 0.        , 0.        , 0.11764706, 0.14117647,\n",
       "        0.36862745, 0.60392157, 0.66666667, 0.99215686, 0.99215686,\n",
       "        0.99215686, 0.99215686, 0.99215686, 0.88235294, 0.6745098 ,\n",
       "        0.99215686, 0.94901961, 0.76470588, 0.25098039, 0.        ,\n",
       "        0.        , 0.        , 0.        ],\n",
       "       [0.        , 0.        , 0.        , 0.        , 0.        ,\n",
       "        0.        , 0.        , 0.19215686, 0.93333333, 0.99215686,\n",
       "        0.99215686, 0.99215686, 0.99215686, 0.99215686, 0.99215686,\n",
       "        0.99215686, 0.99215686, 0.98431373, 0.36470588, 0.32156863,\n",
       "        0.32156863, 0.21960784, 0.15294118, 0.        , 0.        ,\n",
       "        0.        , 0.        , 0.        ],\n",
       "       [0.        , 0.        , 0.        , 0.        , 0.        ,\n",
       "        0.        , 0.        , 0.07058824, 0.85882353, 0.99215686,\n",
       "        0.99215686, 0.99215686, 0.99215686, 0.99215686, 0.77647059,\n",
       "        0.71372549, 0.96862745, 0.94509804, 0.        , 0.        ,\n",
       "        0.        , 0.        , 0.        , 0.        , 0.        ,\n",
       "        0.        , 0.        , 0.        ],\n",
       "       [0.        , 0.        , 0.        , 0.        , 0.        ,\n",
       "        0.        , 0.        , 0.        , 0.31372549, 0.61176471,\n",
       "        0.41960784, 0.99215686, 0.99215686, 0.80392157, 0.04313725,\n",
       "        0.        , 0.16862745, 0.60392157, 0.        , 0.        ,\n",
       "        0.        , 0.        , 0.        , 0.        , 0.        ,\n",
       "        0.        , 0.        , 0.        ],\n",
       "       [0.        , 0.        , 0.        , 0.        , 0.        ,\n",
       "        0.        , 0.        , 0.        , 0.        , 0.05490196,\n",
       "        0.00392157, 0.60392157, 0.99215686, 0.35294118, 0.        ,\n",
       "        0.        , 0.        , 0.        , 0.        , 0.        ,\n",
       "        0.        , 0.        , 0.        , 0.        , 0.        ,\n",
       "        0.        , 0.        , 0.        ],\n",
       "       [0.        , 0.        , 0.        , 0.        , 0.        ,\n",
       "        0.        , 0.        , 0.        , 0.        , 0.        ,\n",
       "        0.        , 0.54509804, 0.99215686, 0.74509804, 0.00784314,\n",
       "        0.        , 0.        , 0.        , 0.        , 0.        ,\n",
       "        0.        , 0.        , 0.        , 0.        , 0.        ,\n",
       "        0.        , 0.        , 0.        ],\n",
       "       [0.        , 0.        , 0.        , 0.        , 0.        ,\n",
       "        0.        , 0.        , 0.        , 0.        , 0.        ,\n",
       "        0.        , 0.04313725, 0.74509804, 0.99215686, 0.2745098 ,\n",
       "        0.        , 0.        , 0.        , 0.        , 0.        ,\n",
       "        0.        , 0.        , 0.        , 0.        , 0.        ,\n",
       "        0.        , 0.        , 0.        ],\n",
       "       [0.        , 0.        , 0.        , 0.        , 0.        ,\n",
       "        0.        , 0.        , 0.        , 0.        , 0.        ,\n",
       "        0.        , 0.        , 0.1372549 , 0.94509804, 0.88235294,\n",
       "        0.62745098, 0.42352941, 0.00392157, 0.        , 0.        ,\n",
       "        0.        , 0.        , 0.        , 0.        , 0.        ,\n",
       "        0.        , 0.        , 0.        ],\n",
       "       [0.        , 0.        , 0.        , 0.        , 0.        ,\n",
       "        0.        , 0.        , 0.        , 0.        , 0.        ,\n",
       "        0.        , 0.        , 0.        , 0.31764706, 0.94117647,\n",
       "        0.99215686, 0.99215686, 0.46666667, 0.09803922, 0.        ,\n",
       "        0.        , 0.        , 0.        , 0.        , 0.        ,\n",
       "        0.        , 0.        , 0.        ],\n",
       "       [0.        , 0.        , 0.        , 0.        , 0.        ,\n",
       "        0.        , 0.        , 0.        , 0.        , 0.        ,\n",
       "        0.        , 0.        , 0.        , 0.        , 0.17647059,\n",
       "        0.72941176, 0.99215686, 0.99215686, 0.58823529, 0.10588235,\n",
       "        0.        , 0.        , 0.        , 0.        , 0.        ,\n",
       "        0.        , 0.        , 0.        ],\n",
       "       [0.        , 0.        , 0.        , 0.        , 0.        ,\n",
       "        0.        , 0.        , 0.        , 0.        , 0.        ,\n",
       "        0.        , 0.        , 0.        , 0.        , 0.        ,\n",
       "        0.0627451 , 0.36470588, 0.98823529, 0.99215686, 0.73333333,\n",
       "        0.        , 0.        , 0.        , 0.        , 0.        ,\n",
       "        0.        , 0.        , 0.        ],\n",
       "       [0.        , 0.        , 0.        , 0.        , 0.        ,\n",
       "        0.        , 0.        , 0.        , 0.        , 0.        ,\n",
       "        0.        , 0.        , 0.        , 0.        , 0.        ,\n",
       "        0.        , 0.        , 0.97647059, 0.99215686, 0.97647059,\n",
       "        0.25098039, 0.        , 0.        , 0.        , 0.        ,\n",
       "        0.        , 0.        , 0.        ],\n",
       "       [0.        , 0.        , 0.        , 0.        , 0.        ,\n",
       "        0.        , 0.        , 0.        , 0.        , 0.        ,\n",
       "        0.        , 0.        , 0.        , 0.        , 0.18039216,\n",
       "        0.50980392, 0.71764706, 0.99215686, 0.99215686, 0.81176471,\n",
       "        0.00784314, 0.        , 0.        , 0.        , 0.        ,\n",
       "        0.        , 0.        , 0.        ],\n",
       "       [0.        , 0.        , 0.        , 0.        , 0.        ,\n",
       "        0.        , 0.        , 0.        , 0.        , 0.        ,\n",
       "        0.        , 0.        , 0.15294118, 0.58039216, 0.89803922,\n",
       "        0.99215686, 0.99215686, 0.99215686, 0.98039216, 0.71372549,\n",
       "        0.        , 0.        , 0.        , 0.        , 0.        ,\n",
       "        0.        , 0.        , 0.        ],\n",
       "       [0.        , 0.        , 0.        , 0.        , 0.        ,\n",
       "        0.        , 0.        , 0.        , 0.        , 0.        ,\n",
       "        0.09411765, 0.44705882, 0.86666667, 0.99215686, 0.99215686,\n",
       "        0.99215686, 0.99215686, 0.78823529, 0.30588235, 0.        ,\n",
       "        0.        , 0.        , 0.        , 0.        , 0.        ,\n",
       "        0.        , 0.        , 0.        ],\n",
       "       [0.        , 0.        , 0.        , 0.        , 0.        ,\n",
       "        0.        , 0.        , 0.        , 0.09019608, 0.25882353,\n",
       "        0.83529412, 0.99215686, 0.99215686, 0.99215686, 0.99215686,\n",
       "        0.77647059, 0.31764706, 0.00784314, 0.        , 0.        ,\n",
       "        0.        , 0.        , 0.        , 0.        , 0.        ,\n",
       "        0.        , 0.        , 0.        ],\n",
       "       [0.        , 0.        , 0.        , 0.        , 0.        ,\n",
       "        0.        , 0.07058824, 0.67058824, 0.85882353, 0.99215686,\n",
       "        0.99215686, 0.99215686, 0.99215686, 0.76470588, 0.31372549,\n",
       "        0.03529412, 0.        , 0.        , 0.        , 0.        ,\n",
       "        0.        , 0.        , 0.        , 0.        , 0.        ,\n",
       "        0.        , 0.        , 0.        ],\n",
       "       [0.        , 0.        , 0.        , 0.        , 0.21568627,\n",
       "        0.6745098 , 0.88627451, 0.99215686, 0.99215686, 0.99215686,\n",
       "        0.99215686, 0.95686275, 0.52156863, 0.04313725, 0.        ,\n",
       "        0.        , 0.        , 0.        , 0.        , 0.        ,\n",
       "        0.        , 0.        , 0.        , 0.        , 0.        ,\n",
       "        0.        , 0.        , 0.        ],\n",
       "       [0.        , 0.        , 0.        , 0.        , 0.53333333,\n",
       "        0.99215686, 0.99215686, 0.99215686, 0.83137255, 0.52941176,\n",
       "        0.51764706, 0.0627451 , 0.        , 0.        , 0.        ,\n",
       "        0.        , 0.        , 0.        , 0.        , 0.        ,\n",
       "        0.        , 0.        , 0.        , 0.        , 0.        ,\n",
       "        0.        , 0.        , 0.        ],\n",
       "       [0.        , 0.        , 0.        , 0.        , 0.        ,\n",
       "        0.        , 0.        , 0.        , 0.        , 0.        ,\n",
       "        0.        , 0.        , 0.        , 0.        , 0.        ,\n",
       "        0.        , 0.        , 0.        , 0.        , 0.        ,\n",
       "        0.        , 0.        , 0.        , 0.        , 0.        ,\n",
       "        0.        , 0.        , 0.        ],\n",
       "       [0.        , 0.        , 0.        , 0.        , 0.        ,\n",
       "        0.        , 0.        , 0.        , 0.        , 0.        ,\n",
       "        0.        , 0.        , 0.        , 0.        , 0.        ,\n",
       "        0.        , 0.        , 0.        , 0.        , 0.        ,\n",
       "        0.        , 0.        , 0.        , 0.        , 0.        ,\n",
       "        0.        , 0.        , 0.        ],\n",
       "       [0.        , 0.        , 0.        , 0.        , 0.        ,\n",
       "        0.        , 0.        , 0.        , 0.        , 0.        ,\n",
       "        0.        , 0.        , 0.        , 0.        , 0.        ,\n",
       "        0.        , 0.        , 0.        , 0.        , 0.        ,\n",
       "        0.        , 0.        , 0.        , 0.        , 0.        ,\n",
       "        0.        , 0.        , 0.        ]])"
      ]
     },
     "execution_count": 11,
     "metadata": {},
     "output_type": "execute_result"
    }
   ],
   "source": [
    "X_train[0]"
   ]
  },
  {
   "cell_type": "code",
   "execution_count": 12,
   "id": "722dc181",
   "metadata": {},
   "outputs": [],
   "source": [
    "# we can flatten image by using numpy\n",
    "X_train_flat=X_train.reshape(len(X_train),28*28)\n",
    "X_test_flat=X_test.reshape(len(X_test),28*28)"
   ]
  },
  {
   "cell_type": "code",
   "execution_count": 13,
   "id": "c30597c4",
   "metadata": {},
   "outputs": [
    {
     "data": {
      "text/plain": [
       "(10000, 784)"
      ]
     },
     "execution_count": 13,
     "metadata": {},
     "output_type": "execute_result"
    }
   ],
   "source": [
    "X_test_flat.shape"
   ]
  },
  {
   "cell_type": "code",
   "execution_count": 14,
   "id": "ece013b6",
   "metadata": {},
   "outputs": [],
   "source": [
    "model = Sequential()\n",
    "\n",
    "model.add(Flatten(input_shape=(28,28))) # Flatten using keras\n",
    "model.add(Dense(128,activation='relu'))\n",
    "model.add(Dense(32,activation='relu'))\n",
    "model.add(Dense(10,activation='softmax'))"
   ]
  },
  {
   "cell_type": "code",
   "execution_count": 15,
   "id": "760980fc",
   "metadata": {},
   "outputs": [
    {
     "name": "stdout",
     "output_type": "stream",
     "text": [
      "Model: \"sequential\"\n",
      "_________________________________________________________________\n",
      " Layer (type)                Output Shape              Param #   \n",
      "=================================================================\n",
      " flatten (Flatten)           (None, 784)               0         \n",
      "                                                                 \n",
      " dense (Dense)               (None, 128)               100480    \n",
      "                                                                 \n",
      " dense_1 (Dense)             (None, 32)                4128      \n",
      "                                                                 \n",
      " dense_2 (Dense)             (None, 10)                330       \n",
      "                                                                 \n",
      "=================================================================\n",
      "Total params: 104,938\n",
      "Trainable params: 104,938\n",
      "Non-trainable params: 0\n",
      "_________________________________________________________________\n"
     ]
    }
   ],
   "source": [
    "model.summary()"
   ]
  },
  {
   "cell_type": "code",
   "execution_count": 16,
   "id": "84d592f6",
   "metadata": {},
   "outputs": [],
   "source": [
    "model.compile(loss='sparse_categorical_crossentropy',optimizer='Adam',metrics=['accuracy'])"
   ]
  },
  {
   "cell_type": "code",
   "execution_count": 17,
   "id": "d9b13ae2",
   "metadata": {},
   "outputs": [
    {
     "name": "stdout",
     "output_type": "stream",
     "text": [
      "Epoch 1/100\n",
      "1500/1500 [==============================] - 4s 2ms/step - loss: 0.2933 - accuracy: 0.9157 - val_loss: 0.1501 - val_accuracy: 0.9587\n",
      "Epoch 2/100\n",
      "1500/1500 [==============================] - 2s 2ms/step - loss: 0.1268 - accuracy: 0.9627 - val_loss: 0.1076 - val_accuracy: 0.9680\n",
      "Epoch 3/100\n",
      "1500/1500 [==============================] - 2s 2ms/step - loss: 0.0866 - accuracy: 0.9738 - val_loss: 0.1074 - val_accuracy: 0.9668\n",
      "Epoch 4/100\n",
      "1500/1500 [==============================] - 2s 2ms/step - loss: 0.0646 - accuracy: 0.9797 - val_loss: 0.0895 - val_accuracy: 0.9748\n",
      "Epoch 5/100\n",
      "1500/1500 [==============================] - 2s 2ms/step - loss: 0.0489 - accuracy: 0.9846 - val_loss: 0.1139 - val_accuracy: 0.9670\n",
      "Epoch 6/100\n",
      "1500/1500 [==============================] - 2s 2ms/step - loss: 0.0391 - accuracy: 0.9874 - val_loss: 0.1030 - val_accuracy: 0.9718\n",
      "Epoch 7/100\n",
      "1500/1500 [==============================] - 2s 2ms/step - loss: 0.0325 - accuracy: 0.9896 - val_loss: 0.0879 - val_accuracy: 0.9755\n",
      "Epoch 8/100\n",
      "1500/1500 [==============================] - 3s 2ms/step - loss: 0.0269 - accuracy: 0.9909 - val_loss: 0.1182 - val_accuracy: 0.9724\n",
      "Epoch 9/100\n",
      "1500/1500 [==============================] - 3s 2ms/step - loss: 0.0213 - accuracy: 0.9930 - val_loss: 0.1026 - val_accuracy: 0.9752\n",
      "Epoch 10/100\n",
      "1500/1500 [==============================] - 3s 2ms/step - loss: 0.0217 - accuracy: 0.9928 - val_loss: 0.1169 - val_accuracy: 0.9732\n",
      "Epoch 11/100\n",
      "1500/1500 [==============================] - 3s 2ms/step - loss: 0.0167 - accuracy: 0.9942 - val_loss: 0.1157 - val_accuracy: 0.9745\n",
      "Epoch 12/100\n",
      "1500/1500 [==============================] - 2s 2ms/step - loss: 0.0157 - accuracy: 0.9943 - val_loss: 0.1285 - val_accuracy: 0.9720\n",
      "Epoch 13/100\n",
      "1500/1500 [==============================] - 3s 2ms/step - loss: 0.0147 - accuracy: 0.9954 - val_loss: 0.1128 - val_accuracy: 0.9778\n",
      "Epoch 14/100\n",
      "1500/1500 [==============================] - 3s 2ms/step - loss: 0.0130 - accuracy: 0.9955 - val_loss: 0.1301 - val_accuracy: 0.9730\n",
      "Epoch 15/100\n",
      "1500/1500 [==============================] - 3s 2ms/step - loss: 0.0104 - accuracy: 0.9964 - val_loss: 0.1184 - val_accuracy: 0.9763\n",
      "Epoch 16/100\n",
      "1500/1500 [==============================] - 2s 2ms/step - loss: 0.0126 - accuracy: 0.9958 - val_loss: 0.1305 - val_accuracy: 0.9745\n",
      "Epoch 17/100\n",
      "1500/1500 [==============================] - 3s 2ms/step - loss: 0.0103 - accuracy: 0.9962 - val_loss: 0.1357 - val_accuracy: 0.9760\n",
      "Epoch 18/100\n",
      "1500/1500 [==============================] - 3s 2ms/step - loss: 0.0104 - accuracy: 0.9966 - val_loss: 0.1381 - val_accuracy: 0.9759\n",
      "Epoch 19/100\n",
      "1500/1500 [==============================] - 3s 2ms/step - loss: 0.0084 - accuracy: 0.9974 - val_loss: 0.1282 - val_accuracy: 0.9770\n",
      "Epoch 20/100\n",
      "1500/1500 [==============================] - 3s 2ms/step - loss: 0.0091 - accuracy: 0.9968 - val_loss: 0.1235 - val_accuracy: 0.9791\n",
      "Epoch 21/100\n",
      "1500/1500 [==============================] - 3s 2ms/step - loss: 0.0090 - accuracy: 0.9971 - val_loss: 0.1487 - val_accuracy: 0.9751\n",
      "Epoch 22/100\n",
      "1500/1500 [==============================] - 3s 2ms/step - loss: 0.0086 - accuracy: 0.9971 - val_loss: 0.1391 - val_accuracy: 0.9771\n",
      "Epoch 23/100\n",
      "1500/1500 [==============================] - 3s 2ms/step - loss: 0.0082 - accuracy: 0.9973 - val_loss: 0.1363 - val_accuracy: 0.9785\n",
      "Epoch 24/100\n",
      "1500/1500 [==============================] - 3s 2ms/step - loss: 0.0089 - accuracy: 0.9975 - val_loss: 0.1582 - val_accuracy: 0.9774\n",
      "Epoch 25/100\n",
      "1500/1500 [==============================] - 3s 2ms/step - loss: 0.0066 - accuracy: 0.9980 - val_loss: 0.1460 - val_accuracy: 0.9787\n",
      "Epoch 26/100\n",
      "1500/1500 [==============================] - 3s 2ms/step - loss: 0.0066 - accuracy: 0.9976 - val_loss: 0.1457 - val_accuracy: 0.9780\n",
      "Epoch 27/100\n",
      "1500/1500 [==============================] - 3s 2ms/step - loss: 0.0083 - accuracy: 0.9973 - val_loss: 0.1430 - val_accuracy: 0.9772\n",
      "Epoch 28/100\n",
      "1500/1500 [==============================] - 3s 2ms/step - loss: 0.0068 - accuracy: 0.9978 - val_loss: 0.1525 - val_accuracy: 0.9778\n",
      "Epoch 29/100\n",
      "1500/1500 [==============================] - 2s 2ms/step - loss: 0.0087 - accuracy: 0.9972 - val_loss: 0.1834 - val_accuracy: 0.9751\n",
      "Epoch 30/100\n",
      "1500/1500 [==============================] - 2s 2ms/step - loss: 0.0057 - accuracy: 0.9982 - val_loss: 0.1726 - val_accuracy: 0.9739\n",
      "Epoch 31/100\n",
      "1500/1500 [==============================] - 3s 2ms/step - loss: 0.0079 - accuracy: 0.9975 - val_loss: 0.1793 - val_accuracy: 0.9747\n",
      "Epoch 32/100\n",
      "1500/1500 [==============================] - 3s 2ms/step - loss: 0.0049 - accuracy: 0.9985 - val_loss: 0.1790 - val_accuracy: 0.9751\n",
      "Epoch 33/100\n",
      "1500/1500 [==============================] - 3s 2ms/step - loss: 0.0094 - accuracy: 0.9970 - val_loss: 0.1892 - val_accuracy: 0.9743\n",
      "Epoch 34/100\n",
      "1500/1500 [==============================] - 3s 2ms/step - loss: 0.0048 - accuracy: 0.9983 - val_loss: 0.1869 - val_accuracy: 0.9737\n",
      "Epoch 35/100\n",
      "1500/1500 [==============================] - 3s 2ms/step - loss: 0.0068 - accuracy: 0.9980 - val_loss: 0.2114 - val_accuracy: 0.9749\n",
      "Epoch 36/100\n",
      "1500/1500 [==============================] - 3s 2ms/step - loss: 0.0078 - accuracy: 0.9976 - val_loss: 0.2116 - val_accuracy: 0.9750\n",
      "Epoch 37/100\n",
      "1500/1500 [==============================] - 3s 2ms/step - loss: 0.0076 - accuracy: 0.9979 - val_loss: 0.2061 - val_accuracy: 0.9737\n",
      "Epoch 38/100\n",
      "1500/1500 [==============================] - 3s 2ms/step - loss: 0.0059 - accuracy: 0.9982 - val_loss: 0.1921 - val_accuracy: 0.9761\n",
      "Epoch 39/100\n",
      "1500/1500 [==============================] - 3s 2ms/step - loss: 0.0068 - accuracy: 0.9979 - val_loss: 0.1875 - val_accuracy: 0.9769\n",
      "Epoch 40/100\n",
      "1500/1500 [==============================] - 3s 2ms/step - loss: 0.0049 - accuracy: 0.9984 - val_loss: 0.1856 - val_accuracy: 0.9777\n",
      "Epoch 41/100\n",
      "1500/1500 [==============================] - 2s 2ms/step - loss: 0.0046 - accuracy: 0.9984 - val_loss: 0.2133 - val_accuracy: 0.9753\n",
      "Epoch 42/100\n",
      "1500/1500 [==============================] - 3s 2ms/step - loss: 0.0074 - accuracy: 0.9975 - val_loss: 0.1996 - val_accuracy: 0.9766\n",
      "Epoch 43/100\n",
      "1500/1500 [==============================] - 3s 2ms/step - loss: 0.0047 - accuracy: 0.9985 - val_loss: 0.2021 - val_accuracy: 0.9768\n",
      "Epoch 44/100\n",
      "1500/1500 [==============================] - 2s 2ms/step - loss: 0.0076 - accuracy: 0.9978 - val_loss: 0.1866 - val_accuracy: 0.9780\n",
      "Epoch 45/100\n",
      "1500/1500 [==============================] - 2s 2ms/step - loss: 0.0023 - accuracy: 0.9994 - val_loss: 0.2326 - val_accuracy: 0.9758\n",
      "Epoch 46/100\n",
      "1500/1500 [==============================] - 2s 2ms/step - loss: 0.0102 - accuracy: 0.9973 - val_loss: 0.2029 - val_accuracy: 0.9768\n",
      "Epoch 47/100\n",
      "1500/1500 [==============================] - 2s 2ms/step - loss: 0.0039 - accuracy: 0.9989 - val_loss: 0.1944 - val_accuracy: 0.9782\n",
      "Epoch 48/100\n",
      "1500/1500 [==============================] - 3s 2ms/step - loss: 0.0072 - accuracy: 0.9979 - val_loss: 0.2328 - val_accuracy: 0.9747\n",
      "Epoch 49/100\n",
      "1500/1500 [==============================] - 2s 2ms/step - loss: 0.0056 - accuracy: 0.9983 - val_loss: 0.2326 - val_accuracy: 0.9760\n",
      "Epoch 50/100\n",
      "1500/1500 [==============================] - 3s 2ms/step - loss: 0.0056 - accuracy: 0.9984 - val_loss: 0.2377 - val_accuracy: 0.9768\n",
      "Epoch 51/100\n",
      "1500/1500 [==============================] - 3s 2ms/step - loss: 0.0043 - accuracy: 0.9989 - val_loss: 0.2146 - val_accuracy: 0.9772\n",
      "Epoch 52/100\n",
      "1500/1500 [==============================] - 3s 2ms/step - loss: 0.0054 - accuracy: 0.9984 - val_loss: 0.2086 - val_accuracy: 0.9791\n",
      "Epoch 53/100\n",
      "1500/1500 [==============================] - 3s 2ms/step - loss: 0.0064 - accuracy: 0.9984 - val_loss: 0.2334 - val_accuracy: 0.9752\n",
      "Epoch 54/100\n",
      "1500/1500 [==============================] - 3s 2ms/step - loss: 0.0057 - accuracy: 0.9985 - val_loss: 0.2554 - val_accuracy: 0.9763\n",
      "Epoch 55/100\n",
      "1500/1500 [==============================] - 3s 2ms/step - loss: 0.0065 - accuracy: 0.9983 - val_loss: 0.2295 - val_accuracy: 0.9763\n",
      "Epoch 56/100\n",
      "1500/1500 [==============================] - 3s 2ms/step - loss: 0.0040 - accuracy: 0.9986 - val_loss: 0.2309 - val_accuracy: 0.9772\n",
      "Epoch 57/100\n"
     ]
    },
    {
     "name": "stdout",
     "output_type": "stream",
     "text": [
      "1500/1500 [==============================] - 3s 2ms/step - loss: 0.0030 - accuracy: 0.9990 - val_loss: 0.2429 - val_accuracy: 0.9770\n",
      "Epoch 58/100\n",
      "1500/1500 [==============================] - 3s 2ms/step - loss: 0.0052 - accuracy: 0.9985 - val_loss: 0.2398 - val_accuracy: 0.9767\n",
      "Epoch 59/100\n",
      "1500/1500 [==============================] - 3s 2ms/step - loss: 0.0046 - accuracy: 0.9988 - val_loss: 0.2528 - val_accuracy: 0.9767\n",
      "Epoch 60/100\n",
      "1500/1500 [==============================] - 3s 2ms/step - loss: 0.0036 - accuracy: 0.9990 - val_loss: 0.2295 - val_accuracy: 0.9773\n",
      "Epoch 61/100\n",
      "1500/1500 [==============================] - 3s 2ms/step - loss: 0.0040 - accuracy: 0.9989 - val_loss: 0.2402 - val_accuracy: 0.9773\n",
      "Epoch 62/100\n",
      "1500/1500 [==============================] - 3s 2ms/step - loss: 0.0068 - accuracy: 0.9979 - val_loss: 0.2391 - val_accuracy: 0.9773\n",
      "Epoch 63/100\n",
      "1500/1500 [==============================] - 3s 2ms/step - loss: 0.0058 - accuracy: 0.9987 - val_loss: 0.2493 - val_accuracy: 0.9765\n",
      "Epoch 64/100\n",
      "1500/1500 [==============================] - 3s 2ms/step - loss: 0.0050 - accuracy: 0.9987 - val_loss: 0.2547 - val_accuracy: 0.9771\n",
      "Epoch 65/100\n",
      "1500/1500 [==============================] - 3s 2ms/step - loss: 0.0048 - accuracy: 0.9988 - val_loss: 0.2728 - val_accuracy: 0.9762\n",
      "Epoch 66/100\n",
      "1500/1500 [==============================] - 3s 2ms/step - loss: 0.0023 - accuracy: 0.9994 - val_loss: 0.2637 - val_accuracy: 0.9756\n",
      "Epoch 67/100\n",
      "1500/1500 [==============================] - 3s 2ms/step - loss: 0.0073 - accuracy: 0.9981 - val_loss: 0.2670 - val_accuracy: 0.9760\n",
      "Epoch 68/100\n",
      "1500/1500 [==============================] - 3s 2ms/step - loss: 0.0044 - accuracy: 0.9988 - val_loss: 0.2642 - val_accuracy: 0.9769\n",
      "Epoch 69/100\n",
      "1500/1500 [==============================] - 3s 2ms/step - loss: 0.0057 - accuracy: 0.9987 - val_loss: 0.2522 - val_accuracy: 0.9787\n",
      "Epoch 70/100\n",
      "1500/1500 [==============================] - 3s 2ms/step - loss: 0.0066 - accuracy: 0.9986 - val_loss: 0.2748 - val_accuracy: 0.9765\n",
      "Epoch 71/100\n",
      "1500/1500 [==============================] - 3s 2ms/step - loss: 0.0043 - accuracy: 0.9990 - val_loss: 0.2733 - val_accuracy: 0.9744\n",
      "Epoch 72/100\n",
      "1500/1500 [==============================] - 3s 2ms/step - loss: 0.0025 - accuracy: 0.9992 - val_loss: 0.2847 - val_accuracy: 0.9750\n",
      "Epoch 73/100\n",
      "1500/1500 [==============================] - 3s 2ms/step - loss: 0.0044 - accuracy: 0.9989 - val_loss: 0.3014 - val_accuracy: 0.9739\n",
      "Epoch 74/100\n",
      "1500/1500 [==============================] - 3s 2ms/step - loss: 0.0050 - accuracy: 0.9985 - val_loss: 0.2975 - val_accuracy: 0.9769\n",
      "Epoch 75/100\n",
      "1500/1500 [==============================] - 2s 2ms/step - loss: 0.0048 - accuracy: 0.9987 - val_loss: 0.2720 - val_accuracy: 0.9781\n",
      "Epoch 76/100\n",
      "1500/1500 [==============================] - 2s 2ms/step - loss: 0.0046 - accuracy: 0.9990 - val_loss: 0.3063 - val_accuracy: 0.9733\n",
      "Epoch 77/100\n",
      "1500/1500 [==============================] - 3s 2ms/step - loss: 0.0051 - accuracy: 0.9987 - val_loss: 0.2577 - val_accuracy: 0.9775\n",
      "Epoch 78/100\n",
      "1500/1500 [==============================] - 3s 2ms/step - loss: 0.0057 - accuracy: 0.9985 - val_loss: 0.2685 - val_accuracy: 0.9770\n",
      "Epoch 79/100\n",
      "1500/1500 [==============================] - 3s 2ms/step - loss: 0.0032 - accuracy: 0.9990 - val_loss: 0.2644 - val_accuracy: 0.9776\n",
      "Epoch 80/100\n",
      "1500/1500 [==============================] - 3s 2ms/step - loss: 0.0026 - accuracy: 0.9994 - val_loss: 0.2722 - val_accuracy: 0.9772\n",
      "Epoch 81/100\n",
      "1500/1500 [==============================] - 2s 2ms/step - loss: 0.0056 - accuracy: 0.9986 - val_loss: 0.3101 - val_accuracy: 0.9750\n",
      "Epoch 82/100\n",
      "1500/1500 [==============================] - 3s 2ms/step - loss: 0.0052 - accuracy: 0.9989 - val_loss: 0.2809 - val_accuracy: 0.9759\n",
      "Epoch 83/100\n",
      "1500/1500 [==============================] - 2s 2ms/step - loss: 0.0021 - accuracy: 0.9995 - val_loss: 0.3432 - val_accuracy: 0.9732\n",
      "Epoch 84/100\n",
      "1500/1500 [==============================] - 2s 2ms/step - loss: 0.0088 - accuracy: 0.9981 - val_loss: 0.2987 - val_accuracy: 0.9760\n",
      "Epoch 85/100\n",
      "1500/1500 [==============================] - 3s 2ms/step - loss: 0.0035 - accuracy: 0.9991 - val_loss: 0.2703 - val_accuracy: 0.9787\n",
      "Epoch 86/100\n",
      "1500/1500 [==============================] - 3s 2ms/step - loss: 0.0050 - accuracy: 0.9987 - val_loss: 0.2870 - val_accuracy: 0.9771\n",
      "Epoch 87/100\n",
      "1500/1500 [==============================] - 3s 2ms/step - loss: 0.0026 - accuracy: 0.9992 - val_loss: 0.2821 - val_accuracy: 0.9762\n",
      "Epoch 88/100\n",
      "1500/1500 [==============================] - 11s 7ms/step - loss: 0.0020 - accuracy: 0.9995 - val_loss: 0.3009 - val_accuracy: 0.9750\n",
      "Epoch 89/100\n",
      "1500/1500 [==============================] - 7s 4ms/step - loss: 0.0074 - accuracy: 0.9983 - val_loss: 0.2712 - val_accuracy: 0.9788\n",
      "Epoch 90/100\n",
      "1500/1500 [==============================] - 5s 3ms/step - loss: 0.0041 - accuracy: 0.9990 - val_loss: 0.3208 - val_accuracy: 0.9752\n",
      "Epoch 91/100\n",
      "1500/1500 [==============================] - 3s 2ms/step - loss: 0.0056 - accuracy: 0.9987 - val_loss: 0.3231 - val_accuracy: 0.9775\n",
      "Epoch 92/100\n",
      "1500/1500 [==============================] - 3s 2ms/step - loss: 0.0020 - accuracy: 0.9994 - val_loss: 0.3016 - val_accuracy: 0.9769\n",
      "Epoch 93/100\n",
      "1500/1500 [==============================] - 3s 2ms/step - loss: 0.0066 - accuracy: 0.9983 - val_loss: 0.3114 - val_accuracy: 0.9757\n",
      "Epoch 94/100\n",
      "1500/1500 [==============================] - 3s 2ms/step - loss: 0.0025 - accuracy: 0.9994 - val_loss: 0.2912 - val_accuracy: 0.9767\n",
      "Epoch 95/100\n",
      "1500/1500 [==============================] - 3s 2ms/step - loss: 0.0018 - accuracy: 0.9994 - val_loss: 0.3264 - val_accuracy: 0.9783\n",
      "Epoch 96/100\n",
      "1500/1500 [==============================] - 3s 2ms/step - loss: 0.0056 - accuracy: 0.9989 - val_loss: 0.2995 - val_accuracy: 0.9770\n",
      "Epoch 97/100\n",
      "1500/1500 [==============================] - 3s 2ms/step - loss: 0.0049 - accuracy: 0.9988 - val_loss: 0.2927 - val_accuracy: 0.9768\n",
      "Epoch 98/100\n",
      "1500/1500 [==============================] - 3s 2ms/step - loss: 0.0051 - accuracy: 0.9987 - val_loss: 0.3229 - val_accuracy: 0.9762\n",
      "Epoch 99/100\n",
      "1500/1500 [==============================] - 3s 2ms/step - loss: 0.0044 - accuracy: 0.9989 - val_loss: 0.2997 - val_accuracy: 0.9771\n",
      "Epoch 100/100\n",
      "1500/1500 [==============================] - 2s 2ms/step - loss: 0.0029 - accuracy: 0.9991 - val_loss: 0.3279 - val_accuracy: 0.9732\n"
     ]
    }
   ],
   "source": [
    "history = model.fit(X_train,y_train,epochs=100,validation_split=0.2)"
   ]
  },
  {
   "cell_type": "code",
   "execution_count": 18,
   "id": "82deedb1",
   "metadata": {},
   "outputs": [
    {
     "name": "stdout",
     "output_type": "stream",
     "text": [
      "313/313 [==============================] - 0s 746us/step\n"
     ]
    }
   ],
   "source": [
    "y_prob = model.predict(X_test)"
   ]
  },
  {
   "cell_type": "code",
   "execution_count": 19,
   "id": "c6e6a85d",
   "metadata": {},
   "outputs": [],
   "source": [
    "y_pred = y_prob.argmax(axis=1)"
   ]
  },
  {
   "cell_type": "code",
   "execution_count": 20,
   "id": "ff801e38",
   "metadata": {},
   "outputs": [
    {
     "data": {
      "text/plain": [
       "0.9743"
      ]
     },
     "execution_count": 20,
     "metadata": {},
     "output_type": "execute_result"
    }
   ],
   "source": [
    "from sklearn.metrics import accuracy_score\n",
    "accuracy_score(y_test,y_pred)"
   ]
  },
  {
   "cell_type": "code",
   "execution_count": 21,
   "id": "455d4270",
   "metadata": {},
   "outputs": [
    {
     "data": {
      "text/plain": [
       "[<matplotlib.lines.Line2D at 0x150be0b4430>]"
      ]
     },
     "execution_count": 21,
     "metadata": {},
     "output_type": "execute_result"
    },
    {
     "data": {
      "image/png": "[encoded data removed]",
      "text/plain": [
       "<Figure size 432x288 with 1 Axes>"
      ]
     },
     "metadata": {
      "needs_background": "light"
     },
     "output_type": "display_data"
    }
   ],
   "source": [
    "plt.plot(history.history['loss'])\n",
    "plt.plot(history.history['val_loss'])"
   ]
  },
  {
   "cell_type": "code",
   "execution_count": 22,
   "id": "f33ec905",
   "metadata": {},
   "outputs": [
    {
     "data": {
      "text/plain": [
       "[<matplotlib.lines.Line2D at 0x14f332b1790>]"
      ]
     },
     "execution_count": 22,
     "metadata": {},
     "output_type": "execute_result"
    },
    {
     "data": {
      "image/png": "[encoded data removed]",
      "text/plain": [
       "<Figure size 432x288 with 1 Axes>"
      ]
     },
     "metadata": {
      "needs_background": "light"
     },
     "output_type": "display_data"
    }
   ],
   "source": [
    "plt.plot(history.history['accuracy'])\n",
    "plt.plot(history.history['val_accuracy'])"
   ]
  },
  {
   "cell_type": "code",
   "execution_count": 23,
   "id": "dd27bc7d",
   "metadata": {},
   "outputs": [
    {
     "data": {
      "text/plain": [
       "<matplotlib.image.AxesImage at 0x15090738bb0>"
      ]
     },
     "execution_count": 23,
     "metadata": {},
     "output_type": "execute_result"
    },
    {
     "data": {
      "image/png": "[encoded data removed]",
      "text/plain": [
       "<Figure size 432x288 with 1 Axes>"
      ]
     },
     "metadata": {
      "needs_background": "light"
     },
     "output_type": "display_data"
    }
   ],
   "source": [
    "plt.imshow(X_test[1])"
   ]
  },
  {
   "cell_type": "code",
   "execution_count": 24,
   "id": "109721a6",
   "metadata": {},
   "outputs": [
    {
     "name": "stdout",
     "output_type": "stream",
     "text": [
      "1/1 [==============================] - 0s 14ms/step\n"
     ]
    },
    {
     "data": {
      "text/plain": [
       "array([2], dtype=int64)"
      ]
     },
     "execution_count": 24,
     "metadata": {},
     "output_type": "execute_result"
    }
   ],
   "source": [
    "model.predict(X_test[1].reshape(1,28,28)).argmax(axis=1)"
   ]
  }
 ],
 "metadata": {
  "kernelspec": {
   "display_name": "python 3.9(tensorflow)",
   "language": "python",
   "name": "tensorflow"
  },
  "language_info": {
   "codemirror_mode": {
    "name": "ipython",
    "version": 3
   },
   "file_extension": ".py",
   "mimetype": "text/x-python",
   "name": "python",
   "nbconvert_exporter": "python",
   "pygments_lexer": "ipython3",
   "version": "3.9.12"
  }
 },
 "nbformat": 4,
 "nbformat_minor": 5
}
