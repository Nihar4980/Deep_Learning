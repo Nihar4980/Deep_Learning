{
 "cells": [
  {
   "cell_type": "code",
   "execution_count": 1,
   "id": "64ff3093",
   "metadata": {},
   "outputs": [
    {
     "name": "stdout",
     "output_type": "stream",
     "text": [
      "Num GPUs Available:  1\n"
     ]
    }
   ],
   "source": [
    "import tensorflow as tf\n",
    "print(\"Num GPUs Available: \", len(tf.config.list_physical_devices('GPU')))"
   ]
  },
  {
   "cell_type": "code",
   "execution_count": 2,
   "id": "3a7c6bc0",
   "metadata": {},
   "outputs": [
    {
     "name": "stdout",
     "output_type": "stream",
     "text": [
      "WARNING:tensorflow:From C:\\Users\\Nihar\\AppData\\Local\\Temp\\ipykernel_4276\\337460670.py:1: is_gpu_available (from tensorflow.python.framework.test_util) is deprecated and will be removed in a future version.\n",
      "Instructions for updating:\n",
      "Use `tf.config.list_physical_devices('GPU')` instead.\n"
     ]
    },
    {
     "data": {
      "text/plain": [
       "True"
      ]
     },
     "execution_count": 2,
     "metadata": {},
     "output_type": "execute_result"
    }
   ],
   "source": [
    "tf.test.is_gpu_available()"
   ]
  },
  {
   "cell_type": "code",
   "execution_count": 3,
   "id": "f04e52ef",
   "metadata": {},
   "outputs": [],
   "source": [
    "#import os\n",
    "#os.environ['CUDA_VISIBLE_DEVICES'] = '-1'"
   ]
  },
  {
   "cell_type": "code",
   "execution_count": 3,
   "id": "3c7e138e",
   "metadata": {},
   "outputs": [],
   "source": [
    "#importing libraries\n",
    "import numpy as np\n",
    "import pandas as pd\n",
    "import matplotlib.pyplot as plt\n",
    "import seaborn as sns"
   ]
  },
  {
   "cell_type": "code",
   "execution_count": 4,
   "id": "c34a3a19",
   "metadata": {},
   "outputs": [],
   "source": [
    "# Ignore the warnings\n",
    "import warnings\n",
    "warnings.filterwarnings(\"ignore\")"
   ]
  },
  {
   "cell_type": "code",
   "execution_count": 5,
   "id": "bd91f961",
   "metadata": {},
   "outputs": [],
   "source": [
    "#loading MNIST dataset\n",
    "from tensorflow.keras.datasets import mnist\n",
    "\n",
    "(X_train,y_train) , (X_test,y_test)=mnist.load_data()"
   ]
  },
  {
   "cell_type": "code",
   "execution_count": 6,
   "id": "9719070e",
   "metadata": {},
   "outputs": [],
   "source": [
    "X_train_flat=X_train.reshape(len(X_train),28*28)\n",
    "X_test_flat=X_test.reshape(len(X_test),28*28)"
   ]
  },
  {
   "cell_type": "code",
   "execution_count": null,
   "id": "723b1143",
   "metadata": {},
   "outputs": [
    {
     "name": "stdout",
     "output_type": "stream",
     "text": [
      "Epoch 1/10000\n",
      "1875/1875 [==============================] - 8s 3ms/step - loss: 9.5427 - accuracy: 0.8405\n",
      "Epoch 2/10000\n",
      "1875/1875 [==============================] - 6s 3ms/step - loss: 5.9740 - accuracy: 0.8783\n",
      "Epoch 3/10000\n",
      "1875/1875 [==============================] - 6s 3ms/step - loss: 5.6971 - accuracy: 0.8812\n",
      "Epoch 4/10000\n",
      "1875/1875 [==============================] - 6s 3ms/step - loss: 5.5427 - accuracy: 0.8868\n",
      "Epoch 5/10000\n",
      "1875/1875 [==============================] - 6s 3ms/step - loss: 5.5419 - accuracy: 0.8851\n",
      "Epoch 6/10000\n",
      "1875/1875 [==============================] - 6s 3ms/step - loss: 5.3053 - accuracy: 0.8876\n",
      "Epoch 7/10000\n",
      "1875/1875 [==============================] - 6s 3ms/step - loss: 5.2500 - accuracy: 0.8878\n",
      "Epoch 8/10000\n",
      "1875/1875 [==============================] - 6s 3ms/step - loss: 5.2576 - accuracy: 0.8891\n",
      "Epoch 9/10000\n",
      "1875/1875 [==============================] - 6s 3ms/step - loss: 5.2763 - accuracy: 0.8897\n",
      "Epoch 10/10000\n",
      "1875/1875 [==============================] - 5s 3ms/step - loss: 5.0839 - accuracy: 0.8902\n",
      "Epoch 11/10000\n",
      " 319/1875 [====>.........................] - ETA: 4s - loss: 5.6602 - accuracy: 0.8848"
     ]
    }
   ],
   "source": [
    "#Building a simple ANN model without hidden layer\n",
    "\n",
    "from tensorflow.keras.models import Sequential\n",
    "from tensorflow.keras.layers import Dense\n",
    "\n",
    "#Step 1 : Defining the model\n",
    "model=Sequential()\n",
    "model.add(Dense(10,input_shape=(784,),activation='softmax'))\n",
    "\n",
    "#Step 2: Compiling the model\n",
    "model.compile(loss='sparse_categorical_crossentropy',optimizer='adam',metrics=['accuracy'])\n",
    "\n",
    "#Step 3: Fitting the modek\n",
    "model.fit(X_train_flat,y_train,epochs=10000)"
   ]
  },
  {
   "cell_type": "code",
   "execution_count": null,
   "id": "a2d90db4",
   "metadata": {},
   "outputs": [],
   "source": []
  }
 ],
 "metadata": {
  "kernelspec": {
   "display_name": "python 3.9(tensorflow)",
   "language": "python",
   "name": "tensorflow"
  },
  "language_info": {
   "codemirror_mode": {
    "name": "ipython",
    "version": 3
   },
   "file_extension": ".py",
   "mimetype": "text/x-python",
   "name": "python",
   "nbconvert_exporter": "python",
   "pygments_lexer": "ipython3",
   "version": "3.9.12"
  }
 },
 "nbformat": 4,
 "nbformat_minor": 5
}
