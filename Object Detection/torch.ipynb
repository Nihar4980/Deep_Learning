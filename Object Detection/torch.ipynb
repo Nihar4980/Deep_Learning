{
 "cells": [
  {
   "cell_type": "code",
   "execution_count": 1,
   "id": "86898d76-3a5c-47df-af38-9f8344da1733",
   "metadata": {},
   "outputs": [],
   "source": [
    "import torch\n",
    "import numpy as np"
   ]
  },
  {
   "cell_type": "code",
   "execution_count": 2,
   "id": "683d1cb9-77c0-46ef-a3f2-eea9ccf14079",
   "metadata": {},
   "outputs": [],
   "source": [
    "tensor = torch.tensor([[1,2,3], [4,5,6]], dtype = torch.float32,device=\"cuda\") # set datatype and device equal to cuda"
   ]
  },
  {
   "cell_type": "code",
   "execution_count": 3,
   "id": "b8d9ee95-65da-4844-9e4c-9c5b5fbb207c",
   "metadata": {},
   "outputs": [
    {
     "data": {
      "text/plain": [
       "tensor([[1., 2., 3.],\n",
       "        [4., 5., 6.]], device='cuda:0')"
      ]
     },
     "execution_count": 3,
     "metadata": {},
     "output_type": "execute_result"
    }
   ],
   "source": [
    "tensor"
   ]
  },
  {
   "cell_type": "code",
   "execution_count": 4,
   "id": "90c91de1-d022-4c97-a217-0841665c93f8",
   "metadata": {},
   "outputs": [],
   "source": [
    "tensor = torch.tensor([[1,2,3], [4,5,6]], dtype = torch.float32,device=\"cuda\", requires_grad=True) # set gradient on"
   ]
  },
  {
   "cell_type": "code",
   "execution_count": 5,
   "id": "39db137b-17be-49f3-b3e5-fa1c06095819",
   "metadata": {},
   "outputs": [
    {
     "data": {
      "text/plain": [
       "tensor([[1., 2., 3.],\n",
       "        [4., 5., 6.]], device='cuda:0', requires_grad=True)"
      ]
     },
     "execution_count": 5,
     "metadata": {},
     "output_type": "execute_result"
    }
   ],
   "source": [
    "tensor"
   ]
  },
  {
   "cell_type": "code",
   "execution_count": 6,
   "id": "4716f520-3daa-471f-aa39-4035ab677499",
   "metadata": {},
   "outputs": [],
   "source": [
    "devices = \"cuda\" if torch.cuda.is_available() else \"cpu\""
   ]
  },
  {
   "cell_type": "code",
   "execution_count": 7,
   "id": "91fa516c-25bc-4851-9f5b-af446e09bf3c",
   "metadata": {},
   "outputs": [],
   "source": [
    "tensor = torch.tensor([[1,2,3], [4,5,6]], dtype = torch.float32,device=devices, requires_grad=True)"
   ]
  },
  {
   "cell_type": "code",
   "execution_count": 8,
   "id": "633ed5f7-fd0a-4799-9e70-fcd069d622b5",
   "metadata": {},
   "outputs": [
    {
     "data": {
      "text/plain": [
       "tensor([[1., 2., 3.],\n",
       "        [4., 5., 6.]], device='cuda:0', requires_grad=True)"
      ]
     },
     "execution_count": 8,
     "metadata": {},
     "output_type": "execute_result"
    }
   ],
   "source": [
    "tensor"
   ]
  },
  {
   "cell_type": "code",
   "execution_count": 9,
   "id": "2d9c92f0-6ccc-4b09-87ed-21129cf897af",
   "metadata": {},
   "outputs": [
    {
     "name": "stdout",
     "output_type": "stream",
     "text": [
      "torch.float32\n"
     ]
    }
   ],
   "source": [
    "print(tensor.dtype)"
   ]
  },
  {
   "cell_type": "code",
   "execution_count": 10,
   "id": "f92743f6-e980-4ab6-89af-149c30cf96e4",
   "metadata": {},
   "outputs": [
    {
     "name": "stdout",
     "output_type": "stream",
     "text": [
      "cuda:0\n"
     ]
    }
   ],
   "source": [
    "print(tensor.device)"
   ]
  },
  {
   "cell_type": "code",
   "execution_count": 11,
   "id": "4a4a891c-3369-4303-9ee4-4a915fe7d1a1",
   "metadata": {},
   "outputs": [
    {
     "name": "stdout",
     "output_type": "stream",
     "text": [
      "torch.Size([2, 3])\n"
     ]
    }
   ],
   "source": [
    "print(tensor.shape)"
   ]
  },
  {
   "cell_type": "code",
   "execution_count": 12,
   "id": "a4c55af1-afa4-4905-8343-5b99549fef17",
   "metadata": {},
   "outputs": [
    {
     "name": "stdout",
     "output_type": "stream",
     "text": [
      "True\n"
     ]
    }
   ],
   "source": [
    "print(tensor.requires_grad)"
   ]
  },
  {
   "cell_type": "markdown",
   "id": "ba30a061-9d86-46f1-b42e-7f4de8e2d688",
   "metadata": {},
   "source": [
    "#### Other common initialization methods"
   ]
  },
  {
   "cell_type": "code",
   "execution_count": 13,
   "id": "ce2b0f4e-cef3-41f8-b6b3-319d9d5fea82",
   "metadata": {},
   "outputs": [
    {
     "data": {
      "text/plain": [
       "tensor([[-7.6852e+30,  1.8567e-42,  0.0000e+00],\n",
       "        [ 0.0000e+00,  0.0000e+00,  0.0000e+00],\n",
       "        [ 0.0000e+00,  0.0000e+00,  0.0000e+00]])"
      ]
     },
     "execution_count": 13,
     "metadata": {},
     "output_type": "execute_result"
    }
   ],
   "source": [
    "x = torch.empty(size = (3,3))\n",
    "x"
   ]
  },
  {
   "cell_type": "code",
   "execution_count": 14,
   "id": "5ee4bb18-c6d8-428b-a37e-6ff7267961c7",
   "metadata": {},
   "outputs": [
    {
     "data": {
      "text/plain": [
       "tensor([[0., 0., 0.],\n",
       "        [0., 0., 0.],\n",
       "        [0., 0., 0.]])"
      ]
     },
     "execution_count": 14,
     "metadata": {},
     "output_type": "execute_result"
    }
   ],
   "source": [
    "x = torch.zeros(size = (3,3))\n",
    "x"
   ]
  },
  {
   "cell_type": "code",
   "execution_count": 15,
   "id": "b822c3b9-137a-4c9a-9524-b84f2013940a",
   "metadata": {},
   "outputs": [
    {
     "data": {
      "text/plain": [
       "tensor([[0.6252, 0.5367, 0.5225],\n",
       "        [0.2018, 0.2261, 0.4043],\n",
       "        [0.9504, 0.4715, 0.0532]], device='cuda:0')"
      ]
     },
     "execution_count": 15,
     "metadata": {},
     "output_type": "execute_result"
    }
   ],
   "source": [
    "x = torch.rand((3,3),device=devices)\n",
    "x"
   ]
  },
  {
   "cell_type": "code",
   "execution_count": 16,
   "id": "38c4eb7d-81f0-4ad8-b8b9-f4e415b4a396",
   "metadata": {},
   "outputs": [
    {
     "data": {
      "text/plain": [
       "tensor([[1., 1., 1.],\n",
       "        [1., 1., 1.],\n",
       "        [1., 1., 1.]], device='cuda:0')"
      ]
     },
     "execution_count": 16,
     "metadata": {},
     "output_type": "execute_result"
    }
   ],
   "source": [
    "x = torch.ones((3,3),device=devices)\n",
    "x"
   ]
  },
  {
   "cell_type": "code",
   "execution_count": 17,
   "id": "663d5cce-61d9-4f49-a35e-adbbae460107",
   "metadata": {},
   "outputs": [
    {
     "data": {
      "text/plain": [
       "tensor([[1., 0., 0., 0., 0.],\n",
       "        [0., 1., 0., 0., 0.],\n",
       "        [0., 0., 1., 0., 0.],\n",
       "        [0., 0., 0., 1., 0.],\n",
       "        [0., 0., 0., 0., 1.]], device='cuda:0')"
      ]
     },
     "execution_count": 17,
     "metadata": {},
     "output_type": "execute_result"
    }
   ],
   "source": [
    "x = torch.eye(5,device=devices)\n",
    "x"
   ]
  },
  {
   "cell_type": "code",
   "execution_count": 18,
   "id": "7233a5a6-b353-4fec-9d22-2ec70f4cef8b",
   "metadata": {},
   "outputs": [
    {
     "data": {
      "text/plain": [
       "tensor([ 1,  2,  3,  4,  5,  6,  7,  8,  9, 10, 11, 12, 13, 14, 15, 16, 17, 18,\n",
       "        19, 20, 21, 22, 23, 24, 25, 26, 27, 28, 29, 30, 31, 32, 33, 34, 35, 36,\n",
       "        37, 38, 39, 40, 41, 42, 43, 44, 45, 46, 47, 48, 49, 50, 51, 52, 53, 54,\n",
       "        55, 56, 57, 58, 59, 60, 61, 62, 63, 64, 65, 66, 67, 68, 69, 70, 71, 72,\n",
       "        73, 74, 75, 76, 77, 78, 79, 80, 81, 82, 83, 84, 85, 86, 87, 88, 89, 90,\n",
       "        91, 92, 93, 94, 95, 96, 97, 98, 99])"
      ]
     },
     "execution_count": 18,
     "metadata": {},
     "output_type": "execute_result"
    }
   ],
   "source": [
    "x = torch.arange(1,100)\n",
    "x"
   ]
  },
  {
   "cell_type": "code",
   "execution_count": 19,
   "id": "eccfb23d-ef4f-4211-8aad-8e2b6a2e0d6e",
   "metadata": {},
   "outputs": [
    {
     "data": {
      "text/plain": [
       "tensor([  0.,  25.,  50.,  75., 100.])"
      ]
     },
     "execution_count": 19,
     "metadata": {},
     "output_type": "execute_result"
    }
   ],
   "source": [
    "x = torch.linspace(0,100,5)\n",
    "x"
   ]
  },
  {
   "cell_type": "code",
   "execution_count": 20,
   "id": "1290fdd7-0b78-4018-8941-38965bf8c117",
   "metadata": {},
   "outputs": [
    {
     "data": {
      "text/plain": [
       "tensor([-0.7177, -1.1823,  0.6271, -1.2410,  1.0090, -0.5528,  0.8139,  0.0888,\n",
       "        -1.7942,  0.6346,  1.4736, -0.8049, -0.1403,  0.4530,  0.0393,  0.9468,\n",
       "         0.0511,  1.0104,  0.4015, -0.1775,  0.1273,  2.1058,  0.9268,  0.7260,\n",
       "         1.2880, -0.3662, -1.3159, -0.2585,  0.3585, -0.3420,  0.8007, -0.5296,\n",
       "         0.2539, -1.6791,  2.0540,  1.3633, -0.3985, -0.6960, -0.4678,  0.6166,\n",
       "         1.3718, -0.7400,  1.8008,  0.3465,  1.3206,  0.7528, -0.4528,  0.6894,\n",
       "         0.7757, -0.8233,  0.1154,  0.9426,  0.1993,  1.3624, -0.9894,  0.8259,\n",
       "        -0.0681, -0.3338, -0.7862, -0.3914,  0.8845, -0.7332, -0.2583,  0.0983,\n",
       "         0.1807,  0.9893,  0.5643,  1.0620,  1.6669,  1.4660, -2.0553, -1.5040,\n",
       "        -0.5122,  1.3541, -0.5078, -1.5452,  1.7446, -0.4909,  0.8911, -0.1962,\n",
       "         1.5555,  0.2622,  0.3283, -0.3575,  0.0269, -1.2538, -0.0676,  0.9328,\n",
       "         0.9982,  0.7623,  0.9947, -1.0071,  0.4745, -0.6399,  0.7385,  0.4710,\n",
       "        -0.9340, -0.7738, -1.6621,  0.5792])"
      ]
     },
     "execution_count": 20,
     "metadata": {},
     "output_type": "execute_result"
    }
   ],
   "source": [
    "x = torch.empty(100).normal_(mean=0,std=1)\n",
    "x"
   ]
  },
  {
   "cell_type": "code",
   "execution_count": 21,
   "id": "7adaa603-a6d1-4323-aa9e-1a7d3b638eb8",
   "metadata": {},
   "outputs": [],
   "source": [
    "import seaborn as sns"
   ]
  },
  {
   "cell_type": "code",
   "execution_count": 22,
   "id": "d5c06d1b-71ab-4a54-8c56-63bf2fd692d6",
   "metadata": {},
   "outputs": [
    {
     "data": {
      "text/plain": [
       "<Axes: ylabel='Density'>"
      ]
     },
     "execution_count": 22,
     "metadata": {},
     "output_type": "execute_result"
    },
    {
     "data": {
      "image/png": "[encoded data removed]",
      "text/plain": [
       "<Figure size 640x480 with 1 Axes>"
      ]
     },
     "metadata": {},
     "output_type": "display_data"
    }
   ],
   "source": [
    "# Convert torch tensor to numpy array\n",
    "numpy_data = x.numpy()\n",
    "sns.kdeplot(numpy_data)"
   ]
  },
  {
   "cell_type": "code",
   "execution_count": 23,
   "id": "0973f8b4-25b1-497b-bcd6-bb71697caa12",
   "metadata": {},
   "outputs": [
    {
     "data": {
      "text/plain": [
       "tensor([[0.2628, 0.9813, 0.4426, 0.1228, 0.4412]])"
      ]
     },
     "execution_count": 23,
     "metadata": {},
     "output_type": "execute_result"
    }
   ],
   "source": [
    "x = torch.empty(1,5).uniform_(0,1)\n",
    "x\n"
   ]
  },
  {
   "cell_type": "code",
   "execution_count": 24,
   "id": "91f0b5c5-4194-43fa-ae31-60a7a6814ac1",
   "metadata": {},
   "outputs": [
    {
     "data": {
      "text/plain": [
       "tensor([[1., 0., 0.],\n",
       "        [0., 1., 0.],\n",
       "        [0., 0., 1.]])"
      ]
     },
     "execution_count": 24,
     "metadata": {},
     "output_type": "execute_result"
    }
   ],
   "source": [
    "x = torch.diag(torch.ones(3))\n",
    "x"
   ]
  },
  {
   "cell_type": "markdown",
   "id": "52550226-7f95-49ba-bb57-5b6b5e91a402",
   "metadata": {},
   "source": [
    "### How to initialize and convert tensors to other type (int, float, double)"
   ]
  },
  {
   "cell_type": "code",
   "execution_count": 25,
   "id": "b5973de7-d66d-4eb5-a58d-6cafe86de7e6",
   "metadata": {},
   "outputs": [
    {
     "data": {
      "text/plain": [
       "tensor([0, 1, 2, 3])"
      ]
     },
     "execution_count": 25,
     "metadata": {},
     "output_type": "execute_result"
    }
   ],
   "source": [
    "tensor = torch.arange(4)\n",
    "tensor"
   ]
  },
  {
   "cell_type": "code",
   "execution_count": 26,
   "id": "1ba2ab50-8192-4652-a821-7e43f303d948",
   "metadata": {},
   "outputs": [
    {
     "data": {
      "text/plain": [
       "torch.int64"
      ]
     },
     "execution_count": 26,
     "metadata": {},
     "output_type": "execute_result"
    }
   ],
   "source": [
    "tensor.dtype"
   ]
  },
  {
   "cell_type": "code",
   "execution_count": 27,
   "id": "188771a3-a15c-4253-896e-ede4c9d16833",
   "metadata": {},
   "outputs": [
    {
     "name": "stdout",
     "output_type": "stream",
     "text": [
      "tensor([False,  True,  True,  True])\n"
     ]
    }
   ],
   "source": [
    "print(tensor.bool())"
   ]
  },
  {
   "cell_type": "code",
   "execution_count": 28,
   "id": "1b7a6b22-4be2-495e-91f2-60c40884adfb",
   "metadata": {},
   "outputs": [
    {
     "name": "stdout",
     "output_type": "stream",
     "text": [
      "tensor([0, 1, 2, 3], dtype=torch.int16)\n"
     ]
    }
   ],
   "source": [
    "print(tensor.short())"
   ]
  },
  {
   "cell_type": "code",
   "execution_count": 29,
   "id": "0cbc5a93-ee6e-4068-99fa-f730569f149c",
   "metadata": {},
   "outputs": [
    {
     "name": "stdout",
     "output_type": "stream",
     "text": [
      "torch.int64\n"
     ]
    }
   ],
   "source": [
    "print(tensor.long().dtype)"
   ]
  },
  {
   "cell_type": "code",
   "execution_count": 30,
   "id": "d0b5dd5a-1fdd-41f4-ac5d-c8ff2c7b51f1",
   "metadata": {},
   "outputs": [
    {
     "name": "stdout",
     "output_type": "stream",
     "text": [
      "tensor([0., 1., 2., 3.], dtype=torch.float16)\n"
     ]
    }
   ],
   "source": [
    "print(tensor.half())"
   ]
  },
  {
   "cell_type": "code",
   "execution_count": 31,
   "id": "d570daa4-3b9f-47a2-8e54-bbaf7b2299c8",
   "metadata": {},
   "outputs": [
    {
     "name": "stdout",
     "output_type": "stream",
     "text": [
      "tensor([0., 1., 2., 3.])\n"
     ]
    }
   ],
   "source": [
    "print(tensor.float())"
   ]
  },
  {
   "cell_type": "code",
   "execution_count": 32,
   "id": "c51fc8a7-2261-4d8e-b84d-cfa64b8cb16b",
   "metadata": {},
   "outputs": [
    {
     "name": "stdout",
     "output_type": "stream",
     "text": [
      "torch.float32\n"
     ]
    }
   ],
   "source": [
    "print(tensor.float().dtype)"
   ]
  },
  {
   "cell_type": "code",
   "execution_count": 33,
   "id": "d98e624f-b84b-46bf-8500-e6f736609cc9",
   "metadata": {},
   "outputs": [
    {
     "name": "stdout",
     "output_type": "stream",
     "text": [
      "tensor([0., 1., 2., 3.], dtype=torch.float64)\n"
     ]
    }
   ],
   "source": [
    "print(tensor.double())"
   ]
  },
  {
   "cell_type": "markdown",
   "id": "01a71ccd-8a22-4fa3-968b-ce411b98ddf2",
   "metadata": {},
   "source": [
    "### Array to Tensor and Vice-versa"
   ]
  },
  {
   "cell_type": "code",
   "execution_count": 34,
   "id": "0c6ed01e-d3ec-4909-a962-834eb958595b",
   "metadata": {},
   "outputs": [],
   "source": [
    "np_array = np.zeros((5,5))"
   ]
  },
  {
   "cell_type": "code",
   "execution_count": 35,
   "id": "47732914-d0f4-4497-8755-d4a4b33f0ecb",
   "metadata": {},
   "outputs": [
    {
     "data": {
      "text/plain": [
       "tensor([[0., 0., 0., 0., 0.],\n",
       "        [0., 0., 0., 0., 0.],\n",
       "        [0., 0., 0., 0., 0.],\n",
       "        [0., 0., 0., 0., 0.],\n",
       "        [0., 0., 0., 0., 0.]], dtype=torch.float64)"
      ]
     },
     "execution_count": 35,
     "metadata": {},
     "output_type": "execute_result"
    }
   ],
   "source": [
    "tensor = torch.from_numpy((np_array))\n",
    "tensor"
   ]
  },
  {
   "cell_type": "code",
   "execution_count": 36,
   "id": "46646c88-ad5a-421a-8b3d-9044c38f7c32",
   "metadata": {},
   "outputs": [
    {
     "data": {
      "text/plain": [
       "tensor([[0., 0., 0., 0., 0.],\n",
       "        [0., 0., 0., 0., 0.],\n",
       "        [0., 0., 0., 0., 0.],\n",
       "        [0., 0., 0., 0., 0.],\n",
       "        [0., 0., 0., 0., 0.]], device='cuda:0', dtype=torch.float64)"
      ]
     },
     "execution_count": 36,
     "metadata": {},
     "output_type": "execute_result"
    }
   ],
   "source": [
    "tensor.to('cuda')"
   ]
  },
  {
   "cell_type": "code",
   "execution_count": 37,
   "id": "8ddccd57-c2fd-4621-9789-bf5e8336dfe5",
   "metadata": {},
   "outputs": [
    {
     "data": {
      "text/plain": [
       "array([[0., 0., 0., 0., 0.],\n",
       "       [0., 0., 0., 0., 0.],\n",
       "       [0., 0., 0., 0., 0.],\n",
       "       [0., 0., 0., 0., 0.],\n",
       "       [0., 0., 0., 0., 0.]])"
      ]
     },
     "execution_count": 37,
     "metadata": {},
     "output_type": "execute_result"
    }
   ],
   "source": [
    "np_array_back = tensor.numpy()\n",
    "np_array_back"
   ]
  },
  {
   "cell_type": "markdown",
   "id": "d60c071f-5efa-4dac-b123-c6a876629c92",
   "metadata": {},
   "source": [
    "# Tensor Math and Comaprision operator"
   ]
  },
  {
   "cell_type": "code",
   "execution_count": 38,
   "id": "26e0f9a0-ace8-4db5-b305-6aca819cdff5",
   "metadata": {},
   "outputs": [],
   "source": [
    "x = torch.tensor([1,2,3])\n",
    "y = torch.tensor([9,8,7])"
   ]
  },
  {
   "cell_type": "markdown",
   "id": "38d8df09-0b41-4c36-b411-727726d7732b",
   "metadata": {},
   "source": [
    "### Addition"
   ]
  },
  {
   "cell_type": "code",
   "execution_count": 39,
   "id": "ce1fda17-1b80-4b67-b7ce-0dcf2bcef486",
   "metadata": {},
   "outputs": [
    {
     "data": {
      "text/plain": [
       "tensor([10., 10., 10.])"
      ]
     },
     "execution_count": 39,
     "metadata": {},
     "output_type": "execute_result"
    }
   ],
   "source": [
    "z = torch.empty(3)\n",
    "\n",
    "torch.add(x,y, out = z)\n",
    "z"
   ]
  },
  {
   "cell_type": "code",
   "execution_count": 40,
   "id": "52b8a37d-4c38-4635-910d-1be4c0e44e98",
   "metadata": {},
   "outputs": [
    {
     "data": {
      "text/plain": [
       "tensor([10, 10, 10])"
      ]
     },
     "execution_count": 40,
     "metadata": {},
     "output_type": "execute_result"
    }
   ],
   "source": [
    "z = x+y\n",
    "z"
   ]
  },
  {
   "cell_type": "code",
   "execution_count": 41,
   "id": "15a84fd9-49d3-44b8-9db7-3f69a1a2efec",
   "metadata": {},
   "outputs": [
    {
     "data": {
      "text/plain": [
       "tensor([10, 10, 10])"
      ]
     },
     "execution_count": 41,
     "metadata": {},
     "output_type": "execute_result"
    }
   ],
   "source": [
    "z = torch.add(x,y)\n",
    "z"
   ]
  },
  {
   "cell_type": "code",
   "execution_count": 42,
   "id": "413a2905-4df7-431d-9c95-c21a920205f1",
   "metadata": {},
   "outputs": [
    {
     "data": {
      "text/plain": [
       "tensor([-8, -6, -4])"
      ]
     },
     "execution_count": 42,
     "metadata": {},
     "output_type": "execute_result"
    }
   ],
   "source": [
    "# Substraction\n",
    "z = x-y\n",
    "z"
   ]
  },
  {
   "cell_type": "code",
   "execution_count": 43,
   "id": "9f5c0dca-8c38-44e4-80a8-b8a0c0a323a0",
   "metadata": {},
   "outputs": [
    {
     "data": {
      "text/plain": [
       "tensor([0.1111, 0.2500, 0.4286])"
      ]
     },
     "execution_count": 43,
     "metadata": {},
     "output_type": "execute_result"
    }
   ],
   "source": [
    "# Division\n",
    "z = torch.true_divide(x,y)\n",
    "z"
   ]
  },
  {
   "cell_type": "code",
   "execution_count": 44,
   "id": "e6ffeb62-fd5d-4805-9f6c-9b24686a2bc0",
   "metadata": {},
   "outputs": [
    {
     "data": {
      "text/plain": [
       "tensor([1., 2., 3.])"
      ]
     },
     "execution_count": 44,
     "metadata": {},
     "output_type": "execute_result"
    }
   ],
   "source": [
    " # inplace operation\n",
    "t = torch.zeros(3)\n",
    "t.add_(x)"
   ]
  },
  {
   "cell_type": "code",
   "execution_count": 45,
   "id": "c42cbb14-3871-42a2-97fc-a22d9ca96fcd",
   "metadata": {},
   "outputs": [
    {
     "data": {
      "text/plain": [
       "tensor([2., 4., 6.])"
      ]
     },
     "execution_count": 45,
     "metadata": {},
     "output_type": "execute_result"
    }
   ],
   "source": [
    "t += x\n",
    "t"
   ]
  },
  {
   "cell_type": "code",
   "execution_count": 46,
   "id": "3f6fe977-a5d1-44ad-8d01-c8d996c17307",
   "metadata": {},
   "outputs": [
    {
     "data": {
      "text/plain": [
       "tensor([1, 4, 9])"
      ]
     },
     "execution_count": 46,
     "metadata": {},
     "output_type": "execute_result"
    }
   ],
   "source": [
    "z = x.pow(2)\n",
    "z"
   ]
  },
  {
   "cell_type": "code",
   "execution_count": 47,
   "id": "dc7dfa56-5fe1-40d3-a20b-2ef2feadb19f",
   "metadata": {},
   "outputs": [
    {
     "data": {
      "text/plain": [
       "tensor([1, 4, 9])"
      ]
     },
     "execution_count": 47,
     "metadata": {},
     "output_type": "execute_result"
    }
   ],
   "source": [
    "z = x**2\n",
    "z"
   ]
  },
  {
   "cell_type": "code",
   "execution_count": 48,
   "id": "5298d741-e146-47aa-951f-777f01cef217",
   "metadata": {},
   "outputs": [
    {
     "data": {
      "text/plain": [
       "tensor([True, True, True])"
      ]
     },
     "execution_count": 48,
     "metadata": {},
     "output_type": "execute_result"
    }
   ],
   "source": [
    "# Simple comparision\n",
    "\n",
    "z = x>0\n",
    "z"
   ]
  },
  {
   "cell_type": "code",
   "execution_count": 49,
   "id": "652afd0e-8478-4d2c-9d25-f049b498d039",
   "metadata": {},
   "outputs": [
    {
     "data": {
      "text/plain": [
       "tensor([False, False, False])"
      ]
     },
     "execution_count": 49,
     "metadata": {},
     "output_type": "execute_result"
    }
   ],
   "source": [
    "z = x<0\n",
    "z"
   ]
  },
  {
   "cell_type": "code",
   "execution_count": 50,
   "id": "fcbecd40-8843-4487-9ada-3623dc8c9c9b",
   "metadata": {},
   "outputs": [
    {
     "data": {
      "text/plain": [
       "tensor([[0.3222, 0.5479, 0.3904, 0.3747, 0.9414],\n",
       "        [0.0201, 0.3560, 0.2233, 0.1775, 0.1178]])"
      ]
     },
     "execution_count": 50,
     "metadata": {},
     "output_type": "execute_result"
    }
   ],
   "source": [
    "x1 = torch.rand((2,5))\n",
    "x1"
   ]
  },
  {
   "cell_type": "code",
   "execution_count": 51,
   "id": "f93461cf-1887-4496-b972-cfdf22eb430f",
   "metadata": {},
   "outputs": [
    {
     "data": {
      "text/plain": [
       "tensor([[0.7983, 0.4016, 0.5187],\n",
       "        [0.9637, 0.4045, 0.2449],\n",
       "        [0.1316, 0.7823, 0.1077],\n",
       "        [0.6184, 0.3927, 0.7776],\n",
       "        [0.8865, 0.4077, 0.3964]])"
      ]
     },
     "execution_count": 51,
     "metadata": {},
     "output_type": "execute_result"
    }
   ],
   "source": [
    "x2 = torch.rand((5,3))\n",
    "x2"
   ]
  },
  {
   "cell_type": "code",
   "execution_count": 52,
   "id": "3b860d33-b312-4f9b-ba2a-762cd16c9e1c",
   "metadata": {},
   "outputs": [
    {
     "data": {
      "text/plain": [
       "tensor([[1.9029, 1.1874, 1.0079],\n",
       "        [0.6027, 0.4445, 0.3063]])"
      ]
     },
     "execution_count": 52,
     "metadata": {},
     "output_type": "execute_result"
    }
   ],
   "source": [
    "x3 = x1.mm(x2)\n",
    "x3"
   ]
  },
  {
   "cell_type": "code",
   "execution_count": 53,
   "id": "28e1368c-075f-4461-8311-d7d2e14190a1",
   "metadata": {},
   "outputs": [
    {
     "data": {
      "text/plain": [
       "tensor([[1.9029, 1.1874, 1.0079],\n",
       "        [0.6027, 0.4445, 0.3063]])"
      ]
     },
     "execution_count": 53,
     "metadata": {},
     "output_type": "execute_result"
    }
   ],
   "source": [
    "x3 = torch.mm(x1,x2)\n",
    "x3"
   ]
  },
  {
   "cell_type": "code",
   "execution_count": 54,
   "id": "dede2ba5-0b91-4895-b033-152ce7194955",
   "metadata": {},
   "outputs": [
    {
     "data": {
      "text/plain": [
       "tensor([[5.9471e-01, 6.3824e-01, 2.3344e-01, 7.5679e-01, 4.0728e-01],\n",
       "        [5.2364e-01, 5.4286e-01, 8.2909e-02, 1.2516e-02, 9.7580e-01],\n",
       "        [4.7353e-01, 8.7373e-01, 3.7430e-02, 6.0987e-04, 2.1034e-01],\n",
       "        [5.6504e-01, 9.9361e-01, 4.5786e-01, 7.0291e-01, 2.0247e-01],\n",
       "        [9.8189e-01, 8.3984e-01, 9.3006e-01, 2.8038e-01, 7.3287e-01]])"
      ]
     },
     "execution_count": 54,
     "metadata": {},
     "output_type": "execute_result"
    }
   ],
   "source": [
    "# Matrix expoentiation\n",
    "matrix_exp = torch.rand(5,5)\n",
    "matrix_exp"
   ]
  },
  {
   "cell_type": "code",
   "execution_count": 55,
   "id": "8d3b2fdf-7ba8-4787-a659-e3fa2722a391",
   "metadata": {},
   "outputs": [
    {
     "data": {
      "text/plain": [
       "tensor([[4.4303, 5.1897, 2.3579, 2.4156, 4.0565],\n",
       "        [4.1063, 4.7229, 2.2298, 2.1271, 3.5979],\n",
       "        [2.6977, 2.9230, 1.6404, 1.3819, 2.4069],\n",
       "        [4.5973, 5.2078, 2.5267, 2.4323, 4.3154],\n",
       "        [6.0211, 6.8447, 3.2188, 3.1844, 5.6227]])"
      ]
     },
     "execution_count": 55,
     "metadata": {},
     "output_type": "execute_result"
    }
   ],
   "source": [
    "matrix_mult_three = matrix_exp.matrix_power(3)\n",
    "matrix_mult_three"
   ]
  },
  {
   "cell_type": "code",
   "execution_count": 56,
   "id": "f6819149-171a-4a65-b081-005891b24c46",
   "metadata": {},
   "outputs": [
    {
     "data": {
      "text/plain": [
       "tensor([ 9, 16, 21])"
      ]
     },
     "execution_count": 56,
     "metadata": {},
     "output_type": "execute_result"
    }
   ],
   "source": [
    "# element wise multiplication\n",
    "\n",
    "z = x*y\n",
    "z"
   ]
  },
  {
   "cell_type": "code",
   "execution_count": 57,
   "id": "91bb4b75-6dbd-476a-9dde-4516c3f7692a",
   "metadata": {},
   "outputs": [
    {
     "data": {
      "text/plain": [
       "tensor(46)"
      ]
     },
     "execution_count": 57,
     "metadata": {},
     "output_type": "execute_result"
    }
   ],
   "source": [
    "# dot product\n",
    "z = torch.dot(x,y)\n",
    "z"
   ]
  },
  {
   "cell_type": "code",
   "execution_count": 58,
   "id": "2ed0edff-54b5-427e-94d9-ba1e889cb5ea",
   "metadata": {},
   "outputs": [
    {
     "name": "stdout",
     "output_type": "stream",
     "text": [
      "tensor([[[6.9360e-01, 5.5238e-01, 6.6139e-01,  ..., 1.2436e-01,\n",
      "          1.9405e-01, 4.2462e-01],\n",
      "         [5.8681e-02, 5.2535e-01, 2.1924e-01,  ..., 1.2215e-01,\n",
      "          4.5107e-01, 8.8141e-02],\n",
      "         [3.8048e-01, 5.8822e-01, 3.2907e-02,  ..., 5.9049e-01,\n",
      "          6.8229e-01, 2.3023e-01],\n",
      "         ...,\n",
      "         [5.2517e-01, 2.1285e-01, 3.7389e-01,  ..., 9.4592e-01,\n",
      "          9.5722e-01, 8.9128e-01],\n",
      "         [8.9477e-01, 1.4846e-01, 2.4650e-01,  ..., 3.5354e-01,\n",
      "          4.3167e-01, 5.6779e-01],\n",
      "         [4.3858e-01, 9.1789e-01, 4.6598e-01,  ..., 1.3766e-02,\n",
      "          1.0088e-01, 2.2270e-01]],\n",
      "\n",
      "        [[7.0358e-01, 4.0821e-02, 8.1354e-01,  ..., 9.8796e-02,\n",
      "          2.3790e-01, 8.3232e-01],\n",
      "         [9.2395e-01, 4.6782e-01, 6.3133e-02,  ..., 3.3286e-01,\n",
      "          8.7559e-01, 9.5347e-01],\n",
      "         [3.3707e-01, 7.9322e-01, 4.1964e-01,  ..., 4.2983e-02,\n",
      "          2.3293e-01, 4.8530e-01],\n",
      "         ...,\n",
      "         [4.6950e-02, 9.3336e-01, 1.9084e-01,  ..., 5.2710e-03,\n",
      "          1.0915e-01, 3.1550e-01],\n",
      "         [7.1777e-01, 9.2031e-01, 8.3284e-01,  ..., 2.1291e-01,\n",
      "          6.9373e-01, 4.9204e-01],\n",
      "         [1.5748e-01, 7.3784e-01, 9.6047e-01,  ..., 2.0079e-01,\n",
      "          5.4625e-01, 6.2564e-02]],\n",
      "\n",
      "        [[2.6675e-01, 3.2724e-02, 1.3604e-01,  ..., 2.6582e-01,\n",
      "          5.5805e-01, 6.2744e-01],\n",
      "         [2.4019e-01, 8.9846e-01, 5.6836e-01,  ..., 9.5664e-01,\n",
      "          3.1482e-02, 4.8991e-01],\n",
      "         [8.9153e-01, 7.8603e-01, 9.7768e-01,  ..., 1.6453e-01,\n",
      "          7.0829e-01, 8.9780e-01],\n",
      "         ...,\n",
      "         [5.8899e-01, 9.6914e-01, 7.7646e-01,  ..., 3.0713e-01,\n",
      "          7.1031e-01, 3.2149e-01],\n",
      "         [5.2256e-01, 7.9835e-01, 6.3946e-01,  ..., 2.5058e-01,\n",
      "          9.3140e-01, 4.3163e-01],\n",
      "         [8.3932e-01, 7.6113e-01, 3.2684e-01,  ..., 1.0378e-01,\n",
      "          8.1829e-01, 7.4394e-01]],\n",
      "\n",
      "        ...,\n",
      "\n",
      "        [[5.2806e-01, 3.0933e-01, 7.6497e-04,  ..., 8.2490e-01,\n",
      "          6.2128e-01, 8.8451e-02],\n",
      "         [3.6657e-01, 6.7367e-01, 8.4711e-01,  ..., 2.4431e-01,\n",
      "          4.6486e-03, 3.5461e-02],\n",
      "         [5.0420e-01, 5.1746e-01, 7.1822e-02,  ..., 1.0396e-01,\n",
      "          8.9635e-01, 6.7367e-01],\n",
      "         ...,\n",
      "         [5.5975e-01, 8.2340e-01, 8.9853e-01,  ..., 6.9665e-01,\n",
      "          5.3584e-01, 8.9405e-01],\n",
      "         [1.9925e-01, 6.7448e-01, 3.6145e-01,  ..., 4.1862e-03,\n",
      "          3.9795e-01, 8.1698e-01],\n",
      "         [9.3409e-01, 2.2939e-01, 9.3984e-01,  ..., 8.5517e-01,\n",
      "          3.3809e-01, 8.1253e-03]],\n",
      "\n",
      "        [[4.2074e-02, 8.2996e-01, 5.9956e-02,  ..., 3.1101e-01,\n",
      "          2.4097e-01, 3.3945e-03],\n",
      "         [8.2754e-01, 8.1180e-02, 1.2950e-01,  ..., 3.6662e-01,\n",
      "          8.4926e-01, 9.2902e-01],\n",
      "         [9.3805e-01, 8.6826e-01, 6.8348e-01,  ..., 7.0025e-01,\n",
      "          1.8601e-01, 2.1087e-01],\n",
      "         ...,\n",
      "         [7.3249e-01, 4.5052e-01, 4.5200e-01,  ..., 5.8753e-01,\n",
      "          3.3414e-01, 9.3770e-01],\n",
      "         [9.7992e-01, 4.8835e-01, 7.4249e-01,  ..., 8.0131e-01,\n",
      "          6.6329e-01, 5.8708e-01],\n",
      "         [5.2074e-01, 4.9895e-01, 1.3175e-01,  ..., 6.8168e-01,\n",
      "          5.4314e-01, 2.2674e-01]],\n",
      "\n",
      "        [[4.7793e-01, 1.9546e-01, 8.9787e-01,  ..., 7.1145e-01,\n",
      "          9.9527e-01, 2.9983e-01],\n",
      "         [7.8038e-01, 2.6388e-01, 3.2360e-01,  ..., 1.4936e-01,\n",
      "          2.3249e-01, 5.0215e-01],\n",
      "         [2.2907e-02, 1.9675e-01, 5.0401e-01,  ..., 2.0420e-01,\n",
      "          9.9842e-02, 4.1167e-01],\n",
      "         ...,\n",
      "         [7.2388e-02, 1.0195e-01, 6.0166e-01,  ..., 8.1337e-01,\n",
      "          9.3489e-01, 3.4604e-01],\n",
      "         [5.4869e-02, 4.3438e-02, 1.8486e-01,  ..., 5.1511e-02,\n",
      "          9.1421e-01, 4.6191e-01],\n",
      "         [8.2263e-01, 7.4999e-02, 5.1302e-01,  ..., 5.4625e-01,\n",
      "          7.6759e-01, 4.0369e-01]]])\n",
      "\n",
      "\n",
      "tensor([[[0.5266, 0.9439, 0.5598,  ..., 0.8380, 0.7795, 0.3456],\n",
      "         [0.3588, 0.8695, 0.5109,  ..., 0.2929, 0.6973, 0.2582],\n",
      "         [0.1195, 0.2046, 0.6870,  ..., 0.4097, 0.0627, 0.4685],\n",
      "         ...,\n",
      "         [0.6208, 0.0352, 0.5429,  ..., 0.1092, 0.4286, 0.2490],\n",
      "         [0.1754, 0.9078, 0.8871,  ..., 0.9663, 0.0565, 0.5737],\n",
      "         [0.8868, 0.2150, 0.7834,  ..., 0.2702, 0.6558, 0.5972]],\n",
      "\n",
      "        [[0.6281, 0.0287, 0.1761,  ..., 0.2824, 0.3126, 0.8158],\n",
      "         [0.4727, 0.4027, 0.4131,  ..., 0.2752, 0.0589, 0.5904],\n",
      "         [0.7752, 0.5310, 0.9469,  ..., 0.0324, 0.1268, 0.7160],\n",
      "         ...,\n",
      "         [0.0411, 0.7106, 0.5462,  ..., 0.4222, 0.6346, 0.7157],\n",
      "         [0.3348, 0.0421, 0.7987,  ..., 0.2866, 0.5575, 0.7586],\n",
      "         [0.2513, 0.4677, 0.1310,  ..., 0.4916, 0.3834, 0.6259]],\n",
      "\n",
      "        [[0.8051, 0.7534, 0.6095,  ..., 0.3515, 0.2321, 0.0586],\n",
      "         [0.5586, 0.2774, 0.9249,  ..., 0.5903, 0.3796, 0.1350],\n",
      "         [0.8553, 0.4940, 0.6489,  ..., 0.9665, 0.3422, 0.0960],\n",
      "         ...,\n",
      "         [0.3809, 0.0737, 0.5437,  ..., 0.4449, 0.8236, 0.5476],\n",
      "         [0.1396, 0.3342, 0.2009,  ..., 0.2312, 0.4259, 0.6792],\n",
      "         [0.1109, 0.0909, 0.5148,  ..., 0.4317, 0.6779, 0.5154]],\n",
      "\n",
      "        ...,\n",
      "\n",
      "        [[0.4530, 0.1938, 0.1798,  ..., 0.7289, 0.1251, 0.5682],\n",
      "         [0.9315, 0.5684, 0.4457,  ..., 0.8703, 0.1742, 0.6465],\n",
      "         [0.4949, 0.3367, 0.4698,  ..., 0.7598, 0.4472, 0.7959],\n",
      "         ...,\n",
      "         [0.3839, 0.9299, 0.9836,  ..., 0.0887, 0.7630, 0.6218],\n",
      "         [0.4106, 0.4563, 0.3716,  ..., 0.7942, 0.6185, 0.0940],\n",
      "         [0.9842, 0.2733, 0.3238,  ..., 0.1543, 0.4014, 0.3254]],\n",
      "\n",
      "        [[0.9258, 0.6060, 0.7247,  ..., 0.1649, 0.8558, 0.4531],\n",
      "         [0.3410, 0.7465, 0.6816,  ..., 0.6546, 0.7721, 0.1778],\n",
      "         [0.0523, 0.3728, 0.8137,  ..., 0.0367, 0.9557, 0.6480],\n",
      "         ...,\n",
      "         [0.1283, 0.8870, 0.9533,  ..., 0.4345, 0.9668, 0.1815],\n",
      "         [0.3104, 0.9502, 0.0279,  ..., 0.0986, 0.0133, 0.9012],\n",
      "         [0.2205, 0.2114, 0.6183,  ..., 0.7744, 0.1695, 0.4558]],\n",
      "\n",
      "        [[0.4320, 0.5720, 0.5920,  ..., 0.4730, 0.4110, 0.4795],\n",
      "         [0.3887, 0.0622, 0.2605,  ..., 0.2254, 0.8462, 0.7889],\n",
      "         [0.4434, 0.0609, 0.8728,  ..., 0.4124, 0.7578, 0.9561],\n",
      "         ...,\n",
      "         [0.2995, 0.1703, 0.2451,  ..., 0.3558, 0.3413, 0.6473],\n",
      "         [0.3516, 0.9623, 0.4336,  ..., 0.5213, 0.5250, 0.4143],\n",
      "         [0.5648, 0.7003, 0.1831,  ..., 0.9336, 0.8590, 0.6533]]])\n"
     ]
    }
   ],
   "source": [
    "# Batch Matrix Multiplication\n",
    "batch = 32\n",
    "n = 10\n",
    "m = 20\n",
    "p = 30\n",
    "\n",
    "tensor1 = torch.rand((batch, n, m))\n",
    "tensor2 = torch.rand((batch, m, p))\n",
    "print(tensor1)\n",
    "print('\\n')\n",
    "print(tensor2)"
   ]
  },
  {
   "cell_type": "code",
   "execution_count": 59,
   "id": "f73a9935-c119-4a1e-b831-ac101a379a87",
   "metadata": {},
   "outputs": [
    {
     "data": {
      "text/plain": [
       "tensor([[[6.3776, 5.4144, 5.8981,  ..., 4.5912, 5.2495, 4.9343],\n",
       "         [4.4290, 3.9819, 4.0735,  ..., 2.9068, 3.4945, 3.3843],\n",
       "         [4.8000, 4.2200, 5.2731,  ..., 3.6157, 4.0125, 3.6127],\n",
       "         ...,\n",
       "         [6.8605, 5.4285, 6.7615,  ..., 5.5966, 5.0855, 5.1585],\n",
       "         [5.2532, 4.7625, 4.8455,  ..., 3.7432, 4.4101, 4.5869],\n",
       "         [6.3689, 5.6761, 5.7921,  ..., 4.5514, 5.2162, 4.6601]],\n",
       "\n",
       "        [[5.5978, 4.7829, 5.1307,  ..., 2.7763, 3.7990, 4.9832],\n",
       "         [6.3564, 6.1595, 6.5177,  ..., 4.5406, 5.5953, 6.9926],\n",
       "         [5.2882, 4.6831, 5.6623,  ..., 2.8979, 3.8559, 4.6632],\n",
       "         ...,\n",
       "         [4.0879, 4.6565, 4.5031,  ..., 2.6555, 3.6023, 4.0538],\n",
       "         [5.2644, 5.3026, 6.1673,  ..., 4.0538, 4.1250, 6.0036],\n",
       "         [6.0325, 5.9716, 6.7229,  ..., 3.8126, 4.3803, 6.0935]],\n",
       "\n",
       "        [[3.6094, 2.9497, 4.5523,  ..., 3.9157, 3.6206, 5.7296],\n",
       "         [4.7080, 2.8885, 5.5785,  ..., 4.6933, 3.7945, 5.2032],\n",
       "         [5.8350, 4.0672, 5.9984,  ..., 5.4167, 3.9202, 5.1233],\n",
       "         ...,\n",
       "         [5.0913, 3.0716, 5.1631,  ..., 4.5254, 3.2835, 5.2599],\n",
       "         [6.3379, 4.4087, 6.9050,  ..., 5.5076, 4.5087, 7.5475],\n",
       "         [4.9665, 3.2239, 5.4503,  ..., 5.0238, 3.7776, 5.8807]],\n",
       "\n",
       "        ...,\n",
       "\n",
       "        [[4.3941, 4.5321, 5.3625,  ..., 4.9107, 4.7155, 4.0497],\n",
       "         [3.9053, 4.2540, 4.2425,  ..., 5.0975, 4.1625, 3.9613],\n",
       "         [5.6926, 4.9148, 5.5920,  ..., 6.3920, 5.8121, 4.5422],\n",
       "         ...,\n",
       "         [6.3415, 5.1245, 5.9606,  ..., 5.8237, 6.3769, 5.2292],\n",
       "         [4.1710, 3.7065, 3.7875,  ..., 4.2272, 4.1129, 3.2261],\n",
       "         [5.7276, 5.4054, 6.3314,  ..., 6.5936, 6.5409, 4.8112]],\n",
       "\n",
       "        [[2.8101, 6.4890, 5.4765,  ..., 4.3046, 5.0293, 4.9041],\n",
       "         [4.4550, 7.0312, 5.7443,  ..., 4.7498, 5.2918, 6.2060],\n",
       "         [3.7974, 7.0980, 6.3509,  ..., 4.6139, 6.7668, 5.9544],\n",
       "         ...,\n",
       "         [3.7194, 5.5929, 5.1436,  ..., 4.5648, 5.1277, 5.2173],\n",
       "         [4.3508, 6.8253, 6.0636,  ..., 5.0317, 6.4279, 5.9192],\n",
       "         [3.2530, 5.9737, 5.0345,  ..., 4.0710, 5.3627, 4.9610]],\n",
       "\n",
       "        [[6.2526, 5.3732, 5.1099,  ..., 6.0557, 5.2433, 6.6821],\n",
       "         [5.6198, 4.2977, 4.0009,  ..., 4.9167, 4.4062, 6.1709],\n",
       "         [4.5375, 3.0899, 3.3534,  ..., 4.2024, 3.9576, 4.8662],\n",
       "         ...,\n",
       "         [5.5001, 5.0791, 4.2366,  ..., 4.7579, 4.5580, 5.8906],\n",
       "         [5.2459, 4.8445, 3.7778,  ..., 4.5795, 4.2861, 5.0978],\n",
       "         [6.1883, 5.0915, 4.5149,  ..., 6.0062, 5.2652, 6.4423]]])"
      ]
     },
     "execution_count": 59,
     "metadata": {},
     "output_type": "execute_result"
    }
   ],
   "source": [
    "out_bmm = torch.bmm(tensor1,tensor2) # (batch, n, p)\n",
    "out_bmm"
   ]
  },
  {
   "cell_type": "code",
   "execution_count": 60,
   "id": "bff279df-22c4-4791-8626-9b744ef91b64",
   "metadata": {},
   "outputs": [
    {
     "name": "stdout",
     "output_type": "stream",
     "text": [
      "torch.Size([32, 10, 20])\n",
      "torch.Size([32, 20, 30])\n",
      "torch.Size([32, 10, 30])\n"
     ]
    }
   ],
   "source": [
    "print(tensor1.shape, tensor2.shape, out_bmm.shape, sep = '\\n')"
   ]
  },
  {
   "cell_type": "code",
   "execution_count": 61,
   "id": "82ce0813-3db9-4015-a3ed-455e13105790",
   "metadata": {},
   "outputs": [
    {
     "data": {
      "text/plain": [
       "10"
      ]
     },
     "execution_count": 61,
     "metadata": {},
     "output_type": "execute_result"
    }
   ],
   "source": [
    "len(out_bmm[0])"
   ]
  },
  {
   "cell_type": "code",
   "execution_count": 62,
   "id": "78c48ef4-a764-4f16-a544-dd01afa5e83d",
   "metadata": {},
   "outputs": [
    {
     "name": "stdout",
     "output_type": "stream",
     "text": [
      "tensor([[0.0376, 0.2145, 0.8367, 0.2025, 0.7477],\n",
      "        [0.3564, 0.4678, 0.9504, 0.3455, 0.0653],\n",
      "        [0.0620, 0.5742, 0.8086, 0.4428, 0.4458],\n",
      "        [0.7864, 0.0081, 0.8428, 0.9737, 0.2456],\n",
      "        [0.0741, 0.4234, 0.5473, 0.5066, 0.3475]])/ntensor([[0.2057, 0.4901, 0.3086, 0.6677, 0.6881]])\n"
     ]
    }
   ],
   "source": [
    "# Example of Broadcasting\n",
    "x1 = torch.rand((5,5))\n",
    "x2 = torch.rand((1,5))\n",
    "\n",
    "print(x1,x2, sep ='/n')\n"
   ]
  },
  {
   "cell_type": "code",
   "execution_count": 63,
   "id": "e77c037a-d8ec-4de4-b3b8-3a64545e9d4f",
   "metadata": {},
   "outputs": [
    {
     "data": {
      "text/plain": [
       "tensor([[-0.1680, -0.2756,  0.5281, -0.4652,  0.0596],\n",
       "        [ 0.1507, -0.0223,  0.6418, -0.3222, -0.6227],\n",
       "        [-0.1437,  0.0841,  0.5000, -0.2249, -0.2423],\n",
       "        [ 0.5808, -0.4820,  0.5342,  0.3060, -0.4425],\n",
       "        [-0.1315, -0.0667,  0.2387, -0.1610, -0.3406]])"
      ]
     },
     "execution_count": 63,
     "metadata": {},
     "output_type": "execute_result"
    }
   ],
   "source": [
    "z = x1-x2\n",
    "z"
   ]
  },
  {
   "cell_type": "code",
   "execution_count": 64,
   "id": "6b8c4cc1-9124-4fcf-a2a8-412165077f18",
   "metadata": {},
   "outputs": [
    {
     "name": "stdout",
     "output_type": "stream",
     "text": [
      "tensor([[0.7902, 0.7181, 0.6343, 0.3330, 0.8862],\n",
      "        [0.8564, 0.7946, 0.5215, 0.3536, 0.1310],\n",
      "        [0.6023, 0.8202, 0.9596, 0.0202, 0.5989],\n",
      "        [0.4944, 0.6518, 0.5767, 0.3102, 0.2378],\n",
      "        [0.3979, 0.1052, 0.3797, 0.7173, 0.6688]])/ntensor([[0.3249],\n",
      "        [0.7975],\n",
      "        [0.6314],\n",
      "        [0.0657],\n",
      "        [0.8643]])\n"
     ]
    },
    {
     "data": {
      "text/plain": [
       "tensor([[ 0.4653,  0.3932,  0.3094,  0.0080,  0.5613],\n",
       "        [ 0.0589, -0.0029, -0.2760, -0.4439, -0.6665],\n",
       "        [-0.0290,  0.1888,  0.3283, -0.6111, -0.0324],\n",
       "        [ 0.4287,  0.5861,  0.5110,  0.2445,  0.1721],\n",
       "        [-0.4663, -0.7591, -0.4845, -0.1469, -0.1955]])"
      ]
     },
     "execution_count": 64,
     "metadata": {},
     "output_type": "execute_result"
    }
   ],
   "source": [
    "# Example of Broadcasting\n",
    "x1 = torch.rand((5,5))\n",
    "x2 = torch.rand((5,1))\n",
    "print(x1,x2, sep ='/n')\n",
    "z = x1-x2\n",
    "z"
   ]
  },
  {
   "cell_type": "code",
   "execution_count": 65,
   "id": "930671ec-ba74-40a2-96ac-18cc0031ef80",
   "metadata": {},
   "outputs": [
    {
     "data": {
      "text/plain": [
       "-0.6000000000000001"
      ]
     },
     "execution_count": 65,
     "metadata": {},
     "output_type": "execute_result"
    }
   ],
   "source": [
    "0.2-0.8"
   ]
  },
  {
   "cell_type": "code",
   "execution_count": 66,
   "id": "c4895503-1516-4d46-99bb-2d062762b75e",
   "metadata": {},
   "outputs": [
    {
     "data": {
      "text/plain": [
       "tensor([[0.9263, 0.8980, 0.8625, 0.6996, 0.9615],\n",
       "        [0.8837, 0.8324, 0.5950, 0.4364, 0.1977],\n",
       "        [0.7261, 0.8824, 0.9743, 0.0852, 0.7235],\n",
       "        [0.9548, 0.9723, 0.9645, 0.9259, 0.9099],\n",
       "        [0.4509, 0.1428, 0.4331, 0.7504, 0.7063]])"
      ]
     },
     "execution_count": 66,
     "metadata": {},
     "output_type": "execute_result"
    }
   ],
   "source": [
    "z = x1**x2\n",
    "z"
   ]
  },
  {
   "cell_type": "code",
   "execution_count": 67,
   "id": "94973cb6-0126-4a09-bc36-7745730666c4",
   "metadata": {},
   "outputs": [
    {
     "data": {
      "text/plain": [
       "0.27092292813079355"
      ]
     },
     "execution_count": 67,
     "metadata": {},
     "output_type": "execute_result"
    }
   ],
   "source": [
    "0.2073**0.8299"
   ]
  },
  {
   "cell_type": "code",
   "execution_count": 68,
   "id": "ffc8ce65-c0b3-4759-8ac7-22239cf5932e",
   "metadata": {},
   "outputs": [
    {
     "data": {
      "text/plain": [
       "0.9454"
      ]
     },
     "execution_count": 68,
     "metadata": {},
     "output_type": "execute_result"
    }
   ],
   "source": [
    "round(0.737**0.1840,4)"
   ]
  },
  {
   "cell_type": "code",
   "execution_count": 69,
   "id": "1c38d8a3-e012-4ddd-853f-51ce88a51fad",
   "metadata": {},
   "outputs": [
    {
     "ename": "NameError",
     "evalue": "name 'truncate' is not defined",
     "output_type": "error",
     "traceback": [
      "\u001b[1;31m---------------------------------------------------------------------------\u001b[0m",
      "\u001b[1;31mNameError\u001b[0m                                 Traceback (most recent call last)",
      "Cell \u001b[1;32mIn[69], line 1\u001b[0m\n\u001b[1;32m----> 1\u001b[0m \u001b[43mtruncate\u001b[49m(\u001b[38;5;241m19.5\u001b[39m)\n",
      "\u001b[1;31mNameError\u001b[0m: name 'truncate' is not defined"
     ]
    }
   ],
   "source": [
    "truncate(19.5)"
   ]
  },
  {
   "cell_type": "code",
   "execution_count": 70,
   "id": "8f34e338-2bb5-4abd-963c-601c9d43d1b9",
   "metadata": {},
   "outputs": [],
   "source": [
    "import math"
   ]
  },
  {
   "cell_type": "code",
   "execution_count": 71,
   "id": "7cea6da1-1ae4-41d2-a59a-24f5d21f4db3",
   "metadata": {},
   "outputs": [
    {
     "data": {
      "text/plain": [
       "-0.3048106211022167"
      ]
     },
     "execution_count": 71,
     "metadata": {},
     "output_type": "execute_result"
    }
   ],
   "source": [
    "math.sin(60)"
   ]
  },
  {
   "cell_type": "code",
   "execution_count": 72,
   "id": "8683fdd5-6c35-4e5b-a18d-c3941fadc0b2",
   "metadata": {},
   "outputs": [
    {
     "data": {
      "text/plain": [
       "-0.3048106211022167"
      ]
     },
     "execution_count": 72,
     "metadata": {},
     "output_type": "execute_result"
    }
   ],
   "source": [
    "np.sin(60)"
   ]
  },
  {
   "cell_type": "code",
   "execution_count": 73,
   "id": "9e7739ea-902e-4a00-9e66-843b908b33e8",
   "metadata": {},
   "outputs": [
    {
     "data": {
      "text/plain": [
       "tensor([-0.30481061339378356934])"
      ]
     },
     "execution_count": 73,
     "metadata": {},
     "output_type": "execute_result"
    }
   ],
   "source": [
    "torch.set_printoptions(precision=20)\n",
    "torch.sin(torch.FloatTensor([60]))"
   ]
  },
  {
   "cell_type": "code",
   "execution_count": 74,
   "id": "ebe177ed-b0f6-4ef3-b939-30a2732c92dc",
   "metadata": {},
   "outputs": [
    {
     "data": {
      "text/plain": [
       "tensor([[ 0.46526432037353515625,  0.39321690797805786133,\n",
       "          0.30937618017196655273,  0.00804591178894042969,\n",
       "          0.56130826473236083984],\n",
       "        [ 0.05886852741241455078, -0.00293934345245361328,\n",
       "         -0.27596825361251831055, -0.44391703605651855469,\n",
       "         -0.66648101806640625000],\n",
       "        [-0.02903360128402709961,  0.18883937597274780273,\n",
       "          0.32825976610183715820, -0.61111998558044433594,\n",
       "         -0.03240692615509033203],\n",
       "        [ 0.42868131399154663086,  0.58611035346984863281,\n",
       "          0.51097607612609863281,  0.24447220563888549805,\n",
       "          0.17207044363021850586],\n",
       "        [-0.46634531021118164062, -0.75909060239791870117,\n",
       "         -0.48452913761138916016, -0.14693742990493774414,\n",
       "         -0.19548434019088745117]])"
      ]
     },
     "execution_count": 74,
     "metadata": {},
     "output_type": "execute_result"
    }
   ],
   "source": [
    "z = x1-x2\n",
    "z"
   ]
  },
  {
   "cell_type": "code",
   "execution_count": 75,
   "id": "3d0ab045-cdf0-466e-becc-0294afab1639",
   "metadata": {},
   "outputs": [],
   "source": [
    "def round(n,place=1):\n",
    "    return float(str(n).split('.')[0] +'.'+str(n).split('.')[1][:place])"
   ]
  },
  {
   "cell_type": "code",
   "execution_count": 76,
   "id": "7dcb9a6f-918e-4727-962b-7be882477d41",
   "metadata": {},
   "outputs": [
    {
     "data": {
      "text/plain": [
       "23.0"
      ]
     },
     "execution_count": 76,
     "metadata": {},
     "output_type": "execute_result"
    }
   ],
   "source": [
    "round(23.4445,0)\n",
    "   "
   ]
  },
  {
   "cell_type": "code",
   "execution_count": 77,
   "id": "3ef05d4a-111a-4a1f-8104-7e17ebbbfe33",
   "metadata": {},
   "outputs": [
    {
     "data": {
      "text/plain": [
       "100.65"
      ]
     },
     "execution_count": 77,
     "metadata": {},
     "output_type": "execute_result"
    }
   ],
   "source": [
    "float(str(100.65555).split('.')[0] +'.'+str(100.65555).split('.')[1][:2])"
   ]
  },
  {
   "cell_type": "code",
   "execution_count": 78,
   "id": "faf4e906-5eb6-4aa3-8e8b-c58246b9e12c",
   "metadata": {},
   "outputs": [
    {
     "data": {
      "text/plain": [
       "5"
      ]
     },
     "execution_count": 78,
     "metadata": {},
     "output_type": "execute_result"
    }
   ],
   "source": [
    "len(str(100.65555).split('.')[1])"
   ]
  },
  {
   "cell_type": "code",
   "execution_count": 79,
   "id": "7329ac88-dd81-409c-ac43-adf69ad8f000",
   "metadata": {},
   "outputs": [
    {
     "name": "stdout",
     "output_type": "stream",
     "text": [
      "3.0\n"
     ]
    }
   ],
   "source": [
    "def custom_round(number, decimal_places=0):\n",
    "    multiplier = 10 ** decimal_places\n",
    "    rounded_number = int(number * multiplier) / multiplier\n",
    "    return rounded_number\n",
    "\n",
    "# Example usage:\n",
    "num = 3.14159\n",
    "rounded_num = custom_round(num)\n",
    "print(rounded_num)  # Output: 3.14\n"
   ]
  },
  {
   "cell_type": "code",
   "execution_count": 80,
   "id": "852ebc67-34ed-4e84-8c6a-5d8ae3cd3c21",
   "metadata": {},
   "outputs": [
    {
     "data": {
      "text/plain": [
       "10.1"
      ]
     },
     "execution_count": 80,
     "metadata": {},
     "output_type": "execute_result"
    }
   ],
   "source": [
    "int(10.11111111*10)/10"
   ]
  },
  {
   "cell_type": "code",
   "execution_count": 81,
   "id": "c9475db9-ea98-4218-a20e-557aec1092be",
   "metadata": {},
   "outputs": [
    {
     "data": {
      "text/plain": [
       "17"
      ]
     },
     "execution_count": 81,
     "metadata": {},
     "output_type": "execute_result"
    }
   ],
   "source": [
    "len(str(1.999999999999999))"
   ]
  },
  {
   "cell_type": "code",
   "execution_count": 82,
   "id": "93f271a5-b877-4922-a48c-d7462f4b1fba",
   "metadata": {},
   "outputs": [
    {
     "data": {
      "text/plain": [
       "1"
      ]
     },
     "execution_count": 82,
     "metadata": {},
     "output_type": "execute_result"
    }
   ],
   "source": [
    "int(1.9)"
   ]
  },
  {
   "cell_type": "code",
   "execution_count": 83,
   "id": "9342290f-030c-4989-a047-6bddd005024b",
   "metadata": {},
   "outputs": [],
   "source": [
    "# Other useful tensor operation"
   ]
  },
  {
   "cell_type": "code",
   "execution_count": 84,
   "id": "de98dae1-63c2-460b-8e41-76eccb1cf5d8",
   "metadata": {},
   "outputs": [
    {
     "data": {
      "text/plain": [
       "tensor([1, 2, 3])"
      ]
     },
     "execution_count": 84,
     "metadata": {},
     "output_type": "execute_result"
    }
   ],
   "source": [
    "x"
   ]
  },
  {
   "cell_type": "code",
   "execution_count": 85,
   "id": "f61b996f-e5d6-4116-86fe-79170204dcb1",
   "metadata": {},
   "outputs": [
    {
     "data": {
      "text/plain": [
       "tensor(6)"
      ]
     },
     "execution_count": 85,
     "metadata": {},
     "output_type": "execute_result"
    }
   ],
   "source": [
    "sum_x = torch.sum(x,dim=0)\n",
    "sum_x"
   ]
  },
  {
   "cell_type": "code",
   "execution_count": 86,
   "id": "737c4703-20bd-46f8-bf92-7e3e2ba8db0c",
   "metadata": {},
   "outputs": [],
   "source": [
    "values, indices = torch.max(x,dim=0)"
   ]
  },
  {
   "cell_type": "code",
   "execution_count": 87,
   "id": "5d4f4d2c-d0a9-48ef-a707-9b76baa75908",
   "metadata": {},
   "outputs": [
    {
     "name": "stdout",
     "output_type": "stream",
     "text": [
      "tensor(3) tensor(2)\n"
     ]
    }
   ],
   "source": [
    "print(values, indices)"
   ]
  },
  {
   "cell_type": "code",
   "execution_count": 88,
   "id": "f260ad5e-31aa-4daf-a6bd-7037b8b2f0b4",
   "metadata": {},
   "outputs": [
    {
     "data": {
      "text/plain": [
       "tensor(1)"
      ]
     },
     "execution_count": 88,
     "metadata": {},
     "output_type": "execute_result"
    }
   ],
   "source": [
    "x[0]"
   ]
  },
  {
   "cell_type": "code",
   "execution_count": 89,
   "id": "763686de-223b-40f8-a571-a07b8e6f6a07",
   "metadata": {},
   "outputs": [
    {
     "data": {
      "text/plain": [
       "tensor([[0.46399754285812377930, 0.72130876779556274414, 0.22891366481781005859,\n",
       "         0.37719196081161499023, 0.23266667127609252930],\n",
       "        [0.27111083269119262695, 0.96368151903152465820, 0.11210489273071289062,\n",
       "         0.22653204202651977539, 0.28208506107330322266],\n",
       "        [0.93917685747146606445, 0.73945635557174682617, 0.47974216938018798828,\n",
       "         0.37136751413345336914, 0.30786985158920288086],\n",
       "        [0.38136696815490722656, 0.04631322622299194336, 0.54092407226562500000,\n",
       "         0.64299809932708740234, 0.76336807012557983398],\n",
       "        [0.54195499420166015625, 0.81443983316421508789, 0.79318273067474365234,\n",
       "         0.05478918552398681641, 0.02054744958877563477]])"
      ]
     },
     "execution_count": 89,
     "metadata": {},
     "output_type": "execute_result"
    }
   ],
   "source": [
    "x = torch.rand(5,5)\n",
    "x"
   ]
  },
  {
   "cell_type": "code",
   "execution_count": 90,
   "id": "27432668-df9d-46c0-aeaa-b11f60e02e78",
   "metadata": {},
   "outputs": [
    {
     "data": {
      "text/plain": [
       "tensor(0.96368151903152465820)"
      ]
     },
     "execution_count": 90,
     "metadata": {},
     "output_type": "execute_result"
    }
   ],
   "source": [
    "x.max()"
   ]
  },
  {
   "cell_type": "code",
   "execution_count": 91,
   "id": "a945d71e-c26a-4804-ba2a-75ee52d40e45",
   "metadata": {},
   "outputs": [
    {
     "name": "stdout",
     "output_type": "stream",
     "text": [
      "tensor([0.72130876779556274414, 0.96368151903152465820, 0.93917685747146606445,\n",
      "        0.76336807012557983398, 0.81443983316421508789]) tensor([1, 1, 0, 4, 1])\n"
     ]
    }
   ],
   "source": [
    "values, indices = torch.max(x,dim=1)\n",
    "print(values, indices)"
   ]
  },
  {
   "cell_type": "code",
   "execution_count": 92,
   "id": "c778ef10-fea2-433c-8660-e8860d77ac38",
   "metadata": {},
   "outputs": [
    {
     "data": {
      "text/plain": [
       "tensor([[0.46399754285812377930, 0.72130876779556274414, 0.22891366481781005859,\n",
       "         0.37719196081161499023, 0.23266667127609252930],\n",
       "        [0.27111083269119262695, 0.96368151903152465820, 0.11210489273071289062,\n",
       "         0.22653204202651977539, 0.28208506107330322266],\n",
       "        [0.93917685747146606445, 0.73945635557174682617, 0.47974216938018798828,\n",
       "         0.37136751413345336914, 0.30786985158920288086],\n",
       "        [0.38136696815490722656, 0.04631322622299194336, 0.54092407226562500000,\n",
       "         0.64299809932708740234, 0.76336807012557983398],\n",
       "        [0.54195499420166015625, 0.81443983316421508789, 0.79318273067474365234,\n",
       "         0.05478918552398681641, 0.02054744958877563477]])"
      ]
     },
     "execution_count": 92,
     "metadata": {},
     "output_type": "execute_result"
    }
   ],
   "source": [
    "abs_x = torch.abs(x)\n",
    "abs_x"
   ]
  },
  {
   "cell_type": "code",
   "execution_count": 93,
   "id": "6f168aec-82f8-4b0c-b436-8109af6a7110",
   "metadata": {},
   "outputs": [
    {
     "data": {
      "text/plain": [
       "tensor([2, 1, 4, 3, 3])"
      ]
     },
     "execution_count": 93,
     "metadata": {},
     "output_type": "execute_result"
    }
   ],
   "source": [
    "z = torch.argmax(x,dim=0)\n",
    "z"
   ]
  },
  {
   "cell_type": "code",
   "execution_count": 94,
   "id": "fc8da809-7b74-4fb0-991b-b6524bb8d150",
   "metadata": {},
   "outputs": [],
   "source": [
    "def calculate_average(numbers):\n",
    "\n",
    "    assert len(numbers) > 0, \"List must not be empty\"\n",
    "\n",
    "    total = sum(numbers)\n",
    "\n",
    "    average = total / len(numbers)\n",
    "\n",
    "    return average\n",
    "\n",
    "\n",
    "\n",
    "\n",
    "data = [5, 10, 15, 20]\n",
    "\n",
    "result = calculate_average(data)"
   ]
  },
  {
   "cell_type": "code",
   "execution_count": 95,
   "id": "c099f63a-9765-4645-a220-0157eeaab516",
   "metadata": {},
   "outputs": [
    {
     "data": {
      "text/plain": [
       "12.5"
      ]
     },
     "execution_count": 95,
     "metadata": {},
     "output_type": "execute_result"
    }
   ],
   "source": [
    "result"
   ]
  },
  {
   "cell_type": "code",
   "execution_count": 96,
   "id": "d11b3a5c-cd25-4504-8c2b-0e4f0346d9c7",
   "metadata": {},
   "outputs": [
    {
     "ename": "AssertionError",
     "evalue": "",
     "output_type": "error",
     "traceback": [
      "\u001b[1;31m---------------------------------------------------------------------------\u001b[0m",
      "\u001b[1;31mAssertionError\u001b[0m                            Traceback (most recent call last)",
      "Cell \u001b[1;32mIn[96], line 2\u001b[0m\n\u001b[0;32m      1\u001b[0m x\u001b[38;5;241m=\u001b[39m\u001b[38;5;241m10\u001b[39m\n\u001b[1;32m----> 2\u001b[0m \u001b[38;5;28;01massert\u001b[39;00m x \u001b[38;5;241m==\u001b[39m \u001b[38;5;241m5\u001b[39m\n",
      "\u001b[1;31mAssertionError\u001b[0m: "
     ]
    }
   ],
   "source": [
    "\n",
    "x=10\n",
    "assert x == 5"
   ]
  },
  {
   "cell_type": "code",
   "execution_count": null,
   "id": "8db6bd8a-4c7b-45b2-95d5-61f2ea60d787",
   "metadata": {},
   "outputs": [],
   "source": [
    "assert isinstance(1.0, int)"
   ]
  },
  {
   "cell_type": "code",
   "execution_count": 97,
   "id": "4247fab7-ff55-49a0-ac67-d7c96d45eb02",
   "metadata": {},
   "outputs": [
    {
     "data": {
      "text/plain": [
       "True"
      ]
     },
     "execution_count": 97,
     "metadata": {},
     "output_type": "execute_result"
    }
   ],
   "source": [
    "isinstance([1,2,3], list)"
   ]
  },
  {
   "cell_type": "code",
   "execution_count": 98,
   "id": "662efa8a-dbab-4582-afa9-27a8787546ea",
   "metadata": {},
   "outputs": [
    {
     "ename": "AttributeError",
     "evalue": "'int' object has no attribute 'float'",
     "output_type": "error",
     "traceback": [
      "\u001b[1;31m---------------------------------------------------------------------------\u001b[0m",
      "\u001b[1;31mAttributeError\u001b[0m                            Traceback (most recent call last)",
      "Cell \u001b[1;32mIn[98], line 1\u001b[0m\n\u001b[1;32m----> 1\u001b[0m mean_x \u001b[38;5;241m=\u001b[39m torch\u001b[38;5;241m.\u001b[39mmean(\u001b[43mx\u001b[49m\u001b[38;5;241;43m.\u001b[39;49m\u001b[43mfloat\u001b[49m(),dim\u001b[38;5;241m=\u001b[39m\u001b[38;5;241m0\u001b[39m)\n\u001b[0;32m      2\u001b[0m mean_x\n",
      "\u001b[1;31mAttributeError\u001b[0m: 'int' object has no attribute 'float'"
     ]
    }
   ],
   "source": [
    "mean_x = torch.mean(x.float(),dim=0)\n",
    "mean_x"
   ]
  },
  {
   "cell_type": "code",
   "execution_count": null,
   "id": "2ca51ff0-f0b1-4bde-889e-052d5272f35f",
   "metadata": {},
   "outputs": [],
   "source": [
    "z = torch.eq(x, y)\n",
    "z"
   ]
  },
  {
   "cell_type": "code",
   "execution_count": 99,
   "id": "5ffeca61-5668-4a08-aebd-5dff64d3f103",
   "metadata": {},
   "outputs": [
    {
     "data": {
      "text/plain": [
       "tensor([9, 8, 7])"
      ]
     },
     "execution_count": 99,
     "metadata": {},
     "output_type": "execute_result"
    }
   ],
   "source": [
    "y"
   ]
  },
  {
   "cell_type": "code",
   "execution_count": 100,
   "id": "3a3bd21b-6c77-4f60-acad-f79e1f2ffd00",
   "metadata": {},
   "outputs": [
    {
     "name": "stdout",
     "output_type": "stream",
     "text": [
      "tensor([7, 8, 9]) tensor([2, 1, 0])\n"
     ]
    }
   ],
   "source": [
    "sorted_y, indices = torch.sort(y, dim=0, descending = False)\n",
    "print(sorted_y, indices)"
   ]
  },
  {
   "cell_type": "code",
   "execution_count": 108,
   "id": "16491e99-d8ca-4237-9101-22681a9d346f",
   "metadata": {},
   "outputs": [
    {
     "data": {
      "text/plain": [
       "tensor([[0.55569487810134887695, 0.26317286491394042969, 0.84628522396087646484,\n",
       "         0.64886540174484252930, 0.39503675699234008789, 0.96321702003479003906,\n",
       "         0.29151439666748046875, 0.85089355707168579102, 0.93606114387512207031,\n",
       "         0.05078709125518798828, 0.78453981876373291016, 0.62652498483657836914,\n",
       "         0.21958130598068237305, 0.63248181343078613281, 0.71012187004089355469,\n",
       "         0.29207509756088256836, 0.59438306093215942383, 0.13402402400970458984,\n",
       "         0.71998566389083862305, 0.99109506607055664062, 0.35360485315322875977,\n",
       "         0.27025479078292846680, 0.95820683240890502930, 0.69403380155563354492,\n",
       "         0.32253199815750122070],\n",
       "        [0.92882364988327026367, 0.39888828992843627930, 0.43578457832336425781,\n",
       "         0.81687045097351074219, 0.00703608989715576172, 0.39196366071701049805,\n",
       "         0.85311090946197509766, 0.35488110780715942383, 0.62565487623214721680,\n",
       "         0.27942299842834472656, 0.00667452812194824219, 0.95818686485290527344,\n",
       "         0.72787928581237792969, 0.86577075719833374023, 0.94204986095428466797,\n",
       "         0.70051997900009155273, 0.41111385822296142578, 0.46617639064788818359,\n",
       "         0.55881530046463012695, 0.05824702978134155273, 0.43626540899276733398,\n",
       "         0.63000220060348510742, 0.25052547454833984375, 0.31539523601531982422,\n",
       "         0.90942901372909545898],\n",
       "        [0.81286036968231201172, 0.60865712165832519531, 0.49287003278732299805,\n",
       "         0.41458529233932495117, 0.50015455484390258789, 0.01338601112365722656,\n",
       "         0.09847050905227661133, 0.55567204952239990234, 0.00778132677078247070,\n",
       "         0.00991660356521606445, 0.24485230445861816406, 0.36629760265350341797,\n",
       "         0.30503582954406738281, 0.71893405914306640625, 0.63626229763031005859,\n",
       "         0.67098540067672729492, 0.67498052120208740234, 0.21572649478912353516,\n",
       "         0.68811243772506713867, 0.29678714275360107422, 0.85417568683624267578,\n",
       "         0.92024612426757812500, 0.98077791929244995117, 0.83154445886611938477,\n",
       "         0.78487306833267211914],\n",
       "        [0.28373491764068603516, 0.73141759634017944336, 0.78013652563095092773,\n",
       "         0.55732977390289306641, 0.94811671972274780273, 0.08901739120483398438,\n",
       "         0.32521182298660278320, 0.16827178001403808594, 0.08856248855590820312,\n",
       "         0.15082931518554687500, 0.39879983663558959961, 0.93367642164230346680,\n",
       "         0.13695240020751953125, 0.41181659698486328125, 0.90388071537017822266,\n",
       "         0.80099767446517944336, 0.65275710821151733398, 0.55469900369644165039,\n",
       "         0.94766265153884887695, 0.42553871870040893555, 0.29511749744415283203,\n",
       "         0.47929936647415161133, 0.62722265720367431641, 0.76798087358474731445,\n",
       "         0.13833487033843994141],\n",
       "        [0.04224449396133422852, 0.93178099393844604492, 0.83573806285858154297,\n",
       "         0.28537768125534057617, 0.40650326013565063477, 0.61488437652587890625,\n",
       "         0.07306998968124389648, 0.53717225790023803711, 0.98150551319122314453,\n",
       "         0.56902289390563964844, 0.32485866546630859375, 0.23463666439056396484,\n",
       "         0.54047089815139770508, 0.51014930009841918945, 0.48177891969680786133,\n",
       "         0.48620581626892089844, 0.39355057477951049805, 0.28359103202819824219,\n",
       "         0.47658824920654296875, 0.74259966611862182617, 0.43054747581481933594,\n",
       "         0.30102884769439697266, 0.53430134057998657227, 0.29787451028823852539,\n",
       "         0.20317214727401733398],\n",
       "        [0.19289648532867431641, 0.92083734273910522461, 0.67063969373703002930,\n",
       "         0.19405263662338256836, 0.35359621047973632812, 0.56354391574859619141,\n",
       "         0.81001323461532592773, 0.23890841007232666016, 0.80029505491256713867,\n",
       "         0.61120611429214477539, 0.69023412466049194336, 0.94545871019363403320,\n",
       "         0.42517983913421630859, 0.28689092397689819336, 0.55585259199142456055,\n",
       "         0.86715912818908691406, 0.90306121110916137695, 0.54909074306488037109,\n",
       "         0.00850182771682739258, 0.66171711683273315430, 0.07579791545867919922,\n",
       "         0.40778571367263793945, 0.91178888082504272461, 0.17602086067199707031,\n",
       "         0.95459550619125366211],\n",
       "        [0.01136362552642822266, 0.33919060230255126953, 0.72240698337554931641,\n",
       "         0.37902218103408813477, 0.00712853670120239258, 0.11076265573501586914,\n",
       "         0.87943196296691894531, 0.37824118137359619141, 0.28943914175033569336,\n",
       "         0.94837349653244018555, 0.85800802707672119141, 0.25154954195022583008,\n",
       "         0.86817282438278198242, 0.13371765613555908203, 0.36524313688278198242,\n",
       "         0.37543231248855590820, 0.29470604658126831055, 0.78912049531936645508,\n",
       "         0.58147406578063964844, 0.94732838869094848633, 0.50448656082153320312,\n",
       "         0.60391622781753540039, 0.56663173437118530273, 0.20391851663589477539,\n",
       "         0.40901261568069458008],\n",
       "        [0.33852696418762207031, 0.98429536819458007812, 0.63816159963607788086,\n",
       "         0.21421867609024047852, 0.89068561792373657227, 0.32756364345550537109,\n",
       "         0.51769143342971801758, 0.84826624393463134766, 0.62319272756576538086,\n",
       "         0.17944294214248657227, 0.68351006507873535156, 0.44702094793319702148,\n",
       "         0.71490645408630371094, 0.37812316417694091797, 0.54813426733016967773,\n",
       "         0.69936048984527587891, 0.70832377672195434570, 0.01429450511932373047,\n",
       "         0.56556648015975952148, 0.06046533584594726562, 0.45460569858551025391,\n",
       "         0.63537514209747314453, 0.43042641878128051758, 0.21824645996093750000,\n",
       "         0.34449410438537597656],\n",
       "        [0.24889266490936279297, 0.43625837564468383789, 0.19160151481628417969,\n",
       "         0.75845158100128173828, 0.68451488018035888672, 0.09528291225433349609,\n",
       "         0.92963677644729614258, 0.55690604448318481445, 0.05296248197555541992,\n",
       "         0.37267267704010009766, 0.18413645029067993164, 0.41488653421401977539,\n",
       "         0.30673366785049438477, 0.58581173419952392578, 0.63897836208343505859,\n",
       "         0.42926526069641113281, 0.80348247289657592773, 0.02680683135986328125,\n",
       "         0.61852556467056274414, 0.88733845949172973633, 0.26130944490432739258,\n",
       "         0.35741961002349853516, 0.69411385059356689453, 0.61218625307083129883,\n",
       "         0.51833355426788330078],\n",
       "        [0.75560820102691650391, 0.01244652271270751953, 0.39673703908920288086,\n",
       "         0.26944988965988159180, 0.03298908472061157227, 0.63077133893966674805,\n",
       "         0.82467943429946899414, 0.19652724266052246094, 0.30304491519927978516,\n",
       "         0.91484701633453369141, 0.86186367273330688477, 0.38379836082458496094,\n",
       "         0.88057541847229003906, 0.68612259626388549805, 0.57030743360519409180,\n",
       "         0.87380927801132202148, 0.99557650089263916016, 0.79886305332183837891,\n",
       "         0.49501055479049682617, 0.89071834087371826172, 0.17351311445236206055,\n",
       "         0.06485229730606079102, 0.64148080348968505859, 0.93701595067977905273,\n",
       "         0.32456415891647338867]])"
      ]
     },
     "execution_count": 108,
     "metadata": {},
     "output_type": "execute_result"
    }
   ],
   "source": [
    "z = torch.clamp(x, min=0, max=10)\n",
    "z"
   ]
  },
  {
   "cell_type": "code",
   "execution_count": 110,
   "id": "1f36009b-cbbb-4e4e-b1c6-c0d0f9ae1938",
   "metadata": {},
   "outputs": [
    {
     "data": {
      "text/plain": [
       "array([ 0,  2,  4,  6,  8, 10])"
      ]
     },
     "execution_count": 110,
     "metadata": {},
     "output_type": "execute_result"
    }
   ],
   "source": [
    "a = np.arange(0,12,2)\n",
    "a"
   ]
  },
  {
   "cell_type": "code",
   "execution_count": 111,
   "id": "798a0780-adef-4a09-8da6-16e836c38a10",
   "metadata": {},
   "outputs": [
    {
     "data": {
      "text/plain": [
       "array([3, 3, 4, 6, 6, 6])"
      ]
     },
     "execution_count": 111,
     "metadata": {},
     "output_type": "execute_result"
    }
   ],
   "source": [
    "np.clip(a,3,6)"
   ]
  },
  {
   "cell_type": "code",
   "execution_count": 112,
   "id": "330cebbb-5dfb-4144-b749-89beae88f1c7",
   "metadata": {},
   "outputs": [
    {
     "data": {
      "text/plain": [
       "tensor([ True, False,  True,  True,  True])"
      ]
     },
     "execution_count": 112,
     "metadata": {},
     "output_type": "execute_result"
    }
   ],
   "source": [
    "x = torch.tensor([1,0,1,1,1], dtype= torch.bool)\n",
    "x"
   ]
  },
  {
   "cell_type": "code",
   "execution_count": 113,
   "id": "0533d0b5-20fd-4b3b-89d6-9ee751cc090a",
   "metadata": {},
   "outputs": [
    {
     "data": {
      "text/plain": [
       "tensor(True)"
      ]
     },
     "execution_count": 113,
     "metadata": {},
     "output_type": "execute_result"
    }
   ],
   "source": [
    "z = torch.any(x)\n",
    "z"
   ]
  },
  {
   "cell_type": "code",
   "execution_count": null,
   "id": "57f16992-3efe-479f-ab1b-94154de05ef4",
   "metadata": {},
   "outputs": [],
   "source": [
    "z = torch.all(x) # False\n",
    "z"
   ]
  },
  {
   "cell_type": "markdown",
   "id": "9f27335b-b65d-414c-b3d1-3f9cb22ed065",
   "metadata": {},
   "source": [
    "### Indexing in tensor"
   ]
  },
  {
   "cell_type": "code",
   "execution_count": 114,
   "id": "ef67134b-ff82-4549-9d20-68e13a2d0463",
   "metadata": {},
   "outputs": [
    {
     "data": {
      "text/plain": [
       "tensor([[0.91459566354751586914, 0.54443609714508056641, 0.47831147909164428711,\n",
       "         0.68340086936950683594, 0.53830194473266601562, 0.29747974872589111328,\n",
       "         0.83931922912597656250, 0.72209423780441284180, 0.15021795034408569336,\n",
       "         0.74087589979171752930, 0.42989933490753173828, 0.59896194934844970703,\n",
       "         0.18006986379623413086, 0.77530467510223388672, 0.52405416965484619141,\n",
       "         0.01329904794692993164, 0.18467378616333007812, 0.10232067108154296875,\n",
       "         0.93734306097030639648, 0.63237065076828002930, 0.79726654291152954102,\n",
       "         0.74261313676834106445, 0.30822825431823730469, 0.44715839624404907227,\n",
       "         0.01675158739089965820],\n",
       "        [0.85816377401351928711, 0.93761867284774780273, 0.38834017515182495117,\n",
       "         0.75709283351898193359, 0.93528807163238525391, 0.33611869812011718750,\n",
       "         0.64137053489685058594, 0.53664308786392211914, 0.24862074851989746094,\n",
       "         0.10863906145095825195, 0.27333420515060424805, 0.15303385257720947266,\n",
       "         0.85294789075851440430, 0.81491291522979736328, 0.85744851827621459961,\n",
       "         0.53312307596206665039, 0.11757504940032958984, 0.25593388080596923828,\n",
       "         0.74501210451126098633, 0.85544317960739135742, 0.43869674205780029297,\n",
       "         0.75938421487808227539, 0.81611955165863037109, 0.66851383447647094727,\n",
       "         0.89899796247482299805],\n",
       "        [0.37049686908721923828, 0.96178936958312988281, 0.25798714160919189453,\n",
       "         0.38220161199569702148, 0.72664290666580200195, 0.03185188770294189453,\n",
       "         0.57632637023925781250, 0.96210765838623046875, 0.60148793458938598633,\n",
       "         0.70329767465591430664, 0.67014610767364501953, 0.61111181974411010742,\n",
       "         0.17057722806930541992, 0.09871047735214233398, 0.57605111598968505859,\n",
       "         0.34046018123626708984, 0.94937449693679809570, 0.75783276557922363281,\n",
       "         0.61947429180145263672, 0.35621106624603271484, 0.83359462022781372070,\n",
       "         0.00127607583999633789, 0.94416171312332153320, 0.09753692150115966797,\n",
       "         0.62751573324203491211],\n",
       "        [0.75942152738571166992, 0.65971380472183227539, 0.28569322824478149414,\n",
       "         0.36529791355133056641, 0.20566070079803466797, 0.64108085632324218750,\n",
       "         0.72579056024551391602, 0.14236462116241455078, 0.98792630434036254883,\n",
       "         0.14081162214279174805, 0.95124071836471557617, 0.44333302974700927734,\n",
       "         0.15381979942321777344, 0.58425915241241455078, 0.42836445569992065430,\n",
       "         0.12245041131973266602, 0.58954936265945434570, 0.52951133251190185547,\n",
       "         0.27886760234832763672, 0.43255406618118286133, 0.43408077955245971680,\n",
       "         0.49128490686416625977, 0.92156738042831420898, 0.45057898759841918945,\n",
       "         0.77341300249099731445],\n",
       "        [0.40939080715179443359, 0.67803001403808593750, 0.21445083618164062500,\n",
       "         0.06268715858459472656, 0.84597611427307128906, 0.24570071697235107422,\n",
       "         0.54948431253433227539, 0.23453605175018310547, 0.75202387571334838867,\n",
       "         0.99583810567855834961, 0.27783590555191040039, 0.22939598560333251953,\n",
       "         0.27227008342742919922, 0.95848488807678222656, 0.28161239624023437500,\n",
       "         0.29223150014877319336, 0.88089150190353393555, 0.12024104595184326172,\n",
       "         0.62060564756393432617, 0.13802427053451538086, 0.64539867639541625977,\n",
       "         0.08352875709533691406, 0.22253859043121337891, 0.52745580673217773438,\n",
       "         0.08834320306777954102],\n",
       "        [0.42922860383987426758, 0.35575932264328002930, 0.23460954427719116211,\n",
       "         0.65445303916931152344, 0.54494172334671020508, 0.80054247379302978516,\n",
       "         0.95305627584457397461, 0.98143148422241210938, 0.64574408531188964844,\n",
       "         0.80023676156997680664, 0.41090017557144165039, 0.47456264495849609375,\n",
       "         0.76005595922470092773, 0.94644683599472045898, 0.75147837400436401367,\n",
       "         0.44506263732910156250, 0.23089897632598876953, 0.52265387773513793945,\n",
       "         0.30762988328933715820, 0.30883747339248657227, 0.74895870685577392578,\n",
       "         0.73298078775405883789, 0.78244972229003906250, 0.71833539009094238281,\n",
       "         0.95164096355438232422],\n",
       "        [0.40083956718444824219, 0.56856340169906616211, 0.91778200864791870117,\n",
       "         0.12443768978118896484, 0.47308981418609619141, 0.47453254461288452148,\n",
       "         0.93163061141967773438, 0.55411720275878906250, 0.00520336627960205078,\n",
       "         0.49713277816772460938, 0.07879161834716796875, 0.64885038137435913086,\n",
       "         0.74669933319091796875, 0.83208030462265014648, 0.22762566804885864258,\n",
       "         0.56317967176437377930, 0.95156288146972656250, 0.74346888065338134766,\n",
       "         0.07248896360397338867, 0.60051292181015014648, 0.93260085582733154297,\n",
       "         0.57219922542572021484, 0.55542463064193725586, 0.39239311218261718750,\n",
       "         0.03998994827270507812],\n",
       "        [0.33255672454833984375, 0.78603184223175048828, 0.53645938634872436523,\n",
       "         0.28172355890274047852, 0.65260505676269531250, 0.26600438356399536133,\n",
       "         0.23641681671142578125, 0.95176339149475097656, 0.49470603466033935547,\n",
       "         0.14331138134002685547, 0.36615741252899169922, 0.72269731760025024414,\n",
       "         0.27373659610748291016, 0.45762306451797485352, 0.09050279855728149414,\n",
       "         0.44258576631546020508, 0.40480339527130126953, 0.77542901039123535156,\n",
       "         0.15937292575836181641, 0.87016803026199340820, 0.83060902357101440430,\n",
       "         0.57867938280105590820, 0.02462255954742431641, 0.02122282981872558594,\n",
       "         0.05194276571273803711],\n",
       "        [0.57539254426956176758, 0.34474205970764160156, 0.78794902563095092773,\n",
       "         0.97870433330535888672, 0.25085473060607910156, 0.03724974393844604492,\n",
       "         0.04803001880645751953, 0.97733855247497558594, 0.02614814043045043945,\n",
       "         0.67922663688659667969, 0.06742584705352783203, 0.19559490680694580078,\n",
       "         0.68022370338439941406, 0.81857937574386596680, 0.37673735618591308594,\n",
       "         0.71342688798904418945, 0.60766339302062988281, 0.22457271814346313477,\n",
       "         0.01514565944671630859, 0.44105106592178344727, 0.95651102066040039062,\n",
       "         0.22095477581024169922, 0.55632913112640380859, 0.92553335428237915039,\n",
       "         0.00783109664916992188],\n",
       "        [0.87892735004425048828, 0.14518845081329345703, 0.11327004432678222656,\n",
       "         0.24027550220489501953, 0.01111984252929687500, 0.44644880294799804688,\n",
       "         0.68766361474990844727, 0.07399791479110717773, 0.30743360519409179688,\n",
       "         0.41888588666915893555, 0.75707328319549560547, 0.03637522459030151367,\n",
       "         0.78994739055633544922, 0.80194568634033203125, 0.00423300266265869141,\n",
       "         0.05603182315826416016, 0.47693634033203125000, 0.81980460882186889648,\n",
       "         0.32992726564407348633, 0.08503603935241699219, 0.44099795818328857422,\n",
       "         0.16890352964401245117, 0.12961137294769287109, 0.81184452772140502930,\n",
       "         0.22565168142318725586]])"
      ]
     },
     "execution_count": 114,
     "metadata": {},
     "output_type": "execute_result"
    }
   ],
   "source": [
    "batch = 10\n",
    "features = 25\n",
    "\n",
    "x = torch.rand((batch, features))\n",
    "x"
   ]
  },
  {
   "cell_type": "code",
   "execution_count": 115,
   "id": "5b695f76-f7b8-4c4f-85a7-11b0fb24c816",
   "metadata": {},
   "outputs": [
    {
     "data": {
      "text/plain": [
       "tensor([0.91459566354751586914, 0.54443609714508056641, 0.47831147909164428711,\n",
       "        0.68340086936950683594, 0.53830194473266601562, 0.29747974872589111328,\n",
       "        0.83931922912597656250, 0.72209423780441284180, 0.15021795034408569336,\n",
       "        0.74087589979171752930, 0.42989933490753173828, 0.59896194934844970703,\n",
       "        0.18006986379623413086, 0.77530467510223388672, 0.52405416965484619141,\n",
       "        0.01329904794692993164, 0.18467378616333007812, 0.10232067108154296875,\n",
       "        0.93734306097030639648, 0.63237065076828002930, 0.79726654291152954102,\n",
       "        0.74261313676834106445, 0.30822825431823730469, 0.44715839624404907227,\n",
       "        0.01675158739089965820])"
      ]
     },
     "execution_count": 115,
     "metadata": {},
     "output_type": "execute_result"
    }
   ],
   "source": [
    "x[0]"
   ]
  },
  {
   "cell_type": "code",
   "execution_count": 116,
   "id": "40e5e05a-89fc-4b57-b75c-15a3c9b3f431",
   "metadata": {},
   "outputs": [
    {
     "data": {
      "text/plain": [
       "torch.Size([25])"
      ]
     },
     "execution_count": 116,
     "metadata": {},
     "output_type": "execute_result"
    }
   ],
   "source": [
    "x[0].shape"
   ]
  },
  {
   "cell_type": "code",
   "execution_count": 117,
   "id": "843aae94-dcb6-473b-8ec2-71bad2438457",
   "metadata": {},
   "outputs": [
    {
     "data": {
      "text/plain": [
       "tensor([0.91459566354751586914, 0.85816377401351928711, 0.37049686908721923828,\n",
       "        0.75942152738571166992, 0.40939080715179443359, 0.42922860383987426758,\n",
       "        0.40083956718444824219, 0.33255672454833984375, 0.57539254426956176758,\n",
       "        0.87892735004425048828])"
      ]
     },
     "execution_count": 117,
     "metadata": {},
     "output_type": "execute_result"
    }
   ],
   "source": [
    "x[:,0]"
   ]
  },
  {
   "cell_type": "code",
   "execution_count": 118,
   "id": "40072c8f-edf0-48a9-9638-1b4740f22bc9",
   "metadata": {},
   "outputs": [
    {
     "data": {
      "text/plain": [
       "torch.Size([10])"
      ]
     },
     "execution_count": 118,
     "metadata": {},
     "output_type": "execute_result"
    }
   ],
   "source": [
    "x[:,0].shape"
   ]
  },
  {
   "cell_type": "code",
   "execution_count": 119,
   "id": "d34dd197-771e-45e0-9ea1-9cf5acc24d58",
   "metadata": {},
   "outputs": [
    {
     "data": {
      "text/plain": [
       "tensor([0.37049686908721923828, 0.96178936958312988281, 0.25798714160919189453,\n",
       "        0.38220161199569702148, 0.72664290666580200195, 0.03185188770294189453,\n",
       "        0.57632637023925781250, 0.96210765838623046875, 0.60148793458938598633,\n",
       "        0.70329767465591430664, 0.67014610767364501953, 0.61111181974411010742,\n",
       "        0.17057722806930541992, 0.09871047735214233398, 0.57605111598968505859,\n",
       "        0.34046018123626708984, 0.94937449693679809570, 0.75783276557922363281,\n",
       "        0.61947429180145263672, 0.35621106624603271484, 0.83359462022781372070,\n",
       "        0.00127607583999633789, 0.94416171312332153320, 0.09753692150115966797,\n",
       "        0.62751573324203491211])"
      ]
     },
     "execution_count": 119,
     "metadata": {},
     "output_type": "execute_result"
    }
   ],
   "source": [
    "\n",
    "x[2]"
   ]
  },
  {
   "cell_type": "code",
   "execution_count": 120,
   "id": "0b86cb79-f5da-4cfa-ab22-1eaaa8856bbc",
   "metadata": {},
   "outputs": [
    {
     "data": {
      "text/plain": [
       "tensor([0.37049686908721923828, 0.96178936958312988281, 0.25798714160919189453,\n",
       "        0.38220161199569702148, 0.72664290666580200195, 0.03185188770294189453,\n",
       "        0.57632637023925781250, 0.96210765838623046875, 0.60148793458938598633,\n",
       "        0.70329767465591430664])"
      ]
     },
     "execution_count": 120,
     "metadata": {},
     "output_type": "execute_result"
    }
   ],
   "source": [
    "x[2,:10]"
   ]
  },
  {
   "cell_type": "code",
   "execution_count": 121,
   "id": "56c4aece-bda1-44a7-8f06-b8543d3b3b1a",
   "metadata": {},
   "outputs": [
    {
     "data": {
      "text/plain": [
       "tensor([[1.00000000000000000000e+02, 5.44436097145080566406e-01,\n",
       "         4.78311479091644287109e-01, 6.83400869369506835938e-01,\n",
       "         5.38301944732666015625e-01, 2.97479748725891113281e-01,\n",
       "         8.39319229125976562500e-01, 7.22094237804412841797e-01,\n",
       "         1.50217950344085693359e-01, 7.40875899791717529297e-01,\n",
       "         4.29899334907531738281e-01, 5.98961949348449707031e-01,\n",
       "         1.80069863796234130859e-01, 7.75304675102233886719e-01,\n",
       "         5.24054169654846191406e-01, 1.32990479469299316406e-02,\n",
       "         1.84673786163330078125e-01, 1.02320671081542968750e-01,\n",
       "         9.37343060970306396484e-01, 6.32370650768280029297e-01,\n",
       "         7.97266542911529541016e-01, 7.42613136768341064453e-01,\n",
       "         3.08228254318237304688e-01, 4.47158396244049072266e-01,\n",
       "         1.67515873908996582031e-02],\n",
       "        [8.58163774013519287109e-01, 9.37618672847747802734e-01,\n",
       "         3.88340175151824951172e-01, 7.57092833518981933594e-01,\n",
       "         9.35288071632385253906e-01, 3.36118698120117187500e-01,\n",
       "         6.41370534896850585938e-01, 5.36643087863922119141e-01,\n",
       "         2.48620748519897460938e-01, 1.08639061450958251953e-01,\n",
       "         2.73334205150604248047e-01, 1.53033852577209472656e-01,\n",
       "         8.52947890758514404297e-01, 8.14912915229797363281e-01,\n",
       "         8.57448518276214599609e-01, 5.33123075962066650391e-01,\n",
       "         1.17575049400329589844e-01, 2.55933880805969238281e-01,\n",
       "         7.45012104511260986328e-01, 8.55443179607391357422e-01,\n",
       "         4.38696742057800292969e-01, 7.59384214878082275391e-01,\n",
       "         8.16119551658630371094e-01, 6.68513834476470947266e-01,\n",
       "         8.98997962474822998047e-01],\n",
       "        [3.70496869087219238281e-01, 9.61789369583129882812e-01,\n",
       "         2.57987141609191894531e-01, 3.82201611995697021484e-01,\n",
       "         7.26642906665802001953e-01, 3.18518877029418945312e-02,\n",
       "         5.76326370239257812500e-01, 9.62107658386230468750e-01,\n",
       "         6.01487934589385986328e-01, 7.03297674655914306641e-01,\n",
       "         6.70146107673645019531e-01, 6.11111819744110107422e-01,\n",
       "         1.70577228069305419922e-01, 9.87104773521423339844e-02,\n",
       "         5.76051115989685058594e-01, 3.40460181236267089844e-01,\n",
       "         9.49374496936798095703e-01, 7.57832765579223632812e-01,\n",
       "         6.19474291801452636719e-01, 3.56211066246032714844e-01,\n",
       "         8.33594620227813720703e-01, 1.27607583999633789062e-03,\n",
       "         9.44161713123321533203e-01, 9.75369215011596679688e-02,\n",
       "         6.27515733242034912109e-01],\n",
       "        [7.59421527385711669922e-01, 6.59713804721832275391e-01,\n",
       "         2.85693228244781494141e-01, 3.65297913551330566406e-01,\n",
       "         2.05660700798034667969e-01, 6.41080856323242187500e-01,\n",
       "         7.25790560245513916016e-01, 1.42364621162414550781e-01,\n",
       "         9.87926304340362548828e-01, 1.40811622142791748047e-01,\n",
       "         9.51240718364715576172e-01, 4.43333029747009277344e-01,\n",
       "         1.53819799423217773438e-01, 5.84259152412414550781e-01,\n",
       "         4.28364455699920654297e-01, 1.22450411319732666016e-01,\n",
       "         5.89549362659454345703e-01, 5.29511332511901855469e-01,\n",
       "         2.78867602348327636719e-01, 4.32554066181182861328e-01,\n",
       "         4.34080779552459716797e-01, 4.91284906864166259766e-01,\n",
       "         9.21567380428314208984e-01, 4.50578987598419189453e-01,\n",
       "         7.73413002490997314453e-01],\n",
       "        [4.09390807151794433594e-01, 6.78030014038085937500e-01,\n",
       "         2.14450836181640625000e-01, 6.26871585845947265625e-02,\n",
       "         8.45976114273071289062e-01, 2.45700716972351074219e-01,\n",
       "         5.49484312534332275391e-01, 2.34536051750183105469e-01,\n",
       "         7.52023875713348388672e-01, 9.95838105678558349609e-01,\n",
       "         2.77835905551910400391e-01, 2.29395985603332519531e-01,\n",
       "         2.72270083427429199219e-01, 9.58484888076782226562e-01,\n",
       "         2.81612396240234375000e-01, 2.92231500148773193359e-01,\n",
       "         8.80891501903533935547e-01, 1.20241045951843261719e-01,\n",
       "         6.20605647563934326172e-01, 1.38024270534515380859e-01,\n",
       "         6.45398676395416259766e-01, 8.35287570953369140625e-02,\n",
       "         2.22538590431213378906e-01, 5.27455806732177734375e-01,\n",
       "         8.83432030677795410156e-02],\n",
       "        [4.29228603839874267578e-01, 3.55759322643280029297e-01,\n",
       "         2.34609544277191162109e-01, 6.54453039169311523438e-01,\n",
       "         5.44941723346710205078e-01, 8.00542473793029785156e-01,\n",
       "         9.53056275844573974609e-01, 9.81431484222412109375e-01,\n",
       "         6.45744085311889648438e-01, 8.00236761569976806641e-01,\n",
       "         4.10900175571441650391e-01, 4.74562644958496093750e-01,\n",
       "         7.60055959224700927734e-01, 9.46446835994720458984e-01,\n",
       "         7.51478374004364013672e-01, 4.45062637329101562500e-01,\n",
       "         2.30898976325988769531e-01, 5.22653877735137939453e-01,\n",
       "         3.07629883289337158203e-01, 3.08837473392486572266e-01,\n",
       "         7.48958706855773925781e-01, 7.32980787754058837891e-01,\n",
       "         7.82449722290039062500e-01, 7.18335390090942382812e-01,\n",
       "         9.51640963554382324219e-01],\n",
       "        [4.00839567184448242188e-01, 5.68563401699066162109e-01,\n",
       "         9.17782008647918701172e-01, 1.24437689781188964844e-01,\n",
       "         4.73089814186096191406e-01, 4.74532544612884521484e-01,\n",
       "         9.31630611419677734375e-01, 5.54117202758789062500e-01,\n",
       "         5.20336627960205078125e-03, 4.97132778167724609375e-01,\n",
       "         7.87916183471679687500e-02, 6.48850381374359130859e-01,\n",
       "         7.46699333190917968750e-01, 8.32080304622650146484e-01,\n",
       "         2.27625668048858642578e-01, 5.63179671764373779297e-01,\n",
       "         9.51562881469726562500e-01, 7.43468880653381347656e-01,\n",
       "         7.24889636039733886719e-02, 6.00512921810150146484e-01,\n",
       "         9.32600855827331542969e-01, 5.72199225425720214844e-01,\n",
       "         5.55424630641937255859e-01, 3.92393112182617187500e-01,\n",
       "         3.99899482727050781250e-02],\n",
       "        [3.32556724548339843750e-01, 7.86031842231750488281e-01,\n",
       "         5.36459386348724365234e-01, 2.81723558902740478516e-01,\n",
       "         6.52605056762695312500e-01, 2.66004383563995361328e-01,\n",
       "         2.36416816711425781250e-01, 9.51763391494750976562e-01,\n",
       "         4.94706034660339355469e-01, 1.43311381340026855469e-01,\n",
       "         3.66157412528991699219e-01, 7.22697317600250244141e-01,\n",
       "         2.73736596107482910156e-01, 4.57623064517974853516e-01,\n",
       "         9.05027985572814941406e-02, 4.42585766315460205078e-01,\n",
       "         4.04803395271301269531e-01, 7.75429010391235351562e-01,\n",
       "         1.59372925758361816406e-01, 8.70168030261993408203e-01,\n",
       "         8.30609023571014404297e-01, 5.78679382801055908203e-01,\n",
       "         2.46225595474243164062e-02, 2.12228298187255859375e-02,\n",
       "         5.19427657127380371094e-02],\n",
       "        [5.75392544269561767578e-01, 3.44742059707641601562e-01,\n",
       "         7.87949025630950927734e-01, 9.78704333305358886719e-01,\n",
       "         2.50854730606079101562e-01, 3.72497439384460449219e-02,\n",
       "         4.80300188064575195312e-02, 9.77338552474975585938e-01,\n",
       "         2.61481404304504394531e-02, 6.79226636886596679688e-01,\n",
       "         6.74258470535278320312e-02, 1.95594906806945800781e-01,\n",
       "         6.80223703384399414062e-01, 8.18579375743865966797e-01,\n",
       "         3.76737356185913085938e-01, 7.13426887989044189453e-01,\n",
       "         6.07663393020629882812e-01, 2.24572718143463134766e-01,\n",
       "         1.51456594467163085938e-02, 4.41051065921783447266e-01,\n",
       "         9.56511020660400390625e-01, 2.20954775810241699219e-01,\n",
       "         5.56329131126403808594e-01, 9.25533354282379150391e-01,\n",
       "         7.83109664916992187500e-03],\n",
       "        [8.78927350044250488281e-01, 1.45188450813293457031e-01,\n",
       "         1.13270044326782226562e-01, 2.40275502204895019531e-01,\n",
       "         1.11198425292968750000e-02, 4.46448802947998046875e-01,\n",
       "         6.87663614749908447266e-01, 7.39979147911071777344e-02,\n",
       "         3.07433605194091796875e-01, 4.18885886669158935547e-01,\n",
       "         7.57073283195495605469e-01, 3.63752245903015136719e-02,\n",
       "         7.89947390556335449219e-01, 8.01945686340332031250e-01,\n",
       "         4.23300266265869140625e-03, 5.60318231582641601562e-02,\n",
       "         4.76936340332031250000e-01, 8.19804608821868896484e-01,\n",
       "         3.29927265644073486328e-01, 8.50360393524169921875e-02,\n",
       "         4.40997958183288574219e-01, 1.68903529644012451172e-01,\n",
       "         1.29611372947692871094e-01, 8.11844527721405029297e-01,\n",
       "         2.25651681423187255859e-01]])"
      ]
     },
     "execution_count": 121,
     "metadata": {},
     "output_type": "execute_result"
    }
   ],
   "source": [
    "x[0,0] =100\n",
    "x"
   ]
  },
  {
   "cell_type": "code",
   "execution_count": 122,
   "id": "da308ef5-ea49-465b-879f-a787f51bf981",
   "metadata": {},
   "outputs": [
    {
     "data": {
      "text/plain": [
       "tensor([ 1,  2,  3,  4,  5,  6,  7,  8,  9, 10, 11])"
      ]
     },
     "execution_count": 122,
     "metadata": {},
     "output_type": "execute_result"
    }
   ],
   "source": [
    "# fancy\n",
    "\n",
    "x = torch.arange(1,12)\n",
    "x"
   ]
  },
  {
   "cell_type": "code",
   "execution_count": 123,
   "id": "00d4b1e4-731c-4d80-a077-a41cdf460135",
   "metadata": {},
   "outputs": [
    {
     "data": {
      "text/plain": [
       "tensor([3, 6, 9])"
      ]
     },
     "execution_count": 123,
     "metadata": {},
     "output_type": "execute_result"
    }
   ],
   "source": [
    "indices = [2,5,8]\n",
    "x[indices]"
   ]
  },
  {
   "cell_type": "code",
   "execution_count": 124,
   "id": "48c294e4-4dcf-455e-9e4e-fc150ed76e04",
   "metadata": {},
   "outputs": [
    {
     "data": {
      "text/plain": [
       "tensor([0.69323724508285522461, 0.04471033811569213867])"
      ]
     },
     "execution_count": 124,
     "metadata": {},
     "output_type": "execute_result"
    }
   ],
   "source": [
    "x = torch.rand((3,5))\n",
    "rows = torch.tensor([1,0])\n",
    "cols = torch.tensor([4,0])\n",
    "x[rows,cols]"
   ]
  },
  {
   "cell_type": "code",
   "execution_count": 125,
   "id": "8bcedbac-ebb0-4fae-a34f-0f250deff5b3",
   "metadata": {},
   "outputs": [
    {
     "data": {
      "text/plain": [
       "tensor([[0.04471033811569213867, 0.66214710474014282227, 0.81525158882141113281,\n",
       "         0.01771575212478637695, 0.14309716224670410156],\n",
       "        [0.50557553768157958984, 0.36517363786697387695, 0.13549381494522094727,\n",
       "         0.84707117080688476562, 0.69323724508285522461],\n",
       "        [0.51096266508102416992, 0.02562481164932250977, 0.12097394466400146484,\n",
       "         0.95454466342926025391, 0.57946521043777465820]])"
      ]
     },
     "execution_count": 125,
     "metadata": {},
     "output_type": "execute_result"
    }
   ],
   "source": [
    "x"
   ]
  },
  {
   "cell_type": "code",
   "execution_count": 126,
   "id": "2a8aa8f0-8598-4c5c-bcd9-c1c26c2aad8e",
   "metadata": {},
   "outputs": [
    {
     "data": {
      "text/plain": [
       "tensor([0.69323724508285522461, 0.04471033811569213867, 0.13549381494522094727,\n",
       "        0.51096266508102416992])"
      ]
     },
     "execution_count": 126,
     "metadata": {},
     "output_type": "execute_result"
    }
   ],
   "source": [
    "rows = torch.tensor([1,0,1,2])\n",
    "cols = torch.tensor([4,0,2,0])\n",
    "x[rows,cols]"
   ]
  },
  {
   "cell_type": "code",
   "execution_count": 128,
   "id": "8b437802-8e27-42f4-b790-91ec8033a675",
   "metadata": {},
   "outputs": [
    {
     "data": {
      "text/plain": [
       "tensor([0, 1, 2, 3, 4, 5, 6, 7, 8, 9])"
      ]
     },
     "execution_count": 128,
     "metadata": {},
     "output_type": "execute_result"
    }
   ],
   "source": [
    "x = torch.arange(10)\n",
    "x"
   ]
  },
  {
   "cell_type": "code",
   "execution_count": 134,
   "id": "89455960-2345-4626-85e7-889055a271c6",
   "metadata": {},
   "outputs": [
    {
     "data": {
      "text/plain": [
       "tensor([0, 1, 9])"
      ]
     },
     "execution_count": 134,
     "metadata": {},
     "output_type": "execute_result"
    }
   ],
   "source": [
    "x[(x<2) | (x>8)]"
   ]
  },
  {
   "cell_type": "code",
   "execution_count": 135,
   "id": "c8a62b04-7349-40ca-8c9e-6aea672efdf8",
   "metadata": {},
   "outputs": [
    {
     "data": {
      "text/plain": [
       "tensor([], dtype=torch.int64)"
      ]
     },
     "execution_count": 135,
     "metadata": {},
     "output_type": "execute_result"
    }
   ],
   "source": [
    "x[(x<2) & (x>8)]"
   ]
  },
  {
   "cell_type": "code",
   "execution_count": 136,
   "id": "4da5ba17-5a33-4a32-8524-cab4454d01c4",
   "metadata": {},
   "outputs": [
    {
     "data": {
      "text/plain": [
       "tensor([0, 2, 4, 6, 8])"
      ]
     },
     "execution_count": 136,
     "metadata": {},
     "output_type": "execute_result"
    }
   ],
   "source": [
    "x[x.remainder(2) == 0]"
   ]
  },
  {
   "cell_type": "code",
   "execution_count": null,
   "id": "72763e60-ccc7-44bb-b9ac-e420b2a0eeb4",
   "metadata": {},
   "outputs": [],
   "source": [
    "# Useful operator "
   ]
  },
  {
   "cell_type": "code",
   "execution_count": 137,
   "id": "415289df-22fd-4992-99bd-fdf73b7a8070",
   "metadata": {},
   "outputs": [
    {
     "data": {
      "text/plain": [
       "tensor([0, 1, 2, 3, 4, 5, 6, 7, 8, 9])"
      ]
     },
     "execution_count": 137,
     "metadata": {},
     "output_type": "execute_result"
    }
   ],
   "source": [
    "x.abs()"
   ]
  },
  {
   "cell_type": "code",
   "execution_count": 145,
   "id": "bc2b86b9-9be9-49e8-8d9f-a3409a3172c0",
   "metadata": {},
   "outputs": [
    {
     "name": "stdout",
     "output_type": "stream",
     "text": [
      "tensor(0) tensor(1) tensor(2) tensor(3) tensor(4) tensor(5) tensor(6) tensor(7) tensor(8) tensor(9)\n"
     ]
    }
   ],
   "source": [
    "print(*[x for x in x.abs_()])"
   ]
  },
  {
   "cell_type": "code",
   "execution_count": 141,
   "id": "93383994-8052-4ac5-9994-c8db26c001fe",
   "metadata": {},
   "outputs": [
    {
     "name": "stdout",
     "output_type": "stream",
     "text": [
      "1 2 3 4 5 6\n"
     ]
    }
   ],
   "source": [
    "l = [1,2,3,4,5,6]\n",
    "print(*l)"
   ]
  },
  {
   "cell_type": "code",
   "execution_count": 146,
   "id": "c0317ba9-9618-4d78-9e3c-de97f048b3a9",
   "metadata": {},
   "outputs": [
    {
     "data": {
      "text/plain": [
       "tensor([0, 1, 2, 3, 4, 5, 6, 7, 8, 9])"
      ]
     },
     "execution_count": 146,
     "metadata": {},
     "output_type": "execute_result"
    }
   ],
   "source": [
    "x.abs_()"
   ]
  },
  {
   "cell_type": "code",
   "execution_count": 147,
   "id": "ca762e73-3c49-4cdd-b89a-661cf1b9aa35",
   "metadata": {},
   "outputs": [
    {
     "data": {
      "text/plain": [
       "tensor([0, 1, 2, 3, 4, 5, 6, 7, 8, 9])"
      ]
     },
     "execution_count": 147,
     "metadata": {},
     "output_type": "execute_result"
    }
   ],
   "source": [
    "x.absolute()"
   ]
  },
  {
   "cell_type": "code",
   "execution_count": 148,
   "id": "d1df20cb-cf4f-433f-b874-e95e0fb836e4",
   "metadata": {},
   "outputs": [
    {
     "data": {
      "text/plain": [
       "tensor([1.57079637050628662109, 0.00000000000000000000,                    nan,\n",
       "                           nan,                    nan,                    nan,\n",
       "                           nan,                    nan,                    nan,\n",
       "                           nan])"
      ]
     },
     "execution_count": 148,
     "metadata": {},
     "output_type": "execute_result"
    }
   ],
   "source": [
    "x.acos()"
   ]
  },
  {
   "cell_type": "code",
   "execution_count": 149,
   "id": "55ec9ab6-274f-4d58-b74b-c9969f4caef3",
   "metadata": {},
   "outputs": [
    {
     "data": {
      "text/plain": [
       "tensor([                   nan, 0.00000000000000000000, 1.31695795059204101562,\n",
       "        1.76274716854095458984, 2.06343698501586914062, 2.29243159294128417969,\n",
       "        2.47788882255554199219, 2.63391590118408203125, 2.76865935325622558594,\n",
       "        2.88727092742919921875])"
      ]
     },
     "execution_count": 149,
     "metadata": {},
     "output_type": "execute_result"
    }
   ],
   "source": [
    "x.acosh()"
   ]
  },
  {
   "cell_type": "code",
   "execution_count": 150,
   "id": "641a50db-d789-4bd1-87e5-6b355ebd960e",
   "metadata": {},
   "outputs": [
    {
     "data": {
      "text/plain": [
       "tensor([ 5,  6,  7,  8,  9, 10, 11, 12, 13, 14])"
      ]
     },
     "execution_count": 150,
     "metadata": {},
     "output_type": "execute_result"
    }
   ],
   "source": [
    "x.add(5)"
   ]
  },
  {
   "cell_type": "code",
   "execution_count": 151,
   "id": "e509202f-63a8-4534-958b-945a0ff4b613",
   "metadata": {},
   "outputs": [
    {
     "data": {
      "text/plain": [
       "tensor(9)"
      ]
     },
     "execution_count": 151,
     "metadata": {},
     "output_type": "execute_result"
    }
   ],
   "source": [
    "x.amax()"
   ]
  },
  {
   "cell_type": "code",
   "execution_count": 152,
   "id": "73418932-ec09-4ebb-ae36-f5b3dca78800",
   "metadata": {},
   "outputs": [
    {
     "data": {
      "text/plain": [
       "tensor(9)"
      ]
     },
     "execution_count": 152,
     "metadata": {},
     "output_type": "execute_result"
    }
   ],
   "source": [
    "x.max()"
   ]
  },
  {
   "cell_type": "code",
   "execution_count": 154,
   "id": "cb929e22-bb49-4fae-8cf9-fb8c621abac5",
   "metadata": {},
   "outputs": [
    {
     "data": {
      "text/plain": [
       "torch.Size([10])"
      ]
     },
     "execution_count": 154,
     "metadata": {},
     "output_type": "execute_result"
    }
   ],
   "source": [
    "x.shape"
   ]
  },
  {
   "cell_type": "code",
   "execution_count": 155,
   "id": "a863c6d5-8e3c-4612-867f-c8a9b090d4bb",
   "metadata": {},
   "outputs": [
    {
     "data": {
      "text/plain": [
       "tensor([[0, 1, 2, 3, 4],\n",
       "        [5, 6, 7, 8, 9]])"
      ]
     },
     "execution_count": 155,
     "metadata": {},
     "output_type": "execute_result"
    }
   ],
   "source": [
    "x.reshape(2,5)"
   ]
  },
  {
   "cell_type": "code",
   "execution_count": 162,
   "id": "07e1e7ea-6289-400f-bd43-04492139799c",
   "metadata": {},
   "outputs": [
    {
     "ename": "TypeError",
     "evalue": "view() received an invalid combination of arguments - got (bool), but expected one of:\n * (torch.dtype dtype)\n      didn't match because some of the arguments have invalid types: (\u001b[31;1mbool\u001b[0m)\n * (tuple of ints size)\n      didn't match because some of the arguments have invalid types: (\u001b[31;1mbool\u001b[0m)\n",
     "output_type": "error",
     "traceback": [
      "\u001b[1;31m---------------------------------------------------------------------------\u001b[0m",
      "\u001b[1;31mTypeError\u001b[0m                                 Traceback (most recent call last)",
      "Cell \u001b[1;32mIn[162], line 1\u001b[0m\n\u001b[1;32m----> 1\u001b[0m \u001b[43mx\u001b[49m\u001b[38;5;241;43m.\u001b[39;49m\u001b[43mview\u001b[49m\u001b[43m(\u001b[49m\u001b[43mtorch\u001b[49m\u001b[38;5;241;43m.\u001b[39;49m\u001b[43mdtype\u001b[49m\u001b[38;5;241;43m==\u001b[39;49m\u001b[38;5;124;43m'\u001b[39;49m\u001b[38;5;124;43mflost32\u001b[39;49m\u001b[38;5;124;43m'\u001b[39;49m\u001b[43m)\u001b[49m\n",
      "\u001b[1;31mTypeError\u001b[0m: view() received an invalid combination of arguments - got (bool), but expected one of:\n * (torch.dtype dtype)\n      didn't match because some of the arguments have invalid types: (\u001b[31;1mbool\u001b[0m)\n * (tuple of ints size)\n      didn't match because some of the arguments have invalid types: (\u001b[31;1mbool\u001b[0m)\n"
     ]
    }
   ],
   "source": [
    "x.view(torch.dtype=='flost32')"
   ]
  },
  {
   "cell_type": "code",
   "execution_count": 163,
   "id": "d482d187-1ec5-4683-a9ec-8174ea9f9557",
   "metadata": {},
   "outputs": [
    {
     "data": {
      "text/plain": [
       "tensor([0, 1, 2, 3, 4, 5, 6, 7, 8, 9])"
      ]
     },
     "execution_count": 163,
     "metadata": {},
     "output_type": "execute_result"
    }
   ],
   "source": [
    "x.unique()"
   ]
  },
  {
   "cell_type": "code",
   "execution_count": 165,
   "id": "5d75b10a-6395-4e75-a7f9-a4d5bf0f1a37",
   "metadata": {},
   "outputs": [
    {
     "data": {
      "text/plain": [
       "1"
      ]
     },
     "execution_count": 165,
     "metadata": {},
     "output_type": "execute_result"
    }
   ],
   "source": [
    "x.ndim"
   ]
  },
  {
   "cell_type": "code",
   "execution_count": 166,
   "id": "12e78f54-81d2-4d63-92fc-d680dda153ec",
   "metadata": {},
   "outputs": [
    {
     "data": {
      "text/plain": [
       "10"
      ]
     },
     "execution_count": 166,
     "metadata": {},
     "output_type": "execute_result"
    }
   ],
   "source": [
    "len(x)"
   ]
  },
  {
   "cell_type": "code",
   "execution_count": 167,
   "id": "bc315899-52a4-4200-8497-b2b6c12275b0",
   "metadata": {},
   "outputs": [
    {
     "data": {
      "text/plain": [
       "10"
      ]
     },
     "execution_count": 167,
     "metadata": {},
     "output_type": "execute_result"
    }
   ],
   "source": [
    "x.numel()"
   ]
  },
  {
   "cell_type": "code",
   "execution_count": 170,
   "id": "0f5b5609-13c9-42de-a32d-a41378432e0c",
   "metadata": {},
   "outputs": [
    {
     "data": {
      "text/plain": [
       "1"
      ]
     },
     "execution_count": 170,
     "metadata": {},
     "output_type": "execute_result"
    }
   ],
   "source": [
    "x.ndimension()"
   ]
  },
  {
   "cell_type": "code",
   "execution_count": 171,
   "id": "96fcc3ef-4933-411a-9847-aa095e25bb06",
   "metadata": {},
   "outputs": [
    {
     "data": {
      "text/plain": [
       "tensor([0, 1, 2, 3, 4, 5, 6, 7, 8])"
      ]
     },
     "execution_count": 171,
     "metadata": {},
     "output_type": "execute_result"
    }
   ],
   "source": [
    "# reshape\n",
    "x = torch.arange(9)\n",
    "x"
   ]
  },
  {
   "cell_type": "code",
   "execution_count": 176,
   "id": "2baa828a-716d-488a-b895-94594ee4f199",
   "metadata": {},
   "outputs": [
    {
     "data": {
      "text/plain": [
       "tensor([[0, 1, 2],\n",
       "        [3, 4, 5],\n",
       "        [6, 7, 8]])"
      ]
     },
     "execution_count": 176,
     "metadata": {},
     "output_type": "execute_result"
    }
   ],
   "source": [
    "x.reshape(3,3)"
   ]
  },
  {
   "cell_type": "code",
   "execution_count": 177,
   "id": "f5744606-2238-4dac-9ea3-131e1bd2c72e",
   "metadata": {},
   "outputs": [
    {
     "data": {
      "text/plain": [
       "tensor([0, 1, 2, 3, 4, 5, 6, 7, 8])"
      ]
     },
     "execution_count": 177,
     "metadata": {},
     "output_type": "execute_result"
    }
   ],
   "source": [
    "x.reshape(3,3).reshape(9)"
   ]
  },
  {
   "cell_type": "code",
   "execution_count": 178,
   "id": "28122fdc-99a4-4c32-bc3f-cad23f9f5b6d",
   "metadata": {},
   "outputs": [
    {
     "data": {
      "text/plain": [
       "tensor([[0, 1, 2],\n",
       "        [3, 4, 5],\n",
       "        [6, 7, 8]])"
      ]
     },
     "execution_count": 178,
     "metadata": {},
     "output_type": "execute_result"
    }
   ],
   "source": [
    "x.view(3, 3)"
   ]
  },
  {
   "cell_type": "code",
   "execution_count": 179,
   "id": "7d1b3690-202d-4a0b-89b1-b72a864fd60f",
   "metadata": {},
   "outputs": [
    {
     "data": {
      "text/plain": [
       "tensor([0, 1, 2, 3, 4, 5, 6, 7, 8])"
      ]
     },
     "execution_count": 179,
     "metadata": {},
     "output_type": "execute_result"
    }
   ],
   "source": [
    "x.view(3, 3).view(9)"
   ]
  },
  {
   "cell_type": "code",
   "execution_count": 186,
   "id": "f89338ad-7ee7-4279-9414-62a85befd253",
   "metadata": {},
   "outputs": [
    {
     "data": {
      "text/plain": [
       "tensor([[0, 1, 2],\n",
       "        [3, 4, 5],\n",
       "        [6, 7, 8]])"
      ]
     },
     "execution_count": 186,
     "metadata": {},
     "output_type": "execute_result"
    }
   ],
   "source": [
    "x = torch.arange(9).reshape(3,3)\n",
    "x"
   ]
  },
  {
   "cell_type": "code",
   "execution_count": 190,
   "id": "8985eb70-f4c4-4b51-abe5-4958165f17b1",
   "metadata": {},
   "outputs": [
    {
     "data": {
      "text/plain": [
       "tensor([[0, 3, 6],\n",
       "        [1, 4, 7],\n",
       "        [2, 5, 8]])"
      ]
     },
     "execution_count": 190,
     "metadata": {},
     "output_type": "execute_result"
    }
   ],
   "source": [
    "x = x.t()\n",
    "x"
   ]
  },
  {
   "cell_type": "code",
   "execution_count": 191,
   "id": "f75d04bb-b074-4cb7-b220-0d73e438a87b",
   "metadata": {},
   "outputs": [
    {
     "data": {
      "text/plain": [
       "tensor([[0, 3, 6],\n",
       "        [1, 4, 7],\n",
       "        [2, 5, 8]])"
      ]
     },
     "execution_count": 191,
     "metadata": {},
     "output_type": "execute_result"
    }
   ],
   "source": [
    "x.contiguous()"
   ]
  },
  {
   "cell_type": "code",
   "execution_count": 192,
   "id": "e43a9825-c89a-441b-8a3c-e0e44691e74a",
   "metadata": {},
   "outputs": [
    {
     "data": {
      "text/plain": [
       "tensor([0, 3, 6, 1, 4, 7, 2, 5, 8])"
      ]
     },
     "execution_count": 192,
     "metadata": {},
     "output_type": "execute_result"
    }
   ],
   "source": [
    "x.contiguous().view(9)"
   ]
  },
  {
   "cell_type": "code",
   "execution_count": 193,
   "id": "7827618a-fa75-4fe6-9af4-c3daa44844f4",
   "metadata": {},
   "outputs": [
    {
     "data": {
      "text/plain": [
       "tensor([[0.05856364965438842773, 0.94825661182403564453, 0.57392400503158569336,\n",
       "         0.74305880069732666016, 0.21297991275787353516],\n",
       "        [0.24822926521301269531, 0.83896911144256591797, 0.03082072734832763672,\n",
       "         0.16304773092269897461, 0.08616322278976440430]])"
      ]
     },
     "execution_count": 193,
     "metadata": {},
     "output_type": "execute_result"
    }
   ],
   "source": [
    "x1 = torch.rand(2,5)\n",
    "x1"
   ]
  },
  {
   "cell_type": "code",
   "execution_count": 194,
   "id": "0c94fd8f-0ba6-408e-9986-c98019da2ed7",
   "metadata": {},
   "outputs": [
    {
     "data": {
      "text/plain": [
       "tensor([[0.65774959325790405273, 0.53862851858139038086, 0.06342411041259765625,\n",
       "         0.24539721012115478516, 0.86965137720108032227],\n",
       "        [0.90738946199417114258, 0.82634246349334716797, 0.56702041625976562500,\n",
       "         0.61481732130050659180, 0.18889218568801879883]])"
      ]
     },
     "execution_count": 194,
     "metadata": {},
     "output_type": "execute_result"
    }
   ],
   "source": [
    "x2 = torch.rand(2,5)\n",
    "x2"
   ]
  },
  {
   "cell_type": "code",
   "execution_count": 196,
   "id": "445b4636-5403-4e20-9c0c-9fca34be0a38",
   "metadata": {},
   "outputs": [
    {
     "data": {
      "text/plain": [
       "tensor([[0.05856364965438842773, 0.94825661182403564453, 0.57392400503158569336,\n",
       "         0.74305880069732666016, 0.21297991275787353516],\n",
       "        [0.24822926521301269531, 0.83896911144256591797, 0.03082072734832763672,\n",
       "         0.16304773092269897461, 0.08616322278976440430],\n",
       "        [0.65774959325790405273, 0.53862851858139038086, 0.06342411041259765625,\n",
       "         0.24539721012115478516, 0.86965137720108032227],\n",
       "        [0.90738946199417114258, 0.82634246349334716797, 0.56702041625976562500,\n",
       "         0.61481732130050659180, 0.18889218568801879883]])"
      ]
     },
     "execution_count": 196,
     "metadata": {},
     "output_type": "execute_result"
    }
   ],
   "source": [
    "torch.cat((x1,x2))"
   ]
  },
  {
   "cell_type": "code",
   "execution_count": 197,
   "id": "7b4b4806-4864-4eab-b5c8-8364cb5588c0",
   "metadata": {},
   "outputs": [
    {
     "data": {
      "text/plain": [
       "tensor([[0.05856364965438842773, 0.94825661182403564453, 0.57392400503158569336,\n",
       "         0.74305880069732666016, 0.21297991275787353516],\n",
       "        [0.24822926521301269531, 0.83896911144256591797, 0.03082072734832763672,\n",
       "         0.16304773092269897461, 0.08616322278976440430],\n",
       "        [0.65774959325790405273, 0.53862851858139038086, 0.06342411041259765625,\n",
       "         0.24539721012115478516, 0.86965137720108032227],\n",
       "        [0.90738946199417114258, 0.82634246349334716797, 0.56702041625976562500,\n",
       "         0.61481732130050659180, 0.18889218568801879883]])"
      ]
     },
     "execution_count": 197,
     "metadata": {},
     "output_type": "execute_result"
    }
   ],
   "source": [
    "torch.cat((x1,x2), dim=0)"
   ]
  },
  {
   "cell_type": "code",
   "execution_count": 200,
   "id": "b547a29c-1a53-47fa-8846-dce63ff96584",
   "metadata": {},
   "outputs": [
    {
     "data": {
      "text/plain": [
       "tensor([[0.05856364965438842773, 0.94825661182403564453, 0.57392400503158569336,\n",
       "         0.74305880069732666016, 0.21297991275787353516, 0.65774959325790405273,\n",
       "         0.53862851858139038086, 0.06342411041259765625, 0.24539721012115478516,\n",
       "         0.86965137720108032227],\n",
       "        [0.24822926521301269531, 0.83896911144256591797, 0.03082072734832763672,\n",
       "         0.16304773092269897461, 0.08616322278976440430, 0.90738946199417114258,\n",
       "         0.82634246349334716797, 0.56702041625976562500, 0.61481732130050659180,\n",
       "         0.18889218568801879883]])"
      ]
     },
     "execution_count": 200,
     "metadata": {},
     "output_type": "execute_result"
    }
   ],
   "source": [
    "torch.cat((x1,x2), dim=1)"
   ]
  },
  {
   "cell_type": "code",
   "execution_count": 201,
   "id": "c8ab72cb-3118-4ed7-8eff-02e4379a1a08",
   "metadata": {},
   "outputs": [
    {
     "data": {
      "text/plain": [
       "tensor([0.05856364965438842773, 0.94825661182403564453, 0.57392400503158569336,\n",
       "        0.74305880069732666016, 0.21297991275787353516, 0.24822926521301269531,\n",
       "        0.83896911144256591797, 0.03082072734832763672, 0.16304773092269897461,\n",
       "        0.08616322278976440430])"
      ]
     },
     "execution_count": 201,
     "metadata": {},
     "output_type": "execute_result"
    }
   ],
   "source": [
    "z = x1.view(-1)\n",
    "z"
   ]
  },
  {
   "cell_type": "code",
   "execution_count": 203,
   "id": "22b6fce1-4b64-4f03-b372-6a612f3079d4",
   "metadata": {},
   "outputs": [],
   "source": [
    "batch = 64\n",
    "x = torch.rand(batch, 2, 5)\n",
    "#x"
   ]
  },
  {
   "cell_type": "code",
   "execution_count": 208,
   "id": "1a0ca9b6-142e-4bf6-ab7e-32fefcfa10b2",
   "metadata": {},
   "outputs": [
    {
     "data": {
      "text/plain": [
       "torch.Size([640])"
      ]
     },
     "execution_count": 208,
     "metadata": {},
     "output_type": "execute_result"
    }
   ],
   "source": [
    "x.view(-1).shape"
   ]
  },
  {
   "cell_type": "code",
   "execution_count": 213,
   "id": "799698db-e80f-4270-a61c-d3818299d204",
   "metadata": {},
   "outputs": [
    {
     "data": {
      "text/plain": [
       "torch.Size([64, 10])"
      ]
     },
     "execution_count": 213,
     "metadata": {},
     "output_type": "execute_result"
    }
   ],
   "source": [
    "z = x.view(batch, -1)\n",
    "z.shape"
   ]
  },
  {
   "cell_type": "code",
   "execution_count": null,
   "id": "c9304135-3ff4-41e4-bd7b-2b981f7eb0fe",
   "metadata": {},
   "outputs": [],
   "source": []
  },
  {
   "cell_type": "code",
   "execution_count": 209,
   "id": "b6996071-d9aa-4b1c-af45-757ab1d26fb5",
   "metadata": {},
   "outputs": [
    {
     "data": {
      "text/plain": [
       "tensor([[[0.71403992176055908203, 0.17912137508392333984,\n",
       "          0.20325601100921630859, 0.12056273221969604492,\n",
       "          0.78985071182250976562],\n",
       "         [0.34457606077194213867, 0.78775167465209960938,\n",
       "          0.79467290639877319336, 0.14944732189178466797,\n",
       "          0.67075550556182861328]],\n",
       "\n",
       "        [[0.16869741678237915039, 0.72565215826034545898,\n",
       "          0.49114620685577392578, 0.07756358385086059570,\n",
       "          0.38210356235504150391],\n",
       "         [0.66483974456787109375, 0.00199198722839355469,\n",
       "          0.77327424287796020508, 0.35247206687927246094,\n",
       "          0.61926078796386718750]],\n",
       "\n",
       "        [[0.13352853059768676758, 0.91329246759414672852,\n",
       "          0.16951239109039306641, 0.17526698112487792969,\n",
       "          0.43759179115295410156],\n",
       "         [0.34756648540496826172, 0.57690560817718505859,\n",
       "          0.35616445541381835938, 0.83066499233245849609,\n",
       "          0.86995476484298706055]],\n",
       "\n",
       "        [[0.63975465297698974609, 0.07239967584609985352,\n",
       "          0.67146539688110351562, 0.42475092411041259766,\n",
       "          0.39274972677230834961],\n",
       "         [0.83562499284744262695, 0.39401578903198242188,\n",
       "          0.23302268981933593750, 0.96550112962722778320,\n",
       "          0.14474964141845703125]],\n",
       "\n",
       "        [[0.79131549596786499023, 0.88843816518783569336,\n",
       "          0.67797774076461791992, 0.04252374172210693359,\n",
       "          0.68418812751770019531],\n",
       "         [0.98069393634796142578, 0.11052346229553222656,\n",
       "          0.24122756719589233398, 0.56719952821731567383,\n",
       "          0.37709397077560424805]],\n",
       "\n",
       "        [[0.70499902963638305664, 0.97502350807189941406,\n",
       "          0.25988405942916870117, 0.06504207849502563477,\n",
       "          0.39078515768051147461],\n",
       "         [0.39778721332550048828, 0.95191347599029541016,\n",
       "          0.27750825881958007812, 0.80822211503982543945,\n",
       "          0.19256496429443359375]],\n",
       "\n",
       "        [[0.43788683414459228516, 0.47413253784179687500,\n",
       "          0.60189914703369140625, 0.81420320272445678711,\n",
       "          0.07981598377227783203],\n",
       "         [0.24126297235488891602, 0.04866504669189453125,\n",
       "          0.88363289833068847656, 0.81474751234054565430,\n",
       "          0.23942607641220092773]],\n",
       "\n",
       "        [[0.38278627395629882812, 0.82400202751159667969,\n",
       "          0.58611494302749633789, 0.00769215822219848633,\n",
       "          0.86882454156875610352],\n",
       "         [0.72616899013519287109, 0.58473467826843261719,\n",
       "          0.33076149225234985352, 0.24808335304260253906,\n",
       "          0.14951384067535400391]],\n",
       "\n",
       "        [[0.01921927928924560547, 0.90657269954681396484,\n",
       "          0.32049173116683959961, 0.99786162376403808594,\n",
       "          0.87984919548034667969],\n",
       "         [0.85916763544082641602, 0.28143125772476196289,\n",
       "          0.67204415798187255859, 0.31689643859863281250,\n",
       "          0.50748103857040405273]],\n",
       "\n",
       "        [[0.06146961450576782227, 0.70271515846252441406,\n",
       "          0.07466179132461547852, 0.30968296527862548828,\n",
       "          0.00968134403228759766],\n",
       "         [0.42178589105606079102, 0.76949769258499145508,\n",
       "          0.78506553173065185547, 0.05949491262435913086,\n",
       "          0.96197259426116943359]],\n",
       "\n",
       "        [[0.62432378530502319336, 0.16526168584823608398,\n",
       "          0.86302965879440307617, 0.91271305084228515625,\n",
       "          0.72461152076721191406],\n",
       "         [0.60109019279479980469, 0.37823039293289184570,\n",
       "          0.29603791236877441406, 0.55878472328186035156,\n",
       "          0.86146509647369384766]],\n",
       "\n",
       "        [[0.68043959140777587891, 0.31208878755569458008,\n",
       "          0.27049100399017333984, 0.75937950611114501953,\n",
       "          0.30907082557678222656],\n",
       "         [0.26558846235275268555, 0.91596847772598266602,\n",
       "          0.91798818111419677734, 0.99121046066284179688,\n",
       "          0.03444004058837890625]],\n",
       "\n",
       "        [[0.49912852048873901367, 0.23389124870300292969,\n",
       "          0.45795881748199462891, 0.67818039655685424805,\n",
       "          0.43991780281066894531],\n",
       "         [0.24737596511840820312, 0.61300557851791381836,\n",
       "          0.37571930885314941406, 0.44025135040283203125,\n",
       "          0.87995785474777221680]],\n",
       "\n",
       "        [[0.50082117319107055664, 0.31296646595001220703,\n",
       "          0.95094805955886840820, 0.89716231822967529297,\n",
       "          0.88126444816589355469],\n",
       "         [0.06459891796112060547, 0.69390016794204711914,\n",
       "          0.07838958501815795898, 0.20309364795684814453,\n",
       "          0.93593740463256835938]],\n",
       "\n",
       "        [[0.31164014339447021484, 0.18365079164505004883,\n",
       "          0.73345875740051269531, 0.61045616865158081055,\n",
       "          0.61636286973953247070],\n",
       "         [0.93264120817184448242, 0.96116662025451660156,\n",
       "          0.07618284225463867188, 0.10104328393936157227,\n",
       "          0.18211227655410766602]],\n",
       "\n",
       "        [[0.63182353973388671875, 0.08910131454467773438,\n",
       "          0.75736302137374877930, 0.81874233484268188477,\n",
       "          0.36327326297760009766],\n",
       "         [0.03845900297164916992, 0.22285085916519165039,\n",
       "          0.01850140094757080078, 0.86834025382995605469,\n",
       "          0.10841673612594604492]],\n",
       "\n",
       "        [[0.16874110698699951172, 0.77537119388580322266,\n",
       "          0.26991236209869384766, 0.97282904386520385742,\n",
       "          0.35448729991912841797],\n",
       "         [0.91195327043533325195, 0.59768599271774291992,\n",
       "          0.20465320348739624023, 0.89195829629898071289,\n",
       "          0.74348390102386474609]],\n",
       "\n",
       "        [[0.38890624046325683594, 0.57964152097702026367,\n",
       "          0.07208639383316040039, 0.25564271211624145508,\n",
       "          0.13827788829803466797],\n",
       "         [0.51400011777877807617, 0.18163371086120605469,\n",
       "          0.86481100320816040039, 0.70483362674713134766,\n",
       "          0.10876160860061645508]],\n",
       "\n",
       "        [[0.39194381237030029297, 0.69474881887435913086,\n",
       "          0.14220738410949707031, 0.89034515619277954102,\n",
       "          0.03486049175262451172],\n",
       "         [0.93969559669494628906, 0.16366034746170043945,\n",
       "          0.24530839920043945312, 0.17537581920623779297,\n",
       "          0.82378393411636352539]],\n",
       "\n",
       "        [[0.78081792593002319336, 0.04033565521240234375,\n",
       "          0.83467328548431396484, 0.43978255987167358398,\n",
       "          0.60876351594924926758],\n",
       "         [0.53664833307266235352, 0.50990211963653564453,\n",
       "          0.83699148893356323242, 0.77337354421615600586,\n",
       "          0.95282459259033203125]],\n",
       "\n",
       "        [[0.88495188951492309570, 0.88478577136993408203,\n",
       "          0.99640649557113647461, 0.53051185607910156250,\n",
       "          0.64739066362380981445],\n",
       "         [0.34891438484191894531, 0.87669825553894042969,\n",
       "          0.33125370740890502930, 0.41277438402175903320,\n",
       "          0.82114320993423461914]],\n",
       "\n",
       "        [[0.07109951972961425781, 0.40044474601745605469,\n",
       "          0.04831761121749877930, 0.30973768234252929688,\n",
       "          0.39515471458435058594],\n",
       "         [0.19429630041122436523, 0.49741643667221069336,\n",
       "          0.62812197208404541016, 0.60914164781570434570,\n",
       "          0.69841539859771728516]],\n",
       "\n",
       "        [[0.38704240322113037109, 0.91031920909881591797,\n",
       "          0.11583471298217773438, 0.63897401094436645508,\n",
       "          0.10308367013931274414],\n",
       "         [0.09371542930603027344, 0.86758208274841308594,\n",
       "          0.68388712406158447266, 0.96509993076324462891,\n",
       "          0.08159887790679931641]],\n",
       "\n",
       "        [[0.98624390363693237305, 0.84857302904129028320,\n",
       "          0.85822367668151855469, 0.16540360450744628906,\n",
       "          0.48945599794387817383],\n",
       "         [0.20668888092041015625, 0.61342734098434448242,\n",
       "          0.35870224237442016602, 0.47458523511886596680,\n",
       "          0.66473072767257690430]],\n",
       "\n",
       "        [[0.30416011810302734375, 0.75074738264083862305,\n",
       "          0.81148535013198852539, 0.02637237310409545898,\n",
       "          0.20857071876525878906],\n",
       "         [0.18668800592422485352, 0.25319498777389526367,\n",
       "          0.34147632122039794922, 0.47210323810577392578,\n",
       "          0.86719226837158203125]],\n",
       "\n",
       "        [[0.78009885549545288086, 0.36579060554504394531,\n",
       "          0.48451572656631469727, 0.70350795984268188477,\n",
       "          0.36364901065826416016],\n",
       "         [0.68873006105422973633, 0.43823468685150146484,\n",
       "          0.68103092908859252930, 0.51082623004913330078,\n",
       "          0.09339559078216552734]],\n",
       "\n",
       "        [[0.08794206380844116211, 0.84481334686279296875,\n",
       "          0.80649697780609130859, 0.29744189977645874023,\n",
       "          0.17231643199920654297],\n",
       "         [0.14103710651397705078, 0.00586861371994018555,\n",
       "          0.29848217964172363281, 0.21463775634765625000,\n",
       "          0.33211535215377807617]],\n",
       "\n",
       "        [[0.71682292222976684570, 0.68532192707061767578,\n",
       "          0.70444625616073608398, 0.62746894359588623047,\n",
       "          0.77853780984878540039],\n",
       "         [0.63341969251632690430, 0.64968979358673095703,\n",
       "          0.13404977321624755859, 0.84628903865814208984,\n",
       "          0.45258361101150512695]],\n",
       "\n",
       "        [[0.40277540683746337891, 0.20184564590454101562,\n",
       "          0.37229400873184204102, 0.52647125720977783203,\n",
       "          0.38159561157226562500],\n",
       "         [0.66455495357513427734, 0.13297909498214721680,\n",
       "          0.55118650197982788086, 0.73123437166213989258,\n",
       "          0.97682267427444458008]],\n",
       "\n",
       "        [[0.16109472513198852539, 0.69477498531341552734,\n",
       "          0.28120559453964233398, 0.49239063262939453125,\n",
       "          0.83411985635757446289],\n",
       "         [0.45292025804519653320, 0.05013769865036010742,\n",
       "          0.80804437398910522461, 0.39824908971786499023,\n",
       "          0.44350725412368774414]],\n",
       "\n",
       "        [[0.65308964252471923828, 0.57752245664596557617,\n",
       "          0.02932238578796386719, 0.91968798637390136719,\n",
       "          0.01674526929855346680],\n",
       "         [0.87040555477142333984, 0.02815055847167968750,\n",
       "          0.62436366081237792969, 0.44951182603836059570,\n",
       "          0.31085103750228881836]],\n",
       "\n",
       "        [[0.66816705465316772461, 0.30003774166107177734,\n",
       "          0.67235124111175537109, 0.53119999170303344727,\n",
       "          0.75259035825729370117],\n",
       "         [0.25460207462310791016, 0.81591266393661499023,\n",
       "          0.27971166372299194336, 0.33983987569808959961,\n",
       "          0.38284128904342651367]],\n",
       "\n",
       "        [[0.71154850721359252930, 0.95540469884872436523,\n",
       "          0.12032914161682128906, 0.05513697862625122070,\n",
       "          0.06575667858123779297],\n",
       "         [0.91933095455169677734, 0.29120457172393798828,\n",
       "          0.04311388731002807617, 0.25289660692214965820,\n",
       "          0.10509127378463745117]],\n",
       "\n",
       "        [[0.84350466728210449219, 0.28934037685394287109,\n",
       "          0.33113145828247070312, 0.79628741741180419922,\n",
       "          0.20545816421508789062],\n",
       "         [0.76574093103408813477, 0.23168849945068359375,\n",
       "          0.61803376674652099609, 0.23265200853347778320,\n",
       "          0.60366678237915039062]],\n",
       "\n",
       "        [[0.04369431734085083008, 0.05016046762466430664,\n",
       "          0.76767516136169433594, 0.02353614568710327148,\n",
       "          0.58780628442764282227],\n",
       "         [0.61710029840469360352, 0.02460014820098876953,\n",
       "          0.19839847087860107422, 0.51381391286849975586,\n",
       "          0.50240296125411987305]],\n",
       "\n",
       "        [[0.04655891656875610352, 0.65230709314346313477,\n",
       "          0.33961004018783569336, 0.01244717836380004883,\n",
       "          0.74549478292465209961],\n",
       "         [0.31616544723510742188, 0.71851718425750732422,\n",
       "          0.77294117212295532227, 0.75640171766281127930,\n",
       "          0.42448759078979492188]],\n",
       "\n",
       "        [[0.11832338571548461914, 0.44618272781372070312,\n",
       "          0.75903505086898803711, 0.83184152841567993164,\n",
       "          0.35743713378906250000],\n",
       "         [0.05960100889205932617, 0.15755391120910644531,\n",
       "          0.24781090021133422852, 0.47933936119079589844,\n",
       "          0.72261023521423339844]],\n",
       "\n",
       "        [[0.26148802042007446289, 0.84052646160125732422,\n",
       "          0.13800126314163208008, 0.33748286962509155273,\n",
       "          0.56817799806594848633],\n",
       "         [0.91206067800521850586, 0.52665281295776367188,\n",
       "          0.03117787837982177734, 0.05362308025360107422,\n",
       "          0.89362102746963500977]],\n",
       "\n",
       "        [[0.64999729394912719727, 0.95653444528579711914,\n",
       "          0.99439066648483276367, 0.06057238578796386719,\n",
       "          0.83913439512252807617],\n",
       "         [0.05465906858444213867, 0.92954045534133911133,\n",
       "          0.00989079475402832031, 0.57666063308715820312,\n",
       "          0.71074491739273071289]],\n",
       "\n",
       "        [[0.97603672742843627930, 0.04179769754409790039,\n",
       "          0.12023496627807617188, 0.93430513143539428711,\n",
       "          0.42956149578094482422],\n",
       "         [0.66409868001937866211, 0.37792015075683593750,\n",
       "          0.79639601707458496094, 0.71679621934890747070,\n",
       "          0.18509244918823242188]],\n",
       "\n",
       "        [[0.76914203166961669922, 0.84605091810226440430,\n",
       "          0.56633251905441284180, 0.44175130128860473633,\n",
       "          0.20375049114227294922],\n",
       "         [0.51266777515411376953, 0.77065873146057128906,\n",
       "          0.39372539520263671875, 0.55544930696487426758,\n",
       "          0.39107006788253784180]],\n",
       "\n",
       "        [[0.48863947391510009766, 0.27931749820709228516,\n",
       "          0.55047100782394409180, 0.78730481863021850586,\n",
       "          0.56304556131362915039],\n",
       "         [0.74281209707260131836, 0.67963266372680664062,\n",
       "          0.98700523376464843750, 0.80998235940933227539,\n",
       "          0.12311941385269165039]],\n",
       "\n",
       "        [[0.25260800123214721680, 0.02537792921066284180,\n",
       "          0.75971066951751708984, 0.31736665964126586914,\n",
       "          0.78291910886764526367],\n",
       "         [0.45876097679138183594, 0.81329667568206787109,\n",
       "          0.71354538202285766602, 0.67030650377273559570,\n",
       "          0.83957856893539428711]],\n",
       "\n",
       "        [[0.82369941473007202148, 0.69432914257049560547,\n",
       "          0.89411389827728271484, 0.93071293830871582031,\n",
       "          0.64334845542907714844],\n",
       "         [0.97950744628906250000, 0.85787171125411987305,\n",
       "          0.00791120529174804688, 0.06757175922393798828,\n",
       "          0.35776257514953613281]],\n",
       "\n",
       "        [[0.33174604177474975586, 0.10378491878509521484,\n",
       "          0.49622040987014770508, 0.01944512128829956055,\n",
       "          0.50779587030410766602],\n",
       "         [0.19630324840545654297, 0.59777015447616577148,\n",
       "          0.22474998235702514648, 0.57842487096786499023,\n",
       "          0.91568648815155029297]],\n",
       "\n",
       "        [[0.69914031028747558594, 0.43236857652664184570,\n",
       "          0.32182407379150390625, 0.64641666412353515625,\n",
       "          0.86003094911575317383],\n",
       "         [0.22331345081329345703, 0.49567353725433349609,\n",
       "          0.28193265199661254883, 0.98631334304809570312,\n",
       "          0.82854831218719482422]],\n",
       "\n",
       "        [[0.82587993144989013672, 0.34805488586425781250,\n",
       "          0.40278220176696777344, 0.89849740266799926758,\n",
       "          0.40104830265045166016],\n",
       "         [0.15807938575744628906, 0.59629517793655395508,\n",
       "          0.26037496328353881836, 0.56036287546157836914,\n",
       "          0.06021898984909057617]],\n",
       "\n",
       "        [[0.19208985567092895508, 0.95610785484313964844,\n",
       "          0.41938865184783935547, 0.96261936426162719727,\n",
       "          0.49104207754135131836],\n",
       "         [0.59538698196411132812, 0.06532233953475952148,\n",
       "          0.52632564306259155273, 0.81636649370193481445,\n",
       "          0.11004197597503662109]],\n",
       "\n",
       "        [[0.62406593561172485352, 0.01730984449386596680,\n",
       "          0.10033804178237915039, 0.29053592681884765625,\n",
       "          0.14958751201629638672],\n",
       "         [0.93129557371139526367, 0.71197372674942016602,\n",
       "          0.46940714120864868164, 0.67231374979019165039,\n",
       "          0.18799471855163574219]],\n",
       "\n",
       "        [[0.82954365015029907227, 0.82685482501983642578,\n",
       "          0.74943697452545166016, 0.49440789222717285156,\n",
       "          0.25752419233322143555],\n",
       "         [0.76566010713577270508, 0.12004482746124267578,\n",
       "          0.37830668687820434570, 0.51602876186370849609,\n",
       "          0.30782508850097656250]],\n",
       "\n",
       "        [[0.75144225358963012695, 0.57731568813323974609,\n",
       "          0.05932164192199707031, 0.79489892721176147461,\n",
       "          0.92746794223785400391],\n",
       "         [0.09340727329254150391, 0.29323875904083251953,\n",
       "          0.49398642778396606445, 0.77274352312088012695,\n",
       "          0.49767279624938964844]],\n",
       "\n",
       "        [[0.46928411722183227539, 0.45948177576065063477,\n",
       "          0.71335440874099731445, 0.54764091968536376953,\n",
       "          0.86138248443603515625],\n",
       "         [0.98690086603164672852, 0.61191004514694213867,\n",
       "          0.05846673250198364258, 0.71752721071243286133,\n",
       "          0.77966934442520141602]],\n",
       "\n",
       "        [[0.22496283054351806641, 0.21083658933639526367,\n",
       "          0.51421803236007690430, 0.05217546224594116211,\n",
       "          0.61733543872833251953],\n",
       "         [0.97152751684188842773, 0.74999129772186279297,\n",
       "          0.50502729415893554688, 0.64010733366012573242,\n",
       "          0.81380850076675415039]],\n",
       "\n",
       "        [[0.00152760744094848633, 0.16339552402496337891,\n",
       "          0.77735137939453125000, 0.16127341985702514648,\n",
       "          0.17550909519195556641],\n",
       "         [0.34360170364379882812, 0.66893523931503295898,\n",
       "          0.46621865034103393555, 0.54930394887924194336,\n",
       "          0.51933354139328002930]],\n",
       "\n",
       "        [[0.32095205783843994141, 0.04029929637908935547,\n",
       "          0.69521141052246093750, 0.41868835687637329102,\n",
       "          0.28037405014038085938],\n",
       "         [0.22030782699584960938, 0.04332375526428222656,\n",
       "          0.78155356645584106445, 0.63480508327484130859,\n",
       "          0.93063604831695556641]],\n",
       "\n",
       "        [[0.43072360754013061523, 0.51145029067993164062,\n",
       "          0.24847924709320068359, 0.13645160198211669922,\n",
       "          0.07170522212982177734],\n",
       "         [0.26352268457412719727, 0.14989370107650756836,\n",
       "          0.84142577648162841797, 0.30969130992889404297,\n",
       "          0.34335654973983764648]],\n",
       "\n",
       "        [[0.69822251796722412109, 0.58570677042007446289,\n",
       "          0.41791743040084838867, 0.24201291799545288086,\n",
       "          0.37576425075531005859],\n",
       "         [0.01570677757263183594, 0.41908788681030273438,\n",
       "          0.51873087882995605469, 0.42408454418182373047,\n",
       "          0.03873145580291748047]],\n",
       "\n",
       "        [[0.94094532728195190430, 0.94234347343444824219,\n",
       "          0.49478822946548461914, 0.76772373914718627930,\n",
       "          0.93741410970687866211],\n",
       "         [0.63123017549514770508, 0.03326374292373657227,\n",
       "          0.70785617828369140625, 0.84887516498565673828,\n",
       "          0.98468720912933349609]],\n",
       "\n",
       "        [[0.77668744325637817383, 0.68847924470901489258,\n",
       "          0.32279074192047119141, 0.55253130197525024414,\n",
       "          0.28407943248748779297],\n",
       "         [0.95955359935760498047, 0.26387315988540649414,\n",
       "          0.22541087865829467773, 0.71985274553298950195,\n",
       "          0.31573694944381713867]],\n",
       "\n",
       "        [[0.59935724735260009766, 0.37635612487792968750,\n",
       "          0.35169905424118041992, 0.32601600885391235352,\n",
       "          0.09262233972549438477],\n",
       "         [0.77324199676513671875, 0.12389558553695678711,\n",
       "          0.03875952959060668945, 0.55796700716018676758,\n",
       "          0.51939272880554199219]],\n",
       "\n",
       "        [[0.02313339710235595703, 0.41274970769882202148,\n",
       "          0.40424710512161254883, 0.70780026912689208984,\n",
       "          0.53123873472213745117],\n",
       "         [0.49889361858367919922, 0.20616668462753295898,\n",
       "          0.30480241775512695312, 0.92580801248550415039,\n",
       "          0.29962509870529174805]],\n",
       "\n",
       "        [[0.42731606960296630859, 0.16453415155410766602,\n",
       "          0.69275933504104614258, 0.42554086446762084961,\n",
       "          0.47929835319519042969],\n",
       "         [0.50049030780792236328, 0.69169652462005615234,\n",
       "          0.06760591268539428711, 0.43779140710830688477,\n",
       "          0.34998983144760131836]],\n",
       "\n",
       "        [[0.47759562730789184570, 0.80294299125671386719,\n",
       "          0.75339555740356445312, 0.90169894695281982422,\n",
       "          0.29697674512863159180],\n",
       "         [0.48079174757003784180, 0.00340080261230468750,\n",
       "          0.40623635053634643555, 0.77371209859848022461,\n",
       "          0.67355257272720336914]],\n",
       "\n",
       "        [[0.74295860528945922852, 0.33728533983230590820,\n",
       "          0.81707638502120971680, 0.18975424766540527344,\n",
       "          0.67222774028778076172],\n",
       "         [0.16541498899459838867, 0.44527947902679443359,\n",
       "          0.18022620677947998047, 0.39294618368148803711,\n",
       "          0.71961265802383422852]]])"
      ]
     },
     "execution_count": 209,
     "metadata": {},
     "output_type": "execute_result"
    }
   ],
   "source": [
    "x.contiguous()"
   ]
  },
  {
   "cell_type": "code",
   "execution_count": 214,
   "id": "08367e8e-59fb-44c8-9aa5-4a157c001541",
   "metadata": {},
   "outputs": [
    {
     "data": {
      "text/plain": [
       "torch.Size([64, 5, 2])"
      ]
     },
     "execution_count": 214,
     "metadata": {},
     "output_type": "execute_result"
    }
   ],
   "source": [
    "x.permute(0,2,1).shape"
   ]
  },
  {
   "cell_type": "code",
   "execution_count": 211,
   "id": "08c4fbde-68ae-416a-b745-a44b9564c74d",
   "metadata": {},
   "outputs": [
    {
     "data": {
      "text/plain": [
       "tensor([[[0.71403992176055908203, 0.17912137508392333984,\n",
       "          0.20325601100921630859, 0.12056273221969604492,\n",
       "          0.78985071182250976562],\n",
       "         [0.34457606077194213867, 0.78775167465209960938,\n",
       "          0.79467290639877319336, 0.14944732189178466797,\n",
       "          0.67075550556182861328]],\n",
       "\n",
       "        [[0.16869741678237915039, 0.72565215826034545898,\n",
       "          0.49114620685577392578, 0.07756358385086059570,\n",
       "          0.38210356235504150391],\n",
       "         [0.66483974456787109375, 0.00199198722839355469,\n",
       "          0.77327424287796020508, 0.35247206687927246094,\n",
       "          0.61926078796386718750]],\n",
       "\n",
       "        [[0.13352853059768676758, 0.91329246759414672852,\n",
       "          0.16951239109039306641, 0.17526698112487792969,\n",
       "          0.43759179115295410156],\n",
       "         [0.34756648540496826172, 0.57690560817718505859,\n",
       "          0.35616445541381835938, 0.83066499233245849609,\n",
       "          0.86995476484298706055]],\n",
       "\n",
       "        [[0.63975465297698974609, 0.07239967584609985352,\n",
       "          0.67146539688110351562, 0.42475092411041259766,\n",
       "          0.39274972677230834961],\n",
       "         [0.83562499284744262695, 0.39401578903198242188,\n",
       "          0.23302268981933593750, 0.96550112962722778320,\n",
       "          0.14474964141845703125]],\n",
       "\n",
       "        [[0.79131549596786499023, 0.88843816518783569336,\n",
       "          0.67797774076461791992, 0.04252374172210693359,\n",
       "          0.68418812751770019531],\n",
       "         [0.98069393634796142578, 0.11052346229553222656,\n",
       "          0.24122756719589233398, 0.56719952821731567383,\n",
       "          0.37709397077560424805]],\n",
       "\n",
       "        [[0.70499902963638305664, 0.97502350807189941406,\n",
       "          0.25988405942916870117, 0.06504207849502563477,\n",
       "          0.39078515768051147461],\n",
       "         [0.39778721332550048828, 0.95191347599029541016,\n",
       "          0.27750825881958007812, 0.80822211503982543945,\n",
       "          0.19256496429443359375]],\n",
       "\n",
       "        [[0.43788683414459228516, 0.47413253784179687500,\n",
       "          0.60189914703369140625, 0.81420320272445678711,\n",
       "          0.07981598377227783203],\n",
       "         [0.24126297235488891602, 0.04866504669189453125,\n",
       "          0.88363289833068847656, 0.81474751234054565430,\n",
       "          0.23942607641220092773]],\n",
       "\n",
       "        [[0.38278627395629882812, 0.82400202751159667969,\n",
       "          0.58611494302749633789, 0.00769215822219848633,\n",
       "          0.86882454156875610352],\n",
       "         [0.72616899013519287109, 0.58473467826843261719,\n",
       "          0.33076149225234985352, 0.24808335304260253906,\n",
       "          0.14951384067535400391]],\n",
       "\n",
       "        [[0.01921927928924560547, 0.90657269954681396484,\n",
       "          0.32049173116683959961, 0.99786162376403808594,\n",
       "          0.87984919548034667969],\n",
       "         [0.85916763544082641602, 0.28143125772476196289,\n",
       "          0.67204415798187255859, 0.31689643859863281250,\n",
       "          0.50748103857040405273]],\n",
       "\n",
       "        [[0.06146961450576782227, 0.70271515846252441406,\n",
       "          0.07466179132461547852, 0.30968296527862548828,\n",
       "          0.00968134403228759766],\n",
       "         [0.42178589105606079102, 0.76949769258499145508,\n",
       "          0.78506553173065185547, 0.05949491262435913086,\n",
       "          0.96197259426116943359]],\n",
       "\n",
       "        [[0.62432378530502319336, 0.16526168584823608398,\n",
       "          0.86302965879440307617, 0.91271305084228515625,\n",
       "          0.72461152076721191406],\n",
       "         [0.60109019279479980469, 0.37823039293289184570,\n",
       "          0.29603791236877441406, 0.55878472328186035156,\n",
       "          0.86146509647369384766]],\n",
       "\n",
       "        [[0.68043959140777587891, 0.31208878755569458008,\n",
       "          0.27049100399017333984, 0.75937950611114501953,\n",
       "          0.30907082557678222656],\n",
       "         [0.26558846235275268555, 0.91596847772598266602,\n",
       "          0.91798818111419677734, 0.99121046066284179688,\n",
       "          0.03444004058837890625]],\n",
       "\n",
       "        [[0.49912852048873901367, 0.23389124870300292969,\n",
       "          0.45795881748199462891, 0.67818039655685424805,\n",
       "          0.43991780281066894531],\n",
       "         [0.24737596511840820312, 0.61300557851791381836,\n",
       "          0.37571930885314941406, 0.44025135040283203125,\n",
       "          0.87995785474777221680]],\n",
       "\n",
       "        [[0.50082117319107055664, 0.31296646595001220703,\n",
       "          0.95094805955886840820, 0.89716231822967529297,\n",
       "          0.88126444816589355469],\n",
       "         [0.06459891796112060547, 0.69390016794204711914,\n",
       "          0.07838958501815795898, 0.20309364795684814453,\n",
       "          0.93593740463256835938]],\n",
       "\n",
       "        [[0.31164014339447021484, 0.18365079164505004883,\n",
       "          0.73345875740051269531, 0.61045616865158081055,\n",
       "          0.61636286973953247070],\n",
       "         [0.93264120817184448242, 0.96116662025451660156,\n",
       "          0.07618284225463867188, 0.10104328393936157227,\n",
       "          0.18211227655410766602]],\n",
       "\n",
       "        [[0.63182353973388671875, 0.08910131454467773438,\n",
       "          0.75736302137374877930, 0.81874233484268188477,\n",
       "          0.36327326297760009766],\n",
       "         [0.03845900297164916992, 0.22285085916519165039,\n",
       "          0.01850140094757080078, 0.86834025382995605469,\n",
       "          0.10841673612594604492]],\n",
       "\n",
       "        [[0.16874110698699951172, 0.77537119388580322266,\n",
       "          0.26991236209869384766, 0.97282904386520385742,\n",
       "          0.35448729991912841797],\n",
       "         [0.91195327043533325195, 0.59768599271774291992,\n",
       "          0.20465320348739624023, 0.89195829629898071289,\n",
       "          0.74348390102386474609]],\n",
       "\n",
       "        [[0.38890624046325683594, 0.57964152097702026367,\n",
       "          0.07208639383316040039, 0.25564271211624145508,\n",
       "          0.13827788829803466797],\n",
       "         [0.51400011777877807617, 0.18163371086120605469,\n",
       "          0.86481100320816040039, 0.70483362674713134766,\n",
       "          0.10876160860061645508]],\n",
       "\n",
       "        [[0.39194381237030029297, 0.69474881887435913086,\n",
       "          0.14220738410949707031, 0.89034515619277954102,\n",
       "          0.03486049175262451172],\n",
       "         [0.93969559669494628906, 0.16366034746170043945,\n",
       "          0.24530839920043945312, 0.17537581920623779297,\n",
       "          0.82378393411636352539]],\n",
       "\n",
       "        [[0.78081792593002319336, 0.04033565521240234375,\n",
       "          0.83467328548431396484, 0.43978255987167358398,\n",
       "          0.60876351594924926758],\n",
       "         [0.53664833307266235352, 0.50990211963653564453,\n",
       "          0.83699148893356323242, 0.77337354421615600586,\n",
       "          0.95282459259033203125]],\n",
       "\n",
       "        [[0.88495188951492309570, 0.88478577136993408203,\n",
       "          0.99640649557113647461, 0.53051185607910156250,\n",
       "          0.64739066362380981445],\n",
       "         [0.34891438484191894531, 0.87669825553894042969,\n",
       "          0.33125370740890502930, 0.41277438402175903320,\n",
       "          0.82114320993423461914]],\n",
       "\n",
       "        [[0.07109951972961425781, 0.40044474601745605469,\n",
       "          0.04831761121749877930, 0.30973768234252929688,\n",
       "          0.39515471458435058594],\n",
       "         [0.19429630041122436523, 0.49741643667221069336,\n",
       "          0.62812197208404541016, 0.60914164781570434570,\n",
       "          0.69841539859771728516]],\n",
       "\n",
       "        [[0.38704240322113037109, 0.91031920909881591797,\n",
       "          0.11583471298217773438, 0.63897401094436645508,\n",
       "          0.10308367013931274414],\n",
       "         [0.09371542930603027344, 0.86758208274841308594,\n",
       "          0.68388712406158447266, 0.96509993076324462891,\n",
       "          0.08159887790679931641]],\n",
       "\n",
       "        [[0.98624390363693237305, 0.84857302904129028320,\n",
       "          0.85822367668151855469, 0.16540360450744628906,\n",
       "          0.48945599794387817383],\n",
       "         [0.20668888092041015625, 0.61342734098434448242,\n",
       "          0.35870224237442016602, 0.47458523511886596680,\n",
       "          0.66473072767257690430]],\n",
       "\n",
       "        [[0.30416011810302734375, 0.75074738264083862305,\n",
       "          0.81148535013198852539, 0.02637237310409545898,\n",
       "          0.20857071876525878906],\n",
       "         [0.18668800592422485352, 0.25319498777389526367,\n",
       "          0.34147632122039794922, 0.47210323810577392578,\n",
       "          0.86719226837158203125]],\n",
       "\n",
       "        [[0.78009885549545288086, 0.36579060554504394531,\n",
       "          0.48451572656631469727, 0.70350795984268188477,\n",
       "          0.36364901065826416016],\n",
       "         [0.68873006105422973633, 0.43823468685150146484,\n",
       "          0.68103092908859252930, 0.51082623004913330078,\n",
       "          0.09339559078216552734]],\n",
       "\n",
       "        [[0.08794206380844116211, 0.84481334686279296875,\n",
       "          0.80649697780609130859, 0.29744189977645874023,\n",
       "          0.17231643199920654297],\n",
       "         [0.14103710651397705078, 0.00586861371994018555,\n",
       "          0.29848217964172363281, 0.21463775634765625000,\n",
       "          0.33211535215377807617]],\n",
       "\n",
       "        [[0.71682292222976684570, 0.68532192707061767578,\n",
       "          0.70444625616073608398, 0.62746894359588623047,\n",
       "          0.77853780984878540039],\n",
       "         [0.63341969251632690430, 0.64968979358673095703,\n",
       "          0.13404977321624755859, 0.84628903865814208984,\n",
       "          0.45258361101150512695]],\n",
       "\n",
       "        [[0.40277540683746337891, 0.20184564590454101562,\n",
       "          0.37229400873184204102, 0.52647125720977783203,\n",
       "          0.38159561157226562500],\n",
       "         [0.66455495357513427734, 0.13297909498214721680,\n",
       "          0.55118650197982788086, 0.73123437166213989258,\n",
       "          0.97682267427444458008]],\n",
       "\n",
       "        [[0.16109472513198852539, 0.69477498531341552734,\n",
       "          0.28120559453964233398, 0.49239063262939453125,\n",
       "          0.83411985635757446289],\n",
       "         [0.45292025804519653320, 0.05013769865036010742,\n",
       "          0.80804437398910522461, 0.39824908971786499023,\n",
       "          0.44350725412368774414]],\n",
       "\n",
       "        [[0.65308964252471923828, 0.57752245664596557617,\n",
       "          0.02932238578796386719, 0.91968798637390136719,\n",
       "          0.01674526929855346680],\n",
       "         [0.87040555477142333984, 0.02815055847167968750,\n",
       "          0.62436366081237792969, 0.44951182603836059570,\n",
       "          0.31085103750228881836]],\n",
       "\n",
       "        [[0.66816705465316772461, 0.30003774166107177734,\n",
       "          0.67235124111175537109, 0.53119999170303344727,\n",
       "          0.75259035825729370117],\n",
       "         [0.25460207462310791016, 0.81591266393661499023,\n",
       "          0.27971166372299194336, 0.33983987569808959961,\n",
       "          0.38284128904342651367]],\n",
       "\n",
       "        [[0.71154850721359252930, 0.95540469884872436523,\n",
       "          0.12032914161682128906, 0.05513697862625122070,\n",
       "          0.06575667858123779297],\n",
       "         [0.91933095455169677734, 0.29120457172393798828,\n",
       "          0.04311388731002807617, 0.25289660692214965820,\n",
       "          0.10509127378463745117]],\n",
       "\n",
       "        [[0.84350466728210449219, 0.28934037685394287109,\n",
       "          0.33113145828247070312, 0.79628741741180419922,\n",
       "          0.20545816421508789062],\n",
       "         [0.76574093103408813477, 0.23168849945068359375,\n",
       "          0.61803376674652099609, 0.23265200853347778320,\n",
       "          0.60366678237915039062]],\n",
       "\n",
       "        [[0.04369431734085083008, 0.05016046762466430664,\n",
       "          0.76767516136169433594, 0.02353614568710327148,\n",
       "          0.58780628442764282227],\n",
       "         [0.61710029840469360352, 0.02460014820098876953,\n",
       "          0.19839847087860107422, 0.51381391286849975586,\n",
       "          0.50240296125411987305]],\n",
       "\n",
       "        [[0.04655891656875610352, 0.65230709314346313477,\n",
       "          0.33961004018783569336, 0.01244717836380004883,\n",
       "          0.74549478292465209961],\n",
       "         [0.31616544723510742188, 0.71851718425750732422,\n",
       "          0.77294117212295532227, 0.75640171766281127930,\n",
       "          0.42448759078979492188]],\n",
       "\n",
       "        [[0.11832338571548461914, 0.44618272781372070312,\n",
       "          0.75903505086898803711, 0.83184152841567993164,\n",
       "          0.35743713378906250000],\n",
       "         [0.05960100889205932617, 0.15755391120910644531,\n",
       "          0.24781090021133422852, 0.47933936119079589844,\n",
       "          0.72261023521423339844]],\n",
       "\n",
       "        [[0.26148802042007446289, 0.84052646160125732422,\n",
       "          0.13800126314163208008, 0.33748286962509155273,\n",
       "          0.56817799806594848633],\n",
       "         [0.91206067800521850586, 0.52665281295776367188,\n",
       "          0.03117787837982177734, 0.05362308025360107422,\n",
       "          0.89362102746963500977]],\n",
       "\n",
       "        [[0.64999729394912719727, 0.95653444528579711914,\n",
       "          0.99439066648483276367, 0.06057238578796386719,\n",
       "          0.83913439512252807617],\n",
       "         [0.05465906858444213867, 0.92954045534133911133,\n",
       "          0.00989079475402832031, 0.57666063308715820312,\n",
       "          0.71074491739273071289]],\n",
       "\n",
       "        [[0.97603672742843627930, 0.04179769754409790039,\n",
       "          0.12023496627807617188, 0.93430513143539428711,\n",
       "          0.42956149578094482422],\n",
       "         [0.66409868001937866211, 0.37792015075683593750,\n",
       "          0.79639601707458496094, 0.71679621934890747070,\n",
       "          0.18509244918823242188]],\n",
       "\n",
       "        [[0.76914203166961669922, 0.84605091810226440430,\n",
       "          0.56633251905441284180, 0.44175130128860473633,\n",
       "          0.20375049114227294922],\n",
       "         [0.51266777515411376953, 0.77065873146057128906,\n",
       "          0.39372539520263671875, 0.55544930696487426758,\n",
       "          0.39107006788253784180]],\n",
       "\n",
       "        [[0.48863947391510009766, 0.27931749820709228516,\n",
       "          0.55047100782394409180, 0.78730481863021850586,\n",
       "          0.56304556131362915039],\n",
       "         [0.74281209707260131836, 0.67963266372680664062,\n",
       "          0.98700523376464843750, 0.80998235940933227539,\n",
       "          0.12311941385269165039]],\n",
       "\n",
       "        [[0.25260800123214721680, 0.02537792921066284180,\n",
       "          0.75971066951751708984, 0.31736665964126586914,\n",
       "          0.78291910886764526367],\n",
       "         [0.45876097679138183594, 0.81329667568206787109,\n",
       "          0.71354538202285766602, 0.67030650377273559570,\n",
       "          0.83957856893539428711]],\n",
       "\n",
       "        [[0.82369941473007202148, 0.69432914257049560547,\n",
       "          0.89411389827728271484, 0.93071293830871582031,\n",
       "          0.64334845542907714844],\n",
       "         [0.97950744628906250000, 0.85787171125411987305,\n",
       "          0.00791120529174804688, 0.06757175922393798828,\n",
       "          0.35776257514953613281]],\n",
       "\n",
       "        [[0.33174604177474975586, 0.10378491878509521484,\n",
       "          0.49622040987014770508, 0.01944512128829956055,\n",
       "          0.50779587030410766602],\n",
       "         [0.19630324840545654297, 0.59777015447616577148,\n",
       "          0.22474998235702514648, 0.57842487096786499023,\n",
       "          0.91568648815155029297]],\n",
       "\n",
       "        [[0.69914031028747558594, 0.43236857652664184570,\n",
       "          0.32182407379150390625, 0.64641666412353515625,\n",
       "          0.86003094911575317383],\n",
       "         [0.22331345081329345703, 0.49567353725433349609,\n",
       "          0.28193265199661254883, 0.98631334304809570312,\n",
       "          0.82854831218719482422]],\n",
       "\n",
       "        [[0.82587993144989013672, 0.34805488586425781250,\n",
       "          0.40278220176696777344, 0.89849740266799926758,\n",
       "          0.40104830265045166016],\n",
       "         [0.15807938575744628906, 0.59629517793655395508,\n",
       "          0.26037496328353881836, 0.56036287546157836914,\n",
       "          0.06021898984909057617]],\n",
       "\n",
       "        [[0.19208985567092895508, 0.95610785484313964844,\n",
       "          0.41938865184783935547, 0.96261936426162719727,\n",
       "          0.49104207754135131836],\n",
       "         [0.59538698196411132812, 0.06532233953475952148,\n",
       "          0.52632564306259155273, 0.81636649370193481445,\n",
       "          0.11004197597503662109]],\n",
       "\n",
       "        [[0.62406593561172485352, 0.01730984449386596680,\n",
       "          0.10033804178237915039, 0.29053592681884765625,\n",
       "          0.14958751201629638672],\n",
       "         [0.93129557371139526367, 0.71197372674942016602,\n",
       "          0.46940714120864868164, 0.67231374979019165039,\n",
       "          0.18799471855163574219]],\n",
       "\n",
       "        [[0.82954365015029907227, 0.82685482501983642578,\n",
       "          0.74943697452545166016, 0.49440789222717285156,\n",
       "          0.25752419233322143555],\n",
       "         [0.76566010713577270508, 0.12004482746124267578,\n",
       "          0.37830668687820434570, 0.51602876186370849609,\n",
       "          0.30782508850097656250]],\n",
       "\n",
       "        [[0.75144225358963012695, 0.57731568813323974609,\n",
       "          0.05932164192199707031, 0.79489892721176147461,\n",
       "          0.92746794223785400391],\n",
       "         [0.09340727329254150391, 0.29323875904083251953,\n",
       "          0.49398642778396606445, 0.77274352312088012695,\n",
       "          0.49767279624938964844]],\n",
       "\n",
       "        [[0.46928411722183227539, 0.45948177576065063477,\n",
       "          0.71335440874099731445, 0.54764091968536376953,\n",
       "          0.86138248443603515625],\n",
       "         [0.98690086603164672852, 0.61191004514694213867,\n",
       "          0.05846673250198364258, 0.71752721071243286133,\n",
       "          0.77966934442520141602]],\n",
       "\n",
       "        [[0.22496283054351806641, 0.21083658933639526367,\n",
       "          0.51421803236007690430, 0.05217546224594116211,\n",
       "          0.61733543872833251953],\n",
       "         [0.97152751684188842773, 0.74999129772186279297,\n",
       "          0.50502729415893554688, 0.64010733366012573242,\n",
       "          0.81380850076675415039]],\n",
       "\n",
       "        [[0.00152760744094848633, 0.16339552402496337891,\n",
       "          0.77735137939453125000, 0.16127341985702514648,\n",
       "          0.17550909519195556641],\n",
       "         [0.34360170364379882812, 0.66893523931503295898,\n",
       "          0.46621865034103393555, 0.54930394887924194336,\n",
       "          0.51933354139328002930]],\n",
       "\n",
       "        [[0.32095205783843994141, 0.04029929637908935547,\n",
       "          0.69521141052246093750, 0.41868835687637329102,\n",
       "          0.28037405014038085938],\n",
       "         [0.22030782699584960938, 0.04332375526428222656,\n",
       "          0.78155356645584106445, 0.63480508327484130859,\n",
       "          0.93063604831695556641]],\n",
       "\n",
       "        [[0.43072360754013061523, 0.51145029067993164062,\n",
       "          0.24847924709320068359, 0.13645160198211669922,\n",
       "          0.07170522212982177734],\n",
       "         [0.26352268457412719727, 0.14989370107650756836,\n",
       "          0.84142577648162841797, 0.30969130992889404297,\n",
       "          0.34335654973983764648]],\n",
       "\n",
       "        [[0.69822251796722412109, 0.58570677042007446289,\n",
       "          0.41791743040084838867, 0.24201291799545288086,\n",
       "          0.37576425075531005859],\n",
       "         [0.01570677757263183594, 0.41908788681030273438,\n",
       "          0.51873087882995605469, 0.42408454418182373047,\n",
       "          0.03873145580291748047]],\n",
       "\n",
       "        [[0.94094532728195190430, 0.94234347343444824219,\n",
       "          0.49478822946548461914, 0.76772373914718627930,\n",
       "          0.93741410970687866211],\n",
       "         [0.63123017549514770508, 0.03326374292373657227,\n",
       "          0.70785617828369140625, 0.84887516498565673828,\n",
       "          0.98468720912933349609]],\n",
       "\n",
       "        [[0.77668744325637817383, 0.68847924470901489258,\n",
       "          0.32279074192047119141, 0.55253130197525024414,\n",
       "          0.28407943248748779297],\n",
       "         [0.95955359935760498047, 0.26387315988540649414,\n",
       "          0.22541087865829467773, 0.71985274553298950195,\n",
       "          0.31573694944381713867]],\n",
       "\n",
       "        [[0.59935724735260009766, 0.37635612487792968750,\n",
       "          0.35169905424118041992, 0.32601600885391235352,\n",
       "          0.09262233972549438477],\n",
       "         [0.77324199676513671875, 0.12389558553695678711,\n",
       "          0.03875952959060668945, 0.55796700716018676758,\n",
       "          0.51939272880554199219]],\n",
       "\n",
       "        [[0.02313339710235595703, 0.41274970769882202148,\n",
       "          0.40424710512161254883, 0.70780026912689208984,\n",
       "          0.53123873472213745117],\n",
       "         [0.49889361858367919922, 0.20616668462753295898,\n",
       "          0.30480241775512695312, 0.92580801248550415039,\n",
       "          0.29962509870529174805]],\n",
       "\n",
       "        [[0.42731606960296630859, 0.16453415155410766602,\n",
       "          0.69275933504104614258, 0.42554086446762084961,\n",
       "          0.47929835319519042969],\n",
       "         [0.50049030780792236328, 0.69169652462005615234,\n",
       "          0.06760591268539428711, 0.43779140710830688477,\n",
       "          0.34998983144760131836]],\n",
       "\n",
       "        [[0.47759562730789184570, 0.80294299125671386719,\n",
       "          0.75339555740356445312, 0.90169894695281982422,\n",
       "          0.29697674512863159180],\n",
       "         [0.48079174757003784180, 0.00340080261230468750,\n",
       "          0.40623635053634643555, 0.77371209859848022461,\n",
       "          0.67355257272720336914]],\n",
       "\n",
       "        [[0.74295860528945922852, 0.33728533983230590820,\n",
       "          0.81707638502120971680, 0.18975424766540527344,\n",
       "          0.67222774028778076172],\n",
       "         [0.16541498899459838867, 0.44527947902679443359,\n",
       "          0.18022620677947998047, 0.39294618368148803711,\n",
       "          0.71961265802383422852]]])"
      ]
     },
     "execution_count": 211,
     "metadata": {},
     "output_type": "execute_result"
    }
   ],
   "source": [
    "x"
   ]
  },
  {
   "cell_type": "code",
   "execution_count": 226,
   "id": "836275d9-f940-4295-9566-fcc12c4cda19",
   "metadata": {},
   "outputs": [
    {
     "data": {
      "text/plain": [
       "torch.Size([64, 2, 5])"
      ]
     },
     "execution_count": 226,
     "metadata": {},
     "output_type": "execute_result"
    }
   ],
   "source": [
    "z = z.view(64,2,5)\n",
    "z.shape"
   ]
  },
  {
   "cell_type": "code",
   "execution_count": 228,
   "id": "8cf37073-fc9b-4ff6-b8b5-7e5f943e91d7",
   "metadata": {},
   "outputs": [
    {
     "data": {
      "text/plain": [
       "torch.Size([64, 5, 2])"
      ]
     },
     "execution_count": 228,
     "metadata": {},
     "output_type": "execute_result"
    }
   ],
   "source": [
    "z.permute(0,2,1).shape"
   ]
  },
  {
   "cell_type": "code",
   "execution_count": 2,
   "id": "65a0ed41-e1b6-4c1a-bfdc-ac8d04256629",
   "metadata": {},
   "outputs": [
    {
     "data": {
      "text/plain": [
       "torch.Size([10])"
      ]
     },
     "execution_count": 2,
     "metadata": {},
     "output_type": "execute_result"
    }
   ],
   "source": [
    "x = torch.arange(10)\n",
    "x.shape"
   ]
  },
  {
   "cell_type": "code",
   "execution_count": 3,
   "id": "e3b7a164-d8e8-46c8-854f-4a20962e4f12",
   "metadata": {},
   "outputs": [
    {
     "data": {
      "text/plain": [
       "torch.Size([1, 10])"
      ]
     },
     "execution_count": 3,
     "metadata": {},
     "output_type": "execute_result"
    }
   ],
   "source": [
    "x.unsqueeze(0).shape"
   ]
  },
  {
   "cell_type": "code",
   "execution_count": 4,
   "id": "dd1250fa-b22b-42df-a6b5-cca719d8736d",
   "metadata": {},
   "outputs": [
    {
     "data": {
      "text/plain": [
       "tensor([[0],\n",
       "        [1],\n",
       "        [2],\n",
       "        [3],\n",
       "        [4],\n",
       "        [5],\n",
       "        [6],\n",
       "        [7],\n",
       "        [8],\n",
       "        [9]])"
      ]
     },
     "execution_count": 4,
     "metadata": {},
     "output_type": "execute_result"
    }
   ],
   "source": [
    "x.unsqueeze(1)"
   ]
  },
  {
   "cell_type": "code",
   "execution_count": 5,
   "id": "9a91de9f-0ef0-4f7d-a6e9-6ff768c67f60",
   "metadata": {},
   "outputs": [
    {
     "data": {
      "text/plain": [
       "tensor([[0, 1, 2, 3, 4],\n",
       "        [5, 6, 7, 8, 9]])"
      ]
     },
     "execution_count": 5,
     "metadata": {},
     "output_type": "execute_result"
    }
   ],
   "source": [
    "x = torch.arange(10).reshape(2,5)\n",
    "x"
   ]
  },
  {
   "cell_type": "code",
   "execution_count": 6,
   "id": "828cb324-af5d-49f0-8c7a-3db5da566aec",
   "metadata": {},
   "outputs": [
    {
     "data": {
      "text/plain": [
       "tensor([[[0, 1, 2, 3, 4],\n",
       "         [5, 6, 7, 8, 9]]])"
      ]
     },
     "execution_count": 6,
     "metadata": {},
     "output_type": "execute_result"
    }
   ],
   "source": [
    "x.unsqueeze(0)"
   ]
  },
  {
   "cell_type": "code",
   "execution_count": 7,
   "id": "ba48de65-036c-4a4e-8f29-5eec7267cbd0",
   "metadata": {},
   "outputs": [
    {
     "data": {
      "text/plain": [
       "tensor([[[0],\n",
       "         [1],\n",
       "         [2],\n",
       "         [3],\n",
       "         [4]],\n",
       "\n",
       "        [[5],\n",
       "         [6],\n",
       "         [7],\n",
       "         [8],\n",
       "         [9]]])"
      ]
     },
     "execution_count": 7,
     "metadata": {},
     "output_type": "execute_result"
    }
   ],
   "source": [
    "x.unsqueeze(2)"
   ]
  },
  {
   "cell_type": "code",
   "execution_count": 12,
   "id": "a1d477ae-88a5-496f-ab73-08cf181ec3fc",
   "metadata": {},
   "outputs": [
    {
     "data": {
      "text/plain": [
       "torch.Size([1, 10])"
      ]
     },
     "execution_count": 12,
     "metadata": {},
     "output_type": "execute_result"
    }
   ],
   "source": [
    "x = torch.arange(10)\n",
    "x.unsqueeze(0).shape"
   ]
  },
  {
   "cell_type": "code",
   "execution_count": 9,
   "id": "ed08ae05-295c-4dd0-8a5b-0af398ef2394",
   "metadata": {},
   "outputs": [
    {
     "data": {
      "text/plain": [
       "tensor([[0],\n",
       "        [1],\n",
       "        [2],\n",
       "        [3],\n",
       "        [4],\n",
       "        [5],\n",
       "        [6],\n",
       "        [7],\n",
       "        [8],\n",
       "        [9]])"
      ]
     },
     "execution_count": 9,
     "metadata": {},
     "output_type": "execute_result"
    }
   ],
   "source": [
    "x.unsqueeze(1)"
   ]
  },
  {
   "cell_type": "code",
   "execution_count": 10,
   "id": "7dc4f01c-0ddb-4176-a406-78b48c81a457",
   "metadata": {},
   "outputs": [
    {
     "data": {
      "text/plain": [
       "torch.Size([1, 1, 10])"
      ]
     },
     "execution_count": 10,
     "metadata": {},
     "output_type": "execute_result"
    }
   ],
   "source": [
    "x.unsqueeze(0).unsqueeze(1).shape"
   ]
  },
  {
   "cell_type": "code",
   "execution_count": 11,
   "id": "664b1fc9-8543-4908-8436-39168211391e",
   "metadata": {},
   "outputs": [
    {
     "data": {
      "text/plain": [
       "torch.Size([1, 1, 1, 1, 10])"
      ]
     },
     "execution_count": 11,
     "metadata": {},
     "output_type": "execute_result"
    }
   ],
   "source": [
    "x.unsqueeze(0).unsqueeze(1).unsqueeze(0).unsqueeze(1).shape"
   ]
  },
  {
   "cell_type": "code",
   "execution_count": 19,
   "id": "8156b476-8ad4-4246-8660-a545ed86f083",
   "metadata": {},
   "outputs": [],
   "source": [
    "x = x.unsqueeze(0)\n",
    "z = x.squeeze(1)"
   ]
  },
  {
   "cell_type": "code",
   "execution_count": 20,
   "id": "2bf9dd83-72c3-44bc-9703-691d025bfe12",
   "metadata": {},
   "outputs": [
    {
     "data": {
      "text/plain": [
       "torch.Size([1, 1, 10])"
      ]
     },
     "execution_count": 20,
     "metadata": {},
     "output_type": "execute_result"
    }
   ],
   "source": [
    "z.shape"
   ]
  },
  {
   "cell_type": "code",
   "execution_count": 21,
   "id": "788599ae-d590-4b04-8ea2-9955ffd98efe",
   "metadata": {},
   "outputs": [
    {
     "data": {
      "text/plain": [
       "torch.Size([1, 1, 10])"
      ]
     },
     "execution_count": 21,
     "metadata": {},
     "output_type": "execute_result"
    }
   ],
   "source": [
    "z = x.squeeze(0)\n",
    "z.shape"
   ]
  },
  {
   "cell_type": "code",
   "execution_count": 22,
   "id": "c251b867-8525-42a4-ab22-b3b68ecf195d",
   "metadata": {},
   "outputs": [
    {
     "data": {
      "text/plain": [
       "tensor([0, 1, 2, 3, 4, 5, 6, 7, 8, 9])"
      ]
     },
     "execution_count": 22,
     "metadata": {},
     "output_type": "execute_result"
    }
   ],
   "source": [
    "z.view(-1)"
   ]
  },
  {
   "cell_type": "code",
   "execution_count": 23,
   "id": "7927d913-5b6b-495e-ba94-1eb0474da858",
   "metadata": {},
   "outputs": [
    {
     "data": {
      "text/plain": [
       "tensor([[[0, 1, 2, 3, 4, 5, 6, 7, 8, 9]]])"
      ]
     },
     "execution_count": 23,
     "metadata": {},
     "output_type": "execute_result"
    }
   ],
   "source": [
    "z"
   ]
  },
  {
   "cell_type": "code",
   "execution_count": null,
   "id": "80ec8e05-a918-400c-9dbd-6310dea4423f",
   "metadata": {},
   "outputs": [],
   "source": []
  }
 ],
 "metadata": {
  "kernelspec": {
   "display_name": "Python 3.9 (tensorflow-pytorch)",
   "language": "python",
   "name": "tf"
  },
  "language_info": {
   "codemirror_mode": {
    "name": "ipython",
    "version": 3
   },
   "file_extension": ".py",
   "mimetype": "text/x-python",
   "name": "python",
   "nbconvert_exporter": "python",
   "pygments_lexer": "ipython3",
   "version": "3.9.18"
  }
 },
 "nbformat": 4,
 "nbformat_minor": 5
}
