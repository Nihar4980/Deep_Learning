{
 "cells": [
  {
   "cell_type": "code",
   "execution_count": 43,
   "id": "86898d76-3a5c-47df-af38-9f8344da1733",
   "metadata": {},
   "outputs": [],
   "source": [
    "import torch\n",
    "import numpy as np"
   ]
  },
  {
   "cell_type": "code",
   "execution_count": 44,
   "id": "683d1cb9-77c0-46ef-a3f2-eea9ccf14079",
   "metadata": {},
   "outputs": [],
   "source": [
    "tensor = torch.tensor([[1,2,3], [4,5,6]], dtype = torch.float32,device=\"cuda\") # set datatype and device equal to cuda"
   ]
  },
  {
   "cell_type": "code",
   "execution_count": 45,
   "id": "b8d9ee95-65da-4844-9e4c-9c5b5fbb207c",
   "metadata": {},
   "outputs": [
    {
     "data": {
      "text/plain": [
       "tensor([[1., 2., 3.],\n",
       "        [4., 5., 6.]], device='cuda:0')"
      ]
     },
     "execution_count": 45,
     "metadata": {},
     "output_type": "execute_result"
    }
   ],
   "source": [
    "tensor"
   ]
  },
  {
   "cell_type": "code",
   "execution_count": 46,
   "id": "90c91de1-d022-4c97-a217-0841665c93f8",
   "metadata": {},
   "outputs": [],
   "source": [
    "tensor = torch.tensor([[1,2,3], [4,5,6]], dtype = torch.float32,device=\"cuda\", requires_grad=True) # set gradient on"
   ]
  },
  {
   "cell_type": "code",
   "execution_count": 47,
   "id": "39db137b-17be-49f3-b3e5-fa1c06095819",
   "metadata": {},
   "outputs": [
    {
     "data": {
      "text/plain": [
       "tensor([[1., 2., 3.],\n",
       "        [4., 5., 6.]], device='cuda:0', requires_grad=True)"
      ]
     },
     "execution_count": 47,
     "metadata": {},
     "output_type": "execute_result"
    }
   ],
   "source": [
    "tensor"
   ]
  },
  {
   "cell_type": "code",
   "execution_count": 48,
   "id": "4716f520-3daa-471f-aa39-4035ab677499",
   "metadata": {},
   "outputs": [],
   "source": [
    "devices = \"cuda\" if torch.cuda.is_available() else \"cpu\""
   ]
  },
  {
   "cell_type": "code",
   "execution_count": 49,
   "id": "91fa516c-25bc-4851-9f5b-af446e09bf3c",
   "metadata": {},
   "outputs": [],
   "source": [
    "tensor = torch.tensor([[1,2,3], [4,5,6]], dtype = torch.float32,device=devices, requires_grad=True)"
   ]
  },
  {
   "cell_type": "code",
   "execution_count": 50,
   "id": "633ed5f7-fd0a-4799-9e70-fcd069d622b5",
   "metadata": {},
   "outputs": [
    {
     "data": {
      "text/plain": [
       "tensor([[1., 2., 3.],\n",
       "        [4., 5., 6.]], device='cuda:0', requires_grad=True)"
      ]
     },
     "execution_count": 50,
     "metadata": {},
     "output_type": "execute_result"
    }
   ],
   "source": [
    "tensor"
   ]
  },
  {
   "cell_type": "code",
   "execution_count": 51,
   "id": "2d9c92f0-6ccc-4b09-87ed-21129cf897af",
   "metadata": {},
   "outputs": [
    {
     "name": "stdout",
     "output_type": "stream",
     "text": [
      "torch.float32\n"
     ]
    }
   ],
   "source": [
    "print(tensor.dtype)"
   ]
  },
  {
   "cell_type": "code",
   "execution_count": 52,
   "id": "f92743f6-e980-4ab6-89af-149c30cf96e4",
   "metadata": {},
   "outputs": [
    {
     "name": "stdout",
     "output_type": "stream",
     "text": [
      "cuda:0\n"
     ]
    }
   ],
   "source": [
    "print(tensor.device)"
   ]
  },
  {
   "cell_type": "code",
   "execution_count": 53,
   "id": "4a4a891c-3369-4303-9ee4-4a915fe7d1a1",
   "metadata": {},
   "outputs": [
    {
     "name": "stdout",
     "output_type": "stream",
     "text": [
      "torch.Size([2, 3])\n"
     ]
    }
   ],
   "source": [
    "print(tensor.shape)"
   ]
  },
  {
   "cell_type": "code",
   "execution_count": 54,
   "id": "a4c55af1-afa4-4905-8343-5b99549fef17",
   "metadata": {},
   "outputs": [
    {
     "name": "stdout",
     "output_type": "stream",
     "text": [
      "True\n"
     ]
    }
   ],
   "source": [
    "print(tensor.requires_grad)"
   ]
  },
  {
   "cell_type": "markdown",
   "id": "ba30a061-9d86-46f1-b42e-7f4de8e2d688",
   "metadata": {},
   "source": [
    "#### Other common initialization methods"
   ]
  },
  {
   "cell_type": "code",
   "execution_count": 55,
   "id": "ce2b0f4e-cef3-41f8-b6b3-319d9d5fea82",
   "metadata": {},
   "outputs": [
    {
     "data": {
      "text/plain": [
       "tensor([[0., 0., 0.],\n",
       "        [0., 0., 0.],\n",
       "        [0., 0., 0.]])"
      ]
     },
     "execution_count": 55,
     "metadata": {},
     "output_type": "execute_result"
    }
   ],
   "source": [
    "x = torch.empty(size = (3,3))\n",
    "x"
   ]
  },
  {
   "cell_type": "code",
   "execution_count": 56,
   "id": "5ee4bb18-c6d8-428b-a37e-6ff7267961c7",
   "metadata": {},
   "outputs": [
    {
     "data": {
      "text/plain": [
       "tensor([[0., 0., 0.],\n",
       "        [0., 0., 0.],\n",
       "        [0., 0., 0.]])"
      ]
     },
     "execution_count": 56,
     "metadata": {},
     "output_type": "execute_result"
    }
   ],
   "source": [
    "x = torch.zeros(size = (3,3))\n",
    "x"
   ]
  },
  {
   "cell_type": "code",
   "execution_count": 63,
   "id": "b822c3b9-137a-4c9a-9524-b84f2013940a",
   "metadata": {},
   "outputs": [
    {
     "data": {
      "text/plain": [
       "tensor([[9.4743e-01, 9.5796e-01, 3.3694e-01],\n",
       "        [4.2241e-04, 8.5905e-02, 6.8731e-01],\n",
       "        [1.3705e-01, 8.6249e-01, 2.4314e-01]], device='cuda:0')"
      ]
     },
     "execution_count": 63,
     "metadata": {},
     "output_type": "execute_result"
    }
   ],
   "source": [
    "x = torch.rand((3,3),device=devices)\n",
    "x"
   ]
  },
  {
   "cell_type": "code",
   "execution_count": 64,
   "id": "38c4eb7d-81f0-4ad8-b8b9-f4e415b4a396",
   "metadata": {},
   "outputs": [
    {
     "data": {
      "text/plain": [
       "tensor([[1., 1., 1.],\n",
       "        [1., 1., 1.],\n",
       "        [1., 1., 1.]], device='cuda:0')"
      ]
     },
     "execution_count": 64,
     "metadata": {},
     "output_type": "execute_result"
    }
   ],
   "source": [
    "x = torch.ones((3,3),device=devices)\n",
    "x"
   ]
  },
  {
   "cell_type": "code",
   "execution_count": 65,
   "id": "663d5cce-61d9-4f49-a35e-adbbae460107",
   "metadata": {},
   "outputs": [
    {
     "data": {
      "text/plain": [
       "tensor([[1., 0., 0., 0., 0.],\n",
       "        [0., 1., 0., 0., 0.],\n",
       "        [0., 0., 1., 0., 0.],\n",
       "        [0., 0., 0., 1., 0.],\n",
       "        [0., 0., 0., 0., 1.]], device='cuda:0')"
      ]
     },
     "execution_count": 65,
     "metadata": {},
     "output_type": "execute_result"
    }
   ],
   "source": [
    "x = torch.eye(5,device=devices)\n",
    "x"
   ]
  },
  {
   "cell_type": "code",
   "execution_count": 66,
   "id": "7233a5a6-b353-4fec-9d22-2ec70f4cef8b",
   "metadata": {},
   "outputs": [
    {
     "data": {
      "text/plain": [
       "tensor([ 1,  2,  3,  4,  5,  6,  7,  8,  9, 10, 11, 12, 13, 14, 15, 16, 17, 18,\n",
       "        19, 20, 21, 22, 23, 24, 25, 26, 27, 28, 29, 30, 31, 32, 33, 34, 35, 36,\n",
       "        37, 38, 39, 40, 41, 42, 43, 44, 45, 46, 47, 48, 49, 50, 51, 52, 53, 54,\n",
       "        55, 56, 57, 58, 59, 60, 61, 62, 63, 64, 65, 66, 67, 68, 69, 70, 71, 72,\n",
       "        73, 74, 75, 76, 77, 78, 79, 80, 81, 82, 83, 84, 85, 86, 87, 88, 89, 90,\n",
       "        91, 92, 93, 94, 95, 96, 97, 98, 99])"
      ]
     },
     "execution_count": 66,
     "metadata": {},
     "output_type": "execute_result"
    }
   ],
   "source": [
    "x = torch.arange(1,100)\n",
    "x"
   ]
  },
  {
   "cell_type": "code",
   "execution_count": 67,
   "id": "eccfb23d-ef4f-4211-8aad-8e2b6a2e0d6e",
   "metadata": {},
   "outputs": [
    {
     "data": {
      "text/plain": [
       "tensor([  0.,  25.,  50.,  75., 100.])"
      ]
     },
     "execution_count": 67,
     "metadata": {},
     "output_type": "execute_result"
    }
   ],
   "source": [
    "x = torch.linspace(0,100,5)\n",
    "x"
   ]
  },
  {
   "cell_type": "code",
   "execution_count": 68,
   "id": "1290fdd7-0b78-4018-8941-38965bf8c117",
   "metadata": {},
   "outputs": [
    {
     "data": {
      "text/plain": [
       "tensor([ 1.7202, -0.5519, -0.9281,  0.9235, -0.4861, -2.7786, -0.1548,  0.0392,\n",
       "         1.0216, -2.4298,  0.4711, -0.2780,  0.7573, -0.2938,  0.0330,  0.2888,\n",
       "        -2.0939, -0.1550, -1.9383, -0.1238, -0.4457,  1.8884,  0.4890, -1.2877,\n",
       "         0.9830,  0.6387,  0.6853, -2.0261,  1.0747, -0.4873,  0.0165,  0.5333,\n",
       "         0.5464,  0.5700,  0.7437, -1.8490,  0.5474, -1.1305, -0.7902,  0.0352,\n",
       "        -0.0477, -0.6276, -0.4207, -0.5607, -0.7178,  0.8189,  1.4109,  0.8776,\n",
       "        -0.1114,  0.5530,  0.3050, -0.9176, -0.2147, -2.2664,  0.7548, -0.3892,\n",
       "         0.7053,  0.4600, -0.3666,  0.1332, -2.2835, -0.1574,  0.8129, -0.0711,\n",
       "        -0.5901, -0.2662,  1.3373,  0.0162, -1.4585, -1.0190, -0.2912,  0.1821,\n",
       "         0.0357, -0.0214, -0.2515,  0.9960,  0.2802, -0.8328, -0.4255,  0.3262,\n",
       "        -1.6316, -1.6769,  2.8365, -0.0933,  0.0362, -1.1014, -0.7883,  0.1382,\n",
       "         0.5057,  0.4013, -1.3998,  1.4370,  0.2064,  0.1489,  0.2790,  0.9762,\n",
       "        -0.7763, -0.2917, -0.1369,  2.2220])"
      ]
     },
     "execution_count": 68,
     "metadata": {},
     "output_type": "execute_result"
    }
   ],
   "source": [
    "x = torch.empty(100).normal_(mean=0,std=1)\n",
    "x"
   ]
  },
  {
   "cell_type": "code",
   "execution_count": 69,
   "id": "7adaa603-a6d1-4323-aa9e-1a7d3b638eb8",
   "metadata": {},
   "outputs": [],
   "source": [
    "import seaborn as sns"
   ]
  },
  {
   "cell_type": "code",
   "execution_count": 70,
   "id": "d5c06d1b-71ab-4a54-8c56-63bf2fd692d6",
   "metadata": {},
   "outputs": [
    {
     "data": {
      "text/plain": [
       "<Axes: ylabel='Density'>"
      ]
     },
     "execution_count": 70,
     "metadata": {},
     "output_type": "execute_result"
    },
    {
     "data": {
      "image/png": "[encoded data removed]",
      "text/plain": [
       "<Figure size 640x480 with 1 Axes>"
      ]
     },
     "metadata": {},
     "output_type": "display_data"
    }
   ],
   "source": [
    "# Convert torch tensor to numpy array\n",
    "numpy_data = x.numpy()\n",
    "sns.kdeplot(numpy_data)"
   ]
  },
  {
   "cell_type": "code",
   "execution_count": 71,
   "id": "0973f8b4-25b1-497b-bcd6-bb71697caa12",
   "metadata": {},
   "outputs": [
    {
     "data": {
      "text/plain": [
       "tensor([[0.0455, 0.8411, 0.8784, 0.0539, 0.4802]])"
      ]
     },
     "execution_count": 71,
     "metadata": {},
     "output_type": "execute_result"
    }
   ],
   "source": [
    "x = torch.empty(1,5).uniform_(0,1)\n",
    "x\n"
   ]
  },
  {
   "cell_type": "code",
   "execution_count": 72,
   "id": "91f0b5c5-4194-43fa-ae31-60a7a6814ac1",
   "metadata": {},
   "outputs": [
    {
     "data": {
      "text/plain": [
       "tensor([[1., 0., 0.],\n",
       "        [0., 1., 0.],\n",
       "        [0., 0., 1.]])"
      ]
     },
     "execution_count": 72,
     "metadata": {},
     "output_type": "execute_result"
    }
   ],
   "source": [
    "x = torch.diag(torch.ones(3))\n",
    "x"
   ]
  },
  {
   "cell_type": "markdown",
   "id": "52550226-7f95-49ba-bb57-5b6b5e91a402",
   "metadata": {},
   "source": [
    "### How to initialize and convert tensors to other type (int, float, double)"
   ]
  },
  {
   "cell_type": "code",
   "execution_count": 73,
   "id": "b5973de7-d66d-4eb5-a58d-6cafe86de7e6",
   "metadata": {},
   "outputs": [
    {
     "data": {
      "text/plain": [
       "tensor([0, 1, 2, 3])"
      ]
     },
     "execution_count": 73,
     "metadata": {},
     "output_type": "execute_result"
    }
   ],
   "source": [
    "tensor = torch.arange(4)\n",
    "tensor"
   ]
  },
  {
   "cell_type": "code",
   "execution_count": 74,
   "id": "1ba2ab50-8192-4652-a821-7e43f303d948",
   "metadata": {},
   "outputs": [
    {
     "data": {
      "text/plain": [
       "torch.int64"
      ]
     },
     "execution_count": 74,
     "metadata": {},
     "output_type": "execute_result"
    }
   ],
   "source": [
    "tensor.dtype"
   ]
  },
  {
   "cell_type": "code",
   "execution_count": 75,
   "id": "188771a3-a15c-4253-896e-ede4c9d16833",
   "metadata": {},
   "outputs": [
    {
     "name": "stdout",
     "output_type": "stream",
     "text": [
      "tensor([False,  True,  True,  True])\n"
     ]
    }
   ],
   "source": [
    "print(tensor.bool())"
   ]
  },
  {
   "cell_type": "code",
   "execution_count": 76,
   "id": "1b7a6b22-4be2-495e-91f2-60c40884adfb",
   "metadata": {},
   "outputs": [
    {
     "name": "stdout",
     "output_type": "stream",
     "text": [
      "tensor([0, 1, 2, 3], dtype=torch.int16)\n"
     ]
    }
   ],
   "source": [
    "print(tensor.short())"
   ]
  },
  {
   "cell_type": "code",
   "execution_count": 77,
   "id": "0cbc5a93-ee6e-4068-99fa-f730569f149c",
   "metadata": {},
   "outputs": [
    {
     "name": "stdout",
     "output_type": "stream",
     "text": [
      "torch.int64\n"
     ]
    }
   ],
   "source": [
    "print(tensor.long().dtype)"
   ]
  },
  {
   "cell_type": "code",
   "execution_count": 78,
   "id": "d0b5dd5a-1fdd-41f4-ac5d-c8ff2c7b51f1",
   "metadata": {},
   "outputs": [
    {
     "name": "stdout",
     "output_type": "stream",
     "text": [
      "tensor([0., 1., 2., 3.], dtype=torch.float16)\n"
     ]
    }
   ],
   "source": [
    "print(tensor.half())"
   ]
  },
  {
   "cell_type": "code",
   "execution_count": 79,
   "id": "d570daa4-3b9f-47a2-8e54-bbaf7b2299c8",
   "metadata": {},
   "outputs": [
    {
     "name": "stdout",
     "output_type": "stream",
     "text": [
      "tensor([0., 1., 2., 3.])\n"
     ]
    }
   ],
   "source": [
    "print(tensor.float())"
   ]
  },
  {
   "cell_type": "code",
   "execution_count": 80,
   "id": "c51fc8a7-2261-4d8e-b84d-cfa64b8cb16b",
   "metadata": {},
   "outputs": [
    {
     "name": "stdout",
     "output_type": "stream",
     "text": [
      "torch.float32\n"
     ]
    }
   ],
   "source": [
    "print(tensor.float().dtype)"
   ]
  },
  {
   "cell_type": "code",
   "execution_count": 81,
   "id": "d98e624f-b84b-46bf-8500-e6f736609cc9",
   "metadata": {},
   "outputs": [
    {
     "name": "stdout",
     "output_type": "stream",
     "text": [
      "tensor([0., 1., 2., 3.], dtype=torch.float64)\n"
     ]
    }
   ],
   "source": [
    "print(tensor.double())"
   ]
  },
  {
   "cell_type": "markdown",
   "id": "01a71ccd-8a22-4fa3-968b-ce411b98ddf2",
   "metadata": {},
   "source": [
    "### Array to Tensor and Vice-versa"
   ]
  },
  {
   "cell_type": "code",
   "execution_count": 82,
   "id": "0c6ed01e-d3ec-4909-a962-834eb958595b",
   "metadata": {},
   "outputs": [],
   "source": [
    "np_array = np.zeros((5,5))"
   ]
  },
  {
   "cell_type": "code",
   "execution_count": 83,
   "id": "47732914-d0f4-4497-8755-d4a4b33f0ecb",
   "metadata": {},
   "outputs": [
    {
     "data": {
      "text/plain": [
       "tensor([[0., 0., 0., 0., 0.],\n",
       "        [0., 0., 0., 0., 0.],\n",
       "        [0., 0., 0., 0., 0.],\n",
       "        [0., 0., 0., 0., 0.],\n",
       "        [0., 0., 0., 0., 0.]], dtype=torch.float64)"
      ]
     },
     "execution_count": 83,
     "metadata": {},
     "output_type": "execute_result"
    }
   ],
   "source": [
    "tensor = torch.from_numpy((np_array))\n",
    "tensor"
   ]
  },
  {
   "cell_type": "code",
   "execution_count": 84,
   "id": "46646c88-ad5a-421a-8b3d-9044c38f7c32",
   "metadata": {},
   "outputs": [
    {
     "data": {
      "text/plain": [
       "tensor([[0., 0., 0., 0., 0.],\n",
       "        [0., 0., 0., 0., 0.],\n",
       "        [0., 0., 0., 0., 0.],\n",
       "        [0., 0., 0., 0., 0.],\n",
       "        [0., 0., 0., 0., 0.]], device='cuda:0', dtype=torch.float64)"
      ]
     },
     "execution_count": 84,
     "metadata": {},
     "output_type": "execute_result"
    }
   ],
   "source": [
    "tensor.to('cuda')"
   ]
  },
  {
   "cell_type": "code",
   "execution_count": 85,
   "id": "8ddccd57-c2fd-4621-9789-bf5e8336dfe5",
   "metadata": {},
   "outputs": [
    {
     "data": {
      "text/plain": [
       "array([[0., 0., 0., 0., 0.],\n",
       "       [0., 0., 0., 0., 0.],\n",
       "       [0., 0., 0., 0., 0.],\n",
       "       [0., 0., 0., 0., 0.],\n",
       "       [0., 0., 0., 0., 0.]])"
      ]
     },
     "execution_count": 85,
     "metadata": {},
     "output_type": "execute_result"
    }
   ],
   "source": [
    "np_array_back = tensor.numpy()\n",
    "np_array_back"
   ]
  },
  {
   "cell_type": "markdown",
   "id": "d60c071f-5efa-4dac-b123-c6a876629c92",
   "metadata": {},
   "source": [
    "# Tensor Math and Comaprision operator"
   ]
  },
  {
   "cell_type": "code",
   "execution_count": 86,
   "id": "26e0f9a0-ace8-4db5-b305-6aca819cdff5",
   "metadata": {},
   "outputs": [],
   "source": [
    "x = torch.tensor([1,2,3])\n",
    "y = torch.tensor([9,8,7])"
   ]
  },
  {
   "cell_type": "markdown",
   "id": "38d8df09-0b41-4c36-b411-727726d7732b",
   "metadata": {},
   "source": [
    "### Addition"
   ]
  },
  {
   "cell_type": "code",
   "execution_count": 87,
   "id": "ce1fda17-1b80-4b67-b7ce-0dcf2bcef486",
   "metadata": {},
   "outputs": [
    {
     "data": {
      "text/plain": [
       "tensor([10., 10., 10.])"
      ]
     },
     "execution_count": 87,
     "metadata": {},
     "output_type": "execute_result"
    }
   ],
   "source": [
    "z = torch.empty(3)\n",
    "\n",
    "torch.add(x,y, out = z)\n",
    "z"
   ]
  },
  {
   "cell_type": "code",
   "execution_count": 88,
   "id": "52b8a37d-4c38-4635-910d-1be4c0e44e98",
   "metadata": {},
   "outputs": [
    {
     "data": {
      "text/plain": [
       "tensor([10, 10, 10])"
      ]
     },
     "execution_count": 88,
     "metadata": {},
     "output_type": "execute_result"
    }
   ],
   "source": [
    "z = x+y\n",
    "z"
   ]
  },
  {
   "cell_type": "code",
   "execution_count": 89,
   "id": "15a84fd9-49d3-44b8-9db7-3f69a1a2efec",
   "metadata": {},
   "outputs": [
    {
     "data": {
      "text/plain": [
       "tensor([10, 10, 10])"
      ]
     },
     "execution_count": 89,
     "metadata": {},
     "output_type": "execute_result"
    }
   ],
   "source": [
    "z = torch.add(x,y)\n",
    "z"
   ]
  },
  {
   "cell_type": "code",
   "execution_count": 90,
   "id": "413a2905-4df7-431d-9c95-c21a920205f1",
   "metadata": {},
   "outputs": [
    {
     "data": {
      "text/plain": [
       "tensor([-8, -6, -4])"
      ]
     },
     "execution_count": 90,
     "metadata": {},
     "output_type": "execute_result"
    }
   ],
   "source": [
    "# Substraction\n",
    "z = x-y\n",
    "z"
   ]
  },
  {
   "cell_type": "code",
   "execution_count": 91,
   "id": "9f5c0dca-8c38-44e4-80a8-b8a0c0a323a0",
   "metadata": {},
   "outputs": [
    {
     "data": {
      "text/plain": [
       "tensor([0.1111, 0.2500, 0.4286])"
      ]
     },
     "execution_count": 91,
     "metadata": {},
     "output_type": "execute_result"
    }
   ],
   "source": [
    "# Division\n",
    "z = torch.true_divide(x,y)\n",
    "z"
   ]
  },
  {
   "cell_type": "code",
   "execution_count": 92,
   "id": "e6ffeb62-fd5d-4805-9f6c-9b24686a2bc0",
   "metadata": {},
   "outputs": [
    {
     "data": {
      "text/plain": [
       "tensor([1., 2., 3.])"
      ]
     },
     "execution_count": 92,
     "metadata": {},
     "output_type": "execute_result"
    }
   ],
   "source": [
    " # inplace operation\n",
    "t = torch.zeros(3)\n",
    "t.add_(x)"
   ]
  },
  {
   "cell_type": "code",
   "execution_count": 93,
   "id": "c42cbb14-3871-42a2-97fc-a22d9ca96fcd",
   "metadata": {},
   "outputs": [
    {
     "data": {
      "text/plain": [
       "tensor([2., 4., 6.])"
      ]
     },
     "execution_count": 93,
     "metadata": {},
     "output_type": "execute_result"
    }
   ],
   "source": [
    "t += x\n",
    "t"
   ]
  },
  {
   "cell_type": "code",
   "execution_count": 94,
   "id": "3f6fe977-a5d1-44ad-8d01-c8d996c17307",
   "metadata": {},
   "outputs": [
    {
     "data": {
      "text/plain": [
       "tensor([1, 4, 9])"
      ]
     },
     "execution_count": 94,
     "metadata": {},
     "output_type": "execute_result"
    }
   ],
   "source": [
    "z = x.pow(2)\n",
    "z"
   ]
  },
  {
   "cell_type": "code",
   "execution_count": 95,
   "id": "dc7dfa56-5fe1-40d3-a20b-2ef2feadb19f",
   "metadata": {},
   "outputs": [
    {
     "data": {
      "text/plain": [
       "tensor([1, 4, 9])"
      ]
     },
     "execution_count": 95,
     "metadata": {},
     "output_type": "execute_result"
    }
   ],
   "source": [
    "z = x**2\n",
    "z"
   ]
  },
  {
   "cell_type": "code",
   "execution_count": 96,
   "id": "5298d741-e146-47aa-951f-777f01cef217",
   "metadata": {},
   "outputs": [
    {
     "data": {
      "text/plain": [
       "tensor([True, True, True])"
      ]
     },
     "execution_count": 96,
     "metadata": {},
     "output_type": "execute_result"
    }
   ],
   "source": [
    "# Simple comparision\n",
    "\n",
    "z = x>0\n",
    "z"
   ]
  },
  {
   "cell_type": "code",
   "execution_count": 97,
   "id": "652afd0e-8478-4d2c-9d25-f049b498d039",
   "metadata": {},
   "outputs": [
    {
     "data": {
      "text/plain": [
       "tensor([False, False, False])"
      ]
     },
     "execution_count": 97,
     "metadata": {},
     "output_type": "execute_result"
    }
   ],
   "source": [
    "z = x<0\n",
    "z"
   ]
  },
  {
   "cell_type": "code",
   "execution_count": 98,
   "id": "fcbecd40-8843-4487-9ada-3623dc8c9c9b",
   "metadata": {},
   "outputs": [
    {
     "data": {
      "text/plain": [
       "tensor([[0.5975, 0.2135, 0.6655, 0.8257, 0.1199],\n",
       "        [0.0960, 0.4875, 0.2942, 0.0223, 0.3806]])"
      ]
     },
     "execution_count": 98,
     "metadata": {},
     "output_type": "execute_result"
    }
   ],
   "source": [
    "x1 = torch.rand((2,5))\n",
    "x1"
   ]
  },
  {
   "cell_type": "code",
   "execution_count": 99,
   "id": "f93461cf-1887-4496-b972-cfdf22eb430f",
   "metadata": {},
   "outputs": [
    {
     "data": {
      "text/plain": [
       "tensor([[0.5639, 0.6615, 0.1617],\n",
       "        [0.7666, 0.4013, 0.2500],\n",
       "        [0.9747, 0.1120, 0.0652],\n",
       "        [0.9166, 0.4543, 0.5668],\n",
       "        [0.4344, 0.5253, 0.7433]])"
      ]
     },
     "execution_count": 99,
     "metadata": {},
     "output_type": "execute_result"
    }
   ],
   "source": [
    "x2 = torch.rand((5,3))\n",
    "x2"
   ]
  },
  {
   "cell_type": "code",
   "execution_count": 100,
   "id": "3b860d33-b312-4f9b-ba2a-762cd16c9e1c",
   "metadata": {},
   "outputs": [
    {
     "data": {
      "text/plain": [
       "tensor([[1.9582, 0.9936, 0.7505],\n",
       "        [0.9004, 0.5022, 0.4522]])"
      ]
     },
     "execution_count": 100,
     "metadata": {},
     "output_type": "execute_result"
    }
   ],
   "source": [
    "x3 = x1.mm(x2)\n",
    "x3"
   ]
  },
  {
   "cell_type": "code",
   "execution_count": 57,
   "id": "28e1368c-075f-4461-8311-d7d2e14190a1",
   "metadata": {},
   "outputs": [
    {
     "data": {
      "text/plain": [
       "tensor([[0.4322, 0.4286, 0.3593],\n",
       "        [1.0015, 1.4013, 0.4173]])"
      ]
     },
     "execution_count": 57,
     "metadata": {},
     "output_type": "execute_result"
    }
   ],
   "source": [
    "x3 = torch.mm(x1,x2)\n",
    "x3"
   ]
  },
  {
   "cell_type": "code",
   "execution_count": 58,
   "id": "dede2ba5-0b91-4895-b033-152ce7194955",
   "metadata": {},
   "outputs": [
    {
     "data": {
      "text/plain": [
       "tensor([[0.5045, 0.5860, 0.9016, 0.6010, 0.8870],\n",
       "        [0.0235, 0.0084, 0.1213, 0.2435, 0.2411],\n",
       "        [0.6802, 0.0770, 0.9156, 0.4898, 0.2813],\n",
       "        [0.8472, 0.6358, 0.9039, 0.1390, 0.2728],\n",
       "        [0.7258, 0.6206, 0.9375, 0.9174, 0.5513]])"
      ]
     },
     "execution_count": 58,
     "metadata": {},
     "output_type": "execute_result"
    }
   ],
   "source": [
    "# Matrix expoentiation\n",
    "matrix_exp = torch.rand(5,5)\n",
    "matrix_exp"
   ]
  },
  {
   "cell_type": "code",
   "execution_count": 59,
   "id": "8d3b2fdf-7ba8-4787-a659-e3fa2722a391",
   "metadata": {},
   "outputs": [
    {
     "data": {
      "text/plain": [
       "tensor([[5.5089, 3.4758, 7.5038, 4.4953, 4.1971],\n",
       "        [1.1078, 0.6954, 1.5382, 0.9305, 0.8955],\n",
       "        [4.1637, 2.5941, 5.7131, 3.4869, 3.2198],\n",
       "        [4.2505, 2.6805, 5.7226, 3.4585, 3.1128],\n",
       "        [5.7298, 3.5926, 7.8685, 4.8164, 4.4641]])"
      ]
     },
     "execution_count": 59,
     "metadata": {},
     "output_type": "execute_result"
    }
   ],
   "source": [
    "matrix_mult_three = matrix_exp.matrix_power(3)\n",
    "matrix_mult_three"
   ]
  },
  {
   "cell_type": "code",
   "execution_count": 60,
   "id": "f6819149-171a-4a65-b081-005891b24c46",
   "metadata": {},
   "outputs": [
    {
     "data": {
      "text/plain": [
       "tensor([ 9, 16, 21])"
      ]
     },
     "execution_count": 60,
     "metadata": {},
     "output_type": "execute_result"
    }
   ],
   "source": [
    "# element wise multiplication\n",
    "\n",
    "z = x*y\n",
    "z"
   ]
  },
  {
   "cell_type": "code",
   "execution_count": 61,
   "id": "91bb4b75-6dbd-476a-9dde-4516c3f7692a",
   "metadata": {},
   "outputs": [
    {
     "data": {
      "text/plain": [
       "tensor(46)"
      ]
     },
     "execution_count": 61,
     "metadata": {},
     "output_type": "execute_result"
    }
   ],
   "source": [
    "# dot product\n",
    "z = torch.dot(x,y)\n",
    "z"
   ]
  },
  {
   "cell_type": "code",
   "execution_count": 62,
   "id": "2ed0edff-54b5-427e-94d9-ba1e889cb5ea",
   "metadata": {},
   "outputs": [
    {
     "name": "stdout",
     "output_type": "stream",
     "text": [
      "tensor([[[0.3046, 0.5875, 0.6120,  ..., 0.2428, 0.5272, 0.1055],\n",
      "         [0.3791, 0.0175, 0.4892,  ..., 0.1989, 0.1124, 0.5182],\n",
      "         [0.8274, 0.9402, 0.5055,  ..., 0.9057, 0.6844, 0.1779],\n",
      "         ...,\n",
      "         [0.4811, 0.3733, 0.0518,  ..., 0.6563, 0.1455, 0.0579],\n",
      "         [0.1147, 0.5833, 0.4895,  ..., 0.4651, 0.6728, 0.1950],\n",
      "         [0.9229, 0.9511, 0.8553,  ..., 0.3537, 0.6796, 0.5854]],\n",
      "\n",
      "        [[0.8148, 0.4673, 0.0899,  ..., 0.4128, 0.5298, 0.0333],\n",
      "         [0.3974, 0.5350, 0.4173,  ..., 0.3720, 0.5634, 0.9840],\n",
      "         [0.5409, 0.3045, 0.2302,  ..., 0.0109, 0.7507, 0.4389],\n",
      "         ...,\n",
      "         [0.5129, 0.2688, 0.9287,  ..., 0.1603, 0.6589, 0.9537],\n",
      "         [0.2609, 0.5859, 0.5781,  ..., 0.8640, 0.5709, 0.5840],\n",
      "         [0.2573, 0.8950, 0.3622,  ..., 0.3245, 0.2235, 0.1002]],\n",
      "\n",
      "        [[0.6449, 0.3309, 0.3916,  ..., 0.8688, 0.7873, 0.9666],\n",
      "         [0.7660, 0.1791, 0.5842,  ..., 0.9890, 0.2175, 0.6902],\n",
      "         [0.6317, 0.7826, 0.7849,  ..., 0.8382, 0.3573, 0.6895],\n",
      "         ...,\n",
      "         [0.6447, 0.5710, 0.9195,  ..., 0.3276, 0.1410, 0.2976],\n",
      "         [0.1832, 0.9489, 0.2086,  ..., 0.7519, 0.0356, 0.7241],\n",
      "         [0.4651, 0.6039, 0.9621,  ..., 0.8868, 0.2073, 0.0746]],\n",
      "\n",
      "        ...,\n",
      "\n",
      "        [[0.6265, 0.6700, 0.5535,  ..., 0.3599, 0.5118, 0.8953],\n",
      "         [0.6441, 0.3844, 0.8600,  ..., 0.7204, 0.1176, 0.6882],\n",
      "         [0.8995, 0.4317, 0.3994,  ..., 0.6889, 0.0578, 0.6103],\n",
      "         ...,\n",
      "         [0.9524, 0.4878, 0.7829,  ..., 0.1704, 0.8208, 0.8525],\n",
      "         [0.2213, 0.2378, 0.0597,  ..., 0.2809, 0.6900, 0.4385],\n",
      "         [0.5893, 0.8604, 0.3404,  ..., 0.2608, 0.2977, 0.8570]],\n",
      "\n",
      "        [[0.7267, 0.0626, 0.6857,  ..., 0.3532, 0.2826, 0.5370],\n",
      "         [0.3064, 0.5969, 0.6694,  ..., 0.5938, 0.6945, 0.4422],\n",
      "         [0.1091, 0.9471, 0.8511,  ..., 0.1061, 0.1108, 0.4431],\n",
      "         ...,\n",
      "         [0.4118, 0.7323, 0.3474,  ..., 0.2692, 0.9270, 0.4931],\n",
      "         [0.0825, 0.2841, 0.3847,  ..., 0.9585, 0.3715, 0.7537],\n",
      "         [0.0602, 0.0191, 0.4578,  ..., 0.5957, 0.7610, 0.5128]],\n",
      "\n",
      "        [[0.7762, 0.9819, 0.1480,  ..., 0.1165, 0.9719, 0.5913],\n",
      "         [0.0650, 0.4316, 0.7210,  ..., 0.5779, 0.1655, 0.1823],\n",
      "         [0.2589, 0.3101, 0.2919,  ..., 0.8047, 0.0613, 0.5867],\n",
      "         ...,\n",
      "         [0.7577, 0.2572, 0.4074,  ..., 0.8974, 0.0086, 0.2695],\n",
      "         [0.6927, 0.7456, 0.6804,  ..., 0.7791, 0.0656, 0.8969],\n",
      "         [0.9733, 0.2372, 0.4326,  ..., 0.7394, 0.5698, 0.1310]]])\n",
      "\n",
      "\n",
      "tensor([[[0.8716, 0.6694, 0.0361,  ..., 0.5451, 0.0978, 0.4889],\n",
      "         [0.3210, 0.7992, 0.8383,  ..., 0.4264, 0.4911, 0.0067],\n",
      "         [0.9624, 0.1300, 0.4839,  ..., 0.8054, 0.1249, 0.4990],\n",
      "         ...,\n",
      "         [0.2046, 0.8470, 0.3693,  ..., 0.4732, 0.0404, 0.1095],\n",
      "         [0.6629, 0.3140, 0.3296,  ..., 0.8015, 0.9511, 0.5623],\n",
      "         [0.5649, 0.6212, 0.9346,  ..., 0.7475, 0.9187, 0.6988]],\n",
      "\n",
      "        [[0.6959, 0.0143, 0.7097,  ..., 0.7443, 0.2543, 0.0189],\n",
      "         [0.1252, 0.6844, 0.5207,  ..., 0.9258, 0.1817, 0.8982],\n",
      "         [0.6957, 0.2710, 0.4017,  ..., 0.0719, 0.1902, 0.6709],\n",
      "         ...,\n",
      "         [0.4968, 0.0473, 0.0026,  ..., 0.2361, 0.7832, 0.9413],\n",
      "         [0.1083, 0.9930, 0.3098,  ..., 0.8446, 0.7292, 0.0474],\n",
      "         [0.3943, 0.5114, 0.8237,  ..., 0.8299, 0.7538, 0.9677]],\n",
      "\n",
      "        [[0.0733, 0.0087, 0.2048,  ..., 0.1545, 0.2400, 0.0874],\n",
      "         [0.2104, 0.4201, 0.3113,  ..., 0.5178, 0.2975, 0.5885],\n",
      "         [0.1483, 0.0987, 0.8508,  ..., 0.8310, 0.7339, 0.7099],\n",
      "         ...,\n",
      "         [0.6873, 0.1155, 0.6018,  ..., 0.4906, 0.5114, 0.3458],\n",
      "         [0.2875, 0.6439, 0.8439,  ..., 0.5160, 0.6522, 0.8442],\n",
      "         [0.6456, 0.3890, 0.5328,  ..., 0.9455, 0.8681, 0.8316]],\n",
      "\n",
      "        ...,\n",
      "\n",
      "        [[0.7046, 0.0272, 0.1376,  ..., 0.5314, 0.3421, 0.1949],\n",
      "         [0.6187, 0.7046, 0.4337,  ..., 0.1022, 0.7313, 0.7422],\n",
      "         [0.3424, 0.0621, 0.2648,  ..., 0.6634, 0.9213, 0.8139],\n",
      "         ...,\n",
      "         [0.8859, 0.9422, 0.6154,  ..., 0.7062, 0.3161, 0.9582],\n",
      "         [0.1547, 0.7434, 0.6664,  ..., 0.8372, 0.8834, 0.4474],\n",
      "         [0.6927, 0.9074, 0.2065,  ..., 0.8358, 0.6089, 0.4805]],\n",
      "\n",
      "        [[0.6277, 0.0943, 0.1297,  ..., 0.1802, 0.2121, 0.6337],\n",
      "         [0.3884, 0.3892, 0.4013,  ..., 0.2745, 0.9961, 0.5482],\n",
      "         [0.1552, 0.6209, 0.0453,  ..., 0.3933, 0.9558, 0.2811],\n",
      "         ...,\n",
      "         [0.4601, 0.2202, 0.9946,  ..., 0.3086, 0.8549, 0.7102],\n",
      "         [0.3816, 0.5008, 0.9893,  ..., 0.5453, 0.6651, 0.1686],\n",
      "         [0.9009, 0.1570, 0.0710,  ..., 0.8433, 0.0027, 0.7849]],\n",
      "\n",
      "        [[0.5324, 0.6597, 0.6211,  ..., 0.2039, 0.2618, 0.7024],\n",
      "         [0.1664, 0.6683, 0.0713,  ..., 0.1293, 0.4369, 0.3462],\n",
      "         [0.0377, 0.8236, 0.7213,  ..., 0.4901, 0.9491, 0.6911],\n",
      "         ...,\n",
      "         [0.4191, 0.8231, 0.2732,  ..., 0.1504, 0.8914, 0.3561],\n",
      "         [0.1591, 0.6446, 0.6273,  ..., 0.3764, 0.7096, 0.1993],\n",
      "         [0.1523, 0.5497, 0.0699,  ..., 0.7306, 0.0693, 0.7001]]])\n"
     ]
    }
   ],
   "source": [
    "# Batch Matrix Multiplication\n",
    "batch = 32\n",
    "n = 10\n",
    "m = 20\n",
    "p = 30\n",
    "\n",
    "tensor1 = torch.rand((batch, n, m))\n",
    "tensor2 = torch.rand((batch, m, p))\n",
    "print(tensor1)\n",
    "print('\\n')\n",
    "print(tensor2)"
   ]
  },
  {
   "cell_type": "code",
   "execution_count": 63,
   "id": "f73a9935-c119-4a1e-b831-ac101a379a87",
   "metadata": {},
   "outputs": [
    {
     "data": {
      "text/plain": [
       "tensor([[[5.8992, 5.9370, 5.3778,  ..., 6.2107, 5.1669, 5.1212],\n",
       "         [5.3918, 5.1025, 4.6831,  ..., 6.4292, 5.3442, 4.9622],\n",
       "         [5.4227, 5.6448, 4.0088,  ..., 5.1916, 4.3673, 3.4212],\n",
       "         ...,\n",
       "         [3.9616, 4.4701, 3.7895,  ..., 4.5847, 3.8331, 3.1699],\n",
       "         [5.6067, 5.8037, 5.1623,  ..., 5.4817, 5.0721, 4.4875],\n",
       "         [5.7114, 5.5538, 5.1484,  ..., 5.9943, 4.8296, 4.2313]],\n",
       "\n",
       "        [[4.1541, 4.3907, 4.1928,  ..., 4.9987, 5.2880, 3.7565],\n",
       "         [4.1235, 4.5469, 4.2981,  ..., 5.4882, 4.7092, 4.8429],\n",
       "         [3.7846, 4.2051, 3.5996,  ..., 4.8887, 4.2782, 3.9208],\n",
       "         ...,\n",
       "         [5.5568, 6.2796, 5.7560,  ..., 6.4744, 6.0953, 6.2500],\n",
       "         [4.6196, 5.3598, 4.9894,  ..., 5.7415, 5.5823, 5.9133],\n",
       "         [5.3375, 5.7784, 4.4567,  ..., 5.8581, 5.6875, 5.7651]],\n",
       "\n",
       "        [[4.5372, 6.3722, 5.5408,  ..., 5.5517, 7.4764, 6.4790],\n",
       "         [4.7634, 6.3221, 4.3020,  ..., 6.1678, 6.4219, 5.7897],\n",
       "         [3.5197, 4.3879, 3.8769,  ..., 4.9842, 5.1260, 4.8590],\n",
       "         ...,\n",
       "         [3.4545, 4.9600, 4.2068,  ..., 4.7738, 5.3592, 5.2657],\n",
       "         [3.2784, 4.8082, 3.3122,  ..., 4.3307, 5.0095, 4.4241],\n",
       "         [3.9229, 5.7367, 4.1496,  ..., 5.9214, 6.1342, 6.0637]],\n",
       "\n",
       "        ...,\n",
       "\n",
       "        [[5.7904, 5.4253, 4.9868,  ..., 5.1316, 4.5030, 6.1279],\n",
       "         [5.1992, 3.5815, 3.9397,  ..., 4.7717, 4.2710, 4.7621],\n",
       "         [6.4338, 5.3880, 4.6841,  ..., 5.0053, 4.1355, 5.5041],\n",
       "         ...,\n",
       "         [6.7409, 6.0468, 5.9155,  ..., 5.9478, 5.7977, 6.2552],\n",
       "         [5.3624, 5.2285, 5.5649,  ..., 5.3777, 4.3706, 5.6523],\n",
       "         [6.0140, 5.5414, 5.3095,  ..., 5.1253, 4.6201, 6.1670]],\n",
       "\n",
       "        [[6.0265, 4.4150, 3.0279,  ..., 4.2542, 5.0445, 5.0281],\n",
       "         [6.5738, 5.8128, 3.9960,  ..., 5.4418, 6.5465, 6.3005],\n",
       "         [5.7891, 4.0548, 2.8568,  ..., 4.6197, 5.9051, 5.2587],\n",
       "         ...,\n",
       "         [5.7351, 4.2971, 3.4432,  ..., 5.3287, 5.8967, 4.8816],\n",
       "         [5.2409, 4.0146, 3.0961,  ..., 3.9980, 4.6836, 4.6842],\n",
       "         [6.5242, 5.7283, 3.9373,  ..., 5.3295, 5.7743, 5.9450]],\n",
       "\n",
       "        [[3.7277, 5.0154, 5.4793,  ..., 4.4793, 6.5340, 5.7863],\n",
       "         [3.8821, 5.1012, 5.3715,  ..., 4.5095, 5.9173, 4.8418],\n",
       "         [3.8235, 4.3429, 4.4315,  ..., 4.1802, 6.5146, 5.6248],\n",
       "         ...,\n",
       "         [4.0381, 4.7858, 5.2136,  ..., 3.9066, 5.0530, 5.0539],\n",
       "         [4.1816, 5.7481, 5.1211,  ..., 4.4729, 5.4763, 5.4159],\n",
       "         [3.2696, 4.2062, 4.7769,  ..., 3.3658, 5.4186, 4.9694]]])"
      ]
     },
     "execution_count": 63,
     "metadata": {},
     "output_type": "execute_result"
    }
   ],
   "source": [
    "out_bmm = torch.bmm(tensor1,tensor2) # (batch, n, p)\n",
    "out_bmm"
   ]
  },
  {
   "cell_type": "code",
   "execution_count": 64,
   "id": "bff279df-22c4-4791-8626-9b744ef91b64",
   "metadata": {},
   "outputs": [
    {
     "name": "stdout",
     "output_type": "stream",
     "text": [
      "torch.Size([32, 10, 20])\n",
      "torch.Size([32, 20, 30])\n",
      "torch.Size([32, 10, 30])\n"
     ]
    }
   ],
   "source": [
    "print(tensor1.shape, tensor2.shape, out_bmm.shape, sep = '\\n')"
   ]
  },
  {
   "cell_type": "code",
   "execution_count": 65,
   "id": "82ce0813-3db9-4015-a3ed-455e13105790",
   "metadata": {},
   "outputs": [
    {
     "data": {
      "text/plain": [
       "10"
      ]
     },
     "execution_count": 65,
     "metadata": {},
     "output_type": "execute_result"
    }
   ],
   "source": [
    "len(out_bmm[0])"
   ]
  },
  {
   "cell_type": "code",
   "execution_count": 66,
   "id": "78c48ef4-a764-4f16-a544-dd01afa5e83d",
   "metadata": {},
   "outputs": [
    {
     "name": "stdout",
     "output_type": "stream",
     "text": [
      "tensor([[0.6932, 0.8916, 0.4165, 0.3309, 0.6260],\n",
      "        [0.6308, 0.8403, 0.7783, 0.8106, 0.4620],\n",
      "        [0.2562, 0.6970, 0.9530, 0.7065, 0.2329],\n",
      "        [0.5939, 0.6091, 0.7963, 0.5611, 0.0308],\n",
      "        [0.9652, 0.2355, 0.7406, 0.9026, 0.6651]])/ntensor([[0.5363, 0.9082, 0.9384, 0.7040, 0.0342]])\n"
     ]
    }
   ],
   "source": [
    "# Example of Broadcasting\n",
    "x1 = torch.rand((5,5))\n",
    "x2 = torch.rand((1,5))\n",
    "\n",
    "print(x1,x2, sep ='/n')\n"
   ]
  },
  {
   "cell_type": "code",
   "execution_count": 67,
   "id": "e77c037a-d8ec-4de4-b3b8-3a64545e9d4f",
   "metadata": {},
   "outputs": [
    {
     "data": {
      "text/plain": [
       "tensor([[ 0.1569, -0.0166, -0.5219, -0.3731,  0.5919],\n",
       "        [ 0.0945, -0.0679, -0.1601,  0.1066,  0.4278],\n",
       "        [-0.2801, -0.2111,  0.0146,  0.0025,  0.1988],\n",
       "        [ 0.0576, -0.2991, -0.1421, -0.1429, -0.0034],\n",
       "        [ 0.4290, -0.6727, -0.1977,  0.1986,  0.6309]])"
      ]
     },
     "execution_count": 67,
     "metadata": {},
     "output_type": "execute_result"
    }
   ],
   "source": [
    "z = x1-x2\n",
    "z"
   ]
  },
  {
   "cell_type": "code",
   "execution_count": 68,
   "id": "6b8c4cc1-9124-4fcf-a2a8-412165077f18",
   "metadata": {},
   "outputs": [
    {
     "name": "stdout",
     "output_type": "stream",
     "text": [
      "tensor([[0.9544, 0.5448, 0.6751, 0.6140, 0.1620],\n",
      "        [0.7175, 0.4641, 0.0379, 0.1858, 0.3600],\n",
      "        [0.0558, 0.0075, 0.2445, 0.0563, 0.4336],\n",
      "        [0.1010, 0.5505, 0.5952, 0.4360, 0.6028],\n",
      "        [0.6235, 0.0722, 0.8947, 0.0636, 0.1775]])/ntensor([[0.6563],\n",
      "        [0.7299],\n",
      "        [0.3716],\n",
      "        [0.9352],\n",
      "        [0.2970]])\n"
     ]
    },
    {
     "data": {
      "text/plain": [
       "tensor([[ 0.2981, -0.1115,  0.0188, -0.0423, -0.4943],\n",
       "        [-0.0124, -0.2658, -0.6920, -0.5440, -0.3699],\n",
       "        [-0.3158, -0.3641, -0.1271, -0.3153,  0.0620],\n",
       "        [-0.8342, -0.3847, -0.3400, -0.4992, -0.3325],\n",
       "        [ 0.3265, -0.2248,  0.5977, -0.2334, -0.1195]])"
      ]
     },
     "execution_count": 68,
     "metadata": {},
     "output_type": "execute_result"
    }
   ],
   "source": [
    "# Example of Broadcasting\n",
    "x1 = torch.rand((5,5))\n",
    "x2 = torch.rand((5,1))\n",
    "print(x1,x2, sep ='/n')\n",
    "z = x1-x2\n",
    "z"
   ]
  },
  {
   "cell_type": "code",
   "execution_count": 69,
   "id": "930671ec-ba74-40a2-96ac-18cc0031ef80",
   "metadata": {},
   "outputs": [
    {
     "data": {
      "text/plain": [
       "-0.6000000000000001"
      ]
     },
     "execution_count": 69,
     "metadata": {},
     "output_type": "execute_result"
    }
   ],
   "source": [
    "0.2-0.8"
   ]
  },
  {
   "cell_type": "code",
   "execution_count": 70,
   "id": "c4895503-1516-4d46-99bb-2d062762b75e",
   "metadata": {},
   "outputs": [
    {
     "data": {
      "text/plain": [
       "tensor([[0.9698, 0.6712, 0.7727, 0.7260, 0.3028],\n",
       "        [0.7848, 0.5710, 0.0917, 0.2928, 0.4744],\n",
       "        [0.3422, 0.1624, 0.5925, 0.3434, 0.7330],\n",
       "        [0.1172, 0.5722, 0.6155, 0.4601, 0.6229],\n",
       "        [0.8691, 0.4582, 0.9675, 0.4413, 0.5984]])"
      ]
     },
     "execution_count": 70,
     "metadata": {},
     "output_type": "execute_result"
    }
   ],
   "source": [
    "z = x1**x2\n",
    "z"
   ]
  },
  {
   "cell_type": "code",
   "execution_count": 71,
   "id": "94973cb6-0126-4a09-bc36-7745730666c4",
   "metadata": {},
   "outputs": [
    {
     "data": {
      "text/plain": [
       "0.27092292813079355"
      ]
     },
     "execution_count": 71,
     "metadata": {},
     "output_type": "execute_result"
    }
   ],
   "source": [
    "0.2073**0.8299"
   ]
  },
  {
   "cell_type": "code",
   "execution_count": 72,
   "id": "ffc8ce65-c0b3-4759-8ac7-22239cf5932e",
   "metadata": {},
   "outputs": [
    {
     "data": {
      "text/plain": [
       "0.9454"
      ]
     },
     "execution_count": 72,
     "metadata": {},
     "output_type": "execute_result"
    }
   ],
   "source": [
    "round(0.737**0.1840,4)"
   ]
  },
  {
   "cell_type": "code",
   "execution_count": 73,
   "id": "1c38d8a3-e012-4ddd-853f-51ce88a51fad",
   "metadata": {},
   "outputs": [
    {
     "ename": "NameError",
     "evalue": "name 'truncate' is not defined",
     "output_type": "error",
     "traceback": [
      "\u001b[1;31m---------------------------------------------------------------------------\u001b[0m",
      "\u001b[1;31mNameError\u001b[0m                                 Traceback (most recent call last)",
      "Cell \u001b[1;32mIn[73], line 1\u001b[0m\n\u001b[1;32m----> 1\u001b[0m \u001b[43mtruncate\u001b[49m(\u001b[38;5;241m19.5\u001b[39m)\n",
      "\u001b[1;31mNameError\u001b[0m: name 'truncate' is not defined"
     ]
    }
   ],
   "source": [
    "truncate(19.5)"
   ]
  },
  {
   "cell_type": "code",
   "execution_count": null,
   "id": "8f34e338-2bb5-4abd-963c-601c9d43d1b9",
   "metadata": {},
   "outputs": [],
   "source": [
    "import math"
   ]
  },
  {
   "cell_type": "code",
   "execution_count": null,
   "id": "7cea6da1-1ae4-41d2-a59a-24f5d21f4db3",
   "metadata": {},
   "outputs": [],
   "source": [
    "math.sin(60)"
   ]
  },
  {
   "cell_type": "code",
   "execution_count": 74,
   "id": "8683fdd5-6c35-4e5b-a18d-c3941fadc0b2",
   "metadata": {},
   "outputs": [
    {
     "data": {
      "text/plain": [
       "-0.3048106211022167"
      ]
     },
     "execution_count": 74,
     "metadata": {},
     "output_type": "execute_result"
    }
   ],
   "source": [
    "np.sin(60)"
   ]
  },
  {
   "cell_type": "code",
   "execution_count": 75,
   "id": "9e7739ea-902e-4a00-9e66-843b908b33e8",
   "metadata": {},
   "outputs": [
    {
     "data": {
      "text/plain": [
       "tensor([-0.30481061339378356934])"
      ]
     },
     "execution_count": 75,
     "metadata": {},
     "output_type": "execute_result"
    }
   ],
   "source": [
    "torch.set_printoptions(precision=20)\n",
    "torch.sin(torch.FloatTensor([60]))"
   ]
  },
  {
   "cell_type": "code",
   "execution_count": 76,
   "id": "ebe177ed-b0f6-4ef3-b939-30a2732c92dc",
   "metadata": {},
   "outputs": [
    {
     "data": {
      "text/plain": [
       "tensor([[ 0.29807668924331665039, -0.11150813102722167969,\n",
       "          0.01880490779876708984, -0.04230594635009765625,\n",
       "         -0.49431812763214111328],\n",
       "        [-0.01235246658325195312, -0.26579672098159790039,\n",
       "         -0.69202727079391479492, -0.54404896497726440430,\n",
       "         -0.36992305517196655273],\n",
       "        [-0.31582027673721313477, -0.36411619186401367188,\n",
       "         -0.12709093093872070312, -0.31527459621429443359,\n",
       "          0.06195324659347534180],\n",
       "        [-0.83418685197830200195, -0.38469904661178588867,\n",
       "         -0.34003144502639770508, -0.49920803308486938477,\n",
       "         -0.33245557546615600586],\n",
       "        [ 0.32648915052413940430, -0.22475576400756835938,\n",
       "          0.59766858816146850586, -0.23335516452789306641,\n",
       "         -0.11954903602600097656]])"
      ]
     },
     "execution_count": 76,
     "metadata": {},
     "output_type": "execute_result"
    }
   ],
   "source": [
    "z = x1-x2\n",
    "z"
   ]
  },
  {
   "cell_type": "code",
   "execution_count": 77,
   "id": "3d0ab045-cdf0-466e-becc-0294afab1639",
   "metadata": {},
   "outputs": [],
   "source": [
    "def round(n,place=1):\n",
    "    return float(str(n).split('.')[0] +'.'+str(n).split('.')[1][:place])"
   ]
  },
  {
   "cell_type": "code",
   "execution_count": 78,
   "id": "7dcb9a6f-918e-4727-962b-7be882477d41",
   "metadata": {},
   "outputs": [
    {
     "data": {
      "text/plain": [
       "23.0"
      ]
     },
     "execution_count": 78,
     "metadata": {},
     "output_type": "execute_result"
    }
   ],
   "source": [
    "round(23.4445,0)\n",
    "   "
   ]
  },
  {
   "cell_type": "code",
   "execution_count": 79,
   "id": "3ef05d4a-111a-4a1f-8104-7e17ebbbfe33",
   "metadata": {},
   "outputs": [
    {
     "data": {
      "text/plain": [
       "100.65"
      ]
     },
     "execution_count": 79,
     "metadata": {},
     "output_type": "execute_result"
    }
   ],
   "source": [
    "float(str(100.65555).split('.')[0] +'.'+str(100.65555).split('.')[1][:2])"
   ]
  },
  {
   "cell_type": "code",
   "execution_count": 80,
   "id": "faf4e906-5eb6-4aa3-8e8b-c58246b9e12c",
   "metadata": {},
   "outputs": [
    {
     "data": {
      "text/plain": [
       "5"
      ]
     },
     "execution_count": 80,
     "metadata": {},
     "output_type": "execute_result"
    }
   ],
   "source": [
    "len(str(100.65555).split('.')[1])"
   ]
  },
  {
   "cell_type": "code",
   "execution_count": 101,
   "id": "7329ac88-dd81-409c-ac43-adf69ad8f000",
   "metadata": {},
   "outputs": [
    {
     "name": "stdout",
     "output_type": "stream",
     "text": [
      "3.0\n"
     ]
    }
   ],
   "source": [
    "def custom_round(number, decimal_places=0):\n",
    "    multiplier = 10 ** decimal_places\n",
    "    rounded_number = int(number * multiplier) / multiplier\n",
    "    return rounded_number\n",
    "\n",
    "# Example usage:\n",
    "num = 3.14159\n",
    "rounded_num = custom_round(num)\n",
    "print(rounded_num)  # Output: 3.14\n"
   ]
  },
  {
   "cell_type": "code",
   "execution_count": 82,
   "id": "852ebc67-34ed-4e84-8c6a-5d8ae3cd3c21",
   "metadata": {},
   "outputs": [
    {
     "data": {
      "text/plain": [
       "10.1"
      ]
     },
     "execution_count": 82,
     "metadata": {},
     "output_type": "execute_result"
    }
   ],
   "source": [
    "int(10.11111111*10)/10"
   ]
  },
  {
   "cell_type": "code",
   "execution_count": 83,
   "id": "c9475db9-ea98-4218-a20e-557aec1092be",
   "metadata": {},
   "outputs": [
    {
     "data": {
      "text/plain": [
       "17"
      ]
     },
     "execution_count": 83,
     "metadata": {},
     "output_type": "execute_result"
    }
   ],
   "source": [
    "len(str(1.999999999999999))"
   ]
  },
  {
   "cell_type": "code",
   "execution_count": 84,
   "id": "93f271a5-b877-4922-a48c-d7462f4b1fba",
   "metadata": {},
   "outputs": [
    {
     "data": {
      "text/plain": [
       "1"
      ]
     },
     "execution_count": 84,
     "metadata": {},
     "output_type": "execute_result"
    }
   ],
   "source": [
    "int(1.9)"
   ]
  },
  {
   "cell_type": "code",
   "execution_count": 85,
   "id": "9342290f-030c-4989-a047-6bddd005024b",
   "metadata": {},
   "outputs": [],
   "source": [
    "# Other useful tensor operation"
   ]
  },
  {
   "cell_type": "code",
   "execution_count": 86,
   "id": "de98dae1-63c2-460b-8e41-76eccb1cf5d8",
   "metadata": {},
   "outputs": [
    {
     "data": {
      "text/plain": [
       "tensor([1, 2, 3])"
      ]
     },
     "execution_count": 86,
     "metadata": {},
     "output_type": "execute_result"
    }
   ],
   "source": [
    "x"
   ]
  },
  {
   "cell_type": "code",
   "execution_count": 87,
   "id": "f61b996f-e5d6-4116-86fe-79170204dcb1",
   "metadata": {},
   "outputs": [
    {
     "data": {
      "text/plain": [
       "tensor(6)"
      ]
     },
     "execution_count": 87,
     "metadata": {},
     "output_type": "execute_result"
    }
   ],
   "source": [
    "sum_x = torch.sum(x,dim=0)\n",
    "sum_x"
   ]
  },
  {
   "cell_type": "code",
   "execution_count": 88,
   "id": "737c4703-20bd-46f8-bf92-7e3e2ba8db0c",
   "metadata": {},
   "outputs": [],
   "source": [
    "values, indices = torch.max(x,dim=0)"
   ]
  },
  {
   "cell_type": "code",
   "execution_count": 89,
   "id": "5d4f4d2c-d0a9-48ef-a707-9b76baa75908",
   "metadata": {},
   "outputs": [
    {
     "name": "stdout",
     "output_type": "stream",
     "text": [
      "tensor(3) tensor(2)\n"
     ]
    }
   ],
   "source": [
    "print(values, indices)"
   ]
  },
  {
   "cell_type": "code",
   "execution_count": 90,
   "id": "f260ad5e-31aa-4daf-a6bd-7037b8b2f0b4",
   "metadata": {},
   "outputs": [
    {
     "data": {
      "text/plain": [
       "tensor(1)"
      ]
     },
     "execution_count": 90,
     "metadata": {},
     "output_type": "execute_result"
    }
   ],
   "source": [
    "x[0]"
   ]
  },
  {
   "cell_type": "code",
   "execution_count": 91,
   "id": "763686de-223b-40f8-a571-a07b8e6f6a07",
   "metadata": {},
   "outputs": [
    {
     "data": {
      "text/plain": [
       "tensor([[0.45020300149917602539, 0.64861249923706054688, 0.22337299585342407227,\n",
       "         0.99972444772720336914, 0.03936100006103515625],\n",
       "        [0.77408343553543090820, 0.68111294507980346680, 0.38716393709182739258,\n",
       "         0.63633412122726440430, 0.96720898151397705078],\n",
       "        [0.94720840454101562500, 0.28872084617614746094, 0.87193065881729125977,\n",
       "         0.57896256446838378906, 0.84078556299209594727],\n",
       "        [0.10274559259414672852, 0.33984267711639404297, 0.63352143764495849609,\n",
       "         0.88467168807983398438, 0.06867766380310058594],\n",
       "        [0.22114622592926025391, 0.97168469429016113281, 0.71247476339340209961,\n",
       "         0.59449231624603271484, 0.60540562868118286133]])"
      ]
     },
     "execution_count": 91,
     "metadata": {},
     "output_type": "execute_result"
    }
   ],
   "source": [
    "x = torch.rand(5,5)\n",
    "x"
   ]
  },
  {
   "cell_type": "code",
   "execution_count": 92,
   "id": "27432668-df9d-46c0-aeaa-b11f60e02e78",
   "metadata": {},
   "outputs": [
    {
     "data": {
      "text/plain": [
       "tensor(0.99972444772720336914)"
      ]
     },
     "execution_count": 92,
     "metadata": {},
     "output_type": "execute_result"
    }
   ],
   "source": [
    "x.max()"
   ]
  },
  {
   "cell_type": "code",
   "execution_count": 93,
   "id": "a945d71e-c26a-4804-ba2a-75ee52d40e45",
   "metadata": {},
   "outputs": [
    {
     "name": "stdout",
     "output_type": "stream",
     "text": [
      "tensor([0.99972444772720336914, 0.96720898151397705078, 0.94720840454101562500,\n",
      "        0.88467168807983398438, 0.97168469429016113281]) tensor([3, 4, 0, 3, 1])\n"
     ]
    }
   ],
   "source": [
    "values, indices = torch.max(x,dim=1)\n",
    "print(values, indices)"
   ]
  },
  {
   "cell_type": "code",
   "execution_count": 94,
   "id": "c778ef10-fea2-433c-8660-e8860d77ac38",
   "metadata": {},
   "outputs": [
    {
     "data": {
      "text/plain": [
       "tensor([[0.45020300149917602539, 0.64861249923706054688, 0.22337299585342407227,\n",
       "         0.99972444772720336914, 0.03936100006103515625],\n",
       "        [0.77408343553543090820, 0.68111294507980346680, 0.38716393709182739258,\n",
       "         0.63633412122726440430, 0.96720898151397705078],\n",
       "        [0.94720840454101562500, 0.28872084617614746094, 0.87193065881729125977,\n",
       "         0.57896256446838378906, 0.84078556299209594727],\n",
       "        [0.10274559259414672852, 0.33984267711639404297, 0.63352143764495849609,\n",
       "         0.88467168807983398438, 0.06867766380310058594],\n",
       "        [0.22114622592926025391, 0.97168469429016113281, 0.71247476339340209961,\n",
       "         0.59449231624603271484, 0.60540562868118286133]])"
      ]
     },
     "execution_count": 94,
     "metadata": {},
     "output_type": "execute_result"
    }
   ],
   "source": [
    "abs_x = torch.abs(x)\n",
    "abs_x"
   ]
  },
  {
   "cell_type": "code",
   "execution_count": 95,
   "id": "6f168aec-82f8-4b0c-b436-8109af6a7110",
   "metadata": {},
   "outputs": [
    {
     "data": {
      "text/plain": [
       "tensor([2, 4, 2, 0, 1])"
      ]
     },
     "execution_count": 95,
     "metadata": {},
     "output_type": "execute_result"
    }
   ],
   "source": [
    "z = torch.argmax(x,dim=0)\n",
    "z"
   ]
  },
  {
   "cell_type": "code",
   "execution_count": 96,
   "id": "fc8da809-7b74-4fb0-991b-b6524bb8d150",
   "metadata": {},
   "outputs": [],
   "source": [
    "def calculate_average(numbers):\n",
    "\n",
    "    assert len(numbers) > 0, \"List must not be empty\"\n",
    "\n",
    "    total = sum(numbers)\n",
    "\n",
    "    average = total / len(numbers)\n",
    "\n",
    "    return average\n",
    "\n",
    "\n",
    "\n",
    "\n",
    "data = [5, 10, 15, 20]\n",
    "\n",
    "result = calculate_average(data)"
   ]
  },
  {
   "cell_type": "code",
   "execution_count": 97,
   "id": "c099f63a-9765-4645-a220-0157eeaab516",
   "metadata": {},
   "outputs": [
    {
     "data": {
      "text/plain": [
       "12.5"
      ]
     },
     "execution_count": 97,
     "metadata": {},
     "output_type": "execute_result"
    }
   ],
   "source": [
    "result"
   ]
  },
  {
   "cell_type": "code",
   "execution_count": 98,
   "id": "d11b3a5c-cd25-4504-8c2b-0e4f0346d9c7",
   "metadata": {},
   "outputs": [
    {
     "ename": "AssertionError",
     "evalue": "",
     "output_type": "error",
     "traceback": [
      "\u001b[1;31m---------------------------------------------------------------------------\u001b[0m",
      "\u001b[1;31mAssertionError\u001b[0m                            Traceback (most recent call last)",
      "Cell \u001b[1;32mIn[98], line 2\u001b[0m\n\u001b[0;32m      1\u001b[0m x\u001b[38;5;241m=\u001b[39m\u001b[38;5;241m10\u001b[39m\n\u001b[1;32m----> 2\u001b[0m \u001b[38;5;28;01massert\u001b[39;00m x \u001b[38;5;241m==\u001b[39m \u001b[38;5;241m5\u001b[39m\n",
      "\u001b[1;31mAssertionError\u001b[0m: "
     ]
    }
   ],
   "source": [
    "\n",
    "x=10\n",
    "assert x == 5"
   ]
  },
  {
   "cell_type": "code",
   "execution_count": null,
   "id": "8db6bd8a-4c7b-45b2-95d5-61f2ea60d787",
   "metadata": {},
   "outputs": [],
   "source": [
    "assert isinstance(1.0, int)"
   ]
  },
  {
   "cell_type": "code",
   "execution_count": 99,
   "id": "4247fab7-ff55-49a0-ac67-d7c96d45eb02",
   "metadata": {},
   "outputs": [
    {
     "data": {
      "text/plain": [
       "True"
      ]
     },
     "execution_count": 99,
     "metadata": {},
     "output_type": "execute_result"
    }
   ],
   "source": [
    "isinstance([1,2,3], list)"
   ]
  },
  {
   "cell_type": "code",
   "execution_count": 100,
   "id": "662efa8a-dbab-4582-afa9-27a8787546ea",
   "metadata": {},
   "outputs": [
    {
     "ename": "AttributeError",
     "evalue": "'int' object has no attribute 'float'",
     "output_type": "error",
     "traceback": [
      "\u001b[1;31m---------------------------------------------------------------------------\u001b[0m",
      "\u001b[1;31mAttributeError\u001b[0m                            Traceback (most recent call last)",
      "Cell \u001b[1;32mIn[100], line 1\u001b[0m\n\u001b[1;32m----> 1\u001b[0m mean_x \u001b[38;5;241m=\u001b[39m torch\u001b[38;5;241m.\u001b[39mmean(\u001b[43mx\u001b[49m\u001b[38;5;241;43m.\u001b[39;49m\u001b[43mfloat\u001b[49m(),dim\u001b[38;5;241m=\u001b[39m\u001b[38;5;241m0\u001b[39m)\n\u001b[0;32m      2\u001b[0m mean_x\n",
      "\u001b[1;31mAttributeError\u001b[0m: 'int' object has no attribute 'float'"
     ]
    }
   ],
   "source": [
    "mean_x = torch.mean(x.float(),dim=0)\n",
    "mean_x"
   ]
  },
  {
   "cell_type": "code",
   "execution_count": null,
   "id": "2ca51ff0-f0b1-4bde-889e-052d5272f35f",
   "metadata": {},
   "outputs": [],
   "source": [
    "z = torch.eq(x, y)\n",
    "z"
   ]
  },
  {
   "cell_type": "code",
   "execution_count": 101,
   "id": "5ffeca61-5668-4a08-aebd-5dff64d3f103",
   "metadata": {},
   "outputs": [
    {
     "data": {
      "text/plain": [
       "tensor([9, 8, 7])"
      ]
     },
     "execution_count": 101,
     "metadata": {},
     "output_type": "execute_result"
    }
   ],
   "source": [
    "y"
   ]
  },
  {
   "cell_type": "code",
   "execution_count": 102,
   "id": "3a3bd21b-6c77-4f60-acad-f79e1f2ffd00",
   "metadata": {},
   "outputs": [
    {
     "name": "stdout",
     "output_type": "stream",
     "text": [
      "tensor([7, 8, 9]) tensor([2, 1, 0])\n"
     ]
    }
   ],
   "source": [
    "sorted_y, indices = torch.sort(y, dim=0, descending = False)\n",
    "print(sorted_y, indices)"
   ]
  },
  {
   "cell_type": "code",
   "execution_count": 103,
   "id": "16491e99-d8ca-4237-9101-22681a9d346f",
   "metadata": {},
   "outputs": [
    {
     "ename": "TypeError",
     "evalue": "clamp() received an invalid combination of arguments - got (int, min=int, max=int), but expected one of:\n * (Tensor input, Tensor min, Tensor max, *, Tensor out)\n * (Tensor input, Number min, Number max, *, Tensor out)\n",
     "output_type": "error",
     "traceback": [
      "\u001b[1;31m---------------------------------------------------------------------------\u001b[0m",
      "\u001b[1;31mTypeError\u001b[0m                                 Traceback (most recent call last)",
      "Cell \u001b[1;32mIn[103], line 1\u001b[0m\n\u001b[1;32m----> 1\u001b[0m z \u001b[38;5;241m=\u001b[39m \u001b[43mtorch\u001b[49m\u001b[38;5;241;43m.\u001b[39;49m\u001b[43mclamp\u001b[49m\u001b[43m(\u001b[49m\u001b[43mx\u001b[49m\u001b[43m,\u001b[49m\u001b[43m \u001b[49m\u001b[38;5;28;43mmin\u001b[39;49m\u001b[38;5;241;43m=\u001b[39;49m\u001b[38;5;241;43m0\u001b[39;49m\u001b[43m,\u001b[49m\u001b[43m \u001b[49m\u001b[38;5;28;43mmax\u001b[39;49m\u001b[38;5;241;43m=\u001b[39;49m\u001b[38;5;241;43m10\u001b[39;49m\u001b[43m)\u001b[49m\n\u001b[0;32m      2\u001b[0m z\n",
      "\u001b[1;31mTypeError\u001b[0m: clamp() received an invalid combination of arguments - got (int, min=int, max=int), but expected one of:\n * (Tensor input, Tensor min, Tensor max, *, Tensor out)\n * (Tensor input, Number min, Number max, *, Tensor out)\n"
     ]
    }
   ],
   "source": [
    "z = torch.clamp(x, min=0, max=10)\n",
    "z"
   ]
  },
  {
   "cell_type": "code",
   "execution_count": 104,
   "id": "1f36009b-cbbb-4e4e-b1c6-c0d0f9ae1938",
   "metadata": {},
   "outputs": [
    {
     "data": {
      "text/plain": [
       "array([ 0,  2,  4,  6,  8, 10])"
      ]
     },
     "execution_count": 104,
     "metadata": {},
     "output_type": "execute_result"
    }
   ],
   "source": [
    "a = np.arange(0,12,2)\n",
    "a"
   ]
  },
  {
   "cell_type": "code",
   "execution_count": 105,
   "id": "798a0780-adef-4a09-8da6-16e836c38a10",
   "metadata": {},
   "outputs": [
    {
     "data": {
      "text/plain": [
       "array([3, 3, 4, 6, 6, 6])"
      ]
     },
     "execution_count": 105,
     "metadata": {},
     "output_type": "execute_result"
    }
   ],
   "source": [
    "np.clip(a,3,6)"
   ]
  },
  {
   "cell_type": "code",
   "execution_count": 106,
   "id": "330cebbb-5dfb-4144-b749-89beae88f1c7",
   "metadata": {},
   "outputs": [
    {
     "data": {
      "text/plain": [
       "tensor([ True, False,  True,  True,  True])"
      ]
     },
     "execution_count": 106,
     "metadata": {},
     "output_type": "execute_result"
    }
   ],
   "source": [
    "x = torch.tensor([1,0,1,1,1], dtype= torch.bool)\n",
    "x"
   ]
  },
  {
   "cell_type": "code",
   "execution_count": 107,
   "id": "0533d0b5-20fd-4b3b-89d6-9ee751cc090a",
   "metadata": {},
   "outputs": [
    {
     "data": {
      "text/plain": [
       "tensor(True)"
      ]
     },
     "execution_count": 107,
     "metadata": {},
     "output_type": "execute_result"
    }
   ],
   "source": [
    "z = torch.any(x)\n",
    "z"
   ]
  },
  {
   "cell_type": "code",
   "execution_count": 108,
   "id": "57f16992-3efe-479f-ab1b-94154de05ef4",
   "metadata": {},
   "outputs": [
    {
     "data": {
      "text/plain": [
       "tensor(False)"
      ]
     },
     "execution_count": 108,
     "metadata": {},
     "output_type": "execute_result"
    }
   ],
   "source": [
    "z = torch.all(x) # False\n",
    "z"
   ]
  },
  {
   "cell_type": "markdown",
   "id": "9f27335b-b65d-414c-b3d1-3f9cb22ed065",
   "metadata": {},
   "source": [
    "### Indexing in tensor"
   ]
  },
  {
   "cell_type": "code",
   "execution_count": 109,
   "id": "ef67134b-ff82-4549-9d20-68e13a2d0463",
   "metadata": {},
   "outputs": [
    {
     "data": {
      "text/plain": [
       "tensor([[0.91145020723342895508, 0.91879111528396606445, 0.66864615678787231445,\n",
       "         0.34711861610412597656, 0.51953822374343872070, 0.65091961622238159180,\n",
       "         0.58027422428131103516, 0.68268358707427978516, 0.00802123546600341797,\n",
       "         0.96689987182617187500, 0.78224796056747436523, 0.98643881082534790039,\n",
       "         0.93564647436141967773, 0.07125794887542724609, 0.35410767793655395508,\n",
       "         0.27263253927230834961, 0.38410377502441406250, 0.53468984365463256836,\n",
       "         0.26161128282546997070, 0.64905220270156860352, 0.33681535720825195312,\n",
       "         0.95821255445480346680, 0.01495915651321411133, 0.05026966333389282227,\n",
       "         0.78720527887344360352],\n",
       "        [0.48368155956268310547, 0.56521767377853393555, 0.25719964504241943359,\n",
       "         0.05012834072113037109, 0.86752778291702270508, 0.73616957664489746094,\n",
       "         0.58378678560256958008, 0.29854214191436767578, 0.13052845001220703125,\n",
       "         0.80770295858383178711, 0.44514811038970947266, 0.36443257331848144531,\n",
       "         0.21533483266830444336, 0.70084017515182495117, 0.38021159172058105469,\n",
       "         0.65254479646682739258, 0.76776456832885742188, 0.98050558567047119141,\n",
       "         0.06110441684722900391, 0.40852028131484985352, 0.82682800292968750000,\n",
       "         0.14257985353469848633, 0.51709562540054321289, 0.49868696928024291992,\n",
       "         0.16527718305587768555],\n",
       "        [0.16937851905822753906, 0.05866962671279907227, 0.65438932180404663086,\n",
       "         0.87726026773452758789, 0.90567874908447265625, 0.67425644397735595703,\n",
       "         0.31147462129592895508, 0.03502738475799560547, 0.50873529911041259766,\n",
       "         0.10452842712402343750, 0.70685982704162597656, 0.17650240659713745117,\n",
       "         0.32597810029983520508, 0.14507383108139038086, 0.17218202352523803711,\n",
       "         0.20908701419830322266, 0.60595130920410156250, 0.31877386569976806641,\n",
       "         0.90135121345520019531, 0.23967057466506958008, 0.00207436084747314453,\n",
       "         0.13734978437423706055, 0.75052303075790405273, 0.14751535654067993164,\n",
       "         0.98713344335556030273],\n",
       "        [0.27419370412826538086, 0.43183541297912597656, 0.97311943769454956055,\n",
       "         0.16068500280380249023, 0.82556134462356567383, 0.77928203344345092773,\n",
       "         0.98090583086013793945, 0.87193709611892700195, 0.98098993301391601562,\n",
       "         0.60218954086303710938, 0.82459467649459838867, 0.83897054195404052734,\n",
       "         0.22754067182540893555, 0.21329498291015625000, 0.97812813520431518555,\n",
       "         0.52110099792480468750, 0.85079175233840942383, 0.07416772842407226562,\n",
       "         0.06926846504211425781, 0.38637101650238037109, 0.74551790952682495117,\n",
       "         0.51588320732116699219, 0.17692053318023681641, 0.73295283317565917969,\n",
       "         0.51692128181457519531],\n",
       "        [0.88841283321380615234, 0.73080080747604370117, 0.86413073539733886719,\n",
       "         0.52038258314132690430, 0.07310968637466430664, 0.39090096950531005859,\n",
       "         0.46093744039535522461, 0.24001842737197875977, 0.07598757743835449219,\n",
       "         0.94168901443481445312, 0.93729841709136962891, 0.08414345979690551758,\n",
       "         0.67621123790740966797, 0.14572209119796752930, 0.32218694686889648438,\n",
       "         0.04390603303909301758, 0.46285188198089599609, 0.26910048723220825195,\n",
       "         0.65253573656082153320, 0.90115177631378173828, 0.28866159915924072266,\n",
       "         0.30547368526458740234, 0.83037912845611572266, 0.33285713195800781250,\n",
       "         0.12597036361694335938],\n",
       "        [0.47766649723052978516, 0.23475086688995361328, 0.36772006750106811523,\n",
       "         0.87608718872070312500, 0.05517673492431640625, 0.17504674196243286133,\n",
       "         0.09790098667144775391, 0.07877445220947265625, 0.73036557435989379883,\n",
       "         0.55094522237777709961, 0.62891560792922973633, 0.74826502799987792969,\n",
       "         0.03679376840591430664, 0.42242813110351562500, 0.00220847129821777344,\n",
       "         0.58555811643600463867, 0.31359201669692993164, 0.48747098445892333984,\n",
       "         0.59002679586410522461, 0.43023103475570678711, 0.73107337951660156250,\n",
       "         0.52730101346969604492, 0.26552689075469970703, 0.17838394641876220703,\n",
       "         0.29881906509399414062],\n",
       "        [0.67396295070648193359, 0.92042744159698486328, 0.12028199434280395508,\n",
       "         0.12638139724731445312, 0.10422968864440917969, 0.92186111211776733398,\n",
       "         0.49161309003829956055, 0.45801228284835815430, 0.85997587442398071289,\n",
       "         0.57673972845077514648, 0.93537366390228271484, 0.85524821281433105469,\n",
       "         0.62901574373245239258, 0.13726013898849487305, 0.75758457183837890625,\n",
       "         0.89021587371826171875, 0.74489390850067138672, 0.26868915557861328125,\n",
       "         0.78538703918457031250, 0.86640071868896484375, 0.12451821565628051758,\n",
       "         0.71449142694473266602, 0.10930323600769042969, 0.44392204284667968750,\n",
       "         0.27893561124801635742],\n",
       "        [0.98020356893539428711, 0.37731230258941650391, 0.26869136095046997070,\n",
       "         0.44819152355194091797, 0.82409274578094482422, 0.44486385583877563477,\n",
       "         0.07613235712051391602, 0.14275699853897094727, 0.30163294076919555664,\n",
       "         0.76023995876312255859, 0.58020126819610595703, 0.95463675260543823242,\n",
       "         0.98341101408004760742, 0.35980188846588134766, 0.20951521396636962891,\n",
       "         0.39997935295104980469, 0.70984447002410888672, 0.22859364748001098633,\n",
       "         0.41894602775573730469, 0.51259315013885498047, 0.34905081987380981445,\n",
       "         0.53602766990661621094, 0.74391365051269531250, 0.83096426725387573242,\n",
       "         0.13177037239074707031],\n",
       "        [0.81761193275451660156, 0.21094745397567749023, 0.55103331804275512695,\n",
       "         0.71344602108001708984, 0.93240845203399658203, 0.94890636205673217773,\n",
       "         0.56418454647064208984, 0.31726598739624023438, 0.54858273267745971680,\n",
       "         0.37314927577972412109, 0.71133363246917724609, 0.12497937679290771484,\n",
       "         0.40697365999221801758, 0.22117024660110473633, 0.61512410640716552734,\n",
       "         0.88995772600173950195, 0.99166589975357055664, 0.90697687864303588867,\n",
       "         0.87064224481582641602, 0.87783247232437133789, 0.33648645877838134766,\n",
       "         0.08876478672027587891, 0.64594042301177978516, 0.06525391340255737305,\n",
       "         0.78470939397811889648],\n",
       "        [0.19412636756896972656, 0.20101636648178100586, 0.35692310333251953125,\n",
       "         0.86363011598587036133, 0.49778264760971069336, 0.60778546333312988281,\n",
       "         0.00902724266052246094, 0.12921214103698730469, 0.24232459068298339844,\n",
       "         0.43687677383422851562, 0.42343056201934814453, 0.53734433650970458984,\n",
       "         0.56885319948196411133, 0.63218158483505249023, 0.55087447166442871094,\n",
       "         0.11308801174163818359, 0.68515175580978393555, 0.47409403324127197266,\n",
       "         0.56608259677886962891, 0.20929604768753051758, 0.93377327919006347656,\n",
       "         0.09946352243423461914, 0.60338234901428222656, 0.06731510162353515625,\n",
       "         0.83644461631774902344]])"
      ]
     },
     "execution_count": 109,
     "metadata": {},
     "output_type": "execute_result"
    }
   ],
   "source": [
    "batch = 10\n",
    "features = 25\n",
    "\n",
    "x = torch.rand((batch, features))\n",
    "x"
   ]
  },
  {
   "cell_type": "code",
   "execution_count": 110,
   "id": "5b695f76-f7b8-4c4f-85a7-11b0fb24c816",
   "metadata": {},
   "outputs": [
    {
     "data": {
      "text/plain": [
       "tensor([0.91145020723342895508, 0.91879111528396606445, 0.66864615678787231445,\n",
       "        0.34711861610412597656, 0.51953822374343872070, 0.65091961622238159180,\n",
       "        0.58027422428131103516, 0.68268358707427978516, 0.00802123546600341797,\n",
       "        0.96689987182617187500, 0.78224796056747436523, 0.98643881082534790039,\n",
       "        0.93564647436141967773, 0.07125794887542724609, 0.35410767793655395508,\n",
       "        0.27263253927230834961, 0.38410377502441406250, 0.53468984365463256836,\n",
       "        0.26161128282546997070, 0.64905220270156860352, 0.33681535720825195312,\n",
       "        0.95821255445480346680, 0.01495915651321411133, 0.05026966333389282227,\n",
       "        0.78720527887344360352])"
      ]
     },
     "execution_count": 110,
     "metadata": {},
     "output_type": "execute_result"
    }
   ],
   "source": [
    "x[0]"
   ]
  },
  {
   "cell_type": "code",
   "execution_count": 111,
   "id": "40e5e05a-89fc-4b57-b75c-15a3c9b3f431",
   "metadata": {},
   "outputs": [
    {
     "data": {
      "text/plain": [
       "torch.Size([25])"
      ]
     },
     "execution_count": 111,
     "metadata": {},
     "output_type": "execute_result"
    }
   ],
   "source": [
    "x[0].shape"
   ]
  },
  {
   "cell_type": "code",
   "execution_count": 112,
   "id": "843aae94-dcb6-473b-8ec2-71bad2438457",
   "metadata": {},
   "outputs": [
    {
     "data": {
      "text/plain": [
       "tensor([0.91145020723342895508, 0.48368155956268310547, 0.16937851905822753906,\n",
       "        0.27419370412826538086, 0.88841283321380615234, 0.47766649723052978516,\n",
       "        0.67396295070648193359, 0.98020356893539428711, 0.81761193275451660156,\n",
       "        0.19412636756896972656])"
      ]
     },
     "execution_count": 112,
     "metadata": {},
     "output_type": "execute_result"
    }
   ],
   "source": [
    "x[:,0]"
   ]
  },
  {
   "cell_type": "code",
   "execution_count": 113,
   "id": "40072c8f-edf0-48a9-9638-1b4740f22bc9",
   "metadata": {},
   "outputs": [
    {
     "data": {
      "text/plain": [
       "torch.Size([10])"
      ]
     },
     "execution_count": 113,
     "metadata": {},
     "output_type": "execute_result"
    }
   ],
   "source": [
    "x[:,0].shape"
   ]
  },
  {
   "cell_type": "code",
   "execution_count": 114,
   "id": "d34dd197-771e-45e0-9ea1-9cf5acc24d58",
   "metadata": {},
   "outputs": [
    {
     "data": {
      "text/plain": [
       "tensor([0.16937851905822753906, 0.05866962671279907227, 0.65438932180404663086,\n",
       "        0.87726026773452758789, 0.90567874908447265625, 0.67425644397735595703,\n",
       "        0.31147462129592895508, 0.03502738475799560547, 0.50873529911041259766,\n",
       "        0.10452842712402343750, 0.70685982704162597656, 0.17650240659713745117,\n",
       "        0.32597810029983520508, 0.14507383108139038086, 0.17218202352523803711,\n",
       "        0.20908701419830322266, 0.60595130920410156250, 0.31877386569976806641,\n",
       "        0.90135121345520019531, 0.23967057466506958008, 0.00207436084747314453,\n",
       "        0.13734978437423706055, 0.75052303075790405273, 0.14751535654067993164,\n",
       "        0.98713344335556030273])"
      ]
     },
     "execution_count": 114,
     "metadata": {},
     "output_type": "execute_result"
    }
   ],
   "source": [
    "\n",
    "x[2]"
   ]
  },
  {
   "cell_type": "code",
   "execution_count": 115,
   "id": "0b86cb79-f5da-4cfa-ab22-1eaaa8856bbc",
   "metadata": {},
   "outputs": [
    {
     "data": {
      "text/plain": [
       "tensor([0.16937851905822753906, 0.05866962671279907227, 0.65438932180404663086,\n",
       "        0.87726026773452758789, 0.90567874908447265625, 0.67425644397735595703,\n",
       "        0.31147462129592895508, 0.03502738475799560547, 0.50873529911041259766,\n",
       "        0.10452842712402343750])"
      ]
     },
     "execution_count": 115,
     "metadata": {},
     "output_type": "execute_result"
    }
   ],
   "source": [
    "x[2,:10]"
   ]
  },
  {
   "cell_type": "code",
   "execution_count": 116,
   "id": "56c4aece-bda1-44a7-8f06-b8543d3b3b1a",
   "metadata": {},
   "outputs": [
    {
     "data": {
      "text/plain": [
       "tensor([[1.00000000000000000000e+02, 9.18791115283966064453e-01,\n",
       "         6.68646156787872314453e-01, 3.47118616104125976562e-01,\n",
       "         5.19538223743438720703e-01, 6.50919616222381591797e-01,\n",
       "         5.80274224281311035156e-01, 6.82683587074279785156e-01,\n",
       "         8.02123546600341796875e-03, 9.66899871826171875000e-01,\n",
       "         7.82247960567474365234e-01, 9.86438810825347900391e-01,\n",
       "         9.35646474361419677734e-01, 7.12579488754272460938e-02,\n",
       "         3.54107677936553955078e-01, 2.72632539272308349609e-01,\n",
       "         3.84103775024414062500e-01, 5.34689843654632568359e-01,\n",
       "         2.61611282825469970703e-01, 6.49052202701568603516e-01,\n",
       "         3.36815357208251953125e-01, 9.58212554454803466797e-01,\n",
       "         1.49591565132141113281e-02, 5.02696633338928222656e-02,\n",
       "         7.87205278873443603516e-01],\n",
       "        [4.83681559562683105469e-01, 5.65217673778533935547e-01,\n",
       "         2.57199645042419433594e-01, 5.01283407211303710938e-02,\n",
       "         8.67527782917022705078e-01, 7.36169576644897460938e-01,\n",
       "         5.83786785602569580078e-01, 2.98542141914367675781e-01,\n",
       "         1.30528450012207031250e-01, 8.07702958583831787109e-01,\n",
       "         4.45148110389709472656e-01, 3.64432573318481445312e-01,\n",
       "         2.15334832668304443359e-01, 7.00840175151824951172e-01,\n",
       "         3.80211591720581054688e-01, 6.52544796466827392578e-01,\n",
       "         7.67764568328857421875e-01, 9.80505585670471191406e-01,\n",
       "         6.11044168472290039062e-02, 4.08520281314849853516e-01,\n",
       "         8.26828002929687500000e-01, 1.42579853534698486328e-01,\n",
       "         5.17095625400543212891e-01, 4.98686969280242919922e-01,\n",
       "         1.65277183055877685547e-01],\n",
       "        [1.69378519058227539062e-01, 5.86696267127990722656e-02,\n",
       "         6.54389321804046630859e-01, 8.77260267734527587891e-01,\n",
       "         9.05678749084472656250e-01, 6.74256443977355957031e-01,\n",
       "         3.11474621295928955078e-01, 3.50273847579956054688e-02,\n",
       "         5.08735299110412597656e-01, 1.04528427124023437500e-01,\n",
       "         7.06859827041625976562e-01, 1.76502406597137451172e-01,\n",
       "         3.25978100299835205078e-01, 1.45073831081390380859e-01,\n",
       "         1.72182023525238037109e-01, 2.09087014198303222656e-01,\n",
       "         6.05951309204101562500e-01, 3.18773865699768066406e-01,\n",
       "         9.01351213455200195312e-01, 2.39670574665069580078e-01,\n",
       "         2.07436084747314453125e-03, 1.37349784374237060547e-01,\n",
       "         7.50523030757904052734e-01, 1.47515356540679931641e-01,\n",
       "         9.87133443355560302734e-01],\n",
       "        [2.74193704128265380859e-01, 4.31835412979125976562e-01,\n",
       "         9.73119437694549560547e-01, 1.60685002803802490234e-01,\n",
       "         8.25561344623565673828e-01, 7.79282033443450927734e-01,\n",
       "         9.80905830860137939453e-01, 8.71937096118927001953e-01,\n",
       "         9.80989933013916015625e-01, 6.02189540863037109375e-01,\n",
       "         8.24594676494598388672e-01, 8.38970541954040527344e-01,\n",
       "         2.27540671825408935547e-01, 2.13294982910156250000e-01,\n",
       "         9.78128135204315185547e-01, 5.21100997924804687500e-01,\n",
       "         8.50791752338409423828e-01, 7.41677284240722656250e-02,\n",
       "         6.92684650421142578125e-02, 3.86371016502380371094e-01,\n",
       "         7.45517909526824951172e-01, 5.15883207321166992188e-01,\n",
       "         1.76920533180236816406e-01, 7.32952833175659179688e-01,\n",
       "         5.16921281814575195312e-01],\n",
       "        [8.88412833213806152344e-01, 7.30800807476043701172e-01,\n",
       "         8.64130735397338867188e-01, 5.20382583141326904297e-01,\n",
       "         7.31096863746643066406e-02, 3.90900969505310058594e-01,\n",
       "         4.60937440395355224609e-01, 2.40018427371978759766e-01,\n",
       "         7.59875774383544921875e-02, 9.41689014434814453125e-01,\n",
       "         9.37298417091369628906e-01, 8.41434597969055175781e-02,\n",
       "         6.76211237907409667969e-01, 1.45722091197967529297e-01,\n",
       "         3.22186946868896484375e-01, 4.39060330390930175781e-02,\n",
       "         4.62851881980895996094e-01, 2.69100487232208251953e-01,\n",
       "         6.52535736560821533203e-01, 9.01151776313781738281e-01,\n",
       "         2.88661599159240722656e-01, 3.05473685264587402344e-01,\n",
       "         8.30379128456115722656e-01, 3.32857131958007812500e-01,\n",
       "         1.25970363616943359375e-01],\n",
       "        [4.77666497230529785156e-01, 2.34750866889953613281e-01,\n",
       "         3.67720067501068115234e-01, 8.76087188720703125000e-01,\n",
       "         5.51767349243164062500e-02, 1.75046741962432861328e-01,\n",
       "         9.79009866714477539062e-02, 7.87744522094726562500e-02,\n",
       "         7.30365574359893798828e-01, 5.50945222377777099609e-01,\n",
       "         6.28915607929229736328e-01, 7.48265027999877929688e-01,\n",
       "         3.67937684059143066406e-02, 4.22428131103515625000e-01,\n",
       "         2.20847129821777343750e-03, 5.85558116436004638672e-01,\n",
       "         3.13592016696929931641e-01, 4.87470984458923339844e-01,\n",
       "         5.90026795864105224609e-01, 4.30231034755706787109e-01,\n",
       "         7.31073379516601562500e-01, 5.27301013469696044922e-01,\n",
       "         2.65526890754699707031e-01, 1.78383946418762207031e-01,\n",
       "         2.98819065093994140625e-01],\n",
       "        [6.73962950706481933594e-01, 9.20427441596984863281e-01,\n",
       "         1.20281994342803955078e-01, 1.26381397247314453125e-01,\n",
       "         1.04229688644409179688e-01, 9.21861112117767333984e-01,\n",
       "         4.91613090038299560547e-01, 4.58012282848358154297e-01,\n",
       "         8.59975874423980712891e-01, 5.76739728450775146484e-01,\n",
       "         9.35373663902282714844e-01, 8.55248212814331054688e-01,\n",
       "         6.29015743732452392578e-01, 1.37260138988494873047e-01,\n",
       "         7.57584571838378906250e-01, 8.90215873718261718750e-01,\n",
       "         7.44893908500671386719e-01, 2.68689155578613281250e-01,\n",
       "         7.85387039184570312500e-01, 8.66400718688964843750e-01,\n",
       "         1.24518215656280517578e-01, 7.14491426944732666016e-01,\n",
       "         1.09303236007690429688e-01, 4.43922042846679687500e-01,\n",
       "         2.78935611248016357422e-01],\n",
       "        [9.80203568935394287109e-01, 3.77312302589416503906e-01,\n",
       "         2.68691360950469970703e-01, 4.48191523551940917969e-01,\n",
       "         8.24092745780944824219e-01, 4.44863855838775634766e-01,\n",
       "         7.61323571205139160156e-02, 1.42756998538970947266e-01,\n",
       "         3.01632940769195556641e-01, 7.60239958763122558594e-01,\n",
       "         5.80201268196105957031e-01, 9.54636752605438232422e-01,\n",
       "         9.83411014080047607422e-01, 3.59801888465881347656e-01,\n",
       "         2.09515213966369628906e-01, 3.99979352951049804688e-01,\n",
       "         7.09844470024108886719e-01, 2.28593647480010986328e-01,\n",
       "         4.18946027755737304688e-01, 5.12593150138854980469e-01,\n",
       "         3.49050819873809814453e-01, 5.36027669906616210938e-01,\n",
       "         7.43913650512695312500e-01, 8.30964267253875732422e-01,\n",
       "         1.31770372390747070312e-01],\n",
       "        [8.17611932754516601562e-01, 2.10947453975677490234e-01,\n",
       "         5.51033318042755126953e-01, 7.13446021080017089844e-01,\n",
       "         9.32408452033996582031e-01, 9.48906362056732177734e-01,\n",
       "         5.64184546470642089844e-01, 3.17265987396240234375e-01,\n",
       "         5.48582732677459716797e-01, 3.73149275779724121094e-01,\n",
       "         7.11333632469177246094e-01, 1.24979376792907714844e-01,\n",
       "         4.06973659992218017578e-01, 2.21170246601104736328e-01,\n",
       "         6.15124106407165527344e-01, 8.89957726001739501953e-01,\n",
       "         9.91665899753570556641e-01, 9.06976878643035888672e-01,\n",
       "         8.70642244815826416016e-01, 8.77832472324371337891e-01,\n",
       "         3.36486458778381347656e-01, 8.87647867202758789062e-02,\n",
       "         6.45940423011779785156e-01, 6.52539134025573730469e-02,\n",
       "         7.84709393978118896484e-01],\n",
       "        [1.94126367568969726562e-01, 2.01016366481781005859e-01,\n",
       "         3.56923103332519531250e-01, 8.63630115985870361328e-01,\n",
       "         4.97782647609710693359e-01, 6.07785463333129882812e-01,\n",
       "         9.02724266052246093750e-03, 1.29212141036987304688e-01,\n",
       "         2.42324590682983398438e-01, 4.36876773834228515625e-01,\n",
       "         4.23430562019348144531e-01, 5.37344336509704589844e-01,\n",
       "         5.68853199481964111328e-01, 6.32181584835052490234e-01,\n",
       "         5.50874471664428710938e-01, 1.13088011741638183594e-01,\n",
       "         6.85151755809783935547e-01, 4.74094033241271972656e-01,\n",
       "         5.66082596778869628906e-01, 2.09296047687530517578e-01,\n",
       "         9.33773279190063476562e-01, 9.94635224342346191406e-02,\n",
       "         6.03382349014282226562e-01, 6.73151016235351562500e-02,\n",
       "         8.36444616317749023438e-01]])"
      ]
     },
     "execution_count": 116,
     "metadata": {},
     "output_type": "execute_result"
    }
   ],
   "source": [
    "x[0,0] =100\n",
    "x"
   ]
  },
  {
   "cell_type": "code",
   "execution_count": 117,
   "id": "da308ef5-ea49-465b-879f-a787f51bf981",
   "metadata": {},
   "outputs": [
    {
     "data": {
      "text/plain": [
       "tensor([ 1,  2,  3,  4,  5,  6,  7,  8,  9, 10, 11])"
      ]
     },
     "execution_count": 117,
     "metadata": {},
     "output_type": "execute_result"
    }
   ],
   "source": [
    "# fancy\n",
    "\n",
    "x = torch.arange(1,12)\n",
    "x"
   ]
  },
  {
   "cell_type": "code",
   "execution_count": 118,
   "id": "00d4b1e4-731c-4d80-a077-a41cdf460135",
   "metadata": {},
   "outputs": [
    {
     "data": {
      "text/plain": [
       "tensor([3, 6, 9])"
      ]
     },
     "execution_count": 118,
     "metadata": {},
     "output_type": "execute_result"
    }
   ],
   "source": [
    "indices = [2,5,8]\n",
    "x[indices]"
   ]
  },
  {
   "cell_type": "code",
   "execution_count": 119,
   "id": "48c294e4-4dcf-455e-9e4e-fc150ed76e04",
   "metadata": {},
   "outputs": [
    {
     "data": {
      "text/plain": [
       "tensor([0.54710936546325683594, 0.80069446563720703125])"
      ]
     },
     "execution_count": 119,
     "metadata": {},
     "output_type": "execute_result"
    }
   ],
   "source": [
    "x = torch.rand((3,5))\n",
    "rows = torch.tensor([1,0])\n",
    "cols = torch.tensor([4,0])\n",
    "x[rows,cols]"
   ]
  },
  {
   "cell_type": "code",
   "execution_count": 120,
   "id": "8bcedbac-ebb0-4fae-a34f-0f250deff5b3",
   "metadata": {},
   "outputs": [
    {
     "data": {
      "text/plain": [
       "tensor([[0.80069446563720703125, 0.98132759332656860352, 0.15190464258193969727,\n",
       "         0.64598220586776733398, 0.65508323907852172852],\n",
       "        [0.44693064689636230469, 0.84109878540039062500, 0.54080671072006225586,\n",
       "         0.61450624465942382812, 0.54710936546325683594],\n",
       "        [0.21031147241592407227, 0.24319493770599365234, 0.59765046834945678711,\n",
       "         0.62335258722305297852, 0.11426550149917602539]])"
      ]
     },
     "execution_count": 120,
     "metadata": {},
     "output_type": "execute_result"
    }
   ],
   "source": [
    "x"
   ]
  },
  {
   "cell_type": "code",
   "execution_count": 121,
   "id": "2a8aa8f0-8598-4c5c-bcd9-c1c26c2aad8e",
   "metadata": {},
   "outputs": [
    {
     "data": {
      "text/plain": [
       "tensor([0.54710936546325683594, 0.80069446563720703125, 0.54080671072006225586,\n",
       "        0.21031147241592407227])"
      ]
     },
     "execution_count": 121,
     "metadata": {},
     "output_type": "execute_result"
    }
   ],
   "source": [
    "rows = torch.tensor([1,0,1,2])\n",
    "cols = torch.tensor([4,0,2,0])\n",
    "x[rows,cols]"
   ]
  },
  {
   "cell_type": "code",
   "execution_count": 102,
   "id": "8b437802-8e27-42f4-b790-91ec8033a675",
   "metadata": {},
   "outputs": [
    {
     "data": {
      "text/plain": [
       "tensor([0, 1, 2, 3, 4, 5, 6, 7, 8, 9])"
      ]
     },
     "execution_count": 102,
     "metadata": {},
     "output_type": "execute_result"
    }
   ],
   "source": [
    "x = torch.arange(10)\n",
    "x"
   ]
  },
  {
   "cell_type": "code",
   "execution_count": 123,
   "id": "89455960-2345-4626-85e7-889055a271c6",
   "metadata": {},
   "outputs": [
    {
     "data": {
      "text/plain": [
       "tensor([0, 1, 9])"
      ]
     },
     "execution_count": 123,
     "metadata": {},
     "output_type": "execute_result"
    }
   ],
   "source": [
    "x[(x<2) | (x>8)]"
   ]
  },
  {
   "cell_type": "code",
   "execution_count": 124,
   "id": "c8a62b04-7349-40ca-8c9e-6aea672efdf8",
   "metadata": {},
   "outputs": [
    {
     "data": {
      "text/plain": [
       "tensor([], dtype=torch.int64)"
      ]
     },
     "execution_count": 124,
     "metadata": {},
     "output_type": "execute_result"
    }
   ],
   "source": [
    "x[(x<2) & (x>8)]"
   ]
  },
  {
   "cell_type": "code",
   "execution_count": 125,
   "id": "4da5ba17-5a33-4a32-8524-cab4454d01c4",
   "metadata": {},
   "outputs": [
    {
     "data": {
      "text/plain": [
       "tensor([0, 2, 4, 6, 8])"
      ]
     },
     "execution_count": 125,
     "metadata": {},
     "output_type": "execute_result"
    }
   ],
   "source": [
    "x[x.remainder(2) == 0]"
   ]
  },
  {
   "cell_type": "code",
   "execution_count": 126,
   "id": "72763e60-ccc7-44bb-b9ac-e420b2a0eeb4",
   "metadata": {},
   "outputs": [],
   "source": [
    "# Useful operator "
   ]
  },
  {
   "cell_type": "code",
   "execution_count": 127,
   "id": "415289df-22fd-4992-99bd-fdf73b7a8070",
   "metadata": {},
   "outputs": [
    {
     "data": {
      "text/plain": [
       "tensor([0, 1, 2, 3, 4, 5, 6, 7, 8, 9])"
      ]
     },
     "execution_count": 127,
     "metadata": {},
     "output_type": "execute_result"
    }
   ],
   "source": [
    "x.abs()"
   ]
  },
  {
   "cell_type": "code",
   "execution_count": 104,
   "id": "bc2b86b9-9be9-49e8-8d9f-a3409a3172c0",
   "metadata": {},
   "outputs": [
    {
     "name": "stdout",
     "output_type": "stream",
     "text": [
      "tensor(0) tensor(1) tensor(2) tensor(3) tensor(4) tensor(5) tensor(6) tensor(7) tensor(8) tensor(9)\n"
     ]
    }
   ],
   "source": [
    "print(*[x for x in x.abs_()])"
   ]
  },
  {
   "cell_type": "code",
   "execution_count": 108,
   "id": "d853cd96-3b97-414b-8fec-5636adc4320b",
   "metadata": {},
   "outputs": [
    {
     "ename": "SyntaxError",
     "evalue": "cannot assign to Ellipsis (54013363.py, line 1)",
     "output_type": "error",
     "traceback": [
      "\u001b[1;36m  Cell \u001b[1;32mIn[108], line 1\u001b[1;36m\u001b[0m\n\u001b[1;33m    a,... = [x for x in x.abs_()]\u001b[0m\n\u001b[1;37m      ^\u001b[0m\n\u001b[1;31mSyntaxError\u001b[0m\u001b[1;31m:\u001b[0m cannot assign to Ellipsis\n"
     ]
    }
   ],
   "source": [
    "a,... = [x for x in x.abs_()]"
   ]
  },
  {
   "cell_type": "code",
   "execution_count": 129,
   "id": "93383994-8052-4ac5-9994-c8db26c001fe",
   "metadata": {},
   "outputs": [
    {
     "name": "stdout",
     "output_type": "stream",
     "text": [
      "1 2 3 4 5 6\n"
     ]
    }
   ],
   "source": [
    "l = [1,2,3,4,5,6]\n",
    "print(*l)"
   ]
  },
  {
   "cell_type": "code",
   "execution_count": 130,
   "id": "c0317ba9-9618-4d78-9e3c-de97f048b3a9",
   "metadata": {},
   "outputs": [
    {
     "data": {
      "text/plain": [
       "tensor([0, 1, 2, 3, 4, 5, 6, 7, 8, 9])"
      ]
     },
     "execution_count": 130,
     "metadata": {},
     "output_type": "execute_result"
    }
   ],
   "source": [
    "x.abs_()"
   ]
  },
  {
   "cell_type": "code",
   "execution_count": 131,
   "id": "ca762e73-3c49-4cdd-b89a-661cf1b9aa35",
   "metadata": {},
   "outputs": [
    {
     "data": {
      "text/plain": [
       "tensor([0, 1, 2, 3, 4, 5, 6, 7, 8, 9])"
      ]
     },
     "execution_count": 131,
     "metadata": {},
     "output_type": "execute_result"
    }
   ],
   "source": [
    "x.absolute()"
   ]
  },
  {
   "cell_type": "code",
   "execution_count": 132,
   "id": "d1df20cb-cf4f-433f-b874-e95e0fb836e4",
   "metadata": {},
   "outputs": [
    {
     "data": {
      "text/plain": [
       "tensor([1.57079637050628662109, 0.00000000000000000000,                    nan,\n",
       "                           nan,                    nan,                    nan,\n",
       "                           nan,                    nan,                    nan,\n",
       "                           nan])"
      ]
     },
     "execution_count": 132,
     "metadata": {},
     "output_type": "execute_result"
    }
   ],
   "source": [
    "x.acos()"
   ]
  },
  {
   "cell_type": "code",
   "execution_count": 133,
   "id": "55ec9ab6-274f-4d58-b74b-c9969f4caef3",
   "metadata": {},
   "outputs": [
    {
     "data": {
      "text/plain": [
       "tensor([                   nan, 0.00000000000000000000, 1.31695795059204101562,\n",
       "        1.76274716854095458984, 2.06343698501586914062, 2.29243159294128417969,\n",
       "        2.47788882255554199219, 2.63391590118408203125, 2.76865935325622558594,\n",
       "        2.88727092742919921875])"
      ]
     },
     "execution_count": 133,
     "metadata": {},
     "output_type": "execute_result"
    }
   ],
   "source": [
    "x.acosh()"
   ]
  },
  {
   "cell_type": "code",
   "execution_count": 134,
   "id": "641a50db-d789-4bd1-87e5-6b355ebd960e",
   "metadata": {},
   "outputs": [
    {
     "data": {
      "text/plain": [
       "tensor([ 5,  6,  7,  8,  9, 10, 11, 12, 13, 14])"
      ]
     },
     "execution_count": 134,
     "metadata": {},
     "output_type": "execute_result"
    }
   ],
   "source": [
    "x.add(5)"
   ]
  },
  {
   "cell_type": "code",
   "execution_count": 135,
   "id": "e509202f-63a8-4534-958b-945a0ff4b613",
   "metadata": {},
   "outputs": [
    {
     "data": {
      "text/plain": [
       "tensor(9)"
      ]
     },
     "execution_count": 135,
     "metadata": {},
     "output_type": "execute_result"
    }
   ],
   "source": [
    "x.amax()"
   ]
  },
  {
   "cell_type": "code",
   "execution_count": 136,
   "id": "73418932-ec09-4ebb-ae36-f5b3dca78800",
   "metadata": {},
   "outputs": [
    {
     "data": {
      "text/plain": [
       "tensor(9)"
      ]
     },
     "execution_count": 136,
     "metadata": {},
     "output_type": "execute_result"
    }
   ],
   "source": [
    "x.max()"
   ]
  },
  {
   "cell_type": "code",
   "execution_count": 137,
   "id": "cb929e22-bb49-4fae-8cf9-fb8c621abac5",
   "metadata": {},
   "outputs": [
    {
     "data": {
      "text/plain": [
       "torch.Size([10])"
      ]
     },
     "execution_count": 137,
     "metadata": {},
     "output_type": "execute_result"
    }
   ],
   "source": [
    "x.shape"
   ]
  },
  {
   "cell_type": "code",
   "execution_count": 138,
   "id": "a863c6d5-8e3c-4612-867f-c8a9b090d4bb",
   "metadata": {},
   "outputs": [
    {
     "data": {
      "text/plain": [
       "tensor([[0, 1, 2, 3, 4],\n",
       "        [5, 6, 7, 8, 9]])"
      ]
     },
     "execution_count": 138,
     "metadata": {},
     "output_type": "execute_result"
    }
   ],
   "source": [
    "x.reshape(2,5)"
   ]
  },
  {
   "cell_type": "code",
   "execution_count": 139,
   "id": "07e1e7ea-6289-400f-bd43-04492139799c",
   "metadata": {},
   "outputs": [
    {
     "ename": "TypeError",
     "evalue": "view() received an invalid combination of arguments - got (bool), but expected one of:\n * (torch.dtype dtype)\n      didn't match because some of the arguments have invalid types: (\u001b[31;1mbool\u001b[0m)\n * (tuple of ints size)\n      didn't match because some of the arguments have invalid types: (\u001b[31;1mbool\u001b[0m)\n",
     "output_type": "error",
     "traceback": [
      "\u001b[1;31m---------------------------------------------------------------------------\u001b[0m",
      "\u001b[1;31mTypeError\u001b[0m                                 Traceback (most recent call last)",
      "Cell \u001b[1;32mIn[139], line 1\u001b[0m\n\u001b[1;32m----> 1\u001b[0m \u001b[43mx\u001b[49m\u001b[38;5;241;43m.\u001b[39;49m\u001b[43mview\u001b[49m\u001b[43m(\u001b[49m\u001b[43mtorch\u001b[49m\u001b[38;5;241;43m.\u001b[39;49m\u001b[43mdtype\u001b[49m\u001b[38;5;241;43m==\u001b[39;49m\u001b[38;5;124;43m'\u001b[39;49m\u001b[38;5;124;43mflost32\u001b[39;49m\u001b[38;5;124;43m'\u001b[39;49m\u001b[43m)\u001b[49m\n",
      "\u001b[1;31mTypeError\u001b[0m: view() received an invalid combination of arguments - got (bool), but expected one of:\n * (torch.dtype dtype)\n      didn't match because some of the arguments have invalid types: (\u001b[31;1mbool\u001b[0m)\n * (tuple of ints size)\n      didn't match because some of the arguments have invalid types: (\u001b[31;1mbool\u001b[0m)\n"
     ]
    }
   ],
   "source": [
    "x.view(torch.dtype=='flost32')"
   ]
  },
  {
   "cell_type": "code",
   "execution_count": null,
   "id": "d482d187-1ec5-4683-a9ec-8174ea9f9557",
   "metadata": {},
   "outputs": [],
   "source": [
    "x.unique()"
   ]
  },
  {
   "cell_type": "code",
   "execution_count": 140,
   "id": "5d75b10a-6395-4e75-a7f9-a4d5bf0f1a37",
   "metadata": {},
   "outputs": [
    {
     "data": {
      "text/plain": [
       "1"
      ]
     },
     "execution_count": 140,
     "metadata": {},
     "output_type": "execute_result"
    }
   ],
   "source": [
    "x.ndim"
   ]
  },
  {
   "cell_type": "code",
   "execution_count": 141,
   "id": "12e78f54-81d2-4d63-92fc-d680dda153ec",
   "metadata": {},
   "outputs": [
    {
     "data": {
      "text/plain": [
       "10"
      ]
     },
     "execution_count": 141,
     "metadata": {},
     "output_type": "execute_result"
    }
   ],
   "source": [
    "len(x)"
   ]
  },
  {
   "cell_type": "code",
   "execution_count": 142,
   "id": "bc315899-52a4-4200-8497-b2b6c12275b0",
   "metadata": {},
   "outputs": [
    {
     "data": {
      "text/plain": [
       "10"
      ]
     },
     "execution_count": 142,
     "metadata": {},
     "output_type": "execute_result"
    }
   ],
   "source": [
    "x.numel()"
   ]
  },
  {
   "cell_type": "code",
   "execution_count": 143,
   "id": "0f5b5609-13c9-42de-a32d-a41378432e0c",
   "metadata": {},
   "outputs": [
    {
     "data": {
      "text/plain": [
       "1"
      ]
     },
     "execution_count": 143,
     "metadata": {},
     "output_type": "execute_result"
    }
   ],
   "source": [
    "x.ndimension()"
   ]
  },
  {
   "cell_type": "code",
   "execution_count": 144,
   "id": "96fcc3ef-4933-411a-9847-aa095e25bb06",
   "metadata": {},
   "outputs": [
    {
     "data": {
      "text/plain": [
       "tensor([0, 1, 2, 3, 4, 5, 6, 7, 8])"
      ]
     },
     "execution_count": 144,
     "metadata": {},
     "output_type": "execute_result"
    }
   ],
   "source": [
    "# reshape\n",
    "x = torch.arange(9)\n",
    "x"
   ]
  },
  {
   "cell_type": "code",
   "execution_count": 145,
   "id": "2baa828a-716d-488a-b895-94594ee4f199",
   "metadata": {},
   "outputs": [
    {
     "data": {
      "text/plain": [
       "tensor([[0, 1, 2],\n",
       "        [3, 4, 5],\n",
       "        [6, 7, 8]])"
      ]
     },
     "execution_count": 145,
     "metadata": {},
     "output_type": "execute_result"
    }
   ],
   "source": [
    "x.reshape(3,3)"
   ]
  },
  {
   "cell_type": "code",
   "execution_count": 146,
   "id": "f5744606-2238-4dac-9ea3-131e1bd2c72e",
   "metadata": {},
   "outputs": [
    {
     "data": {
      "text/plain": [
       "tensor([0, 1, 2, 3, 4, 5, 6, 7, 8])"
      ]
     },
     "execution_count": 146,
     "metadata": {},
     "output_type": "execute_result"
    }
   ],
   "source": [
    "x.reshape(3,3).reshape(9)"
   ]
  },
  {
   "cell_type": "code",
   "execution_count": 147,
   "id": "28122fdc-99a4-4c32-bc3f-cad23f9f5b6d",
   "metadata": {},
   "outputs": [
    {
     "data": {
      "text/plain": [
       "tensor([[0, 1, 2],\n",
       "        [3, 4, 5],\n",
       "        [6, 7, 8]])"
      ]
     },
     "execution_count": 147,
     "metadata": {},
     "output_type": "execute_result"
    }
   ],
   "source": [
    "x.view(3, 3)"
   ]
  },
  {
   "cell_type": "code",
   "execution_count": 148,
   "id": "7d1b3690-202d-4a0b-89b1-b72a864fd60f",
   "metadata": {},
   "outputs": [
    {
     "data": {
      "text/plain": [
       "tensor([0, 1, 2, 3, 4, 5, 6, 7, 8])"
      ]
     },
     "execution_count": 148,
     "metadata": {},
     "output_type": "execute_result"
    }
   ],
   "source": [
    "x.view(3, 3).view(9)"
   ]
  },
  {
   "cell_type": "code",
   "execution_count": 149,
   "id": "f89338ad-7ee7-4279-9414-62a85befd253",
   "metadata": {},
   "outputs": [
    {
     "data": {
      "text/plain": [
       "tensor([[0, 1, 2],\n",
       "        [3, 4, 5],\n",
       "        [6, 7, 8]])"
      ]
     },
     "execution_count": 149,
     "metadata": {},
     "output_type": "execute_result"
    }
   ],
   "source": [
    "x = torch.arange(9).reshape(3,3)\n",
    "x"
   ]
  },
  {
   "cell_type": "code",
   "execution_count": 150,
   "id": "8985eb70-f4c4-4b51-abe5-4958165f17b1",
   "metadata": {},
   "outputs": [
    {
     "data": {
      "text/plain": [
       "tensor([[0, 3, 6],\n",
       "        [1, 4, 7],\n",
       "        [2, 5, 8]])"
      ]
     },
     "execution_count": 150,
     "metadata": {},
     "output_type": "execute_result"
    }
   ],
   "source": [
    "x = x.t()\n",
    "x"
   ]
  },
  {
   "cell_type": "code",
   "execution_count": 151,
   "id": "f75d04bb-b074-4cb7-b220-0d73e438a87b",
   "metadata": {},
   "outputs": [
    {
     "data": {
      "text/plain": [
       "tensor([[0, 3, 6],\n",
       "        [1, 4, 7],\n",
       "        [2, 5, 8]])"
      ]
     },
     "execution_count": 151,
     "metadata": {},
     "output_type": "execute_result"
    }
   ],
   "source": [
    "x.contiguous()"
   ]
  },
  {
   "cell_type": "code",
   "execution_count": 152,
   "id": "e43a9825-c89a-441b-8a3c-e0e44691e74a",
   "metadata": {},
   "outputs": [
    {
     "data": {
      "text/plain": [
       "tensor([0, 3, 6, 1, 4, 7, 2, 5, 8])"
      ]
     },
     "execution_count": 152,
     "metadata": {},
     "output_type": "execute_result"
    }
   ],
   "source": [
    "x.contiguous().view(9)"
   ]
  },
  {
   "cell_type": "code",
   "execution_count": 153,
   "id": "7827618a-fa75-4fe6-9af4-c3daa44844f4",
   "metadata": {},
   "outputs": [
    {
     "data": {
      "text/plain": [
       "tensor([[0.50951105356216430664, 0.93662369251251220703, 0.17790484428405761719,\n",
       "         0.16750931739807128906, 0.37710338830947875977],\n",
       "        [0.66884809732437133789, 0.31687432527542114258, 0.91091638803482055664,\n",
       "         0.81049823760986328125, 0.26885789632797241211]])"
      ]
     },
     "execution_count": 153,
     "metadata": {},
     "output_type": "execute_result"
    }
   ],
   "source": [
    "x1 = torch.rand(2,5)\n",
    "x1"
   ]
  },
  {
   "cell_type": "code",
   "execution_count": 154,
   "id": "0c94fd8f-0ba6-408e-9986-c98019da2ed7",
   "metadata": {},
   "outputs": [
    {
     "data": {
      "text/plain": [
       "tensor([[0.03823512792587280273, 0.57209819555282592773, 0.85598069429397583008,\n",
       "         0.19169276952743530273, 0.62547826766967773438],\n",
       "        [0.68857586383819580078, 0.80760425329208374023, 0.06710547208786010742,\n",
       "         0.37380582094192504883, 0.38064807653427124023]])"
      ]
     },
     "execution_count": 154,
     "metadata": {},
     "output_type": "execute_result"
    }
   ],
   "source": [
    "x2 = torch.rand(2,5)\n",
    "x2"
   ]
  },
  {
   "cell_type": "code",
   "execution_count": 155,
   "id": "445b4636-5403-4e20-9c0c-9fca34be0a38",
   "metadata": {},
   "outputs": [
    {
     "data": {
      "text/plain": [
       "tensor([[0.50951105356216430664, 0.93662369251251220703, 0.17790484428405761719,\n",
       "         0.16750931739807128906, 0.37710338830947875977],\n",
       "        [0.66884809732437133789, 0.31687432527542114258, 0.91091638803482055664,\n",
       "         0.81049823760986328125, 0.26885789632797241211],\n",
       "        [0.03823512792587280273, 0.57209819555282592773, 0.85598069429397583008,\n",
       "         0.19169276952743530273, 0.62547826766967773438],\n",
       "        [0.68857586383819580078, 0.80760425329208374023, 0.06710547208786010742,\n",
       "         0.37380582094192504883, 0.38064807653427124023]])"
      ]
     },
     "execution_count": 155,
     "metadata": {},
     "output_type": "execute_result"
    }
   ],
   "source": [
    "torch.cat((x1,x2))"
   ]
  },
  {
   "cell_type": "code",
   "execution_count": 156,
   "id": "7b4b4806-4864-4eab-b5c8-8364cb5588c0",
   "metadata": {},
   "outputs": [
    {
     "data": {
      "text/plain": [
       "tensor([[0.50951105356216430664, 0.93662369251251220703, 0.17790484428405761719,\n",
       "         0.16750931739807128906, 0.37710338830947875977],\n",
       "        [0.66884809732437133789, 0.31687432527542114258, 0.91091638803482055664,\n",
       "         0.81049823760986328125, 0.26885789632797241211],\n",
       "        [0.03823512792587280273, 0.57209819555282592773, 0.85598069429397583008,\n",
       "         0.19169276952743530273, 0.62547826766967773438],\n",
       "        [0.68857586383819580078, 0.80760425329208374023, 0.06710547208786010742,\n",
       "         0.37380582094192504883, 0.38064807653427124023]])"
      ]
     },
     "execution_count": 156,
     "metadata": {},
     "output_type": "execute_result"
    }
   ],
   "source": [
    "torch.cat((x1,x2), dim=0)"
   ]
  },
  {
   "cell_type": "code",
   "execution_count": 157,
   "id": "b547a29c-1a53-47fa-8846-dce63ff96584",
   "metadata": {},
   "outputs": [
    {
     "data": {
      "text/plain": [
       "tensor([[0.50951105356216430664, 0.93662369251251220703, 0.17790484428405761719,\n",
       "         0.16750931739807128906, 0.37710338830947875977, 0.03823512792587280273,\n",
       "         0.57209819555282592773, 0.85598069429397583008, 0.19169276952743530273,\n",
       "         0.62547826766967773438],\n",
       "        [0.66884809732437133789, 0.31687432527542114258, 0.91091638803482055664,\n",
       "         0.81049823760986328125, 0.26885789632797241211, 0.68857586383819580078,\n",
       "         0.80760425329208374023, 0.06710547208786010742, 0.37380582094192504883,\n",
       "         0.38064807653427124023]])"
      ]
     },
     "execution_count": 157,
     "metadata": {},
     "output_type": "execute_result"
    }
   ],
   "source": [
    "torch.cat((x1,x2), dim=1)"
   ]
  },
  {
   "cell_type": "code",
   "execution_count": 158,
   "id": "c8ab72cb-3118-4ed7-8eff-02e4379a1a08",
   "metadata": {},
   "outputs": [
    {
     "data": {
      "text/plain": [
       "tensor([0.50951105356216430664, 0.93662369251251220703, 0.17790484428405761719,\n",
       "        0.16750931739807128906, 0.37710338830947875977, 0.66884809732437133789,\n",
       "        0.31687432527542114258, 0.91091638803482055664, 0.81049823760986328125,\n",
       "        0.26885789632797241211])"
      ]
     },
     "execution_count": 158,
     "metadata": {},
     "output_type": "execute_result"
    }
   ],
   "source": [
    "z = x1.view(-1)\n",
    "z"
   ]
  },
  {
   "cell_type": "code",
   "execution_count": 159,
   "id": "22b6fce1-4b64-4f03-b372-6a612f3079d4",
   "metadata": {},
   "outputs": [],
   "source": [
    "batch = 64\n",
    "x = torch.rand(batch, 2, 5)\n",
    "#x"
   ]
  },
  {
   "cell_type": "code",
   "execution_count": 160,
   "id": "1a0ca9b6-142e-4bf6-ab7e-32fefcfa10b2",
   "metadata": {},
   "outputs": [
    {
     "data": {
      "text/plain": [
       "torch.Size([640])"
      ]
     },
     "execution_count": 160,
     "metadata": {},
     "output_type": "execute_result"
    }
   ],
   "source": [
    "x.view(-1).shape"
   ]
  },
  {
   "cell_type": "code",
   "execution_count": 161,
   "id": "799698db-e80f-4270-a61c-d3818299d204",
   "metadata": {},
   "outputs": [
    {
     "data": {
      "text/plain": [
       "torch.Size([64, 10])"
      ]
     },
     "execution_count": 161,
     "metadata": {},
     "output_type": "execute_result"
    }
   ],
   "source": [
    "z = x.view(batch, -1)\n",
    "z.shape"
   ]
  },
  {
   "cell_type": "code",
   "execution_count": null,
   "id": "c9304135-3ff4-41e4-bd7b-2b981f7eb0fe",
   "metadata": {},
   "outputs": [],
   "source": []
  },
  {
   "cell_type": "code",
   "execution_count": 162,
   "id": "b6996071-d9aa-4b1c-af45-757ab1d26fb5",
   "metadata": {},
   "outputs": [
    {
     "data": {
      "text/plain": [
       "tensor([[[9.72785949707031250000e-01, 6.75172328948974609375e-01,\n",
       "          7.15904235839843750000e-01, 4.53951239585876464844e-01,\n",
       "          5.12483835220336914062e-01],\n",
       "         [1.40939652919769287109e-01, 3.13099622726440429688e-02,\n",
       "          8.36287498474121093750e-01, 3.40957522392272949219e-01,\n",
       "          8.01566421985626220703e-01]],\n",
       "\n",
       "        [[4.75768446922302246094e-02, 7.26216197013854980469e-01,\n",
       "          6.39984905719757080078e-01, 3.05376291275024414062e-01,\n",
       "          9.39015686511993408203e-01],\n",
       "         [5.15413045883178710938e-01, 8.69590580463409423828e-01,\n",
       "          6.18750751018524169922e-01, 6.30023479461669921875e-01,\n",
       "          9.29851770401000976562e-01]],\n",
       "\n",
       "        [[8.51361751556396484375e-02, 9.74245965480804443359e-01,\n",
       "          1.40071928501129150391e-01, 8.35585057735443115234e-01,\n",
       "          1.68713867664337158203e-01],\n",
       "         [8.83146643638610839844e-01, 2.41128265857696533203e-01,\n",
       "          2.65825510025024414062e-01, 7.33879387378692626953e-01,\n",
       "          6.13983035087585449219e-01]],\n",
       "\n",
       "        [[4.45045113563537597656e-01, 9.97178792953491210938e-01,\n",
       "          6.21276497840881347656e-01, 3.13607215881347656250e-01,\n",
       "          7.79653549194335937500e-01],\n",
       "         [2.74868249893188476562e-01, 4.24472153186798095703e-01,\n",
       "          9.19569015502929687500e-01, 8.65568816661834716797e-01,\n",
       "          1.50905847549438476562e-02]],\n",
       "\n",
       "        [[9.16634619235992431641e-01, 7.75340795516967773438e-01,\n",
       "          1.06513082981109619141e-01, 1.85697555541992187500e-01,\n",
       "          9.78735566139221191406e-01],\n",
       "         [2.47486352920532226562e-01, 2.31845140457153320312e-01,\n",
       "          6.47455930709838867188e-01, 1.57804727554321289062e-01,\n",
       "          6.95780813694000244141e-01]],\n",
       "\n",
       "        [[7.13276863098144531250e-03, 8.72766911983489990234e-01,\n",
       "          7.28869318962097167969e-01, 1.61513030529022216797e-01,\n",
       "          6.07260584831237792969e-01],\n",
       "         [3.66063833236694335938e-01, 2.20920622348785400391e-01,\n",
       "          1.34820401668548583984e-01, 9.89075720310211181641e-01,\n",
       "          9.48709189891815185547e-01]],\n",
       "\n",
       "        [[1.31234347820281982422e-01, 6.95138573646545410156e-02,\n",
       "          9.47649776935577392578e-01, 3.22897553443908691406e-01,\n",
       "          4.51473236083984375000e-01],\n",
       "         [7.69536197185516357422e-01, 7.71433889865875244141e-01,\n",
       "          8.83811831474304199219e-01, 9.79268431663513183594e-01,\n",
       "          7.98326373100280761719e-01]],\n",
       "\n",
       "        [[8.42916786670684814453e-01, 9.44198727607727050781e-01,\n",
       "          3.24386417865753173828e-01, 3.90971541404724121094e-01,\n",
       "          1.75362825393676757812e-02],\n",
       "         [1.87976837158203125000e-01, 9.97415781021118164062e-02,\n",
       "          9.36135649681091308594e-02, 2.98462450504302978516e-01,\n",
       "          3.55360507965087890625e-02]],\n",
       "\n",
       "        [[6.98233842849731445312e-01, 8.33789110183715820312e-01,\n",
       "          3.23622763156890869141e-01, 6.89669609069824218750e-01,\n",
       "          5.44391274452209472656e-02],\n",
       "         [8.60861182212829589844e-01, 1.53728723526000976562e-02,\n",
       "          2.79008090496063232422e-01, 2.55563497543334960938e-01,\n",
       "          4.74780201911926269531e-02]],\n",
       "\n",
       "        [[6.93950355052947998047e-01, 2.49120056629180908203e-01,\n",
       "          4.82093751430511474609e-01, 4.70979154109954833984e-01,\n",
       "          8.22103738784790039062e-01],\n",
       "         [1.20597541332244873047e-01, 1.44152104854583740234e-01,\n",
       "          5.50046801567077636719e-01, 4.99275207519531250000e-01,\n",
       "          4.78981912136077880859e-01]],\n",
       "\n",
       "        [[6.05337083339691162109e-01, 5.29452323913574218750e-01,\n",
       "          4.84040677547454833984e-01, 2.66855180263519287109e-01,\n",
       "          5.66444635391235351562e-01],\n",
       "         [9.09668862819671630859e-01, 4.70770001411437988281e-02,\n",
       "          4.99194681644439697266e-01, 1.31576359272003173828e-01,\n",
       "          7.78061151504516601562e-01]],\n",
       "\n",
       "        [[9.36027348041534423828e-01, 7.30856001377105712891e-01,\n",
       "          7.51009106636047363281e-01, 5.62895536422729492188e-01,\n",
       "          4.37140762805938720703e-01],\n",
       "         [1.49469316005706787109e-01, 7.87226557731628417969e-02,\n",
       "          1.51959538459777832031e-01, 2.88513302803039550781e-02,\n",
       "          2.76751637458801269531e-01]],\n",
       "\n",
       "        [[3.44434320926666259766e-01, 2.30650007724761962891e-01,\n",
       "          4.91147816181182861328e-01, 7.80941128730773925781e-01,\n",
       "          1.43350422382354736328e-01],\n",
       "         [8.50913703441619873047e-01, 3.88737142086029052734e-01,\n",
       "          9.91320788860321044922e-01, 8.52839708328247070312e-01,\n",
       "          5.77217876911163330078e-01]],\n",
       "\n",
       "        [[1.26133143901824951172e-01, 7.83908069133758544922e-01,\n",
       "          8.61473798751831054688e-01, 6.75989985466003417969e-01,\n",
       "          8.75202417373657226562e-02],\n",
       "         [9.00929749011993408203e-01, 3.91519665718078613281e-01,\n",
       "          1.61644935607910156250e-01, 3.54583442211151123047e-01,\n",
       "          1.73590660095214843750e-01]],\n",
       "\n",
       "        [[6.62625670433044433594e-01, 4.17713105678558349609e-01,\n",
       "          4.32959973812103271484e-01, 2.50165462493896484375e-02,\n",
       "          3.04149389266967773438e-02],\n",
       "         [1.92925930023193359375e-01, 1.26226961612701416016e-01,\n",
       "          4.10362780094146728516e-01, 6.46935403347015380859e-01,\n",
       "          6.10589981079101562500e-04]],\n",
       "\n",
       "        [[6.15930080413818359375e-01, 3.43266546726226806641e-01,\n",
       "          6.46638691425323486328e-01, 2.84129083156585693359e-01,\n",
       "          6.55784606933593750000e-01],\n",
       "         [9.38482105731964111328e-01, 7.01271355152130126953e-01,\n",
       "          4.43396627902984619141e-01, 1.32584333419799804688e-01,\n",
       "          6.48252546787261962891e-01]],\n",
       "\n",
       "        [[8.54840219020843505859e-01, 9.09466147422790527344e-01,\n",
       "          6.62231266498565673828e-01, 8.43175888061523437500e-01,\n",
       "          2.01457440853118896484e-01],\n",
       "         [3.92493903636932373047e-01, 3.74343335628509521484e-01,\n",
       "          1.26401484012603759766e-01, 6.74926698207855224609e-01,\n",
       "          3.46944034099578857422e-01]],\n",
       "\n",
       "        [[6.84394657611846923828e-01, 5.14510214328765869141e-01,\n",
       "          2.81759023666381835938e-01, 2.40032494068145751953e-01,\n",
       "          8.44527602195739746094e-01],\n",
       "         [4.20383691787719726562e-01, 1.89356625080108642578e-01,\n",
       "          4.78888630867004394531e-01, 7.98749387264251708984e-01,\n",
       "          3.20827066898345947266e-01]],\n",
       "\n",
       "        [[1.22707068920135498047e-01, 7.15288162231445312500e-01,\n",
       "          5.87779462337493896484e-01, 3.23717713356018066406e-01,\n",
       "          5.43251216411590576172e-01],\n",
       "         [5.87168633937835693359e-01, 2.02014029026031494141e-01,\n",
       "          1.64100408554077148438e-01, 7.39998698234558105469e-01,\n",
       "          7.17114508152008056641e-01]],\n",
       "\n",
       "        [[1.80380046367645263672e-01, 3.41902494430541992188e-01,\n",
       "          2.20179438591003417969e-01, 6.92490935325622558594e-01,\n",
       "          6.59916877746582031250e-01],\n",
       "         [4.14226412773132324219e-01, 6.49037480354309082031e-01,\n",
       "          2.47100770473480224609e-01, 3.33376526832580566406e-02,\n",
       "          6.82751178741455078125e-01]],\n",
       "\n",
       "        [[4.25671875476837158203e-01, 7.67053186893463134766e-01,\n",
       "          1.53520524501800537109e-01, 6.67541086673736572266e-01,\n",
       "          4.08453345298767089844e-02],\n",
       "         [3.04100334644317626953e-01, 9.50098931789398193359e-01,\n",
       "          6.22759878635406494141e-01, 1.41502797603607177734e-01,\n",
       "          6.89816296100616455078e-01]],\n",
       "\n",
       "        [[7.44728624820709228516e-01, 7.95063376426696777344e-01,\n",
       "          2.69048392772674560547e-01, 5.58534681797027587891e-01,\n",
       "          5.21631836891174316406e-01],\n",
       "         [3.65965783596038818359e-01, 3.99888157844543457031e-02,\n",
       "          7.94340968132019042969e-02, 2.82613515853881835938e-01,\n",
       "          6.41604423522949218750e-01]],\n",
       "\n",
       "        [[4.40632283687591552734e-01, 9.19475495815277099609e-01,\n",
       "          8.78362953662872314453e-01, 9.33603048324584960938e-01,\n",
       "          6.35249316692352294922e-01],\n",
       "         [9.48185324668884277344e-02, 8.22047591209411621094e-01,\n",
       "          9.12144362926483154297e-01, 2.18656778335571289062e-01,\n",
       "          4.07051205635070800781e-01]],\n",
       "\n",
       "        [[3.79870831966400146484e-01, 8.53646993637084960938e-01,\n",
       "          6.67619705200195312500e-01, 5.73170363903045654297e-01,\n",
       "          5.49216687679290771484e-01],\n",
       "         [2.16764271259307861328e-01, 7.49597549438476562500e-01,\n",
       "          5.04956364631652832031e-01, 8.55161547660827636719e-01,\n",
       "          1.29772305488586425781e-01]],\n",
       "\n",
       "        [[1.91392779350280761719e-01, 2.60996520519256591797e-01,\n",
       "          2.57718205451965332031e-01, 2.85078883171081542969e-01,\n",
       "          6.55984103679656982422e-01],\n",
       "         [1.04206204414367675781e-02, 1.18847966194152832031e-01,\n",
       "          7.36125409603118896484e-01, 1.59577429294586181641e-01,\n",
       "          6.08979403972625732422e-01]],\n",
       "\n",
       "        [[4.01537001132965087891e-01, 2.96574354171752929688e-01,\n",
       "          7.99467206001281738281e-01, 4.82990920543670654297e-01,\n",
       "          1.01076006889343261719e-01],\n",
       "         [4.03130650520324707031e-01, 6.48363530635833740234e-01,\n",
       "          9.07189130783081054688e-01, 1.58485829830169677734e-01,\n",
       "          5.11803686618804931641e-01]],\n",
       "\n",
       "        [[5.46977639198303222656e-01, 8.09885799884796142578e-01,\n",
       "          2.85073161125183105469e-01, 7.29849457740783691406e-01,\n",
       "          7.63449251651763916016e-01],\n",
       "         [3.11106383800506591797e-01, 8.02822411060333251953e-01,\n",
       "          8.72572422027587890625e-01, 3.17060947418212890625e-03,\n",
       "          7.92233288288116455078e-01]],\n",
       "\n",
       "        [[4.48034286499023437500e-01, 2.67968237400054931641e-01,\n",
       "          9.47473168373107910156e-01, 4.26526665687561035156e-02,\n",
       "          4.14698719978332519531e-02],\n",
       "         [1.69790744781494140625e-01, 6.44745469093322753906e-01,\n",
       "          8.82091522216796875000e-02, 5.71091711521148681641e-01,\n",
       "          3.34147632122039794922e-01]],\n",
       "\n",
       "        [[7.22413003444671630859e-01, 3.52071285247802734375e-01,\n",
       "          1.60503804683685302734e-01, 9.22493875026702880859e-01,\n",
       "          8.41466784477233886719e-01],\n",
       "         [7.65336751937866210938e-01, 6.08981609344482421875e-01,\n",
       "          9.46795940399169921875e-01, 1.32074654102325439453e-01,\n",
       "          3.03917765617370605469e-01]],\n",
       "\n",
       "        [[3.20943951606750488281e-01, 3.35566997528076171875e-01,\n",
       "          3.08144330978393554688e-01, 8.66931557655334472656e-01,\n",
       "          3.45343351364135742188e-03],\n",
       "         [2.84590721130371093750e-01, 6.57028198242187500000e-01,\n",
       "          4.99456703662872314453e-01, 1.16492211818695068359e-01,\n",
       "          6.82101666927337646484e-01]],\n",
       "\n",
       "        [[2.79151260852813720703e-01, 9.11459863185882568359e-01,\n",
       "          4.71654832363128662109e-01, 3.52521300315856933594e-01,\n",
       "          8.18879187107086181641e-01],\n",
       "         [4.66153323650360107422e-01, 5.40054440498352050781e-01,\n",
       "          1.27758681774139404297e-01, 6.41372084617614746094e-01,\n",
       "          7.18028783798217773438e-01]],\n",
       "\n",
       "        [[2.18645215034484863281e-01, 7.05125629901885986328e-01,\n",
       "          9.70136582851409912109e-01, 9.60156321525573730469e-02,\n",
       "          9.23980474472045898438e-02],\n",
       "         [1.90318763256072998047e-01, 1.97506725788116455078e-01,\n",
       "          3.71309280395507812500e-01, 9.38899815082550048828e-01,\n",
       "          1.08509898185729980469e-01]],\n",
       "\n",
       "        [[8.98478150367736816406e-01, 9.56544220447540283203e-01,\n",
       "          7.17863500118255615234e-01, 4.71945643424987792969e-01,\n",
       "          4.11083221435546875000e-01],\n",
       "         [8.57293963432312011719e-01, 7.47987210750579833984e-01,\n",
       "          9.04629647731781005859e-01, 4.83982563018798828125e-01,\n",
       "          7.36749351024627685547e-01]],\n",
       "\n",
       "        [[9.15849387645721435547e-01, 4.78463053703308105469e-01,\n",
       "          7.66344547271728515625e-01, 6.91584587097167968750e-01,\n",
       "          3.36050927639007568359e-01],\n",
       "         [1.82103574275970458984e-01, 5.44675290584564208984e-01,\n",
       "          7.69468903541564941406e-01, 2.21559166908264160156e-01,\n",
       "          3.10509145259857177734e-01]],\n",
       "\n",
       "        [[1.26422643661499023438e-02, 5.30128836631774902344e-01,\n",
       "          3.58927369117736816406e-01, 1.98549866676330566406e-01,\n",
       "          1.31720304489135742188e-01],\n",
       "         [9.61601793766021728516e-01, 5.26482880115509033203e-01,\n",
       "          6.92301988601684570312e-01, 2.80620396137237548828e-01,\n",
       "          4.73267197608947753906e-01]],\n",
       "\n",
       "        [[9.11927223205566406250e-02, 4.54528391361236572266e-01,\n",
       "          6.98393583297729492188e-01, 3.47614288330078125000e-04,\n",
       "          8.77136707305908203125e-01],\n",
       "         [2.76415944099426269531e-02, 7.03689515590667724609e-01,\n",
       "          7.85572588443756103516e-01, 3.86775851249694824219e-01,\n",
       "          2.63517379760742187500e-01]],\n",
       "\n",
       "        [[1.95101201534271240234e-01, 9.23265039920806884766e-01,\n",
       "          8.51273417472839355469e-01, 4.35768604278564453125e-01,\n",
       "          1.42258405685424804688e-01],\n",
       "         [2.31460571289062500000e-01, 7.15193510055541992188e-01,\n",
       "          7.28611886501312255859e-01, 4.02405500411987304688e-01,\n",
       "          2.03269302845001220703e-01]],\n",
       "\n",
       "        [[4.55740690231323242188e-02, 1.19446098804473876953e-01,\n",
       "          8.95404517650604248047e-01, 4.92706537246704101562e-01,\n",
       "          7.09555566310882568359e-01],\n",
       "         [3.19733262062072753906e-01, 6.59661829471588134766e-01,\n",
       "          1.43176317214965820312e-03, 7.15834319591522216797e-01,\n",
       "          8.13952267169952392578e-01]],\n",
       "\n",
       "        [[6.54515683650970458984e-01, 7.10671007633209228516e-01,\n",
       "          5.09142398834228515625e-01, 4.09847259521484375000e-01,\n",
       "          3.07353258132934570312e-01],\n",
       "         [3.99167299270629882812e-01, 1.92877888679504394531e-01,\n",
       "          3.60268533229827880859e-01, 6.72531127929687500000e-01,\n",
       "          4.14446830749511718750e-01]],\n",
       "\n",
       "        [[3.95891129970550537109e-01, 3.03076028823852539062e-01,\n",
       "          5.22965848445892333984e-01, 2.48122394084930419922e-01,\n",
       "          8.55148792266845703125e-01],\n",
       "         [7.11861968040466308594e-01, 9.37466800212860107422e-01,\n",
       "          3.08004319667816162109e-01, 3.59595954418182373047e-01,\n",
       "          2.93576300144195556641e-01]],\n",
       "\n",
       "        [[6.35048747062683105469e-01, 8.64457488059997558594e-02,\n",
       "          9.41315174102783203125e-01, 2.81814634799957275391e-01,\n",
       "          4.21352148056030273438e-01],\n",
       "         [1.72488749027252197266e-01, 2.48371899127960205078e-01,\n",
       "          4.62708055973052978516e-01, 4.86536145210266113281e-01,\n",
       "          3.90096843242645263672e-01]],\n",
       "\n",
       "        [[3.66234898567199707031e-01, 1.88169956207275390625e-01,\n",
       "          7.75078237056732177734e-01, 2.59142577648162841797e-01,\n",
       "          3.76340925693511962891e-01],\n",
       "         [7.70535171031951904297e-01, 6.46933197975158691406e-01,\n",
       "          9.59776937961578369141e-01, 2.69420266151428222656e-01,\n",
       "          2.43525207042694091797e-01]],\n",
       "\n",
       "        [[6.35143935680389404297e-01, 7.15363621711730957031e-02,\n",
       "          3.04155409336090087891e-01, 2.88596153259277343750e-02,\n",
       "          5.91961205005645751953e-01],\n",
       "         [2.80047059059143066406e-02, 1.29444360733032226562e-01,\n",
       "          5.51671385765075683594e-01, 6.82681202888488769531e-02,\n",
       "          1.38805091381072998047e-01]],\n",
       "\n",
       "        [[1.59005105495452880859e-01, 6.82702422142028808594e-01,\n",
       "          7.11448192596435546875e-02, 5.83147048950195312500e-01,\n",
       "          8.58992516994476318359e-01],\n",
       "         [7.22077369689941406250e-01, 5.08663058280944824219e-02,\n",
       "          7.87773013114929199219e-01, 8.71410131454467773438e-01,\n",
       "          1.88782691955566406250e-01]],\n",
       "\n",
       "        [[1.32424235343933105469e-01, 6.58634006977081298828e-01,\n",
       "          3.89547944068908691406e-01, 9.87957358360290527344e-01,\n",
       "          8.63207340240478515625e-01],\n",
       "         [1.94071352481842041016e-01, 6.02222561836242675781e-01,\n",
       "          5.73431730270385742188e-01, 6.76107347011566162109e-01,\n",
       "          3.98150980472564697266e-01]],\n",
       "\n",
       "        [[5.20541012287139892578e-01, 8.11805725097656250000e-01,\n",
       "          9.43070054054260253906e-02, 9.94392633438110351562e-02,\n",
       "          1.27453565597534179688e-01],\n",
       "         [5.20552337169647216797e-01, 5.49700081348419189453e-01,\n",
       "          4.00218665599822998047e-01, 9.20153439044952392578e-01,\n",
       "          7.46523261070251464844e-01]],\n",
       "\n",
       "        [[1.10433936119079589844e-01, 4.09209728240966796875e-03,\n",
       "          5.99393725395202636719e-01, 1.00523650646209716797e-01,\n",
       "          6.00031554698944091797e-01],\n",
       "         [3.99431228637695312500e-01, 3.55206072330474853516e-01,\n",
       "          9.54770028591156005859e-01, 7.61768817901611328125e-02,\n",
       "          9.21721875667572021484e-01]],\n",
       "\n",
       "        [[9.35869991779327392578e-01, 8.12333822250366210938e-02,\n",
       "          9.00586307048797607422e-01, 8.18490684032440185547e-01,\n",
       "          1.69487595558166503906e-02],\n",
       "         [4.99725580215454101562e-01, 3.36097955703735351562e-01,\n",
       "          2.96229600906372070312e-01, 4.70024287700653076172e-01,\n",
       "          7.58896470069885253906e-01]],\n",
       "\n",
       "        [[9.85219895839691162109e-01, 1.54035091400146484375e-02,\n",
       "          7.75754034519195556641e-01, 7.23396718502044677734e-01,\n",
       "          8.41116547584533691406e-01],\n",
       "         [2.86514163017272949219e-01, 6.39394104480743408203e-01,\n",
       "          9.82764422893524169922e-01, 7.01605141162872314453e-01,\n",
       "          5.57885766029357910156e-01]],\n",
       "\n",
       "        [[7.73158073425292968750e-01, 4.24145400524139404297e-01,\n",
       "          6.66438519954681396484e-01, 5.17719745635986328125e-01,\n",
       "          9.58284914493560791016e-01],\n",
       "         [3.41281175613403320312e-01, 9.61055755615234375000e-01,\n",
       "          4.17513251304626464844e-01, 7.11519420146942138672e-01,\n",
       "          3.27845513820648193359e-01]],\n",
       "\n",
       "        [[2.86283195018768310547e-01, 4.65645015239715576172e-01,\n",
       "          4.75809812545776367188e-01, 4.00997042655944824219e-01,\n",
       "          2.72536039352416992188e-01],\n",
       "         [2.22147107124328613281e-02, 3.47466468811035156250e-01,\n",
       "          6.66572630405426025391e-01, 7.19558477401733398438e-01,\n",
       "          4.43123996257781982422e-01]],\n",
       "\n",
       "        [[2.43243634700775146484e-01, 2.53801643848419189453e-01,\n",
       "          2.28424251079559326172e-01, 4.87027227878570556641e-01,\n",
       "          2.26105332374572753906e-01],\n",
       "         [1.22302114963531494141e-01, 7.08110809326171875000e-01,\n",
       "          2.85278379917144775391e-01, 7.65735507011413574219e-01,\n",
       "          7.66889095306396484375e-01]],\n",
       "\n",
       "        [[9.61746275424957275391e-01, 8.36225926876068115234e-01,\n",
       "          4.71623361110687255859e-01, 5.03837108612060546875e-01,\n",
       "          4.73683953285217285156e-01],\n",
       "         [4.32736158370971679688e-01, 5.47311782836914062500e-01,\n",
       "          1.51577830314636230469e-01, 8.95485281944274902344e-01,\n",
       "          9.30822551250457763672e-01]],\n",
       "\n",
       "        [[1.91694557666778564453e-01, 1.11831665039062500000e-01,\n",
       "          9.14698243141174316406e-01, 4.17776286602020263672e-01,\n",
       "          5.74105978012084960938e-02],\n",
       "         [4.05441522598266601562e-02, 2.13656365871429443359e-01,\n",
       "          5.09074270725250244141e-01, 8.73450636863708496094e-01,\n",
       "          4.98865842819213867188e-02]],\n",
       "\n",
       "        [[1.17000937461853027344e-02, 6.68941795825958251953e-01,\n",
       "          4.15974617004394531250e-01, 6.87121808528900146484e-01,\n",
       "          4.08369362354278564453e-01],\n",
       "         [2.74295747280120849609e-01, 9.98915851116180419922e-01,\n",
       "          4.76262867450714111328e-01, 3.37398111820220947266e-01,\n",
       "          2.40291357040405273438e-01]],\n",
       "\n",
       "        [[5.68711221218109130859e-01, 7.23035633563995361328e-01,\n",
       "          6.88489735126495361328e-01, 4.92602348327636718750e-01,\n",
       "          2.73271143436431884766e-01],\n",
       "         [2.35694646835327148438e-01, 5.43231010437011718750e-01,\n",
       "          7.91935920715332031250e-02, 3.13723683357238769531e-02,\n",
       "          7.34538137912750244141e-01]],\n",
       "\n",
       "        [[2.19816327095031738281e-01, 5.26366055011749267578e-01,\n",
       "          3.49647998809814453125e-01, 6.81122958660125732422e-01,\n",
       "          9.07782912254333496094e-02],\n",
       "         [3.06637048721313476562e-01, 2.65973627567291259766e-01,\n",
       "          5.21328449249267578125e-02, 6.53403997421264648438e-03,\n",
       "          8.11462461948394775391e-01]],\n",
       "\n",
       "        [[5.66923141479492187500e-01, 3.54342162609100341797e-01,\n",
       "          1.47905588150024414062e-01, 6.90279722213745117188e-01,\n",
       "          4.81230556964874267578e-01],\n",
       "         [1.93174123764038085938e-01, 2.92320311069488525391e-01,\n",
       "          1.60294592380523681641e-01, 3.60963523387908935547e-01,\n",
       "          9.74411368370056152344e-01]],\n",
       "\n",
       "        [[6.85837805271148681641e-01, 3.90151917934417724609e-01,\n",
       "          7.41752326488494873047e-01, 6.91612720489501953125e-01,\n",
       "          9.89341735839843750000e-03],\n",
       "         [7.98467874526977539062e-01, 7.76591002941131591797e-01,\n",
       "          4.25960361957550048828e-01, 9.99100029468536376953e-01,\n",
       "          8.94210040569305419922e-01]],\n",
       "\n",
       "        [[2.52891242504119873047e-01, 5.15669941902160644531e-01,\n",
       "          4.80466842651367187500e-01, 5.22043287754058837891e-01,\n",
       "          9.00375485420227050781e-01],\n",
       "         [7.53940939903259277344e-02, 7.25551664829254150391e-01,\n",
       "          7.38874733448028564453e-01, 5.43868660926818847656e-01,\n",
       "          3.73672008514404296875e-01]],\n",
       "\n",
       "        [[3.78139019012451171875e-02, 1.29541218280792236328e-01,\n",
       "          1.31637334823608398438e-01, 3.66765737533569335938e-01,\n",
       "          2.58382320404052734375e-01],\n",
       "         [9.09071862697601318359e-01, 1.07486784458160400391e-01,\n",
       "          2.42590904235839843750e-05, 7.26725518703460693359e-01,\n",
       "          5.19358932971954345703e-01]],\n",
       "\n",
       "        [[3.88707995414733886719e-01, 9.86751556396484375000e-01,\n",
       "          6.35250747203826904297e-01, 6.20286643505096435547e-01,\n",
       "          7.60827064514160156250e-01],\n",
       "         [2.28257238864898681641e-01, 6.28303945064544677734e-01,\n",
       "          1.92767262458801269531e-01, 8.48043382167816162109e-01,\n",
       "          3.04278314113616943359e-01]],\n",
       "\n",
       "        [[9.08165752887725830078e-01, 6.22660398483276367188e-01,\n",
       "          4.44646358489990234375e-01, 8.59794616699218750000e-01,\n",
       "          3.00548911094665527344e-01],\n",
       "         [5.66699445247650146484e-01, 1.45722806453704833984e-01,\n",
       "          4.98658299446105957031e-01, 4.00790274143218994141e-01,\n",
       "          7.79998004436492919922e-01]],\n",
       "\n",
       "        [[1.55577719211578369141e-01, 5.32527029514312744141e-01,\n",
       "          5.06424963474273681641e-01, 7.38146960735321044922e-01,\n",
       "          5.59670329093933105469e-01],\n",
       "         [5.77272534370422363281e-01, 6.70136094093322753906e-01,\n",
       "          6.79134011268615722656e-01, 4.63245809078216552734e-01,\n",
       "          9.41719949245452880859e-01]]])"
      ]
     },
     "execution_count": 162,
     "metadata": {},
     "output_type": "execute_result"
    }
   ],
   "source": [
    "x.contiguous()"
   ]
  },
  {
   "cell_type": "code",
   "execution_count": 163,
   "id": "08367e8e-59fb-44c8-9aa5-4a157c001541",
   "metadata": {},
   "outputs": [
    {
     "data": {
      "text/plain": [
       "torch.Size([64, 5, 2])"
      ]
     },
     "execution_count": 163,
     "metadata": {},
     "output_type": "execute_result"
    }
   ],
   "source": [
    "x.permute(0,2,1).shape"
   ]
  },
  {
   "cell_type": "code",
   "execution_count": 164,
   "id": "08c4fbde-68ae-416a-b745-a44b9564c74d",
   "metadata": {},
   "outputs": [
    {
     "data": {
      "text/plain": [
       "tensor([[[9.72785949707031250000e-01, 6.75172328948974609375e-01,\n",
       "          7.15904235839843750000e-01, 4.53951239585876464844e-01,\n",
       "          5.12483835220336914062e-01],\n",
       "         [1.40939652919769287109e-01, 3.13099622726440429688e-02,\n",
       "          8.36287498474121093750e-01, 3.40957522392272949219e-01,\n",
       "          8.01566421985626220703e-01]],\n",
       "\n",
       "        [[4.75768446922302246094e-02, 7.26216197013854980469e-01,\n",
       "          6.39984905719757080078e-01, 3.05376291275024414062e-01,\n",
       "          9.39015686511993408203e-01],\n",
       "         [5.15413045883178710938e-01, 8.69590580463409423828e-01,\n",
       "          6.18750751018524169922e-01, 6.30023479461669921875e-01,\n",
       "          9.29851770401000976562e-01]],\n",
       "\n",
       "        [[8.51361751556396484375e-02, 9.74245965480804443359e-01,\n",
       "          1.40071928501129150391e-01, 8.35585057735443115234e-01,\n",
       "          1.68713867664337158203e-01],\n",
       "         [8.83146643638610839844e-01, 2.41128265857696533203e-01,\n",
       "          2.65825510025024414062e-01, 7.33879387378692626953e-01,\n",
       "          6.13983035087585449219e-01]],\n",
       "\n",
       "        [[4.45045113563537597656e-01, 9.97178792953491210938e-01,\n",
       "          6.21276497840881347656e-01, 3.13607215881347656250e-01,\n",
       "          7.79653549194335937500e-01],\n",
       "         [2.74868249893188476562e-01, 4.24472153186798095703e-01,\n",
       "          9.19569015502929687500e-01, 8.65568816661834716797e-01,\n",
       "          1.50905847549438476562e-02]],\n",
       "\n",
       "        [[9.16634619235992431641e-01, 7.75340795516967773438e-01,\n",
       "          1.06513082981109619141e-01, 1.85697555541992187500e-01,\n",
       "          9.78735566139221191406e-01],\n",
       "         [2.47486352920532226562e-01, 2.31845140457153320312e-01,\n",
       "          6.47455930709838867188e-01, 1.57804727554321289062e-01,\n",
       "          6.95780813694000244141e-01]],\n",
       "\n",
       "        [[7.13276863098144531250e-03, 8.72766911983489990234e-01,\n",
       "          7.28869318962097167969e-01, 1.61513030529022216797e-01,\n",
       "          6.07260584831237792969e-01],\n",
       "         [3.66063833236694335938e-01, 2.20920622348785400391e-01,\n",
       "          1.34820401668548583984e-01, 9.89075720310211181641e-01,\n",
       "          9.48709189891815185547e-01]],\n",
       "\n",
       "        [[1.31234347820281982422e-01, 6.95138573646545410156e-02,\n",
       "          9.47649776935577392578e-01, 3.22897553443908691406e-01,\n",
       "          4.51473236083984375000e-01],\n",
       "         [7.69536197185516357422e-01, 7.71433889865875244141e-01,\n",
       "          8.83811831474304199219e-01, 9.79268431663513183594e-01,\n",
       "          7.98326373100280761719e-01]],\n",
       "\n",
       "        [[8.42916786670684814453e-01, 9.44198727607727050781e-01,\n",
       "          3.24386417865753173828e-01, 3.90971541404724121094e-01,\n",
       "          1.75362825393676757812e-02],\n",
       "         [1.87976837158203125000e-01, 9.97415781021118164062e-02,\n",
       "          9.36135649681091308594e-02, 2.98462450504302978516e-01,\n",
       "          3.55360507965087890625e-02]],\n",
       "\n",
       "        [[6.98233842849731445312e-01, 8.33789110183715820312e-01,\n",
       "          3.23622763156890869141e-01, 6.89669609069824218750e-01,\n",
       "          5.44391274452209472656e-02],\n",
       "         [8.60861182212829589844e-01, 1.53728723526000976562e-02,\n",
       "          2.79008090496063232422e-01, 2.55563497543334960938e-01,\n",
       "          4.74780201911926269531e-02]],\n",
       "\n",
       "        [[6.93950355052947998047e-01, 2.49120056629180908203e-01,\n",
       "          4.82093751430511474609e-01, 4.70979154109954833984e-01,\n",
       "          8.22103738784790039062e-01],\n",
       "         [1.20597541332244873047e-01, 1.44152104854583740234e-01,\n",
       "          5.50046801567077636719e-01, 4.99275207519531250000e-01,\n",
       "          4.78981912136077880859e-01]],\n",
       "\n",
       "        [[6.05337083339691162109e-01, 5.29452323913574218750e-01,\n",
       "          4.84040677547454833984e-01, 2.66855180263519287109e-01,\n",
       "          5.66444635391235351562e-01],\n",
       "         [9.09668862819671630859e-01, 4.70770001411437988281e-02,\n",
       "          4.99194681644439697266e-01, 1.31576359272003173828e-01,\n",
       "          7.78061151504516601562e-01]],\n",
       "\n",
       "        [[9.36027348041534423828e-01, 7.30856001377105712891e-01,\n",
       "          7.51009106636047363281e-01, 5.62895536422729492188e-01,\n",
       "          4.37140762805938720703e-01],\n",
       "         [1.49469316005706787109e-01, 7.87226557731628417969e-02,\n",
       "          1.51959538459777832031e-01, 2.88513302803039550781e-02,\n",
       "          2.76751637458801269531e-01]],\n",
       "\n",
       "        [[3.44434320926666259766e-01, 2.30650007724761962891e-01,\n",
       "          4.91147816181182861328e-01, 7.80941128730773925781e-01,\n",
       "          1.43350422382354736328e-01],\n",
       "         [8.50913703441619873047e-01, 3.88737142086029052734e-01,\n",
       "          9.91320788860321044922e-01, 8.52839708328247070312e-01,\n",
       "          5.77217876911163330078e-01]],\n",
       "\n",
       "        [[1.26133143901824951172e-01, 7.83908069133758544922e-01,\n",
       "          8.61473798751831054688e-01, 6.75989985466003417969e-01,\n",
       "          8.75202417373657226562e-02],\n",
       "         [9.00929749011993408203e-01, 3.91519665718078613281e-01,\n",
       "          1.61644935607910156250e-01, 3.54583442211151123047e-01,\n",
       "          1.73590660095214843750e-01]],\n",
       "\n",
       "        [[6.62625670433044433594e-01, 4.17713105678558349609e-01,\n",
       "          4.32959973812103271484e-01, 2.50165462493896484375e-02,\n",
       "          3.04149389266967773438e-02],\n",
       "         [1.92925930023193359375e-01, 1.26226961612701416016e-01,\n",
       "          4.10362780094146728516e-01, 6.46935403347015380859e-01,\n",
       "          6.10589981079101562500e-04]],\n",
       "\n",
       "        [[6.15930080413818359375e-01, 3.43266546726226806641e-01,\n",
       "          6.46638691425323486328e-01, 2.84129083156585693359e-01,\n",
       "          6.55784606933593750000e-01],\n",
       "         [9.38482105731964111328e-01, 7.01271355152130126953e-01,\n",
       "          4.43396627902984619141e-01, 1.32584333419799804688e-01,\n",
       "          6.48252546787261962891e-01]],\n",
       "\n",
       "        [[8.54840219020843505859e-01, 9.09466147422790527344e-01,\n",
       "          6.62231266498565673828e-01, 8.43175888061523437500e-01,\n",
       "          2.01457440853118896484e-01],\n",
       "         [3.92493903636932373047e-01, 3.74343335628509521484e-01,\n",
       "          1.26401484012603759766e-01, 6.74926698207855224609e-01,\n",
       "          3.46944034099578857422e-01]],\n",
       "\n",
       "        [[6.84394657611846923828e-01, 5.14510214328765869141e-01,\n",
       "          2.81759023666381835938e-01, 2.40032494068145751953e-01,\n",
       "          8.44527602195739746094e-01],\n",
       "         [4.20383691787719726562e-01, 1.89356625080108642578e-01,\n",
       "          4.78888630867004394531e-01, 7.98749387264251708984e-01,\n",
       "          3.20827066898345947266e-01]],\n",
       "\n",
       "        [[1.22707068920135498047e-01, 7.15288162231445312500e-01,\n",
       "          5.87779462337493896484e-01, 3.23717713356018066406e-01,\n",
       "          5.43251216411590576172e-01],\n",
       "         [5.87168633937835693359e-01, 2.02014029026031494141e-01,\n",
       "          1.64100408554077148438e-01, 7.39998698234558105469e-01,\n",
       "          7.17114508152008056641e-01]],\n",
       "\n",
       "        [[1.80380046367645263672e-01, 3.41902494430541992188e-01,\n",
       "          2.20179438591003417969e-01, 6.92490935325622558594e-01,\n",
       "          6.59916877746582031250e-01],\n",
       "         [4.14226412773132324219e-01, 6.49037480354309082031e-01,\n",
       "          2.47100770473480224609e-01, 3.33376526832580566406e-02,\n",
       "          6.82751178741455078125e-01]],\n",
       "\n",
       "        [[4.25671875476837158203e-01, 7.67053186893463134766e-01,\n",
       "          1.53520524501800537109e-01, 6.67541086673736572266e-01,\n",
       "          4.08453345298767089844e-02],\n",
       "         [3.04100334644317626953e-01, 9.50098931789398193359e-01,\n",
       "          6.22759878635406494141e-01, 1.41502797603607177734e-01,\n",
       "          6.89816296100616455078e-01]],\n",
       "\n",
       "        [[7.44728624820709228516e-01, 7.95063376426696777344e-01,\n",
       "          2.69048392772674560547e-01, 5.58534681797027587891e-01,\n",
       "          5.21631836891174316406e-01],\n",
       "         [3.65965783596038818359e-01, 3.99888157844543457031e-02,\n",
       "          7.94340968132019042969e-02, 2.82613515853881835938e-01,\n",
       "          6.41604423522949218750e-01]],\n",
       "\n",
       "        [[4.40632283687591552734e-01, 9.19475495815277099609e-01,\n",
       "          8.78362953662872314453e-01, 9.33603048324584960938e-01,\n",
       "          6.35249316692352294922e-01],\n",
       "         [9.48185324668884277344e-02, 8.22047591209411621094e-01,\n",
       "          9.12144362926483154297e-01, 2.18656778335571289062e-01,\n",
       "          4.07051205635070800781e-01]],\n",
       "\n",
       "        [[3.79870831966400146484e-01, 8.53646993637084960938e-01,\n",
       "          6.67619705200195312500e-01, 5.73170363903045654297e-01,\n",
       "          5.49216687679290771484e-01],\n",
       "         [2.16764271259307861328e-01, 7.49597549438476562500e-01,\n",
       "          5.04956364631652832031e-01, 8.55161547660827636719e-01,\n",
       "          1.29772305488586425781e-01]],\n",
       "\n",
       "        [[1.91392779350280761719e-01, 2.60996520519256591797e-01,\n",
       "          2.57718205451965332031e-01, 2.85078883171081542969e-01,\n",
       "          6.55984103679656982422e-01],\n",
       "         [1.04206204414367675781e-02, 1.18847966194152832031e-01,\n",
       "          7.36125409603118896484e-01, 1.59577429294586181641e-01,\n",
       "          6.08979403972625732422e-01]],\n",
       "\n",
       "        [[4.01537001132965087891e-01, 2.96574354171752929688e-01,\n",
       "          7.99467206001281738281e-01, 4.82990920543670654297e-01,\n",
       "          1.01076006889343261719e-01],\n",
       "         [4.03130650520324707031e-01, 6.48363530635833740234e-01,\n",
       "          9.07189130783081054688e-01, 1.58485829830169677734e-01,\n",
       "          5.11803686618804931641e-01]],\n",
       "\n",
       "        [[5.46977639198303222656e-01, 8.09885799884796142578e-01,\n",
       "          2.85073161125183105469e-01, 7.29849457740783691406e-01,\n",
       "          7.63449251651763916016e-01],\n",
       "         [3.11106383800506591797e-01, 8.02822411060333251953e-01,\n",
       "          8.72572422027587890625e-01, 3.17060947418212890625e-03,\n",
       "          7.92233288288116455078e-01]],\n",
       "\n",
       "        [[4.48034286499023437500e-01, 2.67968237400054931641e-01,\n",
       "          9.47473168373107910156e-01, 4.26526665687561035156e-02,\n",
       "          4.14698719978332519531e-02],\n",
       "         [1.69790744781494140625e-01, 6.44745469093322753906e-01,\n",
       "          8.82091522216796875000e-02, 5.71091711521148681641e-01,\n",
       "          3.34147632122039794922e-01]],\n",
       "\n",
       "        [[7.22413003444671630859e-01, 3.52071285247802734375e-01,\n",
       "          1.60503804683685302734e-01, 9.22493875026702880859e-01,\n",
       "          8.41466784477233886719e-01],\n",
       "         [7.65336751937866210938e-01, 6.08981609344482421875e-01,\n",
       "          9.46795940399169921875e-01, 1.32074654102325439453e-01,\n",
       "          3.03917765617370605469e-01]],\n",
       "\n",
       "        [[3.20943951606750488281e-01, 3.35566997528076171875e-01,\n",
       "          3.08144330978393554688e-01, 8.66931557655334472656e-01,\n",
       "          3.45343351364135742188e-03],\n",
       "         [2.84590721130371093750e-01, 6.57028198242187500000e-01,\n",
       "          4.99456703662872314453e-01, 1.16492211818695068359e-01,\n",
       "          6.82101666927337646484e-01]],\n",
       "\n",
       "        [[2.79151260852813720703e-01, 9.11459863185882568359e-01,\n",
       "          4.71654832363128662109e-01, 3.52521300315856933594e-01,\n",
       "          8.18879187107086181641e-01],\n",
       "         [4.66153323650360107422e-01, 5.40054440498352050781e-01,\n",
       "          1.27758681774139404297e-01, 6.41372084617614746094e-01,\n",
       "          7.18028783798217773438e-01]],\n",
       "\n",
       "        [[2.18645215034484863281e-01, 7.05125629901885986328e-01,\n",
       "          9.70136582851409912109e-01, 9.60156321525573730469e-02,\n",
       "          9.23980474472045898438e-02],\n",
       "         [1.90318763256072998047e-01, 1.97506725788116455078e-01,\n",
       "          3.71309280395507812500e-01, 9.38899815082550048828e-01,\n",
       "          1.08509898185729980469e-01]],\n",
       "\n",
       "        [[8.98478150367736816406e-01, 9.56544220447540283203e-01,\n",
       "          7.17863500118255615234e-01, 4.71945643424987792969e-01,\n",
       "          4.11083221435546875000e-01],\n",
       "         [8.57293963432312011719e-01, 7.47987210750579833984e-01,\n",
       "          9.04629647731781005859e-01, 4.83982563018798828125e-01,\n",
       "          7.36749351024627685547e-01]],\n",
       "\n",
       "        [[9.15849387645721435547e-01, 4.78463053703308105469e-01,\n",
       "          7.66344547271728515625e-01, 6.91584587097167968750e-01,\n",
       "          3.36050927639007568359e-01],\n",
       "         [1.82103574275970458984e-01, 5.44675290584564208984e-01,\n",
       "          7.69468903541564941406e-01, 2.21559166908264160156e-01,\n",
       "          3.10509145259857177734e-01]],\n",
       "\n",
       "        [[1.26422643661499023438e-02, 5.30128836631774902344e-01,\n",
       "          3.58927369117736816406e-01, 1.98549866676330566406e-01,\n",
       "          1.31720304489135742188e-01],\n",
       "         [9.61601793766021728516e-01, 5.26482880115509033203e-01,\n",
       "          6.92301988601684570312e-01, 2.80620396137237548828e-01,\n",
       "          4.73267197608947753906e-01]],\n",
       "\n",
       "        [[9.11927223205566406250e-02, 4.54528391361236572266e-01,\n",
       "          6.98393583297729492188e-01, 3.47614288330078125000e-04,\n",
       "          8.77136707305908203125e-01],\n",
       "         [2.76415944099426269531e-02, 7.03689515590667724609e-01,\n",
       "          7.85572588443756103516e-01, 3.86775851249694824219e-01,\n",
       "          2.63517379760742187500e-01]],\n",
       "\n",
       "        [[1.95101201534271240234e-01, 9.23265039920806884766e-01,\n",
       "          8.51273417472839355469e-01, 4.35768604278564453125e-01,\n",
       "          1.42258405685424804688e-01],\n",
       "         [2.31460571289062500000e-01, 7.15193510055541992188e-01,\n",
       "          7.28611886501312255859e-01, 4.02405500411987304688e-01,\n",
       "          2.03269302845001220703e-01]],\n",
       "\n",
       "        [[4.55740690231323242188e-02, 1.19446098804473876953e-01,\n",
       "          8.95404517650604248047e-01, 4.92706537246704101562e-01,\n",
       "          7.09555566310882568359e-01],\n",
       "         [3.19733262062072753906e-01, 6.59661829471588134766e-01,\n",
       "          1.43176317214965820312e-03, 7.15834319591522216797e-01,\n",
       "          8.13952267169952392578e-01]],\n",
       "\n",
       "        [[6.54515683650970458984e-01, 7.10671007633209228516e-01,\n",
       "          5.09142398834228515625e-01, 4.09847259521484375000e-01,\n",
       "          3.07353258132934570312e-01],\n",
       "         [3.99167299270629882812e-01, 1.92877888679504394531e-01,\n",
       "          3.60268533229827880859e-01, 6.72531127929687500000e-01,\n",
       "          4.14446830749511718750e-01]],\n",
       "\n",
       "        [[3.95891129970550537109e-01, 3.03076028823852539062e-01,\n",
       "          5.22965848445892333984e-01, 2.48122394084930419922e-01,\n",
       "          8.55148792266845703125e-01],\n",
       "         [7.11861968040466308594e-01, 9.37466800212860107422e-01,\n",
       "          3.08004319667816162109e-01, 3.59595954418182373047e-01,\n",
       "          2.93576300144195556641e-01]],\n",
       "\n",
       "        [[6.35048747062683105469e-01, 8.64457488059997558594e-02,\n",
       "          9.41315174102783203125e-01, 2.81814634799957275391e-01,\n",
       "          4.21352148056030273438e-01],\n",
       "         [1.72488749027252197266e-01, 2.48371899127960205078e-01,\n",
       "          4.62708055973052978516e-01, 4.86536145210266113281e-01,\n",
       "          3.90096843242645263672e-01]],\n",
       "\n",
       "        [[3.66234898567199707031e-01, 1.88169956207275390625e-01,\n",
       "          7.75078237056732177734e-01, 2.59142577648162841797e-01,\n",
       "          3.76340925693511962891e-01],\n",
       "         [7.70535171031951904297e-01, 6.46933197975158691406e-01,\n",
       "          9.59776937961578369141e-01, 2.69420266151428222656e-01,\n",
       "          2.43525207042694091797e-01]],\n",
       "\n",
       "        [[6.35143935680389404297e-01, 7.15363621711730957031e-02,\n",
       "          3.04155409336090087891e-01, 2.88596153259277343750e-02,\n",
       "          5.91961205005645751953e-01],\n",
       "         [2.80047059059143066406e-02, 1.29444360733032226562e-01,\n",
       "          5.51671385765075683594e-01, 6.82681202888488769531e-02,\n",
       "          1.38805091381072998047e-01]],\n",
       "\n",
       "        [[1.59005105495452880859e-01, 6.82702422142028808594e-01,\n",
       "          7.11448192596435546875e-02, 5.83147048950195312500e-01,\n",
       "          8.58992516994476318359e-01],\n",
       "         [7.22077369689941406250e-01, 5.08663058280944824219e-02,\n",
       "          7.87773013114929199219e-01, 8.71410131454467773438e-01,\n",
       "          1.88782691955566406250e-01]],\n",
       "\n",
       "        [[1.32424235343933105469e-01, 6.58634006977081298828e-01,\n",
       "          3.89547944068908691406e-01, 9.87957358360290527344e-01,\n",
       "          8.63207340240478515625e-01],\n",
       "         [1.94071352481842041016e-01, 6.02222561836242675781e-01,\n",
       "          5.73431730270385742188e-01, 6.76107347011566162109e-01,\n",
       "          3.98150980472564697266e-01]],\n",
       "\n",
       "        [[5.20541012287139892578e-01, 8.11805725097656250000e-01,\n",
       "          9.43070054054260253906e-02, 9.94392633438110351562e-02,\n",
       "          1.27453565597534179688e-01],\n",
       "         [5.20552337169647216797e-01, 5.49700081348419189453e-01,\n",
       "          4.00218665599822998047e-01, 9.20153439044952392578e-01,\n",
       "          7.46523261070251464844e-01]],\n",
       "\n",
       "        [[1.10433936119079589844e-01, 4.09209728240966796875e-03,\n",
       "          5.99393725395202636719e-01, 1.00523650646209716797e-01,\n",
       "          6.00031554698944091797e-01],\n",
       "         [3.99431228637695312500e-01, 3.55206072330474853516e-01,\n",
       "          9.54770028591156005859e-01, 7.61768817901611328125e-02,\n",
       "          9.21721875667572021484e-01]],\n",
       "\n",
       "        [[9.35869991779327392578e-01, 8.12333822250366210938e-02,\n",
       "          9.00586307048797607422e-01, 8.18490684032440185547e-01,\n",
       "          1.69487595558166503906e-02],\n",
       "         [4.99725580215454101562e-01, 3.36097955703735351562e-01,\n",
       "          2.96229600906372070312e-01, 4.70024287700653076172e-01,\n",
       "          7.58896470069885253906e-01]],\n",
       "\n",
       "        [[9.85219895839691162109e-01, 1.54035091400146484375e-02,\n",
       "          7.75754034519195556641e-01, 7.23396718502044677734e-01,\n",
       "          8.41116547584533691406e-01],\n",
       "         [2.86514163017272949219e-01, 6.39394104480743408203e-01,\n",
       "          9.82764422893524169922e-01, 7.01605141162872314453e-01,\n",
       "          5.57885766029357910156e-01]],\n",
       "\n",
       "        [[7.73158073425292968750e-01, 4.24145400524139404297e-01,\n",
       "          6.66438519954681396484e-01, 5.17719745635986328125e-01,\n",
       "          9.58284914493560791016e-01],\n",
       "         [3.41281175613403320312e-01, 9.61055755615234375000e-01,\n",
       "          4.17513251304626464844e-01, 7.11519420146942138672e-01,\n",
       "          3.27845513820648193359e-01]],\n",
       "\n",
       "        [[2.86283195018768310547e-01, 4.65645015239715576172e-01,\n",
       "          4.75809812545776367188e-01, 4.00997042655944824219e-01,\n",
       "          2.72536039352416992188e-01],\n",
       "         [2.22147107124328613281e-02, 3.47466468811035156250e-01,\n",
       "          6.66572630405426025391e-01, 7.19558477401733398438e-01,\n",
       "          4.43123996257781982422e-01]],\n",
       "\n",
       "        [[2.43243634700775146484e-01, 2.53801643848419189453e-01,\n",
       "          2.28424251079559326172e-01, 4.87027227878570556641e-01,\n",
       "          2.26105332374572753906e-01],\n",
       "         [1.22302114963531494141e-01, 7.08110809326171875000e-01,\n",
       "          2.85278379917144775391e-01, 7.65735507011413574219e-01,\n",
       "          7.66889095306396484375e-01]],\n",
       "\n",
       "        [[9.61746275424957275391e-01, 8.36225926876068115234e-01,\n",
       "          4.71623361110687255859e-01, 5.03837108612060546875e-01,\n",
       "          4.73683953285217285156e-01],\n",
       "         [4.32736158370971679688e-01, 5.47311782836914062500e-01,\n",
       "          1.51577830314636230469e-01, 8.95485281944274902344e-01,\n",
       "          9.30822551250457763672e-01]],\n",
       "\n",
       "        [[1.91694557666778564453e-01, 1.11831665039062500000e-01,\n",
       "          9.14698243141174316406e-01, 4.17776286602020263672e-01,\n",
       "          5.74105978012084960938e-02],\n",
       "         [4.05441522598266601562e-02, 2.13656365871429443359e-01,\n",
       "          5.09074270725250244141e-01, 8.73450636863708496094e-01,\n",
       "          4.98865842819213867188e-02]],\n",
       "\n",
       "        [[1.17000937461853027344e-02, 6.68941795825958251953e-01,\n",
       "          4.15974617004394531250e-01, 6.87121808528900146484e-01,\n",
       "          4.08369362354278564453e-01],\n",
       "         [2.74295747280120849609e-01, 9.98915851116180419922e-01,\n",
       "          4.76262867450714111328e-01, 3.37398111820220947266e-01,\n",
       "          2.40291357040405273438e-01]],\n",
       "\n",
       "        [[5.68711221218109130859e-01, 7.23035633563995361328e-01,\n",
       "          6.88489735126495361328e-01, 4.92602348327636718750e-01,\n",
       "          2.73271143436431884766e-01],\n",
       "         [2.35694646835327148438e-01, 5.43231010437011718750e-01,\n",
       "          7.91935920715332031250e-02, 3.13723683357238769531e-02,\n",
       "          7.34538137912750244141e-01]],\n",
       "\n",
       "        [[2.19816327095031738281e-01, 5.26366055011749267578e-01,\n",
       "          3.49647998809814453125e-01, 6.81122958660125732422e-01,\n",
       "          9.07782912254333496094e-02],\n",
       "         [3.06637048721313476562e-01, 2.65973627567291259766e-01,\n",
       "          5.21328449249267578125e-02, 6.53403997421264648438e-03,\n",
       "          8.11462461948394775391e-01]],\n",
       "\n",
       "        [[5.66923141479492187500e-01, 3.54342162609100341797e-01,\n",
       "          1.47905588150024414062e-01, 6.90279722213745117188e-01,\n",
       "          4.81230556964874267578e-01],\n",
       "         [1.93174123764038085938e-01, 2.92320311069488525391e-01,\n",
       "          1.60294592380523681641e-01, 3.60963523387908935547e-01,\n",
       "          9.74411368370056152344e-01]],\n",
       "\n",
       "        [[6.85837805271148681641e-01, 3.90151917934417724609e-01,\n",
       "          7.41752326488494873047e-01, 6.91612720489501953125e-01,\n",
       "          9.89341735839843750000e-03],\n",
       "         [7.98467874526977539062e-01, 7.76591002941131591797e-01,\n",
       "          4.25960361957550048828e-01, 9.99100029468536376953e-01,\n",
       "          8.94210040569305419922e-01]],\n",
       "\n",
       "        [[2.52891242504119873047e-01, 5.15669941902160644531e-01,\n",
       "          4.80466842651367187500e-01, 5.22043287754058837891e-01,\n",
       "          9.00375485420227050781e-01],\n",
       "         [7.53940939903259277344e-02, 7.25551664829254150391e-01,\n",
       "          7.38874733448028564453e-01, 5.43868660926818847656e-01,\n",
       "          3.73672008514404296875e-01]],\n",
       "\n",
       "        [[3.78139019012451171875e-02, 1.29541218280792236328e-01,\n",
       "          1.31637334823608398438e-01, 3.66765737533569335938e-01,\n",
       "          2.58382320404052734375e-01],\n",
       "         [9.09071862697601318359e-01, 1.07486784458160400391e-01,\n",
       "          2.42590904235839843750e-05, 7.26725518703460693359e-01,\n",
       "          5.19358932971954345703e-01]],\n",
       "\n",
       "        [[3.88707995414733886719e-01, 9.86751556396484375000e-01,\n",
       "          6.35250747203826904297e-01, 6.20286643505096435547e-01,\n",
       "          7.60827064514160156250e-01],\n",
       "         [2.28257238864898681641e-01, 6.28303945064544677734e-01,\n",
       "          1.92767262458801269531e-01, 8.48043382167816162109e-01,\n",
       "          3.04278314113616943359e-01]],\n",
       "\n",
       "        [[9.08165752887725830078e-01, 6.22660398483276367188e-01,\n",
       "          4.44646358489990234375e-01, 8.59794616699218750000e-01,\n",
       "          3.00548911094665527344e-01],\n",
       "         [5.66699445247650146484e-01, 1.45722806453704833984e-01,\n",
       "          4.98658299446105957031e-01, 4.00790274143218994141e-01,\n",
       "          7.79998004436492919922e-01]],\n",
       "\n",
       "        [[1.55577719211578369141e-01, 5.32527029514312744141e-01,\n",
       "          5.06424963474273681641e-01, 7.38146960735321044922e-01,\n",
       "          5.59670329093933105469e-01],\n",
       "         [5.77272534370422363281e-01, 6.70136094093322753906e-01,\n",
       "          6.79134011268615722656e-01, 4.63245809078216552734e-01,\n",
       "          9.41719949245452880859e-01]]])"
      ]
     },
     "execution_count": 164,
     "metadata": {},
     "output_type": "execute_result"
    }
   ],
   "source": [
    "x"
   ]
  },
  {
   "cell_type": "code",
   "execution_count": 165,
   "id": "836275d9-f940-4295-9566-fcc12c4cda19",
   "metadata": {},
   "outputs": [
    {
     "data": {
      "text/plain": [
       "torch.Size([64, 2, 5])"
      ]
     },
     "execution_count": 165,
     "metadata": {},
     "output_type": "execute_result"
    }
   ],
   "source": [
    "z = z.view(64,2,5)\n",
    "z.shape"
   ]
  },
  {
   "cell_type": "code",
   "execution_count": 166,
   "id": "8cf37073-fc9b-4ff6-b8b5-7e5f943e91d7",
   "metadata": {},
   "outputs": [
    {
     "data": {
      "text/plain": [
       "torch.Size([64, 5, 2])"
      ]
     },
     "execution_count": 166,
     "metadata": {},
     "output_type": "execute_result"
    }
   ],
   "source": [
    "z.permute(0,2,1).shape"
   ]
  },
  {
   "cell_type": "code",
   "execution_count": 167,
   "id": "65a0ed41-e1b6-4c1a-bfdc-ac8d04256629",
   "metadata": {},
   "outputs": [
    {
     "data": {
      "text/plain": [
       "torch.Size([10])"
      ]
     },
     "execution_count": 167,
     "metadata": {},
     "output_type": "execute_result"
    }
   ],
   "source": [
    "x = torch.arange(10)\n",
    "x.shape"
   ]
  },
  {
   "cell_type": "code",
   "execution_count": 168,
   "id": "e3b7a164-d8e8-46c8-854f-4a20962e4f12",
   "metadata": {},
   "outputs": [
    {
     "data": {
      "text/plain": [
       "torch.Size([1, 10])"
      ]
     },
     "execution_count": 168,
     "metadata": {},
     "output_type": "execute_result"
    }
   ],
   "source": [
    "x.unsqueeze(0).shape"
   ]
  },
  {
   "cell_type": "code",
   "execution_count": 169,
   "id": "dd1250fa-b22b-42df-a6b5-cca719d8736d",
   "metadata": {},
   "outputs": [
    {
     "data": {
      "text/plain": [
       "tensor([[0],\n",
       "        [1],\n",
       "        [2],\n",
       "        [3],\n",
       "        [4],\n",
       "        [5],\n",
       "        [6],\n",
       "        [7],\n",
       "        [8],\n",
       "        [9]])"
      ]
     },
     "execution_count": 169,
     "metadata": {},
     "output_type": "execute_result"
    }
   ],
   "source": [
    "x.unsqueeze(1)"
   ]
  },
  {
   "cell_type": "code",
   "execution_count": 170,
   "id": "9a91de9f-0ef0-4f7d-a6e9-6ff768c67f60",
   "metadata": {},
   "outputs": [
    {
     "data": {
      "text/plain": [
       "tensor([[0, 1, 2, 3, 4],\n",
       "        [5, 6, 7, 8, 9]])"
      ]
     },
     "execution_count": 170,
     "metadata": {},
     "output_type": "execute_result"
    }
   ],
   "source": [
    "x = torch.arange(10).reshape(2,5)\n",
    "x"
   ]
  },
  {
   "cell_type": "code",
   "execution_count": 171,
   "id": "828cb324-af5d-49f0-8c7a-3db5da566aec",
   "metadata": {},
   "outputs": [
    {
     "data": {
      "text/plain": [
       "tensor([[[0, 1, 2, 3, 4],\n",
       "         [5, 6, 7, 8, 9]]])"
      ]
     },
     "execution_count": 171,
     "metadata": {},
     "output_type": "execute_result"
    }
   ],
   "source": [
    "x.unsqueeze(0)"
   ]
  },
  {
   "cell_type": "code",
   "execution_count": 172,
   "id": "ba48de65-036c-4a4e-8f29-5eec7267cbd0",
   "metadata": {},
   "outputs": [
    {
     "data": {
      "text/plain": [
       "tensor([[[0],\n",
       "         [1],\n",
       "         [2],\n",
       "         [3],\n",
       "         [4]],\n",
       "\n",
       "        [[5],\n",
       "         [6],\n",
       "         [7],\n",
       "         [8],\n",
       "         [9]]])"
      ]
     },
     "execution_count": 172,
     "metadata": {},
     "output_type": "execute_result"
    }
   ],
   "source": [
    "x.unsqueeze(2)"
   ]
  },
  {
   "cell_type": "code",
   "execution_count": 173,
   "id": "a1d477ae-88a5-496f-ab73-08cf181ec3fc",
   "metadata": {},
   "outputs": [
    {
     "data": {
      "text/plain": [
       "torch.Size([1, 10])"
      ]
     },
     "execution_count": 173,
     "metadata": {},
     "output_type": "execute_result"
    }
   ],
   "source": [
    "x = torch.arange(10)\n",
    "x.unsqueeze(0).shape"
   ]
  },
  {
   "cell_type": "code",
   "execution_count": 174,
   "id": "ed08ae05-295c-4dd0-8a5b-0af398ef2394",
   "metadata": {},
   "outputs": [
    {
     "data": {
      "text/plain": [
       "tensor([[0],\n",
       "        [1],\n",
       "        [2],\n",
       "        [3],\n",
       "        [4],\n",
       "        [5],\n",
       "        [6],\n",
       "        [7],\n",
       "        [8],\n",
       "        [9]])"
      ]
     },
     "execution_count": 174,
     "metadata": {},
     "output_type": "execute_result"
    }
   ],
   "source": [
    "x.unsqueeze(1)"
   ]
  },
  {
   "cell_type": "code",
   "execution_count": 175,
   "id": "7dc4f01c-0ddb-4176-a406-78b48c81a457",
   "metadata": {},
   "outputs": [
    {
     "data": {
      "text/plain": [
       "torch.Size([1, 1, 10])"
      ]
     },
     "execution_count": 175,
     "metadata": {},
     "output_type": "execute_result"
    }
   ],
   "source": [
    "x.unsqueeze(0).unsqueeze(1).shape"
   ]
  },
  {
   "cell_type": "code",
   "execution_count": 176,
   "id": "664b1fc9-8543-4908-8436-39168211391e",
   "metadata": {},
   "outputs": [
    {
     "data": {
      "text/plain": [
       "torch.Size([1, 1, 1, 1, 10])"
      ]
     },
     "execution_count": 176,
     "metadata": {},
     "output_type": "execute_result"
    }
   ],
   "source": [
    "x.unsqueeze(0).unsqueeze(1).unsqueeze(0).unsqueeze(1).shape"
   ]
  },
  {
   "cell_type": "code",
   "execution_count": 177,
   "id": "8156b476-8ad4-4246-8660-a545ed86f083",
   "metadata": {},
   "outputs": [],
   "source": [
    "x = x.unsqueeze(0)\n",
    "z = x.squeeze(1)"
   ]
  },
  {
   "cell_type": "code",
   "execution_count": 178,
   "id": "2bf9dd83-72c3-44bc-9703-691d025bfe12",
   "metadata": {},
   "outputs": [
    {
     "data": {
      "text/plain": [
       "torch.Size([1, 10])"
      ]
     },
     "execution_count": 178,
     "metadata": {},
     "output_type": "execute_result"
    }
   ],
   "source": [
    "z.shape"
   ]
  },
  {
   "cell_type": "code",
   "execution_count": 179,
   "id": "788599ae-d590-4b04-8ea2-9955ffd98efe",
   "metadata": {},
   "outputs": [
    {
     "data": {
      "text/plain": [
       "torch.Size([10])"
      ]
     },
     "execution_count": 179,
     "metadata": {},
     "output_type": "execute_result"
    }
   ],
   "source": [
    "z = x.squeeze(0)\n",
    "z.shape"
   ]
  },
  {
   "cell_type": "code",
   "execution_count": 180,
   "id": "c251b867-8525-42a4-ab22-b3b68ecf195d",
   "metadata": {},
   "outputs": [
    {
     "data": {
      "text/plain": [
       "tensor([0, 1, 2, 3, 4, 5, 6, 7, 8, 9])"
      ]
     },
     "execution_count": 180,
     "metadata": {},
     "output_type": "execute_result"
    }
   ],
   "source": [
    "z.view(-1)"
   ]
  },
  {
   "cell_type": "code",
   "execution_count": 181,
   "id": "7927d913-5b6b-495e-ba94-1eb0474da858",
   "metadata": {},
   "outputs": [
    {
     "data": {
      "text/plain": [
       "tensor([0, 1, 2, 3, 4, 5, 6, 7, 8, 9])"
      ]
     },
     "execution_count": 181,
     "metadata": {},
     "output_type": "execute_result"
    }
   ],
   "source": [
    "z"
   ]
  },
  {
   "cell_type": "code",
   "execution_count": 182,
   "id": "80ec8e05-a918-400c-9dbd-6310dea4423f",
   "metadata": {},
   "outputs": [],
   "source": [
    "import torch"
   ]
  },
  {
   "cell_type": "code",
   "execution_count": 183,
   "id": "37bedc1e-7bbe-47a8-92a8-e9552f2d7262",
   "metadata": {},
   "outputs": [],
   "source": [
    "x = torch.randint(1,100,(10,10))"
   ]
  },
  {
   "cell_type": "code",
   "execution_count": 184,
   "id": "9f823742-af2e-4621-ab01-f957c3c407db",
   "metadata": {},
   "outputs": [
    {
     "data": {
      "text/plain": [
       "tensor([[23, 72, 29, 37, 19, 81, 43, 40, 73, 52],\n",
       "        [99, 69, 58, 11,  2, 10, 27,  8, 30, 61],\n",
       "        [90, 51, 81, 63, 80, 81, 12,  1,  2, 32],\n",
       "        [54, 92, 25, 32, 93, 28, 20, 41,  7, 57],\n",
       "        [97, 41, 13, 84,  8, 43, 12, 93, 42, 66],\n",
       "        [ 4, 31, 28, 64, 69,  5,  4, 46, 23, 98],\n",
       "        [43, 62, 15, 45, 19, 83, 24, 42, 98, 55],\n",
       "        [92, 66, 47, 45, 93, 91, 45, 18, 42, 28],\n",
       "        [30, 54, 81, 27,  6, 94, 82, 89, 19, 71],\n",
       "        [10,  6, 88,  2,  4, 95, 46, 82, 24, 68]])"
      ]
     },
     "execution_count": 184,
     "metadata": {},
     "output_type": "execute_result"
    }
   ],
   "source": [
    "x"
   ]
  },
  {
   "cell_type": "code",
   "execution_count": 185,
   "id": "8886f777-2769-48bb-a48e-d5a2aa71f397",
   "metadata": {},
   "outputs": [
    {
     "data": {
      "text/plain": [
       "tensor([1, 4, 1, 7, 9, 8, 3, 5, 4, 3])"
      ]
     },
     "execution_count": 185,
     "metadata": {},
     "output_type": "execute_result"
    }
   ],
   "source": [
    "x = torch.randint(1,10,(10,))\n",
    "y = torch.randint(1,10,(10,))\n",
    "x"
   ]
  },
  {
   "cell_type": "code",
   "execution_count": 186,
   "id": "9527ff29-b632-4592-87a2-560035054bbf",
   "metadata": {},
   "outputs": [
    {
     "data": {
      "text/plain": [
       "tensor([ 1,  5,  6, 13, 22, 30, 33, 38, 42, 45])"
      ]
     },
     "execution_count": 186,
     "metadata": {},
     "output_type": "execute_result"
    }
   ],
   "source": [
    "torch.cumsum(x, dim=0)"
   ]
  },
  {
   "cell_type": "code",
   "execution_count": 187,
   "id": "67437c7e-5dfc-493c-b449-47c5fae4d18e",
   "metadata": {},
   "outputs": [
    {
     "data": {
      "text/plain": [
       "tensor([0, 1, 4, 1, 7, 9, 8, 3, 5, 4, 3])"
      ]
     },
     "execution_count": 187,
     "metadata": {},
     "output_type": "execute_result"
    }
   ],
   "source": [
    " torch.cat((torch.tensor([0]), x))"
   ]
  },
  {
   "cell_type": "code",
   "execution_count": 188,
   "id": "15ec304d-8178-48fd-8174-68e735866f47",
   "metadata": {},
   "outputs": [
    {
     "data": {
      "text/plain": [
       "tensor(37.)"
      ]
     },
     "execution_count": 188,
     "metadata": {},
     "output_type": "execute_result"
    }
   ],
   "source": [
    "torch.trapz(x,y)"
   ]
  },
  {
   "cell_type": "code",
   "execution_count": 189,
   "id": "493f5bb0-3630-45fe-9029-30f0bcc09f3e",
   "metadata": {},
   "outputs": [],
   "source": [
    "import numpy as np"
   ]
  },
  {
   "cell_type": "code",
   "execution_count": 190,
   "id": "42a5766e-6435-4fa9-b594-35b5ca3935f3",
   "metadata": {},
   "outputs": [
    {
     "data": {
      "text/plain": [
       "tensor([[21, 39],\n",
       "        [31, 30],\n",
       "        [23, 43],\n",
       "        [11, 46],\n",
       "        [26, 46],\n",
       "        [31, 25],\n",
       "        [21, 38],\n",
       "        [22, 39],\n",
       "        [22, 19],\n",
       "        [18, 14]])"
      ]
     },
     "execution_count": 190,
     "metadata": {},
     "output_type": "execute_result"
    }
   ],
   "source": [
    "t1 = torch.tensor([[21,39],[31,30],[23,43],[11,46],[26,46],[31,25],[21,38],[22,39],[22,19],[18, 14]])\n",
    "t1"
   ]
  },
  {
   "cell_type": "code",
   "execution_count": 191,
   "id": "83f1ea14-9e48-4a4f-bf40-56bb4360e434",
   "metadata": {},
   "outputs": [
    {
     "data": {
      "text/plain": [
       "torch.Size([0])"
      ]
     },
     "execution_count": 191,
     "metadata": {},
     "output_type": "execute_result"
    }
   ],
   "source": [
    "t2 = torch.tensor([])\n",
    "t2\n",
    "t2.size()"
   ]
  },
  {
   "cell_type": "code",
   "execution_count": 192,
   "id": "5a71328a-e47a-4c89-a17d-195db29cc0b0",
   "metadata": {},
   "outputs": [
    {
     "ename": "ValueError",
     "evalue": "too many dimensions 'str'",
     "output_type": "error",
     "traceback": [
      "\u001b[1;31m---------------------------------------------------------------------------\u001b[0m",
      "\u001b[1;31mValueError\u001b[0m                                Traceback (most recent call last)",
      "Cell \u001b[1;32mIn[192], line 2\u001b[0m\n\u001b[0;32m      1\u001b[0m \u001b[38;5;66;03m# Example 3 - breaking \u001b[39;00m\n\u001b[1;32m----> 2\u001b[0m \u001b[43mtorch\u001b[49m\u001b[38;5;241;43m.\u001b[39;49m\u001b[43mtensor\u001b[49m\u001b[43m(\u001b[49m\u001b[43m[\u001b[49m\u001b[38;5;124;43m'\u001b[39;49m\u001b[38;5;124;43mSam\u001b[39;49m\u001b[38;5;124;43m'\u001b[39;49m\u001b[43m,\u001b[49m\u001b[43m \u001b[49m\u001b[38;5;124;43m'\u001b[39;49m\u001b[38;5;124;43mAlice\u001b[39;49m\u001b[38;5;124;43m'\u001b[39;49m\u001b[43m]\u001b[49m\u001b[43m)\u001b[49m\n",
      "\u001b[1;31mValueError\u001b[0m: too many dimensions 'str'"
     ]
    }
   ],
   "source": [
    "# Example 3 - breaking \n",
    "torch.tensor(['Sam', 'Alice'])"
   ]
  },
  {
   "cell_type": "code",
   "execution_count": null,
   "id": "c127c4ae-0c0e-42e7-a31f-ec83d912da4f",
   "metadata": {},
   "outputs": [],
   "source": [
    "a1 = np.array([[1,2,3],[4,5,6]])\n",
    "a1.dtype"
   ]
  },
  {
   "cell_type": "code",
   "execution_count": 193,
   "id": "187723d1-56c7-45a2-815b-0c470e106307",
   "metadata": {},
   "outputs": [
    {
     "ename": "NameError",
     "evalue": "name 'a1' is not defined",
     "output_type": "error",
     "traceback": [
      "\u001b[1;31m---------------------------------------------------------------------------\u001b[0m",
      "\u001b[1;31mNameError\u001b[0m                                 Traceback (most recent call last)",
      "Cell \u001b[1;32mIn[193], line 1\u001b[0m\n\u001b[1;32m----> 1\u001b[0m t1 \u001b[38;5;241m=\u001b[39m torch\u001b[38;5;241m.\u001b[39mfrom_numpy(\u001b[43ma1\u001b[49m)\n\u001b[0;32m      2\u001b[0m t1\u001b[38;5;241m.\u001b[39mdtype\n",
      "\u001b[1;31mNameError\u001b[0m: name 'a1' is not defined"
     ]
    }
   ],
   "source": [
    "t1 = torch.from_numpy(a1)\n",
    "t1.dtype"
   ]
  },
  {
   "cell_type": "code",
   "execution_count": 194,
   "id": "44cf4f9b-d4e2-4c58-b965-1cdde9f510a3",
   "metadata": {},
   "outputs": [
    {
     "data": {
      "text/plain": [
       "(array([[161,  67],\n",
       "        [154,  76],\n",
       "        [172,  61]]),\n",
       " array([78, 89, 72]))"
      ]
     },
     "execution_count": 194,
     "metadata": {},
     "output_type": "execute_result"
    }
   ],
   "source": [
    "Hight_Weight = np.array([[161,67],[154,76],[172, 61]])\n",
    "Heart_Rate = np.array([78,89,72])\n",
    "(Hight_Weight.dtype, Heart_Rate.dtype)\n",
    "\n",
    "l2 = (Hight_Weight, Heart_Rate)\n",
    "l2"
   ]
  },
  {
   "cell_type": "code",
   "execution_count": 195,
   "id": "6c036efd-6638-4925-a7a8-324499bd13a8",
   "metadata": {},
   "outputs": [
    {
     "name": "stdout",
     "output_type": "stream",
     "text": [
      "Type of the element\n",
      " [[161  67]\n",
      " [154  76]\n",
      " [172  61]]\n",
      " is torch.int32\n",
      "\n",
      "Type of the element\n",
      " [78 89 72]\n",
      " is torch.int32\n",
      "\n"
     ]
    }
   ],
   "source": [
    "for i in l2 :\n",
    "  tensor = torch.from_numpy(i)\n",
    "  print(\"Type of the element\\n {}\\n is {}\\n\".format(i, tensor.dtype))   "
   ]
  },
  {
   "cell_type": "code",
   "execution_count": 196,
   "id": "740f689b-cb22-4155-9aa0-6b607397c23f",
   "metadata": {},
   "outputs": [
    {
     "ename": "TypeError",
     "evalue": "can't convert np.ndarray of type numpy.str_. The only supported types are: float64, float32, float16, complex64, complex128, int64, int32, int16, int8, uint8, and bool.",
     "output_type": "error",
     "traceback": [
      "\u001b[1;31m---------------------------------------------------------------------------\u001b[0m",
      "\u001b[1;31mTypeError\u001b[0m                                 Traceback (most recent call last)",
      "Cell \u001b[1;32mIn[196], line 2\u001b[0m\n\u001b[0;32m      1\u001b[0m a3 \u001b[38;5;241m=\u001b[39m np\u001b[38;5;241m.\u001b[39marray([\u001b[38;5;124m'\u001b[39m\u001b[38;5;124m1\u001b[39m\u001b[38;5;124m'\u001b[39m,\u001b[38;5;124m'\u001b[39m\u001b[38;5;124m2\u001b[39m\u001b[38;5;124m'\u001b[39m,\u001b[38;5;124m'\u001b[39m\u001b[38;5;124m3\u001b[39m\u001b[38;5;124m'\u001b[39m])\n\u001b[1;32m----> 2\u001b[0m \u001b[43mtorch\u001b[49m\u001b[38;5;241;43m.\u001b[39;49m\u001b[43mfrom_numpy\u001b[49m\u001b[43m(\u001b[49m\u001b[43ma3\u001b[49m\u001b[43m)\u001b[49m\n",
      "\u001b[1;31mTypeError\u001b[0m: can't convert np.ndarray of type numpy.str_. The only supported types are: float64, float32, float16, complex64, complex128, int64, int32, int16, int8, uint8, and bool."
     ]
    }
   ],
   "source": [
    "a3 = np.array(['1','2','3'])\n",
    "torch.from_numpy(a3)"
   ]
  },
  {
   "cell_type": "code",
   "execution_count": null,
   "id": "1739780a-dd60-4888-bf36-266b397b3dda",
   "metadata": {},
   "outputs": [],
   "source": [
    "t1 = torch.randn(3,3)\n",
    "t1"
   ]
  },
  {
   "cell_type": "code",
   "execution_count": 197,
   "id": "412f3a60-b420-4d94-8efe-9db8471cd48e",
   "metadata": {},
   "outputs": [
    {
     "data": {
      "text/plain": [
       "(tensor([21, 39]),\n",
       " tensor([31, 30]),\n",
       " tensor([23, 43]),\n",
       " tensor([11, 46]),\n",
       " tensor([26, 46]),\n",
       " tensor([31, 25]),\n",
       " tensor([21, 38]),\n",
       " tensor([22, 39]),\n",
       " tensor([22, 19]),\n",
       " tensor([18, 14]))"
      ]
     },
     "execution_count": 197,
     "metadata": {},
     "output_type": "execute_result"
    }
   ],
   "source": [
    "t1.unbind()"
   ]
  },
  {
   "cell_type": "code",
   "execution_count": 198,
   "id": "df697983-7e11-48e7-8057-3ef1a191711f",
   "metadata": {},
   "outputs": [
    {
     "data": {
      "text/plain": [
       "(tensor([1, 1, 1, 1, 0, 0, 1, 1, 1, 1]),\n",
       " tensor([1, 1, 1, 1, 1, 1, 1, 1, 1, 1]),\n",
       " tensor([1, 1, 1, 1, 0, 1, 1, 1, 0, 0]),\n",
       " tensor([1, 1, 1, 0, 1, 1, 1, 1, 0, 0]),\n",
       " tensor([1, 1, 1, 0, 1, 1, 1, 1, 0, 1]),\n",
       " tensor([0, 1, 1, 0, 0, 1, 0, 0, 0, 0]),\n",
       " tensor([1, 1, 1, 1, 1, 1, 1, 1, 1, 1]))"
      ]
     },
     "execution_count": 198,
     "metadata": {},
     "output_type": "execute_result"
    }
   ],
   "source": [
    "t2 = torch.tensor([[1,1,1,1,1,0,1],[1,1,1,1,1,1,1],[1,1,1,1,1,1,1],\n",
    "              [1,1,1,0,0,0,1],[0,1,0,1,1,0,1],[0,1,1,1,1,1,1],\n",
    "              [1,1,1,1,1,0,1],[1,1,1,1,1,0,1],[1,1,0,0,0,0,1],\n",
    "              [1,1,0,0,1,0,1]])\n",
    "t2.unbind(dim = 1) "
   ]
  },
  {
   "cell_type": "code",
   "execution_count": 199,
   "id": "276a41f1-2df9-4d25-bc55-c3c358bd0b47",
   "metadata": {},
   "outputs": [
    {
     "ename": "IndexError",
     "evalue": "Dimension out of range (expected to be in range of [-2, 1], but got 2)",
     "output_type": "error",
     "traceback": [
      "\u001b[1;31m---------------------------------------------------------------------------\u001b[0m",
      "\u001b[1;31mIndexError\u001b[0m                                Traceback (most recent call last)",
      "Cell \u001b[1;32mIn[199], line 2\u001b[0m\n\u001b[0;32m      1\u001b[0m t3 \u001b[38;5;241m=\u001b[39m torch\u001b[38;5;241m.\u001b[39mrandn(\u001b[38;5;241m3\u001b[39m,\u001b[38;5;241m2\u001b[39m)\n\u001b[1;32m----> 2\u001b[0m \u001b[43mt3\u001b[49m\u001b[38;5;241;43m.\u001b[39;49m\u001b[43munbind\u001b[49m\u001b[43m(\u001b[49m\u001b[43mdim\u001b[49m\u001b[43m \u001b[49m\u001b[38;5;241;43m=\u001b[39;49m\u001b[43m \u001b[49m\u001b[38;5;241;43m2\u001b[39;49m\u001b[43m)\u001b[49m\n",
      "\u001b[1;31mIndexError\u001b[0m: Dimension out of range (expected to be in range of [-2, 1], but got 2)"
     ]
    }
   ],
   "source": [
    "t3 = torch.randn(3,2)\n",
    "t3.unbind(dim = 2)"
   ]
  },
  {
   "cell_type": "code",
   "execution_count": null,
   "id": "fa6a951e-c0e6-40d3-8aec-777ad218ee13",
   "metadata": {},
   "outputs": [],
   "source": [
    "x = torch.tensor([[1,2,3], [-4,-5,-6], [7,8,9]])\n",
    "y = torch.tensor(torch.mul(x, -1)) # Elementwise negative of x\n",
    "torch.where(x>0, x, y)"
   ]
  },
  {
   "cell_type": "code",
   "execution_count": null,
   "id": "83858422-db3f-447f-bfa8-8fbc6b53890b",
   "metadata": {},
   "outputs": [],
   "source": [
    "y"
   ]
  },
  {
   "cell_type": "code",
   "execution_count": null,
   "id": "e5e3905a-adde-4243-82d7-1805ce0170ec",
   "metadata": {},
   "outputs": [],
   "source": [
    "torch.where(x>0, 1,0)"
   ]
  },
  {
   "cell_type": "code",
   "execution_count": null,
   "id": "05dc750a-d0b1-4387-ab52-720cbc7df794",
   "metadata": {},
   "outputs": [],
   "source": [
    "torch.trapz(x)"
   ]
  },
  {
   "cell_type": "code",
   "execution_count": null,
   "id": "269f1ea0-39a9-4742-8c73-33ccfa839bb2",
   "metadata": {},
   "outputs": [],
   "source": [
    "x = torch.randn(1,20,10).squeeze(0)\n",
    "x"
   ]
  },
  {
   "cell_type": "code",
   "execution_count": null,
   "id": "cd66ffb5-4d25-44ca-a959-095010c91537",
   "metadata": {},
   "outputs": [],
   "source": [
    "m, i = torch.max(x,dim=1)"
   ]
  },
  {
   "cell_type": "code",
   "execution_count": null,
   "id": "80906159-6430-4f94-841d-2d8f09799d2f",
   "metadata": {},
   "outputs": [],
   "source": [
    "m"
   ]
  },
  {
   "cell_type": "code",
   "execution_count": null,
   "id": "8e643ce8-0ffe-483d-a575-05622999041d",
   "metadata": {},
   "outputs": [],
   "source": [
    "i"
   ]
  },
  {
   "cell_type": "code",
   "execution_count": null,
   "id": "4f4ccd9c-be07-4c85-9782-1a9513fbd3c7",
   "metadata": {},
   "outputs": [],
   "source": [
    "m, i = torch.max(x,dim=0)"
   ]
  },
  {
   "cell_type": "code",
   "execution_count": null,
   "id": "17cd3607-b810-4452-9c4e-9db4fccd8de2",
   "metadata": {},
   "outputs": [],
   "source": [
    "m"
   ]
  },
  {
   "cell_type": "code",
   "execution_count": null,
   "id": "788098c4-ad6d-4b60-bacb-90edaf75f798",
   "metadata": {},
   "outputs": [],
   "source": [
    "i"
   ]
  },
  {
   "cell_type": "code",
   "execution_count": null,
   "id": "6f05389f-b1b7-4c4f-95a4-99161be81bc8",
   "metadata": {},
   "outputs": [],
   "source": [
    "x.shape"
   ]
  },
  {
   "cell_type": "code",
   "execution_count": null,
   "id": "85073cc0-dfe0-46e9-b76b-a8ae5034fb37",
   "metadata": {},
   "outputs": [],
   "source": [
    "x.unsqueeze(1)"
   ]
  },
  {
   "cell_type": "code",
   "execution_count": null,
   "id": "8e5a888f-6227-4dca-9425-142f586751fb",
   "metadata": {},
   "outputs": [],
   "source": [
    "m.shape"
   ]
  },
  {
   "cell_type": "code",
   "execution_count": null,
   "id": "20c1c260-78a2-40b3-ba52-3c5ee7239448",
   "metadata": {},
   "outputs": [],
   "source": [
    "x"
   ]
  },
  {
   "cell_type": "code",
   "execution_count": null,
   "id": "0a064a02-fe95-40d4-8583-5d538aaa77f2",
   "metadata": {},
   "outputs": [],
   "source": [
    "x.shape"
   ]
  },
  {
   "cell_type": "code",
   "execution_count": null,
   "id": "2a0f0e32-3883-4d34-876f-63907e681d95",
   "metadata": {},
   "outputs": [],
   "source": [
    "x[:, 1:4]"
   ]
  },
  {
   "cell_type": "code",
   "execution_count": null,
   "id": "8a97a043-1f1f-410c-b93e-800e6bc80eb5",
   "metadata": {},
   "outputs": [],
   "source": [
    "import torch.nn as nn\n",
    "\n",
    "mse = nn.MSELoss(reduction=\"sum\")"
   ]
  },
  {
   "cell_type": "code",
   "execution_count": null,
   "id": "883d34d7-ed87-409f-b03a-ebb7c86d60a6",
   "metadata": {},
   "outputs": [],
   "source": [
    "mse = mse(torch.tensor[3,2,3],torch.tensor[2,1,2])\n",
    "mse"
   ]
  },
  {
   "cell_type": "code",
   "execution_count": null,
   "id": "30368b14-5141-43f6-a2c8-cf6376295ca9",
   "metadata": {},
   "outputs": [],
   "source": [
    "torch.flatten(torch.tensor[3,2,3], dim=1)"
   ]
  },
  {
   "cell_type": "code",
   "execution_count": null,
   "id": "772da3ed-fe90-41f3-8b60-8f24cf18a60b",
   "metadata": {},
   "outputs": [],
   "source": [
    "t = torch.tensor([[[1, 2],\n",
    "...                    [3, 4]],\n",
    "...                   [[5, 6],\n",
    "...                    [7, 8]]])\n",
    ">>> torch.flatten(t)\n",
    "\n",
    "\n"
   ]
  },
  {
   "cell_type": "code",
   "execution_count": null,
   "id": "cf835313-5430-46f2-b223-72a12f75382a",
   "metadata": {},
   "outputs": [],
   "source": [
    "torch.flatten(t, start_dim=1)"
   ]
  },
  {
   "cell_type": "code",
   "execution_count": 200,
   "id": "5c488c43-4a47-47b2-9638-68fe1cbb2740",
   "metadata": {},
   "outputs": [
    {
     "data": {
      "text/plain": [
       "tensor([2., 4., 6.])"
      ]
     },
     "execution_count": 200,
     "metadata": {},
     "output_type": "execute_result"
    }
   ],
   "source": [
    "torch.flatten(t, end_dim=-1)"
   ]
  },
  {
   "cell_type": "code",
   "execution_count": 201,
   "id": "f7ae96cc-d3dc-498b-ab7f-e1cd0ea33f83",
   "metadata": {},
   "outputs": [],
   "source": [
    "torch.manual_seed(123)\n",
    "x = torch.randn(1,10)"
   ]
  },
  {
   "cell_type": "code",
   "execution_count": 202,
   "id": "4082abc0-d09f-4af8-97cb-2d5ba3197fe0",
   "metadata": {},
   "outputs": [
    {
     "data": {
      "text/plain": [
       "tensor([[-0.11146711558103561401,  0.12036294490098953247,\n",
       "         -0.36963450908660888672, -0.24041797220706939697,\n",
       "         -1.19692432880401611328,  0.20926935970783233643,\n",
       "         -0.97235500812530517578, -0.75504547357559204102,\n",
       "          0.32390275597572326660, -0.10852263122797012329]])"
      ]
     },
     "execution_count": 202,
     "metadata": {},
     "output_type": "execute_result"
    }
   ],
   "source": [
    "x"
   ]
  },
  {
   "cell_type": "code",
   "execution_count": 203,
   "id": "f645f548-1709-47a6-8e98-61c77052e756",
   "metadata": {},
   "outputs": [
    {
     "data": {
      "text/plain": [
       "2.0"
      ]
     },
     "execution_count": 203,
     "metadata": {},
     "output_type": "execute_result"
    }
   ],
   "source": [
    "2e-5 *100000"
   ]
  },
  {
   "cell_type": "code",
   "execution_count": 204,
   "id": "258fa29e-9030-43f6-813d-d32bfe4124c2",
   "metadata": {},
   "outputs": [
    {
     "data": {
      "text/plain": [
       "2.0"
      ]
     },
     "execution_count": 204,
     "metadata": {},
     "output_type": "execute_result"
    }
   ],
   "source": [
    "0.00002 * 100000"
   ]
  },
  {
   "cell_type": "code",
   "execution_count": 205,
   "id": "55ad6cb1-d09d-49b5-b9d8-10d1c4a71e6d",
   "metadata": {},
   "outputs": [
    {
     "data": {
      "text/plain": [
       "<torch.utils.data.dataset.Dataset at 0x21ccf809fd0>"
      ]
     },
     "execution_count": 205,
     "metadata": {},
     "output_type": "execute_result"
    }
   ],
   "source": [
    "torch.utils.data.Dataset()"
   ]
  },
  {
   "cell_type": "code",
   "execution_count": null,
   "id": "8773b9d5-f2a4-4c13-acde-7372ffea3ac7",
   "metadata": {},
   "outputs": [],
   "source": []
  },
  {
   "cell_type": "code",
   "execution_count": null,
   "id": "d1b36384-8085-41d5-8b05-ea8c4c02f8ba",
   "metadata": {},
   "outputs": [],
   "source": []
  },
  {
   "cell_type": "code",
   "execution_count": null,
   "id": "6581d59a-2fb1-481d-8760-9a86141b3c04",
   "metadata": {},
   "outputs": [],
   "source": []
  },
  {
   "cell_type": "code",
   "execution_count": null,
   "id": "227bf0d9-7676-433f-b2b2-1a6f62e4b9b3",
   "metadata": {},
   "outputs": [],
   "source": []
  },
  {
   "cell_type": "code",
   "execution_count": null,
   "id": "0ba9559a-af52-4fd1-8d55-c79a3ffbe980",
   "metadata": {},
   "outputs": [],
   "source": []
  },
  {
   "cell_type": "code",
   "execution_count": null,
   "id": "1c0bc241-8660-41ba-ac28-e08d3f4952c5",
   "metadata": {},
   "outputs": [],
   "source": []
  },
  {
   "cell_type": "code",
   "execution_count": null,
   "id": "dfdb9e4d-5577-4eb0-9781-cff09d3fe3fc",
   "metadata": {},
   "outputs": [],
   "source": []
  },
  {
   "cell_type": "code",
   "execution_count": null,
   "id": "82268dfb-f2b6-4c4e-962d-e13ed45893f9",
   "metadata": {},
   "outputs": [],
   "source": []
  },
  {
   "cell_type": "code",
   "execution_count": null,
   "id": "3425782a-8e7a-4665-bd2a-4683030aac21",
   "metadata": {},
   "outputs": [],
   "source": []
  },
  {
   "cell_type": "code",
   "execution_count": null,
   "id": "29b3730b-036a-4244-af36-b2054c80ca19",
   "metadata": {},
   "outputs": [],
   "source": []
  },
  {
   "cell_type": "code",
   "execution_count": null,
   "id": "fc7736c9-39d4-46b7-b596-53c118afbdf5",
   "metadata": {},
   "outputs": [],
   "source": []
  },
  {
   "cell_type": "code",
   "execution_count": null,
   "id": "876c5abc-5d66-4ede-a5f3-98b035897af4",
   "metadata": {},
   "outputs": [],
   "source": []
  },
  {
   "cell_type": "code",
   "execution_count": null,
   "id": "ab4d12a7-e62a-4ae7-8330-dec0ee267350",
   "metadata": {},
   "outputs": [],
   "source": []
  },
  {
   "cell_type": "code",
   "execution_count": null,
   "id": "ed31dc2e-afa3-43d7-bfeb-cab4d231421e",
   "metadata": {},
   "outputs": [],
   "source": []
  },
  {
   "cell_type": "code",
   "execution_count": null,
   "id": "cc72c02a-fa2c-44ee-b5e1-a237ed1e5d10",
   "metadata": {},
   "outputs": [],
   "source": []
  },
  {
   "cell_type": "code",
   "execution_count": null,
   "id": "2b890115-34bf-4dbc-8dd5-de5b447ec348",
   "metadata": {},
   "outputs": [],
   "source": []
  },
  {
   "cell_type": "code",
   "execution_count": null,
   "id": "44df09b6-7676-4522-ba00-8b6f1dce7afa",
   "metadata": {},
   "outputs": [],
   "source": []
  },
  {
   "cell_type": "code",
   "execution_count": null,
   "id": "c95070df-cc0e-410c-a9c2-1d15d2fe75d4",
   "metadata": {},
   "outputs": [],
   "source": []
  },
  {
   "cell_type": "code",
   "execution_count": null,
   "id": "e20aee17-dad2-4b48-9223-ea8eee7f2fcf",
   "metadata": {},
   "outputs": [],
   "source": []
  },
  {
   "cell_type": "code",
   "execution_count": null,
   "id": "4109e2a0-e2b1-4127-b816-5ae2be5de959",
   "metadata": {},
   "outputs": [],
   "source": []
  },
  {
   "cell_type": "code",
   "execution_count": null,
   "id": "1c7f496d-cfc2-444c-93ee-9547edb8c727",
   "metadata": {},
   "outputs": [],
   "source": []
  },
  {
   "cell_type": "code",
   "execution_count": null,
   "id": "c5d671fb-06ea-4256-b6a9-71b6ae04c4b8",
   "metadata": {},
   "outputs": [],
   "source": []
  },
  {
   "cell_type": "code",
   "execution_count": null,
   "id": "dc8397cb-3d7c-4696-a697-69f40e4625e8",
   "metadata": {},
   "outputs": [],
   "source": []
  }
 ],
 "metadata": {
  "kernelspec": {
   "display_name": "Python 3.9 (tensorflow-pytorch)",
   "language": "python",
   "name": "tf"
  },
  "language_info": {
   "codemirror_mode": {
    "name": "ipython",
    "version": 3
   },
   "file_extension": ".py",
   "mimetype": "text/x-python",
   "name": "python",
   "nbconvert_exporter": "python",
   "pygments_lexer": "ipython3",
   "version": "3.9.18"
  }
 },
 "nbformat": 4,
 "nbformat_minor": 5
}
