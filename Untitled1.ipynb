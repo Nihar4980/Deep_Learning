{
 "cells": [
  {
   "cell_type": "code",
   "execution_count": 1,
   "id": "63521181",
   "metadata": {},
   "outputs": [],
   "source": [
    "import torch"
   ]
  },
  {
   "cell_type": "code",
   "execution_count": 2,
   "id": "23e5f6e9",
   "metadata": {},
   "outputs": [
    {
     "data": {
      "text/plain": [
       "True"
      ]
     },
     "execution_count": 2,
     "metadata": {},
     "output_type": "execute_result"
    }
   ],
   "source": [
    "torch.cuda.is_available()"
   ]
  },
  {
   "cell_type": "code",
   "execution_count": 3,
   "id": "e55a7f40",
   "metadata": {},
   "outputs": [],
   "source": [
    "import tensorflow as tf"
   ]
  },
  {
   "cell_type": "code",
   "execution_count": 4,
   "id": "49661b3b",
   "metadata": {},
   "outputs": [
    {
     "name": "stdout",
     "output_type": "stream",
     "text": [
      "WARNING:tensorflow:From C:\\Users\\Nihar\\AppData\\Local\\Temp\\ipykernel_15576\\337460670.py:1: is_gpu_available (from tensorflow.python.framework.test_util) is deprecated and will be removed in a future version.\n",
      "Instructions for updating:\n",
      "Use `tf.config.list_physical_devices('GPU')` instead.\n"
     ]
    },
    {
     "data": {
      "text/plain": [
       "True"
      ]
     },
     "execution_count": 4,
     "metadata": {},
     "output_type": "execute_result"
    }
   ],
   "source": [
    "tf.test.is_gpu_available()"
   ]
  },
  {
   "cell_type": "code",
   "execution_count": 1,
   "id": "bf54984c",
   "metadata": {},
   "outputs": [],
   "source": [
    "import numpy as np"
   ]
  },
  {
   "cell_type": "code",
   "execution_count": 12,
   "id": "b55c8513",
   "metadata": {},
   "outputs": [],
   "source": [
    "a = np.random.randint(1,100,100).reshape(10,10)\n",
    "a = a.tolist()"
   ]
  },
  {
   "cell_type": "code",
   "execution_count": 10,
   "id": "9c10fcff",
   "metadata": {},
   "outputs": [],
   "source": [
    "from collection.Collection import Counter"
   ]
  },
  {
   "cell_type": "code",
   "execution_count": 16,
   "id": "9b119613",
   "metadata": {},
   "outputs": [],
   "source": [
    "a.sort(key = lambda x: x[1], reverse=True)"
   ]
  },
  {
   "cell_type": "code",
   "execution_count": 17,
   "id": "3ac59f04",
   "metadata": {},
   "outputs": [
    {
     "data": {
      "text/plain": [
       "[[14, 93, 24, 35, 40, 87, 1, 46, 12, 95],\n",
       " [67, 92, 29, 22, 44, 49, 54, 1, 5, 2],\n",
       " [93, 76, 38, 92, 51, 90, 20, 41, 54, 21],\n",
       " [65, 69, 99, 12, 82, 88, 89, 30, 56, 75],\n",
       " [71, 48, 63, 20, 50, 88, 31, 96, 26, 39],\n",
       " [58, 39, 40, 60, 36, 19, 58, 92, 63, 76],\n",
       " [34, 38, 41, 29, 14, 97, 14, 1, 55, 55],\n",
       " [23, 22, 78, 71, 50, 7, 69, 50, 18, 3],\n",
       " [12, 12, 16, 14, 5, 3, 37, 17, 80, 68],\n",
       " [18, 5, 84, 43, 7, 32, 83, 91, 46, 56]]"
      ]
     },
     "execution_count": 17,
     "metadata": {},
     "output_type": "execute_result"
    }
   ],
   "source": [
    "a"
   ]
  },
  {
   "cell_type": "code",
   "execution_count": null,
   "id": "6c2c8e62",
   "metadata": {},
   "outputs": [],
   "source": []
  }
 ],
 "metadata": {
  "kernelspec": {
   "display_name": "Python 3 (ipykernel)",
   "language": "python",
   "name": "python3"
  },
  "language_info": {
   "codemirror_mode": {
    "name": "ipython",
    "version": 3
   },
   "file_extension": ".py",
   "mimetype": "text/x-python",
   "name": "python",
   "nbconvert_exporter": "python",
   "pygments_lexer": "ipython3",
   "version": "3.11.5"
  }
 },
 "nbformat": 4,
 "nbformat_minor": 5
}
