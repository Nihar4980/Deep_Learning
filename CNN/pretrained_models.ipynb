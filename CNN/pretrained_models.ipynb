{
  "cells": [
    {
      "cell_type": "code",
      "execution_count": 1,
      "id": "5970d10f",
      "metadata": {
        "id": "5970d10f"
      },
      "outputs": [],
      "source": [
        "from tensorflow.keras.applications.resnet50 import ResNet50, preprocess_input, decode_predictions\n",
        "from tensorflow.keras.preprocessing import image\n",
        "import numpy as np"
      ]
    },
    {
      "cell_type": "code",
      "execution_count": 2,
      "id": "50490469",
      "metadata": {
        "colab": {
          "base_uri": "https://localhost:8080/"
        },
        "id": "50490469",
        "outputId": "5de4cefa-f1f5-4626-ff09-85911bfbf7c9"
      },
      "outputs": [
        {
          "output_type": "stream",
          "name": "stdout",
          "text": [
            "Downloading data from https://storage.googleapis.com/tensorflow/keras-applications/resnet/resnet50_weights_tf_dim_ordering_tf_kernels.h5\n",
            "102967424/102967424 [==============================] - 5s 0us/step\n"
          ]
        }
      ],
      "source": [
        "model = ResNet50(weights='imagenet')"
      ]
    },
    {
      "cell_type": "code",
      "execution_count": 3,
      "id": "3831d4f2",
      "metadata": {
        "id": "3831d4f2"
      },
      "outputs": [],
      "source": [
        "img = image.load_img('/content/dog.jpg',target_size=(224,224))\n",
        "x = image.img_to_array(img)\n",
        "x = np.expand_dims(x, axis=0)\n",
        "x = preprocess_input(x)"
      ]
    },
    {
      "cell_type": "code",
      "execution_count": 4,
      "id": "e7ab69d8",
      "metadata": {
        "colab": {
          "base_uri": "https://localhost:8080/"
        },
        "id": "e7ab69d8",
        "outputId": "f7da658c-5186-4cec-c605-b20ff73485b4"
      },
      "outputs": [
        {
          "output_type": "stream",
          "name": "stdout",
          "text": [
            "1/1 [==============================] - 2s 2s/step\n",
            "Downloading data from https://storage.googleapis.com/download.tensorflow.org/data/imagenet_class_index.json\n",
            "35363/35363 [==============================] - 0s 0us/step\n",
            "Predicted :  [('n02093256', 'Staffordshire_bullterrier', 0.57887167)]\n"
          ]
        }
      ],
      "source": [
        "preds = model.predict(x)\n",
        "print('Predicted : ', decode_predictions(preds, top=1)[0])"
      ]
    },
    {
      "cell_type": "code",
      "execution_count": null,
      "id": "abc02405",
      "metadata": {
        "id": "abc02405"
      },
      "outputs": [],
      "source": [
        "# Staffordshire_bullterrier: bread of dog\n"
      ]
    }
  ],
  "metadata": {
    "kernelspec": {
      "display_name": "python 3.9(tensorflow)",
      "language": "python",
      "name": "tensorflow"
    },
    "language_info": {
      "codemirror_mode": {
        "name": "ipython",
        "version": 3
      },
      "file_extension": ".py",
      "mimetype": "text/x-python",
      "name": "python",
      "nbconvert_exporter": "python",
      "pygments_lexer": "ipython3",
      "version": "3.9.12"
    },
    "colab": {
      "provenance": []
    }
  },
  "nbformat": 4,
  "nbformat_minor": 5
}