{
 "cells": [
  {
   "cell_type": "code",
   "execution_count": 1,
   "id": "911dd64b",
   "metadata": {},
   "outputs": [],
   "source": [
    "import numpy as np\n",
    "def sphere(x):\n",
    "    return np.sum(np.square(x))\n",
    "\n"
   ]
  },
  {
   "cell_type": "code",
   "execution_count": null,
   "id": "4f28404c",
   "metadata": {},
   "outputs": [],
   "source": [
    "x = np.(14)"
   ]
  },
  {
   "cell_type": "code",
   "execution_count": 2,
   "id": "1d18d7bd",
   "metadata": {},
   "outputs": [],
   "source": [
    "import random\n",
    "\n",
    "def roulette_wheel_selection(population, fitness_values):\n",
    "    \"\"\"\n",
    "    Perform roulette wheel selection on a population based on fitness values.\n",
    "    \n",
    "    Parameters:\n",
    "        population (list): A list of individuals.\n",
    "        fitness_values (list): A list of fitness values corresponding to each individual.\n",
    "        \n",
    "    Returns:\n",
    "        list: Selected individuals.\n",
    "    \"\"\"\n",
    "    total_fitness = sum(fitness_values)\n",
    "    probabilities = [fitness / total_fitness for fitness in fitness_values]\n",
    "\n",
    "    selected_individuals = []\n",
    "    for _ in range(len(population)):\n",
    "        # Spin the roulette wheel\n",
    "        pointer = np.random.uniform(0, 1)\n",
    "        \n",
    "        # Find the individual the pointer lands on\n",
    "        cumulative_prob = 0\n",
    "        for i, prob in enumerate(probabilities):\n",
    "            cumulative_prob += prob\n",
    "            if cumulative_prob >= pointer:\n",
    "                selected_individuals.append(population[i])\n",
    "                break\n",
    "    \n",
    "    return selected_individuals"
   ]
  },
  {
   "cell_type": "code",
   "execution_count": 3,
   "id": "02fad899",
   "metadata": {},
   "outputs": [
    {
     "data": {
      "text/plain": [
       "array([[ 0.5,  1. ],\n",
       "       [-1. ,  2. ],\n",
       "       [ 1. , -2. ]])"
      ]
     },
     "execution_count": 3,
     "metadata": {},
     "output_type": "execute_result"
    }
   ],
   "source": [
    "x = np.array([0.5, 1, -1, 2, 1, -2]).reshape(3,2)\n",
    "x"
   ]
  },
  {
   "cell_type": "code",
   "execution_count": 4,
   "id": "048a5294",
   "metadata": {},
   "outputs": [],
   "source": [
    "candidate = 3\n",
    "variable = 2\n",
    "upper = 5.12\n",
    "lower = -5.12\n",
    "r = 0.9"
   ]
  },
  {
   "cell_type": "code",
   "execution_count": 5,
   "id": "01bfac8e",
   "metadata": {},
   "outputs": [
    {
     "data": {
      "text/plain": [
       "[1.25, 5.0, 5.0]"
      ]
     },
     "execution_count": 5,
     "metadata": {},
     "output_type": "execute_result"
    }
   ],
   "source": [
    "objective = [sphere(x[j]) for j in range(candidate)]\n",
    "objective"
   ]
  },
  {
   "cell_type": "code",
   "execution_count": 6,
   "id": "ea113239",
   "metadata": {},
   "outputs": [
    {
     "data": {
      "text/plain": [
       "[0.8, 0.2, 0.2]"
      ]
     },
     "execution_count": 6,
     "metadata": {},
     "output_type": "execute_result"
    }
   ],
   "source": [
    "inverse_obj = [i**-1 for i in objective]\n",
    "inverse_obj"
   ]
  },
  {
   "cell_type": "code",
   "execution_count": 7,
   "id": "7e5965d6",
   "metadata": {},
   "outputs": [
    {
     "data": {
      "text/plain": [
       "[0.6666666666666667, 0.16666666666666669, 0.16666666666666669]"
      ]
     },
     "execution_count": 7,
     "metadata": {},
     "output_type": "execute_result"
    }
   ],
   "source": [
    "probability = [i/np.sum(inverse_obj) for i in inverse_obj]\n",
    "probability"
   ]
  },
  {
   "cell_type": "code",
   "execution_count": 8,
   "id": "376ee438",
   "metadata": {},
   "outputs": [
    {
     "data": {
      "text/plain": [
       "10.24"
      ]
     },
     "execution_count": 8,
     "metadata": {},
     "output_type": "execute_result"
    }
   ],
   "source": [
    "ranges = upper-lower\n",
    "ranges"
   ]
  },
  {
   "cell_type": "code",
   "execution_count": 9,
   "id": "afa3948c",
   "metadata": {},
   "outputs": [
    {
     "data": {
      "text/plain": [
       "array([[ 1. , -2. ],\n",
       "       [ 0.5,  1. ],\n",
       "       [ 0.5,  1. ]])"
      ]
     },
     "execution_count": 9,
     "metadata": {},
     "output_type": "execute_result"
    }
   ],
   "source": [
    "x1 = np.array(roulette_wheel_selection(x, probability))\n",
    "x1"
   ]
  },
  {
   "cell_type": "code",
   "execution_count": 10,
   "id": "9c57d9a2",
   "metadata": {},
   "outputs": [
    {
     "data": {
      "text/plain": [
       "9.216000000000001"
      ]
     },
     "execution_count": 10,
     "metadata": {},
     "output_type": "execute_result"
    }
   ],
   "source": [
    "new_range = ranges * r\n",
    "new_range"
   ]
  },
  {
   "cell_type": "code",
   "execution_count": 11,
   "id": "593fec61",
   "metadata": {},
   "outputs": [
    {
     "name": "stdout",
     "output_type": "stream",
     "text": [
      "-4.6080000000000005 4.6080000000000005\n"
     ]
    }
   ],
   "source": [
    "new_lower, new_upper = -new_range/2, new_range/2\n",
    "print(new_lower, new_upper)"
   ]
  },
  {
   "cell_type": "code",
   "execution_count": 12,
   "id": "ea6bceb3",
   "metadata": {},
   "outputs": [
    {
     "data": {
      "text/plain": [
       "array([[-3.608,  5.608],\n",
       "       [-6.608,  2.608],\n",
       "       [-4.108,  5.108],\n",
       "       [-3.608,  5.608],\n",
       "       [-4.108,  5.108],\n",
       "       [-3.608,  5.608]])"
      ]
     },
     "execution_count": 12,
     "metadata": {},
     "output_type": "execute_result"
    }
   ],
   "source": [
    "x2 = np.array([np.array([j+new_lower, j+new_upper]) for i in x1 for j in i])\n",
    "x2"
   ]
  },
  {
   "cell_type": "code",
   "execution_count": 13,
   "id": "34f7da10",
   "metadata": {},
   "outputs": [],
   "source": [
    "x2 =  np.where( x2 < new_lower, -5.12, x2)\n",
    "x2 =  np.where( x2 > new_upper, 5.12, x2)"
   ]
  },
  {
   "cell_type": "code",
   "execution_count": 14,
   "id": "ccd4e533",
   "metadata": {},
   "outputs": [
    {
     "data": {
      "text/plain": [
       "array([[-3.608,  5.12 ],\n",
       "       [-5.12 ,  2.608],\n",
       "       [-4.108,  5.12 ],\n",
       "       [-3.608,  5.12 ],\n",
       "       [-4.108,  5.12 ],\n",
       "       [-3.608,  5.12 ]])"
      ]
     },
     "execution_count": 14,
     "metadata": {},
     "output_type": "execute_result"
    }
   ],
   "source": [
    "x2"
   ]
  },
  {
   "cell_type": "code",
   "execution_count": 15,
   "id": "b690520b",
   "metadata": {},
   "outputs": [
    {
     "data": {
      "text/plain": [
       "array([[ 2.39272946, -0.53391139],\n",
       "       [ 0.14625146,  0.92942458],\n",
       "       [-0.34066398,  0.56656515]])"
      ]
     },
     "execution_count": 15,
     "metadata": {},
     "output_type": "execute_result"
    }
   ],
   "source": [
    "x3 = []\n",
    "for i in range(len(x2)):\n",
    "    u,v = x2[i]\n",
    "    x3.append(np.random.uniform(u,v))\n",
    "x3 = np.array(x3).reshape(3,2)\n",
    "x3"
   ]
  },
  {
   "cell_type": "code",
   "execution_count": 16,
   "id": "eeb7ae4b",
   "metadata": {},
   "outputs": [],
   "source": [
    "import numpy as np\n",
    "from datetime import datetime"
   ]
  },
  {
   "cell_type": "code",
   "execution_count": 17,
   "id": "a3cb3338",
   "metadata": {},
   "outputs": [],
   "source": [
    "max_iter = 20\n",
    "ranges = upper-lower\n",
    "\n",
    "start=datetime.now()"
   ]
  },
  {
   "cell_type": "code",
   "execution_count": 18,
   "id": "f45d801d",
   "metadata": {},
   "outputs": [],
   "source": [
    "#x = np.random.rand(3,2)*(5.12+5.12)-5.12\n",
    "import numpy as np\n",
    "x = np.array([0.5, 1, -1, 2, 1, -2]).reshape(3,2)\n",
    "\n",
    "candidate = 3\n",
    "variable = 2\n",
    "upper = 5.12\n",
    "lower = -5.12\n",
    "r = 0.9\n",
    "\n",
    "\n",
    "ranges = upper-lower\n",
    "obj = []\n",
    "X = []"
   ]
  },
  {
   "cell_type": "code",
   "execution_count": 19,
   "id": "f8376d66",
   "metadata": {},
   "outputs": [
    {
     "name": "stdout",
     "output_type": "stream",
     "text": [
      "[[-1.   2. ]\n",
      " [ 1.  -2. ]\n",
      " [ 0.5  1. ]]\n",
      "********************\n",
      "********************\n",
      "9.216000000000001\n",
      "[[-5.608  3.608]\n",
      " [-2.608  6.608]\n",
      " [-3.608  5.608]\n",
      " [-6.608  2.608]\n",
      " [-4.108  5.108]\n",
      " [-3.608  5.608]]\n",
      "[[-5.12   3.608]\n",
      " [-2.608  5.12 ]\n",
      " [-3.608  5.12 ]\n",
      " [-5.12   2.608]\n",
      " [-4.108  5.12 ]\n",
      " [-3.608  5.12 ]]\n",
      "[[-1.61356452  4.07653185]\n",
      " [-1.08254892  0.46298326]\n",
      " [-0.40521759 -3.09795686]]\n",
      "********************\n",
      "[[-1.08254892  0.46298326]\n",
      " [-1.08254892  0.46298326]\n",
      " [-1.08254892  0.46298326]]\n",
      "********************\n",
      "********************\n",
      "8.294400000000001\n",
      "[[-5.22974892  3.06465108]\n",
      " [-3.68421674  4.61018326]\n",
      " [-5.22974892  3.06465108]\n",
      " [-3.68421674  4.61018326]\n",
      " [-5.22974892  3.06465108]\n",
      " [-3.68421674  4.61018326]]\n",
      "[[-5.12        3.06465108]\n",
      " [-3.68421674  5.12      ]\n",
      " [-5.12        3.06465108]\n",
      " [-3.68421674  5.12      ]\n",
      " [-5.12        3.06465108]\n",
      " [-3.68421674  5.12      ]]\n",
      "[[ 0.89211382 -3.08698989]\n",
      " [-2.42940643  2.65252181]\n",
      " [-0.80529395  1.60775978]]\n",
      "********************\n",
      "[[-0.80529395  1.60775978]\n",
      " [ 0.89211382 -3.08698989]\n",
      " [ 0.89211382 -3.08698989]]\n",
      "********************\n",
      "********************\n",
      "7.464960000000001\n",
      "[[-4.53777395  2.92718605]\n",
      " [-2.12472022  5.34023978]\n",
      " [-2.84036618  4.62459382]\n",
      " [-6.81946989  0.64549011]\n",
      " [-2.84036618  4.62459382]\n",
      " [-6.81946989  0.64549011]]\n",
      "[[-5.12        2.92718605]\n",
      " [-2.12472022  5.12      ]\n",
      " [-2.84036618  5.12      ]\n",
      " [-5.12        0.64549011]\n",
      " [-2.84036618  5.12      ]\n",
      " [-5.12        0.64549011]]\n",
      "[[ 1.14979039  0.4766448 ]\n",
      " [-1.75961045  0.00689771]\n",
      " [ 4.20167658 -0.30504404]]\n",
      "********************\n",
      "[[1.14979039 0.4766448 ]\n",
      " [1.14979039 0.4766448 ]\n",
      " [1.14979039 0.4766448 ]]\n",
      "********************\n",
      "********************\n",
      "6.718464000000002\n",
      "[[-2.20944161  4.50902239]\n",
      " [-2.8825872   3.8358768 ]\n",
      " [-2.20944161  4.50902239]\n",
      " [-2.8825872   3.8358768 ]\n",
      " [-2.20944161  4.50902239]\n",
      " [-2.8825872   3.8358768 ]]\n",
      "[[-2.20944161  5.12      ]\n",
      " [-2.8825872   5.12      ]\n",
      " [-2.20944161  5.12      ]\n",
      " [-2.8825872   5.12      ]\n",
      " [-2.20944161  5.12      ]\n",
      " [-2.8825872   5.12      ]]\n",
      "[[-1.39489655  2.47295337]\n",
      " [ 3.35344018  2.12939716]\n",
      " [ 2.82299927 -0.10220071]]\n",
      "********************\n",
      "[[-1.39489655  2.47295337]\n",
      " [-1.39489655  2.47295337]\n",
      " [ 2.82299927 -0.10220071]]\n",
      "********************\n",
      "********************\n",
      "6.046617600000002\n",
      "[[-4.41820535  1.62841225]\n",
      " [-0.55035543  5.49626217]\n",
      " [-4.41820535  1.62841225]\n",
      " [-0.55035543  5.49626217]\n",
      " [-0.20030953  5.84630807]\n",
      " [-3.12550951  2.92110809]]\n",
      "[[-5.12        1.62841225]\n",
      " [-0.55035543  5.12      ]\n",
      " [-5.12        1.62841225]\n",
      " [-0.55035543  5.12      ]\n",
      " [-0.20030953  5.12      ]\n",
      " [-5.12        2.92110809]]\n",
      "[[-1.40018162 -0.03102279]\n",
      " [-4.96905393  3.81763463]\n",
      " [ 3.62322693 -1.45749534]]\n",
      "********************\n",
      "[[-1.40018162 -0.03102279]\n",
      " [-1.40018162 -0.03102279]\n",
      " [-1.40018162 -0.03102279]]\n",
      "********************\n",
      "********************\n",
      "5.441955840000002\n",
      "[[-4.12115954  1.3207963 ]\n",
      " [-2.75200071  2.68995513]\n",
      " [-4.12115954  1.3207963 ]\n",
      " [-2.75200071  2.68995513]\n",
      " [-4.12115954  1.3207963 ]\n",
      " [-2.75200071  2.68995513]]\n",
      "[[-5.12        1.3207963 ]\n",
      " [-5.12        2.68995513]\n",
      " [-5.12        1.3207963 ]\n",
      " [-5.12        2.68995513]\n",
      " [-5.12        1.3207963 ]\n",
      " [-5.12        2.68995513]]\n",
      "[[ 0.65888742 -1.57984554]\n",
      " [-0.7727407   0.74984516]\n",
      " [ 0.98402815 -0.82309075]]\n",
      "********************\n",
      "[[-0.7727407   0.74984516]\n",
      " [-0.7727407   0.74984516]\n",
      " [ 0.98402815 -0.82309075]]\n",
      "********************\n",
      "********************\n",
      "4.897760256000002\n",
      "[[-3.22162083  1.67613943]\n",
      " [-1.69903497  3.19872529]\n",
      " [-3.22162083  1.67613943]\n",
      " [-1.69903497  3.19872529]\n",
      " [-1.46485198  3.43290827]\n",
      " [-3.27197088  1.62578937]]\n",
      "[[-5.12        1.67613943]\n",
      " [-1.69903497  5.12      ]\n",
      " [-5.12        1.67613943]\n",
      " [-1.69903497  5.12      ]\n",
      " [-1.46485198  5.12      ]\n",
      " [-5.12        1.62578937]]\n",
      "[[-3.74503844 -1.19262125]\n",
      " [-3.57454175 -0.30829392]\n",
      " [ 1.75859787 -1.59024346]]\n",
      "********************\n",
      "[[ 1.75859787 -1.59024346]\n",
      " [-3.74503844 -1.19262125]\n",
      " [ 1.75859787 -1.59024346]]\n",
      "********************\n",
      "********************\n",
      "4.407984230400002\n",
      "[[-0.44539424  3.96258999]\n",
      " [-3.79423557  0.61374866]\n",
      " [-5.94903055 -1.54104632]\n",
      " [-3.39661336  1.01137087]\n",
      " [-0.44539424  3.96258999]\n",
      " [-3.79423557  0.61374866]]\n",
      "[[-0.44539424  5.12      ]\n",
      " [-5.12        0.61374866]\n",
      " [-5.12       -1.54104632]\n",
      " [-5.12        1.01137087]\n",
      " [-0.44539424  5.12      ]\n",
      " [-5.12        0.61374866]]\n",
      "[[-0.02474624 -1.99218468]\n",
      " [-3.002294    0.45694993]\n",
      " [ 4.45468781 -1.83799988]]\n",
      "********************\n",
      "[[-3.002294    0.45694993]\n",
      " [-0.02474624 -1.99218468]\n",
      " [-3.002294    0.45694993]]\n",
      "********************\n",
      "********************\n",
      "3.967185807360002\n",
      "[[-4.9858869  -1.01870109]\n",
      " [-1.52664298  2.44054283]\n",
      " [-2.00833914  1.95884667]\n",
      " [-3.97577758 -0.00859177]\n",
      " [-4.9858869  -1.01870109]\n",
      " [-1.52664298  2.44054283]]\n",
      "[[-5.12       -1.01870109]\n",
      " [-1.52664298  5.12      ]\n",
      " [-5.12        1.95884667]\n",
      " [-5.12       -0.00859177]\n",
      " [-5.12       -1.01870109]\n",
      " [-1.52664298  5.12      ]]\n",
      "[[-4.70389642  2.08206883]\n",
      " [-0.95828496 -4.54557972]\n",
      " [-3.52574845  1.81160125]]\n",
      "********************\n",
      "[[-4.70389642  2.08206883]\n",
      " [-3.52574845  1.81160125]\n",
      " [-0.95828496 -4.54557972]]\n",
      "********************\n",
      "********************\n",
      "3.570467226624002\n",
      "[[-6.48913004 -2.91866281]\n",
      " [ 0.29683522  3.86730244]\n",
      " [-5.31098206 -1.74051484]\n",
      " [ 0.02636764  3.59683486]\n",
      " [-2.74351858  0.82694865]\n",
      " [-6.33081333 -2.7603461 ]]\n",
      "[[-5.12       -5.12      ]\n",
      " [ 0.29683522  5.12      ]\n",
      " [-5.12       -1.74051484]\n",
      " [ 0.02636764  5.12      ]\n",
      " [-5.12        0.82694865]\n",
      " [-5.12       -5.12      ]]\n",
      "[[-5.12        0.85109408]\n",
      " [-2.65103528  2.65203565]\n",
      " [-0.67698991 -5.12      ]]\n",
      "********************\n"
     ]
    }
   ],
   "source": [
    "\n",
    "for i in range(10):\n",
    "    objective = [sphere(x[j]) for j in range(candidate)]\n",
    "    inverse_obj = [i**-1 for i in objective]\n",
    "    \n",
    "    probability = [i/np.sum(inverse_obj) for i in inverse_obj]\n",
    "    \n",
    "    x1 = np.array(roulette_wheel_selection(x, probability))\n",
    "    print(x1)\n",
    "    print('*'*20)\n",
    "    print('*'*20)\n",
    "    range_new = ranges * r\n",
    "    print(range_new)\n",
    "    \n",
    "    new_lower, new_upper = -range_new/2, range_new/2\n",
    "    x2 = np.array([np.array([j+new_lower, j+new_upper]) for i in x1 for j in i])\n",
    "    print(x2)\n",
    "    x2 = np.where( x2 < new_lower, -5.12, x2)\n",
    "    x2 = np.where( x2 > new_upper, 5.12, x2)\n",
    "    print(x2)\n",
    "    x3 = []\n",
    "    for i in range(len(x2)):\n",
    "        u,v = x2[i]\n",
    "        x3.append(np.random.uniform(u,v))\n",
    "    x3 = np.array(x3).reshape(3,2)\n",
    "    print(x3)\n",
    "    \n",
    "    print('*'*20)\n",
    "    obj.append(objective)\n",
    "    X.append(x3)\n",
    "    x = x3\n",
    "    ranges = range_new\n",
    "    \n",
    "    \n",
    "    "
   ]
  },
  {
   "cell_type": "code",
   "execution_count": 20,
   "id": "de855106",
   "metadata": {},
   "outputs": [
    {
     "data": {
      "text/plain": [
       "array([[ 0.49995732,  0.50004268],\n",
       "       [ 0.99995732,  1.00004268],\n",
       "       [-1.00004268, -0.99995732],\n",
       "       [ 1.99995732,  2.00004268],\n",
       "       [-1.00004268, -0.99995732],\n",
       "       [ 1.99995732,  2.00004268]])"
      ]
     },
     "execution_count": 20,
     "metadata": {},
     "output_type": "execute_result"
    }
   ],
   "source": [
    "a = np.array([[ 0.49995732,0.50004268],\n",
    " [ 0.99995732 , 1.00004268],\n",
    " [-1.00004268 ,-0.99995732],\n",
    " [ 1.99995732  ,2.00004268],\n",
    " [-1.00004268 ,-0.99995732],\n",
    " [ 1.99995732  ,2.00004268]])\n",
    "a"
   ]
  },
  {
   "cell_type": "code",
   "execution_count": 21,
   "id": "1c89c4b6",
   "metadata": {},
   "outputs": [],
   "source": [
    "a = np.where( a < new_lower, -5.12, a)\n",
    "a = np.where( a > new_upper, 5.12, a)"
   ]
  },
  {
   "cell_type": "code",
   "execution_count": 22,
   "id": "4806d613",
   "metadata": {},
   "outputs": [
    {
     "data": {
      "text/plain": [
       "-1.785233613312001"
      ]
     },
     "execution_count": 22,
     "metadata": {},
     "output_type": "execute_result"
    }
   ],
   "source": [
    "new_lower"
   ]
  },
  {
   "cell_type": "code",
   "execution_count": 23,
   "id": "98458511",
   "metadata": {},
   "outputs": [
    {
     "data": {
      "text/plain": [
       "array([[ 0.49995732,  0.50004268],\n",
       "       [ 0.99995732,  1.00004268],\n",
       "       [-1.00004268, -0.99995732],\n",
       "       [ 5.12      ,  5.12      ],\n",
       "       [-1.00004268, -0.99995732],\n",
       "       [ 5.12      ,  5.12      ]])"
      ]
     },
     "execution_count": 23,
     "metadata": {},
     "output_type": "execute_result"
    }
   ],
   "source": [
    "a"
   ]
  },
  {
   "cell_type": "code",
   "execution_count": null,
   "id": "56d6533a",
   "metadata": {},
   "outputs": [],
   "source": []
  },
  {
   "cell_type": "code",
   "execution_count": 24,
   "id": "2249dbdb",
   "metadata": {},
   "outputs": [
    {
     "data": {
      "text/plain": [
       "[[1.25, 5.0, 5.0],\n",
       " [19.22170234898518, 1.3862656714600354, 9.761538015792347],\n",
       " [10.325373646846518, 12.937887552295381, 3.233389852959216],\n",
       " [1.5492081970780625, 3.096276518872367, 17.747137920074163],\n",
       " [8.061234786535383, 15.77989331674872, 7.97976988401468],\n",
       " [1.9614709683899614, 39.265831098644334, 15.25206605229502],\n",
       " [2.930044575480962, 1.159395953016962, 1.645789779640498],\n",
       " [15.447658344782662, 12.872393854259478, 5.621540744202244],\n",
       " [3.969412155649906, 9.222572471364181, 23.222487017196126],\n",
       " [26.461652193693364, 21.580605034360012, 15.712801207205885]]"
      ]
     },
     "execution_count": 24,
     "metadata": {},
     "output_type": "execute_result"
    }
   ],
   "source": [
    "obj"
   ]
  },
  {
   "cell_type": "code",
   "execution_count": 25,
   "id": "5ffb87dc",
   "metadata": {},
   "outputs": [
    {
     "data": {
      "text/plain": [
       "[3.75,\n",
       " 10.123168678745854,\n",
       " 8.83221701736704,\n",
       " 7.46420754534153,\n",
       " 10.606965995766261,\n",
       " 18.82645603977644,\n",
       " 1.911743436046141,\n",
       " 11.313864314414793,\n",
       " 12.138157214736736,\n",
       " 21.25168614508642]"
      ]
     },
     "execution_count": 25,
     "metadata": {},
     "output_type": "execute_result"
    }
   ],
   "source": [
    "X = np.arange(1,11)\n",
    "obj = [np.mean(i) for i in obj]\n",
    "obj\n",
    "# objective = [sphere(x[j]) for j in range(candidate)]\n",
    "\n",
    "# inverse_obj = [i**-1 for i in objective]\n",
    "\n",
    "# probability = [i/np.sum(inverse_obj) for i in inverse_obj]\n",
    "\n",
    "# range_new = ranges * r\n",
    "\n",
    "# new_lower, new_upper = -new_range/2, new_range/2\n",
    "# x1 = np.array(roulette_wheel_selection(x, probability))\n",
    "# x2 = np.array([np.array([j+new_lower, j+new_upper]) for i in x1 for j in i])\n",
    "# x2 =  np.where( x2 < new_lower, new_lower, x2)\n",
    "# x2 =  np.where( x2 > new_upper, new_upper, x2)\n",
    "# x3 = []\n",
    "# for i in range(len(x2)):\n",
    "#     u,v = x2[i]\n",
    "#     x3.append(np.random.uniform(u,v))\n",
    "# x3 = np.array(x3).reshape(3,2)"
   ]
  },
  {
   "cell_type": "code",
   "execution_count": 26,
   "id": "2d29025d",
   "metadata": {},
   "outputs": [
    {
     "data": {
      "image/png": "[encoded data removed]",
      "text/plain": [
       "<Figure size 640x480 with 1 Axes>"
      ]
     },
     "metadata": {},
     "output_type": "display_data"
    }
   ],
   "source": [
    "import matplotlib.pyplot as plt\n",
    " # Plot each set of 3 points for Y\n",
    "plt.plot(X, obj, label=f'obj{i+1}')\n",
    "\n",
    "plt.xlabel('X')\n",
    "plt.ylabel('Y')\n",
    "plt.title('Graph with 3 points for each X')\n",
    "plt.legend()\n",
    "plt.grid(True)\n",
    "plt.show()"
   ]
  },
  {
   "cell_type": "code",
   "execution_count": 27,
   "id": "4ddde439",
   "metadata": {},
   "outputs": [
    {
     "data": {
      "text/plain": [
       "array([1, 2, 3, 4, 5, 6, 7, 8, 9])"
      ]
     },
     "execution_count": 27,
     "metadata": {},
     "output_type": "execute_result"
    }
   ],
   "source": [
    "X = np.arange(1,10)\n",
    "X"
   ]
  },
  {
   "cell_type": "code",
   "execution_count": 28,
   "id": "dba710de",
   "metadata": {},
   "outputs": [
    {
     "data": {
      "image/png": "[encoded data removed]",
      "text/plain": [
       "<Figure size 640x480 with 1 Axes>"
      ]
     },
     "metadata": {},
     "output_type": "display_data"
    }
   ],
   "source": [
    "import numpy as np\n",
    "\n",
    "def mish(x):\n",
    "    return x * np.tanh(np.log(1 + np.exp(x)))\n",
    "\n",
    "# Example usage\n",
    "x = np.linspace(-10, 10, 100)\n",
    "y = mish(x)\n",
    "\n",
    "# Plot the Mish function\n",
    "import matplotlib.pyplot as plt\n",
    "plt.plot(x, y)\n",
    "plt.title('Mish Activation Function')\n",
    "plt.xlabel('x')\n",
    "plt.ylabel('Mish(x)')\n",
    "plt.grid(True)\n",
    "plt.show()\n"
   ]
  },
  {
   "cell_type": "code",
   "execution_count": 29,
   "id": "4836446a",
   "metadata": {},
   "outputs": [
    {
     "data": {
      "text/plain": [
       "array([[1, 2, 3],\n",
       "       [4, 5, 6],\n",
       "       [7, 8, 9]])"
      ]
     },
     "execution_count": 29,
     "metadata": {},
     "output_type": "execute_result"
    }
   ],
   "source": [
    "import numpy as np\n",
    "m = np.arange(1,10).reshape(3,3)\n",
    "m"
   ]
  },
  {
   "cell_type": "code",
   "execution_count": 51,
   "id": "50133a59",
   "metadata": {},
   "outputs": [
    {
     "data": {
      "text/plain": [
       "array([1, 2, 0])"
      ]
     },
     "execution_count": 51,
     "metadata": {},
     "output_type": "execute_result"
    }
   ],
   "source": [
    "p = np.random.permutation(m.shape[0])\n",
    "p"
   ]
  },
  {
   "cell_type": "code",
   "execution_count": 59,
   "id": "0f3775b2",
   "metadata": {},
   "outputs": [
    {
     "data": {
      "text/plain": [
       "array([1, 2, 3])"
      ]
     },
     "execution_count": 59,
     "metadata": {},
     "output_type": "execute_result"
    }
   ],
   "source": [
    "np.roll(m[0],1)"
   ]
  },
  {
   "cell_type": "code",
   "execution_count": 60,
   "id": "4cc6cf25",
   "metadata": {},
   "outputs": [
    {
     "data": {
      "text/plain": [
       "array([4, 5, 6])"
      ]
     },
     "execution_count": 60,
     "metadata": {},
     "output_type": "execute_result"
    }
   ],
   "source": [
    "np.roll(m[1],1)"
   ]
  },
  {
   "cell_type": "code",
   "execution_count": 61,
   "id": "cdfc7c53",
   "metadata": {},
   "outputs": [
    {
     "data": {
      "text/plain": [
       "array([7, 8, 9])"
      ]
     },
     "execution_count": 61,
     "metadata": {},
     "output_type": "execute_result"
    }
   ],
   "source": [
    "np.roll(m[2],1)"
   ]
  },
  {
   "cell_type": "code",
   "execution_count": null,
   "id": "38025e8e",
   "metadata": {},
   "outputs": [],
   "source": []
  },
  {
   "cell_type": "code",
   "execution_count": 52,
   "id": "6f462c7d",
   "metadata": {},
   "outputs": [],
   "source": [
    "def circularMatrix(Matrix, shift):\n",
    "    for i, j in enumerate(shift):\n",
    "        Matrix[i] = np.roll(Matrix[i], shift[j])\n",
    "        #print(Matrix)\n",
    "    return Matrix\n",
    "        \n",
    "        "
   ]
  },
  {
   "cell_type": "code",
   "execution_count": 53,
   "id": "fca54b3a",
   "metadata": {},
   "outputs": [
    {
     "data": {
      "text/plain": [
       "array([[2, 3, 1],\n",
       "       [5, 6, 4],\n",
       "       [8, 9, 7]])"
      ]
     },
     "execution_count": 53,
     "metadata": {},
     "output_type": "execute_result"
    }
   ],
   "source": [
    "circularMatrix(m, p)"
   ]
  },
  {
   "cell_type": "code",
   "execution_count": 42,
   "id": "c9940f85",
   "metadata": {},
   "outputs": [
    {
     "name": "stdout",
     "output_type": "stream",
     "text": [
      "[1 2 3] 2\n",
      "[4 5 6] 1\n",
      "[7 8 9] 0\n"
     ]
    }
   ],
   "source": [
    "for i, j in zip(m,p):\n",
    "    print(i, j)"
   ]
  },
  {
   "cell_type": "code",
   "execution_count": 65,
   "id": "775075a9",
   "metadata": {},
   "outputs": [
    {
     "data": {
      "text/plain": [
       "array([9, 0, 1, 2, 3, 4, 5, 6, 7, 8])"
      ]
     },
     "execution_count": 65,
     "metadata": {},
     "output_type": "execute_result"
    }
   ],
   "source": [
    " x = np.arange(10)\n",
    ">>> np.roll(x, 1)"
   ]
  },
  {
   "cell_type": "code",
   "execution_count": 63,
   "id": "0338a479",
   "metadata": {},
   "outputs": [
    {
     "data": {
      "text/plain": [
       "array([0, 1, 2, 3, 4, 5, 6, 7, 8, 9])"
      ]
     },
     "execution_count": 63,
     "metadata": {},
     "output_type": "execute_result"
    }
   ],
   "source": [
    "x"
   ]
  },
  {
   "cell_type": "code",
   "execution_count": null,
   "id": "7195b4c0",
   "metadata": {},
   "outputs": [],
   "source": []
  }
 ],
 "metadata": {
  "kernelspec": {
   "display_name": "Python 3 (ipykernel)",
   "language": "python",
   "name": "python3"
  },
  "language_info": {
   "codemirror_mode": {
    "name": "ipython",
    "version": 3
   },
   "file_extension": ".py",
   "mimetype": "text/x-python",
   "name": "python",
   "nbconvert_exporter": "python",
   "pygments_lexer": "ipython3",
   "version": "3.11.5"
  }
 },
 "nbformat": 4,
 "nbformat_minor": 5
}
